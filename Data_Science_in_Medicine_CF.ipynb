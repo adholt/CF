{
  "nbformat": 4,
  "nbformat_minor": 0,
  "metadata": {
    "colab": {
      "name": "Data Science in Medicine CF.ipynb",
      "provenance": [],
      "collapsed_sections": [],
      "machine_shape": "hm"
    },
    "kernelspec": {
      "name": "python3",
      "display_name": "Python 3"
    },
    "language_info": {
      "name": "python"
    },
    "accelerator": "GPU"
  },
  "cells": [
    {
      "cell_type": "markdown",
      "source": [
        "Imports"
      ],
      "metadata": {
        "id": "UBNp2keX021C"
      }
    },
    {
      "cell_type": "code",
      "execution_count": null,
      "metadata": {
        "id": "bODFUP_9DW0f"
      },
      "outputs": [],
      "source": [
        "import numpy as np\n",
        "import nibabel as nib                                                     \n",
        "import matplotlib.pyplot as plt\n",
        "from skimage.util import montage \n",
        "from skimage.transform import rotate\n",
        "import seaborn as sns\n",
        "import tensorflow as tf\n",
        "from sklearn.preprocessing import MinMaxScaler\n",
        "from sklearn.model_selection import train_test_split\n",
        "from sklearn.metrics import classification_report\n",
        "import cv2\n",
        "import tarfile\n",
        "import pandas as pd\n",
        "import numpy as np\n",
        "import nibabel as nib\n",
        "import glob\n",
        "import matplotlib.pyplot as plt\n",
        "from tifffile import imsave\n",
        "from zipfile import ZipFile\n",
        "import nibabel as nib\n",
        "import os\n",
        "import random\n",
        "from tensorflow import keras\n",
        "import tensorflow as tf\n",
        "import datetime\n",
        "import tarfile\n",
        "\n",
        "import numpy as np\n",
        "import pandas as pd\n",
        "import matplotlib.pyplot as plt\n",
        "import tensorflow as tf\n",
        "from sklearn.model_selection import train_test_split\n",
        "from keras.models import Model, load_model\n",
        "from keras.layers import Input ,BatchNormalization , Activation \n",
        "from keras.layers.convolutional import Conv2D, UpSampling2D\n",
        "from keras.layers.pooling import MaxPooling2D\n",
        "from keras.layers.merge import concatenate\n",
        "from keras.callbacks import EarlyStopping, ModelCheckpoint\n",
        "from keras import optimizers \n",
        "from sklearn.model_selection import train_test_split\n",
        "import os\n",
        "import nibabel as nib\n",
        "import cv2 as cv\n",
        "import matplotlib.pyplot as plt\n",
        "from keras import backend as K\n",
        "import glob\n",
        "import skimage.io as io\n",
        "import skimage.color as color\n",
        "import random as r\n",
        "import math\n"
      ]
    },
    {
      "cell_type": "markdown",
      "source": [
        "Create Training Data"
      ],
      "metadata": {
        "id": "8I5odDsA06mo"
      }
    },
    {
      "cell_type": "code",
      "source": [
        "data = [i for i in os.listdir(\"brain_images/\") if \"BraTS2021_\" in i][:200]\n",
        "from tqdm import tqdm\n",
        "X = np.zeros((len(data),240, 240,155, 4),dtype='float32')\n",
        "y = np.zeros((len(data),240, 240, 155,1),dtype='float32')\n",
        "c = 0\n",
        "for file in tqdm(data):\n",
        "  path_file = \"brain_images/\"+file+\"/\"\n",
        "  flair = nib.load(path_file+file+\"_flair.nii.gz\").get_fdata()\n",
        "  t1 = nib.load(path_file+file+\"_t1.nii.gz\").get_fdata()\n",
        "  t1ce = nib.load(path_file+file+\"_t1ce.nii.gz\").get_fdata()\n",
        "  t2 = nib.load(path_file+file+\"_t2.nii.gz\").get_fdata()\n",
        "  seg = nib.load(path_file+file+\"_seg.nii.gz\").get_fdata()#\n",
        "  X[c,:,:,:,0] = flair\n",
        "  X[c,:,:,:,1] = t1\n",
        "  X[c,:,:,:,2] = t1ce\n",
        "  X[c,:,:,:,3] = t2\n",
        "  y[c,:,:,:,0] = seg\n",
        "  c+=1"
      ],
      "metadata": {
        "colab": {
          "base_uri": "https://localhost:8080/"
        },
        "id": "SiPKxCFoVg91",
        "outputId": "3eb49926-d36d-4810-f47b-2d68a59ffe1b"
      },
      "execution_count": null,
      "outputs": [
        {
          "output_type": "stream",
          "name": "stderr",
          "text": [
            "100%|██████████| 200/200 [02:35<00:00,  1.29it/s]\n"
          ]
        }
      ]
    },
    {
      "cell_type": "markdown",
      "source": [
        "Save Training Data"
      ],
      "metadata": {
        "id": "Fch2wdd409VP"
      }
    },
    {
      "cell_type": "code",
      "source": [
        "np.save(\"drive/MyDrive/BraTS/X\",X)\n",
        "np.save(\"drive/MyDrive/BraTS/y\",y)\n"
      ],
      "metadata": {
        "id": "KTCzDG3CY3di"
      },
      "execution_count": null,
      "outputs": []
    },
    {
      "cell_type": "markdown",
      "source": [
        "Load Training Data"
      ],
      "metadata": {
        "id": "VEJlzBGO1CpI"
      }
    },
    {
      "cell_type": "code",
      "source": [
        "X = np.load(\"drive/MyDrive/BraTS/X.npy\",mmap_mode=\"r\")[:100]\n",
        "y = np.load(\"drive/MyDrive/BraTS/y.npy\",mmap_mode=\"r\")[:100]\n",
        "maximum = np.amax(X)"
      ],
      "metadata": {
        "id": "9LMHnByAhPx-"
      },
      "execution_count": null,
      "outputs": []
    },
    {
      "cell_type": "markdown",
      "source": [
        "Institution Sharding"
      ],
      "metadata": {
        "id": "PUuwDy1rHVJr"
      }
    },
    {
      "cell_type": "code",
      "source": [
        "institutions = [0,5,10,15,20,30,40,50,70,100]\n",
        "\n",
        "ins_arrays_X = [X[institutions[i]:institutions[i+1]] for i in range(9)]\n",
        "ins_arrays_y = [y[institutions[i]:institutions[i+1]] for i in range(9)]\n",
        "for i in range(9):\n",
        "  print(ins_arrays_X[i].shape, ins_arrays_y[i].shape)"
      ],
      "metadata": {
        "colab": {
          "base_uri": "https://localhost:8080/"
        },
        "id": "I9TYpZyiHXio",
        "outputId": "340c036e-2ea6-4466-fe86-a8aee243e540"
      },
      "execution_count": null,
      "outputs": [
        {
          "output_type": "stream",
          "name": "stdout",
          "text": [
            "(5, 240, 240, 155, 4) (5, 240, 240, 155, 1)\n",
            "(5, 240, 240, 155, 4) (5, 240, 240, 155, 1)\n",
            "(5, 240, 240, 155, 4) (5, 240, 240, 155, 1)\n",
            "(5, 240, 240, 155, 4) (5, 240, 240, 155, 1)\n",
            "(10, 240, 240, 155, 4) (10, 240, 240, 155, 1)\n",
            "(10, 240, 240, 155, 4) (10, 240, 240, 155, 1)\n",
            "(10, 240, 240, 155, 4) (10, 240, 240, 155, 1)\n",
            "(20, 240, 240, 155, 4) (20, 240, 240, 155, 1)\n",
            "(30, 240, 240, 155, 4) (30, 240, 240, 155, 1)\n"
          ]
        }
      ]
    },
    {
      "cell_type": "code",
      "source": [
        "institutions_t = [0,4,8,12,16,24,32,40,56,80]#[0,5,10,20,30,45,65,90,120,155,200]\n",
        "weights = [(institutions_t[i+1]-institutions_t[i])/80 for i in range(9)]\n",
        "print(sum(weights),weights)"
      ],
      "metadata": {
        "colab": {
          "base_uri": "https://localhost:8080/"
        },
        "id": "ldOEjOiakhev",
        "outputId": "a5511cac-3e01-45fd-80bb-5545ea1ea718"
      },
      "execution_count": null,
      "outputs": [
        {
          "output_type": "stream",
          "name": "stdout",
          "text": [
            "1.0 [0.05, 0.05, 0.05, 0.05, 0.1, 0.1, 0.1, 0.2, 0.3]\n"
          ]
        }
      ]
    },
    {
      "cell_type": "code",
      "source": [
        "k=0\n",
        "ins_valid_split = [[k*(ins_arrays_X[i].shape[0]//5)+split for split in range(ins_arrays_X[i].shape[0]//5)] for i in range(9)]\n",
        "ins_train_split = [[u for u in range(ins_arrays_X[i].shape[0]) if u not in ins_valid_split[i]] for i in range(9)]\n",
        "print(ins_valid_split)\n",
        "print(ins_train_split)"
      ],
      "metadata": {
        "colab": {
          "base_uri": "https://localhost:8080/"
        },
        "id": "-gcV4oLHNzyC",
        "outputId": "52a83596-09a2-406f-ab4b-87a915ccd1bf"
      },
      "execution_count": null,
      "outputs": [
        {
          "output_type": "stream",
          "name": "stdout",
          "text": [
            "[[0], [0], [0], [0], [0, 1], [0, 1], [0, 1], [0, 1, 2, 3], [0, 1, 2, 3, 4, 5]]\n",
            "[[1, 2, 3, 4], [1, 2, 3, 4], [1, 2, 3, 4], [1, 2, 3, 4], [2, 3, 4, 5, 6, 7, 8, 9], [2, 3, 4, 5, 6, 7, 8, 9], [2, 3, 4, 5, 6, 7, 8, 9], [4, 5, 6, 7, 8, 9, 10, 11, 12, 13, 14, 15, 16, 17, 18, 19], [6, 7, 8, 9, 10, 11, 12, 13, 14, 15, 16, 17, 18, 19, 20, 21, 22, 23, 24, 25, 26, 27, 28, 29]]\n"
          ]
        }
      ]
    },
    {
      "cell_type": "code",
      "source": [
        "X_valid = []\n",
        "y_valid = []\n",
        "X_train = []\n",
        "y_train = []\n",
        "for ins in range(9):\n",
        "  for split in ins_valid_split[ins]:\n",
        "    for j in range(155):\n",
        "      X_valid.append(ins_arrays_X[ins][split,:,:,j])\n",
        "      y_valid.append(ins_arrays_y[ins][split,:,:,j])\n",
        "  for split in ins_train_split[ins]:\n",
        "    for j in range(155):\n",
        "      X_train.append(ins_arrays_X[ins][split,:,:,j])\n",
        "      y_train.append(ins_arrays_y[ins][split,:,:,j])\n",
        "X_valid = np.array(X_valid)\n",
        "y_valid = np.array(y_valid)\n",
        "X_train = np.array(X_train)\n",
        "y_train = np.array(y_train)\n",
        "\n",
        "print(X_train.shape,y_train.shape,X_valid.shape,y_valid.shape)\n"
      ],
      "metadata": {
        "colab": {
          "base_uri": "https://localhost:8080/"
        },
        "id": "VIyZE5I1PP60",
        "outputId": "ac97e2b9-fea2-4564-d4f5-1bcefd39b3a3"
      },
      "execution_count": null,
      "outputs": [
        {
          "output_type": "stream",
          "name": "stdout",
          "text": [
            "(12400, 240, 240, 4) (12400, 240, 240, 1) (3100, 240, 240, 4) (3100, 240, 240, 1)\n"
          ]
        }
      ]
    },
    {
      "cell_type": "markdown",
      "source": [
        "Create UNet"
      ],
      "metadata": {
        "id": "6FU468G-1F8p"
      }
    },
    {
      "cell_type": "code",
      "source": [
        "initializer=tf.random_normal_initializer(0., 0.02)\n",
        "\n",
        "tf.keras.mixed_precision.set_global_policy('float32')\n",
        "def Convolution(input_tensor,filters,dropout=False):\n",
        "    \n",
        "    x = Conv2D(filters=filters,kernel_size=(4, 4),padding = 'same',strides=(2, 2),kernel_initializer=initializer,use_bias=False)(input_tensor)\n",
        "    x = BatchNormalization()(x)\n",
        "    if dropout:\n",
        "      x=keras.layers.Dropout(0.5)(x)\n",
        "    x = tf.keras.layers.LeakyReLU()(x) \n",
        "    return x\n",
        "from keras.layers import Conv2DTranspose\n",
        "def ConvolutionTransposed(input_tensor,filters,dropout=False):\n",
        "    \n",
        "    x = Conv2DTranspose(filters=filters,kernel_size=(4, 4),padding = 'same',strides=(2, 2),kernel_initializer=initializer,use_bias=False)(input_tensor)\n",
        "    x = BatchNormalization()(x)\n",
        "    if dropout:\n",
        "      x=keras.layers.Dropout(0.5)(x)\n",
        "    x = tf.keras.layers.ReLU()(x) \n",
        "    return x\n",
        "def model(input_shape):\n",
        "    \n",
        "    inputs = Input((input_shape))\n",
        "    input=tf.keras.layers.ZeroPadding2D(padding=((8,8),(8,8)))(inputs)\n",
        "    print(input.shape)\n",
        "    conv_1 = Convolution(input,32)\n",
        "    \n",
        "    conv_2 = Convolution(conv_1,64)\n",
        "    \n",
        "    conv_3 = Convolution(conv_2,128,dropout=True)\n",
        "    \n",
        "    conv_4 = Convolution(conv_3,256,dropout=True)\n",
        "    \n",
        "    conv_5 = Convolution(conv_4,512,dropout=True)#\n",
        "\n",
        "    conv_6 = Convolution(conv_5,512,dropout=True)\n",
        "\n",
        "    conv_7 = Convolution(conv_6,512,dropout=True)\n",
        "\n",
        "    conv_8 = Convolution(conv_7,1024,dropout=True)\n",
        "\n",
        "    trans_7=ConvolutionTransposed(conv_8,512,dropout=True)\n",
        "\n",
        "    trans_6=ConvolutionTransposed(keras.layers.Concatenate()([trans_7,conv_7]),512,dropout=True)\n",
        "\n",
        "    trans_5=ConvolutionTransposed(keras.layers.Concatenate()([trans_6,conv_6]),512,dropout=True)\n",
        "\n",
        "    trans_4=ConvolutionTransposed(keras.layers.Concatenate()([trans_5,conv_5]),256,dropout=True)\n",
        "    trans_3=ConvolutionTransposed(keras.layers.Concatenate()([trans_4,conv_4]),128,dropout=True)\n",
        "\n",
        "    trans_2=ConvolutionTransposed(keras.layers.Concatenate()([trans_3,conv_3]),64,dropout=True)\n",
        "\n",
        "    trans_1=ConvolutionTransposed(keras.layers.Concatenate()([trans_2,conv_2]),32)\n",
        "\n",
        "    outputs = Conv2DTranspose(1,4, (2, 2), activation='sigmoid',padding=\"same\",dtype='float32')(keras.layers.Concatenate()([trans_1,conv_1]))[:,8:-8,8:-8,:]\n",
        "    print(outputs.shape)\n",
        "    model = Model(inputs=[inputs], outputs=[outputs]) \n",
        "    \n",
        "    return model\n",
        "#model = model(input_shape = (240,240,4))\n",
        "def dice_coef(y_true, y_pred, smooth=1.0):\n",
        "    y_true_f = K.flatten(y_true)\n",
        "    y_pred_f = K.flatten(y_pred)\n",
        "    intersection = K.sum(y_true_f * y_pred_f)\n",
        "    return (2. * intersection + smooth) / (K.sum(y_true_f) + K.sum(y_pred_f) + smooth)\n",
        "\n",
        "def dice_log(y_true,y_pred,smooth=1.0):\n",
        "    y_true_f = K.flatten(y_true)\n",
        "    y_pred_f = K.flatten(y_pred)\n",
        "    intersection = K.sum(y_true_f * y_pred_f)\n",
        "    return tf.math.log((K.sum(y_true_f) + K.sum(y_pred_f) + smooth))-tf.math.log((2. * intersection + smooth))\n",
        "#model = model(input_shape = (240,240,4))\n",
        "#model.compile(optimizer=tf.keras.optimizers.Adam(learning_rate=0.001), loss=dice_log)"
      ],
      "metadata": {
        "id": "IkVCynBMGBkw"
      },
      "execution_count": null,
      "outputs": []
    },
    {
      "cell_type": "markdown",
      "source": [
        "Centralised Model Training"
      ],
      "metadata": {
        "id": "kbmfO_WDfvYD"
      }
    },
    {
      "cell_type": "code",
      "source": [
        "EPOCHS = 300\n",
        "BATCH_SIZE=64\n",
        "scores_cl_e2 = []\n",
        "model1 = model(input_shape = (240,240,4))\n",
        "model1.compile(optimizer=tf.keras.optimizers.Adam(learning_rate=0.001), loss=dice_log)\n",
        "import gc\n",
        "from tqdm import tqdm\n",
        "with tf.device(\"GPU:0\"):\n",
        "  for epoch in range(EPOCHS):\n",
        "    print(\"Epoch \"+str(epoch+1))\n",
        "    for iteration in tqdm(range(len(X_train)//BATCH_SIZE)):\n",
        "      batch_indices = [random.randrange(0,len(X_train)) for i in range(BATCH_SIZE)]\n",
        "      model1.train_on_batch((X_train[batch_indices])/maximum,(y_train[batch_indices])/4)\n",
        "    result = np.empty((3100,240,240,1),dtype='float32')\n",
        "    for i in tqdm(range(20)):\n",
        "      result[i*155:(i+1)*155]=model1.predict(X_valid[i*155:(i+1)*155]/maximum)\n",
        "      gc.collect()\n",
        "    dice_score = dice_coef(y_valid/4,result)\n",
        "    scores_cl_e2.append(dice_score)\n",
        "    print(dice_score)\n",
        "    gc.collect()\n",
        "np.save(\"drive/MyDrive/BraTS/scores_cl_e2\",np.array(scores_cl_e2))\n",
        "  \n"
      ],
      "metadata": {
        "colab": {
          "base_uri": "https://localhost:8080/"
        },
        "id": "fof_KlLAfxMx",
        "outputId": "0b8d5e42-9dff-4569-d777-b67ec98f5488"
      },
      "execution_count": null,
      "outputs": [
        {
          "metadata": {
            "tags": null
          },
          "name": "stdout",
          "output_type": "stream",
          "text": [
            "(None, 256, 256, 4)\n",
            "(None, 240, 240, 1)\n",
            "Epoch 1\n"
          ]
        },
        {
          "metadata": {
            "tags": null
          },
          "name": "stderr",
          "output_type": "stream",
          "text": [
            "100%|██████████| 193/193 [01:41<00:00,  1.91it/s]\n",
            "100%|██████████| 20/20 [00:19<00:00,  1.04it/s]\n"
          ]
        },
        {
          "metadata": {
            "tags": null
          },
          "name": "stdout",
          "output_type": "stream",
          "text": [
            "tf.Tensor(0.03483042, shape=(), dtype=float32)\n",
            "Epoch 2\n"
          ]
        },
        {
          "metadata": {
            "tags": null
          },
          "name": "stderr",
          "output_type": "stream",
          "text": [
            "100%|██████████| 193/193 [01:40<00:00,  1.92it/s]\n",
            "100%|██████████| 20/20 [00:15<00:00,  1.25it/s]\n"
          ]
        },
        {
          "metadata": {
            "tags": null
          },
          "name": "stdout",
          "output_type": "stream",
          "text": [
            "tf.Tensor(0.4780043, shape=(), dtype=float32)\n",
            "Epoch 3\n"
          ]
        },
        {
          "metadata": {
            "tags": null
          },
          "name": "stderr",
          "output_type": "stream",
          "text": [
            "100%|██████████| 193/193 [01:40<00:00,  1.92it/s]\n",
            "100%|██████████| 20/20 [00:16<00:00,  1.25it/s]\n"
          ]
        },
        {
          "metadata": {
            "tags": null
          },
          "name": "stdout",
          "output_type": "stream",
          "text": [
            "tf.Tensor(0.57982385, shape=(), dtype=float32)\n",
            "Epoch 4\n"
          ]
        },
        {
          "metadata": {
            "tags": null
          },
          "name": "stderr",
          "output_type": "stream",
          "text": [
            "100%|██████████| 193/193 [01:40<00:00,  1.92it/s]\n",
            "100%|██████████| 20/20 [00:15<00:00,  1.25it/s]\n"
          ]
        },
        {
          "metadata": {
            "tags": null
          },
          "name": "stdout",
          "output_type": "stream",
          "text": [
            "tf.Tensor(0.59870994, shape=(), dtype=float32)\n",
            "Epoch 5\n"
          ]
        },
        {
          "metadata": {
            "tags": null
          },
          "name": "stderr",
          "output_type": "stream",
          "text": [
            "100%|██████████| 193/193 [01:40<00:00,  1.92it/s]\n",
            "100%|██████████| 20/20 [00:16<00:00,  1.25it/s]\n"
          ]
        },
        {
          "metadata": {
            "tags": null
          },
          "name": "stdout",
          "output_type": "stream",
          "text": [
            "tf.Tensor(0.61553025, shape=(), dtype=float32)\n",
            "Epoch 6\n"
          ]
        },
        {
          "metadata": {
            "tags": null
          },
          "name": "stderr",
          "output_type": "stream",
          "text": [
            "100%|██████████| 193/193 [01:40<00:00,  1.92it/s]\n",
            "100%|██████████| 20/20 [00:15<00:00,  1.25it/s]\n"
          ]
        },
        {
          "metadata": {
            "tags": null
          },
          "name": "stdout",
          "output_type": "stream",
          "text": [
            "tf.Tensor(0.59656036, shape=(), dtype=float32)\n",
            "Epoch 7\n"
          ]
        },
        {
          "metadata": {
            "tags": null
          },
          "name": "stderr",
          "output_type": "stream",
          "text": [
            "100%|██████████| 193/193 [01:40<00:00,  1.92it/s]\n",
            "100%|██████████| 20/20 [00:15<00:00,  1.26it/s]\n"
          ]
        },
        {
          "metadata": {
            "tags": null
          },
          "name": "stdout",
          "output_type": "stream",
          "text": [
            "tf.Tensor(0.6148685, shape=(), dtype=float32)\n",
            "Epoch 8\n"
          ]
        },
        {
          "metadata": {
            "tags": null
          },
          "name": "stderr",
          "output_type": "stream",
          "text": [
            "100%|██████████| 193/193 [01:40<00:00,  1.92it/s]\n",
            "100%|██████████| 20/20 [00:15<00:00,  1.25it/s]\n"
          ]
        },
        {
          "metadata": {
            "tags": null
          },
          "name": "stdout",
          "output_type": "stream",
          "text": [
            "tf.Tensor(0.623909, shape=(), dtype=float32)\n",
            "Epoch 9\n"
          ]
        },
        {
          "metadata": {
            "tags": null
          },
          "name": "stderr",
          "output_type": "stream",
          "text": [
            "100%|██████████| 193/193 [01:40<00:00,  1.92it/s]\n",
            "100%|██████████| 20/20 [00:15<00:00,  1.25it/s]\n"
          ]
        },
        {
          "metadata": {
            "tags": null
          },
          "name": "stdout",
          "output_type": "stream",
          "text": [
            "tf.Tensor(0.61970997, shape=(), dtype=float32)\n",
            "Epoch 10\n"
          ]
        },
        {
          "metadata": {
            "tags": null
          },
          "name": "stderr",
          "output_type": "stream",
          "text": [
            "100%|██████████| 193/193 [01:40<00:00,  1.92it/s]\n",
            "100%|██████████| 20/20 [00:15<00:00,  1.26it/s]\n"
          ]
        },
        {
          "metadata": {
            "tags": null
          },
          "name": "stdout",
          "output_type": "stream",
          "text": [
            "tf.Tensor(0.6247099, shape=(), dtype=float32)\n",
            "Epoch 11\n"
          ]
        },
        {
          "metadata": {
            "tags": null
          },
          "name": "stderr",
          "output_type": "stream",
          "text": [
            "100%|██████████| 193/193 [01:40<00:00,  1.92it/s]\n",
            "100%|██████████| 20/20 [00:15<00:00,  1.25it/s]\n"
          ]
        },
        {
          "metadata": {
            "tags": null
          },
          "name": "stdout",
          "output_type": "stream",
          "text": [
            "tf.Tensor(0.61489624, shape=(), dtype=float32)\n",
            "Epoch 12\n"
          ]
        },
        {
          "metadata": {
            "tags": null
          },
          "name": "stderr",
          "output_type": "stream",
          "text": [
            "100%|██████████| 193/193 [01:40<00:00,  1.92it/s]\n",
            "100%|██████████| 20/20 [00:15<00:00,  1.26it/s]\n"
          ]
        },
        {
          "metadata": {
            "tags": null
          },
          "name": "stdout",
          "output_type": "stream",
          "text": [
            "tf.Tensor(0.63350815, shape=(), dtype=float32)\n",
            "Epoch 13\n"
          ]
        },
        {
          "metadata": {
            "tags": null
          },
          "name": "stderr",
          "output_type": "stream",
          "text": [
            "100%|██████████| 193/193 [01:40<00:00,  1.92it/s]\n",
            "100%|██████████| 20/20 [00:15<00:00,  1.26it/s]\n"
          ]
        },
        {
          "metadata": {
            "tags": null
          },
          "name": "stdout",
          "output_type": "stream",
          "text": [
            "tf.Tensor(0.62390184, shape=(), dtype=float32)\n",
            "Epoch 14\n"
          ]
        },
        {
          "metadata": {
            "tags": null
          },
          "name": "stderr",
          "output_type": "stream",
          "text": [
            "100%|██████████| 193/193 [01:40<00:00,  1.92it/s]\n",
            "100%|██████████| 20/20 [00:15<00:00,  1.26it/s]\n"
          ]
        },
        {
          "metadata": {
            "tags": null
          },
          "name": "stdout",
          "output_type": "stream",
          "text": [
            "tf.Tensor(0.63626176, shape=(), dtype=float32)\n",
            "Epoch 15\n"
          ]
        },
        {
          "metadata": {
            "tags": null
          },
          "name": "stderr",
          "output_type": "stream",
          "text": [
            "100%|██████████| 193/193 [01:40<00:00,  1.92it/s]\n",
            "100%|██████████| 20/20 [00:15<00:00,  1.26it/s]\n"
          ]
        },
        {
          "metadata": {
            "tags": null
          },
          "name": "stdout",
          "output_type": "stream",
          "text": [
            "tf.Tensor(0.6279596, shape=(), dtype=float32)\n",
            "Epoch 16\n"
          ]
        },
        {
          "metadata": {
            "tags": null
          },
          "name": "stderr",
          "output_type": "stream",
          "text": [
            "100%|██████████| 193/193 [01:40<00:00,  1.92it/s]\n",
            "100%|██████████| 20/20 [00:15<00:00,  1.26it/s]\n"
          ]
        },
        {
          "metadata": {
            "tags": null
          },
          "name": "stdout",
          "output_type": "stream",
          "text": [
            "tf.Tensor(0.63652414, shape=(), dtype=float32)\n",
            "Epoch 17\n"
          ]
        },
        {
          "metadata": {
            "tags": null
          },
          "name": "stderr",
          "output_type": "stream",
          "text": [
            "100%|██████████| 193/193 [01:40<00:00,  1.93it/s]\n",
            "100%|██████████| 20/20 [00:15<00:00,  1.26it/s]\n"
          ]
        },
        {
          "metadata": {
            "tags": null
          },
          "name": "stdout",
          "output_type": "stream",
          "text": [
            "tf.Tensor(0.613116, shape=(), dtype=float32)\n",
            "Epoch 18\n"
          ]
        },
        {
          "metadata": {
            "tags": null
          },
          "name": "stderr",
          "output_type": "stream",
          "text": [
            "100%|██████████| 193/193 [01:40<00:00,  1.92it/s]\n",
            "100%|██████████| 20/20 [00:15<00:00,  1.26it/s]\n"
          ]
        },
        {
          "metadata": {
            "tags": null
          },
          "name": "stdout",
          "output_type": "stream",
          "text": [
            "tf.Tensor(0.63430476, shape=(), dtype=float32)\n",
            "Epoch 19\n"
          ]
        },
        {
          "metadata": {
            "tags": null
          },
          "name": "stderr",
          "output_type": "stream",
          "text": [
            "100%|██████████| 193/193 [01:40<00:00,  1.92it/s]\n",
            "100%|██████████| 20/20 [00:15<00:00,  1.26it/s]\n"
          ]
        },
        {
          "metadata": {
            "tags": null
          },
          "name": "stdout",
          "output_type": "stream",
          "text": [
            "tf.Tensor(0.6374134, shape=(), dtype=float32)\n",
            "Epoch 20\n"
          ]
        },
        {
          "metadata": {
            "tags": null
          },
          "name": "stderr",
          "output_type": "stream",
          "text": [
            "100%|██████████| 193/193 [01:40<00:00,  1.92it/s]\n",
            "100%|██████████| 20/20 [00:15<00:00,  1.26it/s]\n"
          ]
        },
        {
          "metadata": {
            "tags": null
          },
          "name": "stdout",
          "output_type": "stream",
          "text": [
            "tf.Tensor(0.6399872, shape=(), dtype=float32)\n",
            "Epoch 21\n"
          ]
        },
        {
          "metadata": {
            "tags": null
          },
          "name": "stderr",
          "output_type": "stream",
          "text": [
            "100%|██████████| 193/193 [01:40<00:00,  1.92it/s]\n",
            "100%|██████████| 20/20 [00:15<00:00,  1.26it/s]\n"
          ]
        },
        {
          "metadata": {
            "tags": null
          },
          "name": "stdout",
          "output_type": "stream",
          "text": [
            "tf.Tensor(0.6345483, shape=(), dtype=float32)\n",
            "Epoch 22\n"
          ]
        },
        {
          "metadata": {
            "tags": null
          },
          "name": "stderr",
          "output_type": "stream",
          "text": [
            "100%|██████████| 193/193 [01:40<00:00,  1.92it/s]\n",
            "100%|██████████| 20/20 [00:15<00:00,  1.26it/s]\n"
          ]
        },
        {
          "metadata": {
            "tags": null
          },
          "name": "stdout",
          "output_type": "stream",
          "text": [
            "tf.Tensor(0.6375833, shape=(), dtype=float32)\n",
            "Epoch 23\n"
          ]
        },
        {
          "metadata": {
            "tags": null
          },
          "name": "stderr",
          "output_type": "stream",
          "text": [
            "100%|██████████| 193/193 [01:40<00:00,  1.93it/s]\n",
            "100%|██████████| 20/20 [00:15<00:00,  1.26it/s]\n"
          ]
        },
        {
          "metadata": {
            "tags": null
          },
          "name": "stdout",
          "output_type": "stream",
          "text": [
            "tf.Tensor(0.636255, shape=(), dtype=float32)\n",
            "Epoch 24\n"
          ]
        },
        {
          "metadata": {
            "tags": null
          },
          "name": "stderr",
          "output_type": "stream",
          "text": [
            "100%|██████████| 193/193 [01:40<00:00,  1.92it/s]\n",
            "100%|██████████| 20/20 [00:15<00:00,  1.26it/s]\n"
          ]
        },
        {
          "metadata": {
            "tags": null
          },
          "name": "stdout",
          "output_type": "stream",
          "text": [
            "tf.Tensor(0.6382227, shape=(), dtype=float32)\n",
            "Epoch 25\n"
          ]
        },
        {
          "metadata": {
            "tags": null
          },
          "name": "stderr",
          "output_type": "stream",
          "text": [
            "100%|██████████| 193/193 [01:40<00:00,  1.92it/s]\n",
            "100%|██████████| 20/20 [00:15<00:00,  1.26it/s]\n"
          ]
        },
        {
          "metadata": {
            "tags": null
          },
          "name": "stdout",
          "output_type": "stream",
          "text": [
            "tf.Tensor(0.6193187, shape=(), dtype=float32)\n",
            "Epoch 26\n"
          ]
        },
        {
          "metadata": {
            "tags": null
          },
          "name": "stderr",
          "output_type": "stream",
          "text": [
            "100%|██████████| 193/193 [01:40<00:00,  1.93it/s]\n",
            "100%|██████████| 20/20 [00:15<00:00,  1.26it/s]\n"
          ]
        },
        {
          "metadata": {
            "tags": null
          },
          "name": "stdout",
          "output_type": "stream",
          "text": [
            "tf.Tensor(0.63382107, shape=(), dtype=float32)\n",
            "Epoch 27\n"
          ]
        },
        {
          "metadata": {
            "tags": null
          },
          "name": "stderr",
          "output_type": "stream",
          "text": [
            "100%|██████████| 193/193 [01:40<00:00,  1.92it/s]\n",
            "100%|██████████| 20/20 [00:15<00:00,  1.26it/s]\n"
          ]
        },
        {
          "metadata": {
            "tags": null
          },
          "name": "stdout",
          "output_type": "stream",
          "text": [
            "tf.Tensor(0.60708547, shape=(), dtype=float32)\n",
            "Epoch 28\n"
          ]
        },
        {
          "metadata": {
            "tags": null
          },
          "name": "stderr",
          "output_type": "stream",
          "text": [
            "100%|██████████| 193/193 [01:40<00:00,  1.91it/s]\n",
            "100%|██████████| 20/20 [00:16<00:00,  1.23it/s]\n"
          ]
        },
        {
          "metadata": {
            "tags": null
          },
          "name": "stdout",
          "output_type": "stream",
          "text": [
            "tf.Tensor(0.61035883, shape=(), dtype=float32)\n",
            "Epoch 29\n"
          ]
        },
        {
          "metadata": {
            "tags": null
          },
          "name": "stderr",
          "output_type": "stream",
          "text": [
            "100%|██████████| 193/193 [01:40<00:00,  1.92it/s]\n",
            "100%|██████████| 20/20 [00:16<00:00,  1.25it/s]\n"
          ]
        },
        {
          "metadata": {
            "tags": null
          },
          "name": "stdout",
          "output_type": "stream",
          "text": [
            "tf.Tensor(0.6312198, shape=(), dtype=float32)\n",
            "Epoch 30\n"
          ]
        },
        {
          "metadata": {
            "tags": null
          },
          "name": "stderr",
          "output_type": "stream",
          "text": [
            "100%|██████████| 193/193 [01:40<00:00,  1.92it/s]\n",
            "100%|██████████| 20/20 [00:15<00:00,  1.25it/s]\n"
          ]
        },
        {
          "metadata": {
            "tags": null
          },
          "name": "stdout",
          "output_type": "stream",
          "text": [
            "tf.Tensor(0.6371119, shape=(), dtype=float32)\n",
            "Epoch 31\n"
          ]
        },
        {
          "metadata": {
            "tags": null
          },
          "name": "stderr",
          "output_type": "stream",
          "text": [
            "100%|██████████| 193/193 [01:40<00:00,  1.92it/s]\n",
            "100%|██████████| 20/20 [00:15<00:00,  1.25it/s]\n"
          ]
        },
        {
          "metadata": {
            "tags": null
          },
          "name": "stdout",
          "output_type": "stream",
          "text": [
            "tf.Tensor(0.63127244, shape=(), dtype=float32)\n",
            "Epoch 32\n"
          ]
        },
        {
          "metadata": {
            "tags": null
          },
          "name": "stderr",
          "output_type": "stream",
          "text": [
            "100%|██████████| 193/193 [01:40<00:00,  1.92it/s]\n",
            "100%|██████████| 20/20 [00:16<00:00,  1.24it/s]\n"
          ]
        },
        {
          "metadata": {
            "tags": null
          },
          "name": "stdout",
          "output_type": "stream",
          "text": [
            "tf.Tensor(0.6363893, shape=(), dtype=float32)\n",
            "Epoch 33\n"
          ]
        },
        {
          "metadata": {
            "tags": null
          },
          "name": "stderr",
          "output_type": "stream",
          "text": [
            "100%|██████████| 193/193 [01:40<00:00,  1.92it/s]\n",
            "100%|██████████| 20/20 [00:15<00:00,  1.25it/s]\n"
          ]
        },
        {
          "metadata": {
            "tags": null
          },
          "name": "stdout",
          "output_type": "stream",
          "text": [
            "tf.Tensor(0.62662256, shape=(), dtype=float32)\n",
            "Epoch 34\n"
          ]
        },
        {
          "metadata": {
            "tags": null
          },
          "name": "stderr",
          "output_type": "stream",
          "text": [
            "100%|██████████| 193/193 [01:40<00:00,  1.92it/s]\n",
            "100%|██████████| 20/20 [00:16<00:00,  1.24it/s]\n"
          ]
        },
        {
          "metadata": {
            "tags": null
          },
          "name": "stdout",
          "output_type": "stream",
          "text": [
            "tf.Tensor(0.63292736, shape=(), dtype=float32)\n",
            "Epoch 35\n"
          ]
        },
        {
          "metadata": {
            "tags": null
          },
          "name": "stderr",
          "output_type": "stream",
          "text": [
            "100%|██████████| 193/193 [01:40<00:00,  1.92it/s]\n",
            "100%|██████████| 20/20 [00:16<00:00,  1.25it/s]\n"
          ]
        },
        {
          "metadata": {
            "tags": null
          },
          "name": "stdout",
          "output_type": "stream",
          "text": [
            "tf.Tensor(0.6361912, shape=(), dtype=float32)\n",
            "Epoch 36\n"
          ]
        },
        {
          "metadata": {
            "tags": null
          },
          "name": "stderr",
          "output_type": "stream",
          "text": [
            "100%|██████████| 193/193 [01:40<00:00,  1.92it/s]\n",
            "100%|██████████| 20/20 [00:16<00:00,  1.24it/s]\n"
          ]
        },
        {
          "metadata": {
            "tags": null
          },
          "name": "stdout",
          "output_type": "stream",
          "text": [
            "tf.Tensor(0.6291615, shape=(), dtype=float32)\n",
            "Epoch 37\n"
          ]
        },
        {
          "metadata": {
            "tags": null
          },
          "name": "stderr",
          "output_type": "stream",
          "text": [
            "100%|██████████| 193/193 [01:40<00:00,  1.92it/s]\n",
            "100%|██████████| 20/20 [00:16<00:00,  1.24it/s]\n"
          ]
        },
        {
          "metadata": {
            "tags": null
          },
          "name": "stdout",
          "output_type": "stream",
          "text": [
            "tf.Tensor(0.6372453, shape=(), dtype=float32)\n",
            "Epoch 38\n"
          ]
        },
        {
          "metadata": {
            "tags": null
          },
          "name": "stderr",
          "output_type": "stream",
          "text": [
            "100%|██████████| 193/193 [01:40<00:00,  1.92it/s]\n",
            "100%|██████████| 20/20 [00:16<00:00,  1.24it/s]\n"
          ]
        },
        {
          "metadata": {
            "tags": null
          },
          "name": "stdout",
          "output_type": "stream",
          "text": [
            "tf.Tensor(0.63037306, shape=(), dtype=float32)\n",
            "Epoch 39\n"
          ]
        },
        {
          "metadata": {
            "tags": null
          },
          "name": "stderr",
          "output_type": "stream",
          "text": [
            "100%|██████████| 193/193 [01:40<00:00,  1.92it/s]\n",
            "100%|██████████| 20/20 [00:15<00:00,  1.26it/s]\n"
          ]
        },
        {
          "metadata": {
            "tags": null
          },
          "name": "stdout",
          "output_type": "stream",
          "text": [
            "tf.Tensor(0.63704777, shape=(), dtype=float32)\n",
            "Epoch 40\n"
          ]
        },
        {
          "metadata": {
            "tags": null
          },
          "name": "stderr",
          "output_type": "stream",
          "text": [
            "100%|██████████| 193/193 [01:40<00:00,  1.92it/s]\n",
            "100%|██████████| 20/20 [00:16<00:00,  1.25it/s]\n"
          ]
        },
        {
          "metadata": {
            "tags": null
          },
          "name": "stdout",
          "output_type": "stream",
          "text": [
            "tf.Tensor(0.637878, shape=(), dtype=float32)\n",
            "Epoch 41\n"
          ]
        },
        {
          "metadata": {
            "tags": null
          },
          "name": "stderr",
          "output_type": "stream",
          "text": [
            "100%|██████████| 193/193 [01:40<00:00,  1.92it/s]\n",
            "100%|██████████| 20/20 [00:16<00:00,  1.25it/s]\n"
          ]
        },
        {
          "metadata": {
            "tags": null
          },
          "name": "stdout",
          "output_type": "stream",
          "text": [
            "tf.Tensor(0.62955314, shape=(), dtype=float32)\n",
            "Epoch 42\n"
          ]
        },
        {
          "metadata": {
            "tags": null
          },
          "name": "stderr",
          "output_type": "stream",
          "text": [
            "100%|██████████| 193/193 [01:40<00:00,  1.93it/s]\n",
            "100%|██████████| 20/20 [00:16<00:00,  1.25it/s]\n"
          ]
        },
        {
          "metadata": {
            "tags": null
          },
          "name": "stdout",
          "output_type": "stream",
          "text": [
            "tf.Tensor(0.63486254, shape=(), dtype=float32)\n",
            "Epoch 43\n"
          ]
        },
        {
          "metadata": {
            "tags": null
          },
          "name": "stderr",
          "output_type": "stream",
          "text": [
            "100%|██████████| 193/193 [01:39<00:00,  1.94it/s]\n",
            "100%|██████████| 20/20 [00:15<00:00,  1.26it/s]\n"
          ]
        },
        {
          "metadata": {
            "tags": null
          },
          "name": "stdout",
          "output_type": "stream",
          "text": [
            "tf.Tensor(0.63042235, shape=(), dtype=float32)\n",
            "Epoch 44\n"
          ]
        },
        {
          "metadata": {
            "tags": null
          },
          "name": "stderr",
          "output_type": "stream",
          "text": [
            "100%|██████████| 193/193 [01:40<00:00,  1.92it/s]\n",
            "100%|██████████| 20/20 [00:15<00:00,  1.25it/s]\n"
          ]
        },
        {
          "metadata": {
            "tags": null
          },
          "name": "stdout",
          "output_type": "stream",
          "text": [
            "tf.Tensor(0.6297589, shape=(), dtype=float32)\n",
            "Epoch 45\n"
          ]
        },
        {
          "metadata": {
            "tags": null
          },
          "name": "stderr",
          "output_type": "stream",
          "text": [
            "100%|██████████| 193/193 [01:40<00:00,  1.92it/s]\n",
            "100%|██████████| 20/20 [00:15<00:00,  1.26it/s]\n"
          ]
        },
        {
          "metadata": {
            "tags": null
          },
          "name": "stdout",
          "output_type": "stream",
          "text": [
            "tf.Tensor(0.6374843, shape=(), dtype=float32)\n",
            "Epoch 46\n"
          ]
        },
        {
          "metadata": {
            "tags": null
          },
          "name": "stderr",
          "output_type": "stream",
          "text": [
            "100%|██████████| 193/193 [01:40<00:00,  1.93it/s]\n",
            "100%|██████████| 20/20 [00:15<00:00,  1.26it/s]\n"
          ]
        },
        {
          "metadata": {
            "tags": null
          },
          "name": "stdout",
          "output_type": "stream",
          "text": [
            "tf.Tensor(0.6318304, shape=(), dtype=float32)\n",
            "Epoch 47\n"
          ]
        },
        {
          "metadata": {
            "tags": null
          },
          "name": "stderr",
          "output_type": "stream",
          "text": [
            "100%|██████████| 193/193 [01:40<00:00,  1.93it/s]\n",
            "100%|██████████| 20/20 [00:15<00:00,  1.26it/s]\n"
          ]
        },
        {
          "metadata": {
            "tags": null
          },
          "name": "stdout",
          "output_type": "stream",
          "text": [
            "tf.Tensor(0.6346357, shape=(), dtype=float32)\n",
            "Epoch 48\n"
          ]
        },
        {
          "metadata": {
            "tags": null
          },
          "name": "stderr",
          "output_type": "stream",
          "text": [
            "100%|██████████| 193/193 [01:40<00:00,  1.93it/s]\n",
            "100%|██████████| 20/20 [00:15<00:00,  1.26it/s]\n"
          ]
        },
        {
          "metadata": {
            "tags": null
          },
          "name": "stdout",
          "output_type": "stream",
          "text": [
            "tf.Tensor(0.6325971, shape=(), dtype=float32)\n",
            "Epoch 49\n"
          ]
        },
        {
          "metadata": {
            "tags": null
          },
          "name": "stderr",
          "output_type": "stream",
          "text": [
            "100%|██████████| 193/193 [01:40<00:00,  1.93it/s]\n",
            "100%|██████████| 20/20 [00:15<00:00,  1.26it/s]\n"
          ]
        },
        {
          "metadata": {
            "tags": null
          },
          "name": "stdout",
          "output_type": "stream",
          "text": [
            "tf.Tensor(0.6277226, shape=(), dtype=float32)\n",
            "Epoch 50\n"
          ]
        },
        {
          "metadata": {
            "tags": null
          },
          "name": "stderr",
          "output_type": "stream",
          "text": [
            "100%|██████████| 193/193 [01:40<00:00,  1.93it/s]\n",
            "100%|██████████| 20/20 [00:15<00:00,  1.25it/s]\n"
          ]
        },
        {
          "metadata": {
            "tags": null
          },
          "name": "stdout",
          "output_type": "stream",
          "text": [
            "tf.Tensor(0.6341809, shape=(), dtype=float32)\n",
            "Epoch 51\n"
          ]
        },
        {
          "metadata": {
            "tags": null
          },
          "name": "stderr",
          "output_type": "stream",
          "text": [
            "100%|██████████| 193/193 [01:40<00:00,  1.92it/s]\n",
            "100%|██████████| 20/20 [00:16<00:00,  1.24it/s]\n"
          ]
        },
        {
          "metadata": {
            "tags": null
          },
          "name": "stdout",
          "output_type": "stream",
          "text": [
            "tf.Tensor(0.6336654, shape=(), dtype=float32)\n",
            "Epoch 52\n"
          ]
        },
        {
          "metadata": {
            "tags": null
          },
          "name": "stderr",
          "output_type": "stream",
          "text": [
            "100%|██████████| 193/193 [01:40<00:00,  1.92it/s]\n",
            "100%|██████████| 20/20 [00:15<00:00,  1.26it/s]\n"
          ]
        },
        {
          "metadata": {
            "tags": null
          },
          "name": "stdout",
          "output_type": "stream",
          "text": [
            "tf.Tensor(0.6275228, shape=(), dtype=float32)\n",
            "Epoch 53\n"
          ]
        },
        {
          "metadata": {
            "tags": null
          },
          "name": "stderr",
          "output_type": "stream",
          "text": [
            "100%|██████████| 193/193 [01:40<00:00,  1.92it/s]\n",
            "100%|██████████| 20/20 [00:16<00:00,  1.24it/s]\n"
          ]
        },
        {
          "metadata": {
            "tags": null
          },
          "name": "stdout",
          "output_type": "stream",
          "text": [
            "tf.Tensor(0.6318809, shape=(), dtype=float32)\n",
            "Epoch 54\n"
          ]
        },
        {
          "metadata": {
            "tags": null
          },
          "name": "stderr",
          "output_type": "stream",
          "text": [
            "100%|██████████| 193/193 [01:40<00:00,  1.92it/s]\n",
            "100%|██████████| 20/20 [00:15<00:00,  1.26it/s]\n"
          ]
        },
        {
          "metadata": {
            "tags": null
          },
          "name": "stdout",
          "output_type": "stream",
          "text": [
            "tf.Tensor(0.6262726, shape=(), dtype=float32)\n",
            "Epoch 55\n"
          ]
        },
        {
          "metadata": {
            "tags": null
          },
          "name": "stderr",
          "output_type": "stream",
          "text": [
            "100%|██████████| 193/193 [01:40<00:00,  1.92it/s]\n",
            "100%|██████████| 20/20 [00:15<00:00,  1.25it/s]\n"
          ]
        },
        {
          "metadata": {
            "tags": null
          },
          "name": "stdout",
          "output_type": "stream",
          "text": [
            "tf.Tensor(0.6322445, shape=(), dtype=float32)\n",
            "Epoch 56\n"
          ]
        },
        {
          "metadata": {
            "tags": null
          },
          "name": "stderr",
          "output_type": "stream",
          "text": [
            "100%|██████████| 193/193 [01:40<00:00,  1.92it/s]\n",
            "100%|██████████| 20/20 [00:15<00:00,  1.26it/s]\n"
          ]
        },
        {
          "metadata": {
            "tags": null
          },
          "name": "stdout",
          "output_type": "stream",
          "text": [
            "tf.Tensor(0.63330734, shape=(), dtype=float32)\n",
            "Epoch 57\n"
          ]
        },
        {
          "metadata": {
            "tags": null
          },
          "name": "stderr",
          "output_type": "stream",
          "text": [
            "100%|██████████| 193/193 [01:40<00:00,  1.92it/s]\n",
            "100%|██████████| 20/20 [00:15<00:00,  1.26it/s]\n"
          ]
        },
        {
          "metadata": {
            "tags": null
          },
          "name": "stdout",
          "output_type": "stream",
          "text": [
            "tf.Tensor(0.6323864, shape=(), dtype=float32)\n",
            "Epoch 58\n"
          ]
        },
        {
          "metadata": {
            "tags": null
          },
          "name": "stderr",
          "output_type": "stream",
          "text": [
            "100%|██████████| 193/193 [01:40<00:00,  1.92it/s]\n",
            "100%|██████████| 20/20 [00:15<00:00,  1.25it/s]\n"
          ]
        },
        {
          "metadata": {
            "tags": null
          },
          "name": "stdout",
          "output_type": "stream",
          "text": [
            "tf.Tensor(0.62478095, shape=(), dtype=float32)\n",
            "Epoch 59\n"
          ]
        },
        {
          "metadata": {
            "tags": null
          },
          "name": "stderr",
          "output_type": "stream",
          "text": [
            "100%|██████████| 193/193 [01:40<00:00,  1.92it/s]\n",
            "100%|██████████| 20/20 [00:15<00:00,  1.25it/s]\n"
          ]
        },
        {
          "metadata": {
            "tags": null
          },
          "name": "stdout",
          "output_type": "stream",
          "text": [
            "tf.Tensor(0.63407403, shape=(), dtype=float32)\n",
            "Epoch 60\n"
          ]
        },
        {
          "metadata": {
            "tags": null
          },
          "name": "stderr",
          "output_type": "stream",
          "text": [
            "100%|██████████| 193/193 [01:40<00:00,  1.92it/s]\n",
            "100%|██████████| 20/20 [00:15<00:00,  1.26it/s]\n"
          ]
        },
        {
          "metadata": {
            "tags": null
          },
          "name": "stdout",
          "output_type": "stream",
          "text": [
            "tf.Tensor(0.62631726, shape=(), dtype=float32)\n",
            "Epoch 61\n"
          ]
        },
        {
          "metadata": {
            "tags": null
          },
          "name": "stderr",
          "output_type": "stream",
          "text": [
            "100%|██████████| 193/193 [01:40<00:00,  1.92it/s]\n",
            "100%|██████████| 20/20 [00:16<00:00,  1.25it/s]\n"
          ]
        },
        {
          "metadata": {
            "tags": null
          },
          "name": "stdout",
          "output_type": "stream",
          "text": [
            "tf.Tensor(0.630741, shape=(), dtype=float32)\n",
            "Epoch 62\n"
          ]
        },
        {
          "metadata": {
            "tags": null
          },
          "name": "stderr",
          "output_type": "stream",
          "text": [
            "100%|██████████| 193/193 [01:40<00:00,  1.92it/s]\n",
            "100%|██████████| 20/20 [00:16<00:00,  1.23it/s]\n"
          ]
        },
        {
          "metadata": {
            "tags": null
          },
          "name": "stdout",
          "output_type": "stream",
          "text": [
            "tf.Tensor(0.6316609, shape=(), dtype=float32)\n",
            "Epoch 63\n"
          ]
        },
        {
          "metadata": {
            "tags": null
          },
          "name": "stderr",
          "output_type": "stream",
          "text": [
            "100%|██████████| 193/193 [01:40<00:00,  1.92it/s]\n",
            "100%|██████████| 20/20 [00:15<00:00,  1.26it/s]\n"
          ]
        },
        {
          "metadata": {
            "tags": null
          },
          "name": "stdout",
          "output_type": "stream",
          "text": [
            "tf.Tensor(0.6402786, shape=(), dtype=float32)\n",
            "Epoch 64\n"
          ]
        },
        {
          "metadata": {
            "tags": null
          },
          "name": "stderr",
          "output_type": "stream",
          "text": [
            "100%|██████████| 193/193 [01:40<00:00,  1.92it/s]\n",
            "100%|██████████| 20/20 [00:15<00:00,  1.26it/s]\n"
          ]
        },
        {
          "metadata": {
            "tags": null
          },
          "name": "stdout",
          "output_type": "stream",
          "text": [
            "tf.Tensor(0.6364747, shape=(), dtype=float32)\n",
            "Epoch 65\n"
          ]
        },
        {
          "metadata": {
            "tags": null
          },
          "name": "stderr",
          "output_type": "stream",
          "text": [
            "100%|██████████| 193/193 [01:40<00:00,  1.92it/s]\n",
            "100%|██████████| 20/20 [00:16<00:00,  1.25it/s]\n"
          ]
        },
        {
          "metadata": {
            "tags": null
          },
          "name": "stdout",
          "output_type": "stream",
          "text": [
            "tf.Tensor(0.6359619, shape=(), dtype=float32)\n",
            "Epoch 66\n"
          ]
        },
        {
          "metadata": {
            "tags": null
          },
          "name": "stderr",
          "output_type": "stream",
          "text": [
            "100%|██████████| 193/193 [01:40<00:00,  1.92it/s]\n",
            "100%|██████████| 20/20 [00:15<00:00,  1.25it/s]\n"
          ]
        },
        {
          "metadata": {
            "tags": null
          },
          "name": "stdout",
          "output_type": "stream",
          "text": [
            "tf.Tensor(0.62591344, shape=(), dtype=float32)\n",
            "Epoch 67\n"
          ]
        },
        {
          "metadata": {
            "tags": null
          },
          "name": "stderr",
          "output_type": "stream",
          "text": [
            "100%|██████████| 193/193 [01:40<00:00,  1.92it/s]\n",
            "100%|██████████| 20/20 [00:15<00:00,  1.26it/s]\n"
          ]
        },
        {
          "metadata": {
            "tags": null
          },
          "name": "stdout",
          "output_type": "stream",
          "text": [
            "tf.Tensor(0.62708974, shape=(), dtype=float32)\n",
            "Epoch 68\n"
          ]
        },
        {
          "metadata": {
            "tags": null
          },
          "name": "stderr",
          "output_type": "stream",
          "text": [
            "100%|██████████| 193/193 [01:40<00:00,  1.92it/s]\n",
            "100%|██████████| 20/20 [00:16<00:00,  1.25it/s]\n"
          ]
        },
        {
          "metadata": {
            "tags": null
          },
          "name": "stdout",
          "output_type": "stream",
          "text": [
            "tf.Tensor(0.6252834, shape=(), dtype=float32)\n",
            "Epoch 69\n"
          ]
        },
        {
          "metadata": {
            "tags": null
          },
          "name": "stderr",
          "output_type": "stream",
          "text": [
            "100%|██████████| 193/193 [01:40<00:00,  1.92it/s]\n",
            "100%|██████████| 20/20 [00:16<00:00,  1.24it/s]\n"
          ]
        },
        {
          "metadata": {
            "tags": null
          },
          "name": "stdout",
          "output_type": "stream",
          "text": [
            "tf.Tensor(0.6259261, shape=(), dtype=float32)\n",
            "Epoch 70\n"
          ]
        },
        {
          "metadata": {
            "tags": null
          },
          "name": "stderr",
          "output_type": "stream",
          "text": [
            "100%|██████████| 193/193 [01:40<00:00,  1.92it/s]\n",
            "100%|██████████| 20/20 [00:15<00:00,  1.25it/s]\n"
          ]
        },
        {
          "metadata": {
            "tags": null
          },
          "name": "stdout",
          "output_type": "stream",
          "text": [
            "tf.Tensor(0.6293782, shape=(), dtype=float32)\n",
            "Epoch 71\n"
          ]
        },
        {
          "metadata": {
            "tags": null
          },
          "name": "stderr",
          "output_type": "stream",
          "text": [
            "100%|██████████| 193/193 [01:40<00:00,  1.93it/s]\n",
            "100%|██████████| 20/20 [00:15<00:00,  1.26it/s]\n"
          ]
        },
        {
          "metadata": {
            "tags": null
          },
          "name": "stdout",
          "output_type": "stream",
          "text": [
            "tf.Tensor(0.63552845, shape=(), dtype=float32)\n",
            "Epoch 72\n"
          ]
        },
        {
          "metadata": {
            "tags": null
          },
          "name": "stderr",
          "output_type": "stream",
          "text": [
            "100%|██████████| 193/193 [01:40<00:00,  1.92it/s]\n",
            "100%|██████████| 20/20 [00:15<00:00,  1.26it/s]\n"
          ]
        },
        {
          "metadata": {
            "tags": null
          },
          "name": "stdout",
          "output_type": "stream",
          "text": [
            "tf.Tensor(0.62604296, shape=(), dtype=float32)\n",
            "Epoch 73\n"
          ]
        },
        {
          "metadata": {
            "tags": null
          },
          "name": "stderr",
          "output_type": "stream",
          "text": [
            "100%|██████████| 193/193 [01:40<00:00,  1.93it/s]\n",
            "100%|██████████| 20/20 [00:15<00:00,  1.26it/s]\n"
          ]
        },
        {
          "metadata": {
            "tags": null
          },
          "name": "stdout",
          "output_type": "stream",
          "text": [
            "tf.Tensor(0.6347603, shape=(), dtype=float32)\n",
            "Epoch 74\n"
          ]
        },
        {
          "metadata": {
            "tags": null
          },
          "name": "stderr",
          "output_type": "stream",
          "text": [
            "100%|██████████| 193/193 [01:40<00:00,  1.92it/s]\n",
            "100%|██████████| 20/20 [00:15<00:00,  1.26it/s]\n"
          ]
        },
        {
          "metadata": {
            "tags": null
          },
          "name": "stdout",
          "output_type": "stream",
          "text": [
            "tf.Tensor(0.63201153, shape=(), dtype=float32)\n",
            "Epoch 75\n"
          ]
        },
        {
          "metadata": {
            "tags": null
          },
          "name": "stderr",
          "output_type": "stream",
          "text": [
            "100%|██████████| 193/193 [01:40<00:00,  1.92it/s]\n",
            "100%|██████████| 20/20 [00:16<00:00,  1.25it/s]\n"
          ]
        },
        {
          "metadata": {
            "tags": null
          },
          "name": "stdout",
          "output_type": "stream",
          "text": [
            "tf.Tensor(0.6282615, shape=(), dtype=float32)\n",
            "Epoch 76\n"
          ]
        },
        {
          "metadata": {
            "tags": null
          },
          "name": "stderr",
          "output_type": "stream",
          "text": [
            "100%|██████████| 193/193 [01:40<00:00,  1.92it/s]\n",
            "100%|██████████| 20/20 [00:15<00:00,  1.26it/s]\n"
          ]
        },
        {
          "metadata": {
            "tags": null
          },
          "name": "stdout",
          "output_type": "stream",
          "text": [
            "tf.Tensor(0.6303484, shape=(), dtype=float32)\n",
            "Epoch 77\n"
          ]
        },
        {
          "metadata": {
            "tags": null
          },
          "name": "stderr",
          "output_type": "stream",
          "text": [
            "100%|██████████| 193/193 [01:40<00:00,  1.92it/s]\n",
            "100%|██████████| 20/20 [00:16<00:00,  1.24it/s]\n"
          ]
        },
        {
          "metadata": {
            "tags": null
          },
          "name": "stdout",
          "output_type": "stream",
          "text": [
            "tf.Tensor(0.6267819, shape=(), dtype=float32)\n",
            "Epoch 78\n"
          ]
        },
        {
          "metadata": {
            "tags": null
          },
          "name": "stderr",
          "output_type": "stream",
          "text": [
            "100%|██████████| 193/193 [01:40<00:00,  1.92it/s]\n",
            "100%|██████████| 20/20 [00:15<00:00,  1.25it/s]\n"
          ]
        },
        {
          "metadata": {
            "tags": null
          },
          "name": "stdout",
          "output_type": "stream",
          "text": [
            "tf.Tensor(0.6270578, shape=(), dtype=float32)\n",
            "Epoch 79\n"
          ]
        },
        {
          "metadata": {
            "tags": null
          },
          "name": "stderr",
          "output_type": "stream",
          "text": [
            "100%|██████████| 193/193 [01:40<00:00,  1.92it/s]\n",
            "100%|██████████| 20/20 [00:15<00:00,  1.26it/s]\n"
          ]
        },
        {
          "metadata": {
            "tags": null
          },
          "name": "stdout",
          "output_type": "stream",
          "text": [
            "tf.Tensor(0.6261919, shape=(), dtype=float32)\n",
            "Epoch 80\n"
          ]
        },
        {
          "metadata": {
            "tags": null
          },
          "name": "stderr",
          "output_type": "stream",
          "text": [
            "100%|██████████| 193/193 [01:40<00:00,  1.92it/s]\n",
            "100%|██████████| 20/20 [00:16<00:00,  1.25it/s]\n"
          ]
        },
        {
          "metadata": {
            "tags": null
          },
          "name": "stdout",
          "output_type": "stream",
          "text": [
            "tf.Tensor(0.6333886, shape=(), dtype=float32)\n",
            "Epoch 81\n"
          ]
        },
        {
          "metadata": {
            "tags": null
          },
          "name": "stderr",
          "output_type": "stream",
          "text": [
            "100%|██████████| 193/193 [01:40<00:00,  1.92it/s]\n",
            "100%|██████████| 20/20 [00:15<00:00,  1.26it/s]\n"
          ]
        },
        {
          "metadata": {
            "tags": null
          },
          "name": "stdout",
          "output_type": "stream",
          "text": [
            "tf.Tensor(0.6303461, shape=(), dtype=float32)\n",
            "Epoch 82\n"
          ]
        },
        {
          "metadata": {
            "tags": null
          },
          "name": "stderr",
          "output_type": "stream",
          "text": [
            "100%|██████████| 193/193 [01:40<00:00,  1.93it/s]\n",
            "100%|██████████| 20/20 [00:15<00:00,  1.25it/s]\n"
          ]
        },
        {
          "metadata": {
            "tags": null
          },
          "name": "stdout",
          "output_type": "stream",
          "text": [
            "tf.Tensor(0.62896824, shape=(), dtype=float32)\n",
            "Epoch 83\n"
          ]
        },
        {
          "metadata": {
            "tags": null
          },
          "name": "stderr",
          "output_type": "stream",
          "text": [
            "100%|██████████| 193/193 [01:40<00:00,  1.93it/s]\n",
            "100%|██████████| 20/20 [00:15<00:00,  1.27it/s]\n"
          ]
        },
        {
          "metadata": {
            "tags": null
          },
          "name": "stdout",
          "output_type": "stream",
          "text": [
            "tf.Tensor(0.6294701, shape=(), dtype=float32)\n",
            "Epoch 84\n"
          ]
        },
        {
          "metadata": {
            "tags": null
          },
          "name": "stderr",
          "output_type": "stream",
          "text": [
            "100%|██████████| 193/193 [01:40<00:00,  1.92it/s]\n",
            "100%|██████████| 20/20 [00:15<00:00,  1.26it/s]\n"
          ]
        },
        {
          "metadata": {
            "tags": null
          },
          "name": "stdout",
          "output_type": "stream",
          "text": [
            "tf.Tensor(0.6270819, shape=(), dtype=float32)\n",
            "Epoch 85\n"
          ]
        },
        {
          "metadata": {
            "tags": null
          },
          "name": "stderr",
          "output_type": "stream",
          "text": [
            "100%|██████████| 193/193 [01:40<00:00,  1.92it/s]\n",
            "100%|██████████| 20/20 [00:15<00:00,  1.26it/s]\n"
          ]
        },
        {
          "metadata": {
            "tags": null
          },
          "name": "stdout",
          "output_type": "stream",
          "text": [
            "tf.Tensor(0.6320351, shape=(), dtype=float32)\n",
            "Epoch 86\n"
          ]
        },
        {
          "metadata": {
            "tags": null
          },
          "name": "stderr",
          "output_type": "stream",
          "text": [
            "100%|██████████| 193/193 [01:40<00:00,  1.93it/s]\n",
            "100%|██████████| 20/20 [00:15<00:00,  1.26it/s]\n"
          ]
        },
        {
          "metadata": {
            "tags": null
          },
          "name": "stdout",
          "output_type": "stream",
          "text": [
            "tf.Tensor(0.6288427, shape=(), dtype=float32)\n",
            "Epoch 87\n"
          ]
        },
        {
          "metadata": {
            "tags": null
          },
          "name": "stderr",
          "output_type": "stream",
          "text": [
            "100%|██████████| 193/193 [01:40<00:00,  1.93it/s]\n",
            "100%|██████████| 20/20 [00:15<00:00,  1.26it/s]\n"
          ]
        },
        {
          "metadata": {
            "tags": null
          },
          "name": "stdout",
          "output_type": "stream",
          "text": [
            "tf.Tensor(0.6275055, shape=(), dtype=float32)\n",
            "Epoch 88\n"
          ]
        },
        {
          "metadata": {
            "tags": null
          },
          "name": "stderr",
          "output_type": "stream",
          "text": [
            "100%|██████████| 193/193 [01:40<00:00,  1.93it/s]\n",
            "100%|██████████| 20/20 [00:15<00:00,  1.26it/s]\n"
          ]
        },
        {
          "metadata": {
            "tags": null
          },
          "name": "stdout",
          "output_type": "stream",
          "text": [
            "tf.Tensor(0.6296208, shape=(), dtype=float32)\n",
            "Epoch 89\n"
          ]
        },
        {
          "metadata": {
            "tags": null
          },
          "name": "stderr",
          "output_type": "stream",
          "text": [
            "100%|██████████| 193/193 [01:40<00:00,  1.93it/s]\n",
            "100%|██████████| 20/20 [00:15<00:00,  1.27it/s]\n"
          ]
        },
        {
          "metadata": {
            "tags": null
          },
          "name": "stdout",
          "output_type": "stream",
          "text": [
            "tf.Tensor(0.6312089, shape=(), dtype=float32)\n",
            "Epoch 90\n"
          ]
        },
        {
          "metadata": {
            "tags": null
          },
          "name": "stderr",
          "output_type": "stream",
          "text": [
            "100%|██████████| 193/193 [01:40<00:00,  1.93it/s]\n",
            "100%|██████████| 20/20 [00:15<00:00,  1.26it/s]\n"
          ]
        },
        {
          "metadata": {
            "tags": null
          },
          "name": "stdout",
          "output_type": "stream",
          "text": [
            "tf.Tensor(0.62251455, shape=(), dtype=float32)\n",
            "Epoch 91\n"
          ]
        },
        {
          "metadata": {
            "tags": null
          },
          "name": "stderr",
          "output_type": "stream",
          "text": [
            "100%|██████████| 193/193 [01:40<00:00,  1.93it/s]\n",
            "100%|██████████| 20/20 [00:15<00:00,  1.26it/s]\n"
          ]
        },
        {
          "metadata": {
            "tags": null
          },
          "name": "stdout",
          "output_type": "stream",
          "text": [
            "tf.Tensor(0.63042086, shape=(), dtype=float32)\n",
            "Epoch 92\n"
          ]
        },
        {
          "metadata": {
            "tags": null
          },
          "name": "stderr",
          "output_type": "stream",
          "text": [
            "100%|██████████| 193/193 [01:40<00:00,  1.93it/s]\n",
            "100%|██████████| 20/20 [00:15<00:00,  1.26it/s]\n"
          ]
        },
        {
          "metadata": {
            "tags": null
          },
          "name": "stdout",
          "output_type": "stream",
          "text": [
            "tf.Tensor(0.63159543, shape=(), dtype=float32)\n",
            "Epoch 93\n"
          ]
        },
        {
          "metadata": {
            "tags": null
          },
          "name": "stderr",
          "output_type": "stream",
          "text": [
            "100%|██████████| 193/193 [01:40<00:00,  1.93it/s]\n",
            "100%|██████████| 20/20 [00:15<00:00,  1.26it/s]\n"
          ]
        },
        {
          "metadata": {
            "tags": null
          },
          "name": "stdout",
          "output_type": "stream",
          "text": [
            "tf.Tensor(0.6274996, shape=(), dtype=float32)\n",
            "Epoch 94\n"
          ]
        },
        {
          "metadata": {
            "tags": null
          },
          "name": "stderr",
          "output_type": "stream",
          "text": [
            "100%|██████████| 193/193 [01:40<00:00,  1.93it/s]\n",
            "100%|██████████| 20/20 [00:15<00:00,  1.26it/s]\n"
          ]
        },
        {
          "metadata": {
            "tags": null
          },
          "name": "stdout",
          "output_type": "stream",
          "text": [
            "tf.Tensor(0.630559, shape=(), dtype=float32)\n",
            "Epoch 95\n"
          ]
        },
        {
          "metadata": {
            "tags": null
          },
          "name": "stderr",
          "output_type": "stream",
          "text": [
            "100%|██████████| 193/193 [01:40<00:00,  1.93it/s]\n",
            "100%|██████████| 20/20 [00:15<00:00,  1.26it/s]\n"
          ]
        },
        {
          "metadata": {
            "tags": null
          },
          "name": "stdout",
          "output_type": "stream",
          "text": [
            "tf.Tensor(0.6267674, shape=(), dtype=float32)\n",
            "Epoch 96\n"
          ]
        },
        {
          "metadata": {
            "tags": null
          },
          "name": "stderr",
          "output_type": "stream",
          "text": [
            "100%|██████████| 193/193 [01:40<00:00,  1.93it/s]\n",
            "100%|██████████| 20/20 [00:15<00:00,  1.26it/s]\n"
          ]
        },
        {
          "metadata": {
            "tags": null
          },
          "name": "stdout",
          "output_type": "stream",
          "text": [
            "tf.Tensor(0.62783563, shape=(), dtype=float32)\n",
            "Epoch 97\n"
          ]
        },
        {
          "metadata": {
            "tags": null
          },
          "name": "stderr",
          "output_type": "stream",
          "text": [
            "100%|██████████| 193/193 [01:40<00:00,  1.92it/s]\n",
            "100%|██████████| 20/20 [00:15<00:00,  1.26it/s]\n"
          ]
        },
        {
          "metadata": {
            "tags": null
          },
          "name": "stdout",
          "output_type": "stream",
          "text": [
            "tf.Tensor(0.633801, shape=(), dtype=float32)\n",
            "Epoch 98\n"
          ]
        },
        {
          "metadata": {
            "tags": null
          },
          "name": "stderr",
          "output_type": "stream",
          "text": [
            "100%|██████████| 193/193 [01:40<00:00,  1.92it/s]\n",
            "100%|██████████| 20/20 [00:15<00:00,  1.26it/s]\n"
          ]
        },
        {
          "metadata": {
            "tags": null
          },
          "name": "stdout",
          "output_type": "stream",
          "text": [
            "tf.Tensor(0.6321244, shape=(), dtype=float32)\n",
            "Epoch 99\n"
          ]
        },
        {
          "metadata": {
            "tags": null
          },
          "name": "stderr",
          "output_type": "stream",
          "text": [
            "100%|██████████| 193/193 [01:40<00:00,  1.93it/s]\n",
            "100%|██████████| 20/20 [00:15<00:00,  1.26it/s]\n"
          ]
        },
        {
          "metadata": {
            "tags": null
          },
          "name": "stdout",
          "output_type": "stream",
          "text": [
            "tf.Tensor(0.62954605, shape=(), dtype=float32)\n",
            "Epoch 100\n"
          ]
        },
        {
          "metadata": {
            "tags": null
          },
          "name": "stderr",
          "output_type": "stream",
          "text": [
            "100%|██████████| 193/193 [01:40<00:00,  1.93it/s]\n",
            "100%|██████████| 20/20 [00:15<00:00,  1.26it/s]\n"
          ]
        },
        {
          "metadata": {
            "tags": null
          },
          "name": "stdout",
          "output_type": "stream",
          "text": [
            "tf.Tensor(0.6256973, shape=(), dtype=float32)\n",
            "Epoch 101\n"
          ]
        },
        {
          "metadata": {
            "tags": null
          },
          "name": "stderr",
          "output_type": "stream",
          "text": [
            "100%|██████████| 193/193 [01:40<00:00,  1.93it/s]\n",
            "100%|██████████| 20/20 [00:15<00:00,  1.26it/s]\n"
          ]
        },
        {
          "metadata": {
            "tags": null
          },
          "name": "stdout",
          "output_type": "stream",
          "text": [
            "tf.Tensor(0.6246518, shape=(), dtype=float32)\n",
            "Epoch 102\n"
          ]
        },
        {
          "metadata": {
            "tags": null
          },
          "name": "stderr",
          "output_type": "stream",
          "text": [
            "100%|██████████| 193/193 [01:40<00:00,  1.92it/s]\n",
            "100%|██████████| 20/20 [00:16<00:00,  1.23it/s]\n"
          ]
        },
        {
          "metadata": {
            "tags": null
          },
          "name": "stdout",
          "output_type": "stream",
          "text": [
            "tf.Tensor(0.635089, shape=(), dtype=float32)\n",
            "Epoch 103\n"
          ]
        },
        {
          "metadata": {
            "tags": null
          },
          "name": "stderr",
          "output_type": "stream",
          "text": [
            "100%|██████████| 193/193 [01:40<00:00,  1.91it/s]\n",
            "100%|██████████| 20/20 [00:16<00:00,  1.23it/s]\n"
          ]
        },
        {
          "metadata": {
            "tags": null
          },
          "name": "stdout",
          "output_type": "stream",
          "text": [
            "tf.Tensor(0.62792057, shape=(), dtype=float32)\n",
            "Epoch 104\n"
          ]
        },
        {
          "metadata": {
            "tags": null
          },
          "name": "stderr",
          "output_type": "stream",
          "text": [
            "100%|██████████| 193/193 [01:41<00:00,  1.91it/s]\n",
            "100%|██████████| 20/20 [00:15<00:00,  1.25it/s]\n"
          ]
        },
        {
          "metadata": {
            "tags": null
          },
          "name": "stdout",
          "output_type": "stream",
          "text": [
            "tf.Tensor(0.62338716, shape=(), dtype=float32)\n",
            "Epoch 105\n"
          ]
        },
        {
          "metadata": {
            "tags": null
          },
          "name": "stderr",
          "output_type": "stream",
          "text": [
            "100%|██████████| 193/193 [01:40<00:00,  1.92it/s]\n",
            "100%|██████████| 20/20 [00:15<00:00,  1.26it/s]\n"
          ]
        },
        {
          "metadata": {
            "tags": null
          },
          "name": "stdout",
          "output_type": "stream",
          "text": [
            "tf.Tensor(0.6279377, shape=(), dtype=float32)\n",
            "Epoch 106\n"
          ]
        },
        {
          "metadata": {
            "tags": null
          },
          "name": "stderr",
          "output_type": "stream",
          "text": [
            "100%|██████████| 193/193 [01:40<00:00,  1.93it/s]\n",
            "100%|██████████| 20/20 [00:15<00:00,  1.25it/s]\n"
          ]
        },
        {
          "metadata": {
            "tags": null
          },
          "name": "stdout",
          "output_type": "stream",
          "text": [
            "tf.Tensor(0.6298923, shape=(), dtype=float32)\n",
            "Epoch 107\n"
          ]
        },
        {
          "metadata": {
            "tags": null
          },
          "name": "stderr",
          "output_type": "stream",
          "text": [
            "100%|██████████| 193/193 [01:40<00:00,  1.92it/s]\n",
            "100%|██████████| 20/20 [00:15<00:00,  1.26it/s]\n"
          ]
        },
        {
          "metadata": {
            "tags": null
          },
          "name": "stdout",
          "output_type": "stream",
          "text": [
            "tf.Tensor(0.6253555, shape=(), dtype=float32)\n",
            "Epoch 108\n"
          ]
        },
        {
          "metadata": {
            "tags": null
          },
          "name": "stderr",
          "output_type": "stream",
          "text": [
            "100%|██████████| 193/193 [01:40<00:00,  1.92it/s]\n",
            "100%|██████████| 20/20 [00:15<00:00,  1.26it/s]\n"
          ]
        },
        {
          "metadata": {
            "tags": null
          },
          "name": "stdout",
          "output_type": "stream",
          "text": [
            "tf.Tensor(0.62851244, shape=(), dtype=float32)\n",
            "Epoch 109\n"
          ]
        },
        {
          "metadata": {
            "tags": null
          },
          "name": "stderr",
          "output_type": "stream",
          "text": [
            "100%|██████████| 193/193 [01:40<00:00,  1.93it/s]\n",
            "100%|██████████| 20/20 [00:15<00:00,  1.26it/s]\n"
          ]
        },
        {
          "metadata": {
            "tags": null
          },
          "name": "stdout",
          "output_type": "stream",
          "text": [
            "tf.Tensor(0.6299832, shape=(), dtype=float32)\n",
            "Epoch 110\n"
          ]
        },
        {
          "metadata": {
            "tags": null
          },
          "name": "stderr",
          "output_type": "stream",
          "text": [
            "100%|██████████| 193/193 [01:40<00:00,  1.93it/s]\n",
            "100%|██████████| 20/20 [00:15<00:00,  1.26it/s]\n"
          ]
        },
        {
          "metadata": {
            "tags": null
          },
          "name": "stdout",
          "output_type": "stream",
          "text": [
            "tf.Tensor(0.6237873, shape=(), dtype=float32)\n",
            "Epoch 111\n"
          ]
        },
        {
          "metadata": {
            "tags": null
          },
          "name": "stderr",
          "output_type": "stream",
          "text": [
            "100%|██████████| 193/193 [01:40<00:00,  1.93it/s]\n",
            "100%|██████████| 20/20 [00:15<00:00,  1.26it/s]\n"
          ]
        },
        {
          "metadata": {
            "tags": null
          },
          "name": "stdout",
          "output_type": "stream",
          "text": [
            "tf.Tensor(0.63060385, shape=(), dtype=float32)\n",
            "Epoch 112\n"
          ]
        },
        {
          "metadata": {
            "tags": null
          },
          "name": "stderr",
          "output_type": "stream",
          "text": [
            "100%|██████████| 193/193 [01:40<00:00,  1.93it/s]\n",
            "100%|██████████| 20/20 [00:15<00:00,  1.26it/s]\n"
          ]
        },
        {
          "metadata": {
            "tags": null
          },
          "name": "stdout",
          "output_type": "stream",
          "text": [
            "tf.Tensor(0.6351524, shape=(), dtype=float32)\n",
            "Epoch 113\n"
          ]
        },
        {
          "metadata": {
            "tags": null
          },
          "name": "stderr",
          "output_type": "stream",
          "text": [
            "100%|██████████| 193/193 [01:40<00:00,  1.93it/s]\n",
            "100%|██████████| 20/20 [00:15<00:00,  1.26it/s]\n"
          ]
        },
        {
          "metadata": {
            "tags": null
          },
          "name": "stdout",
          "output_type": "stream",
          "text": [
            "tf.Tensor(0.6264719, shape=(), dtype=float32)\n",
            "Epoch 114\n"
          ]
        },
        {
          "metadata": {
            "tags": null
          },
          "name": "stderr",
          "output_type": "stream",
          "text": [
            "100%|██████████| 193/193 [01:40<00:00,  1.93it/s]\n",
            "100%|██████████| 20/20 [00:15<00:00,  1.26it/s]\n"
          ]
        },
        {
          "metadata": {
            "tags": null
          },
          "name": "stdout",
          "output_type": "stream",
          "text": [
            "tf.Tensor(0.6290693, shape=(), dtype=float32)\n",
            "Epoch 115\n"
          ]
        },
        {
          "metadata": {
            "tags": null
          },
          "name": "stderr",
          "output_type": "stream",
          "text": [
            "100%|██████████| 193/193 [01:40<00:00,  1.92it/s]\n",
            "100%|██████████| 20/20 [00:15<00:00,  1.26it/s]\n"
          ]
        },
        {
          "metadata": {
            "tags": null
          },
          "name": "stdout",
          "output_type": "stream",
          "text": [
            "tf.Tensor(0.6306482, shape=(), dtype=float32)\n",
            "Epoch 116\n"
          ]
        },
        {
          "metadata": {
            "tags": null
          },
          "name": "stderr",
          "output_type": "stream",
          "text": [
            "100%|██████████| 193/193 [01:40<00:00,  1.93it/s]\n",
            "100%|██████████| 20/20 [00:15<00:00,  1.26it/s]\n"
          ]
        },
        {
          "metadata": {
            "tags": null
          },
          "name": "stdout",
          "output_type": "stream",
          "text": [
            "tf.Tensor(0.6343637, shape=(), dtype=float32)\n",
            "Epoch 117\n"
          ]
        },
        {
          "metadata": {
            "tags": null
          },
          "name": "stderr",
          "output_type": "stream",
          "text": [
            "100%|██████████| 193/193 [01:40<00:00,  1.93it/s]\n",
            "100%|██████████| 20/20 [00:15<00:00,  1.26it/s]\n"
          ]
        },
        {
          "metadata": {
            "tags": null
          },
          "name": "stdout",
          "output_type": "stream",
          "text": [
            "tf.Tensor(0.62105703, shape=(), dtype=float32)\n",
            "Epoch 118\n"
          ]
        },
        {
          "metadata": {
            "tags": null
          },
          "name": "stderr",
          "output_type": "stream",
          "text": [
            "100%|██████████| 193/193 [01:40<00:00,  1.93it/s]\n",
            "100%|██████████| 20/20 [00:15<00:00,  1.26it/s]\n"
          ]
        },
        {
          "metadata": {
            "tags": null
          },
          "name": "stdout",
          "output_type": "stream",
          "text": [
            "tf.Tensor(0.6278871, shape=(), dtype=float32)\n",
            "Epoch 119\n"
          ]
        },
        {
          "metadata": {
            "tags": null
          },
          "name": "stderr",
          "output_type": "stream",
          "text": [
            "100%|██████████| 193/193 [01:40<00:00,  1.93it/s]\n",
            "100%|██████████| 20/20 [00:15<00:00,  1.26it/s]\n"
          ]
        },
        {
          "metadata": {
            "tags": null
          },
          "name": "stdout",
          "output_type": "stream",
          "text": [
            "tf.Tensor(0.62898093, shape=(), dtype=float32)\n",
            "Epoch 120\n"
          ]
        },
        {
          "metadata": {
            "tags": null
          },
          "name": "stderr",
          "output_type": "stream",
          "text": [
            "100%|██████████| 193/193 [01:40<00:00,  1.93it/s]\n",
            "100%|██████████| 20/20 [00:15<00:00,  1.26it/s]\n"
          ]
        },
        {
          "metadata": {
            "tags": null
          },
          "name": "stdout",
          "output_type": "stream",
          "text": [
            "tf.Tensor(0.6316019, shape=(), dtype=float32)\n",
            "Epoch 121\n"
          ]
        },
        {
          "metadata": {
            "tags": null
          },
          "name": "stderr",
          "output_type": "stream",
          "text": [
            "100%|██████████| 193/193 [01:40<00:00,  1.93it/s]\n",
            "100%|██████████| 20/20 [00:15<00:00,  1.26it/s]\n"
          ]
        },
        {
          "metadata": {
            "tags": null
          },
          "name": "stdout",
          "output_type": "stream",
          "text": [
            "tf.Tensor(0.6263947, shape=(), dtype=float32)\n",
            "Epoch 122\n"
          ]
        },
        {
          "metadata": {
            "tags": null
          },
          "name": "stderr",
          "output_type": "stream",
          "text": [
            "100%|██████████| 193/193 [01:40<00:00,  1.93it/s]\n",
            "100%|██████████| 20/20 [00:15<00:00,  1.26it/s]\n"
          ]
        },
        {
          "metadata": {
            "tags": null
          },
          "name": "stdout",
          "output_type": "stream",
          "text": [
            "tf.Tensor(0.6291778, shape=(), dtype=float32)\n",
            "Epoch 123\n"
          ]
        },
        {
          "metadata": {
            "tags": null
          },
          "name": "stderr",
          "output_type": "stream",
          "text": [
            "100%|██████████| 193/193 [01:40<00:00,  1.93it/s]\n",
            "100%|██████████| 20/20 [00:15<00:00,  1.26it/s]\n"
          ]
        },
        {
          "metadata": {
            "tags": null
          },
          "name": "stdout",
          "output_type": "stream",
          "text": [
            "tf.Tensor(0.6242359, shape=(), dtype=float32)\n",
            "Epoch 124\n"
          ]
        },
        {
          "metadata": {
            "tags": null
          },
          "name": "stderr",
          "output_type": "stream",
          "text": [
            "100%|██████████| 193/193 [01:40<00:00,  1.93it/s]\n",
            "100%|██████████| 20/20 [00:15<00:00,  1.26it/s]\n"
          ]
        },
        {
          "metadata": {
            "tags": null
          },
          "name": "stdout",
          "output_type": "stream",
          "text": [
            "tf.Tensor(0.6271778, shape=(), dtype=float32)\n",
            "Epoch 125\n"
          ]
        },
        {
          "metadata": {
            "tags": null
          },
          "name": "stderr",
          "output_type": "stream",
          "text": [
            "100%|██████████| 193/193 [01:40<00:00,  1.93it/s]\n",
            "100%|██████████| 20/20 [00:15<00:00,  1.26it/s]\n"
          ]
        },
        {
          "metadata": {
            "tags": null
          },
          "name": "stdout",
          "output_type": "stream",
          "text": [
            "tf.Tensor(0.62668693, shape=(), dtype=float32)\n",
            "Epoch 126\n"
          ]
        },
        {
          "metadata": {
            "tags": null
          },
          "name": "stderr",
          "output_type": "stream",
          "text": [
            "100%|██████████| 193/193 [01:40<00:00,  1.91it/s]\n",
            "100%|██████████| 20/20 [00:15<00:00,  1.25it/s]\n"
          ]
        },
        {
          "metadata": {
            "tags": null
          },
          "name": "stdout",
          "output_type": "stream",
          "text": [
            "tf.Tensor(0.6294715, shape=(), dtype=float32)\n",
            "Epoch 127\n"
          ]
        },
        {
          "output_type": "stream",
          "name": "stderr",
          "text": [
            "100%|██████████| 193/193 [01:40<00:00,  1.92it/s]\n",
            "100%|██████████| 20/20 [00:15<00:00,  1.26it/s]\n"
          ]
        },
        {
          "output_type": "stream",
          "name": "stdout",
          "text": [
            "tf.Tensor(0.62979895, shape=(), dtype=float32)\n",
            "Epoch 128\n"
          ]
        },
        {
          "output_type": "stream",
          "name": "stderr",
          "text": [
            "100%|██████████| 193/193 [01:40<00:00,  1.93it/s]\n",
            "100%|██████████| 20/20 [00:15<00:00,  1.26it/s]\n"
          ]
        },
        {
          "output_type": "stream",
          "name": "stdout",
          "text": [
            "tf.Tensor(0.63175404, shape=(), dtype=float32)\n",
            "Epoch 129\n"
          ]
        },
        {
          "output_type": "stream",
          "name": "stderr",
          "text": [
            "100%|██████████| 193/193 [01:40<00:00,  1.93it/s]\n",
            "100%|██████████| 20/20 [00:15<00:00,  1.26it/s]\n"
          ]
        },
        {
          "output_type": "stream",
          "name": "stdout",
          "text": [
            "tf.Tensor(0.6313549, shape=(), dtype=float32)\n",
            "Epoch 130\n"
          ]
        },
        {
          "output_type": "stream",
          "name": "stderr",
          "text": [
            "100%|██████████| 193/193 [01:40<00:00,  1.93it/s]\n",
            "100%|██████████| 20/20 [00:15<00:00,  1.26it/s]\n"
          ]
        },
        {
          "output_type": "stream",
          "name": "stdout",
          "text": [
            "tf.Tensor(0.6266363, shape=(), dtype=float32)\n",
            "Epoch 131\n"
          ]
        },
        {
          "output_type": "stream",
          "name": "stderr",
          "text": [
            "100%|██████████| 193/193 [01:40<00:00,  1.93it/s]\n",
            "100%|██████████| 20/20 [00:15<00:00,  1.26it/s]\n"
          ]
        },
        {
          "output_type": "stream",
          "name": "stdout",
          "text": [
            "tf.Tensor(0.6279531, shape=(), dtype=float32)\n",
            "Epoch 132\n"
          ]
        },
        {
          "output_type": "stream",
          "name": "stderr",
          "text": [
            "100%|██████████| 193/193 [01:40<00:00,  1.93it/s]\n",
            "100%|██████████| 20/20 [00:15<00:00,  1.26it/s]\n"
          ]
        },
        {
          "output_type": "stream",
          "name": "stdout",
          "text": [
            "tf.Tensor(0.6316428, shape=(), dtype=float32)\n",
            "Epoch 133\n"
          ]
        },
        {
          "output_type": "stream",
          "name": "stderr",
          "text": [
            "100%|██████████| 193/193 [01:40<00:00,  1.92it/s]\n",
            "100%|██████████| 20/20 [00:15<00:00,  1.26it/s]\n"
          ]
        },
        {
          "output_type": "stream",
          "name": "stdout",
          "text": [
            "tf.Tensor(0.6303496, shape=(), dtype=float32)\n",
            "Epoch 134\n"
          ]
        },
        {
          "output_type": "stream",
          "name": "stderr",
          "text": [
            "100%|██████████| 193/193 [01:40<00:00,  1.93it/s]\n",
            "100%|██████████| 20/20 [00:15<00:00,  1.26it/s]\n"
          ]
        },
        {
          "output_type": "stream",
          "name": "stdout",
          "text": [
            "tf.Tensor(0.634382, shape=(), dtype=float32)\n",
            "Epoch 135\n"
          ]
        },
        {
          "output_type": "stream",
          "name": "stderr",
          "text": [
            "100%|██████████| 193/193 [01:40<00:00,  1.92it/s]\n",
            "100%|██████████| 20/20 [00:15<00:00,  1.26it/s]\n"
          ]
        },
        {
          "output_type": "stream",
          "name": "stdout",
          "text": [
            "tf.Tensor(0.6224152, shape=(), dtype=float32)\n",
            "Epoch 136\n"
          ]
        },
        {
          "output_type": "stream",
          "name": "stderr",
          "text": [
            "100%|██████████| 193/193 [01:40<00:00,  1.93it/s]\n",
            "100%|██████████| 20/20 [00:15<00:00,  1.26it/s]\n"
          ]
        },
        {
          "output_type": "stream",
          "name": "stdout",
          "text": [
            "tf.Tensor(0.63306403, shape=(), dtype=float32)\n",
            "Epoch 137\n"
          ]
        },
        {
          "output_type": "stream",
          "name": "stderr",
          "text": [
            "100%|██████████| 193/193 [01:40<00:00,  1.93it/s]\n",
            "100%|██████████| 20/20 [00:15<00:00,  1.26it/s]\n"
          ]
        },
        {
          "output_type": "stream",
          "name": "stdout",
          "text": [
            "tf.Tensor(0.6236451, shape=(), dtype=float32)\n",
            "Epoch 138\n"
          ]
        },
        {
          "output_type": "stream",
          "name": "stderr",
          "text": [
            "100%|██████████| 193/193 [01:40<00:00,  1.93it/s]\n",
            "100%|██████████| 20/20 [00:15<00:00,  1.26it/s]\n"
          ]
        },
        {
          "output_type": "stream",
          "name": "stdout",
          "text": [
            "tf.Tensor(0.63094777, shape=(), dtype=float32)\n",
            "Epoch 139\n"
          ]
        },
        {
          "output_type": "stream",
          "name": "stderr",
          "text": [
            "100%|██████████| 193/193 [01:40<00:00,  1.93it/s]\n",
            "100%|██████████| 20/20 [00:15<00:00,  1.27it/s]\n"
          ]
        },
        {
          "output_type": "stream",
          "name": "stdout",
          "text": [
            "tf.Tensor(0.62597626, shape=(), dtype=float32)\n",
            "Epoch 140\n"
          ]
        },
        {
          "output_type": "stream",
          "name": "stderr",
          "text": [
            "100%|██████████| 193/193 [01:40<00:00,  1.93it/s]\n",
            "100%|██████████| 20/20 [00:15<00:00,  1.26it/s]\n"
          ]
        },
        {
          "output_type": "stream",
          "name": "stdout",
          "text": [
            "tf.Tensor(0.627541, shape=(), dtype=float32)\n",
            "Epoch 141\n"
          ]
        },
        {
          "output_type": "stream",
          "name": "stderr",
          "text": [
            "100%|██████████| 193/193 [01:40<00:00,  1.93it/s]\n",
            "100%|██████████| 20/20 [00:15<00:00,  1.26it/s]\n"
          ]
        },
        {
          "output_type": "stream",
          "name": "stdout",
          "text": [
            "tf.Tensor(0.6324412, shape=(), dtype=float32)\n",
            "Epoch 142\n"
          ]
        },
        {
          "output_type": "stream",
          "name": "stderr",
          "text": [
            "100%|██████████| 193/193 [01:40<00:00,  1.93it/s]\n",
            "100%|██████████| 20/20 [00:15<00:00,  1.26it/s]\n"
          ]
        },
        {
          "output_type": "stream",
          "name": "stdout",
          "text": [
            "tf.Tensor(0.6258153, shape=(), dtype=float32)\n",
            "Epoch 143\n"
          ]
        },
        {
          "output_type": "stream",
          "name": "stderr",
          "text": [
            "100%|██████████| 193/193 [01:40<00:00,  1.93it/s]\n",
            "100%|██████████| 20/20 [00:15<00:00,  1.26it/s]\n"
          ]
        },
        {
          "output_type": "stream",
          "name": "stdout",
          "text": [
            "tf.Tensor(0.6277837, shape=(), dtype=float32)\n",
            "Epoch 144\n"
          ]
        },
        {
          "output_type": "stream",
          "name": "stderr",
          "text": [
            "100%|██████████| 193/193 [01:40<00:00,  1.93it/s]\n",
            "100%|██████████| 20/20 [00:15<00:00,  1.27it/s]\n"
          ]
        },
        {
          "output_type": "stream",
          "name": "stdout",
          "text": [
            "tf.Tensor(0.6315691, shape=(), dtype=float32)\n",
            "Epoch 145\n"
          ]
        },
        {
          "output_type": "stream",
          "name": "stderr",
          "text": [
            "100%|██████████| 193/193 [01:39<00:00,  1.93it/s]\n",
            "100%|██████████| 20/20 [00:15<00:00,  1.26it/s]\n"
          ]
        },
        {
          "output_type": "stream",
          "name": "stdout",
          "text": [
            "tf.Tensor(0.62420917, shape=(), dtype=float32)\n",
            "Epoch 146\n"
          ]
        },
        {
          "output_type": "stream",
          "name": "stderr",
          "text": [
            "100%|██████████| 193/193 [01:40<00:00,  1.92it/s]\n",
            "100%|██████████| 20/20 [00:15<00:00,  1.26it/s]\n"
          ]
        },
        {
          "output_type": "stream",
          "name": "stdout",
          "text": [
            "tf.Tensor(0.6218353, shape=(), dtype=float32)\n",
            "Epoch 147\n"
          ]
        },
        {
          "output_type": "stream",
          "name": "stderr",
          "text": [
            "100%|██████████| 193/193 [01:40<00:00,  1.93it/s]\n",
            "100%|██████████| 20/20 [00:15<00:00,  1.26it/s]\n"
          ]
        },
        {
          "output_type": "stream",
          "name": "stdout",
          "text": [
            "tf.Tensor(0.6326165, shape=(), dtype=float32)\n",
            "Epoch 148\n"
          ]
        },
        {
          "output_type": "stream",
          "name": "stderr",
          "text": [
            "100%|██████████| 193/193 [01:40<00:00,  1.92it/s]\n",
            "100%|██████████| 20/20 [00:15<00:00,  1.27it/s]\n"
          ]
        },
        {
          "output_type": "stream",
          "name": "stdout",
          "text": [
            "tf.Tensor(0.6272945, shape=(), dtype=float32)\n",
            "Epoch 149\n"
          ]
        },
        {
          "output_type": "stream",
          "name": "stderr",
          "text": [
            "100%|██████████| 193/193 [01:40<00:00,  1.93it/s]\n",
            "100%|██████████| 20/20 [00:15<00:00,  1.27it/s]\n"
          ]
        },
        {
          "output_type": "stream",
          "name": "stdout",
          "text": [
            "tf.Tensor(0.63011706, shape=(), dtype=float32)\n",
            "Epoch 150\n"
          ]
        },
        {
          "output_type": "stream",
          "name": "stderr",
          "text": [
            "100%|██████████| 193/193 [01:40<00:00,  1.93it/s]\n",
            "100%|██████████| 20/20 [00:15<00:00,  1.26it/s]\n"
          ]
        },
        {
          "output_type": "stream",
          "name": "stdout",
          "text": [
            "tf.Tensor(0.6284775, shape=(), dtype=float32)\n",
            "Epoch 151\n"
          ]
        },
        {
          "output_type": "stream",
          "name": "stderr",
          "text": [
            "100%|██████████| 193/193 [01:40<00:00,  1.93it/s]\n",
            "100%|██████████| 20/20 [00:16<00:00,  1.25it/s]\n"
          ]
        },
        {
          "output_type": "stream",
          "name": "stdout",
          "text": [
            "tf.Tensor(0.63161975, shape=(), dtype=float32)\n",
            "Epoch 152\n"
          ]
        },
        {
          "output_type": "stream",
          "name": "stderr",
          "text": [
            "100%|██████████| 193/193 [01:40<00:00,  1.93it/s]\n",
            "100%|██████████| 20/20 [00:15<00:00,  1.26it/s]\n"
          ]
        },
        {
          "output_type": "stream",
          "name": "stdout",
          "text": [
            "tf.Tensor(0.63124055, shape=(), dtype=float32)\n",
            "Epoch 153\n"
          ]
        },
        {
          "output_type": "stream",
          "name": "stderr",
          "text": [
            "100%|██████████| 193/193 [01:39<00:00,  1.93it/s]\n",
            "100%|██████████| 20/20 [00:15<00:00,  1.26it/s]\n"
          ]
        },
        {
          "output_type": "stream",
          "name": "stdout",
          "text": [
            "tf.Tensor(0.6280325, shape=(), dtype=float32)\n",
            "Epoch 154\n"
          ]
        },
        {
          "output_type": "stream",
          "name": "stderr",
          "text": [
            "100%|██████████| 193/193 [01:39<00:00,  1.93it/s]\n",
            "100%|██████████| 20/20 [00:15<00:00,  1.27it/s]\n"
          ]
        },
        {
          "output_type": "stream",
          "name": "stdout",
          "text": [
            "tf.Tensor(0.6279157, shape=(), dtype=float32)\n",
            "Epoch 155\n"
          ]
        },
        {
          "output_type": "stream",
          "name": "stderr",
          "text": [
            "100%|██████████| 193/193 [01:39<00:00,  1.93it/s]\n",
            "100%|██████████| 20/20 [00:15<00:00,  1.27it/s]\n"
          ]
        },
        {
          "output_type": "stream",
          "name": "stdout",
          "text": [
            "tf.Tensor(0.6299267, shape=(), dtype=float32)\n",
            "Epoch 156\n"
          ]
        },
        {
          "output_type": "stream",
          "name": "stderr",
          "text": [
            "100%|██████████| 193/193 [01:40<00:00,  1.93it/s]\n",
            "100%|██████████| 20/20 [00:15<00:00,  1.27it/s]\n"
          ]
        },
        {
          "output_type": "stream",
          "name": "stdout",
          "text": [
            "tf.Tensor(0.6273057, shape=(), dtype=float32)\n",
            "Epoch 157\n"
          ]
        },
        {
          "output_type": "stream",
          "name": "stderr",
          "text": [
            "100%|██████████| 193/193 [01:40<00:00,  1.93it/s]\n",
            "100%|██████████| 20/20 [00:15<00:00,  1.26it/s]\n"
          ]
        },
        {
          "output_type": "stream",
          "name": "stdout",
          "text": [
            "tf.Tensor(0.62423223, shape=(), dtype=float32)\n",
            "Epoch 158\n"
          ]
        },
        {
          "output_type": "stream",
          "name": "stderr",
          "text": [
            "100%|██████████| 193/193 [01:39<00:00,  1.93it/s]\n",
            "100%|██████████| 20/20 [00:15<00:00,  1.26it/s]\n"
          ]
        },
        {
          "output_type": "stream",
          "name": "stdout",
          "text": [
            "tf.Tensor(0.6296014, shape=(), dtype=float32)\n",
            "Epoch 159\n"
          ]
        },
        {
          "output_type": "stream",
          "name": "stderr",
          "text": [
            "100%|██████████| 193/193 [01:39<00:00,  1.93it/s]\n",
            "100%|██████████| 20/20 [00:15<00:00,  1.27it/s]\n"
          ]
        },
        {
          "output_type": "stream",
          "name": "stdout",
          "text": [
            "tf.Tensor(0.6298462, shape=(), dtype=float32)\n",
            "Epoch 160\n"
          ]
        },
        {
          "output_type": "stream",
          "name": "stderr",
          "text": [
            "100%|██████████| 193/193 [01:39<00:00,  1.93it/s]\n",
            "100%|██████████| 20/20 [00:15<00:00,  1.27it/s]\n"
          ]
        },
        {
          "output_type": "stream",
          "name": "stdout",
          "text": [
            "tf.Tensor(0.62612504, shape=(), dtype=float32)\n",
            "Epoch 161\n"
          ]
        },
        {
          "output_type": "stream",
          "name": "stderr",
          "text": [
            "100%|██████████| 193/193 [01:39<00:00,  1.93it/s]\n",
            "100%|██████████| 20/20 [00:15<00:00,  1.26it/s]\n"
          ]
        },
        {
          "output_type": "stream",
          "name": "stdout",
          "text": [
            "tf.Tensor(0.63243467, shape=(), dtype=float32)\n",
            "Epoch 162\n"
          ]
        },
        {
          "output_type": "stream",
          "name": "stderr",
          "text": [
            "100%|██████████| 193/193 [01:39<00:00,  1.93it/s]\n",
            "100%|██████████| 20/20 [00:15<00:00,  1.27it/s]\n"
          ]
        },
        {
          "output_type": "stream",
          "name": "stdout",
          "text": [
            "tf.Tensor(0.62686336, shape=(), dtype=float32)\n",
            "Epoch 163\n"
          ]
        },
        {
          "output_type": "stream",
          "name": "stderr",
          "text": [
            "100%|██████████| 193/193 [01:40<00:00,  1.93it/s]\n",
            "100%|██████████| 20/20 [00:15<00:00,  1.27it/s]\n"
          ]
        },
        {
          "output_type": "stream",
          "name": "stdout",
          "text": [
            "tf.Tensor(0.6310543, shape=(), dtype=float32)\n",
            "Epoch 164\n"
          ]
        },
        {
          "output_type": "stream",
          "name": "stderr",
          "text": [
            "100%|██████████| 193/193 [01:39<00:00,  1.93it/s]\n",
            "100%|██████████| 20/20 [00:15<00:00,  1.27it/s]\n"
          ]
        },
        {
          "output_type": "stream",
          "name": "stdout",
          "text": [
            "tf.Tensor(0.6264832, shape=(), dtype=float32)\n",
            "Epoch 165\n"
          ]
        },
        {
          "output_type": "stream",
          "name": "stderr",
          "text": [
            "100%|██████████| 193/193 [01:39<00:00,  1.93it/s]\n",
            "100%|██████████| 20/20 [00:15<00:00,  1.27it/s]\n"
          ]
        },
        {
          "output_type": "stream",
          "name": "stdout",
          "text": [
            "tf.Tensor(0.6308838, shape=(), dtype=float32)\n",
            "Epoch 166\n"
          ]
        },
        {
          "output_type": "stream",
          "name": "stderr",
          "text": [
            "100%|██████████| 193/193 [01:40<00:00,  1.92it/s]\n",
            "100%|██████████| 20/20 [00:15<00:00,  1.27it/s]\n"
          ]
        },
        {
          "output_type": "stream",
          "name": "stdout",
          "text": [
            "tf.Tensor(0.6339551, shape=(), dtype=float32)\n",
            "Epoch 167\n"
          ]
        },
        {
          "output_type": "stream",
          "name": "stderr",
          "text": [
            "100%|██████████| 193/193 [01:39<00:00,  1.93it/s]\n",
            "100%|██████████| 20/20 [00:15<00:00,  1.27it/s]\n"
          ]
        },
        {
          "output_type": "stream",
          "name": "stdout",
          "text": [
            "tf.Tensor(0.63190466, shape=(), dtype=float32)\n",
            "Epoch 168\n"
          ]
        },
        {
          "output_type": "stream",
          "name": "stderr",
          "text": [
            "100%|██████████| 193/193 [01:39<00:00,  1.93it/s]\n",
            "100%|██████████| 20/20 [00:15<00:00,  1.26it/s]\n"
          ]
        },
        {
          "output_type": "stream",
          "name": "stdout",
          "text": [
            "tf.Tensor(0.63888884, shape=(), dtype=float32)\n",
            "Epoch 169\n"
          ]
        },
        {
          "output_type": "stream",
          "name": "stderr",
          "text": [
            "100%|██████████| 193/193 [01:40<00:00,  1.93it/s]\n",
            "100%|██████████| 20/20 [00:16<00:00,  1.25it/s]\n"
          ]
        },
        {
          "output_type": "stream",
          "name": "stdout",
          "text": [
            "tf.Tensor(0.62819827, shape=(), dtype=float32)\n",
            "Epoch 170\n"
          ]
        },
        {
          "output_type": "stream",
          "name": "stderr",
          "text": [
            "100%|██████████| 193/193 [01:39<00:00,  1.93it/s]\n",
            "100%|██████████| 20/20 [00:15<00:00,  1.27it/s]\n"
          ]
        },
        {
          "output_type": "stream",
          "name": "stdout",
          "text": [
            "tf.Tensor(0.6299814, shape=(), dtype=float32)\n",
            "Epoch 171\n"
          ]
        },
        {
          "output_type": "stream",
          "name": "stderr",
          "text": [
            "100%|██████████| 193/193 [01:39<00:00,  1.93it/s]\n",
            "100%|██████████| 20/20 [00:15<00:00,  1.27it/s]\n"
          ]
        },
        {
          "output_type": "stream",
          "name": "stdout",
          "text": [
            "tf.Tensor(0.6352046, shape=(), dtype=float32)\n",
            "Epoch 172\n"
          ]
        },
        {
          "output_type": "stream",
          "name": "stderr",
          "text": [
            "100%|██████████| 193/193 [01:39<00:00,  1.93it/s]\n",
            "100%|██████████| 20/20 [00:15<00:00,  1.27it/s]\n"
          ]
        },
        {
          "output_type": "stream",
          "name": "stdout",
          "text": [
            "tf.Tensor(0.62657094, shape=(), dtype=float32)\n",
            "Epoch 173\n"
          ]
        },
        {
          "output_type": "stream",
          "name": "stderr",
          "text": [
            "100%|██████████| 193/193 [01:40<00:00,  1.93it/s]\n",
            "100%|██████████| 20/20 [00:15<00:00,  1.25it/s]\n"
          ]
        },
        {
          "output_type": "stream",
          "name": "stdout",
          "text": [
            "tf.Tensor(0.62930346, shape=(), dtype=float32)\n",
            "Epoch 174\n"
          ]
        },
        {
          "output_type": "stream",
          "name": "stderr",
          "text": [
            "100%|██████████| 193/193 [01:39<00:00,  1.93it/s]\n",
            "100%|██████████| 20/20 [00:15<00:00,  1.26it/s]\n"
          ]
        },
        {
          "output_type": "stream",
          "name": "stdout",
          "text": [
            "tf.Tensor(0.63039744, shape=(), dtype=float32)\n",
            "Epoch 175\n"
          ]
        },
        {
          "output_type": "stream",
          "name": "stderr",
          "text": [
            "100%|██████████| 193/193 [01:39<00:00,  1.93it/s]\n",
            "100%|██████████| 20/20 [00:15<00:00,  1.26it/s]\n"
          ]
        },
        {
          "output_type": "stream",
          "name": "stdout",
          "text": [
            "tf.Tensor(0.6307094, shape=(), dtype=float32)\n",
            "Epoch 176\n"
          ]
        },
        {
          "output_type": "stream",
          "name": "stderr",
          "text": [
            "100%|██████████| 193/193 [01:40<00:00,  1.93it/s]\n",
            "100%|██████████| 20/20 [00:15<00:00,  1.26it/s]\n"
          ]
        },
        {
          "output_type": "stream",
          "name": "stdout",
          "text": [
            "tf.Tensor(0.6306612, shape=(), dtype=float32)\n",
            "Epoch 177\n"
          ]
        },
        {
          "output_type": "stream",
          "name": "stderr",
          "text": [
            "100%|██████████| 193/193 [01:40<00:00,  1.93it/s]\n",
            "100%|██████████| 20/20 [00:15<00:00,  1.27it/s]\n"
          ]
        },
        {
          "output_type": "stream",
          "name": "stdout",
          "text": [
            "tf.Tensor(0.6313709, shape=(), dtype=float32)\n",
            "Epoch 178\n"
          ]
        },
        {
          "output_type": "stream",
          "name": "stderr",
          "text": [
            "100%|██████████| 193/193 [01:39<00:00,  1.93it/s]\n",
            "100%|██████████| 20/20 [00:15<00:00,  1.26it/s]\n"
          ]
        },
        {
          "output_type": "stream",
          "name": "stdout",
          "text": [
            "tf.Tensor(0.6351555, shape=(), dtype=float32)\n",
            "Epoch 179\n"
          ]
        },
        {
          "output_type": "stream",
          "name": "stderr",
          "text": [
            "100%|██████████| 193/193 [01:39<00:00,  1.93it/s]\n",
            "100%|██████████| 20/20 [00:15<00:00,  1.27it/s]\n"
          ]
        },
        {
          "output_type": "stream",
          "name": "stdout",
          "text": [
            "tf.Tensor(0.6263515, shape=(), dtype=float32)\n",
            "Epoch 180\n"
          ]
        },
        {
          "output_type": "stream",
          "name": "stderr",
          "text": [
            "100%|██████████| 193/193 [01:39<00:00,  1.93it/s]\n",
            "100%|██████████| 20/20 [00:15<00:00,  1.27it/s]\n"
          ]
        },
        {
          "output_type": "stream",
          "name": "stdout",
          "text": [
            "tf.Tensor(0.6258609, shape=(), dtype=float32)\n",
            "Epoch 181\n"
          ]
        },
        {
          "output_type": "stream",
          "name": "stderr",
          "text": [
            "100%|██████████| 193/193 [01:39<00:00,  1.93it/s]\n",
            "100%|██████████| 20/20 [00:15<00:00,  1.26it/s]\n"
          ]
        },
        {
          "output_type": "stream",
          "name": "stdout",
          "text": [
            "tf.Tensor(0.63256395, shape=(), dtype=float32)\n",
            "Epoch 182\n"
          ]
        },
        {
          "output_type": "stream",
          "name": "stderr",
          "text": [
            "100%|██████████| 193/193 [01:39<00:00,  1.93it/s]\n",
            "100%|██████████| 20/20 [00:15<00:00,  1.27it/s]\n"
          ]
        },
        {
          "output_type": "stream",
          "name": "stdout",
          "text": [
            "tf.Tensor(0.6308109, shape=(), dtype=float32)\n",
            "Epoch 183\n"
          ]
        },
        {
          "output_type": "stream",
          "name": "stderr",
          "text": [
            "100%|██████████| 193/193 [01:39<00:00,  1.93it/s]\n",
            "100%|██████████| 20/20 [00:15<00:00,  1.26it/s]\n"
          ]
        },
        {
          "output_type": "stream",
          "name": "stdout",
          "text": [
            "tf.Tensor(0.63329595, shape=(), dtype=float32)\n",
            "Epoch 184\n"
          ]
        },
        {
          "output_type": "stream",
          "name": "stderr",
          "text": [
            "100%|██████████| 193/193 [01:39<00:00,  1.93it/s]\n",
            "100%|██████████| 20/20 [00:15<00:00,  1.27it/s]\n"
          ]
        },
        {
          "output_type": "stream",
          "name": "stdout",
          "text": [
            "tf.Tensor(0.6314501, shape=(), dtype=float32)\n",
            "Epoch 185\n"
          ]
        },
        {
          "output_type": "stream",
          "name": "stderr",
          "text": [
            "100%|██████████| 193/193 [01:39<00:00,  1.93it/s]\n",
            "100%|██████████| 20/20 [00:15<00:00,  1.27it/s]\n"
          ]
        },
        {
          "output_type": "stream",
          "name": "stdout",
          "text": [
            "tf.Tensor(0.62921363, shape=(), dtype=float32)\n",
            "Epoch 186\n"
          ]
        },
        {
          "output_type": "stream",
          "name": "stderr",
          "text": [
            "100%|██████████| 193/193 [01:39<00:00,  1.93it/s]\n",
            "100%|██████████| 20/20 [00:15<00:00,  1.26it/s]\n"
          ]
        },
        {
          "output_type": "stream",
          "name": "stdout",
          "text": [
            "tf.Tensor(0.6283794, shape=(), dtype=float32)\n",
            "Epoch 187\n"
          ]
        },
        {
          "output_type": "stream",
          "name": "stderr",
          "text": [
            "100%|██████████| 193/193 [01:39<00:00,  1.93it/s]\n",
            "100%|██████████| 20/20 [00:15<00:00,  1.27it/s]\n"
          ]
        },
        {
          "output_type": "stream",
          "name": "stdout",
          "text": [
            "tf.Tensor(0.6321314, shape=(), dtype=float32)\n",
            "Epoch 188\n"
          ]
        },
        {
          "output_type": "stream",
          "name": "stderr",
          "text": [
            "100%|██████████| 193/193 [01:39<00:00,  1.93it/s]\n",
            "100%|██████████| 20/20 [00:15<00:00,  1.26it/s]\n"
          ]
        },
        {
          "output_type": "stream",
          "name": "stdout",
          "text": [
            "tf.Tensor(0.62735593, shape=(), dtype=float32)\n",
            "Epoch 189\n"
          ]
        },
        {
          "output_type": "stream",
          "name": "stderr",
          "text": [
            "100%|██████████| 193/193 [01:39<00:00,  1.93it/s]\n",
            "100%|██████████| 20/20 [00:15<00:00,  1.27it/s]\n"
          ]
        },
        {
          "output_type": "stream",
          "name": "stdout",
          "text": [
            "tf.Tensor(0.62953347, shape=(), dtype=float32)\n",
            "Epoch 190\n"
          ]
        },
        {
          "output_type": "stream",
          "name": "stderr",
          "text": [
            "100%|██████████| 193/193 [01:39<00:00,  1.93it/s]\n",
            "100%|██████████| 20/20 [00:15<00:00,  1.26it/s]\n"
          ]
        },
        {
          "output_type": "stream",
          "name": "stdout",
          "text": [
            "tf.Tensor(0.63523287, shape=(), dtype=float32)\n",
            "Epoch 191\n"
          ]
        },
        {
          "output_type": "stream",
          "name": "stderr",
          "text": [
            "100%|██████████| 193/193 [01:39<00:00,  1.93it/s]\n",
            "100%|██████████| 20/20 [00:15<00:00,  1.27it/s]\n"
          ]
        },
        {
          "output_type": "stream",
          "name": "stdout",
          "text": [
            "tf.Tensor(0.63223773, shape=(), dtype=float32)\n",
            "Epoch 192\n"
          ]
        },
        {
          "output_type": "stream",
          "name": "stderr",
          "text": [
            "100%|██████████| 193/193 [01:39<00:00,  1.93it/s]\n",
            "100%|██████████| 20/20 [00:15<00:00,  1.27it/s]\n"
          ]
        },
        {
          "output_type": "stream",
          "name": "stdout",
          "text": [
            "tf.Tensor(0.63250476, shape=(), dtype=float32)\n",
            "Epoch 193\n"
          ]
        },
        {
          "output_type": "stream",
          "name": "stderr",
          "text": [
            "100%|██████████| 193/193 [01:39<00:00,  1.93it/s]\n",
            "100%|██████████| 20/20 [00:15<00:00,  1.26it/s]\n"
          ]
        },
        {
          "output_type": "stream",
          "name": "stdout",
          "text": [
            "tf.Tensor(0.6298107, shape=(), dtype=float32)\n",
            "Epoch 194\n"
          ]
        },
        {
          "output_type": "stream",
          "name": "stderr",
          "text": [
            "100%|██████████| 193/193 [01:39<00:00,  1.93it/s]\n",
            "100%|██████████| 20/20 [00:15<00:00,  1.27it/s]\n"
          ]
        },
        {
          "output_type": "stream",
          "name": "stdout",
          "text": [
            "tf.Tensor(0.6309903, shape=(), dtype=float32)\n",
            "Epoch 195\n"
          ]
        },
        {
          "output_type": "stream",
          "name": "stderr",
          "text": [
            "100%|██████████| 193/193 [01:39<00:00,  1.93it/s]\n",
            "100%|██████████| 20/20 [00:15<00:00,  1.27it/s]\n"
          ]
        },
        {
          "output_type": "stream",
          "name": "stdout",
          "text": [
            "tf.Tensor(0.6293052, shape=(), dtype=float32)\n",
            "Epoch 196\n"
          ]
        },
        {
          "output_type": "stream",
          "name": "stderr",
          "text": [
            "100%|██████████| 193/193 [01:39<00:00,  1.93it/s]\n",
            "100%|██████████| 20/20 [00:15<00:00,  1.27it/s]\n"
          ]
        },
        {
          "output_type": "stream",
          "name": "stdout",
          "text": [
            "tf.Tensor(0.6233513, shape=(), dtype=float32)\n",
            "Epoch 197\n"
          ]
        },
        {
          "output_type": "stream",
          "name": "stderr",
          "text": [
            "100%|██████████| 193/193 [01:39<00:00,  1.93it/s]\n",
            "100%|██████████| 20/20 [00:15<00:00,  1.27it/s]\n"
          ]
        },
        {
          "output_type": "stream",
          "name": "stdout",
          "text": [
            "tf.Tensor(0.6254869, shape=(), dtype=float32)\n",
            "Epoch 198\n"
          ]
        },
        {
          "output_type": "stream",
          "name": "stderr",
          "text": [
            "100%|██████████| 193/193 [01:39<00:00,  1.93it/s]\n",
            "100%|██████████| 20/20 [00:15<00:00,  1.27it/s]\n"
          ]
        },
        {
          "output_type": "stream",
          "name": "stdout",
          "text": [
            "tf.Tensor(0.6284684, shape=(), dtype=float32)\n",
            "Epoch 199\n"
          ]
        },
        {
          "output_type": "stream",
          "name": "stderr",
          "text": [
            "100%|██████████| 193/193 [01:39<00:00,  1.93it/s]\n",
            "100%|██████████| 20/20 [00:15<00:00,  1.27it/s]\n"
          ]
        },
        {
          "output_type": "stream",
          "name": "stdout",
          "text": [
            "tf.Tensor(0.6265031, shape=(), dtype=float32)\n",
            "Epoch 200\n"
          ]
        },
        {
          "output_type": "stream",
          "name": "stderr",
          "text": [
            "100%|██████████| 193/193 [01:39<00:00,  1.93it/s]\n",
            "100%|██████████| 20/20 [00:15<00:00,  1.27it/s]\n"
          ]
        },
        {
          "output_type": "stream",
          "name": "stdout",
          "text": [
            "tf.Tensor(0.62679136, shape=(), dtype=float32)\n",
            "Epoch 201\n"
          ]
        },
        {
          "output_type": "stream",
          "name": "stderr",
          "text": [
            "100%|██████████| 193/193 [01:39<00:00,  1.93it/s]\n",
            "100%|██████████| 20/20 [00:15<00:00,  1.27it/s]\n"
          ]
        },
        {
          "output_type": "stream",
          "name": "stdout",
          "text": [
            "tf.Tensor(0.6299568, shape=(), dtype=float32)\n",
            "Epoch 202\n"
          ]
        },
        {
          "output_type": "stream",
          "name": "stderr",
          "text": [
            "100%|██████████| 193/193 [01:39<00:00,  1.93it/s]\n",
            "100%|██████████| 20/20 [00:15<00:00,  1.27it/s]\n"
          ]
        },
        {
          "output_type": "stream",
          "name": "stdout",
          "text": [
            "tf.Tensor(0.6284776, shape=(), dtype=float32)\n",
            "Epoch 203\n"
          ]
        },
        {
          "output_type": "stream",
          "name": "stderr",
          "text": [
            "100%|██████████| 193/193 [01:39<00:00,  1.93it/s]\n",
            "100%|██████████| 20/20 [00:15<00:00,  1.27it/s]\n"
          ]
        },
        {
          "output_type": "stream",
          "name": "stdout",
          "text": [
            "tf.Tensor(0.6254639, shape=(), dtype=float32)\n",
            "Epoch 204\n"
          ]
        },
        {
          "output_type": "stream",
          "name": "stderr",
          "text": [
            "100%|██████████| 193/193 [01:40<00:00,  1.93it/s]\n",
            "100%|██████████| 20/20 [00:15<00:00,  1.26it/s]\n"
          ]
        },
        {
          "output_type": "stream",
          "name": "stdout",
          "text": [
            "tf.Tensor(0.63094044, shape=(), dtype=float32)\n",
            "Epoch 205\n"
          ]
        },
        {
          "output_type": "stream",
          "name": "stderr",
          "text": [
            "100%|██████████| 193/193 [01:40<00:00,  1.93it/s]\n",
            "100%|██████████| 20/20 [00:15<00:00,  1.26it/s]\n"
          ]
        },
        {
          "output_type": "stream",
          "name": "stdout",
          "text": [
            "tf.Tensor(0.63183355, shape=(), dtype=float32)\n",
            "Epoch 206\n"
          ]
        },
        {
          "output_type": "stream",
          "name": "stderr",
          "text": [
            "100%|██████████| 193/193 [01:39<00:00,  1.93it/s]\n",
            "100%|██████████| 20/20 [00:15<00:00,  1.27it/s]\n"
          ]
        },
        {
          "output_type": "stream",
          "name": "stdout",
          "text": [
            "tf.Tensor(0.629017, shape=(), dtype=float32)\n",
            "Epoch 207\n"
          ]
        },
        {
          "output_type": "stream",
          "name": "stderr",
          "text": [
            "100%|██████████| 193/193 [01:39<00:00,  1.93it/s]\n",
            "100%|██████████| 20/20 [00:15<00:00,  1.26it/s]\n"
          ]
        },
        {
          "output_type": "stream",
          "name": "stdout",
          "text": [
            "tf.Tensor(0.6210379, shape=(), dtype=float32)\n",
            "Epoch 208\n"
          ]
        },
        {
          "output_type": "stream",
          "name": "stderr",
          "text": [
            "100%|██████████| 193/193 [01:39<00:00,  1.93it/s]\n",
            "100%|██████████| 20/20 [00:15<00:00,  1.26it/s]\n"
          ]
        },
        {
          "output_type": "stream",
          "name": "stdout",
          "text": [
            "tf.Tensor(0.6333616, shape=(), dtype=float32)\n",
            "Epoch 209\n"
          ]
        },
        {
          "output_type": "stream",
          "name": "stderr",
          "text": [
            "100%|██████████| 193/193 [01:39<00:00,  1.93it/s]\n",
            "100%|██████████| 20/20 [00:15<00:00,  1.26it/s]\n"
          ]
        },
        {
          "output_type": "stream",
          "name": "stdout",
          "text": [
            "tf.Tensor(0.63115984, shape=(), dtype=float32)\n",
            "Epoch 210\n"
          ]
        },
        {
          "output_type": "stream",
          "name": "stderr",
          "text": [
            "100%|██████████| 193/193 [01:39<00:00,  1.93it/s]\n",
            "100%|██████████| 20/20 [00:15<00:00,  1.27it/s]\n"
          ]
        },
        {
          "output_type": "stream",
          "name": "stdout",
          "text": [
            "tf.Tensor(0.6298172, shape=(), dtype=float32)\n",
            "Epoch 211\n"
          ]
        },
        {
          "output_type": "stream",
          "name": "stderr",
          "text": [
            "100%|██████████| 193/193 [01:39<00:00,  1.93it/s]\n",
            "100%|██████████| 20/20 [00:15<00:00,  1.27it/s]\n"
          ]
        },
        {
          "output_type": "stream",
          "name": "stdout",
          "text": [
            "tf.Tensor(0.6256949, shape=(), dtype=float32)\n",
            "Epoch 212\n"
          ]
        },
        {
          "output_type": "stream",
          "name": "stderr",
          "text": [
            "100%|██████████| 193/193 [01:39<00:00,  1.93it/s]\n",
            "100%|██████████| 20/20 [00:15<00:00,  1.27it/s]\n"
          ]
        },
        {
          "output_type": "stream",
          "name": "stdout",
          "text": [
            "tf.Tensor(0.6277967, shape=(), dtype=float32)\n",
            "Epoch 213\n"
          ]
        },
        {
          "output_type": "stream",
          "name": "stderr",
          "text": [
            "100%|██████████| 193/193 [01:39<00:00,  1.93it/s]\n",
            "100%|██████████| 20/20 [00:15<00:00,  1.27it/s]\n"
          ]
        },
        {
          "output_type": "stream",
          "name": "stdout",
          "text": [
            "tf.Tensor(0.62635607, shape=(), dtype=float32)\n",
            "Epoch 214\n"
          ]
        },
        {
          "output_type": "stream",
          "name": "stderr",
          "text": [
            "100%|██████████| 193/193 [01:39<00:00,  1.93it/s]\n",
            "100%|██████████| 20/20 [00:15<00:00,  1.26it/s]\n"
          ]
        },
        {
          "output_type": "stream",
          "name": "stdout",
          "text": [
            "tf.Tensor(0.6229118, shape=(), dtype=float32)\n",
            "Epoch 215\n"
          ]
        },
        {
          "output_type": "stream",
          "name": "stderr",
          "text": [
            "100%|██████████| 193/193 [01:40<00:00,  1.93it/s]\n",
            "100%|██████████| 20/20 [00:15<00:00,  1.27it/s]\n"
          ]
        },
        {
          "output_type": "stream",
          "name": "stdout",
          "text": [
            "tf.Tensor(0.62018216, shape=(), dtype=float32)\n",
            "Epoch 216\n"
          ]
        },
        {
          "output_type": "stream",
          "name": "stderr",
          "text": [
            "100%|██████████| 193/193 [01:39<00:00,  1.93it/s]\n",
            "100%|██████████| 20/20 [00:15<00:00,  1.27it/s]\n"
          ]
        },
        {
          "output_type": "stream",
          "name": "stdout",
          "text": [
            "tf.Tensor(0.6245092, shape=(), dtype=float32)\n",
            "Epoch 217\n"
          ]
        },
        {
          "output_type": "stream",
          "name": "stderr",
          "text": [
            "100%|██████████| 193/193 [01:39<00:00,  1.93it/s]\n",
            "100%|██████████| 20/20 [00:15<00:00,  1.27it/s]\n"
          ]
        },
        {
          "output_type": "stream",
          "name": "stdout",
          "text": [
            "tf.Tensor(0.6263161, shape=(), dtype=float32)\n",
            "Epoch 218\n"
          ]
        },
        {
          "output_type": "stream",
          "name": "stderr",
          "text": [
            "100%|██████████| 193/193 [01:39<00:00,  1.93it/s]\n",
            "100%|██████████| 20/20 [00:15<00:00,  1.27it/s]\n"
          ]
        },
        {
          "output_type": "stream",
          "name": "stdout",
          "text": [
            "tf.Tensor(0.6287723, shape=(), dtype=float32)\n",
            "Epoch 219\n"
          ]
        },
        {
          "output_type": "stream",
          "name": "stderr",
          "text": [
            "100%|██████████| 193/193 [01:39<00:00,  1.93it/s]\n",
            "100%|██████████| 20/20 [00:15<00:00,  1.27it/s]\n"
          ]
        },
        {
          "output_type": "stream",
          "name": "stdout",
          "text": [
            "tf.Tensor(0.63040787, shape=(), dtype=float32)\n",
            "Epoch 220\n"
          ]
        },
        {
          "output_type": "stream",
          "name": "stderr",
          "text": [
            "100%|██████████| 193/193 [01:40<00:00,  1.93it/s]\n",
            "100%|██████████| 20/20 [00:15<00:00,  1.27it/s]\n"
          ]
        },
        {
          "output_type": "stream",
          "name": "stdout",
          "text": [
            "tf.Tensor(0.62901896, shape=(), dtype=float32)\n",
            "Epoch 221\n"
          ]
        },
        {
          "output_type": "stream",
          "name": "stderr",
          "text": [
            "100%|██████████| 193/193 [01:39<00:00,  1.93it/s]\n",
            "100%|██████████| 20/20 [00:15<00:00,  1.27it/s]\n"
          ]
        },
        {
          "output_type": "stream",
          "name": "stdout",
          "text": [
            "tf.Tensor(0.62933, shape=(), dtype=float32)\n",
            "Epoch 222\n"
          ]
        },
        {
          "output_type": "stream",
          "name": "stderr",
          "text": [
            "100%|██████████| 193/193 [01:39<00:00,  1.93it/s]\n",
            "100%|██████████| 20/20 [00:15<00:00,  1.27it/s]\n"
          ]
        },
        {
          "output_type": "stream",
          "name": "stdout",
          "text": [
            "tf.Tensor(0.634972, shape=(), dtype=float32)\n",
            "Epoch 223\n"
          ]
        },
        {
          "output_type": "stream",
          "name": "stderr",
          "text": [
            "100%|██████████| 193/193 [01:40<00:00,  1.93it/s]\n",
            "100%|██████████| 20/20 [00:15<00:00,  1.26it/s]\n"
          ]
        },
        {
          "output_type": "stream",
          "name": "stdout",
          "text": [
            "tf.Tensor(0.63188875, shape=(), dtype=float32)\n",
            "Epoch 224\n"
          ]
        },
        {
          "output_type": "stream",
          "name": "stderr",
          "text": [
            "100%|██████████| 193/193 [01:39<00:00,  1.93it/s]\n",
            "100%|██████████| 20/20 [00:15<00:00,  1.27it/s]\n"
          ]
        },
        {
          "output_type": "stream",
          "name": "stdout",
          "text": [
            "tf.Tensor(0.6293275, shape=(), dtype=float32)\n",
            "Epoch 225\n"
          ]
        },
        {
          "output_type": "stream",
          "name": "stderr",
          "text": [
            "100%|██████████| 193/193 [01:39<00:00,  1.93it/s]\n",
            "100%|██████████| 20/20 [00:15<00:00,  1.27it/s]\n"
          ]
        },
        {
          "output_type": "stream",
          "name": "stdout",
          "text": [
            "tf.Tensor(0.62721527, shape=(), dtype=float32)\n",
            "Epoch 226\n"
          ]
        },
        {
          "output_type": "stream",
          "name": "stderr",
          "text": [
            "100%|██████████| 193/193 [01:39<00:00,  1.93it/s]\n",
            "100%|██████████| 20/20 [00:15<00:00,  1.26it/s]\n"
          ]
        },
        {
          "output_type": "stream",
          "name": "stdout",
          "text": [
            "tf.Tensor(0.6300777, shape=(), dtype=float32)\n",
            "Epoch 227\n"
          ]
        },
        {
          "output_type": "stream",
          "name": "stderr",
          "text": [
            "100%|██████████| 193/193 [01:39<00:00,  1.93it/s]\n",
            "100%|██████████| 20/20 [00:15<00:00,  1.26it/s]\n"
          ]
        },
        {
          "output_type": "stream",
          "name": "stdout",
          "text": [
            "tf.Tensor(0.6341611, shape=(), dtype=float32)\n",
            "Epoch 228\n"
          ]
        },
        {
          "output_type": "stream",
          "name": "stderr",
          "text": [
            "100%|██████████| 193/193 [01:39<00:00,  1.93it/s]\n",
            "100%|██████████| 20/20 [00:15<00:00,  1.27it/s]\n"
          ]
        },
        {
          "output_type": "stream",
          "name": "stdout",
          "text": [
            "tf.Tensor(0.6345972, shape=(), dtype=float32)\n",
            "Epoch 229\n"
          ]
        },
        {
          "output_type": "stream",
          "name": "stderr",
          "text": [
            "100%|██████████| 193/193 [01:39<00:00,  1.93it/s]\n",
            "100%|██████████| 20/20 [00:15<00:00,  1.27it/s]\n"
          ]
        },
        {
          "output_type": "stream",
          "name": "stdout",
          "text": [
            "tf.Tensor(0.6338416, shape=(), dtype=float32)\n",
            "Epoch 230\n"
          ]
        },
        {
          "output_type": "stream",
          "name": "stderr",
          "text": [
            "100%|██████████| 193/193 [01:39<00:00,  1.93it/s]\n",
            "100%|██████████| 20/20 [00:15<00:00,  1.26it/s]\n"
          ]
        },
        {
          "output_type": "stream",
          "name": "stdout",
          "text": [
            "tf.Tensor(0.6294659, shape=(), dtype=float32)\n",
            "Epoch 231\n"
          ]
        },
        {
          "output_type": "stream",
          "name": "stderr",
          "text": [
            "100%|██████████| 193/193 [01:39<00:00,  1.93it/s]\n",
            "100%|██████████| 20/20 [00:15<00:00,  1.27it/s]\n"
          ]
        },
        {
          "output_type": "stream",
          "name": "stdout",
          "text": [
            "tf.Tensor(0.62941176, shape=(), dtype=float32)\n",
            "Epoch 232\n"
          ]
        },
        {
          "output_type": "stream",
          "name": "stderr",
          "text": [
            "100%|██████████| 193/193 [01:39<00:00,  1.93it/s]\n",
            "100%|██████████| 20/20 [00:15<00:00,  1.27it/s]\n"
          ]
        },
        {
          "output_type": "stream",
          "name": "stdout",
          "text": [
            "tf.Tensor(0.6368724, shape=(), dtype=float32)\n",
            "Epoch 233\n"
          ]
        },
        {
          "output_type": "stream",
          "name": "stderr",
          "text": [
            "100%|██████████| 193/193 [01:39<00:00,  1.93it/s]\n",
            "100%|██████████| 20/20 [00:15<00:00,  1.27it/s]\n"
          ]
        },
        {
          "output_type": "stream",
          "name": "stdout",
          "text": [
            "tf.Tensor(0.6341676, shape=(), dtype=float32)\n",
            "Epoch 234\n"
          ]
        },
        {
          "output_type": "stream",
          "name": "stderr",
          "text": [
            "100%|██████████| 193/193 [01:39<00:00,  1.93it/s]\n",
            "100%|██████████| 20/20 [00:15<00:00,  1.26it/s]\n"
          ]
        },
        {
          "output_type": "stream",
          "name": "stdout",
          "text": [
            "tf.Tensor(0.6290569, shape=(), dtype=float32)\n",
            "Epoch 235\n"
          ]
        },
        {
          "output_type": "stream",
          "name": "stderr",
          "text": [
            "100%|██████████| 193/193 [01:39<00:00,  1.93it/s]\n",
            "100%|██████████| 20/20 [00:15<00:00,  1.26it/s]\n"
          ]
        },
        {
          "output_type": "stream",
          "name": "stdout",
          "text": [
            "tf.Tensor(0.6309628, shape=(), dtype=float32)\n",
            "Epoch 236\n"
          ]
        },
        {
          "output_type": "stream",
          "name": "stderr",
          "text": [
            "100%|██████████| 193/193 [01:39<00:00,  1.93it/s]\n",
            "100%|██████████| 20/20 [00:15<00:00,  1.27it/s]\n"
          ]
        },
        {
          "output_type": "stream",
          "name": "stdout",
          "text": [
            "tf.Tensor(0.62841177, shape=(), dtype=float32)\n",
            "Epoch 237\n"
          ]
        },
        {
          "output_type": "stream",
          "name": "stderr",
          "text": [
            "100%|██████████| 193/193 [01:39<00:00,  1.93it/s]\n",
            "100%|██████████| 20/20 [00:15<00:00,  1.27it/s]\n"
          ]
        },
        {
          "output_type": "stream",
          "name": "stdout",
          "text": [
            "tf.Tensor(0.62811744, shape=(), dtype=float32)\n",
            "Epoch 238\n"
          ]
        },
        {
          "output_type": "stream",
          "name": "stderr",
          "text": [
            "100%|██████████| 193/193 [01:39<00:00,  1.93it/s]\n",
            "100%|██████████| 20/20 [00:15<00:00,  1.27it/s]\n"
          ]
        },
        {
          "output_type": "stream",
          "name": "stdout",
          "text": [
            "tf.Tensor(0.6287932, shape=(), dtype=float32)\n",
            "Epoch 239\n"
          ]
        },
        {
          "output_type": "stream",
          "name": "stderr",
          "text": [
            "100%|██████████| 193/193 [01:39<00:00,  1.93it/s]\n",
            "100%|██████████| 20/20 [00:15<00:00,  1.27it/s]\n"
          ]
        },
        {
          "output_type": "stream",
          "name": "stdout",
          "text": [
            "tf.Tensor(0.62596, shape=(), dtype=float32)\n",
            "Epoch 240\n"
          ]
        },
        {
          "output_type": "stream",
          "name": "stderr",
          "text": [
            "100%|██████████| 193/193 [01:39<00:00,  1.93it/s]\n",
            "100%|██████████| 20/20 [00:15<00:00,  1.27it/s]\n"
          ]
        },
        {
          "output_type": "stream",
          "name": "stdout",
          "text": [
            "tf.Tensor(0.6304417, shape=(), dtype=float32)\n",
            "Epoch 241\n"
          ]
        },
        {
          "output_type": "stream",
          "name": "stderr",
          "text": [
            "100%|██████████| 193/193 [01:39<00:00,  1.93it/s]\n",
            "100%|██████████| 20/20 [00:15<00:00,  1.27it/s]\n"
          ]
        },
        {
          "output_type": "stream",
          "name": "stdout",
          "text": [
            "tf.Tensor(0.6307496, shape=(), dtype=float32)\n",
            "Epoch 242\n"
          ]
        },
        {
          "output_type": "stream",
          "name": "stderr",
          "text": [
            "100%|██████████| 193/193 [01:39<00:00,  1.93it/s]\n",
            "100%|██████████| 20/20 [00:15<00:00,  1.27it/s]\n"
          ]
        },
        {
          "output_type": "stream",
          "name": "stdout",
          "text": [
            "tf.Tensor(0.6293339, shape=(), dtype=float32)\n",
            "Epoch 243\n"
          ]
        },
        {
          "output_type": "stream",
          "name": "stderr",
          "text": [
            "100%|██████████| 193/193 [01:40<00:00,  1.93it/s]\n",
            "100%|██████████| 20/20 [00:15<00:00,  1.27it/s]\n"
          ]
        },
        {
          "output_type": "stream",
          "name": "stdout",
          "text": [
            "tf.Tensor(0.628244, shape=(), dtype=float32)\n",
            "Epoch 244\n"
          ]
        },
        {
          "output_type": "stream",
          "name": "stderr",
          "text": [
            "100%|██████████| 193/193 [01:39<00:00,  1.93it/s]\n",
            "100%|██████████| 20/20 [00:15<00:00,  1.27it/s]\n"
          ]
        },
        {
          "output_type": "stream",
          "name": "stdout",
          "text": [
            "tf.Tensor(0.63295156, shape=(), dtype=float32)\n",
            "Epoch 245\n"
          ]
        },
        {
          "output_type": "stream",
          "name": "stderr",
          "text": [
            "100%|██████████| 193/193 [01:39<00:00,  1.93it/s]\n",
            "100%|██████████| 20/20 [00:15<00:00,  1.27it/s]\n"
          ]
        },
        {
          "output_type": "stream",
          "name": "stdout",
          "text": [
            "tf.Tensor(0.63119876, shape=(), dtype=float32)\n",
            "Epoch 246\n"
          ]
        },
        {
          "output_type": "stream",
          "name": "stderr",
          "text": [
            "100%|██████████| 193/193 [01:39<00:00,  1.93it/s]\n",
            "100%|██████████| 20/20 [00:15<00:00,  1.27it/s]\n"
          ]
        },
        {
          "output_type": "stream",
          "name": "stdout",
          "text": [
            "tf.Tensor(0.63183427, shape=(), dtype=float32)\n",
            "Epoch 247\n"
          ]
        },
        {
          "output_type": "stream",
          "name": "stderr",
          "text": [
            "100%|██████████| 193/193 [01:39<00:00,  1.93it/s]\n",
            "100%|██████████| 20/20 [00:15<00:00,  1.27it/s]\n"
          ]
        },
        {
          "output_type": "stream",
          "name": "stdout",
          "text": [
            "tf.Tensor(0.62482256, shape=(), dtype=float32)\n",
            "Epoch 248\n"
          ]
        },
        {
          "output_type": "stream",
          "name": "stderr",
          "text": [
            "100%|██████████| 193/193 [01:39<00:00,  1.93it/s]\n",
            "100%|██████████| 20/20 [00:16<00:00,  1.24it/s]\n"
          ]
        },
        {
          "output_type": "stream",
          "name": "stdout",
          "text": [
            "tf.Tensor(0.63288254, shape=(), dtype=float32)\n",
            "Epoch 249\n"
          ]
        },
        {
          "output_type": "stream",
          "name": "stderr",
          "text": [
            "100%|██████████| 193/193 [01:39<00:00,  1.93it/s]\n",
            "100%|██████████| 20/20 [00:15<00:00,  1.27it/s]\n"
          ]
        },
        {
          "output_type": "stream",
          "name": "stdout",
          "text": [
            "tf.Tensor(0.6297709, shape=(), dtype=float32)\n",
            "Epoch 250\n"
          ]
        },
        {
          "output_type": "stream",
          "name": "stderr",
          "text": [
            "100%|██████████| 193/193 [01:39<00:00,  1.93it/s]\n",
            "100%|██████████| 20/20 [00:15<00:00,  1.26it/s]\n"
          ]
        },
        {
          "output_type": "stream",
          "name": "stdout",
          "text": [
            "tf.Tensor(0.6299363, shape=(), dtype=float32)\n",
            "Epoch 251\n"
          ]
        },
        {
          "output_type": "stream",
          "name": "stderr",
          "text": [
            "100%|██████████| 193/193 [01:39<00:00,  1.93it/s]\n",
            "100%|██████████| 20/20 [00:15<00:00,  1.27it/s]\n"
          ]
        },
        {
          "output_type": "stream",
          "name": "stdout",
          "text": [
            "tf.Tensor(0.6302606, shape=(), dtype=float32)\n",
            "Epoch 252\n"
          ]
        },
        {
          "output_type": "stream",
          "name": "stderr",
          "text": [
            "100%|██████████| 193/193 [01:39<00:00,  1.93it/s]\n",
            "100%|██████████| 20/20 [00:15<00:00,  1.27it/s]\n"
          ]
        },
        {
          "output_type": "stream",
          "name": "stdout",
          "text": [
            "tf.Tensor(0.6276889, shape=(), dtype=float32)\n",
            "Epoch 253\n"
          ]
        },
        {
          "output_type": "stream",
          "name": "stderr",
          "text": [
            "100%|██████████| 193/193 [01:39<00:00,  1.93it/s]\n",
            "100%|██████████| 20/20 [00:15<00:00,  1.26it/s]\n"
          ]
        },
        {
          "output_type": "stream",
          "name": "stdout",
          "text": [
            "tf.Tensor(0.63217014, shape=(), dtype=float32)\n",
            "Epoch 254\n"
          ]
        },
        {
          "output_type": "stream",
          "name": "stderr",
          "text": [
            "100%|██████████| 193/193 [01:39<00:00,  1.93it/s]\n",
            "100%|██████████| 20/20 [00:15<00:00,  1.27it/s]\n"
          ]
        },
        {
          "output_type": "stream",
          "name": "stdout",
          "text": [
            "tf.Tensor(0.63501066, shape=(), dtype=float32)\n",
            "Epoch 255\n"
          ]
        },
        {
          "output_type": "stream",
          "name": "stderr",
          "text": [
            "100%|██████████| 193/193 [01:39<00:00,  1.93it/s]\n",
            "100%|██████████| 20/20 [00:15<00:00,  1.27it/s]\n"
          ]
        },
        {
          "output_type": "stream",
          "name": "stdout",
          "text": [
            "tf.Tensor(0.62818134, shape=(), dtype=float32)\n",
            "Epoch 256\n"
          ]
        },
        {
          "output_type": "stream",
          "name": "stderr",
          "text": [
            "100%|██████████| 193/193 [01:40<00:00,  1.93it/s]\n",
            "100%|██████████| 20/20 [00:15<00:00,  1.27it/s]\n"
          ]
        },
        {
          "output_type": "stream",
          "name": "stdout",
          "text": [
            "tf.Tensor(0.6307849, shape=(), dtype=float32)\n",
            "Epoch 257\n"
          ]
        },
        {
          "output_type": "stream",
          "name": "stderr",
          "text": [
            "100%|██████████| 193/193 [01:40<00:00,  1.92it/s]\n",
            "100%|██████████| 20/20 [00:15<00:00,  1.26it/s]\n"
          ]
        },
        {
          "output_type": "stream",
          "name": "stdout",
          "text": [
            "tf.Tensor(0.6308452, shape=(), dtype=float32)\n",
            "Epoch 258\n"
          ]
        },
        {
          "output_type": "stream",
          "name": "stderr",
          "text": [
            "100%|██████████| 193/193 [01:39<00:00,  1.93it/s]\n",
            "100%|██████████| 20/20 [00:15<00:00,  1.26it/s]\n"
          ]
        },
        {
          "output_type": "stream",
          "name": "stdout",
          "text": [
            "tf.Tensor(0.63215804, shape=(), dtype=float32)\n",
            "Epoch 259\n"
          ]
        },
        {
          "output_type": "stream",
          "name": "stderr",
          "text": [
            "100%|██████████| 193/193 [01:39<00:00,  1.93it/s]\n",
            "100%|██████████| 20/20 [00:15<00:00,  1.27it/s]\n"
          ]
        },
        {
          "output_type": "stream",
          "name": "stdout",
          "text": [
            "tf.Tensor(0.622506, shape=(), dtype=float32)\n",
            "Epoch 260\n"
          ]
        },
        {
          "output_type": "stream",
          "name": "stderr",
          "text": [
            "100%|██████████| 193/193 [01:39<00:00,  1.93it/s]\n",
            "100%|██████████| 20/20 [00:15<00:00,  1.27it/s]\n"
          ]
        },
        {
          "output_type": "stream",
          "name": "stdout",
          "text": [
            "tf.Tensor(0.629708, shape=(), dtype=float32)\n",
            "Epoch 261\n"
          ]
        },
        {
          "output_type": "stream",
          "name": "stderr",
          "text": [
            "100%|██████████| 193/193 [01:39<00:00,  1.93it/s]\n",
            "100%|██████████| 20/20 [00:15<00:00,  1.26it/s]\n"
          ]
        },
        {
          "output_type": "stream",
          "name": "stdout",
          "text": [
            "tf.Tensor(0.62624997, shape=(), dtype=float32)\n",
            "Epoch 262\n"
          ]
        },
        {
          "output_type": "stream",
          "name": "stderr",
          "text": [
            "100%|██████████| 193/193 [01:39<00:00,  1.93it/s]\n",
            "100%|██████████| 20/20 [00:15<00:00,  1.26it/s]\n"
          ]
        },
        {
          "output_type": "stream",
          "name": "stdout",
          "text": [
            "tf.Tensor(0.62953717, shape=(), dtype=float32)\n",
            "Epoch 263\n"
          ]
        },
        {
          "output_type": "stream",
          "name": "stderr",
          "text": [
            "100%|██████████| 193/193 [01:39<00:00,  1.93it/s]\n",
            "100%|██████████| 20/20 [00:15<00:00,  1.27it/s]\n"
          ]
        },
        {
          "output_type": "stream",
          "name": "stdout",
          "text": [
            "tf.Tensor(0.6306468, shape=(), dtype=float32)\n",
            "Epoch 264\n"
          ]
        },
        {
          "output_type": "stream",
          "name": "stderr",
          "text": [
            "100%|██████████| 193/193 [01:39<00:00,  1.93it/s]\n",
            "100%|██████████| 20/20 [00:15<00:00,  1.27it/s]\n"
          ]
        },
        {
          "output_type": "stream",
          "name": "stdout",
          "text": [
            "tf.Tensor(0.6289649, shape=(), dtype=float32)\n",
            "Epoch 265\n"
          ]
        },
        {
          "output_type": "stream",
          "name": "stderr",
          "text": [
            "100%|██████████| 193/193 [01:39<00:00,  1.93it/s]\n",
            "100%|██████████| 20/20 [00:15<00:00,  1.26it/s]\n"
          ]
        },
        {
          "output_type": "stream",
          "name": "stdout",
          "text": [
            "tf.Tensor(0.6311853, shape=(), dtype=float32)\n",
            "Epoch 266\n"
          ]
        },
        {
          "output_type": "stream",
          "name": "stderr",
          "text": [
            "100%|██████████| 193/193 [01:39<00:00,  1.93it/s]\n",
            "100%|██████████| 20/20 [00:15<00:00,  1.26it/s]\n"
          ]
        },
        {
          "output_type": "stream",
          "name": "stdout",
          "text": [
            "tf.Tensor(0.6321007, shape=(), dtype=float32)\n",
            "Epoch 267\n"
          ]
        },
        {
          "output_type": "stream",
          "name": "stderr",
          "text": [
            "100%|██████████| 193/193 [01:39<00:00,  1.93it/s]\n",
            "100%|██████████| 20/20 [00:15<00:00,  1.27it/s]\n"
          ]
        },
        {
          "output_type": "stream",
          "name": "stdout",
          "text": [
            "tf.Tensor(0.63116884, shape=(), dtype=float32)\n",
            "Epoch 268\n"
          ]
        },
        {
          "output_type": "stream",
          "name": "stderr",
          "text": [
            "100%|██████████| 193/193 [01:39<00:00,  1.93it/s]\n",
            "100%|██████████| 20/20 [00:15<00:00,  1.25it/s]\n"
          ]
        },
        {
          "output_type": "stream",
          "name": "stdout",
          "text": [
            "tf.Tensor(0.62907517, shape=(), dtype=float32)\n",
            "Epoch 269\n"
          ]
        },
        {
          "output_type": "stream",
          "name": "stderr",
          "text": [
            "100%|██████████| 193/193 [01:39<00:00,  1.93it/s]\n",
            "100%|██████████| 20/20 [00:15<00:00,  1.26it/s]\n"
          ]
        },
        {
          "output_type": "stream",
          "name": "stdout",
          "text": [
            "tf.Tensor(0.6321706, shape=(), dtype=float32)\n",
            "Epoch 270\n"
          ]
        },
        {
          "output_type": "stream",
          "name": "stderr",
          "text": [
            "100%|██████████| 193/193 [01:39<00:00,  1.93it/s]\n",
            "100%|██████████| 20/20 [00:16<00:00,  1.25it/s]\n"
          ]
        },
        {
          "output_type": "stream",
          "name": "stdout",
          "text": [
            "tf.Tensor(0.63191664, shape=(), dtype=float32)\n",
            "Epoch 271\n"
          ]
        },
        {
          "output_type": "stream",
          "name": "stderr",
          "text": [
            "100%|██████████| 193/193 [01:39<00:00,  1.93it/s]\n",
            "100%|██████████| 20/20 [00:15<00:00,  1.26it/s]\n"
          ]
        },
        {
          "output_type": "stream",
          "name": "stdout",
          "text": [
            "tf.Tensor(0.6285896, shape=(), dtype=float32)\n",
            "Epoch 272\n"
          ]
        },
        {
          "output_type": "stream",
          "name": "stderr",
          "text": [
            "100%|██████████| 193/193 [01:39<00:00,  1.93it/s]\n",
            "100%|██████████| 20/20 [00:15<00:00,  1.27it/s]\n"
          ]
        },
        {
          "output_type": "stream",
          "name": "stdout",
          "text": [
            "tf.Tensor(0.6258968, shape=(), dtype=float32)\n",
            "Epoch 273\n"
          ]
        },
        {
          "output_type": "stream",
          "name": "stderr",
          "text": [
            "100%|██████████| 193/193 [01:39<00:00,  1.93it/s]\n",
            "100%|██████████| 20/20 [00:15<00:00,  1.26it/s]\n"
          ]
        },
        {
          "output_type": "stream",
          "name": "stdout",
          "text": [
            "tf.Tensor(0.6280964, shape=(), dtype=float32)\n",
            "Epoch 274\n"
          ]
        },
        {
          "output_type": "stream",
          "name": "stderr",
          "text": [
            "100%|██████████| 193/193 [01:39<00:00,  1.93it/s]\n",
            "100%|██████████| 20/20 [00:15<00:00,  1.26it/s]\n"
          ]
        },
        {
          "output_type": "stream",
          "name": "stdout",
          "text": [
            "tf.Tensor(0.6300455, shape=(), dtype=float32)\n",
            "Epoch 275\n"
          ]
        },
        {
          "output_type": "stream",
          "name": "stderr",
          "text": [
            "100%|██████████| 193/193 [01:39<00:00,  1.93it/s]\n",
            "100%|██████████| 20/20 [00:15<00:00,  1.25it/s]\n"
          ]
        },
        {
          "output_type": "stream",
          "name": "stdout",
          "text": [
            "tf.Tensor(0.6254632, shape=(), dtype=float32)\n",
            "Epoch 276\n"
          ]
        },
        {
          "output_type": "stream",
          "name": "stderr",
          "text": [
            "100%|██████████| 193/193 [01:39<00:00,  1.93it/s]\n",
            "100%|██████████| 20/20 [00:16<00:00,  1.25it/s]\n"
          ]
        },
        {
          "output_type": "stream",
          "name": "stdout",
          "text": [
            "tf.Tensor(0.63205045, shape=(), dtype=float32)\n",
            "Epoch 277\n"
          ]
        },
        {
          "output_type": "stream",
          "name": "stderr",
          "text": [
            "100%|██████████| 193/193 [01:39<00:00,  1.93it/s]\n",
            "100%|██████████| 20/20 [00:15<00:00,  1.27it/s]\n"
          ]
        },
        {
          "output_type": "stream",
          "name": "stdout",
          "text": [
            "tf.Tensor(0.6270507, shape=(), dtype=float32)\n",
            "Epoch 278\n"
          ]
        },
        {
          "output_type": "stream",
          "name": "stderr",
          "text": [
            "100%|██████████| 193/193 [01:39<00:00,  1.93it/s]\n",
            "100%|██████████| 20/20 [00:15<00:00,  1.25it/s]\n"
          ]
        },
        {
          "output_type": "stream",
          "name": "stdout",
          "text": [
            "tf.Tensor(0.62851703, shape=(), dtype=float32)\n",
            "Epoch 279\n"
          ]
        },
        {
          "output_type": "stream",
          "name": "stderr",
          "text": [
            "100%|██████████| 193/193 [01:40<00:00,  1.93it/s]\n",
            "100%|██████████| 20/20 [00:15<00:00,  1.26it/s]\n"
          ]
        },
        {
          "output_type": "stream",
          "name": "stdout",
          "text": [
            "tf.Tensor(0.6320428, shape=(), dtype=float32)\n",
            "Epoch 280\n"
          ]
        },
        {
          "output_type": "stream",
          "name": "stderr",
          "text": [
            "100%|██████████| 193/193 [01:39<00:00,  1.93it/s]\n",
            "100%|██████████| 20/20 [00:15<00:00,  1.27it/s]\n"
          ]
        },
        {
          "output_type": "stream",
          "name": "stdout",
          "text": [
            "tf.Tensor(0.6297196, shape=(), dtype=float32)\n",
            "Epoch 281\n"
          ]
        },
        {
          "output_type": "stream",
          "name": "stderr",
          "text": [
            "100%|██████████| 193/193 [01:39<00:00,  1.93it/s]\n",
            "100%|██████████| 20/20 [00:15<00:00,  1.27it/s]\n"
          ]
        },
        {
          "output_type": "stream",
          "name": "stdout",
          "text": [
            "tf.Tensor(0.62832755, shape=(), dtype=float32)\n",
            "Epoch 282\n"
          ]
        },
        {
          "output_type": "stream",
          "name": "stderr",
          "text": [
            "100%|██████████| 193/193 [01:39<00:00,  1.93it/s]\n",
            "100%|██████████| 20/20 [00:15<00:00,  1.26it/s]\n"
          ]
        },
        {
          "output_type": "stream",
          "name": "stdout",
          "text": [
            "tf.Tensor(0.63351864, shape=(), dtype=float32)\n",
            "Epoch 283\n"
          ]
        },
        {
          "output_type": "stream",
          "name": "stderr",
          "text": [
            "100%|██████████| 193/193 [01:39<00:00,  1.93it/s]\n",
            "100%|██████████| 20/20 [00:15<00:00,  1.27it/s]\n"
          ]
        },
        {
          "output_type": "stream",
          "name": "stdout",
          "text": [
            "tf.Tensor(0.6293798, shape=(), dtype=float32)\n",
            "Epoch 284\n"
          ]
        },
        {
          "output_type": "stream",
          "name": "stderr",
          "text": [
            "100%|██████████| 193/193 [01:39<00:00,  1.93it/s]\n",
            "100%|██████████| 20/20 [00:15<00:00,  1.26it/s]\n"
          ]
        },
        {
          "output_type": "stream",
          "name": "stdout",
          "text": [
            "tf.Tensor(0.62737167, shape=(), dtype=float32)\n",
            "Epoch 285\n"
          ]
        },
        {
          "output_type": "stream",
          "name": "stderr",
          "text": [
            "100%|██████████| 193/193 [01:39<00:00,  1.93it/s]\n",
            "100%|██████████| 20/20 [00:15<00:00,  1.27it/s]\n"
          ]
        },
        {
          "output_type": "stream",
          "name": "stdout",
          "text": [
            "tf.Tensor(0.6290835, shape=(), dtype=float32)\n",
            "Epoch 286\n"
          ]
        },
        {
          "output_type": "stream",
          "name": "stderr",
          "text": [
            "100%|██████████| 193/193 [01:39<00:00,  1.94it/s]\n",
            "100%|██████████| 20/20 [00:15<00:00,  1.27it/s]\n"
          ]
        },
        {
          "output_type": "stream",
          "name": "stdout",
          "text": [
            "tf.Tensor(0.6306, shape=(), dtype=float32)\n",
            "Epoch 287\n"
          ]
        },
        {
          "output_type": "stream",
          "name": "stderr",
          "text": [
            "100%|██████████| 193/193 [01:39<00:00,  1.93it/s]\n",
            "100%|██████████| 20/20 [00:15<00:00,  1.27it/s]\n"
          ]
        },
        {
          "output_type": "stream",
          "name": "stdout",
          "text": [
            "tf.Tensor(0.6288254, shape=(), dtype=float32)\n",
            "Epoch 288\n"
          ]
        },
        {
          "output_type": "stream",
          "name": "stderr",
          "text": [
            "100%|██████████| 193/193 [01:39<00:00,  1.93it/s]\n",
            "100%|██████████| 20/20 [00:15<00:00,  1.26it/s]\n"
          ]
        },
        {
          "output_type": "stream",
          "name": "stdout",
          "text": [
            "tf.Tensor(0.62754536, shape=(), dtype=float32)\n",
            "Epoch 289\n"
          ]
        },
        {
          "output_type": "stream",
          "name": "stderr",
          "text": [
            "100%|██████████| 193/193 [01:39<00:00,  1.93it/s]\n",
            "100%|██████████| 20/20 [00:15<00:00,  1.27it/s]\n"
          ]
        },
        {
          "output_type": "stream",
          "name": "stdout",
          "text": [
            "tf.Tensor(0.6296118, shape=(), dtype=float32)\n",
            "Epoch 290\n"
          ]
        },
        {
          "output_type": "stream",
          "name": "stderr",
          "text": [
            "100%|██████████| 193/193 [01:39<00:00,  1.93it/s]\n",
            "100%|██████████| 20/20 [00:15<00:00,  1.26it/s]\n"
          ]
        },
        {
          "output_type": "stream",
          "name": "stdout",
          "text": [
            "tf.Tensor(0.63384855, shape=(), dtype=float32)\n",
            "Epoch 291\n"
          ]
        },
        {
          "output_type": "stream",
          "name": "stderr",
          "text": [
            "100%|██████████| 193/193 [01:40<00:00,  1.93it/s]\n",
            "100%|██████████| 20/20 [00:15<00:00,  1.26it/s]\n"
          ]
        },
        {
          "output_type": "stream",
          "name": "stdout",
          "text": [
            "tf.Tensor(0.6287601, shape=(), dtype=float32)\n",
            "Epoch 292\n"
          ]
        },
        {
          "output_type": "stream",
          "name": "stderr",
          "text": [
            "100%|██████████| 193/193 [01:39<00:00,  1.93it/s]\n",
            "100%|██████████| 20/20 [00:15<00:00,  1.26it/s]\n"
          ]
        },
        {
          "output_type": "stream",
          "name": "stdout",
          "text": [
            "tf.Tensor(0.63168854, shape=(), dtype=float32)\n",
            "Epoch 293\n"
          ]
        },
        {
          "output_type": "stream",
          "name": "stderr",
          "text": [
            "100%|██████████| 193/193 [01:40<00:00,  1.93it/s]\n",
            "100%|██████████| 20/20 [00:15<00:00,  1.26it/s]\n"
          ]
        },
        {
          "output_type": "stream",
          "name": "stdout",
          "text": [
            "tf.Tensor(0.6299984, shape=(), dtype=float32)\n",
            "Epoch 294\n"
          ]
        },
        {
          "output_type": "stream",
          "name": "stderr",
          "text": [
            "100%|██████████| 193/193 [01:39<00:00,  1.93it/s]\n",
            "100%|██████████| 20/20 [00:15<00:00,  1.26it/s]\n"
          ]
        },
        {
          "output_type": "stream",
          "name": "stdout",
          "text": [
            "tf.Tensor(0.62440264, shape=(), dtype=float32)\n",
            "Epoch 295\n"
          ]
        },
        {
          "output_type": "stream",
          "name": "stderr",
          "text": [
            "100%|██████████| 193/193 [01:39<00:00,  1.93it/s]\n",
            "100%|██████████| 20/20 [00:15<00:00,  1.26it/s]\n"
          ]
        },
        {
          "output_type": "stream",
          "name": "stdout",
          "text": [
            "tf.Tensor(0.63109916, shape=(), dtype=float32)\n",
            "Epoch 296\n"
          ]
        },
        {
          "output_type": "stream",
          "name": "stderr",
          "text": [
            "100%|██████████| 193/193 [01:39<00:00,  1.93it/s]\n",
            "100%|██████████| 20/20 [00:15<00:00,  1.26it/s]\n"
          ]
        },
        {
          "output_type": "stream",
          "name": "stdout",
          "text": [
            "tf.Tensor(0.62265325, shape=(), dtype=float32)\n",
            "Epoch 297\n"
          ]
        },
        {
          "output_type": "stream",
          "name": "stderr",
          "text": [
            "100%|██████████| 193/193 [01:39<00:00,  1.93it/s]\n",
            "100%|██████████| 20/20 [00:15<00:00,  1.26it/s]\n"
          ]
        },
        {
          "output_type": "stream",
          "name": "stdout",
          "text": [
            "tf.Tensor(0.6302299, shape=(), dtype=float32)\n",
            "Epoch 298\n"
          ]
        },
        {
          "output_type": "stream",
          "name": "stderr",
          "text": [
            "100%|██████████| 193/193 [01:40<00:00,  1.93it/s]\n",
            "100%|██████████| 20/20 [00:15<00:00,  1.26it/s]\n"
          ]
        },
        {
          "output_type": "stream",
          "name": "stdout",
          "text": [
            "tf.Tensor(0.6284199, shape=(), dtype=float32)\n",
            "Epoch 299\n"
          ]
        },
        {
          "output_type": "stream",
          "name": "stderr",
          "text": [
            "100%|██████████| 193/193 [01:39<00:00,  1.93it/s]\n",
            "100%|██████████| 20/20 [00:15<00:00,  1.26it/s]\n"
          ]
        },
        {
          "output_type": "stream",
          "name": "stdout",
          "text": [
            "tf.Tensor(0.6280555, shape=(), dtype=float32)\n",
            "Epoch 300\n"
          ]
        },
        {
          "output_type": "stream",
          "name": "stderr",
          "text": [
            "100%|██████████| 193/193 [01:39<00:00,  1.93it/s]\n",
            "100%|██████████| 20/20 [00:15<00:00,  1.26it/s]\n"
          ]
        },
        {
          "output_type": "stream",
          "name": "stdout",
          "text": [
            "tf.Tensor(0.62672794, shape=(), dtype=float32)\n"
          ]
        }
      ]
    },
    {
      "cell_type": "markdown",
      "source": [
        "\n",
        "CIIL\n",
        "\n"
      ],
      "metadata": {
        "id": "TfxHjfK92ES_"
      }
    },
    {
      "cell_type": "code",
      "source": [
        "EPOCHS = 34\n",
        "BATCH_SIZE=64\n",
        "scores_ciil_e2 = []\n",
        "model1 = model(input_shape = (240,240,4))\n",
        "model1.compile(optimizer=tf.keras.optimizers.Adam(learning_rate=0.001), loss=dice_log)\n",
        "import gc\n",
        "from tqdm import tqdm\n",
        "with tf.device(\"GPU:0\"):\n",
        "  for epoch in range(EPOCHS):\n",
        "    print(\"Epoch \"+str(epoch+1))\n",
        "    for ins in range(9):\n",
        "      length = len(X_train[155*institutions_t[ins]:155*institutions_t[ins+1]])\n",
        "      for iteration in tqdm(range(length//BATCH_SIZE)):\n",
        "        batch_indices = [random.randrange(0,length) for i in range(BATCH_SIZE)]\n",
        "        model1.train_on_batch((X_train[155*institutions_t[ins]:155*institutions_t[ins+1]][batch_indices])/maximum,(y_train[155*institutions_t[ins]:155*institutions_t[ins+1]][batch_indices])/4)\n",
        "      result = np.empty((3100,240,240,1),dtype='float32')\n",
        "      for i in tqdm(range(20)):\n",
        "        result[i*155:(i+1)*155]=model1.predict(X_valid[i*155:(i+1)*155]/maximum)\n",
        "      dice_score = dice_coef(y_valid/4,result)\n",
        "      scores_ciil_e2.append(dice_score)\n",
        "      print(dice_score)\n",
        "      gc.collect()\n",
        "np.save(\"drive/MyDrive/BraTS/scores_ciil_e2\",np.array(scores_ciil_e2))  \n"
      ],
      "metadata": {
        "colab": {
          "base_uri": "https://localhost:8080/"
        },
        "id": "YA8cYckg2FBW",
        "outputId": "130995f1-73cd-4451-a866-ef4716100be7"
      },
      "execution_count": null,
      "outputs": [
        {
          "output_type": "stream",
          "name": "stdout",
          "text": [
            "(None, 256, 256, 4)\n",
            "(None, 240, 240, 1)\n",
            "Epoch 1\n"
          ]
        },
        {
          "output_type": "stream",
          "name": "stderr",
          "text": [
            "100%|██████████| 9/9 [00:22<00:00,  2.46s/it]\n",
            "100%|██████████| 20/20 [00:15<00:00,  1.31it/s]\n"
          ]
        },
        {
          "output_type": "stream",
          "name": "stdout",
          "text": [
            "tf.Tensor(0.012134422, shape=(), dtype=float32)\n"
          ]
        },
        {
          "output_type": "stream",
          "name": "stderr",
          "text": [
            "100%|██████████| 9/9 [00:04<00:00,  2.00it/s]\n",
            "100%|██████████| 20/20 [00:12<00:00,  1.66it/s]\n"
          ]
        },
        {
          "output_type": "stream",
          "name": "stdout",
          "text": [
            "tf.Tensor(0.015609153, shape=(), dtype=float32)\n"
          ]
        },
        {
          "output_type": "stream",
          "name": "stderr",
          "text": [
            "100%|██████████| 9/9 [00:04<00:00,  1.98it/s]\n",
            "100%|██████████| 20/20 [00:11<00:00,  1.71it/s]\n"
          ]
        },
        {
          "output_type": "stream",
          "name": "stdout",
          "text": [
            "tf.Tensor(0.015912682, shape=(), dtype=float32)\n"
          ]
        },
        {
          "output_type": "stream",
          "name": "stderr",
          "text": [
            "100%|██████████| 9/9 [00:04<00:00,  1.97it/s]\n",
            "100%|██████████| 20/20 [00:11<00:00,  1.68it/s]\n"
          ]
        },
        {
          "output_type": "stream",
          "name": "stdout",
          "text": [
            "tf.Tensor(0.015140928, shape=(), dtype=float32)\n"
          ]
        },
        {
          "output_type": "stream",
          "name": "stderr",
          "text": [
            "100%|██████████| 19/19 [00:09<00:00,  1.91it/s]\n",
            "100%|██████████| 20/20 [00:11<00:00,  1.69it/s]\n"
          ]
        },
        {
          "output_type": "stream",
          "name": "stdout",
          "text": [
            "tf.Tensor(0.017415715, shape=(), dtype=float32)\n"
          ]
        },
        {
          "output_type": "stream",
          "name": "stderr",
          "text": [
            "100%|██████████| 19/19 [00:09<00:00,  1.91it/s]\n",
            "100%|██████████| 20/20 [00:12<00:00,  1.66it/s]\n"
          ]
        },
        {
          "output_type": "stream",
          "name": "stdout",
          "text": [
            "tf.Tensor(0.013313309, shape=(), dtype=float32)\n"
          ]
        },
        {
          "output_type": "stream",
          "name": "stderr",
          "text": [
            "100%|██████████| 19/19 [00:09<00:00,  1.91it/s]\n",
            "100%|██████████| 20/20 [00:11<00:00,  1.70it/s]\n"
          ]
        },
        {
          "output_type": "stream",
          "name": "stdout",
          "text": [
            "tf.Tensor(0.007283561, shape=(), dtype=float32)\n"
          ]
        },
        {
          "output_type": "stream",
          "name": "stderr",
          "text": [
            "100%|██████████| 38/38 [00:19<00:00,  1.94it/s]\n",
            "100%|██████████| 20/20 [00:12<00:00,  1.62it/s]\n"
          ]
        },
        {
          "output_type": "stream",
          "name": "stdout",
          "text": [
            "tf.Tensor(0.016217325, shape=(), dtype=float32)\n"
          ]
        },
        {
          "output_type": "stream",
          "name": "stderr",
          "text": [
            "100%|██████████| 58/58 [00:30<00:00,  1.91it/s]\n",
            "100%|██████████| 20/20 [00:12<00:00,  1.63it/s]\n"
          ]
        },
        {
          "output_type": "stream",
          "name": "stdout",
          "text": [
            "tf.Tensor(0.0167167, shape=(), dtype=float32)\n",
            "Epoch 2\n"
          ]
        },
        {
          "output_type": "stream",
          "name": "stderr",
          "text": [
            "100%|██████████| 9/9 [00:04<00:00,  1.94it/s]\n",
            "100%|██████████| 20/20 [00:11<00:00,  1.68it/s]\n"
          ]
        },
        {
          "output_type": "stream",
          "name": "stdout",
          "text": [
            "tf.Tensor(0.029839478, shape=(), dtype=float32)\n"
          ]
        },
        {
          "output_type": "stream",
          "name": "stderr",
          "text": [
            "100%|██████████| 9/9 [00:04<00:00,  1.92it/s]\n",
            "100%|██████████| 20/20 [00:12<00:00,  1.67it/s]\n"
          ]
        },
        {
          "output_type": "stream",
          "name": "stdout",
          "text": [
            "tf.Tensor(0.05722842, shape=(), dtype=float32)\n"
          ]
        },
        {
          "output_type": "stream",
          "name": "stderr",
          "text": [
            "100%|██████████| 9/9 [00:04<00:00,  1.93it/s]\n",
            "100%|██████████| 20/20 [00:11<00:00,  1.69it/s]\n"
          ]
        },
        {
          "output_type": "stream",
          "name": "stdout",
          "text": [
            "tf.Tensor(0.020833522, shape=(), dtype=float32)\n"
          ]
        },
        {
          "output_type": "stream",
          "name": "stderr",
          "text": [
            "100%|██████████| 9/9 [00:04<00:00,  1.90it/s]\n",
            "100%|██████████| 20/20 [00:11<00:00,  1.68it/s]\n"
          ]
        },
        {
          "output_type": "stream",
          "name": "stdout",
          "text": [
            "tf.Tensor(0.112785816, shape=(), dtype=float32)\n"
          ]
        },
        {
          "output_type": "stream",
          "name": "stderr",
          "text": [
            "100%|██████████| 19/19 [00:09<00:00,  1.93it/s]\n",
            "100%|██████████| 20/20 [00:11<00:00,  1.68it/s]\n"
          ]
        },
        {
          "output_type": "stream",
          "name": "stdout",
          "text": [
            "tf.Tensor(0.026728308, shape=(), dtype=float32)\n"
          ]
        },
        {
          "output_type": "stream",
          "name": "stderr",
          "text": [
            "100%|██████████| 19/19 [00:09<00:00,  1.91it/s]\n",
            "100%|██████████| 20/20 [00:11<00:00,  1.69it/s]\n"
          ]
        },
        {
          "output_type": "stream",
          "name": "stdout",
          "text": [
            "tf.Tensor(0.034760956, shape=(), dtype=float32)\n"
          ]
        },
        {
          "output_type": "stream",
          "name": "stderr",
          "text": [
            "100%|██████████| 19/19 [00:09<00:00,  1.94it/s]\n",
            "100%|██████████| 20/20 [00:11<00:00,  1.69it/s]\n"
          ]
        },
        {
          "output_type": "stream",
          "name": "stdout",
          "text": [
            "tf.Tensor(0.15790834, shape=(), dtype=float32)\n"
          ]
        },
        {
          "output_type": "stream",
          "name": "stderr",
          "text": [
            "100%|██████████| 38/38 [00:19<00:00,  1.91it/s]\n",
            "100%|██████████| 20/20 [00:11<00:00,  1.68it/s]\n"
          ]
        },
        {
          "output_type": "stream",
          "name": "stdout",
          "text": [
            "tf.Tensor(0.2239909, shape=(), dtype=float32)\n"
          ]
        },
        {
          "output_type": "stream",
          "name": "stderr",
          "text": [
            "100%|██████████| 58/58 [00:30<00:00,  1.92it/s]\n",
            "100%|██████████| 20/20 [00:11<00:00,  1.68it/s]\n"
          ]
        },
        {
          "output_type": "stream",
          "name": "stdout",
          "text": [
            "tf.Tensor(0.2933336, shape=(), dtype=float32)\n",
            "Epoch 3\n"
          ]
        },
        {
          "output_type": "stream",
          "name": "stderr",
          "text": [
            "100%|██████████| 9/9 [00:04<00:00,  1.89it/s]\n",
            "100%|██████████| 20/20 [00:12<00:00,  1.63it/s]\n"
          ]
        },
        {
          "output_type": "stream",
          "name": "stdout",
          "text": [
            "tf.Tensor(0.34856763, shape=(), dtype=float32)\n"
          ]
        },
        {
          "output_type": "stream",
          "name": "stderr",
          "text": [
            "100%|██████████| 9/9 [00:04<00:00,  1.94it/s]\n",
            "100%|██████████| 20/20 [00:12<00:00,  1.66it/s]\n"
          ]
        },
        {
          "output_type": "stream",
          "name": "stdout",
          "text": [
            "tf.Tensor(0.2581769, shape=(), dtype=float32)\n"
          ]
        },
        {
          "output_type": "stream",
          "name": "stderr",
          "text": [
            "100%|██████████| 9/9 [00:04<00:00,  1.90it/s]\n",
            "100%|██████████| 20/20 [00:11<00:00,  1.67it/s]\n"
          ]
        },
        {
          "output_type": "stream",
          "name": "stdout",
          "text": [
            "tf.Tensor(0.22265124, shape=(), dtype=float32)\n"
          ]
        },
        {
          "output_type": "stream",
          "name": "stderr",
          "text": [
            "100%|██████████| 9/9 [00:04<00:00,  1.93it/s]\n",
            "100%|██████████| 20/20 [00:11<00:00,  1.69it/s]\n"
          ]
        },
        {
          "output_type": "stream",
          "name": "stdout",
          "text": [
            "tf.Tensor(0.23997624, shape=(), dtype=float32)\n"
          ]
        },
        {
          "output_type": "stream",
          "name": "stderr",
          "text": [
            "100%|██████████| 19/19 [00:09<00:00,  1.90it/s]\n",
            "100%|██████████| 20/20 [00:11<00:00,  1.68it/s]\n"
          ]
        },
        {
          "output_type": "stream",
          "name": "stdout",
          "text": [
            "tf.Tensor(0.35121903, shape=(), dtype=float32)\n"
          ]
        },
        {
          "output_type": "stream",
          "name": "stderr",
          "text": [
            "100%|██████████| 19/19 [00:09<00:00,  1.93it/s]\n",
            "100%|██████████| 20/20 [00:11<00:00,  1.69it/s]\n"
          ]
        },
        {
          "output_type": "stream",
          "name": "stdout",
          "text": [
            "tf.Tensor(0.30679178, shape=(), dtype=float32)\n"
          ]
        },
        {
          "output_type": "stream",
          "name": "stderr",
          "text": [
            "100%|██████████| 19/19 [00:09<00:00,  1.91it/s]\n",
            "100%|██████████| 20/20 [00:11<00:00,  1.68it/s]\n"
          ]
        },
        {
          "output_type": "stream",
          "name": "stdout",
          "text": [
            "tf.Tensor(0.41928113, shape=(), dtype=float32)\n"
          ]
        },
        {
          "output_type": "stream",
          "name": "stderr",
          "text": [
            "100%|██████████| 38/38 [00:19<00:00,  1.93it/s]\n",
            "100%|██████████| 20/20 [00:11<00:00,  1.69it/s]\n"
          ]
        },
        {
          "output_type": "stream",
          "name": "stdout",
          "text": [
            "tf.Tensor(0.40312344, shape=(), dtype=float32)\n"
          ]
        },
        {
          "output_type": "stream",
          "name": "stderr",
          "text": [
            "100%|██████████| 58/58 [00:30<00:00,  1.90it/s]\n",
            "100%|██████████| 20/20 [00:11<00:00,  1.68it/s]\n"
          ]
        },
        {
          "output_type": "stream",
          "name": "stdout",
          "text": [
            "tf.Tensor(0.38827667, shape=(), dtype=float32)\n",
            "Epoch 4\n"
          ]
        },
        {
          "output_type": "stream",
          "name": "stderr",
          "text": [
            "100%|██████████| 9/9 [00:04<00:00,  1.94it/s]\n",
            "100%|██████████| 20/20 [00:11<00:00,  1.69it/s]\n"
          ]
        },
        {
          "output_type": "stream",
          "name": "stdout",
          "text": [
            "tf.Tensor(0.35658222, shape=(), dtype=float32)\n"
          ]
        },
        {
          "output_type": "stream",
          "name": "stderr",
          "text": [
            "100%|██████████| 9/9 [00:04<00:00,  1.92it/s]\n",
            "100%|██████████| 20/20 [00:11<00:00,  1.68it/s]\n"
          ]
        },
        {
          "output_type": "stream",
          "name": "stdout",
          "text": [
            "tf.Tensor(0.4564782, shape=(), dtype=float32)\n"
          ]
        },
        {
          "output_type": "stream",
          "name": "stderr",
          "text": [
            "100%|██████████| 9/9 [00:04<00:00,  1.93it/s]\n",
            "100%|██████████| 20/20 [00:11<00:00,  1.68it/s]\n"
          ]
        },
        {
          "output_type": "stream",
          "name": "stdout",
          "text": [
            "tf.Tensor(0.4206314, shape=(), dtype=float32)\n"
          ]
        },
        {
          "output_type": "stream",
          "name": "stderr",
          "text": [
            "100%|██████████| 9/9 [00:04<00:00,  1.91it/s]\n",
            "100%|██████████| 20/20 [00:11<00:00,  1.68it/s]\n"
          ]
        },
        {
          "output_type": "stream",
          "name": "stdout",
          "text": [
            "tf.Tensor(0.46997306, shape=(), dtype=float32)\n"
          ]
        },
        {
          "output_type": "stream",
          "name": "stderr",
          "text": [
            "100%|██████████| 19/19 [00:09<00:00,  1.94it/s]\n",
            "100%|██████████| 20/20 [00:11<00:00,  1.69it/s]\n"
          ]
        },
        {
          "output_type": "stream",
          "name": "stdout",
          "text": [
            "tf.Tensor(0.47281003, shape=(), dtype=float32)\n"
          ]
        },
        {
          "output_type": "stream",
          "name": "stderr",
          "text": [
            "100%|██████████| 19/19 [00:09<00:00,  1.91it/s]\n",
            "100%|██████████| 20/20 [00:11<00:00,  1.68it/s]\n"
          ]
        },
        {
          "output_type": "stream",
          "name": "stdout",
          "text": [
            "tf.Tensor(0.51398575, shape=(), dtype=float32)\n"
          ]
        },
        {
          "output_type": "stream",
          "name": "stderr",
          "text": [
            "100%|██████████| 19/19 [00:09<00:00,  1.94it/s]\n",
            "100%|██████████| 20/20 [00:11<00:00,  1.69it/s]\n"
          ]
        },
        {
          "output_type": "stream",
          "name": "stdout",
          "text": [
            "tf.Tensor(0.5345047, shape=(), dtype=float32)\n"
          ]
        },
        {
          "output_type": "stream",
          "name": "stderr",
          "text": [
            "100%|██████████| 38/38 [00:19<00:00,  1.91it/s]\n",
            "100%|██████████| 20/20 [00:11<00:00,  1.68it/s]\n"
          ]
        },
        {
          "output_type": "stream",
          "name": "stdout",
          "text": [
            "tf.Tensor(0.5622855, shape=(), dtype=float32)\n"
          ]
        },
        {
          "output_type": "stream",
          "name": "stderr",
          "text": [
            "100%|██████████| 58/58 [00:29<00:00,  1.93it/s]\n",
            "100%|██████████| 20/20 [00:11<00:00,  1.69it/s]\n"
          ]
        },
        {
          "output_type": "stream",
          "name": "stdout",
          "text": [
            "tf.Tensor(0.52746665, shape=(), dtype=float32)\n",
            "Epoch 5\n"
          ]
        },
        {
          "output_type": "stream",
          "name": "stderr",
          "text": [
            "100%|██████████| 9/9 [00:04<00:00,  1.92it/s]\n",
            "100%|██████████| 20/20 [00:11<00:00,  1.68it/s]\n"
          ]
        },
        {
          "output_type": "stream",
          "name": "stdout",
          "text": [
            "tf.Tensor(0.49723312, shape=(), dtype=float32)\n"
          ]
        },
        {
          "output_type": "stream",
          "name": "stderr",
          "text": [
            "100%|██████████| 9/9 [00:04<00:00,  1.94it/s]\n",
            "100%|██████████| 20/20 [00:11<00:00,  1.69it/s]\n"
          ]
        },
        {
          "output_type": "stream",
          "name": "stdout",
          "text": [
            "tf.Tensor(0.40828815, shape=(), dtype=float32)\n"
          ]
        },
        {
          "output_type": "stream",
          "name": "stderr",
          "text": [
            "100%|██████████| 9/9 [00:04<00:00,  1.91it/s]\n",
            "100%|██████████| 20/20 [00:11<00:00,  1.68it/s]\n"
          ]
        },
        {
          "output_type": "stream",
          "name": "stdout",
          "text": [
            "tf.Tensor(0.5382852, shape=(), dtype=float32)\n"
          ]
        },
        {
          "output_type": "stream",
          "name": "stderr",
          "text": [
            "100%|██████████| 9/9 [00:04<00:00,  1.94it/s]\n",
            "100%|██████████| 20/20 [00:11<00:00,  1.68it/s]\n"
          ]
        },
        {
          "output_type": "stream",
          "name": "stdout",
          "text": [
            "tf.Tensor(0.5286658, shape=(), dtype=float32)\n"
          ]
        },
        {
          "output_type": "stream",
          "name": "stderr",
          "text": [
            "100%|██████████| 19/19 [00:09<00:00,  1.91it/s]\n",
            "100%|██████████| 20/20 [00:11<00:00,  1.68it/s]\n"
          ]
        },
        {
          "output_type": "stream",
          "name": "stdout",
          "text": [
            "tf.Tensor(0.5368202, shape=(), dtype=float32)\n"
          ]
        },
        {
          "output_type": "stream",
          "name": "stderr",
          "text": [
            "100%|██████████| 19/19 [00:09<00:00,  1.94it/s]\n",
            "100%|██████████| 20/20 [00:11<00:00,  1.68it/s]\n"
          ]
        },
        {
          "output_type": "stream",
          "name": "stdout",
          "text": [
            "tf.Tensor(0.5464688, shape=(), dtype=float32)\n"
          ]
        },
        {
          "output_type": "stream",
          "name": "stderr",
          "text": [
            "100%|██████████| 19/19 [00:09<00:00,  1.91it/s]\n",
            "100%|██████████| 20/20 [00:11<00:00,  1.68it/s]\n"
          ]
        },
        {
          "output_type": "stream",
          "name": "stdout",
          "text": [
            "tf.Tensor(0.56398827, shape=(), dtype=float32)\n"
          ]
        },
        {
          "output_type": "stream",
          "name": "stderr",
          "text": [
            "100%|██████████| 38/38 [00:19<00:00,  1.93it/s]\n",
            "100%|██████████| 20/20 [00:11<00:00,  1.69it/s]\n"
          ]
        },
        {
          "output_type": "stream",
          "name": "stdout",
          "text": [
            "tf.Tensor(0.583125, shape=(), dtype=float32)\n"
          ]
        },
        {
          "output_type": "stream",
          "name": "stderr",
          "text": [
            "100%|██████████| 58/58 [00:30<00:00,  1.91it/s]\n",
            "100%|██████████| 20/20 [00:11<00:00,  1.67it/s]\n"
          ]
        },
        {
          "output_type": "stream",
          "name": "stdout",
          "text": [
            "tf.Tensor(0.5642109, shape=(), dtype=float32)\n",
            "Epoch 6\n"
          ]
        },
        {
          "output_type": "stream",
          "name": "stderr",
          "text": [
            "100%|██████████| 9/9 [00:04<00:00,  1.94it/s]\n",
            "100%|██████████| 20/20 [00:11<00:00,  1.68it/s]\n"
          ]
        },
        {
          "output_type": "stream",
          "name": "stdout",
          "text": [
            "tf.Tensor(0.5457551, shape=(), dtype=float32)\n"
          ]
        },
        {
          "output_type": "stream",
          "name": "stderr",
          "text": [
            "100%|██████████| 9/9 [00:04<00:00,  1.91it/s]\n",
            "100%|██████████| 20/20 [00:11<00:00,  1.68it/s]\n"
          ]
        },
        {
          "output_type": "stream",
          "name": "stdout",
          "text": [
            "tf.Tensor(0.53447104, shape=(), dtype=float32)\n"
          ]
        },
        {
          "output_type": "stream",
          "name": "stderr",
          "text": [
            "100%|██████████| 9/9 [00:04<00:00,  1.94it/s]\n",
            "100%|██████████| 20/20 [00:11<00:00,  1.68it/s]\n"
          ]
        },
        {
          "output_type": "stream",
          "name": "stdout",
          "text": [
            "tf.Tensor(0.52356935, shape=(), dtype=float32)\n"
          ]
        },
        {
          "output_type": "stream",
          "name": "stderr",
          "text": [
            "100%|██████████| 9/9 [00:04<00:00,  1.91it/s]\n",
            "100%|██████████| 20/20 [00:11<00:00,  1.68it/s]\n"
          ]
        },
        {
          "output_type": "stream",
          "name": "stdout",
          "text": [
            "tf.Tensor(0.53892505, shape=(), dtype=float32)\n"
          ]
        },
        {
          "output_type": "stream",
          "name": "stderr",
          "text": [
            "100%|██████████| 19/19 [00:09<00:00,  1.93it/s]\n",
            "100%|██████████| 20/20 [00:11<00:00,  1.68it/s]\n"
          ]
        },
        {
          "output_type": "stream",
          "name": "stdout",
          "text": [
            "tf.Tensor(0.5736212, shape=(), dtype=float32)\n"
          ]
        },
        {
          "output_type": "stream",
          "name": "stderr",
          "text": [
            "100%|██████████| 19/19 [00:09<00:00,  1.92it/s]\n",
            "100%|██████████| 20/20 [00:11<00:00,  1.68it/s]\n"
          ]
        },
        {
          "output_type": "stream",
          "name": "stdout",
          "text": [
            "tf.Tensor(0.54766715, shape=(), dtype=float32)\n"
          ]
        },
        {
          "output_type": "stream",
          "name": "stderr",
          "text": [
            "100%|██████████| 19/19 [00:09<00:00,  1.94it/s]\n",
            "100%|██████████| 20/20 [00:11<00:00,  1.68it/s]\n"
          ]
        },
        {
          "output_type": "stream",
          "name": "stdout",
          "text": [
            "tf.Tensor(0.5544809, shape=(), dtype=float32)\n"
          ]
        },
        {
          "output_type": "stream",
          "name": "stderr",
          "text": [
            "100%|██████████| 38/38 [00:19<00:00,  1.90it/s]\n",
            "100%|██████████| 20/20 [00:11<00:00,  1.68it/s]\n"
          ]
        },
        {
          "output_type": "stream",
          "name": "stdout",
          "text": [
            "tf.Tensor(0.6040681, shape=(), dtype=float32)\n"
          ]
        },
        {
          "output_type": "stream",
          "name": "stderr",
          "text": [
            "100%|██████████| 58/58 [00:29<00:00,  1.94it/s]\n",
            "100%|██████████| 20/20 [00:11<00:00,  1.68it/s]\n"
          ]
        },
        {
          "output_type": "stream",
          "name": "stdout",
          "text": [
            "tf.Tensor(0.5750597, shape=(), dtype=float32)\n",
            "Epoch 7\n"
          ]
        },
        {
          "output_type": "stream",
          "name": "stderr",
          "text": [
            "100%|██████████| 9/9 [00:04<00:00,  1.91it/s]\n",
            "100%|██████████| 20/20 [00:11<00:00,  1.68it/s]\n"
          ]
        },
        {
          "output_type": "stream",
          "name": "stdout",
          "text": [
            "tf.Tensor(0.55515385, shape=(), dtype=float32)\n"
          ]
        },
        {
          "output_type": "stream",
          "name": "stderr",
          "text": [
            "100%|██████████| 9/9 [00:04<00:00,  1.93it/s]\n",
            "100%|██████████| 20/20 [00:11<00:00,  1.67it/s]\n"
          ]
        },
        {
          "output_type": "stream",
          "name": "stdout",
          "text": [
            "tf.Tensor(0.51305896, shape=(), dtype=float32)\n"
          ]
        },
        {
          "output_type": "stream",
          "name": "stderr",
          "text": [
            "100%|██████████| 9/9 [00:04<00:00,  1.90it/s]\n",
            "100%|██████████| 20/20 [00:11<00:00,  1.68it/s]\n"
          ]
        },
        {
          "output_type": "stream",
          "name": "stdout",
          "text": [
            "tf.Tensor(0.56788045, shape=(), dtype=float32)\n"
          ]
        },
        {
          "output_type": "stream",
          "name": "stderr",
          "text": [
            "100%|██████████| 9/9 [00:04<00:00,  1.93it/s]\n",
            "100%|██████████| 20/20 [00:11<00:00,  1.69it/s]\n"
          ]
        },
        {
          "output_type": "stream",
          "name": "stdout",
          "text": [
            "tf.Tensor(0.5407191, shape=(), dtype=float32)\n"
          ]
        },
        {
          "output_type": "stream",
          "name": "stderr",
          "text": [
            "100%|██████████| 19/19 [00:09<00:00,  1.95it/s]\n",
            "100%|██████████| 20/20 [00:11<00:00,  1.69it/s]\n"
          ]
        },
        {
          "output_type": "stream",
          "name": "stdout",
          "text": [
            "tf.Tensor(0.5884381, shape=(), dtype=float32)\n"
          ]
        },
        {
          "output_type": "stream",
          "name": "stderr",
          "text": [
            "100%|██████████| 19/19 [00:09<00:00,  1.93it/s]\n",
            "100%|██████████| 20/20 [00:11<00:00,  1.69it/s]\n"
          ]
        },
        {
          "output_type": "stream",
          "name": "stdout",
          "text": [
            "tf.Tensor(0.57261515, shape=(), dtype=float32)\n"
          ]
        },
        {
          "output_type": "stream",
          "name": "stderr",
          "text": [
            "100%|██████████| 19/19 [00:09<00:00,  1.91it/s]\n",
            "100%|██████████| 20/20 [00:11<00:00,  1.69it/s]\n"
          ]
        },
        {
          "output_type": "stream",
          "name": "stdout",
          "text": [
            "tf.Tensor(0.58424973, shape=(), dtype=float32)\n"
          ]
        },
        {
          "output_type": "stream",
          "name": "stderr",
          "text": [
            "100%|██████████| 38/38 [00:19<00:00,  1.94it/s]\n",
            "100%|██████████| 20/20 [00:12<00:00,  1.66it/s]\n"
          ]
        },
        {
          "output_type": "stream",
          "name": "stdout",
          "text": [
            "tf.Tensor(0.608958, shape=(), dtype=float32)\n"
          ]
        },
        {
          "output_type": "stream",
          "name": "stderr",
          "text": [
            "100%|██████████| 58/58 [00:30<00:00,  1.91it/s]\n",
            "100%|██████████| 20/20 [00:11<00:00,  1.68it/s]\n"
          ]
        },
        {
          "output_type": "stream",
          "name": "stdout",
          "text": [
            "tf.Tensor(0.5814177, shape=(), dtype=float32)\n",
            "Epoch 8\n"
          ]
        },
        {
          "output_type": "stream",
          "name": "stderr",
          "text": [
            "100%|██████████| 9/9 [00:04<00:00,  1.94it/s]\n",
            "100%|██████████| 20/20 [00:11<00:00,  1.69it/s]\n"
          ]
        },
        {
          "output_type": "stream",
          "name": "stdout",
          "text": [
            "tf.Tensor(0.5635181, shape=(), dtype=float32)\n"
          ]
        },
        {
          "output_type": "stream",
          "name": "stderr",
          "text": [
            "100%|██████████| 9/9 [00:04<00:00,  1.92it/s]\n",
            "100%|██████████| 20/20 [00:11<00:00,  1.68it/s]\n"
          ]
        },
        {
          "output_type": "stream",
          "name": "stdout",
          "text": [
            "tf.Tensor(0.56525165, shape=(), dtype=float32)\n"
          ]
        },
        {
          "output_type": "stream",
          "name": "stderr",
          "text": [
            "100%|██████████| 9/9 [00:04<00:00,  1.94it/s]\n",
            "100%|██████████| 20/20 [00:11<00:00,  1.69it/s]\n"
          ]
        },
        {
          "output_type": "stream",
          "name": "stdout",
          "text": [
            "tf.Tensor(0.57381314, shape=(), dtype=float32)\n"
          ]
        },
        {
          "output_type": "stream",
          "name": "stderr",
          "text": [
            "100%|██████████| 9/9 [00:04<00:00,  1.91it/s]\n",
            "100%|██████████| 20/20 [00:11<00:00,  1.68it/s]\n"
          ]
        },
        {
          "output_type": "stream",
          "name": "stdout",
          "text": [
            "tf.Tensor(0.55423146, shape=(), dtype=float32)\n"
          ]
        },
        {
          "output_type": "stream",
          "name": "stderr",
          "text": [
            "100%|██████████| 19/19 [00:09<00:00,  1.93it/s]\n",
            "100%|██████████| 20/20 [00:11<00:00,  1.69it/s]\n"
          ]
        },
        {
          "output_type": "stream",
          "name": "stdout",
          "text": [
            "tf.Tensor(0.5805468, shape=(), dtype=float32)\n"
          ]
        },
        {
          "output_type": "stream",
          "name": "stderr",
          "text": [
            "100%|██████████| 19/19 [00:09<00:00,  1.91it/s]\n",
            "100%|██████████| 20/20 [00:11<00:00,  1.68it/s]\n"
          ]
        },
        {
          "output_type": "stream",
          "name": "stdout",
          "text": [
            "tf.Tensor(0.605838, shape=(), dtype=float32)\n"
          ]
        },
        {
          "output_type": "stream",
          "name": "stderr",
          "text": [
            "100%|██████████| 19/19 [00:09<00:00,  1.94it/s]\n",
            "100%|██████████| 20/20 [00:12<00:00,  1.65it/s]\n"
          ]
        },
        {
          "output_type": "stream",
          "name": "stdout",
          "text": [
            "tf.Tensor(0.6042129, shape=(), dtype=float32)\n"
          ]
        },
        {
          "output_type": "stream",
          "name": "stderr",
          "text": [
            "100%|██████████| 38/38 [00:19<00:00,  1.90it/s]\n",
            "100%|██████████| 20/20 [00:12<00:00,  1.66it/s]\n"
          ]
        },
        {
          "output_type": "stream",
          "name": "stdout",
          "text": [
            "tf.Tensor(0.6039201, shape=(), dtype=float32)\n"
          ]
        },
        {
          "output_type": "stream",
          "name": "stderr",
          "text": [
            "100%|██████████| 58/58 [00:29<00:00,  1.94it/s]\n",
            "100%|██████████| 20/20 [00:11<00:00,  1.69it/s]\n"
          ]
        },
        {
          "output_type": "stream",
          "name": "stdout",
          "text": [
            "tf.Tensor(0.57487166, shape=(), dtype=float32)\n",
            "Epoch 9\n"
          ]
        },
        {
          "output_type": "stream",
          "name": "stderr",
          "text": [
            "100%|██████████| 9/9 [00:04<00:00,  1.91it/s]\n",
            "100%|██████████| 20/20 [00:11<00:00,  1.69it/s]\n"
          ]
        },
        {
          "output_type": "stream",
          "name": "stdout",
          "text": [
            "tf.Tensor(0.58622026, shape=(), dtype=float32)\n"
          ]
        },
        {
          "output_type": "stream",
          "name": "stderr",
          "text": [
            "100%|██████████| 9/9 [00:04<00:00,  1.94it/s]\n",
            "100%|██████████| 20/20 [00:11<00:00,  1.69it/s]\n"
          ]
        },
        {
          "output_type": "stream",
          "name": "stdout",
          "text": [
            "tf.Tensor(0.54900926, shape=(), dtype=float32)\n"
          ]
        },
        {
          "output_type": "stream",
          "name": "stderr",
          "text": [
            "100%|██████████| 9/9 [00:04<00:00,  1.92it/s]\n",
            "100%|██████████| 20/20 [00:11<00:00,  1.69it/s]\n"
          ]
        },
        {
          "output_type": "stream",
          "name": "stdout",
          "text": [
            "tf.Tensor(0.58042777, shape=(), dtype=float32)\n"
          ]
        },
        {
          "output_type": "stream",
          "name": "stderr",
          "text": [
            "100%|██████████| 9/9 [00:04<00:00,  1.94it/s]\n",
            "100%|██████████| 20/20 [00:11<00:00,  1.69it/s]\n"
          ]
        },
        {
          "output_type": "stream",
          "name": "stdout",
          "text": [
            "tf.Tensor(0.5829317, shape=(), dtype=float32)\n"
          ]
        },
        {
          "output_type": "stream",
          "name": "stderr",
          "text": [
            "100%|██████████| 19/19 [00:09<00:00,  1.91it/s]\n",
            "100%|██████████| 20/20 [00:11<00:00,  1.69it/s]\n"
          ]
        },
        {
          "output_type": "stream",
          "name": "stdout",
          "text": [
            "tf.Tensor(0.59150815, shape=(), dtype=float32)\n"
          ]
        },
        {
          "output_type": "stream",
          "name": "stderr",
          "text": [
            "100%|██████████| 19/19 [00:09<00:00,  1.94it/s]\n",
            "100%|██████████| 20/20 [00:11<00:00,  1.69it/s]\n"
          ]
        },
        {
          "output_type": "stream",
          "name": "stdout",
          "text": [
            "tf.Tensor(0.5899178, shape=(), dtype=float32)\n"
          ]
        },
        {
          "output_type": "stream",
          "name": "stderr",
          "text": [
            "100%|██████████| 19/19 [00:09<00:00,  1.92it/s]\n",
            "100%|██████████| 20/20 [00:12<00:00,  1.66it/s]\n"
          ]
        },
        {
          "output_type": "stream",
          "name": "stdout",
          "text": [
            "tf.Tensor(0.60773504, shape=(), dtype=float32)\n"
          ]
        },
        {
          "output_type": "stream",
          "name": "stderr",
          "text": [
            "100%|██████████| 38/38 [00:19<00:00,  1.93it/s]\n",
            "100%|██████████| 20/20 [00:12<00:00,  1.63it/s]\n"
          ]
        },
        {
          "output_type": "stream",
          "name": "stdout",
          "text": [
            "tf.Tensor(0.6146138, shape=(), dtype=float32)\n"
          ]
        },
        {
          "output_type": "stream",
          "name": "stderr",
          "text": [
            "100%|██████████| 58/58 [00:30<00:00,  1.92it/s]\n",
            "100%|██████████| 20/20 [00:11<00:00,  1.69it/s]\n"
          ]
        },
        {
          "output_type": "stream",
          "name": "stdout",
          "text": [
            "tf.Tensor(0.5857804, shape=(), dtype=float32)\n",
            "Epoch 10\n"
          ]
        },
        {
          "output_type": "stream",
          "name": "stderr",
          "text": [
            "100%|██████████| 9/9 [00:04<00:00,  1.94it/s]\n",
            "100%|██████████| 20/20 [00:11<00:00,  1.69it/s]\n"
          ]
        },
        {
          "output_type": "stream",
          "name": "stdout",
          "text": [
            "tf.Tensor(0.5811956, shape=(), dtype=float32)\n"
          ]
        },
        {
          "output_type": "stream",
          "name": "stderr",
          "text": [
            "100%|██████████| 9/9 [00:04<00:00,  1.92it/s]\n",
            "100%|██████████| 20/20 [00:11<00:00,  1.69it/s]\n"
          ]
        },
        {
          "output_type": "stream",
          "name": "stdout",
          "text": [
            "tf.Tensor(0.57947534, shape=(), dtype=float32)\n"
          ]
        },
        {
          "output_type": "stream",
          "name": "stderr",
          "text": [
            "100%|██████████| 9/9 [00:04<00:00,  1.94it/s]\n",
            "100%|██████████| 20/20 [00:11<00:00,  1.69it/s]\n"
          ]
        },
        {
          "output_type": "stream",
          "name": "stdout",
          "text": [
            "tf.Tensor(0.59602416, shape=(), dtype=float32)\n"
          ]
        },
        {
          "output_type": "stream",
          "name": "stderr",
          "text": [
            "100%|██████████| 9/9 [00:04<00:00,  1.92it/s]\n",
            "100%|██████████| 20/20 [00:11<00:00,  1.69it/s]\n"
          ]
        },
        {
          "output_type": "stream",
          "name": "stdout",
          "text": [
            "tf.Tensor(0.5892506, shape=(), dtype=float32)\n"
          ]
        },
        {
          "output_type": "stream",
          "name": "stderr",
          "text": [
            "100%|██████████| 19/19 [00:09<00:00,  1.94it/s]\n",
            "100%|██████████| 20/20 [00:11<00:00,  1.69it/s]\n"
          ]
        },
        {
          "output_type": "stream",
          "name": "stdout",
          "text": [
            "tf.Tensor(0.5951544, shape=(), dtype=float32)\n"
          ]
        },
        {
          "output_type": "stream",
          "name": "stderr",
          "text": [
            "100%|██████████| 19/19 [00:09<00:00,  1.91it/s]\n",
            "100%|██████████| 20/20 [00:11<00:00,  1.67it/s]\n"
          ]
        },
        {
          "output_type": "stream",
          "name": "stdout",
          "text": [
            "tf.Tensor(0.59942025, shape=(), dtype=float32)\n"
          ]
        },
        {
          "output_type": "stream",
          "name": "stderr",
          "text": [
            "100%|██████████| 19/19 [00:09<00:00,  1.94it/s]\n",
            "100%|██████████| 20/20 [00:11<00:00,  1.68it/s]\n"
          ]
        },
        {
          "output_type": "stream",
          "name": "stdout",
          "text": [
            "tf.Tensor(0.6107801, shape=(), dtype=float32)\n"
          ]
        },
        {
          "output_type": "stream",
          "name": "stderr",
          "text": [
            "100%|██████████| 38/38 [00:19<00:00,  1.91it/s]\n",
            "100%|██████████| 20/20 [00:11<00:00,  1.68it/s]\n"
          ]
        },
        {
          "output_type": "stream",
          "name": "stdout",
          "text": [
            "tf.Tensor(0.61896867, shape=(), dtype=float32)\n"
          ]
        },
        {
          "output_type": "stream",
          "name": "stderr",
          "text": [
            "100%|██████████| 58/58 [00:30<00:00,  1.93it/s]\n",
            "100%|██████████| 20/20 [00:12<00:00,  1.66it/s]\n"
          ]
        },
        {
          "output_type": "stream",
          "name": "stdout",
          "text": [
            "tf.Tensor(0.5992429, shape=(), dtype=float32)\n",
            "Epoch 11\n"
          ]
        },
        {
          "output_type": "stream",
          "name": "stderr",
          "text": [
            "100%|██████████| 9/9 [00:04<00:00,  1.92it/s]\n",
            "100%|██████████| 20/20 [00:11<00:00,  1.68it/s]\n"
          ]
        },
        {
          "output_type": "stream",
          "name": "stdout",
          "text": [
            "tf.Tensor(0.5740542, shape=(), dtype=float32)\n"
          ]
        },
        {
          "output_type": "stream",
          "name": "stderr",
          "text": [
            "100%|██████████| 9/9 [00:04<00:00,  1.93it/s]\n",
            "100%|██████████| 20/20 [00:11<00:00,  1.68it/s]\n"
          ]
        },
        {
          "output_type": "stream",
          "name": "stdout",
          "text": [
            "tf.Tensor(0.54122615, shape=(), dtype=float32)\n"
          ]
        },
        {
          "output_type": "stream",
          "name": "stderr",
          "text": [
            "100%|██████████| 9/9 [00:04<00:00,  1.91it/s]\n",
            "100%|██████████| 20/20 [00:11<00:00,  1.67it/s]\n"
          ]
        },
        {
          "output_type": "stream",
          "name": "stdout",
          "text": [
            "tf.Tensor(0.5632066, shape=(), dtype=float32)\n"
          ]
        },
        {
          "output_type": "stream",
          "name": "stderr",
          "text": [
            "100%|██████████| 9/9 [00:04<00:00,  1.94it/s]\n",
            "100%|██████████| 20/20 [00:11<00:00,  1.69it/s]\n"
          ]
        },
        {
          "output_type": "stream",
          "name": "stdout",
          "text": [
            "tf.Tensor(0.5691412, shape=(), dtype=float32)\n"
          ]
        },
        {
          "output_type": "stream",
          "name": "stderr",
          "text": [
            "100%|██████████| 19/19 [00:09<00:00,  1.91it/s]\n",
            "100%|██████████| 20/20 [00:11<00:00,  1.68it/s]\n"
          ]
        },
        {
          "output_type": "stream",
          "name": "stdout",
          "text": [
            "tf.Tensor(0.5979344, shape=(), dtype=float32)\n"
          ]
        },
        {
          "output_type": "stream",
          "name": "stderr",
          "text": [
            "100%|██████████| 19/19 [00:09<00:00,  1.94it/s]\n",
            "100%|██████████| 20/20 [00:11<00:00,  1.68it/s]\n"
          ]
        },
        {
          "output_type": "stream",
          "name": "stdout",
          "text": [
            "tf.Tensor(0.5944295, shape=(), dtype=float32)\n"
          ]
        },
        {
          "output_type": "stream",
          "name": "stderr",
          "text": [
            "100%|██████████| 19/19 [00:09<00:00,  1.91it/s]\n",
            "100%|██████████| 20/20 [00:11<00:00,  1.68it/s]\n"
          ]
        },
        {
          "output_type": "stream",
          "name": "stdout",
          "text": [
            "tf.Tensor(0.62107205, shape=(), dtype=float32)\n"
          ]
        },
        {
          "output_type": "stream",
          "name": "stderr",
          "text": [
            "100%|██████████| 38/38 [00:19<00:00,  1.94it/s]\n",
            "100%|██████████| 20/20 [00:11<00:00,  1.69it/s]\n"
          ]
        },
        {
          "output_type": "stream",
          "name": "stdout",
          "text": [
            "tf.Tensor(0.6286802, shape=(), dtype=float32)\n"
          ]
        },
        {
          "output_type": "stream",
          "name": "stderr",
          "text": [
            "100%|██████████| 58/58 [00:30<00:00,  1.91it/s]\n",
            "100%|██████████| 20/20 [00:12<00:00,  1.63it/s]\n"
          ]
        },
        {
          "output_type": "stream",
          "name": "stdout",
          "text": [
            "tf.Tensor(0.595595, shape=(), dtype=float32)\n",
            "Epoch 12\n"
          ]
        },
        {
          "output_type": "stream",
          "name": "stderr",
          "text": [
            "100%|██████████| 9/9 [00:04<00:00,  1.94it/s]\n",
            "100%|██████████| 20/20 [00:11<00:00,  1.69it/s]\n"
          ]
        },
        {
          "output_type": "stream",
          "name": "stdout",
          "text": [
            "tf.Tensor(0.5721059, shape=(), dtype=float32)\n"
          ]
        },
        {
          "output_type": "stream",
          "name": "stderr",
          "text": [
            "100%|██████████| 9/9 [00:04<00:00,  1.91it/s]\n",
            "100%|██████████| 20/20 [00:11<00:00,  1.69it/s]\n"
          ]
        },
        {
          "output_type": "stream",
          "name": "stdout",
          "text": [
            "tf.Tensor(0.5271764, shape=(), dtype=float32)\n"
          ]
        },
        {
          "output_type": "stream",
          "name": "stderr",
          "text": [
            "100%|██████████| 9/9 [00:04<00:00,  1.93it/s]\n",
            "100%|██████████| 20/20 [00:11<00:00,  1.68it/s]\n"
          ]
        },
        {
          "output_type": "stream",
          "name": "stdout",
          "text": [
            "tf.Tensor(0.6011045, shape=(), dtype=float32)\n"
          ]
        },
        {
          "output_type": "stream",
          "name": "stderr",
          "text": [
            "100%|██████████| 9/9 [00:04<00:00,  1.91it/s]\n",
            "100%|██████████| 20/20 [00:11<00:00,  1.69it/s]\n"
          ]
        },
        {
          "output_type": "stream",
          "name": "stdout",
          "text": [
            "tf.Tensor(0.58562636, shape=(), dtype=float32)\n"
          ]
        },
        {
          "output_type": "stream",
          "name": "stderr",
          "text": [
            "100%|██████████| 19/19 [00:09<00:00,  1.94it/s]\n",
            "100%|██████████| 20/20 [00:11<00:00,  1.69it/s]\n"
          ]
        },
        {
          "output_type": "stream",
          "name": "stdout",
          "text": [
            "tf.Tensor(0.61177486, shape=(), dtype=float32)\n"
          ]
        },
        {
          "output_type": "stream",
          "name": "stderr",
          "text": [
            "100%|██████████| 19/19 [00:09<00:00,  1.91it/s]\n",
            "100%|██████████| 20/20 [00:11<00:00,  1.69it/s]\n"
          ]
        },
        {
          "output_type": "stream",
          "name": "stdout",
          "text": [
            "tf.Tensor(0.6150092, shape=(), dtype=float32)\n"
          ]
        },
        {
          "output_type": "stream",
          "name": "stderr",
          "text": [
            "100%|██████████| 19/19 [00:09<00:00,  1.93it/s]\n",
            "100%|██████████| 20/20 [00:11<00:00,  1.68it/s]\n"
          ]
        },
        {
          "output_type": "stream",
          "name": "stdout",
          "text": [
            "tf.Tensor(0.6198345, shape=(), dtype=float32)\n"
          ]
        },
        {
          "output_type": "stream",
          "name": "stderr",
          "text": [
            "100%|██████████| 38/38 [00:19<00:00,  1.91it/s]\n",
            "100%|██████████| 20/20 [00:11<00:00,  1.69it/s]\n"
          ]
        },
        {
          "output_type": "stream",
          "name": "stdout",
          "text": [
            "tf.Tensor(0.62579566, shape=(), dtype=float32)\n"
          ]
        },
        {
          "output_type": "stream",
          "name": "stderr",
          "text": [
            "100%|██████████| 58/58 [00:29<00:00,  1.94it/s]\n",
            "100%|██████████| 20/20 [00:11<00:00,  1.69it/s]\n"
          ]
        },
        {
          "output_type": "stream",
          "name": "stdout",
          "text": [
            "tf.Tensor(0.59506494, shape=(), dtype=float32)\n",
            "Epoch 13\n"
          ]
        },
        {
          "output_type": "stream",
          "name": "stderr",
          "text": [
            "100%|██████████| 9/9 [00:04<00:00,  1.91it/s]\n",
            "100%|██████████| 20/20 [00:11<00:00,  1.68it/s]\n"
          ]
        },
        {
          "output_type": "stream",
          "name": "stdout",
          "text": [
            "tf.Tensor(0.604679, shape=(), dtype=float32)\n"
          ]
        },
        {
          "output_type": "stream",
          "name": "stderr",
          "text": [
            "100%|██████████| 9/9 [00:04<00:00,  1.94it/s]\n",
            "100%|██████████| 20/20 [00:11<00:00,  1.69it/s]\n"
          ]
        },
        {
          "output_type": "stream",
          "name": "stdout",
          "text": [
            "tf.Tensor(0.52684766, shape=(), dtype=float32)\n"
          ]
        },
        {
          "output_type": "stream",
          "name": "stderr",
          "text": [
            "100%|██████████| 9/9 [00:04<00:00,  1.91it/s]\n",
            "100%|██████████| 20/20 [00:11<00:00,  1.68it/s]\n"
          ]
        },
        {
          "output_type": "stream",
          "name": "stdout",
          "text": [
            "tf.Tensor(0.5546524, shape=(), dtype=float32)\n"
          ]
        },
        {
          "output_type": "stream",
          "name": "stderr",
          "text": [
            "100%|██████████| 9/9 [00:04<00:00,  1.94it/s]\n",
            "100%|██████████| 20/20 [00:11<00:00,  1.69it/s]\n"
          ]
        },
        {
          "output_type": "stream",
          "name": "stdout",
          "text": [
            "tf.Tensor(0.54713756, shape=(), dtype=float32)\n"
          ]
        },
        {
          "output_type": "stream",
          "name": "stderr",
          "text": [
            "100%|██████████| 19/19 [00:09<00:00,  1.92it/s]\n",
            "100%|██████████| 20/20 [00:11<00:00,  1.69it/s]\n"
          ]
        },
        {
          "output_type": "stream",
          "name": "stdout",
          "text": [
            "tf.Tensor(0.57862395, shape=(), dtype=float32)\n"
          ]
        },
        {
          "output_type": "stream",
          "name": "stderr",
          "text": [
            "100%|██████████| 19/19 [00:09<00:00,  1.94it/s]\n",
            "100%|██████████| 20/20 [00:11<00:00,  1.69it/s]\n"
          ]
        },
        {
          "output_type": "stream",
          "name": "stdout",
          "text": [
            "tf.Tensor(0.5784383, shape=(), dtype=float32)\n"
          ]
        },
        {
          "output_type": "stream",
          "name": "stderr",
          "text": [
            "100%|██████████| 19/19 [00:09<00:00,  1.91it/s]\n",
            "100%|██████████| 20/20 [00:11<00:00,  1.67it/s]\n"
          ]
        },
        {
          "output_type": "stream",
          "name": "stdout",
          "text": [
            "tf.Tensor(0.61307025, shape=(), dtype=float32)\n"
          ]
        },
        {
          "output_type": "stream",
          "name": "stderr",
          "text": [
            "100%|██████████| 38/38 [00:19<00:00,  1.93it/s]\n",
            "100%|██████████| 20/20 [00:11<00:00,  1.69it/s]\n"
          ]
        },
        {
          "output_type": "stream",
          "name": "stdout",
          "text": [
            "tf.Tensor(0.62733734, shape=(), dtype=float32)\n"
          ]
        },
        {
          "output_type": "stream",
          "name": "stderr",
          "text": [
            "100%|██████████| 58/58 [00:30<00:00,  1.91it/s]\n",
            "100%|██████████| 20/20 [00:11<00:00,  1.68it/s]\n"
          ]
        },
        {
          "output_type": "stream",
          "name": "stdout",
          "text": [
            "tf.Tensor(0.5990066, shape=(), dtype=float32)\n",
            "Epoch 14\n"
          ]
        },
        {
          "output_type": "stream",
          "name": "stderr",
          "text": [
            "100%|██████████| 9/9 [00:04<00:00,  1.95it/s]\n",
            "100%|██████████| 20/20 [00:11<00:00,  1.69it/s]\n"
          ]
        },
        {
          "output_type": "stream",
          "name": "stdout",
          "text": [
            "tf.Tensor(0.6061506, shape=(), dtype=float32)\n"
          ]
        },
        {
          "output_type": "stream",
          "name": "stderr",
          "text": [
            "100%|██████████| 9/9 [00:04<00:00,  1.91it/s]\n",
            "100%|██████████| 20/20 [00:11<00:00,  1.68it/s]\n"
          ]
        },
        {
          "output_type": "stream",
          "name": "stdout",
          "text": [
            "tf.Tensor(0.58741784, shape=(), dtype=float32)\n"
          ]
        },
        {
          "output_type": "stream",
          "name": "stderr",
          "text": [
            "100%|██████████| 9/9 [00:04<00:00,  1.94it/s]\n",
            "100%|██████████| 20/20 [00:11<00:00,  1.69it/s]\n"
          ]
        },
        {
          "output_type": "stream",
          "name": "stdout",
          "text": [
            "tf.Tensor(0.6062195, shape=(), dtype=float32)\n"
          ]
        },
        {
          "output_type": "stream",
          "name": "stderr",
          "text": [
            "100%|██████████| 9/9 [00:04<00:00,  1.91it/s]\n",
            "100%|██████████| 20/20 [00:11<00:00,  1.68it/s]\n"
          ]
        },
        {
          "output_type": "stream",
          "name": "stdout",
          "text": [
            "tf.Tensor(0.5866057, shape=(), dtype=float32)\n"
          ]
        },
        {
          "output_type": "stream",
          "name": "stderr",
          "text": [
            "100%|██████████| 19/19 [00:09<00:00,  1.93it/s]\n",
            "100%|██████████| 20/20 [00:11<00:00,  1.69it/s]\n"
          ]
        },
        {
          "output_type": "stream",
          "name": "stdout",
          "text": [
            "tf.Tensor(0.603207, shape=(), dtype=float32)\n"
          ]
        },
        {
          "output_type": "stream",
          "name": "stderr",
          "text": [
            "100%|██████████| 19/19 [00:09<00:00,  1.92it/s]\n",
            "100%|██████████| 20/20 [00:11<00:00,  1.68it/s]\n"
          ]
        },
        {
          "output_type": "stream",
          "name": "stdout",
          "text": [
            "tf.Tensor(0.5769329, shape=(), dtype=float32)\n"
          ]
        },
        {
          "output_type": "stream",
          "name": "stderr",
          "text": [
            "100%|██████████| 19/19 [00:09<00:00,  1.93it/s]\n",
            "100%|██████████| 20/20 [00:11<00:00,  1.68it/s]\n"
          ]
        },
        {
          "output_type": "stream",
          "name": "stdout",
          "text": [
            "tf.Tensor(0.6161886, shape=(), dtype=float32)\n"
          ]
        },
        {
          "output_type": "stream",
          "name": "stderr",
          "text": [
            "100%|██████████| 38/38 [00:19<00:00,  1.91it/s]\n",
            "100%|██████████| 20/20 [00:11<00:00,  1.69it/s]\n"
          ]
        },
        {
          "output_type": "stream",
          "name": "stdout",
          "text": [
            "tf.Tensor(0.6273063, shape=(), dtype=float32)\n"
          ]
        },
        {
          "output_type": "stream",
          "name": "stderr",
          "text": [
            "100%|██████████| 58/58 [00:30<00:00,  1.93it/s]\n",
            "100%|██████████| 20/20 [00:11<00:00,  1.69it/s]\n"
          ]
        },
        {
          "output_type": "stream",
          "name": "stdout",
          "text": [
            "tf.Tensor(0.6060743, shape=(), dtype=float32)\n",
            "Epoch 15\n"
          ]
        },
        {
          "output_type": "stream",
          "name": "stderr",
          "text": [
            "100%|██████████| 9/9 [00:04<00:00,  1.92it/s]\n",
            "100%|██████████| 20/20 [00:11<00:00,  1.68it/s]\n"
          ]
        },
        {
          "output_type": "stream",
          "name": "stdout",
          "text": [
            "tf.Tensor(0.60289454, shape=(), dtype=float32)\n"
          ]
        },
        {
          "output_type": "stream",
          "name": "stderr",
          "text": [
            "100%|██████████| 9/9 [00:04<00:00,  1.94it/s]\n",
            "100%|██████████| 20/20 [00:11<00:00,  1.69it/s]\n"
          ]
        },
        {
          "output_type": "stream",
          "name": "stdout",
          "text": [
            "tf.Tensor(0.5615145, shape=(), dtype=float32)\n"
          ]
        },
        {
          "output_type": "stream",
          "name": "stderr",
          "text": [
            "100%|██████████| 9/9 [00:04<00:00,  1.91it/s]\n",
            "100%|██████████| 20/20 [00:11<00:00,  1.68it/s]\n"
          ]
        },
        {
          "output_type": "stream",
          "name": "stdout",
          "text": [
            "tf.Tensor(0.5923848, shape=(), dtype=float32)\n"
          ]
        },
        {
          "output_type": "stream",
          "name": "stderr",
          "text": [
            "100%|██████████| 9/9 [00:04<00:00,  1.94it/s]\n",
            "100%|██████████| 20/20 [00:12<00:00,  1.66it/s]\n"
          ]
        },
        {
          "output_type": "stream",
          "name": "stdout",
          "text": [
            "tf.Tensor(0.59014666, shape=(), dtype=float32)\n"
          ]
        },
        {
          "output_type": "stream",
          "name": "stderr",
          "text": [
            "100%|██████████| 19/19 [00:09<00:00,  1.92it/s]\n",
            "100%|██████████| 20/20 [00:11<00:00,  1.69it/s]\n"
          ]
        },
        {
          "output_type": "stream",
          "name": "stdout",
          "text": [
            "tf.Tensor(0.60669374, shape=(), dtype=float32)\n"
          ]
        },
        {
          "output_type": "stream",
          "name": "stderr",
          "text": [
            "100%|██████████| 19/19 [00:09<00:00,  1.94it/s]\n",
            "100%|██████████| 20/20 [00:11<00:00,  1.68it/s]\n"
          ]
        },
        {
          "output_type": "stream",
          "name": "stdout",
          "text": [
            "tf.Tensor(0.61727405, shape=(), dtype=float32)\n"
          ]
        },
        {
          "output_type": "stream",
          "name": "stderr",
          "text": [
            "100%|██████████| 19/19 [00:09<00:00,  1.91it/s]\n",
            "100%|██████████| 20/20 [00:11<00:00,  1.68it/s]\n"
          ]
        },
        {
          "output_type": "stream",
          "name": "stdout",
          "text": [
            "tf.Tensor(0.6112115, shape=(), dtype=float32)\n"
          ]
        },
        {
          "output_type": "stream",
          "name": "stderr",
          "text": [
            "100%|██████████| 38/38 [00:19<00:00,  1.94it/s]\n",
            "100%|██████████| 20/20 [00:11<00:00,  1.68it/s]\n"
          ]
        },
        {
          "output_type": "stream",
          "name": "stdout",
          "text": [
            "tf.Tensor(0.6247695, shape=(), dtype=float32)\n"
          ]
        },
        {
          "output_type": "stream",
          "name": "stderr",
          "text": [
            "100%|██████████| 58/58 [00:30<00:00,  1.91it/s]\n",
            "100%|██████████| 20/20 [00:11<00:00,  1.69it/s]\n"
          ]
        },
        {
          "output_type": "stream",
          "name": "stdout",
          "text": [
            "tf.Tensor(0.5987562, shape=(), dtype=float32)\n",
            "Epoch 16\n"
          ]
        },
        {
          "output_type": "stream",
          "name": "stderr",
          "text": [
            "100%|██████████| 9/9 [00:04<00:00,  1.95it/s]\n",
            "100%|██████████| 20/20 [00:11<00:00,  1.69it/s]\n"
          ]
        },
        {
          "output_type": "stream",
          "name": "stdout",
          "text": [
            "tf.Tensor(0.6125286, shape=(), dtype=float32)\n"
          ]
        },
        {
          "output_type": "stream",
          "name": "stderr",
          "text": [
            "100%|██████████| 9/9 [00:04<00:00,  1.91it/s]\n",
            "100%|██████████| 20/20 [00:12<00:00,  1.66it/s]\n"
          ]
        },
        {
          "output_type": "stream",
          "name": "stdout",
          "text": [
            "tf.Tensor(0.5815327, shape=(), dtype=float32)\n"
          ]
        },
        {
          "output_type": "stream",
          "name": "stderr",
          "text": [
            "100%|██████████| 9/9 [00:04<00:00,  1.94it/s]\n",
            "100%|██████████| 20/20 [00:11<00:00,  1.68it/s]\n"
          ]
        },
        {
          "output_type": "stream",
          "name": "stdout",
          "text": [
            "tf.Tensor(0.6041613, shape=(), dtype=float32)\n"
          ]
        },
        {
          "output_type": "stream",
          "name": "stderr",
          "text": [
            "100%|██████████| 9/9 [00:04<00:00,  1.91it/s]\n",
            "100%|██████████| 20/20 [00:11<00:00,  1.67it/s]\n"
          ]
        },
        {
          "output_type": "stream",
          "name": "stdout",
          "text": [
            "tf.Tensor(0.6001561, shape=(), dtype=float32)\n"
          ]
        },
        {
          "output_type": "stream",
          "name": "stderr",
          "text": [
            "100%|██████████| 19/19 [00:09<00:00,  1.94it/s]\n",
            "100%|██████████| 20/20 [00:11<00:00,  1.69it/s]\n"
          ]
        },
        {
          "output_type": "stream",
          "name": "stdout",
          "text": [
            "tf.Tensor(0.6242188, shape=(), dtype=float32)\n"
          ]
        },
        {
          "output_type": "stream",
          "name": "stderr",
          "text": [
            "100%|██████████| 19/19 [00:09<00:00,  1.91it/s]\n",
            "100%|██████████| 20/20 [00:11<00:00,  1.69it/s]\n"
          ]
        },
        {
          "output_type": "stream",
          "name": "stdout",
          "text": [
            "tf.Tensor(0.61883265, shape=(), dtype=float32)\n"
          ]
        },
        {
          "output_type": "stream",
          "name": "stderr",
          "text": [
            "100%|██████████| 19/19 [00:09<00:00,  1.94it/s]\n",
            "100%|██████████| 20/20 [00:11<00:00,  1.68it/s]\n"
          ]
        },
        {
          "output_type": "stream",
          "name": "stdout",
          "text": [
            "tf.Tensor(0.6031064, shape=(), dtype=float32)\n"
          ]
        },
        {
          "output_type": "stream",
          "name": "stderr",
          "text": [
            "100%|██████████| 38/38 [00:19<00:00,  1.91it/s]\n",
            "100%|██████████| 20/20 [00:11<00:00,  1.67it/s]\n"
          ]
        },
        {
          "output_type": "stream",
          "name": "stdout",
          "text": [
            "tf.Tensor(0.62307376, shape=(), dtype=float32)\n"
          ]
        },
        {
          "output_type": "stream",
          "name": "stderr",
          "text": [
            "100%|██████████| 58/58 [00:29<00:00,  1.94it/s]\n",
            "100%|██████████| 20/20 [00:11<00:00,  1.69it/s]\n"
          ]
        },
        {
          "output_type": "stream",
          "name": "stdout",
          "text": [
            "tf.Tensor(0.59733236, shape=(), dtype=float32)\n",
            "Epoch 17\n"
          ]
        },
        {
          "output_type": "stream",
          "name": "stderr",
          "text": [
            "100%|██████████| 9/9 [00:04<00:00,  1.91it/s]\n",
            "100%|██████████| 20/20 [00:11<00:00,  1.68it/s]\n"
          ]
        },
        {
          "output_type": "stream",
          "name": "stdout",
          "text": [
            "tf.Tensor(0.6009929, shape=(), dtype=float32)\n"
          ]
        },
        {
          "output_type": "stream",
          "name": "stderr",
          "text": [
            "100%|██████████| 9/9 [00:04<00:00,  1.93it/s]\n",
            "100%|██████████| 20/20 [00:11<00:00,  1.68it/s]\n"
          ]
        },
        {
          "output_type": "stream",
          "name": "stdout",
          "text": [
            "tf.Tensor(0.5669042, shape=(), dtype=float32)\n"
          ]
        },
        {
          "output_type": "stream",
          "name": "stderr",
          "text": [
            "100%|██████████| 9/9 [00:04<00:00,  1.90it/s]\n",
            "100%|██████████| 20/20 [00:11<00:00,  1.67it/s]\n"
          ]
        },
        {
          "output_type": "stream",
          "name": "stdout",
          "text": [
            "tf.Tensor(0.5964045, shape=(), dtype=float32)\n"
          ]
        },
        {
          "output_type": "stream",
          "name": "stderr",
          "text": [
            "100%|██████████| 9/9 [00:04<00:00,  1.93it/s]\n",
            "100%|██████████| 20/20 [00:11<00:00,  1.68it/s]\n"
          ]
        },
        {
          "output_type": "stream",
          "name": "stdout",
          "text": [
            "tf.Tensor(0.60034573, shape=(), dtype=float32)\n"
          ]
        },
        {
          "output_type": "stream",
          "name": "stderr",
          "text": [
            "100%|██████████| 19/19 [00:09<00:00,  1.91it/s]\n",
            "100%|██████████| 20/20 [00:12<00:00,  1.65it/s]\n"
          ]
        },
        {
          "output_type": "stream",
          "name": "stdout",
          "text": [
            "tf.Tensor(0.6140639, shape=(), dtype=float32)\n"
          ]
        },
        {
          "output_type": "stream",
          "name": "stderr",
          "text": [
            "100%|██████████| 19/19 [00:09<00:00,  1.93it/s]\n",
            "100%|██████████| 20/20 [00:11<00:00,  1.68it/s]\n"
          ]
        },
        {
          "output_type": "stream",
          "name": "stdout",
          "text": [
            "tf.Tensor(0.61177, shape=(), dtype=float32)\n"
          ]
        },
        {
          "output_type": "stream",
          "name": "stderr",
          "text": [
            "100%|██████████| 19/19 [00:09<00:00,  1.91it/s]\n",
            "100%|██████████| 20/20 [00:11<00:00,  1.68it/s]\n"
          ]
        },
        {
          "output_type": "stream",
          "name": "stdout",
          "text": [
            "tf.Tensor(0.61539596, shape=(), dtype=float32)\n"
          ]
        },
        {
          "output_type": "stream",
          "name": "stderr",
          "text": [
            "100%|██████████| 38/38 [00:19<00:00,  1.94it/s]\n",
            "100%|██████████| 20/20 [00:11<00:00,  1.68it/s]\n"
          ]
        },
        {
          "output_type": "stream",
          "name": "stdout",
          "text": [
            "tf.Tensor(0.62442863, shape=(), dtype=float32)\n"
          ]
        },
        {
          "output_type": "stream",
          "name": "stderr",
          "text": [
            "100%|██████████| 58/58 [00:30<00:00,  1.91it/s]\n",
            "100%|██████████| 20/20 [00:11<00:00,  1.67it/s]\n"
          ]
        },
        {
          "output_type": "stream",
          "name": "stdout",
          "text": [
            "tf.Tensor(0.6058, shape=(), dtype=float32)\n",
            "Epoch 18\n"
          ]
        },
        {
          "output_type": "stream",
          "name": "stderr",
          "text": [
            "100%|██████████| 9/9 [00:04<00:00,  1.93it/s]\n",
            "100%|██████████| 20/20 [00:11<00:00,  1.68it/s]\n"
          ]
        },
        {
          "output_type": "stream",
          "name": "stdout",
          "text": [
            "tf.Tensor(0.61561525, shape=(), dtype=float32)\n"
          ]
        },
        {
          "output_type": "stream",
          "name": "stderr",
          "text": [
            "100%|██████████| 9/9 [00:04<00:00,  1.91it/s]\n",
            "100%|██████████| 20/20 [00:11<00:00,  1.68it/s]\n"
          ]
        },
        {
          "output_type": "stream",
          "name": "stdout",
          "text": [
            "tf.Tensor(0.5847151, shape=(), dtype=float32)\n"
          ]
        },
        {
          "output_type": "stream",
          "name": "stderr",
          "text": [
            "100%|██████████| 9/9 [00:04<00:00,  1.93it/s]\n",
            "100%|██████████| 20/20 [00:11<00:00,  1.68it/s]\n"
          ]
        },
        {
          "output_type": "stream",
          "name": "stdout",
          "text": [
            "tf.Tensor(0.60856843, shape=(), dtype=float32)\n"
          ]
        },
        {
          "output_type": "stream",
          "name": "stderr",
          "text": [
            "100%|██████████| 9/9 [00:04<00:00,  1.91it/s]\n",
            "100%|██████████| 20/20 [00:11<00:00,  1.69it/s]\n"
          ]
        },
        {
          "output_type": "stream",
          "name": "stdout",
          "text": [
            "tf.Tensor(0.61679494, shape=(), dtype=float32)\n"
          ]
        },
        {
          "output_type": "stream",
          "name": "stderr",
          "text": [
            "100%|██████████| 19/19 [00:09<00:00,  1.93it/s]\n",
            "100%|██████████| 20/20 [00:11<00:00,  1.69it/s]\n"
          ]
        },
        {
          "output_type": "stream",
          "name": "stdout",
          "text": [
            "tf.Tensor(0.6161153, shape=(), dtype=float32)\n"
          ]
        },
        {
          "output_type": "stream",
          "name": "stderr",
          "text": [
            "100%|██████████| 19/19 [00:09<00:00,  1.91it/s]\n",
            "100%|██████████| 20/20 [00:12<00:00,  1.65it/s]\n"
          ]
        },
        {
          "output_type": "stream",
          "name": "stdout",
          "text": [
            "tf.Tensor(0.6230821, shape=(), dtype=float32)\n"
          ]
        },
        {
          "output_type": "stream",
          "name": "stderr",
          "text": [
            "100%|██████████| 19/19 [00:09<00:00,  1.93it/s]\n",
            "100%|██████████| 20/20 [00:11<00:00,  1.68it/s]\n"
          ]
        },
        {
          "output_type": "stream",
          "name": "stdout",
          "text": [
            "tf.Tensor(0.6168008, shape=(), dtype=float32)\n"
          ]
        },
        {
          "output_type": "stream",
          "name": "stderr",
          "text": [
            "100%|██████████| 38/38 [00:19<00:00,  1.91it/s]\n",
            "100%|██████████| 20/20 [00:11<00:00,  1.69it/s]\n"
          ]
        },
        {
          "output_type": "stream",
          "name": "stdout",
          "text": [
            "tf.Tensor(0.6197852, shape=(), dtype=float32)\n"
          ]
        },
        {
          "output_type": "stream",
          "name": "stderr",
          "text": [
            "100%|██████████| 58/58 [00:30<00:00,  1.93it/s]\n",
            "100%|██████████| 20/20 [00:11<00:00,  1.67it/s]\n"
          ]
        },
        {
          "output_type": "stream",
          "name": "stdout",
          "text": [
            "tf.Tensor(0.6096162, shape=(), dtype=float32)\n",
            "Epoch 19\n"
          ]
        },
        {
          "output_type": "stream",
          "name": "stderr",
          "text": [
            "100%|██████████| 9/9 [00:04<00:00,  1.91it/s]\n",
            "100%|██████████| 20/20 [00:11<00:00,  1.68it/s]\n"
          ]
        },
        {
          "output_type": "stream",
          "name": "stdout",
          "text": [
            "tf.Tensor(0.60957855, shape=(), dtype=float32)\n"
          ]
        },
        {
          "output_type": "stream",
          "name": "stderr",
          "text": [
            "100%|██████████| 9/9 [00:04<00:00,  1.93it/s]\n",
            "100%|██████████| 20/20 [00:11<00:00,  1.68it/s]\n"
          ]
        },
        {
          "output_type": "stream",
          "name": "stdout",
          "text": [
            "tf.Tensor(0.562976, shape=(), dtype=float32)\n"
          ]
        },
        {
          "output_type": "stream",
          "name": "stderr",
          "text": [
            "100%|██████████| 9/9 [00:04<00:00,  1.90it/s]\n",
            "100%|██████████| 20/20 [00:11<00:00,  1.68it/s]\n"
          ]
        },
        {
          "output_type": "stream",
          "name": "stdout",
          "text": [
            "tf.Tensor(0.61209077, shape=(), dtype=float32)\n"
          ]
        },
        {
          "output_type": "stream",
          "name": "stderr",
          "text": [
            "100%|██████████| 9/9 [00:04<00:00,  1.93it/s]\n",
            "100%|██████████| 20/20 [00:11<00:00,  1.68it/s]\n"
          ]
        },
        {
          "output_type": "stream",
          "name": "stdout",
          "text": [
            "tf.Tensor(0.6210253, shape=(), dtype=float32)\n"
          ]
        },
        {
          "output_type": "stream",
          "name": "stderr",
          "text": [
            "100%|██████████| 19/19 [00:09<00:00,  1.90it/s]\n",
            "100%|██████████| 20/20 [00:11<00:00,  1.67it/s]\n"
          ]
        },
        {
          "output_type": "stream",
          "name": "stdout",
          "text": [
            "tf.Tensor(0.6254522, shape=(), dtype=float32)\n"
          ]
        },
        {
          "output_type": "stream",
          "name": "stderr",
          "text": [
            "100%|██████████| 19/19 [00:09<00:00,  1.93it/s]\n",
            "100%|██████████| 20/20 [00:11<00:00,  1.68it/s]\n"
          ]
        },
        {
          "output_type": "stream",
          "name": "stdout",
          "text": [
            "tf.Tensor(0.62245905, shape=(), dtype=float32)\n"
          ]
        },
        {
          "output_type": "stream",
          "name": "stderr",
          "text": [
            "100%|██████████| 19/19 [00:09<00:00,  1.91it/s]\n",
            "100%|██████████| 20/20 [00:11<00:00,  1.67it/s]\n"
          ]
        },
        {
          "output_type": "stream",
          "name": "stdout",
          "text": [
            "tf.Tensor(0.6018848, shape=(), dtype=float32)\n"
          ]
        },
        {
          "output_type": "stream",
          "name": "stderr",
          "text": [
            "100%|██████████| 38/38 [00:19<00:00,  1.93it/s]\n",
            "100%|██████████| 20/20 [00:11<00:00,  1.68it/s]\n"
          ]
        },
        {
          "output_type": "stream",
          "name": "stdout",
          "text": [
            "tf.Tensor(0.6159979, shape=(), dtype=float32)\n"
          ]
        },
        {
          "output_type": "stream",
          "name": "stderr",
          "text": [
            "100%|██████████| 58/58 [00:30<00:00,  1.91it/s]\n",
            "100%|██████████| 20/20 [00:11<00:00,  1.69it/s]\n"
          ]
        },
        {
          "output_type": "stream",
          "name": "stdout",
          "text": [
            "tf.Tensor(0.61009574, shape=(), dtype=float32)\n",
            "Epoch 20\n"
          ]
        },
        {
          "output_type": "stream",
          "name": "stderr",
          "text": [
            "100%|██████████| 9/9 [00:04<00:00,  1.94it/s]\n",
            "100%|██████████| 20/20 [00:11<00:00,  1.69it/s]\n"
          ]
        },
        {
          "output_type": "stream",
          "name": "stdout",
          "text": [
            "tf.Tensor(0.6139404, shape=(), dtype=float32)\n"
          ]
        },
        {
          "output_type": "stream",
          "name": "stderr",
          "text": [
            "100%|██████████| 9/9 [00:04<00:00,  1.91it/s]\n",
            "100%|██████████| 20/20 [00:11<00:00,  1.68it/s]\n"
          ]
        },
        {
          "output_type": "stream",
          "name": "stdout",
          "text": [
            "tf.Tensor(0.57675314, shape=(), dtype=float32)\n"
          ]
        },
        {
          "output_type": "stream",
          "name": "stderr",
          "text": [
            "100%|██████████| 9/9 [00:04<00:00,  1.94it/s]\n",
            "100%|██████████| 20/20 [00:11<00:00,  1.69it/s]\n"
          ]
        },
        {
          "output_type": "stream",
          "name": "stdout",
          "text": [
            "tf.Tensor(0.6035871, shape=(), dtype=float32)\n"
          ]
        },
        {
          "output_type": "stream",
          "name": "stderr",
          "text": [
            "100%|██████████| 9/9 [00:04<00:00,  1.92it/s]\n",
            "100%|██████████| 20/20 [00:11<00:00,  1.69it/s]\n"
          ]
        },
        {
          "output_type": "stream",
          "name": "stdout",
          "text": [
            "tf.Tensor(0.5870236, shape=(), dtype=float32)\n"
          ]
        },
        {
          "output_type": "stream",
          "name": "stderr",
          "text": [
            "100%|██████████| 19/19 [00:09<00:00,  1.93it/s]\n",
            "100%|██████████| 20/20 [00:12<00:00,  1.66it/s]\n"
          ]
        },
        {
          "output_type": "stream",
          "name": "stdout",
          "text": [
            "tf.Tensor(0.57985824, shape=(), dtype=float32)\n"
          ]
        },
        {
          "output_type": "stream",
          "name": "stderr",
          "text": [
            "100%|██████████| 19/19 [00:09<00:00,  1.90it/s]\n",
            "100%|██████████| 20/20 [00:11<00:00,  1.67it/s]\n"
          ]
        },
        {
          "output_type": "stream",
          "name": "stdout",
          "text": [
            "tf.Tensor(0.59774756, shape=(), dtype=float32)\n"
          ]
        },
        {
          "output_type": "stream",
          "name": "stderr",
          "text": [
            "100%|██████████| 19/19 [00:09<00:00,  1.94it/s]\n",
            "100%|██████████| 20/20 [00:11<00:00,  1.68it/s]\n"
          ]
        },
        {
          "output_type": "stream",
          "name": "stdout",
          "text": [
            "tf.Tensor(0.6160629, shape=(), dtype=float32)\n"
          ]
        },
        {
          "output_type": "stream",
          "name": "stderr",
          "text": [
            "100%|██████████| 38/38 [00:19<00:00,  1.91it/s]\n",
            "100%|██████████| 20/20 [00:11<00:00,  1.68it/s]\n"
          ]
        },
        {
          "output_type": "stream",
          "name": "stdout",
          "text": [
            "tf.Tensor(0.62673813, shape=(), dtype=float32)\n"
          ]
        },
        {
          "output_type": "stream",
          "name": "stderr",
          "text": [
            "100%|██████████| 58/58 [00:29<00:00,  1.94it/s]\n",
            "100%|██████████| 20/20 [00:11<00:00,  1.68it/s]\n"
          ]
        },
        {
          "output_type": "stream",
          "name": "stdout",
          "text": [
            "tf.Tensor(0.61314946, shape=(), dtype=float32)\n",
            "Epoch 21\n"
          ]
        },
        {
          "output_type": "stream",
          "name": "stderr",
          "text": [
            "100%|██████████| 9/9 [00:04<00:00,  1.92it/s]\n",
            "100%|██████████| 20/20 [00:11<00:00,  1.69it/s]\n"
          ]
        },
        {
          "output_type": "stream",
          "name": "stdout",
          "text": [
            "tf.Tensor(0.6252371, shape=(), dtype=float32)\n"
          ]
        },
        {
          "output_type": "stream",
          "name": "stderr",
          "text": [
            "100%|██████████| 9/9 [00:04<00:00,  1.94it/s]\n",
            "100%|██████████| 20/20 [00:11<00:00,  1.68it/s]\n"
          ]
        },
        {
          "output_type": "stream",
          "name": "stdout",
          "text": [
            "tf.Tensor(0.5808209, shape=(), dtype=float32)\n"
          ]
        },
        {
          "output_type": "stream",
          "name": "stderr",
          "text": [
            "100%|██████████| 9/9 [00:04<00:00,  1.91it/s]\n",
            "100%|██████████| 20/20 [00:12<00:00,  1.66it/s]\n"
          ]
        },
        {
          "output_type": "stream",
          "name": "stdout",
          "text": [
            "tf.Tensor(0.60248274, shape=(), dtype=float32)\n"
          ]
        },
        {
          "output_type": "stream",
          "name": "stderr",
          "text": [
            "100%|██████████| 9/9 [00:04<00:00,  1.94it/s]\n",
            "100%|██████████| 20/20 [00:11<00:00,  1.68it/s]\n"
          ]
        },
        {
          "output_type": "stream",
          "name": "stdout",
          "text": [
            "tf.Tensor(0.59693384, shape=(), dtype=float32)\n"
          ]
        },
        {
          "output_type": "stream",
          "name": "stderr",
          "text": [
            "100%|██████████| 19/19 [00:09<00:00,  1.91it/s]\n",
            "100%|██████████| 20/20 [00:11<00:00,  1.68it/s]\n"
          ]
        },
        {
          "output_type": "stream",
          "name": "stdout",
          "text": [
            "tf.Tensor(0.62072307, shape=(), dtype=float32)\n"
          ]
        },
        {
          "output_type": "stream",
          "name": "stderr",
          "text": [
            "100%|██████████| 19/19 [00:09<00:00,  1.94it/s]\n",
            "100%|██████████| 20/20 [00:11<00:00,  1.69it/s]\n"
          ]
        },
        {
          "output_type": "stream",
          "name": "stdout",
          "text": [
            "tf.Tensor(0.6241383, shape=(), dtype=float32)\n"
          ]
        },
        {
          "output_type": "stream",
          "name": "stderr",
          "text": [
            "100%|██████████| 19/19 [00:09<00:00,  1.91it/s]\n",
            "100%|██████████| 20/20 [00:11<00:00,  1.68it/s]\n"
          ]
        },
        {
          "output_type": "stream",
          "name": "stdout",
          "text": [
            "tf.Tensor(0.61495876, shape=(), dtype=float32)\n"
          ]
        },
        {
          "output_type": "stream",
          "name": "stderr",
          "text": [
            "100%|██████████| 38/38 [00:19<00:00,  1.94it/s]\n",
            "100%|██████████| 20/20 [00:11<00:00,  1.68it/s]\n"
          ]
        },
        {
          "output_type": "stream",
          "name": "stdout",
          "text": [
            "tf.Tensor(0.6287058, shape=(), dtype=float32)\n"
          ]
        },
        {
          "output_type": "stream",
          "name": "stderr",
          "text": [
            "100%|██████████| 58/58 [00:30<00:00,  1.91it/s]\n",
            "100%|██████████| 20/20 [00:11<00:00,  1.67it/s]\n"
          ]
        },
        {
          "output_type": "stream",
          "name": "stdout",
          "text": [
            "tf.Tensor(0.6107886, shape=(), dtype=float32)\n",
            "Epoch 22\n"
          ]
        },
        {
          "output_type": "stream",
          "name": "stderr",
          "text": [
            "100%|██████████| 9/9 [00:04<00:00,  1.93it/s]\n",
            "100%|██████████| 20/20 [00:11<00:00,  1.69it/s]\n"
          ]
        },
        {
          "output_type": "stream",
          "name": "stdout",
          "text": [
            "tf.Tensor(0.6307297, shape=(), dtype=float32)\n"
          ]
        },
        {
          "output_type": "stream",
          "name": "stderr",
          "text": [
            "100%|██████████| 9/9 [00:04<00:00,  1.91it/s]\n",
            "100%|██████████| 20/20 [00:11<00:00,  1.68it/s]\n"
          ]
        },
        {
          "output_type": "stream",
          "name": "stdout",
          "text": [
            "tf.Tensor(0.60183465, shape=(), dtype=float32)\n"
          ]
        },
        {
          "output_type": "stream",
          "name": "stderr",
          "text": [
            "100%|██████████| 9/9 [00:04<00:00,  1.93it/s]\n",
            "100%|██████████| 20/20 [00:11<00:00,  1.68it/s]\n"
          ]
        },
        {
          "output_type": "stream",
          "name": "stdout",
          "text": [
            "tf.Tensor(0.614017, shape=(), dtype=float32)\n"
          ]
        },
        {
          "output_type": "stream",
          "name": "stderr",
          "text": [
            "100%|██████████| 9/9 [00:04<00:00,  1.90it/s]\n",
            "100%|██████████| 20/20 [00:11<00:00,  1.68it/s]\n"
          ]
        },
        {
          "output_type": "stream",
          "name": "stdout",
          "text": [
            "tf.Tensor(0.61583304, shape=(), dtype=float32)\n"
          ]
        },
        {
          "output_type": "stream",
          "name": "stderr",
          "text": [
            "100%|██████████| 19/19 [00:09<00:00,  1.93it/s]\n",
            "100%|██████████| 20/20 [00:11<00:00,  1.67it/s]\n"
          ]
        },
        {
          "output_type": "stream",
          "name": "stdout",
          "text": [
            "tf.Tensor(0.6179223, shape=(), dtype=float32)\n"
          ]
        },
        {
          "output_type": "stream",
          "name": "stderr",
          "text": [
            "100%|██████████| 19/19 [00:09<00:00,  1.91it/s]\n",
            "100%|██████████| 20/20 [00:11<00:00,  1.68it/s]\n"
          ]
        },
        {
          "output_type": "stream",
          "name": "stdout",
          "text": [
            "tf.Tensor(0.6129185, shape=(), dtype=float32)\n"
          ]
        },
        {
          "output_type": "stream",
          "name": "stderr",
          "text": [
            "100%|██████████| 19/19 [00:09<00:00,  1.94it/s]\n",
            "100%|██████████| 20/20 [00:11<00:00,  1.69it/s]\n"
          ]
        },
        {
          "output_type": "stream",
          "name": "stdout",
          "text": [
            "tf.Tensor(0.62105286, shape=(), dtype=float32)\n"
          ]
        },
        {
          "output_type": "stream",
          "name": "stderr",
          "text": [
            "100%|██████████| 38/38 [00:19<00:00,  1.91it/s]\n",
            "100%|██████████| 20/20 [00:11<00:00,  1.68it/s]\n"
          ]
        },
        {
          "output_type": "stream",
          "name": "stdout",
          "text": [
            "tf.Tensor(0.63204193, shape=(), dtype=float32)\n"
          ]
        },
        {
          "output_type": "stream",
          "name": "stderr",
          "text": [
            "100%|██████████| 58/58 [00:29<00:00,  1.94it/s]\n",
            "100%|██████████| 20/20 [00:11<00:00,  1.68it/s]\n"
          ]
        },
        {
          "output_type": "stream",
          "name": "stdout",
          "text": [
            "tf.Tensor(0.61293936, shape=(), dtype=float32)\n",
            "Epoch 23\n"
          ]
        },
        {
          "output_type": "stream",
          "name": "stderr",
          "text": [
            "100%|██████████| 9/9 [00:04<00:00,  1.92it/s]\n",
            "100%|██████████| 20/20 [00:11<00:00,  1.69it/s]\n"
          ]
        },
        {
          "output_type": "stream",
          "name": "stdout",
          "text": [
            "tf.Tensor(0.6136205, shape=(), dtype=float32)\n"
          ]
        },
        {
          "output_type": "stream",
          "name": "stderr",
          "text": [
            "100%|██████████| 9/9 [00:04<00:00,  1.94it/s]\n",
            "100%|██████████| 20/20 [00:11<00:00,  1.68it/s]\n"
          ]
        },
        {
          "output_type": "stream",
          "name": "stdout",
          "text": [
            "tf.Tensor(0.59451425, shape=(), dtype=float32)\n"
          ]
        },
        {
          "output_type": "stream",
          "name": "stderr",
          "text": [
            "100%|██████████| 9/9 [00:04<00:00,  1.91it/s]\n",
            "100%|██████████| 20/20 [00:11<00:00,  1.69it/s]\n"
          ]
        },
        {
          "output_type": "stream",
          "name": "stdout",
          "text": [
            "tf.Tensor(0.6111182, shape=(), dtype=float32)\n"
          ]
        },
        {
          "output_type": "stream",
          "name": "stderr",
          "text": [
            "100%|██████████| 9/9 [00:04<00:00,  1.94it/s]\n",
            "100%|██████████| 20/20 [00:11<00:00,  1.69it/s]\n"
          ]
        },
        {
          "output_type": "stream",
          "name": "stdout",
          "text": [
            "tf.Tensor(0.58584887, shape=(), dtype=float32)\n"
          ]
        },
        {
          "output_type": "stream",
          "name": "stderr",
          "text": [
            "100%|██████████| 19/19 [00:09<00:00,  1.90it/s]\n",
            "100%|██████████| 20/20 [00:11<00:00,  1.68it/s]\n"
          ]
        },
        {
          "output_type": "stream",
          "name": "stdout",
          "text": [
            "tf.Tensor(0.61863554, shape=(), dtype=float32)\n"
          ]
        },
        {
          "output_type": "stream",
          "name": "stderr",
          "text": [
            "100%|██████████| 19/19 [00:09<00:00,  1.93it/s]\n",
            "100%|██████████| 20/20 [00:11<00:00,  1.68it/s]\n"
          ]
        },
        {
          "output_type": "stream",
          "name": "stdout",
          "text": [
            "tf.Tensor(0.6295393, shape=(), dtype=float32)\n"
          ]
        },
        {
          "output_type": "stream",
          "name": "stderr",
          "text": [
            "100%|██████████| 19/19 [00:09<00:00,  1.91it/s]\n",
            "100%|██████████| 20/20 [00:11<00:00,  1.68it/s]\n"
          ]
        },
        {
          "output_type": "stream",
          "name": "stdout",
          "text": [
            "tf.Tensor(0.6226378, shape=(), dtype=float32)\n"
          ]
        },
        {
          "output_type": "stream",
          "name": "stderr",
          "text": [
            "100%|██████████| 38/38 [00:19<00:00,  1.93it/s]\n",
            "100%|██████████| 20/20 [00:11<00:00,  1.69it/s]\n"
          ]
        },
        {
          "output_type": "stream",
          "name": "stdout",
          "text": [
            "tf.Tensor(0.627369, shape=(), dtype=float32)\n"
          ]
        },
        {
          "output_type": "stream",
          "name": "stderr",
          "text": [
            "100%|██████████| 58/58 [00:30<00:00,  1.91it/s]\n",
            "100%|██████████| 20/20 [00:11<00:00,  1.68it/s]\n"
          ]
        },
        {
          "output_type": "stream",
          "name": "stdout",
          "text": [
            "tf.Tensor(0.59623224, shape=(), dtype=float32)\n",
            "Epoch 24\n"
          ]
        },
        {
          "output_type": "stream",
          "name": "stderr",
          "text": [
            "100%|██████████| 9/9 [00:04<00:00,  1.93it/s]\n",
            "100%|██████████| 20/20 [00:11<00:00,  1.67it/s]\n"
          ]
        },
        {
          "output_type": "stream",
          "name": "stdout",
          "text": [
            "tf.Tensor(0.6192612, shape=(), dtype=float32)\n"
          ]
        },
        {
          "output_type": "stream",
          "name": "stderr",
          "text": [
            "100%|██████████| 9/9 [00:04<00:00,  1.91it/s]\n",
            "100%|██████████| 20/20 [00:12<00:00,  1.65it/s]\n"
          ]
        },
        {
          "output_type": "stream",
          "name": "stdout",
          "text": [
            "tf.Tensor(0.5933307, shape=(), dtype=float32)\n"
          ]
        },
        {
          "output_type": "stream",
          "name": "stderr",
          "text": [
            "100%|██████████| 9/9 [00:04<00:00,  1.93it/s]\n",
            "100%|██████████| 20/20 [00:11<00:00,  1.69it/s]\n"
          ]
        },
        {
          "output_type": "stream",
          "name": "stdout",
          "text": [
            "tf.Tensor(0.61365396, shape=(), dtype=float32)\n"
          ]
        },
        {
          "output_type": "stream",
          "name": "stderr",
          "text": [
            "100%|██████████| 9/9 [00:04<00:00,  1.90it/s]\n",
            "100%|██████████| 20/20 [00:11<00:00,  1.68it/s]\n"
          ]
        },
        {
          "output_type": "stream",
          "name": "stdout",
          "text": [
            "tf.Tensor(0.6167089, shape=(), dtype=float32)\n"
          ]
        },
        {
          "output_type": "stream",
          "name": "stderr",
          "text": [
            "100%|██████████| 19/19 [00:09<00:00,  1.93it/s]\n",
            "100%|██████████| 20/20 [00:11<00:00,  1.68it/s]\n"
          ]
        },
        {
          "output_type": "stream",
          "name": "stdout",
          "text": [
            "tf.Tensor(0.61424124, shape=(), dtype=float32)\n"
          ]
        },
        {
          "output_type": "stream",
          "name": "stderr",
          "text": [
            "100%|██████████| 19/19 [00:09<00:00,  1.91it/s]\n",
            "100%|██████████| 20/20 [00:12<00:00,  1.66it/s]\n"
          ]
        },
        {
          "output_type": "stream",
          "name": "stdout",
          "text": [
            "tf.Tensor(0.61762977, shape=(), dtype=float32)\n"
          ]
        },
        {
          "output_type": "stream",
          "name": "stderr",
          "text": [
            "100%|██████████| 19/19 [00:09<00:00,  1.94it/s]\n",
            "100%|██████████| 20/20 [00:11<00:00,  1.68it/s]\n"
          ]
        },
        {
          "output_type": "stream",
          "name": "stdout",
          "text": [
            "tf.Tensor(0.625455, shape=(), dtype=float32)\n"
          ]
        },
        {
          "output_type": "stream",
          "name": "stderr",
          "text": [
            "100%|██████████| 38/38 [00:19<00:00,  1.91it/s]\n",
            "100%|██████████| 20/20 [00:11<00:00,  1.67it/s]\n"
          ]
        },
        {
          "output_type": "stream",
          "name": "stdout",
          "text": [
            "tf.Tensor(0.6289994, shape=(), dtype=float32)\n"
          ]
        },
        {
          "output_type": "stream",
          "name": "stderr",
          "text": [
            "100%|██████████| 58/58 [00:30<00:00,  1.92it/s]\n",
            "100%|██████████| 20/20 [00:11<00:00,  1.68it/s]\n"
          ]
        },
        {
          "output_type": "stream",
          "name": "stdout",
          "text": [
            "tf.Tensor(0.60688525, shape=(), dtype=float32)\n",
            "Epoch 25\n"
          ]
        },
        {
          "output_type": "stream",
          "name": "stderr",
          "text": [
            "100%|██████████| 9/9 [00:04<00:00,  1.91it/s]\n",
            "100%|██████████| 20/20 [00:11<00:00,  1.68it/s]\n"
          ]
        },
        {
          "output_type": "stream",
          "name": "stdout",
          "text": [
            "tf.Tensor(0.6239223, shape=(), dtype=float32)\n"
          ]
        },
        {
          "output_type": "stream",
          "name": "stderr",
          "text": [
            "100%|██████████| 9/9 [00:04<00:00,  1.94it/s]\n",
            "100%|██████████| 20/20 [00:11<00:00,  1.69it/s]\n"
          ]
        },
        {
          "output_type": "stream",
          "name": "stdout",
          "text": [
            "tf.Tensor(0.59602654, shape=(), dtype=float32)\n"
          ]
        },
        {
          "output_type": "stream",
          "name": "stderr",
          "text": [
            "100%|██████████| 9/9 [00:04<00:00,  1.91it/s]\n",
            "100%|██████████| 20/20 [00:11<00:00,  1.68it/s]\n"
          ]
        },
        {
          "output_type": "stream",
          "name": "stdout",
          "text": [
            "tf.Tensor(0.6089649, shape=(), dtype=float32)\n"
          ]
        },
        {
          "output_type": "stream",
          "name": "stderr",
          "text": [
            "100%|██████████| 9/9 [00:04<00:00,  1.94it/s]\n",
            "100%|██████████| 20/20 [00:11<00:00,  1.69it/s]\n"
          ]
        },
        {
          "output_type": "stream",
          "name": "stdout",
          "text": [
            "tf.Tensor(0.59267473, shape=(), dtype=float32)\n"
          ]
        },
        {
          "output_type": "stream",
          "name": "stderr",
          "text": [
            "100%|██████████| 19/19 [00:09<00:00,  1.91it/s]\n",
            "100%|██████████| 20/20 [00:11<00:00,  1.68it/s]\n"
          ]
        },
        {
          "output_type": "stream",
          "name": "stdout",
          "text": [
            "tf.Tensor(0.61441255, shape=(), dtype=float32)\n"
          ]
        },
        {
          "output_type": "stream",
          "name": "stderr",
          "text": [
            "100%|██████████| 19/19 [00:09<00:00,  1.93it/s]\n",
            "100%|██████████| 20/20 [00:11<00:00,  1.69it/s]\n"
          ]
        },
        {
          "output_type": "stream",
          "name": "stdout",
          "text": [
            "tf.Tensor(0.620507, shape=(), dtype=float32)\n"
          ]
        },
        {
          "output_type": "stream",
          "name": "stderr",
          "text": [
            "100%|██████████| 19/19 [00:09<00:00,  1.92it/s]\n",
            "100%|██████████| 20/20 [00:11<00:00,  1.69it/s]\n"
          ]
        },
        {
          "output_type": "stream",
          "name": "stdout",
          "text": [
            "tf.Tensor(0.6124024, shape=(), dtype=float32)\n"
          ]
        },
        {
          "output_type": "stream",
          "name": "stderr",
          "text": [
            "100%|██████████| 38/38 [00:19<00:00,  1.94it/s]\n",
            "100%|██████████| 20/20 [00:11<00:00,  1.68it/s]\n"
          ]
        },
        {
          "output_type": "stream",
          "name": "stdout",
          "text": [
            "tf.Tensor(0.62241435, shape=(), dtype=float32)\n"
          ]
        },
        {
          "output_type": "stream",
          "name": "stderr",
          "text": [
            "100%|██████████| 58/58 [00:30<00:00,  1.91it/s]\n",
            "100%|██████████| 20/20 [00:11<00:00,  1.68it/s]\n"
          ]
        },
        {
          "output_type": "stream",
          "name": "stdout",
          "text": [
            "tf.Tensor(0.6004576, shape=(), dtype=float32)\n",
            "Epoch 26\n"
          ]
        },
        {
          "output_type": "stream",
          "name": "stderr",
          "text": [
            "100%|██████████| 9/9 [00:04<00:00,  1.94it/s]\n",
            "100%|██████████| 20/20 [00:11<00:00,  1.69it/s]\n"
          ]
        },
        {
          "output_type": "stream",
          "name": "stdout",
          "text": [
            "tf.Tensor(0.61071414, shape=(), dtype=float32)\n"
          ]
        },
        {
          "output_type": "stream",
          "name": "stderr",
          "text": [
            "100%|██████████| 9/9 [00:04<00:00,  1.91it/s]\n",
            "100%|██████████| 20/20 [00:11<00:00,  1.68it/s]\n"
          ]
        },
        {
          "output_type": "stream",
          "name": "stdout",
          "text": [
            "tf.Tensor(0.5925989, shape=(), dtype=float32)\n"
          ]
        },
        {
          "output_type": "stream",
          "name": "stderr",
          "text": [
            "100%|██████████| 9/9 [00:04<00:00,  1.93it/s]\n",
            "100%|██████████| 20/20 [00:11<00:00,  1.68it/s]\n"
          ]
        },
        {
          "output_type": "stream",
          "name": "stdout",
          "text": [
            "tf.Tensor(0.60783106, shape=(), dtype=float32)\n"
          ]
        },
        {
          "output_type": "stream",
          "name": "stderr",
          "text": [
            "100%|██████████| 9/9 [00:04<00:00,  1.90it/s]\n",
            "100%|██████████| 20/20 [00:11<00:00,  1.68it/s]\n"
          ]
        },
        {
          "output_type": "stream",
          "name": "stdout",
          "text": [
            "tf.Tensor(0.6092933, shape=(), dtype=float32)\n"
          ]
        },
        {
          "output_type": "stream",
          "name": "stderr",
          "text": [
            "100%|██████████| 19/19 [00:09<00:00,  1.93it/s]\n",
            "100%|██████████| 20/20 [00:11<00:00,  1.68it/s]\n"
          ]
        },
        {
          "output_type": "stream",
          "name": "stdout",
          "text": [
            "tf.Tensor(0.624789, shape=(), dtype=float32)\n"
          ]
        },
        {
          "output_type": "stream",
          "name": "stderr",
          "text": [
            "100%|██████████| 19/19 [00:09<00:00,  1.92it/s]\n",
            "100%|██████████| 20/20 [00:11<00:00,  1.68it/s]\n"
          ]
        },
        {
          "output_type": "stream",
          "name": "stdout",
          "text": [
            "tf.Tensor(0.62575465, shape=(), dtype=float32)\n"
          ]
        },
        {
          "output_type": "stream",
          "name": "stderr",
          "text": [
            "100%|██████████| 19/19 [00:09<00:00,  1.94it/s]\n",
            "100%|██████████| 20/20 [00:11<00:00,  1.69it/s]\n"
          ]
        },
        {
          "output_type": "stream",
          "name": "stdout",
          "text": [
            "tf.Tensor(0.62538403, shape=(), dtype=float32)\n"
          ]
        },
        {
          "output_type": "stream",
          "name": "stderr",
          "text": [
            "100%|██████████| 38/38 [00:19<00:00,  1.91it/s]\n",
            "100%|██████████| 20/20 [00:11<00:00,  1.68it/s]\n"
          ]
        },
        {
          "output_type": "stream",
          "name": "stdout",
          "text": [
            "tf.Tensor(0.6250776, shape=(), dtype=float32)\n"
          ]
        },
        {
          "output_type": "stream",
          "name": "stderr",
          "text": [
            "100%|██████████| 58/58 [00:30<00:00,  1.93it/s]\n",
            "100%|██████████| 20/20 [00:11<00:00,  1.68it/s]\n"
          ]
        },
        {
          "output_type": "stream",
          "name": "stdout",
          "text": [
            "tf.Tensor(0.6048724, shape=(), dtype=float32)\n",
            "Epoch 27\n"
          ]
        },
        {
          "output_type": "stream",
          "name": "stderr",
          "text": [
            "100%|██████████| 9/9 [00:04<00:00,  1.91it/s]\n",
            "100%|██████████| 20/20 [00:11<00:00,  1.68it/s]\n"
          ]
        },
        {
          "output_type": "stream",
          "name": "stdout",
          "text": [
            "tf.Tensor(0.61555743, shape=(), dtype=float32)\n"
          ]
        },
        {
          "output_type": "stream",
          "name": "stderr",
          "text": [
            "100%|██████████| 9/9 [00:04<00:00,  1.94it/s]\n",
            "100%|██████████| 20/20 [00:11<00:00,  1.68it/s]\n"
          ]
        },
        {
          "output_type": "stream",
          "name": "stdout",
          "text": [
            "tf.Tensor(0.59941095, shape=(), dtype=float32)\n"
          ]
        },
        {
          "output_type": "stream",
          "name": "stderr",
          "text": [
            "100%|██████████| 9/9 [00:04<00:00,  1.91it/s]\n",
            "100%|██████████| 20/20 [00:11<00:00,  1.68it/s]\n"
          ]
        },
        {
          "output_type": "stream",
          "name": "stdout",
          "text": [
            "tf.Tensor(0.6054202, shape=(), dtype=float32)\n"
          ]
        },
        {
          "output_type": "stream",
          "name": "stderr",
          "text": [
            "100%|██████████| 9/9 [00:04<00:00,  1.93it/s]\n",
            "100%|██████████| 20/20 [00:11<00:00,  1.69it/s]\n"
          ]
        },
        {
          "output_type": "stream",
          "name": "stdout",
          "text": [
            "tf.Tensor(0.60465235, shape=(), dtype=float32)\n"
          ]
        },
        {
          "output_type": "stream",
          "name": "stderr",
          "text": [
            "100%|██████████| 19/19 [00:09<00:00,  1.90it/s]\n",
            "100%|██████████| 20/20 [00:11<00:00,  1.67it/s]\n"
          ]
        },
        {
          "output_type": "stream",
          "name": "stdout",
          "text": [
            "tf.Tensor(0.6277722, shape=(), dtype=float32)\n"
          ]
        },
        {
          "output_type": "stream",
          "name": "stderr",
          "text": [
            "100%|██████████| 19/19 [00:09<00:00,  1.93it/s]\n",
            "100%|██████████| 20/20 [00:11<00:00,  1.68it/s]\n"
          ]
        },
        {
          "output_type": "stream",
          "name": "stdout",
          "text": [
            "tf.Tensor(0.6176671, shape=(), dtype=float32)\n"
          ]
        },
        {
          "output_type": "stream",
          "name": "stderr",
          "text": [
            "100%|██████████| 19/19 [00:09<00:00,  1.91it/s]\n",
            "100%|██████████| 20/20 [00:11<00:00,  1.68it/s]\n"
          ]
        },
        {
          "output_type": "stream",
          "name": "stdout",
          "text": [
            "tf.Tensor(0.622945, shape=(), dtype=float32)\n"
          ]
        },
        {
          "output_type": "stream",
          "name": "stderr",
          "text": [
            "100%|██████████| 38/38 [00:19<00:00,  1.93it/s]\n",
            "100%|██████████| 20/20 [00:11<00:00,  1.68it/s]\n"
          ]
        },
        {
          "output_type": "stream",
          "name": "stdout",
          "text": [
            "tf.Tensor(0.6258973, shape=(), dtype=float32)\n"
          ]
        },
        {
          "output_type": "stream",
          "name": "stderr",
          "text": [
            "100%|██████████| 58/58 [00:30<00:00,  1.91it/s]\n",
            "100%|██████████| 20/20 [00:11<00:00,  1.69it/s]\n"
          ]
        },
        {
          "output_type": "stream",
          "name": "stdout",
          "text": [
            "tf.Tensor(0.60541064, shape=(), dtype=float32)\n",
            "Epoch 28\n"
          ]
        },
        {
          "output_type": "stream",
          "name": "stderr",
          "text": [
            "100%|██████████| 9/9 [00:04<00:00,  1.93it/s]\n",
            "100%|██████████| 20/20 [00:11<00:00,  1.69it/s]\n"
          ]
        },
        {
          "output_type": "stream",
          "name": "stdout",
          "text": [
            "tf.Tensor(0.62041014, shape=(), dtype=float32)\n"
          ]
        },
        {
          "output_type": "stream",
          "name": "stderr",
          "text": [
            "100%|██████████| 9/9 [00:04<00:00,  1.91it/s]\n",
            "100%|██████████| 20/20 [00:11<00:00,  1.68it/s]\n"
          ]
        },
        {
          "output_type": "stream",
          "name": "stdout",
          "text": [
            "tf.Tensor(0.6060179, shape=(), dtype=float32)\n"
          ]
        },
        {
          "output_type": "stream",
          "name": "stderr",
          "text": [
            "100%|██████████| 9/9 [00:04<00:00,  1.93it/s]\n",
            "100%|██████████| 20/20 [00:11<00:00,  1.68it/s]\n"
          ]
        },
        {
          "output_type": "stream",
          "name": "stdout",
          "text": [
            "tf.Tensor(0.6175102, shape=(), dtype=float32)\n"
          ]
        },
        {
          "output_type": "stream",
          "name": "stderr",
          "text": [
            "100%|██████████| 9/9 [00:04<00:00,  1.91it/s]\n",
            "100%|██████████| 20/20 [00:11<00:00,  1.69it/s]\n"
          ]
        },
        {
          "output_type": "stream",
          "name": "stdout",
          "text": [
            "tf.Tensor(0.5986912, shape=(), dtype=float32)\n"
          ]
        },
        {
          "output_type": "stream",
          "name": "stderr",
          "text": [
            "100%|██████████| 19/19 [00:09<00:00,  1.93it/s]\n",
            "100%|██████████| 20/20 [00:11<00:00,  1.68it/s]\n"
          ]
        },
        {
          "output_type": "stream",
          "name": "stdout",
          "text": [
            "tf.Tensor(0.62089443, shape=(), dtype=float32)\n"
          ]
        },
        {
          "output_type": "stream",
          "name": "stderr",
          "text": [
            "100%|██████████| 19/19 [00:09<00:00,  1.92it/s]\n",
            "100%|██████████| 20/20 [00:11<00:00,  1.68it/s]\n"
          ]
        },
        {
          "output_type": "stream",
          "name": "stdout",
          "text": [
            "tf.Tensor(0.6299089, shape=(), dtype=float32)\n"
          ]
        },
        {
          "output_type": "stream",
          "name": "stderr",
          "text": [
            "100%|██████████| 19/19 [00:09<00:00,  1.94it/s]\n",
            "100%|██████████| 20/20 [00:11<00:00,  1.68it/s]\n"
          ]
        },
        {
          "output_type": "stream",
          "name": "stdout",
          "text": [
            "tf.Tensor(0.62543434, shape=(), dtype=float32)\n"
          ]
        },
        {
          "output_type": "stream",
          "name": "stderr",
          "text": [
            "100%|██████████| 38/38 [00:19<00:00,  1.91it/s]\n",
            "100%|██████████| 20/20 [00:11<00:00,  1.68it/s]\n"
          ]
        },
        {
          "output_type": "stream",
          "name": "stdout",
          "text": [
            "tf.Tensor(0.63312733, shape=(), dtype=float32)\n"
          ]
        },
        {
          "output_type": "stream",
          "name": "stderr",
          "text": [
            "100%|██████████| 58/58 [00:29<00:00,  1.94it/s]\n",
            "100%|██████████| 20/20 [00:11<00:00,  1.68it/s]\n"
          ]
        },
        {
          "output_type": "stream",
          "name": "stdout",
          "text": [
            "tf.Tensor(0.6074134, shape=(), dtype=float32)\n",
            "Epoch 29\n"
          ]
        },
        {
          "output_type": "stream",
          "name": "stderr",
          "text": [
            "100%|██████████| 9/9 [00:04<00:00,  1.92it/s]\n",
            "100%|██████████| 20/20 [00:11<00:00,  1.69it/s]\n"
          ]
        },
        {
          "output_type": "stream",
          "name": "stdout",
          "text": [
            "tf.Tensor(0.623839, shape=(), dtype=float32)\n"
          ]
        },
        {
          "output_type": "stream",
          "name": "stderr",
          "text": [
            "100%|██████████| 9/9 [00:04<00:00,  1.94it/s]\n",
            "100%|██████████| 20/20 [00:11<00:00,  1.69it/s]\n"
          ]
        },
        {
          "output_type": "stream",
          "name": "stdout",
          "text": [
            "tf.Tensor(0.59072316, shape=(), dtype=float32)\n"
          ]
        },
        {
          "output_type": "stream",
          "name": "stderr",
          "text": [
            "100%|██████████| 9/9 [00:04<00:00,  1.91it/s]\n",
            "100%|██████████| 20/20 [00:11<00:00,  1.68it/s]\n"
          ]
        },
        {
          "output_type": "stream",
          "name": "stdout",
          "text": [
            "tf.Tensor(0.60839885, shape=(), dtype=float32)\n"
          ]
        },
        {
          "output_type": "stream",
          "name": "stderr",
          "text": [
            "100%|██████████| 9/9 [00:04<00:00,  1.94it/s]\n",
            "100%|██████████| 20/20 [00:11<00:00,  1.69it/s]\n"
          ]
        },
        {
          "output_type": "stream",
          "name": "stdout",
          "text": [
            "tf.Tensor(0.59940976, shape=(), dtype=float32)\n"
          ]
        },
        {
          "output_type": "stream",
          "name": "stderr",
          "text": [
            "100%|██████████| 19/19 [00:09<00:00,  1.92it/s]\n",
            "100%|██████████| 20/20 [00:11<00:00,  1.68it/s]\n"
          ]
        },
        {
          "output_type": "stream",
          "name": "stdout",
          "text": [
            "tf.Tensor(0.61932814, shape=(), dtype=float32)\n"
          ]
        },
        {
          "output_type": "stream",
          "name": "stderr",
          "text": [
            "100%|██████████| 19/19 [00:09<00:00,  1.94it/s]\n",
            "100%|██████████| 20/20 [00:11<00:00,  1.67it/s]\n"
          ]
        },
        {
          "output_type": "stream",
          "name": "stdout",
          "text": [
            "tf.Tensor(0.62723273, shape=(), dtype=float32)\n"
          ]
        },
        {
          "output_type": "stream",
          "name": "stderr",
          "text": [
            "100%|██████████| 19/19 [00:09<00:00,  1.91it/s]\n",
            "100%|██████████| 20/20 [00:11<00:00,  1.67it/s]\n"
          ]
        },
        {
          "output_type": "stream",
          "name": "stdout",
          "text": [
            "tf.Tensor(0.6289881, shape=(), dtype=float32)\n"
          ]
        },
        {
          "output_type": "stream",
          "name": "stderr",
          "text": [
            "100%|██████████| 38/38 [00:19<00:00,  1.94it/s]\n",
            "100%|██████████| 20/20 [00:11<00:00,  1.68it/s]\n"
          ]
        },
        {
          "output_type": "stream",
          "name": "stdout",
          "text": [
            "tf.Tensor(0.6317381, shape=(), dtype=float32)\n"
          ]
        },
        {
          "output_type": "stream",
          "name": "stderr",
          "text": [
            "100%|██████████| 58/58 [00:30<00:00,  1.92it/s]\n",
            "100%|██████████| 20/20 [00:11<00:00,  1.68it/s]\n"
          ]
        },
        {
          "output_type": "stream",
          "name": "stdout",
          "text": [
            "tf.Tensor(0.60984504, shape=(), dtype=float32)\n",
            "Epoch 30\n"
          ]
        },
        {
          "output_type": "stream",
          "name": "stderr",
          "text": [
            "100%|██████████| 9/9 [00:04<00:00,  1.94it/s]\n",
            "100%|██████████| 20/20 [00:11<00:00,  1.69it/s]\n"
          ]
        },
        {
          "output_type": "stream",
          "name": "stdout",
          "text": [
            "tf.Tensor(0.62243146, shape=(), dtype=float32)\n"
          ]
        },
        {
          "output_type": "stream",
          "name": "stderr",
          "text": [
            "100%|██████████| 9/9 [00:04<00:00,  1.91it/s]\n",
            "100%|██████████| 20/20 [00:11<00:00,  1.69it/s]\n"
          ]
        },
        {
          "output_type": "stream",
          "name": "stdout",
          "text": [
            "tf.Tensor(0.59423953, shape=(), dtype=float32)\n"
          ]
        },
        {
          "output_type": "stream",
          "name": "stderr",
          "text": [
            "100%|██████████| 9/9 [00:04<00:00,  1.94it/s]\n",
            "100%|██████████| 20/20 [00:11<00:00,  1.69it/s]\n"
          ]
        },
        {
          "output_type": "stream",
          "name": "stdout",
          "text": [
            "tf.Tensor(0.62371963, shape=(), dtype=float32)\n"
          ]
        },
        {
          "output_type": "stream",
          "name": "stderr",
          "text": [
            "100%|██████████| 9/9 [00:04<00:00,  1.91it/s]\n",
            "100%|██████████| 20/20 [00:11<00:00,  1.69it/s]\n"
          ]
        },
        {
          "output_type": "stream",
          "name": "stdout",
          "text": [
            "tf.Tensor(0.6156353, shape=(), dtype=float32)\n"
          ]
        },
        {
          "output_type": "stream",
          "name": "stderr",
          "text": [
            "100%|██████████| 19/19 [00:09<00:00,  1.94it/s]\n",
            "100%|██████████| 20/20 [00:11<00:00,  1.68it/s]\n"
          ]
        },
        {
          "output_type": "stream",
          "name": "stdout",
          "text": [
            "tf.Tensor(0.62905854, shape=(), dtype=float32)\n"
          ]
        },
        {
          "output_type": "stream",
          "name": "stderr",
          "text": [
            "100%|██████████| 19/19 [00:09<00:00,  1.91it/s]\n",
            "100%|██████████| 20/20 [00:11<00:00,  1.69it/s]\n"
          ]
        },
        {
          "output_type": "stream",
          "name": "stdout",
          "text": [
            "tf.Tensor(0.62000185, shape=(), dtype=float32)\n"
          ]
        },
        {
          "output_type": "stream",
          "name": "stderr",
          "text": [
            "100%|██████████| 19/19 [00:09<00:00,  1.93it/s]\n",
            "100%|██████████| 20/20 [00:11<00:00,  1.69it/s]\n"
          ]
        },
        {
          "output_type": "stream",
          "name": "stdout",
          "text": [
            "tf.Tensor(0.63230973, shape=(), dtype=float32)\n"
          ]
        },
        {
          "output_type": "stream",
          "name": "stderr",
          "text": [
            "100%|██████████| 38/38 [00:19<00:00,  1.91it/s]\n",
            "100%|██████████| 20/20 [00:11<00:00,  1.70it/s]\n"
          ]
        },
        {
          "output_type": "stream",
          "name": "stdout",
          "text": [
            "tf.Tensor(0.6349895, shape=(), dtype=float32)\n"
          ]
        },
        {
          "output_type": "stream",
          "name": "stderr",
          "text": [
            "100%|██████████| 58/58 [00:29<00:00,  1.94it/s]\n",
            "100%|██████████| 20/20 [00:11<00:00,  1.69it/s]\n"
          ]
        },
        {
          "output_type": "stream",
          "name": "stdout",
          "text": [
            "tf.Tensor(0.61652595, shape=(), dtype=float32)\n",
            "Epoch 31\n"
          ]
        },
        {
          "output_type": "stream",
          "name": "stderr",
          "text": [
            "100%|██████████| 9/9 [00:04<00:00,  1.92it/s]\n",
            "100%|██████████| 20/20 [00:11<00:00,  1.69it/s]\n"
          ]
        },
        {
          "output_type": "stream",
          "name": "stdout",
          "text": [
            "tf.Tensor(0.61448216, shape=(), dtype=float32)\n"
          ]
        },
        {
          "output_type": "stream",
          "name": "stderr",
          "text": [
            "100%|██████████| 9/9 [00:04<00:00,  1.94it/s]\n",
            "100%|██████████| 20/20 [00:11<00:00,  1.69it/s]\n"
          ]
        },
        {
          "output_type": "stream",
          "name": "stdout",
          "text": [
            "tf.Tensor(0.5691816, shape=(), dtype=float32)\n"
          ]
        },
        {
          "output_type": "stream",
          "name": "stderr",
          "text": [
            "100%|██████████| 9/9 [00:04<00:00,  1.91it/s]\n",
            "100%|██████████| 20/20 [00:11<00:00,  1.69it/s]\n"
          ]
        },
        {
          "output_type": "stream",
          "name": "stdout",
          "text": [
            "tf.Tensor(0.60857606, shape=(), dtype=float32)\n"
          ]
        },
        {
          "output_type": "stream",
          "name": "stderr",
          "text": [
            "100%|██████████| 9/9 [00:04<00:00,  1.94it/s]\n",
            "100%|██████████| 20/20 [00:11<00:00,  1.69it/s]\n"
          ]
        },
        {
          "output_type": "stream",
          "name": "stdout",
          "text": [
            "tf.Tensor(0.59888786, shape=(), dtype=float32)\n"
          ]
        },
        {
          "output_type": "stream",
          "name": "stderr",
          "text": [
            "100%|██████████| 19/19 [00:09<00:00,  1.91it/s]\n",
            "100%|██████████| 20/20 [00:11<00:00,  1.69it/s]\n"
          ]
        },
        {
          "output_type": "stream",
          "name": "stdout",
          "text": [
            "tf.Tensor(0.61810994, shape=(), dtype=float32)\n"
          ]
        },
        {
          "output_type": "stream",
          "name": "stderr",
          "text": [
            "100%|██████████| 19/19 [00:09<00:00,  1.94it/s]\n",
            "100%|██████████| 20/20 [00:11<00:00,  1.68it/s]\n"
          ]
        },
        {
          "output_type": "stream",
          "name": "stdout",
          "text": [
            "tf.Tensor(0.6169799, shape=(), dtype=float32)\n"
          ]
        },
        {
          "output_type": "stream",
          "name": "stderr",
          "text": [
            "100%|██████████| 19/19 [00:09<00:00,  1.91it/s]\n",
            "100%|██████████| 20/20 [00:11<00:00,  1.68it/s]\n"
          ]
        },
        {
          "output_type": "stream",
          "name": "stdout",
          "text": [
            "tf.Tensor(0.6274269, shape=(), dtype=float32)\n"
          ]
        },
        {
          "output_type": "stream",
          "name": "stderr",
          "text": [
            "100%|██████████| 38/38 [00:19<00:00,  1.94it/s]\n",
            "100%|██████████| 20/20 [00:11<00:00,  1.69it/s]\n"
          ]
        },
        {
          "output_type": "stream",
          "name": "stdout",
          "text": [
            "tf.Tensor(0.6344751, shape=(), dtype=float32)\n"
          ]
        },
        {
          "output_type": "stream",
          "name": "stderr",
          "text": [
            "100%|██████████| 58/58 [00:30<00:00,  1.91it/s]\n",
            "100%|██████████| 20/20 [00:11<00:00,  1.68it/s]\n"
          ]
        },
        {
          "output_type": "stream",
          "name": "stdout",
          "text": [
            "tf.Tensor(0.62150645, shape=(), dtype=float32)\n",
            "Epoch 32\n"
          ]
        },
        {
          "output_type": "stream",
          "name": "stderr",
          "text": [
            "100%|██████████| 9/9 [00:04<00:00,  1.94it/s]\n",
            "100%|██████████| 20/20 [00:11<00:00,  1.69it/s]\n"
          ]
        },
        {
          "output_type": "stream",
          "name": "stdout",
          "text": [
            "tf.Tensor(0.6108195, shape=(), dtype=float32)\n"
          ]
        },
        {
          "output_type": "stream",
          "name": "stderr",
          "text": [
            "100%|██████████| 9/9 [00:04<00:00,  1.91it/s]\n",
            "100%|██████████| 20/20 [00:11<00:00,  1.68it/s]\n"
          ]
        },
        {
          "output_type": "stream",
          "name": "stdout",
          "text": [
            "tf.Tensor(0.58328784, shape=(), dtype=float32)\n"
          ]
        },
        {
          "output_type": "stream",
          "name": "stderr",
          "text": [
            "100%|██████████| 9/9 [00:04<00:00,  1.93it/s]\n",
            "100%|██████████| 20/20 [00:11<00:00,  1.69it/s]\n"
          ]
        },
        {
          "output_type": "stream",
          "name": "stdout",
          "text": [
            "tf.Tensor(0.61086607, shape=(), dtype=float32)\n"
          ]
        },
        {
          "output_type": "stream",
          "name": "stderr",
          "text": [
            "100%|██████████| 9/9 [00:04<00:00,  1.91it/s]\n",
            "100%|██████████| 20/20 [00:11<00:00,  1.69it/s]\n"
          ]
        },
        {
          "output_type": "stream",
          "name": "stdout",
          "text": [
            "tf.Tensor(0.6036864, shape=(), dtype=float32)\n"
          ]
        },
        {
          "output_type": "stream",
          "name": "stderr",
          "text": [
            "100%|██████████| 19/19 [00:09<00:00,  1.93it/s]\n",
            "100%|██████████| 20/20 [00:11<00:00,  1.69it/s]\n"
          ]
        },
        {
          "output_type": "stream",
          "name": "stdout",
          "text": [
            "tf.Tensor(0.6223566, shape=(), dtype=float32)\n"
          ]
        },
        {
          "output_type": "stream",
          "name": "stderr",
          "text": [
            "100%|██████████| 19/19 [00:09<00:00,  1.92it/s]\n",
            "100%|██████████| 20/20 [00:11<00:00,  1.68it/s]\n"
          ]
        },
        {
          "output_type": "stream",
          "name": "stdout",
          "text": [
            "tf.Tensor(0.62913936, shape=(), dtype=float32)\n"
          ]
        },
        {
          "output_type": "stream",
          "name": "stderr",
          "text": [
            "100%|██████████| 19/19 [00:09<00:00,  1.94it/s]\n",
            "100%|██████████| 20/20 [00:11<00:00,  1.69it/s]\n"
          ]
        },
        {
          "output_type": "stream",
          "name": "stdout",
          "text": [
            "tf.Tensor(0.6275456, shape=(), dtype=float32)\n"
          ]
        },
        {
          "output_type": "stream",
          "name": "stderr",
          "text": [
            "100%|██████████| 38/38 [00:19<00:00,  1.91it/s]\n",
            "100%|██████████| 20/20 [00:11<00:00,  1.68it/s]\n"
          ]
        },
        {
          "output_type": "stream",
          "name": "stdout",
          "text": [
            "tf.Tensor(0.6294911, shape=(), dtype=float32)\n"
          ]
        },
        {
          "output_type": "stream",
          "name": "stderr",
          "text": [
            "100%|██████████| 58/58 [00:29<00:00,  1.94it/s]\n",
            "100%|██████████| 20/20 [00:11<00:00,  1.69it/s]\n"
          ]
        },
        {
          "output_type": "stream",
          "name": "stdout",
          "text": [
            "tf.Tensor(0.62620777, shape=(), dtype=float32)\n",
            "Epoch 33\n"
          ]
        },
        {
          "output_type": "stream",
          "name": "stderr",
          "text": [
            "100%|██████████| 9/9 [00:04<00:00,  1.92it/s]\n",
            "100%|██████████| 20/20 [00:11<00:00,  1.69it/s]\n"
          ]
        },
        {
          "output_type": "stream",
          "name": "stdout",
          "text": [
            "tf.Tensor(0.63104105, shape=(), dtype=float32)\n"
          ]
        },
        {
          "output_type": "stream",
          "name": "stderr",
          "text": [
            "100%|██████████| 9/9 [00:04<00:00,  1.94it/s]\n",
            "100%|██████████| 20/20 [00:11<00:00,  1.69it/s]\n"
          ]
        },
        {
          "output_type": "stream",
          "name": "stdout",
          "text": [
            "tf.Tensor(0.5777912, shape=(), dtype=float32)\n"
          ]
        },
        {
          "output_type": "stream",
          "name": "stderr",
          "text": [
            "100%|██████████| 9/9 [00:04<00:00,  1.91it/s]\n",
            "100%|██████████| 20/20 [00:11<00:00,  1.69it/s]\n"
          ]
        },
        {
          "output_type": "stream",
          "name": "stdout",
          "text": [
            "tf.Tensor(0.5998741, shape=(), dtype=float32)\n"
          ]
        },
        {
          "output_type": "stream",
          "name": "stderr",
          "text": [
            "100%|██████████| 9/9 [00:04<00:00,  1.93it/s]\n",
            "100%|██████████| 20/20 [00:11<00:00,  1.68it/s]\n"
          ]
        },
        {
          "output_type": "stream",
          "name": "stdout",
          "text": [
            "tf.Tensor(0.6075154, shape=(), dtype=float32)\n"
          ]
        },
        {
          "output_type": "stream",
          "name": "stderr",
          "text": [
            "100%|██████████| 19/19 [00:09<00:00,  1.91it/s]\n",
            "100%|██████████| 20/20 [00:11<00:00,  1.68it/s]\n"
          ]
        },
        {
          "output_type": "stream",
          "name": "stdout",
          "text": [
            "tf.Tensor(0.62160593, shape=(), dtype=float32)\n"
          ]
        },
        {
          "output_type": "stream",
          "name": "stderr",
          "text": [
            "100%|██████████| 19/19 [00:09<00:00,  1.94it/s]\n",
            "100%|██████████| 20/20 [00:11<00:00,  1.69it/s]\n"
          ]
        },
        {
          "output_type": "stream",
          "name": "stdout",
          "text": [
            "tf.Tensor(0.6164206, shape=(), dtype=float32)\n"
          ]
        },
        {
          "output_type": "stream",
          "name": "stderr",
          "text": [
            "100%|██████████| 19/19 [00:09<00:00,  1.91it/s]\n",
            "100%|██████████| 20/20 [00:11<00:00,  1.68it/s]\n"
          ]
        },
        {
          "output_type": "stream",
          "name": "stdout",
          "text": [
            "tf.Tensor(0.62065136, shape=(), dtype=float32)\n"
          ]
        },
        {
          "output_type": "stream",
          "name": "stderr",
          "text": [
            "100%|██████████| 38/38 [00:19<00:00,  1.94it/s]\n",
            "100%|██████████| 20/20 [00:11<00:00,  1.68it/s]\n"
          ]
        },
        {
          "output_type": "stream",
          "name": "stdout",
          "text": [
            "tf.Tensor(0.63275725, shape=(), dtype=float32)\n"
          ]
        },
        {
          "output_type": "stream",
          "name": "stderr",
          "text": [
            "100%|██████████| 58/58 [00:30<00:00,  1.92it/s]\n",
            "100%|██████████| 20/20 [00:11<00:00,  1.69it/s]\n"
          ]
        },
        {
          "output_type": "stream",
          "name": "stdout",
          "text": [
            "tf.Tensor(0.6239792, shape=(), dtype=float32)\n",
            "Epoch 34\n"
          ]
        },
        {
          "output_type": "stream",
          "name": "stderr",
          "text": [
            "100%|██████████| 9/9 [00:04<00:00,  1.94it/s]\n",
            "100%|██████████| 20/20 [00:11<00:00,  1.69it/s]\n"
          ]
        },
        {
          "output_type": "stream",
          "name": "stdout",
          "text": [
            "tf.Tensor(0.6094947, shape=(), dtype=float32)\n"
          ]
        },
        {
          "output_type": "stream",
          "name": "stderr",
          "text": [
            "100%|██████████| 9/9 [00:04<00:00,  1.92it/s]\n",
            "100%|██████████| 20/20 [00:12<00:00,  1.66it/s]\n"
          ]
        },
        {
          "output_type": "stream",
          "name": "stdout",
          "text": [
            "tf.Tensor(0.5920837, shape=(), dtype=float32)\n"
          ]
        },
        {
          "output_type": "stream",
          "name": "stderr",
          "text": [
            "100%|██████████| 9/9 [00:04<00:00,  1.95it/s]\n",
            "100%|██████████| 20/20 [00:11<00:00,  1.69it/s]\n"
          ]
        },
        {
          "output_type": "stream",
          "name": "stdout",
          "text": [
            "tf.Tensor(0.6138516, shape=(), dtype=float32)\n"
          ]
        },
        {
          "output_type": "stream",
          "name": "stderr",
          "text": [
            "100%|██████████| 9/9 [00:04<00:00,  1.91it/s]\n",
            "100%|██████████| 20/20 [00:11<00:00,  1.69it/s]\n"
          ]
        },
        {
          "output_type": "stream",
          "name": "stdout",
          "text": [
            "tf.Tensor(0.60812557, shape=(), dtype=float32)\n"
          ]
        },
        {
          "output_type": "stream",
          "name": "stderr",
          "text": [
            "100%|██████████| 19/19 [00:09<00:00,  1.94it/s]\n",
            "100%|██████████| 20/20 [00:11<00:00,  1.69it/s]\n"
          ]
        },
        {
          "output_type": "stream",
          "name": "stdout",
          "text": [
            "tf.Tensor(0.62856, shape=(), dtype=float32)\n"
          ]
        },
        {
          "output_type": "stream",
          "name": "stderr",
          "text": [
            "100%|██████████| 19/19 [00:09<00:00,  1.92it/s]\n",
            "100%|██████████| 20/20 [00:11<00:00,  1.69it/s]\n"
          ]
        },
        {
          "output_type": "stream",
          "name": "stdout",
          "text": [
            "tf.Tensor(0.62801343, shape=(), dtype=float32)\n"
          ]
        },
        {
          "output_type": "stream",
          "name": "stderr",
          "text": [
            "100%|██████████| 19/19 [00:09<00:00,  1.94it/s]\n",
            "100%|██████████| 20/20 [00:11<00:00,  1.69it/s]\n"
          ]
        },
        {
          "output_type": "stream",
          "name": "stdout",
          "text": [
            "tf.Tensor(0.63112104, shape=(), dtype=float32)\n"
          ]
        },
        {
          "output_type": "stream",
          "name": "stderr",
          "text": [
            "100%|██████████| 38/38 [00:19<00:00,  1.92it/s]\n",
            "100%|██████████| 20/20 [00:11<00:00,  1.68it/s]\n"
          ]
        },
        {
          "output_type": "stream",
          "name": "stdout",
          "text": [
            "tf.Tensor(0.6347294, shape=(), dtype=float32)\n"
          ]
        },
        {
          "output_type": "stream",
          "name": "stderr",
          "text": [
            "100%|██████████| 58/58 [00:29<00:00,  1.94it/s]\n",
            "100%|██████████| 20/20 [00:11<00:00,  1.69it/s]\n"
          ]
        },
        {
          "output_type": "stream",
          "name": "stdout",
          "text": [
            "tf.Tensor(0.62153447, shape=(), dtype=float32)\n"
          ]
        }
      ]
    },
    {
      "cell_type": "markdown",
      "source": [
        "FL"
      ],
      "metadata": {
        "id": "oTw4yodYg361"
      }
    },
    {
      "cell_type": "code",
      "source": [
        "\n",
        "def get_avg_weights(array_weights,weights):\n",
        "    new_weights = list()\n",
        "    for weights_list_tuple in zip(*array_weights):\n",
        "        new_weights.append(\n",
        "            np.array([np.average(np.array(w),axis=0,weights=weights) for w in zip(*weights_list_tuple)])\n",
        "        )\n",
        "    return new_weights\n",
        "\n",
        "def fl_average(models,weighted):\n",
        "    weights = [model.get_weights() for model in models]\n",
        "    weights = get_avg_weights(weights,weighted)\n",
        "    return weights\n",
        "def fl_average_givenweights(weights,weighted):\n",
        "    weights = get_avg_weights(weights,weighted)\n",
        "    return weights"
      ],
      "metadata": {
        "id": "XGpJQJrKhoQS"
      },
      "execution_count": null,
      "outputs": []
    },
    {
      "cell_type": "code",
      "source": [
        "weights = [(institutions_t[i+1]-institutions_t[i])/80 for i in range(9)]\n",
        "model_list=[]\n",
        "for i in range(9):\n",
        "  model1 = model(input_shape = (240,240,4))\n",
        "  model1.compile(optimizer=tf.keras.optimizers.Adam(learning_rate=0.001), loss=dice_log)\n",
        "  model_list.append(model1)\n",
        "EPOCHS = 300\n",
        "BATCH_SIZE=64\n",
        "scores_fl_e3 = []\n",
        "import gc\n",
        "from tqdm import tqdm\n",
        "with tf.device(\"GPU:0\"):\n",
        "  for epoch in range(EPOCHS):\n",
        "    print(\"Epoch \"+str(epoch+1))\n",
        "    for ins in range(9):\n",
        "      length = len(X_train[155*institutions_t[ins]:155*institutions_t[ins+1]])\n",
        "      for iteration in tqdm(range(length//BATCH_SIZE)):\n",
        "        batch_indices = [random.randrange(0,length) for i in range(BATCH_SIZE)]\n",
        "        model_list[ins].train_on_batch((X_train[155*institutions_t[ins]:155*institutions_t[ins+1]][batch_indices])/maximum,(y_train[155*institutions_t[ins]:155*institutions_t[ins+1]][batch_indices])/4)\n",
        "      \n",
        "    model_weights = fl_average(model_list,weights)\n",
        "    for ins in range(9):\n",
        "      model_list[ins].set_weights(model_weights)\n",
        "    result = np.empty((3100,240,240,1),dtype='float32')\n",
        "    gc.collect()\n",
        "    for i in tqdm(range(155)):\n",
        "      result[i*20:(i+1)*20]=model_list[0].predict(X_valid[i*20:(i+1)*20]/maximum)\n",
        "      #gc.collect()\n",
        "    dice_score = dice_coef(y_valid/4,result)\n",
        "    scores_fl_e3.append(dice_score)\n",
        "    print(dice_score)\n",
        "    gc.collect()\n",
        "np.save(\"drive/MyDrive/BraTS/scores_fl_e3\",np.array(scores_fl_e3))\n"
      ],
      "metadata": {
        "colab": {
          "base_uri": "https://localhost:8080/"
        },
        "id": "UncYQ5xT2Dy9",
        "outputId": "fbd4b54a-1377-46a9-d46f-ef0434ff769c"
      },
      "execution_count": null,
      "outputs": [
        {
          "output_type": "stream",
          "name": "stdout",
          "text": [
            "(None, 256, 256, 4)\n",
            "(None, 240, 240, 1)\n",
            "(None, 256, 256, 4)\n",
            "(None, 240, 240, 1)\n",
            "(None, 256, 256, 4)\n",
            "(None, 240, 240, 1)\n",
            "(None, 256, 256, 4)\n",
            "(None, 240, 240, 1)\n",
            "(None, 256, 256, 4)\n",
            "(None, 240, 240, 1)\n",
            "(None, 256, 256, 4)\n",
            "(None, 240, 240, 1)\n",
            "(None, 256, 256, 4)\n",
            "(None, 240, 240, 1)\n",
            "(None, 256, 256, 4)\n",
            "(None, 240, 240, 1)\n",
            "(None, 256, 256, 4)\n",
            "(None, 240, 240, 1)\n",
            "Epoch 1\n"
          ]
        },
        {
          "output_type": "stream",
          "name": "stderr",
          "text": [
            "100%|██████████| 9/9 [00:23<00:00,  2.56s/it]\n",
            "100%|██████████| 9/9 [00:06<00:00,  1.45it/s]\n",
            "100%|██████████| 9/9 [00:06<00:00,  1.45it/s]\n",
            "100%|██████████| 9/9 [00:06<00:00,  1.45it/s]\n",
            "100%|██████████| 19/19 [00:11<00:00,  1.70it/s]\n",
            "100%|██████████| 19/19 [00:11<00:00,  1.65it/s]\n",
            "100%|██████████| 19/19 [00:11<00:00,  1.68it/s]\n",
            "100%|██████████| 38/38 [00:21<00:00,  1.79it/s]\n",
            "100%|██████████| 58/58 [00:31<00:00,  1.81it/s]\n",
            "100%|██████████| 155/155 [00:19<00:00,  7.91it/s]\n"
          ]
        },
        {
          "output_type": "stream",
          "name": "stdout",
          "text": [
            "tf.Tensor(0.012036543, shape=(), dtype=float32)\n",
            "Epoch 2\n"
          ]
        },
        {
          "output_type": "stream",
          "name": "stderr",
          "text": [
            "100%|██████████| 9/9 [00:04<00:00,  1.90it/s]\n",
            "100%|██████████| 9/9 [00:04<00:00,  1.89it/s]\n",
            "100%|██████████| 9/9 [00:04<00:00,  1.89it/s]\n",
            "100%|██████████| 9/9 [00:04<00:00,  1.88it/s]\n",
            "100%|██████████| 19/19 [00:09<00:00,  1.91it/s]\n",
            "100%|██████████| 19/19 [00:09<00:00,  1.92it/s]\n",
            "100%|██████████| 19/19 [00:09<00:00,  1.91it/s]\n",
            "100%|██████████| 38/38 [00:19<00:00,  1.90it/s]\n",
            "100%|██████████| 58/58 [00:30<00:00,  1.90it/s]\n",
            "100%|██████████| 155/155 [00:17<00:00,  8.76it/s]\n"
          ]
        },
        {
          "output_type": "stream",
          "name": "stdout",
          "text": [
            "tf.Tensor(0.013692092, shape=(), dtype=float32)\n",
            "Epoch 3\n"
          ]
        },
        {
          "output_type": "stream",
          "name": "stderr",
          "text": [
            "100%|██████████| 9/9 [00:04<00:00,  1.90it/s]\n",
            "100%|██████████| 9/9 [00:04<00:00,  1.89it/s]\n",
            "100%|██████████| 9/9 [00:04<00:00,  1.89it/s]\n",
            "100%|██████████| 9/9 [00:04<00:00,  1.89it/s]\n",
            "100%|██████████| 19/19 [00:10<00:00,  1.89it/s]\n",
            "100%|██████████| 19/19 [00:09<00:00,  1.90it/s]\n",
            "100%|██████████| 19/19 [00:09<00:00,  1.90it/s]\n",
            "100%|██████████| 38/38 [00:19<00:00,  1.91it/s]\n",
            "100%|██████████| 58/58 [00:30<00:00,  1.90it/s]\n",
            "100%|██████████| 155/155 [00:17<00:00,  8.65it/s]\n"
          ]
        },
        {
          "output_type": "stream",
          "name": "stdout",
          "text": [
            "tf.Tensor(0.0120552, shape=(), dtype=float32)\n",
            "Epoch 4\n"
          ]
        },
        {
          "output_type": "stream",
          "name": "stderr",
          "text": [
            "100%|██████████| 9/9 [00:04<00:00,  1.90it/s]\n",
            "100%|██████████| 9/9 [00:04<00:00,  1.89it/s]\n",
            "100%|██████████| 9/9 [00:04<00:00,  1.89it/s]\n",
            "100%|██████████| 9/9 [00:04<00:00,  1.89it/s]\n",
            "100%|██████████| 19/19 [00:09<00:00,  1.90it/s]\n",
            "100%|██████████| 19/19 [00:10<00:00,  1.90it/s]\n",
            "100%|██████████| 19/19 [00:09<00:00,  1.90it/s]\n",
            "100%|██████████| 38/38 [00:19<00:00,  1.91it/s]\n",
            "100%|██████████| 58/58 [00:30<00:00,  1.90it/s]\n",
            "100%|██████████| 155/155 [00:18<00:00,  8.37it/s]\n"
          ]
        },
        {
          "output_type": "stream",
          "name": "stdout",
          "text": [
            "tf.Tensor(0.022333039, shape=(), dtype=float32)\n",
            "Epoch 5\n"
          ]
        },
        {
          "output_type": "stream",
          "name": "stderr",
          "text": [
            "100%|██████████| 9/9 [00:04<00:00,  1.89it/s]\n",
            "100%|██████████| 9/9 [00:04<00:00,  1.89it/s]\n",
            "100%|██████████| 9/9 [00:04<00:00,  1.88it/s]\n",
            "100%|██████████| 9/9 [00:04<00:00,  1.89it/s]\n",
            "100%|██████████| 19/19 [00:10<00:00,  1.89it/s]\n",
            "100%|██████████| 19/19 [00:10<00:00,  1.90it/s]\n",
            "100%|██████████| 19/19 [00:10<00:00,  1.90it/s]\n",
            "100%|██████████| 38/38 [00:20<00:00,  1.90it/s]\n",
            "100%|██████████| 58/58 [00:30<00:00,  1.89it/s]\n",
            "100%|██████████| 155/155 [00:18<00:00,  8.52it/s]\n"
          ]
        },
        {
          "output_type": "stream",
          "name": "stdout",
          "text": [
            "tf.Tensor(0.0081663905, shape=(), dtype=float32)\n",
            "Epoch 6\n"
          ]
        },
        {
          "output_type": "stream",
          "name": "stderr",
          "text": [
            "100%|██████████| 9/9 [00:04<00:00,  1.89it/s]\n",
            "100%|██████████| 9/9 [00:04<00:00,  1.89it/s]\n",
            "100%|██████████| 9/9 [00:04<00:00,  1.89it/s]\n",
            "100%|██████████| 9/9 [00:04<00:00,  1.89it/s]\n",
            "100%|██████████| 19/19 [00:10<00:00,  1.85it/s]\n",
            "100%|██████████| 19/19 [00:10<00:00,  1.90it/s]\n",
            "100%|██████████| 19/19 [00:09<00:00,  1.90it/s]\n",
            "100%|██████████| 38/38 [00:20<00:00,  1.90it/s]\n",
            "100%|██████████| 58/58 [00:30<00:00,  1.90it/s]\n",
            "100%|██████████| 155/155 [00:18<00:00,  8.49it/s]\n"
          ]
        },
        {
          "output_type": "stream",
          "name": "stdout",
          "text": [
            "tf.Tensor(0.019471027, shape=(), dtype=float32)\n",
            "Epoch 7\n"
          ]
        },
        {
          "output_type": "stream",
          "name": "stderr",
          "text": [
            "100%|██████████| 9/9 [00:04<00:00,  1.89it/s]\n",
            "100%|██████████| 9/9 [00:04<00:00,  1.89it/s]\n",
            "100%|██████████| 9/9 [00:04<00:00,  1.89it/s]\n",
            "100%|██████████| 9/9 [00:04<00:00,  1.89it/s]\n",
            "100%|██████████| 19/19 [00:10<00:00,  1.89it/s]\n",
            "100%|██████████| 19/19 [00:10<00:00,  1.90it/s]\n",
            "100%|██████████| 19/19 [00:09<00:00,  1.90it/s]\n",
            "100%|██████████| 38/38 [00:19<00:00,  1.90it/s]\n",
            "100%|██████████| 58/58 [00:30<00:00,  1.90it/s]\n",
            "100%|██████████| 155/155 [00:17<00:00,  8.62it/s]\n"
          ]
        },
        {
          "output_type": "stream",
          "name": "stdout",
          "text": [
            "tf.Tensor(0.0694741, shape=(), dtype=float32)\n",
            "Epoch 8\n"
          ]
        },
        {
          "output_type": "stream",
          "name": "stderr",
          "text": [
            "100%|██████████| 9/9 [00:04<00:00,  1.90it/s]\n",
            "100%|██████████| 9/9 [00:04<00:00,  1.89it/s]\n",
            "100%|██████████| 9/9 [00:04<00:00,  1.88it/s]\n",
            "100%|██████████| 9/9 [00:04<00:00,  1.89it/s]\n",
            "100%|██████████| 19/19 [00:10<00:00,  1.89it/s]\n",
            "100%|██████████| 19/19 [00:10<00:00,  1.90it/s]\n",
            "100%|██████████| 19/19 [00:10<00:00,  1.90it/s]\n",
            "100%|██████████| 38/38 [00:19<00:00,  1.90it/s]\n",
            "100%|██████████| 58/58 [00:30<00:00,  1.90it/s]\n",
            "100%|██████████| 155/155 [00:18<00:00,  8.45it/s]\n"
          ]
        },
        {
          "output_type": "stream",
          "name": "stdout",
          "text": [
            "tf.Tensor(0.08283706, shape=(), dtype=float32)\n",
            "Epoch 9\n"
          ]
        },
        {
          "output_type": "stream",
          "name": "stderr",
          "text": [
            "100%|██████████| 9/9 [00:04<00:00,  1.90it/s]\n",
            "100%|██████████| 9/9 [00:04<00:00,  1.89it/s]\n",
            "100%|██████████| 9/9 [00:04<00:00,  1.89it/s]\n",
            "100%|██████████| 9/9 [00:04<00:00,  1.89it/s]\n",
            "100%|██████████| 19/19 [00:10<00:00,  1.90it/s]\n",
            "100%|██████████| 19/19 [00:10<00:00,  1.90it/s]\n",
            "100%|██████████| 19/19 [00:09<00:00,  1.90it/s]\n",
            "100%|██████████| 38/38 [00:20<00:00,  1.90it/s]\n",
            "100%|██████████| 58/58 [00:30<00:00,  1.90it/s]\n",
            "100%|██████████| 155/155 [00:18<00:00,  8.58it/s]\n"
          ]
        },
        {
          "output_type": "stream",
          "name": "stdout",
          "text": [
            "tf.Tensor(0.102778964, shape=(), dtype=float32)\n",
            "Epoch 10\n"
          ]
        },
        {
          "output_type": "stream",
          "name": "stderr",
          "text": [
            "100%|██████████| 9/9 [00:04<00:00,  1.89it/s]\n",
            "100%|██████████| 9/9 [00:04<00:00,  1.89it/s]\n",
            "100%|██████████| 9/9 [00:04<00:00,  1.89it/s]\n",
            "100%|██████████| 9/9 [00:04<00:00,  1.89it/s]\n",
            "100%|██████████| 19/19 [00:10<00:00,  1.89it/s]\n",
            "100%|██████████| 19/19 [00:10<00:00,  1.90it/s]\n",
            "100%|██████████| 19/19 [00:10<00:00,  1.90it/s]\n",
            "100%|██████████| 38/38 [00:20<00:00,  1.90it/s]\n",
            "100%|██████████| 58/58 [00:30<00:00,  1.90it/s]\n",
            "100%|██████████| 155/155 [00:18<00:00,  8.51it/s]\n"
          ]
        },
        {
          "output_type": "stream",
          "name": "stdout",
          "text": [
            "tf.Tensor(0.20186763, shape=(), dtype=float32)\n",
            "Epoch 11\n"
          ]
        },
        {
          "output_type": "stream",
          "name": "stderr",
          "text": [
            "100%|██████████| 9/9 [00:04<00:00,  1.89it/s]\n",
            "100%|██████████| 9/9 [00:04<00:00,  1.89it/s]\n",
            "100%|██████████| 9/9 [00:04<00:00,  1.89it/s]\n",
            "100%|██████████| 9/9 [00:04<00:00,  1.89it/s]\n",
            "100%|██████████| 19/19 [00:10<00:00,  1.90it/s]\n",
            "100%|██████████| 19/19 [00:09<00:00,  1.90it/s]\n",
            "100%|██████████| 19/19 [00:10<00:00,  1.90it/s]\n",
            "100%|██████████| 38/38 [00:19<00:00,  1.90it/s]\n",
            "100%|██████████| 58/58 [00:30<00:00,  1.90it/s]\n",
            "100%|██████████| 155/155 [00:18<00:00,  8.49it/s]\n"
          ]
        },
        {
          "output_type": "stream",
          "name": "stdout",
          "text": [
            "tf.Tensor(0.20700115, shape=(), dtype=float32)\n",
            "Epoch 12\n"
          ]
        },
        {
          "output_type": "stream",
          "name": "stderr",
          "text": [
            "100%|██████████| 9/9 [00:04<00:00,  1.89it/s]\n",
            "100%|██████████| 9/9 [00:04<00:00,  1.89it/s]\n",
            "100%|██████████| 9/9 [00:04<00:00,  1.89it/s]\n",
            "100%|██████████| 9/9 [00:04<00:00,  1.88it/s]\n",
            "100%|██████████| 19/19 [00:10<00:00,  1.89it/s]\n",
            "100%|██████████| 19/19 [00:09<00:00,  1.90it/s]\n",
            "100%|██████████| 19/19 [00:09<00:00,  1.90it/s]\n",
            "100%|██████████| 38/38 [00:19<00:00,  1.90it/s]\n",
            "100%|██████████| 58/58 [00:30<00:00,  1.90it/s]\n",
            "100%|██████████| 155/155 [00:18<00:00,  8.51it/s]\n"
          ]
        },
        {
          "output_type": "stream",
          "name": "stdout",
          "text": [
            "tf.Tensor(0.25527626, shape=(), dtype=float32)\n",
            "Epoch 13\n"
          ]
        },
        {
          "output_type": "stream",
          "name": "stderr",
          "text": [
            "100%|██████████| 9/9 [00:04<00:00,  1.89it/s]\n",
            "100%|██████████| 9/9 [00:04<00:00,  1.88it/s]\n",
            "100%|██████████| 9/9 [00:04<00:00,  1.89it/s]\n",
            "100%|██████████| 9/9 [00:04<00:00,  1.89it/s]\n",
            "100%|██████████| 19/19 [00:10<00:00,  1.90it/s]\n",
            "100%|██████████| 19/19 [00:09<00:00,  1.90it/s]\n",
            "100%|██████████| 19/19 [00:09<00:00,  1.90it/s]\n",
            "100%|██████████| 38/38 [00:20<00:00,  1.90it/s]\n",
            "100%|██████████| 58/58 [00:30<00:00,  1.90it/s]\n",
            "100%|██████████| 155/155 [00:18<00:00,  8.54it/s]\n"
          ]
        },
        {
          "output_type": "stream",
          "name": "stdout",
          "text": [
            "tf.Tensor(0.35233685, shape=(), dtype=float32)\n",
            "Epoch 14\n"
          ]
        },
        {
          "output_type": "stream",
          "name": "stderr",
          "text": [
            "100%|██████████| 9/9 [00:04<00:00,  1.89it/s]\n",
            "100%|██████████| 9/9 [00:04<00:00,  1.89it/s]\n",
            "100%|██████████| 9/9 [00:04<00:00,  1.89it/s]\n",
            "100%|██████████| 9/9 [00:04<00:00,  1.88it/s]\n",
            "100%|██████████| 19/19 [00:10<00:00,  1.89it/s]\n",
            "100%|██████████| 19/19 [00:10<00:00,  1.90it/s]\n",
            "100%|██████████| 19/19 [00:09<00:00,  1.90it/s]\n",
            "100%|██████████| 38/38 [00:20<00:00,  1.90it/s]\n",
            "100%|██████████| 58/58 [00:30<00:00,  1.90it/s]\n",
            "100%|██████████| 155/155 [00:18<00:00,  8.49it/s]\n"
          ]
        },
        {
          "output_type": "stream",
          "name": "stdout",
          "text": [
            "tf.Tensor(0.3931414, shape=(), dtype=float32)\n",
            "Epoch 15\n"
          ]
        },
        {
          "output_type": "stream",
          "name": "stderr",
          "text": [
            "100%|██████████| 9/9 [00:04<00:00,  1.89it/s]\n",
            "100%|██████████| 9/9 [00:04<00:00,  1.89it/s]\n",
            "100%|██████████| 9/9 [00:04<00:00,  1.89it/s]\n",
            "100%|██████████| 9/9 [00:04<00:00,  1.89it/s]\n",
            "100%|██████████| 19/19 [00:10<00:00,  1.89it/s]\n",
            "100%|██████████| 19/19 [00:10<00:00,  1.89it/s]\n",
            "100%|██████████| 19/19 [00:10<00:00,  1.90it/s]\n",
            "100%|██████████| 38/38 [00:19<00:00,  1.90it/s]\n",
            "100%|██████████| 58/58 [00:30<00:00,  1.90it/s]\n",
            "100%|██████████| 155/155 [00:18<00:00,  8.61it/s]\n"
          ]
        },
        {
          "output_type": "stream",
          "name": "stdout",
          "text": [
            "tf.Tensor(0.42437047, shape=(), dtype=float32)\n",
            "Epoch 16\n"
          ]
        },
        {
          "output_type": "stream",
          "name": "stderr",
          "text": [
            "100%|██████████| 9/9 [00:04<00:00,  1.89it/s]\n",
            "100%|██████████| 9/9 [00:04<00:00,  1.89it/s]\n",
            "100%|██████████| 9/9 [00:04<00:00,  1.89it/s]\n",
            "100%|██████████| 9/9 [00:04<00:00,  1.90it/s]\n",
            "100%|██████████| 19/19 [00:10<00:00,  1.90it/s]\n",
            "100%|██████████| 19/19 [00:10<00:00,  1.90it/s]\n",
            "100%|██████████| 19/19 [00:09<00:00,  1.90it/s]\n",
            "100%|██████████| 38/38 [00:20<00:00,  1.90it/s]\n",
            "100%|██████████| 58/58 [00:30<00:00,  1.90it/s]\n",
            "100%|██████████| 155/155 [00:18<00:00,  8.48it/s]\n"
          ]
        },
        {
          "output_type": "stream",
          "name": "stdout",
          "text": [
            "tf.Tensor(0.42645422, shape=(), dtype=float32)\n",
            "Epoch 17\n"
          ]
        },
        {
          "output_type": "stream",
          "name": "stderr",
          "text": [
            "100%|██████████| 9/9 [00:04<00:00,  1.90it/s]\n",
            "100%|██████████| 9/9 [00:04<00:00,  1.89it/s]\n",
            "100%|██████████| 9/9 [00:04<00:00,  1.89it/s]\n",
            "100%|██████████| 9/9 [00:04<00:00,  1.89it/s]\n",
            "100%|██████████| 19/19 [00:10<00:00,  1.90it/s]\n",
            "100%|██████████| 19/19 [00:10<00:00,  1.89it/s]\n",
            "100%|██████████| 19/19 [00:10<00:00,  1.90it/s]\n",
            "100%|██████████| 38/38 [00:20<00:00,  1.90it/s]\n",
            "100%|██████████| 58/58 [00:30<00:00,  1.90it/s]\n",
            "100%|██████████| 155/155 [00:18<00:00,  8.58it/s]\n"
          ]
        },
        {
          "output_type": "stream",
          "name": "stdout",
          "text": [
            "tf.Tensor(0.47750947, shape=(), dtype=float32)\n",
            "Epoch 18\n"
          ]
        },
        {
          "output_type": "stream",
          "name": "stderr",
          "text": [
            "100%|██████████| 9/9 [00:04<00:00,  1.90it/s]\n",
            "100%|██████████| 9/9 [00:04<00:00,  1.89it/s]\n",
            "100%|██████████| 9/9 [00:04<00:00,  1.89it/s]\n",
            "100%|██████████| 9/9 [00:04<00:00,  1.89it/s]\n",
            "100%|██████████| 19/19 [00:10<00:00,  1.89it/s]\n",
            "100%|██████████| 19/19 [00:10<00:00,  1.90it/s]\n",
            "100%|██████████| 19/19 [00:09<00:00,  1.90it/s]\n",
            "100%|██████████| 38/38 [00:20<00:00,  1.90it/s]\n",
            "100%|██████████| 58/58 [00:30<00:00,  1.90it/s]\n",
            "100%|██████████| 155/155 [00:18<00:00,  8.53it/s]\n"
          ]
        },
        {
          "output_type": "stream",
          "name": "stdout",
          "text": [
            "tf.Tensor(0.5340138, shape=(), dtype=float32)\n",
            "Epoch 19\n"
          ]
        },
        {
          "output_type": "stream",
          "name": "stderr",
          "text": [
            "100%|██████████| 9/9 [00:04<00:00,  1.90it/s]\n",
            "100%|██████████| 9/9 [00:04<00:00,  1.89it/s]\n",
            "100%|██████████| 9/9 [00:04<00:00,  1.89it/s]\n",
            "100%|██████████| 9/9 [00:04<00:00,  1.90it/s]\n",
            "100%|██████████| 19/19 [00:10<00:00,  1.89it/s]\n",
            "100%|██████████| 19/19 [00:10<00:00,  1.89it/s]\n",
            "100%|██████████| 19/19 [00:09<00:00,  1.90it/s]\n",
            "100%|██████████| 38/38 [00:19<00:00,  1.90it/s]\n",
            "100%|██████████| 58/58 [00:30<00:00,  1.90it/s]\n",
            "100%|██████████| 155/155 [00:18<00:00,  8.52it/s]\n"
          ]
        },
        {
          "output_type": "stream",
          "name": "stdout",
          "text": [
            "tf.Tensor(0.52139354, shape=(), dtype=float32)\n",
            "Epoch 20\n"
          ]
        },
        {
          "output_type": "stream",
          "name": "stderr",
          "text": [
            "100%|██████████| 9/9 [00:04<00:00,  1.90it/s]\n",
            "100%|██████████| 9/9 [00:04<00:00,  1.89it/s]\n",
            "100%|██████████| 9/9 [00:04<00:00,  1.89it/s]\n",
            "100%|██████████| 9/9 [00:04<00:00,  1.89it/s]\n",
            "100%|██████████| 19/19 [00:10<00:00,  1.89it/s]\n",
            "100%|██████████| 19/19 [00:10<00:00,  1.90it/s]\n",
            "100%|██████████| 19/19 [00:10<00:00,  1.90it/s]\n",
            "100%|██████████| 38/38 [00:19<00:00,  1.90it/s]\n",
            "100%|██████████| 58/58 [00:30<00:00,  1.90it/s]\n",
            "100%|██████████| 155/155 [00:18<00:00,  8.55it/s]\n"
          ]
        },
        {
          "output_type": "stream",
          "name": "stdout",
          "text": [
            "tf.Tensor(0.5448305, shape=(), dtype=float32)\n",
            "Epoch 21\n"
          ]
        },
        {
          "output_type": "stream",
          "name": "stderr",
          "text": [
            "100%|██████████| 9/9 [00:04<00:00,  1.90it/s]\n",
            "100%|██████████| 9/9 [00:04<00:00,  1.90it/s]\n",
            "100%|██████████| 9/9 [00:04<00:00,  1.90it/s]\n",
            "100%|██████████| 9/9 [00:04<00:00,  1.90it/s]\n",
            "100%|██████████| 19/19 [00:10<00:00,  1.90it/s]\n",
            "100%|██████████| 19/19 [00:09<00:00,  1.90it/s]\n",
            "100%|██████████| 19/19 [00:09<00:00,  1.90it/s]\n",
            "100%|██████████| 38/38 [00:19<00:00,  1.90it/s]\n",
            "100%|██████████| 58/58 [00:30<00:00,  1.90it/s]\n",
            "100%|██████████| 155/155 [00:18<00:00,  8.55it/s]\n"
          ]
        },
        {
          "output_type": "stream",
          "name": "stdout",
          "text": [
            "tf.Tensor(0.5630794, shape=(), dtype=float32)\n",
            "Epoch 22\n"
          ]
        },
        {
          "output_type": "stream",
          "name": "stderr",
          "text": [
            "100%|██████████| 9/9 [00:04<00:00,  1.90it/s]\n",
            "100%|██████████| 9/9 [00:04<00:00,  1.88it/s]\n",
            "100%|██████████| 9/9 [00:04<00:00,  1.89it/s]\n",
            "100%|██████████| 9/9 [00:04<00:00,  1.89it/s]\n",
            "100%|██████████| 19/19 [00:10<00:00,  1.89it/s]\n",
            "100%|██████████| 19/19 [00:10<00:00,  1.90it/s]\n",
            "100%|██████████| 19/19 [00:09<00:00,  1.90it/s]\n",
            "100%|██████████| 38/38 [00:20<00:00,  1.90it/s]\n",
            "100%|██████████| 58/58 [00:30<00:00,  1.90it/s]\n",
            "100%|██████████| 155/155 [00:18<00:00,  8.54it/s]\n"
          ]
        },
        {
          "output_type": "stream",
          "name": "stdout",
          "text": [
            "tf.Tensor(0.5786669, shape=(), dtype=float32)\n",
            "Epoch 23\n"
          ]
        },
        {
          "output_type": "stream",
          "name": "stderr",
          "text": [
            "100%|██████████| 9/9 [00:04<00:00,  1.90it/s]\n",
            "100%|██████████| 9/9 [00:04<00:00,  1.89it/s]\n",
            "100%|██████████| 9/9 [00:04<00:00,  1.89it/s]\n",
            "100%|██████████| 9/9 [00:04<00:00,  1.89it/s]\n",
            "100%|██████████| 19/19 [00:10<00:00,  1.90it/s]\n",
            "100%|██████████| 19/19 [00:09<00:00,  1.90it/s]\n",
            "100%|██████████| 19/19 [00:09<00:00,  1.91it/s]\n",
            "100%|██████████| 38/38 [00:19<00:00,  1.90it/s]\n",
            "100%|██████████| 58/58 [00:30<00:00,  1.90it/s]\n",
            "100%|██████████| 155/155 [00:18<00:00,  8.54it/s]\n"
          ]
        },
        {
          "output_type": "stream",
          "name": "stdout",
          "text": [
            "tf.Tensor(0.57599825, shape=(), dtype=float32)\n",
            "Epoch 24\n"
          ]
        },
        {
          "output_type": "stream",
          "name": "stderr",
          "text": [
            "100%|██████████| 9/9 [00:04<00:00,  1.89it/s]\n",
            "100%|██████████| 9/9 [00:04<00:00,  1.88it/s]\n",
            "100%|██████████| 9/9 [00:04<00:00,  1.89it/s]\n",
            "100%|██████████| 9/9 [00:04<00:00,  1.89it/s]\n",
            "100%|██████████| 19/19 [00:10<00:00,  1.90it/s]\n",
            "100%|██████████| 19/19 [00:09<00:00,  1.90it/s]\n",
            "100%|██████████| 19/19 [00:09<00:00,  1.90it/s]\n",
            "100%|██████████| 38/38 [00:20<00:00,  1.90it/s]\n",
            "100%|██████████| 58/58 [00:30<00:00,  1.90it/s]\n",
            "100%|██████████| 155/155 [00:18<00:00,  8.47it/s]\n"
          ]
        },
        {
          "output_type": "stream",
          "name": "stdout",
          "text": [
            "tf.Tensor(0.5872706, shape=(), dtype=float32)\n",
            "Epoch 25\n"
          ]
        },
        {
          "output_type": "stream",
          "name": "stderr",
          "text": [
            "100%|██████████| 9/9 [00:04<00:00,  1.89it/s]\n",
            "100%|██████████| 9/9 [00:04<00:00,  1.89it/s]\n",
            "100%|██████████| 9/9 [00:04<00:00,  1.89it/s]\n",
            "100%|██████████| 9/9 [00:04<00:00,  1.89it/s]\n",
            "100%|██████████| 19/19 [00:10<00:00,  1.89it/s]\n",
            "100%|██████████| 19/19 [00:10<00:00,  1.90it/s]\n",
            "100%|██████████| 19/19 [00:10<00:00,  1.90it/s]\n",
            "100%|██████████| 38/38 [00:20<00:00,  1.90it/s]\n",
            "100%|██████████| 58/58 [00:30<00:00,  1.90it/s]\n",
            "100%|██████████| 155/155 [00:18<00:00,  8.54it/s]\n"
          ]
        },
        {
          "output_type": "stream",
          "name": "stdout",
          "text": [
            "tf.Tensor(0.5872789, shape=(), dtype=float32)\n",
            "Epoch 26\n"
          ]
        },
        {
          "output_type": "stream",
          "name": "stderr",
          "text": [
            "100%|██████████| 9/9 [00:04<00:00,  1.89it/s]\n",
            "100%|██████████| 9/9 [00:04<00:00,  1.89it/s]\n",
            "100%|██████████| 9/9 [00:04<00:00,  1.89it/s]\n",
            "100%|██████████| 9/9 [00:04<00:00,  1.89it/s]\n",
            "100%|██████████| 19/19 [00:10<00:00,  1.89it/s]\n",
            "100%|██████████| 19/19 [00:09<00:00,  1.90it/s]\n",
            "100%|██████████| 19/19 [00:10<00:00,  1.90it/s]\n",
            "100%|██████████| 38/38 [00:20<00:00,  1.90it/s]\n",
            "100%|██████████| 58/58 [00:30<00:00,  1.90it/s]\n",
            "100%|██████████| 155/155 [00:18<00:00,  8.48it/s]\n"
          ]
        },
        {
          "output_type": "stream",
          "name": "stdout",
          "text": [
            "tf.Tensor(0.59365755, shape=(), dtype=float32)\n",
            "Epoch 27\n"
          ]
        },
        {
          "output_type": "stream",
          "name": "stderr",
          "text": [
            "100%|██████████| 9/9 [00:04<00:00,  1.89it/s]\n",
            "100%|██████████| 9/9 [00:04<00:00,  1.88it/s]\n",
            "100%|██████████| 9/9 [00:04<00:00,  1.89it/s]\n",
            "100%|██████████| 9/9 [00:04<00:00,  1.89it/s]\n",
            "100%|██████████| 19/19 [00:10<00:00,  1.89it/s]\n",
            "100%|██████████| 19/19 [00:10<00:00,  1.90it/s]\n",
            "100%|██████████| 19/19 [00:10<00:00,  1.90it/s]\n",
            "100%|██████████| 38/38 [00:20<00:00,  1.90it/s]\n",
            "100%|██████████| 58/58 [00:30<00:00,  1.90it/s]\n",
            "100%|██████████| 155/155 [00:18<00:00,  8.55it/s]\n"
          ]
        },
        {
          "output_type": "stream",
          "name": "stdout",
          "text": [
            "tf.Tensor(0.5807059, shape=(), dtype=float32)\n",
            "Epoch 28\n"
          ]
        },
        {
          "output_type": "stream",
          "name": "stderr",
          "text": [
            "100%|██████████| 9/9 [00:04<00:00,  1.89it/s]\n",
            "100%|██████████| 9/9 [00:04<00:00,  1.89it/s]\n",
            "100%|██████████| 9/9 [00:04<00:00,  1.89it/s]\n",
            "100%|██████████| 9/9 [00:04<00:00,  1.89it/s]\n",
            "100%|██████████| 19/19 [00:10<00:00,  1.90it/s]\n",
            "100%|██████████| 19/19 [00:10<00:00,  1.90it/s]\n",
            "100%|██████████| 19/19 [00:10<00:00,  1.90it/s]\n",
            "100%|██████████| 38/38 [00:20<00:00,  1.90it/s]\n",
            "100%|██████████| 58/58 [00:30<00:00,  1.90it/s]\n",
            "100%|██████████| 155/155 [00:18<00:00,  8.52it/s]\n"
          ]
        },
        {
          "output_type": "stream",
          "name": "stdout",
          "text": [
            "tf.Tensor(0.59379244, shape=(), dtype=float32)\n",
            "Epoch 29\n"
          ]
        },
        {
          "output_type": "stream",
          "name": "stderr",
          "text": [
            "100%|██████████| 9/9 [00:04<00:00,  1.89it/s]\n",
            "100%|██████████| 9/9 [00:04<00:00,  1.89it/s]\n",
            "100%|██████████| 9/9 [00:04<00:00,  1.90it/s]\n",
            "100%|██████████| 9/9 [00:04<00:00,  1.89it/s]\n",
            "100%|██████████| 19/19 [00:10<00:00,  1.90it/s]\n",
            "100%|██████████| 19/19 [00:10<00:00,  1.90it/s]\n",
            "100%|██████████| 19/19 [00:09<00:00,  1.90it/s]\n",
            "100%|██████████| 38/38 [00:20<00:00,  1.90it/s]\n",
            "100%|██████████| 58/58 [00:30<00:00,  1.90it/s]\n",
            "100%|██████████| 155/155 [00:18<00:00,  8.52it/s]\n"
          ]
        },
        {
          "output_type": "stream",
          "name": "stdout",
          "text": [
            "tf.Tensor(0.60274166, shape=(), dtype=float32)\n",
            "Epoch 30\n"
          ]
        },
        {
          "output_type": "stream",
          "name": "stderr",
          "text": [
            "100%|██████████| 9/9 [00:04<00:00,  1.89it/s]\n",
            "100%|██████████| 9/9 [00:04<00:00,  1.89it/s]\n",
            "100%|██████████| 9/9 [00:04<00:00,  1.89it/s]\n",
            "100%|██████████| 9/9 [00:04<00:00,  1.89it/s]\n",
            "100%|██████████| 19/19 [00:10<00:00,  1.90it/s]\n",
            "100%|██████████| 19/19 [00:10<00:00,  1.89it/s]\n",
            "100%|██████████| 19/19 [00:10<00:00,  1.90it/s]\n",
            "100%|██████████| 38/38 [00:20<00:00,  1.90it/s]\n",
            "100%|██████████| 58/58 [00:30<00:00,  1.90it/s]\n",
            "100%|██████████| 155/155 [00:18<00:00,  8.45it/s]\n"
          ]
        },
        {
          "output_type": "stream",
          "name": "stdout",
          "text": [
            "tf.Tensor(0.5994533, shape=(), dtype=float32)\n",
            "Epoch 31\n"
          ]
        },
        {
          "output_type": "stream",
          "name": "stderr",
          "text": [
            "100%|██████████| 9/9 [00:04<00:00,  1.89it/s]\n",
            "100%|██████████| 9/9 [00:04<00:00,  1.88it/s]\n",
            "100%|██████████| 9/9 [00:04<00:00,  1.89it/s]\n",
            "100%|██████████| 9/9 [00:04<00:00,  1.89it/s]\n",
            "100%|██████████| 19/19 [00:10<00:00,  1.89it/s]\n",
            "100%|██████████| 19/19 [00:10<00:00,  1.90it/s]\n",
            "100%|██████████| 19/19 [00:10<00:00,  1.90it/s]\n",
            "100%|██████████| 38/38 [00:20<00:00,  1.90it/s]\n",
            "100%|██████████| 58/58 [00:30<00:00,  1.90it/s]\n",
            "100%|██████████| 155/155 [00:18<00:00,  8.47it/s]\n"
          ]
        },
        {
          "output_type": "stream",
          "name": "stdout",
          "text": [
            "tf.Tensor(0.6015874, shape=(), dtype=float32)\n",
            "Epoch 32\n"
          ]
        },
        {
          "output_type": "stream",
          "name": "stderr",
          "text": [
            "100%|██████████| 9/9 [00:04<00:00,  1.89it/s]\n",
            "100%|██████████| 9/9 [00:04<00:00,  1.88it/s]\n",
            "100%|██████████| 9/9 [00:04<00:00,  1.89it/s]\n",
            "100%|██████████| 9/9 [00:04<00:00,  1.89it/s]\n",
            "100%|██████████| 19/19 [00:10<00:00,  1.90it/s]\n",
            "100%|██████████| 19/19 [00:10<00:00,  1.89it/s]\n",
            "100%|██████████| 19/19 [00:09<00:00,  1.90it/s]\n",
            "100%|██████████| 38/38 [00:20<00:00,  1.90it/s]\n",
            "100%|██████████| 58/58 [00:30<00:00,  1.90it/s]\n",
            "100%|██████████| 155/155 [00:18<00:00,  8.44it/s]\n"
          ]
        },
        {
          "output_type": "stream",
          "name": "stdout",
          "text": [
            "tf.Tensor(0.60459983, shape=(), dtype=float32)\n",
            "Epoch 33\n"
          ]
        },
        {
          "output_type": "stream",
          "name": "stderr",
          "text": [
            "100%|██████████| 9/9 [00:04<00:00,  1.89it/s]\n",
            "100%|██████████| 9/9 [00:04<00:00,  1.88it/s]\n",
            "100%|██████████| 9/9 [00:04<00:00,  1.88it/s]\n",
            "100%|██████████| 9/9 [00:04<00:00,  1.88it/s]\n",
            "100%|██████████| 19/19 [00:10<00:00,  1.89it/s]\n",
            "100%|██████████| 19/19 [00:10<00:00,  1.89it/s]\n",
            "100%|██████████| 19/19 [00:10<00:00,  1.90it/s]\n",
            "100%|██████████| 38/38 [00:20<00:00,  1.88it/s]\n",
            "100%|██████████| 58/58 [00:30<00:00,  1.89it/s]\n",
            "100%|██████████| 155/155 [00:18<00:00,  8.47it/s]\n"
          ]
        },
        {
          "output_type": "stream",
          "name": "stdout",
          "text": [
            "tf.Tensor(0.6119203, shape=(), dtype=float32)\n",
            "Epoch 34\n"
          ]
        },
        {
          "output_type": "stream",
          "name": "stderr",
          "text": [
            "100%|██████████| 9/9 [00:04<00:00,  1.88it/s]\n",
            "100%|██████████| 9/9 [00:04<00:00,  1.88it/s]\n",
            "100%|██████████| 9/9 [00:04<00:00,  1.88it/s]\n",
            "100%|██████████| 9/9 [00:04<00:00,  1.88it/s]\n",
            "100%|██████████| 19/19 [00:10<00:00,  1.89it/s]\n",
            "100%|██████████| 19/19 [00:10<00:00,  1.89it/s]\n",
            "100%|██████████| 19/19 [00:10<00:00,  1.90it/s]\n",
            "100%|██████████| 38/38 [00:20<00:00,  1.90it/s]\n",
            "100%|██████████| 58/58 [00:30<00:00,  1.89it/s]\n",
            "100%|██████████| 155/155 [00:18<00:00,  8.48it/s]\n"
          ]
        },
        {
          "output_type": "stream",
          "name": "stdout",
          "text": [
            "tf.Tensor(0.5998606, shape=(), dtype=float32)\n",
            "Epoch 35\n"
          ]
        },
        {
          "output_type": "stream",
          "name": "stderr",
          "text": [
            "100%|██████████| 9/9 [00:04<00:00,  1.89it/s]\n",
            "100%|██████████| 9/9 [00:04<00:00,  1.88it/s]\n",
            "100%|██████████| 9/9 [00:04<00:00,  1.88it/s]\n",
            "100%|██████████| 9/9 [00:04<00:00,  1.89it/s]\n",
            "100%|██████████| 19/19 [00:10<00:00,  1.88it/s]\n",
            "100%|██████████| 19/19 [00:10<00:00,  1.90it/s]\n",
            "100%|██████████| 19/19 [00:10<00:00,  1.90it/s]\n",
            "100%|██████████| 38/38 [00:20<00:00,  1.90it/s]\n",
            "100%|██████████| 58/58 [00:30<00:00,  1.90it/s]\n",
            "100%|██████████| 155/155 [00:18<00:00,  8.50it/s]\n"
          ]
        },
        {
          "output_type": "stream",
          "name": "stdout",
          "text": [
            "tf.Tensor(0.6088703, shape=(), dtype=float32)\n",
            "Epoch 36\n"
          ]
        },
        {
          "output_type": "stream",
          "name": "stderr",
          "text": [
            "100%|██████████| 9/9 [00:04<00:00,  1.90it/s]\n",
            "100%|██████████| 9/9 [00:04<00:00,  1.89it/s]\n",
            "100%|██████████| 9/9 [00:04<00:00,  1.88it/s]\n",
            "100%|██████████| 9/9 [00:04<00:00,  1.89it/s]\n",
            "100%|██████████| 19/19 [00:10<00:00,  1.89it/s]\n",
            "100%|██████████| 19/19 [00:10<00:00,  1.90it/s]\n",
            "100%|██████████| 19/19 [00:09<00:00,  1.90it/s]\n",
            "100%|██████████| 38/38 [00:20<00:00,  1.90it/s]\n",
            "100%|██████████| 58/58 [00:30<00:00,  1.90it/s]\n",
            "100%|██████████| 155/155 [00:18<00:00,  8.45it/s]\n"
          ]
        },
        {
          "output_type": "stream",
          "name": "stdout",
          "text": [
            "tf.Tensor(0.6019191, shape=(), dtype=float32)\n",
            "Epoch 37\n"
          ]
        },
        {
          "output_type": "stream",
          "name": "stderr",
          "text": [
            "100%|██████████| 9/9 [00:04<00:00,  1.89it/s]\n",
            "100%|██████████| 9/9 [00:04<00:00,  1.88it/s]\n",
            "100%|██████████| 9/9 [00:04<00:00,  1.89it/s]\n",
            "100%|██████████| 9/9 [00:04<00:00,  1.89it/s]\n",
            "100%|██████████| 19/19 [00:10<00:00,  1.90it/s]\n",
            "100%|██████████| 19/19 [00:10<00:00,  1.90it/s]\n",
            "100%|██████████| 19/19 [00:09<00:00,  1.90it/s]\n",
            "100%|██████████| 38/38 [00:20<00:00,  1.90it/s]\n",
            "100%|██████████| 58/58 [00:30<00:00,  1.90it/s]\n",
            "100%|██████████| 155/155 [00:18<00:00,  8.50it/s]\n"
          ]
        },
        {
          "output_type": "stream",
          "name": "stdout",
          "text": [
            "tf.Tensor(0.6017646, shape=(), dtype=float32)\n",
            "Epoch 38\n"
          ]
        },
        {
          "output_type": "stream",
          "name": "stderr",
          "text": [
            "100%|██████████| 9/9 [00:04<00:00,  1.88it/s]\n",
            "100%|██████████| 9/9 [00:04<00:00,  1.88it/s]\n",
            "100%|██████████| 9/9 [00:04<00:00,  1.89it/s]\n",
            "100%|██████████| 9/9 [00:04<00:00,  1.90it/s]\n",
            "100%|██████████| 19/19 [00:10<00:00,  1.89it/s]\n",
            "100%|██████████| 19/19 [00:10<00:00,  1.90it/s]\n",
            "100%|██████████| 19/19 [00:10<00:00,  1.90it/s]\n",
            "100%|██████████| 38/38 [00:19<00:00,  1.90it/s]\n",
            "100%|██████████| 58/58 [00:30<00:00,  1.90it/s]\n",
            "100%|██████████| 155/155 [00:18<00:00,  8.53it/s]\n"
          ]
        },
        {
          "output_type": "stream",
          "name": "stdout",
          "text": [
            "tf.Tensor(0.60487264, shape=(), dtype=float32)\n",
            "Epoch 39\n"
          ]
        },
        {
          "output_type": "stream",
          "name": "stderr",
          "text": [
            "100%|██████████| 9/9 [00:04<00:00,  1.89it/s]\n",
            "100%|██████████| 9/9 [00:04<00:00,  1.89it/s]\n",
            "100%|██████████| 9/9 [00:04<00:00,  1.90it/s]\n",
            "100%|██████████| 9/9 [00:04<00:00,  1.89it/s]\n",
            "100%|██████████| 19/19 [00:10<00:00,  1.89it/s]\n",
            "100%|██████████| 19/19 [00:10<00:00,  1.90it/s]\n",
            "100%|██████████| 19/19 [00:10<00:00,  1.90it/s]\n",
            "100%|██████████| 38/38 [00:20<00:00,  1.90it/s]\n",
            "100%|██████████| 58/58 [00:30<00:00,  1.90it/s]\n",
            "100%|██████████| 155/155 [00:18<00:00,  8.50it/s]\n"
          ]
        },
        {
          "output_type": "stream",
          "name": "stdout",
          "text": [
            "tf.Tensor(0.6050081, shape=(), dtype=float32)\n",
            "Epoch 40\n"
          ]
        },
        {
          "output_type": "stream",
          "name": "stderr",
          "text": [
            "100%|██████████| 9/9 [00:04<00:00,  1.88it/s]\n",
            "100%|██████████| 9/9 [00:04<00:00,  1.89it/s]\n",
            "100%|██████████| 9/9 [00:04<00:00,  1.89it/s]\n",
            "100%|██████████| 9/9 [00:04<00:00,  1.89it/s]\n",
            "100%|██████████| 19/19 [00:10<00:00,  1.89it/s]\n",
            "100%|██████████| 19/19 [00:10<00:00,  1.89it/s]\n",
            "100%|██████████| 19/19 [00:09<00:00,  1.90it/s]\n",
            "100%|██████████| 38/38 [00:20<00:00,  1.90it/s]\n",
            "100%|██████████| 58/58 [00:30<00:00,  1.90it/s]\n",
            "100%|██████████| 155/155 [00:18<00:00,  8.51it/s]\n"
          ]
        },
        {
          "output_type": "stream",
          "name": "stdout",
          "text": [
            "tf.Tensor(0.601288, shape=(), dtype=float32)\n",
            "Epoch 41\n"
          ]
        },
        {
          "output_type": "stream",
          "name": "stderr",
          "text": [
            "100%|██████████| 9/9 [00:04<00:00,  1.89it/s]\n",
            "100%|██████████| 9/9 [00:04<00:00,  1.89it/s]\n",
            "100%|██████████| 9/9 [00:04<00:00,  1.89it/s]\n",
            "100%|██████████| 9/9 [00:04<00:00,  1.89it/s]\n",
            "100%|██████████| 19/19 [00:10<00:00,  1.89it/s]\n",
            "100%|██████████| 19/19 [00:10<00:00,  1.89it/s]\n",
            "100%|██████████| 19/19 [00:10<00:00,  1.90it/s]\n",
            "100%|██████████| 38/38 [00:20<00:00,  1.90it/s]\n",
            "100%|██████████| 58/58 [00:30<00:00,  1.90it/s]\n",
            "100%|██████████| 155/155 [00:18<00:00,  8.51it/s]\n"
          ]
        },
        {
          "output_type": "stream",
          "name": "stdout",
          "text": [
            "tf.Tensor(0.6040349, shape=(), dtype=float32)\n",
            "Epoch 42\n"
          ]
        },
        {
          "output_type": "stream",
          "name": "stderr",
          "text": [
            "100%|██████████| 9/9 [00:04<00:00,  1.88it/s]\n",
            "100%|██████████| 9/9 [00:04<00:00,  1.89it/s]\n",
            "100%|██████████| 9/9 [00:04<00:00,  1.89it/s]\n",
            "100%|██████████| 9/9 [00:04<00:00,  1.89it/s]\n",
            "100%|██████████| 19/19 [00:10<00:00,  1.90it/s]\n",
            "100%|██████████| 19/19 [00:10<00:00,  1.90it/s]\n",
            "100%|██████████| 19/19 [00:09<00:00,  1.90it/s]\n",
            "100%|██████████| 38/38 [00:19<00:00,  1.90it/s]\n",
            "100%|██████████| 58/58 [00:30<00:00,  1.90it/s]\n",
            "100%|██████████| 155/155 [00:18<00:00,  8.56it/s]\n"
          ]
        },
        {
          "output_type": "stream",
          "name": "stdout",
          "text": [
            "tf.Tensor(0.60641456, shape=(), dtype=float32)\n",
            "Epoch 43\n"
          ]
        },
        {
          "output_type": "stream",
          "name": "stderr",
          "text": [
            "100%|██████████| 9/9 [00:04<00:00,  1.89it/s]\n",
            "100%|██████████| 9/9 [00:04<00:00,  1.89it/s]\n",
            "100%|██████████| 9/9 [00:04<00:00,  1.89it/s]\n",
            "100%|██████████| 9/9 [00:04<00:00,  1.89it/s]\n",
            "100%|██████████| 19/19 [00:10<00:00,  1.89it/s]\n",
            "100%|██████████| 19/19 [00:10<00:00,  1.90it/s]\n",
            "100%|██████████| 19/19 [00:09<00:00,  1.90it/s]\n",
            "100%|██████████| 38/38 [00:20<00:00,  1.90it/s]\n",
            "100%|██████████| 58/58 [00:30<00:00,  1.90it/s]\n",
            "100%|██████████| 155/155 [00:18<00:00,  8.51it/s]\n"
          ]
        },
        {
          "output_type": "stream",
          "name": "stdout",
          "text": [
            "tf.Tensor(0.6033071, shape=(), dtype=float32)\n",
            "Epoch 44\n"
          ]
        },
        {
          "output_type": "stream",
          "name": "stderr",
          "text": [
            "100%|██████████| 9/9 [00:04<00:00,  1.90it/s]\n",
            "100%|██████████| 9/9 [00:04<00:00,  1.89it/s]\n",
            "100%|██████████| 9/9 [00:04<00:00,  1.89it/s]\n",
            "100%|██████████| 9/9 [00:04<00:00,  1.89it/s]\n",
            "100%|██████████| 19/19 [00:10<00:00,  1.89it/s]\n",
            "100%|██████████| 19/19 [00:09<00:00,  1.90it/s]\n",
            "100%|██████████| 19/19 [00:09<00:00,  1.90it/s]\n",
            "100%|██████████| 38/38 [00:19<00:00,  1.90it/s]\n",
            "100%|██████████| 58/58 [00:30<00:00,  1.90it/s]\n",
            "100%|██████████| 155/155 [00:18<00:00,  8.49it/s]\n"
          ]
        },
        {
          "output_type": "stream",
          "name": "stdout",
          "text": [
            "tf.Tensor(0.6051632, shape=(), dtype=float32)\n",
            "Epoch 45\n"
          ]
        },
        {
          "output_type": "stream",
          "name": "stderr",
          "text": [
            "100%|██████████| 9/9 [00:04<00:00,  1.89it/s]\n",
            "100%|██████████| 9/9 [00:04<00:00,  1.89it/s]\n",
            "100%|██████████| 9/9 [00:04<00:00,  1.88it/s]\n",
            "100%|██████████| 9/9 [00:04<00:00,  1.89it/s]\n",
            "100%|██████████| 19/19 [00:10<00:00,  1.89it/s]\n",
            "100%|██████████| 19/19 [00:10<00:00,  1.90it/s]\n",
            "100%|██████████| 19/19 [00:09<00:00,  1.90it/s]\n",
            "100%|██████████| 38/38 [00:19<00:00,  1.91it/s]\n",
            "100%|██████████| 58/58 [00:30<00:00,  1.90it/s]\n",
            "100%|██████████| 155/155 [00:18<00:00,  8.54it/s]\n"
          ]
        },
        {
          "output_type": "stream",
          "name": "stdout",
          "text": [
            "tf.Tensor(0.6052518, shape=(), dtype=float32)\n",
            "Epoch 46\n"
          ]
        },
        {
          "output_type": "stream",
          "name": "stderr",
          "text": [
            "100%|██████████| 9/9 [00:04<00:00,  1.89it/s]\n",
            "100%|██████████| 9/9 [00:04<00:00,  1.89it/s]\n",
            "100%|██████████| 9/9 [00:04<00:00,  1.89it/s]\n",
            "100%|██████████| 9/9 [00:04<00:00,  1.90it/s]\n",
            "100%|██████████| 19/19 [00:10<00:00,  1.89it/s]\n",
            "100%|██████████| 19/19 [00:10<00:00,  1.90it/s]\n",
            "100%|██████████| 19/19 [00:09<00:00,  1.90it/s]\n",
            "100%|██████████| 38/38 [00:20<00:00,  1.90it/s]\n",
            "100%|██████████| 58/58 [00:30<00:00,  1.90it/s]\n",
            "100%|██████████| 155/155 [00:18<00:00,  8.49it/s]\n"
          ]
        },
        {
          "output_type": "stream",
          "name": "stdout",
          "text": [
            "tf.Tensor(0.60671717, shape=(), dtype=float32)\n",
            "Epoch 47\n"
          ]
        },
        {
          "output_type": "stream",
          "name": "stderr",
          "text": [
            "100%|██████████| 9/9 [00:04<00:00,  1.89it/s]\n",
            "100%|██████████| 9/9 [00:04<00:00,  1.89it/s]\n",
            "100%|██████████| 9/9 [00:04<00:00,  1.88it/s]\n",
            "100%|██████████| 9/9 [00:04<00:00,  1.89it/s]\n",
            "100%|██████████| 19/19 [00:10<00:00,  1.89it/s]\n",
            "100%|██████████| 19/19 [00:10<00:00,  1.90it/s]\n",
            "100%|██████████| 19/19 [00:10<00:00,  1.90it/s]\n",
            "100%|██████████| 38/38 [00:20<00:00,  1.90it/s]\n",
            "100%|██████████| 58/58 [00:30<00:00,  1.90it/s]\n",
            "100%|██████████| 155/155 [00:18<00:00,  8.46it/s]\n"
          ]
        },
        {
          "output_type": "stream",
          "name": "stdout",
          "text": [
            "tf.Tensor(0.60826826, shape=(), dtype=float32)\n",
            "Epoch 48\n"
          ]
        },
        {
          "output_type": "stream",
          "name": "stderr",
          "text": [
            "100%|██████████| 9/9 [00:04<00:00,  1.88it/s]\n",
            "100%|██████████| 9/9 [00:04<00:00,  1.89it/s]\n",
            "100%|██████████| 9/9 [00:04<00:00,  1.89it/s]\n",
            "100%|██████████| 9/9 [00:04<00:00,  1.88it/s]\n",
            "100%|██████████| 19/19 [00:10<00:00,  1.89it/s]\n",
            "100%|██████████| 19/19 [00:10<00:00,  1.90it/s]\n",
            "100%|██████████| 19/19 [00:10<00:00,  1.90it/s]\n",
            "100%|██████████| 38/38 [00:19<00:00,  1.90it/s]\n",
            "100%|██████████| 58/58 [00:30<00:00,  1.90it/s]\n",
            "100%|██████████| 155/155 [00:18<00:00,  8.51it/s]\n"
          ]
        },
        {
          "output_type": "stream",
          "name": "stdout",
          "text": [
            "tf.Tensor(0.6081415, shape=(), dtype=float32)\n",
            "Epoch 49\n"
          ]
        },
        {
          "output_type": "stream",
          "name": "stderr",
          "text": [
            "100%|██████████| 9/9 [00:04<00:00,  1.89it/s]\n",
            "100%|██████████| 9/9 [00:04<00:00,  1.88it/s]\n",
            "100%|██████████| 9/9 [00:04<00:00,  1.89it/s]\n",
            "100%|██████████| 9/9 [00:04<00:00,  1.89it/s]\n",
            "100%|██████████| 19/19 [00:10<00:00,  1.90it/s]\n",
            "100%|██████████| 19/19 [00:10<00:00,  1.90it/s]\n",
            "100%|██████████| 19/19 [00:10<00:00,  1.90it/s]\n",
            "100%|██████████| 38/38 [00:19<00:00,  1.91it/s]\n",
            "100%|██████████| 58/58 [00:30<00:00,  1.90it/s]\n",
            "100%|██████████| 155/155 [00:18<00:00,  8.55it/s]\n"
          ]
        },
        {
          "output_type": "stream",
          "name": "stdout",
          "text": [
            "tf.Tensor(0.6104413, shape=(), dtype=float32)\n",
            "Epoch 50\n"
          ]
        },
        {
          "output_type": "stream",
          "name": "stderr",
          "text": [
            "100%|██████████| 9/9 [00:04<00:00,  1.89it/s]\n",
            "100%|██████████| 9/9 [00:04<00:00,  1.90it/s]\n",
            "100%|██████████| 9/9 [00:04<00:00,  1.89it/s]\n",
            "100%|██████████| 9/9 [00:04<00:00,  1.89it/s]\n",
            "100%|██████████| 19/19 [00:10<00:00,  1.90it/s]\n",
            "100%|██████████| 19/19 [00:10<00:00,  1.90it/s]\n",
            "100%|██████████| 19/19 [00:10<00:00,  1.90it/s]\n",
            "100%|██████████| 38/38 [00:19<00:00,  1.90it/s]\n",
            "100%|██████████| 58/58 [00:30<00:00,  1.90it/s]\n",
            "100%|██████████| 155/155 [00:18<00:00,  8.55it/s]\n"
          ]
        },
        {
          "output_type": "stream",
          "name": "stdout",
          "text": [
            "tf.Tensor(0.602433, shape=(), dtype=float32)\n",
            "Epoch 51\n"
          ]
        },
        {
          "output_type": "stream",
          "name": "stderr",
          "text": [
            "100%|██████████| 9/9 [00:04<00:00,  1.89it/s]\n",
            "100%|██████████| 9/9 [00:04<00:00,  1.89it/s]\n",
            "100%|██████████| 9/9 [00:04<00:00,  1.89it/s]\n",
            "100%|██████████| 9/9 [00:04<00:00,  1.89it/s]\n",
            "100%|██████████| 19/19 [00:10<00:00,  1.90it/s]\n",
            "100%|██████████| 19/19 [00:10<00:00,  1.90it/s]\n",
            "100%|██████████| 19/19 [00:10<00:00,  1.90it/s]\n",
            "100%|██████████| 38/38 [00:20<00:00,  1.90it/s]\n",
            "100%|██████████| 58/58 [00:30<00:00,  1.90it/s]\n",
            "100%|██████████| 155/155 [00:18<00:00,  8.52it/s]\n"
          ]
        },
        {
          "output_type": "stream",
          "name": "stdout",
          "text": [
            "tf.Tensor(0.6050856, shape=(), dtype=float32)\n",
            "Epoch 52\n"
          ]
        },
        {
          "output_type": "stream",
          "name": "stderr",
          "text": [
            "100%|██████████| 9/9 [00:04<00:00,  1.89it/s]\n",
            "100%|██████████| 9/9 [00:04<00:00,  1.89it/s]\n",
            "100%|██████████| 9/9 [00:04<00:00,  1.89it/s]\n",
            "100%|██████████| 9/9 [00:04<00:00,  1.90it/s]\n",
            "100%|██████████| 19/19 [00:10<00:00,  1.89it/s]\n",
            "100%|██████████| 19/19 [00:10<00:00,  1.90it/s]\n",
            "100%|██████████| 19/19 [00:10<00:00,  1.90it/s]\n",
            "100%|██████████| 38/38 [00:19<00:00,  1.90it/s]\n",
            "100%|██████████| 58/58 [00:30<00:00,  1.90it/s]\n",
            "100%|██████████| 155/155 [00:18<00:00,  8.55it/s]\n"
          ]
        },
        {
          "output_type": "stream",
          "name": "stdout",
          "text": [
            "tf.Tensor(0.60684097, shape=(), dtype=float32)\n",
            "Epoch 53\n"
          ]
        },
        {
          "output_type": "stream",
          "name": "stderr",
          "text": [
            "100%|██████████| 9/9 [00:04<00:00,  1.88it/s]\n",
            "100%|██████████| 9/9 [00:04<00:00,  1.89it/s]\n",
            "100%|██████████| 9/9 [00:04<00:00,  1.89it/s]\n",
            "100%|██████████| 9/9 [00:04<00:00,  1.89it/s]\n",
            "100%|██████████| 19/19 [00:10<00:00,  1.89it/s]\n",
            "100%|██████████| 19/19 [00:10<00:00,  1.90it/s]\n",
            "100%|██████████| 19/19 [00:10<00:00,  1.90it/s]\n",
            "100%|██████████| 38/38 [00:20<00:00,  1.90it/s]\n",
            "100%|██████████| 58/58 [00:30<00:00,  1.90it/s]\n",
            "100%|██████████| 155/155 [00:18<00:00,  8.50it/s]\n"
          ]
        },
        {
          "output_type": "stream",
          "name": "stdout",
          "text": [
            "tf.Tensor(0.6109965, shape=(), dtype=float32)\n",
            "Epoch 54\n"
          ]
        },
        {
          "output_type": "stream",
          "name": "stderr",
          "text": [
            "100%|██████████| 9/9 [00:04<00:00,  1.89it/s]\n",
            "100%|██████████| 9/9 [00:04<00:00,  1.89it/s]\n",
            "100%|██████████| 9/9 [00:04<00:00,  1.89it/s]\n",
            "100%|██████████| 9/9 [00:04<00:00,  1.89it/s]\n",
            "100%|██████████| 19/19 [00:10<00:00,  1.89it/s]\n",
            "100%|██████████| 19/19 [00:10<00:00,  1.90it/s]\n",
            "100%|██████████| 19/19 [00:10<00:00,  1.90it/s]\n",
            "100%|██████████| 38/38 [00:19<00:00,  1.90it/s]\n",
            "100%|██████████| 58/58 [00:30<00:00,  1.90it/s]\n",
            "100%|██████████| 155/155 [00:18<00:00,  8.50it/s]\n"
          ]
        },
        {
          "output_type": "stream",
          "name": "stdout",
          "text": [
            "tf.Tensor(0.604146, shape=(), dtype=float32)\n",
            "Epoch 55\n"
          ]
        },
        {
          "output_type": "stream",
          "name": "stderr",
          "text": [
            "100%|██████████| 9/9 [00:04<00:00,  1.89it/s]\n",
            "100%|██████████| 9/9 [00:04<00:00,  1.89it/s]\n",
            "100%|██████████| 9/9 [00:04<00:00,  1.89it/s]\n",
            "100%|██████████| 9/9 [00:04<00:00,  1.89it/s]\n",
            "100%|██████████| 19/19 [00:10<00:00,  1.90it/s]\n",
            "100%|██████████| 19/19 [00:09<00:00,  1.90it/s]\n",
            "100%|██████████| 19/19 [00:10<00:00,  1.90it/s]\n",
            "100%|██████████| 38/38 [00:20<00:00,  1.90it/s]\n",
            "100%|██████████| 58/58 [00:30<00:00,  1.90it/s]\n",
            "100%|██████████| 155/155 [00:18<00:00,  8.47it/s]\n"
          ]
        },
        {
          "output_type": "stream",
          "name": "stdout",
          "text": [
            "tf.Tensor(0.6070636, shape=(), dtype=float32)\n",
            "Epoch 56\n"
          ]
        },
        {
          "output_type": "stream",
          "name": "stderr",
          "text": [
            "100%|██████████| 9/9 [00:04<00:00,  1.88it/s]\n",
            "100%|██████████| 9/9 [00:04<00:00,  1.88it/s]\n",
            "100%|██████████| 9/9 [00:04<00:00,  1.89it/s]\n",
            "100%|██████████| 9/9 [00:04<00:00,  1.89it/s]\n",
            "100%|██████████| 19/19 [00:10<00:00,  1.89it/s]\n",
            "100%|██████████| 19/19 [00:10<00:00,  1.90it/s]\n",
            "100%|██████████| 19/19 [00:10<00:00,  1.90it/s]\n",
            "100%|██████████| 38/38 [00:20<00:00,  1.90it/s]\n",
            "100%|██████████| 58/58 [00:30<00:00,  1.90it/s]\n",
            "100%|██████████| 155/155 [00:18<00:00,  8.45it/s]\n"
          ]
        },
        {
          "output_type": "stream",
          "name": "stdout",
          "text": [
            "tf.Tensor(0.6127654, shape=(), dtype=float32)\n",
            "Epoch 57\n"
          ]
        },
        {
          "output_type": "stream",
          "name": "stderr",
          "text": [
            "100%|██████████| 9/9 [00:04<00:00,  1.89it/s]\n",
            "100%|██████████| 9/9 [00:04<00:00,  1.89it/s]\n",
            "100%|██████████| 9/9 [00:04<00:00,  1.89it/s]\n",
            "100%|██████████| 9/9 [00:04<00:00,  1.89it/s]\n",
            "100%|██████████| 19/19 [00:10<00:00,  1.89it/s]\n",
            "100%|██████████| 19/19 [00:10<00:00,  1.90it/s]\n",
            "100%|██████████| 19/19 [00:09<00:00,  1.90it/s]\n",
            "100%|██████████| 38/38 [00:19<00:00,  1.90it/s]\n",
            "100%|██████████| 58/58 [00:30<00:00,  1.90it/s]\n",
            "100%|██████████| 155/155 [00:18<00:00,  8.51it/s]\n"
          ]
        },
        {
          "output_type": "stream",
          "name": "stdout",
          "text": [
            "tf.Tensor(0.6089774, shape=(), dtype=float32)\n",
            "Epoch 58\n"
          ]
        },
        {
          "output_type": "stream",
          "name": "stderr",
          "text": [
            "100%|██████████| 9/9 [00:04<00:00,  1.89it/s]\n",
            "100%|██████████| 9/9 [00:04<00:00,  1.88it/s]\n",
            "100%|██████████| 9/9 [00:04<00:00,  1.88it/s]\n",
            "100%|██████████| 9/9 [00:04<00:00,  1.89it/s]\n",
            "100%|██████████| 19/19 [00:10<00:00,  1.89it/s]\n",
            "100%|██████████| 19/19 [00:09<00:00,  1.90it/s]\n",
            "100%|██████████| 19/19 [00:09<00:00,  1.90it/s]\n",
            "100%|██████████| 38/38 [00:20<00:00,  1.90it/s]\n",
            "100%|██████████| 58/58 [00:30<00:00,  1.90it/s]\n",
            "100%|██████████| 155/155 [00:18<00:00,  8.53it/s]\n"
          ]
        },
        {
          "output_type": "stream",
          "name": "stdout",
          "text": [
            "tf.Tensor(0.6102043, shape=(), dtype=float32)\n",
            "Epoch 59\n"
          ]
        },
        {
          "output_type": "stream",
          "name": "stderr",
          "text": [
            "100%|██████████| 9/9 [00:04<00:00,  1.88it/s]\n",
            "100%|██████████| 9/9 [00:04<00:00,  1.88it/s]\n",
            "100%|██████████| 9/9 [00:04<00:00,  1.88it/s]\n",
            "100%|██████████| 9/9 [00:04<00:00,  1.89it/s]\n",
            "100%|██████████| 19/19 [00:10<00:00,  1.89it/s]\n",
            "100%|██████████| 19/19 [00:10<00:00,  1.89it/s]\n",
            "100%|██████████| 19/19 [00:09<00:00,  1.90it/s]\n",
            "100%|██████████| 38/38 [00:20<00:00,  1.90it/s]\n",
            "100%|██████████| 58/58 [00:30<00:00,  1.89it/s]\n",
            "100%|██████████| 155/155 [00:18<00:00,  8.32it/s]\n"
          ]
        },
        {
          "output_type": "stream",
          "name": "stdout",
          "text": [
            "tf.Tensor(0.6019428, shape=(), dtype=float32)\n",
            "Epoch 60\n"
          ]
        },
        {
          "output_type": "stream",
          "name": "stderr",
          "text": [
            "100%|██████████| 9/9 [00:04<00:00,  1.88it/s]\n",
            "100%|██████████| 9/9 [00:04<00:00,  1.88it/s]\n",
            "100%|██████████| 9/9 [00:04<00:00,  1.87it/s]\n",
            "100%|██████████| 9/9 [00:04<00:00,  1.88it/s]\n",
            "100%|██████████| 19/19 [00:10<00:00,  1.88it/s]\n",
            "100%|██████████| 19/19 [00:10<00:00,  1.89it/s]\n",
            "100%|██████████| 19/19 [00:10<00:00,  1.90it/s]\n",
            "100%|██████████| 38/38 [00:20<00:00,  1.89it/s]\n",
            "100%|██████████| 58/58 [00:30<00:00,  1.89it/s]\n",
            "100%|██████████| 155/155 [00:18<00:00,  8.37it/s]\n"
          ]
        },
        {
          "output_type": "stream",
          "name": "stdout",
          "text": [
            "tf.Tensor(0.6088129, shape=(), dtype=float32)\n",
            "Epoch 61\n"
          ]
        },
        {
          "output_type": "stream",
          "name": "stderr",
          "text": [
            "100%|██████████| 9/9 [00:04<00:00,  1.88it/s]\n",
            "100%|██████████| 9/9 [00:04<00:00,  1.88it/s]\n",
            "100%|██████████| 9/9 [00:04<00:00,  1.89it/s]\n",
            "100%|██████████| 9/9 [00:04<00:00,  1.88it/s]\n",
            "100%|██████████| 19/19 [00:10<00:00,  1.88it/s]\n",
            "100%|██████████| 19/19 [00:10<00:00,  1.89it/s]\n",
            "100%|██████████| 19/19 [00:10<00:00,  1.89it/s]\n",
            "100%|██████████| 38/38 [00:20<00:00,  1.90it/s]\n",
            "100%|██████████| 58/58 [00:30<00:00,  1.90it/s]\n",
            "100%|██████████| 155/155 [00:18<00:00,  8.42it/s]\n"
          ]
        },
        {
          "output_type": "stream",
          "name": "stdout",
          "text": [
            "tf.Tensor(0.6033745, shape=(), dtype=float32)\n",
            "Epoch 62\n"
          ]
        },
        {
          "output_type": "stream",
          "name": "stderr",
          "text": [
            "100%|██████████| 9/9 [00:04<00:00,  1.88it/s]\n",
            "100%|██████████| 9/9 [00:04<00:00,  1.87it/s]\n",
            "100%|██████████| 9/9 [00:04<00:00,  1.88it/s]\n",
            "100%|██████████| 9/9 [00:04<00:00,  1.89it/s]\n",
            "100%|██████████| 19/19 [00:10<00:00,  1.88it/s]\n",
            "100%|██████████| 19/19 [00:10<00:00,  1.89it/s]\n",
            "100%|██████████| 19/19 [00:10<00:00,  1.90it/s]\n",
            "100%|██████████| 38/38 [00:20<00:00,  1.89it/s]\n",
            "100%|██████████| 58/58 [00:30<00:00,  1.89it/s]\n",
            "100%|██████████| 155/155 [00:18<00:00,  8.39it/s]\n"
          ]
        },
        {
          "output_type": "stream",
          "name": "stdout",
          "text": [
            "tf.Tensor(0.605096, shape=(), dtype=float32)\n",
            "Epoch 63\n"
          ]
        },
        {
          "output_type": "stream",
          "name": "stderr",
          "text": [
            "100%|██████████| 9/9 [00:04<00:00,  1.88it/s]\n",
            "100%|██████████| 9/9 [00:04<00:00,  1.88it/s]\n",
            "100%|██████████| 9/9 [00:04<00:00,  1.89it/s]\n",
            "100%|██████████| 9/9 [00:04<00:00,  1.89it/s]\n",
            "100%|██████████| 19/19 [00:10<00:00,  1.89it/s]\n",
            "100%|██████████| 19/19 [00:10<00:00,  1.90it/s]\n",
            "100%|██████████| 19/19 [00:09<00:00,  1.90it/s]\n",
            "100%|██████████| 38/38 [00:20<00:00,  1.90it/s]\n",
            "100%|██████████| 58/58 [00:30<00:00,  1.90it/s]\n",
            "100%|██████████| 155/155 [00:18<00:00,  8.42it/s]\n"
          ]
        },
        {
          "output_type": "stream",
          "name": "stdout",
          "text": [
            "tf.Tensor(0.604115, shape=(), dtype=float32)\n",
            "Epoch 64\n"
          ]
        },
        {
          "output_type": "stream",
          "name": "stderr",
          "text": [
            "100%|██████████| 9/9 [00:04<00:00,  1.88it/s]\n",
            "100%|██████████| 9/9 [00:04<00:00,  1.89it/s]\n",
            "100%|██████████| 9/9 [00:04<00:00,  1.88it/s]\n",
            "100%|██████████| 9/9 [00:04<00:00,  1.88it/s]\n",
            "100%|██████████| 19/19 [00:10<00:00,  1.89it/s]\n",
            "100%|██████████| 19/19 [00:10<00:00,  1.90it/s]\n",
            "100%|██████████| 19/19 [00:10<00:00,  1.90it/s]\n",
            "100%|██████████| 38/38 [00:20<00:00,  1.90it/s]\n",
            "100%|██████████| 58/58 [00:30<00:00,  1.90it/s]\n",
            "100%|██████████| 155/155 [00:18<00:00,  8.47it/s]\n"
          ]
        },
        {
          "output_type": "stream",
          "name": "stdout",
          "text": [
            "tf.Tensor(0.60714114, shape=(), dtype=float32)\n",
            "Epoch 65\n"
          ]
        },
        {
          "output_type": "stream",
          "name": "stderr",
          "text": [
            "100%|██████████| 9/9 [00:04<00:00,  1.89it/s]\n",
            "100%|██████████| 9/9 [00:04<00:00,  1.89it/s]\n",
            "100%|██████████| 9/9 [00:04<00:00,  1.89it/s]\n",
            "100%|██████████| 9/9 [00:04<00:00,  1.89it/s]\n",
            "100%|██████████| 19/19 [00:10<00:00,  1.89it/s]\n",
            "100%|██████████| 19/19 [00:10<00:00,  1.90it/s]\n",
            "100%|██████████| 19/19 [00:10<00:00,  1.90it/s]\n",
            "100%|██████████| 38/38 [00:20<00:00,  1.90it/s]\n",
            "100%|██████████| 58/58 [00:30<00:00,  1.90it/s]\n",
            "100%|██████████| 155/155 [00:18<00:00,  8.45it/s]\n"
          ]
        },
        {
          "output_type": "stream",
          "name": "stdout",
          "text": [
            "tf.Tensor(0.59763354, shape=(), dtype=float32)\n",
            "Epoch 66\n"
          ]
        },
        {
          "output_type": "stream",
          "name": "stderr",
          "text": [
            "100%|██████████| 9/9 [00:04<00:00,  1.88it/s]\n",
            "100%|██████████| 9/9 [00:04<00:00,  1.88it/s]\n",
            "100%|██████████| 9/9 [00:04<00:00,  1.89it/s]\n",
            "100%|██████████| 9/9 [00:04<00:00,  1.89it/s]\n",
            "100%|██████████| 19/19 [00:10<00:00,  1.89it/s]\n",
            "100%|██████████| 19/19 [00:10<00:00,  1.90it/s]\n",
            "100%|██████████| 19/19 [00:09<00:00,  1.90it/s]\n",
            "100%|██████████| 38/38 [00:20<00:00,  1.90it/s]\n",
            "100%|██████████| 58/58 [00:30<00:00,  1.90it/s]\n",
            "100%|██████████| 155/155 [00:18<00:00,  8.48it/s]\n"
          ]
        },
        {
          "output_type": "stream",
          "name": "stdout",
          "text": [
            "tf.Tensor(0.6066113, shape=(), dtype=float32)\n",
            "Epoch 67\n"
          ]
        },
        {
          "output_type": "stream",
          "name": "stderr",
          "text": [
            "100%|██████████| 9/9 [00:04<00:00,  1.89it/s]\n",
            "100%|██████████| 9/9 [00:04<00:00,  1.89it/s]\n",
            "100%|██████████| 9/9 [00:04<00:00,  1.89it/s]\n",
            "100%|██████████| 9/9 [00:04<00:00,  1.89it/s]\n",
            "100%|██████████| 19/19 [00:10<00:00,  1.89it/s]\n",
            "100%|██████████| 19/19 [00:10<00:00,  1.89it/s]\n",
            "100%|██████████| 19/19 [00:10<00:00,  1.90it/s]\n",
            "100%|██████████| 38/38 [00:20<00:00,  1.90it/s]\n",
            "100%|██████████| 58/58 [00:30<00:00,  1.90it/s]\n",
            "100%|██████████| 155/155 [00:18<00:00,  8.50it/s]\n"
          ]
        },
        {
          "output_type": "stream",
          "name": "stdout",
          "text": [
            "tf.Tensor(0.6056598, shape=(), dtype=float32)\n",
            "Epoch 68\n"
          ]
        },
        {
          "output_type": "stream",
          "name": "stderr",
          "text": [
            "100%|██████████| 9/9 [00:04<00:00,  1.89it/s]\n",
            "100%|██████████| 9/9 [00:04<00:00,  1.89it/s]\n",
            "100%|██████████| 9/9 [00:04<00:00,  1.89it/s]\n",
            "100%|██████████| 9/9 [00:04<00:00,  1.89it/s]\n",
            "100%|██████████| 19/19 [00:10<00:00,  1.89it/s]\n",
            "100%|██████████| 19/19 [00:10<00:00,  1.90it/s]\n",
            "100%|██████████| 19/19 [00:09<00:00,  1.90it/s]\n",
            "100%|██████████| 38/38 [00:19<00:00,  1.90it/s]\n",
            "100%|██████████| 58/58 [00:30<00:00,  1.90it/s]\n",
            "100%|██████████| 155/155 [00:18<00:00,  8.46it/s]\n"
          ]
        },
        {
          "output_type": "stream",
          "name": "stdout",
          "text": [
            "tf.Tensor(0.6064549, shape=(), dtype=float32)\n",
            "Epoch 69\n"
          ]
        },
        {
          "output_type": "stream",
          "name": "stderr",
          "text": [
            "100%|██████████| 9/9 [00:04<00:00,  1.88it/s]\n",
            "100%|██████████| 9/9 [00:04<00:00,  1.89it/s]\n",
            "100%|██████████| 9/9 [00:04<00:00,  1.88it/s]\n",
            "100%|██████████| 9/9 [00:04<00:00,  1.89it/s]\n",
            "100%|██████████| 19/19 [00:10<00:00,  1.89it/s]\n",
            "100%|██████████| 19/19 [00:09<00:00,  1.90it/s]\n",
            "100%|██████████| 19/19 [00:09<00:00,  1.90it/s]\n",
            "100%|██████████| 38/38 [00:19<00:00,  1.90it/s]\n",
            "100%|██████████| 58/58 [00:30<00:00,  1.90it/s]\n",
            "100%|██████████| 155/155 [00:18<00:00,  8.50it/s]\n"
          ]
        },
        {
          "output_type": "stream",
          "name": "stdout",
          "text": [
            "tf.Tensor(0.6047123, shape=(), dtype=float32)\n",
            "Epoch 70\n"
          ]
        },
        {
          "output_type": "stream",
          "name": "stderr",
          "text": [
            "100%|██████████| 9/9 [00:04<00:00,  1.89it/s]\n",
            "100%|██████████| 9/9 [00:04<00:00,  1.88it/s]\n",
            "100%|██████████| 9/9 [00:04<00:00,  1.88it/s]\n",
            "100%|██████████| 9/9 [00:04<00:00,  1.89it/s]\n",
            "100%|██████████| 19/19 [00:10<00:00,  1.89it/s]\n",
            "100%|██████████| 19/19 [00:10<00:00,  1.90it/s]\n",
            "100%|██████████| 19/19 [00:09<00:00,  1.90it/s]\n",
            "100%|██████████| 38/38 [00:20<00:00,  1.90it/s]\n",
            "100%|██████████| 58/58 [00:30<00:00,  1.90it/s]\n",
            "100%|██████████| 155/155 [00:18<00:00,  8.50it/s]\n"
          ]
        },
        {
          "output_type": "stream",
          "name": "stdout",
          "text": [
            "tf.Tensor(0.6131838, shape=(), dtype=float32)\n",
            "Epoch 71\n"
          ]
        },
        {
          "output_type": "stream",
          "name": "stderr",
          "text": [
            "100%|██████████| 9/9 [00:04<00:00,  1.89it/s]\n",
            "100%|██████████| 9/9 [00:04<00:00,  1.88it/s]\n",
            "100%|██████████| 9/9 [00:04<00:00,  1.88it/s]\n",
            "100%|██████████| 9/9 [00:04<00:00,  1.89it/s]\n",
            "100%|██████████| 19/19 [00:10<00:00,  1.89it/s]\n",
            "100%|██████████| 19/19 [00:10<00:00,  1.90it/s]\n",
            "100%|██████████| 19/19 [00:09<00:00,  1.90it/s]\n",
            "100%|██████████| 38/38 [00:20<00:00,  1.90it/s]\n",
            "100%|██████████| 58/58 [00:30<00:00,  1.90it/s]\n",
            "100%|██████████| 155/155 [00:18<00:00,  8.48it/s]\n"
          ]
        },
        {
          "output_type": "stream",
          "name": "stdout",
          "text": [
            "tf.Tensor(0.60669464, shape=(), dtype=float32)\n",
            "Epoch 72\n"
          ]
        },
        {
          "output_type": "stream",
          "name": "stderr",
          "text": [
            "100%|██████████| 9/9 [00:04<00:00,  1.89it/s]\n",
            "100%|██████████| 9/9 [00:04<00:00,  1.88it/s]\n",
            "100%|██████████| 9/9 [00:04<00:00,  1.89it/s]\n",
            "100%|██████████| 9/9 [00:04<00:00,  1.89it/s]\n",
            "100%|██████████| 19/19 [00:10<00:00,  1.90it/s]\n",
            "100%|██████████| 19/19 [00:10<00:00,  1.90it/s]\n",
            "100%|██████████| 19/19 [00:09<00:00,  1.90it/s]\n",
            "100%|██████████| 38/38 [00:20<00:00,  1.90it/s]\n",
            "100%|██████████| 58/58 [00:30<00:00,  1.90it/s]\n",
            "100%|██████████| 155/155 [00:18<00:00,  8.44it/s]\n"
          ]
        },
        {
          "output_type": "stream",
          "name": "stdout",
          "text": [
            "tf.Tensor(0.60753465, shape=(), dtype=float32)\n",
            "Epoch 73\n"
          ]
        },
        {
          "output_type": "stream",
          "name": "stderr",
          "text": [
            "100%|██████████| 9/9 [00:04<00:00,  1.89it/s]\n",
            "100%|██████████| 9/9 [00:04<00:00,  1.89it/s]\n",
            "100%|██████████| 9/9 [00:04<00:00,  1.89it/s]\n",
            "100%|██████████| 9/9 [00:04<00:00,  1.90it/s]\n",
            "100%|██████████| 19/19 [00:10<00:00,  1.89it/s]\n",
            "100%|██████████| 19/19 [00:10<00:00,  1.90it/s]\n",
            "100%|██████████| 19/19 [00:10<00:00,  1.90it/s]\n",
            "100%|██████████| 38/38 [00:19<00:00,  1.90it/s]\n",
            "100%|██████████| 58/58 [00:30<00:00,  1.90it/s]\n",
            "100%|██████████| 155/155 [00:18<00:00,  8.50it/s]\n"
          ]
        },
        {
          "output_type": "stream",
          "name": "stdout",
          "text": [
            "tf.Tensor(0.60982126, shape=(), dtype=float32)\n",
            "Epoch 74\n"
          ]
        },
        {
          "output_type": "stream",
          "name": "stderr",
          "text": [
            "100%|██████████| 9/9 [00:04<00:00,  1.89it/s]\n",
            "100%|██████████| 9/9 [00:04<00:00,  1.89it/s]\n",
            "100%|██████████| 9/9 [00:04<00:00,  1.88it/s]\n",
            "100%|██████████| 9/9 [00:04<00:00,  1.88it/s]\n",
            "100%|██████████| 19/19 [00:10<00:00,  1.89it/s]\n",
            "100%|██████████| 19/19 [00:10<00:00,  1.90it/s]\n",
            "100%|██████████| 19/19 [00:10<00:00,  1.90it/s]\n",
            "100%|██████████| 38/38 [00:20<00:00,  1.90it/s]\n",
            "100%|██████████| 58/58 [00:30<00:00,  1.90it/s]\n",
            "100%|██████████| 155/155 [00:18<00:00,  8.42it/s]\n"
          ]
        },
        {
          "output_type": "stream",
          "name": "stdout",
          "text": [
            "tf.Tensor(0.6092808, shape=(), dtype=float32)\n",
            "Epoch 75\n"
          ]
        },
        {
          "output_type": "stream",
          "name": "stderr",
          "text": [
            "100%|██████████| 9/9 [00:04<00:00,  1.88it/s]\n",
            "100%|██████████| 9/9 [00:04<00:00,  1.88it/s]\n",
            "100%|██████████| 9/9 [00:04<00:00,  1.88it/s]\n",
            "100%|██████████| 9/9 [00:04<00:00,  1.89it/s]\n",
            "100%|██████████| 19/19 [00:10<00:00,  1.89it/s]\n",
            "100%|██████████| 19/19 [00:10<00:00,  1.90it/s]\n",
            "100%|██████████| 19/19 [00:09<00:00,  1.90it/s]\n",
            "100%|██████████| 38/38 [00:20<00:00,  1.89it/s]\n",
            "100%|██████████| 58/58 [00:30<00:00,  1.90it/s]\n",
            "100%|██████████| 155/155 [00:18<00:00,  8.47it/s]\n"
          ]
        },
        {
          "output_type": "stream",
          "name": "stdout",
          "text": [
            "tf.Tensor(0.60824, shape=(), dtype=float32)\n",
            "Epoch 76\n"
          ]
        },
        {
          "output_type": "stream",
          "name": "stderr",
          "text": [
            "100%|██████████| 9/9 [00:04<00:00,  1.89it/s]\n",
            "100%|██████████| 9/9 [00:04<00:00,  1.88it/s]\n",
            "100%|██████████| 9/9 [00:04<00:00,  1.89it/s]\n",
            "100%|██████████| 9/9 [00:04<00:00,  1.89it/s]\n",
            "100%|██████████| 19/19 [00:10<00:00,  1.89it/s]\n",
            "100%|██████████| 19/19 [00:10<00:00,  1.90it/s]\n",
            "100%|██████████| 19/19 [00:10<00:00,  1.90it/s]\n",
            "100%|██████████| 38/38 [00:20<00:00,  1.90it/s]\n",
            "100%|██████████| 58/58 [00:30<00:00,  1.90it/s]\n",
            "100%|██████████| 155/155 [00:18<00:00,  8.48it/s]\n"
          ]
        },
        {
          "output_type": "stream",
          "name": "stdout",
          "text": [
            "tf.Tensor(0.61508703, shape=(), dtype=float32)\n",
            "Epoch 77\n"
          ]
        },
        {
          "output_type": "stream",
          "name": "stderr",
          "text": [
            "100%|██████████| 9/9 [00:04<00:00,  1.89it/s]\n",
            "100%|██████████| 9/9 [00:04<00:00,  1.88it/s]\n",
            "100%|██████████| 9/9 [00:04<00:00,  1.89it/s]\n",
            "100%|██████████| 9/9 [00:04<00:00,  1.89it/s]\n",
            "100%|██████████| 19/19 [00:10<00:00,  1.89it/s]\n",
            "100%|██████████| 19/19 [00:10<00:00,  1.90it/s]\n",
            "100%|██████████| 19/19 [00:10<00:00,  1.90it/s]\n",
            "100%|██████████| 38/38 [00:20<00:00,  1.90it/s]\n",
            "100%|██████████| 58/58 [00:30<00:00,  1.88it/s]\n",
            "100%|██████████| 155/155 [00:18<00:00,  8.49it/s]\n"
          ]
        },
        {
          "output_type": "stream",
          "name": "stdout",
          "text": [
            "tf.Tensor(0.6024916, shape=(), dtype=float32)\n",
            "Epoch 78\n"
          ]
        },
        {
          "output_type": "stream",
          "name": "stderr",
          "text": [
            "100%|██████████| 9/9 [00:04<00:00,  1.89it/s]\n",
            "100%|██████████| 9/9 [00:04<00:00,  1.89it/s]\n",
            "100%|██████████| 9/9 [00:04<00:00,  1.90it/s]\n",
            "100%|██████████| 9/9 [00:04<00:00,  1.89it/s]\n",
            "100%|██████████| 19/19 [00:10<00:00,  1.90it/s]\n",
            "100%|██████████| 19/19 [00:10<00:00,  1.90it/s]\n",
            "100%|██████████| 19/19 [00:09<00:00,  1.90it/s]\n",
            "100%|██████████| 38/38 [00:19<00:00,  1.90it/s]\n",
            "100%|██████████| 58/58 [00:30<00:00,  1.90it/s]\n",
            "100%|██████████| 155/155 [00:18<00:00,  8.54it/s]\n"
          ]
        },
        {
          "output_type": "stream",
          "name": "stdout",
          "text": [
            "tf.Tensor(0.60733825, shape=(), dtype=float32)\n",
            "Epoch 79\n"
          ]
        },
        {
          "output_type": "stream",
          "name": "stderr",
          "text": [
            "100%|██████████| 9/9 [00:04<00:00,  1.89it/s]\n",
            "100%|██████████| 9/9 [00:04<00:00,  1.89it/s]\n",
            "100%|██████████| 9/9 [00:04<00:00,  1.90it/s]\n",
            "100%|██████████| 9/9 [00:04<00:00,  1.90it/s]\n",
            "100%|██████████| 19/19 [00:10<00:00,  1.90it/s]\n",
            "100%|██████████| 19/19 [00:10<00:00,  1.90it/s]\n",
            "100%|██████████| 19/19 [00:10<00:00,  1.90it/s]\n",
            "100%|██████████| 38/38 [00:19<00:00,  1.90it/s]\n",
            "100%|██████████| 58/58 [00:30<00:00,  1.90it/s]\n",
            "100%|██████████| 155/155 [00:18<00:00,  8.45it/s]\n"
          ]
        },
        {
          "output_type": "stream",
          "name": "stdout",
          "text": [
            "tf.Tensor(0.60837036, shape=(), dtype=float32)\n",
            "Epoch 80\n"
          ]
        },
        {
          "output_type": "stream",
          "name": "stderr",
          "text": [
            "100%|██████████| 9/9 [00:04<00:00,  1.90it/s]\n",
            "100%|██████████| 9/9 [00:04<00:00,  1.89it/s]\n",
            "100%|██████████| 9/9 [00:04<00:00,  1.90it/s]\n",
            "100%|██████████| 9/9 [00:04<00:00,  1.89it/s]\n",
            "100%|██████████| 19/19 [00:10<00:00,  1.90it/s]\n",
            "100%|██████████| 19/19 [00:09<00:00,  1.90it/s]\n",
            "100%|██████████| 19/19 [00:10<00:00,  1.90it/s]\n",
            "100%|██████████| 38/38 [00:19<00:00,  1.90it/s]\n",
            "100%|██████████| 58/58 [00:30<00:00,  1.90it/s]\n",
            "100%|██████████| 155/155 [00:18<00:00,  8.45it/s]\n"
          ]
        },
        {
          "output_type": "stream",
          "name": "stdout",
          "text": [
            "tf.Tensor(0.61087835, shape=(), dtype=float32)\n",
            "Epoch 81\n"
          ]
        },
        {
          "output_type": "stream",
          "name": "stderr",
          "text": [
            "100%|██████████| 9/9 [00:04<00:00,  1.89it/s]\n",
            "100%|██████████| 9/9 [00:04<00:00,  1.89it/s]\n",
            "100%|██████████| 9/9 [00:04<00:00,  1.89it/s]\n",
            "100%|██████████| 9/9 [00:04<00:00,  1.89it/s]\n",
            "100%|██████████| 19/19 [00:10<00:00,  1.90it/s]\n",
            "100%|██████████| 19/19 [00:10<00:00,  1.90it/s]\n",
            "100%|██████████| 19/19 [00:09<00:00,  1.90it/s]\n",
            "100%|██████████| 38/38 [00:20<00:00,  1.90it/s]\n",
            "100%|██████████| 58/58 [00:30<00:00,  1.90it/s]\n",
            "100%|██████████| 155/155 [00:18<00:00,  8.43it/s]\n"
          ]
        },
        {
          "output_type": "stream",
          "name": "stdout",
          "text": [
            "tf.Tensor(0.6047596, shape=(), dtype=float32)\n",
            "Epoch 82\n"
          ]
        },
        {
          "output_type": "stream",
          "name": "stderr",
          "text": [
            "100%|██████████| 9/9 [00:04<00:00,  1.89it/s]\n",
            "100%|██████████| 9/9 [00:04<00:00,  1.88it/s]\n",
            "100%|██████████| 9/9 [00:04<00:00,  1.89it/s]\n",
            "100%|██████████| 9/9 [00:04<00:00,  1.89it/s]\n",
            "100%|██████████| 19/19 [00:10<00:00,  1.89it/s]\n",
            "100%|██████████| 19/19 [00:10<00:00,  1.89it/s]\n",
            "100%|██████████| 19/19 [00:09<00:00,  1.90it/s]\n",
            "100%|██████████| 38/38 [00:20<00:00,  1.90it/s]\n",
            "100%|██████████| 58/58 [00:30<00:00,  1.90it/s]\n",
            "100%|██████████| 155/155 [00:18<00:00,  8.48it/s]\n"
          ]
        },
        {
          "output_type": "stream",
          "name": "stdout",
          "text": [
            "tf.Tensor(0.6096321, shape=(), dtype=float32)\n",
            "Epoch 83\n"
          ]
        },
        {
          "output_type": "stream",
          "name": "stderr",
          "text": [
            "100%|██████████| 9/9 [00:04<00:00,  1.89it/s]\n",
            "100%|██████████| 9/9 [00:04<00:00,  1.89it/s]\n",
            "100%|██████████| 9/9 [00:04<00:00,  1.89it/s]\n",
            "100%|██████████| 9/9 [00:04<00:00,  1.89it/s]\n",
            "100%|██████████| 19/19 [00:10<00:00,  1.89it/s]\n",
            "100%|██████████| 19/19 [00:10<00:00,  1.89it/s]\n",
            "100%|██████████| 19/19 [00:10<00:00,  1.90it/s]\n",
            "100%|██████████| 38/38 [00:20<00:00,  1.90it/s]\n",
            "100%|██████████| 58/58 [00:30<00:00,  1.90it/s]\n",
            "100%|██████████| 155/155 [00:18<00:00,  8.44it/s]\n"
          ]
        },
        {
          "output_type": "stream",
          "name": "stdout",
          "text": [
            "tf.Tensor(0.6153703, shape=(), dtype=float32)\n",
            "Epoch 84\n"
          ]
        },
        {
          "output_type": "stream",
          "name": "stderr",
          "text": [
            "100%|██████████| 9/9 [00:04<00:00,  1.89it/s]\n",
            "100%|██████████| 9/9 [00:04<00:00,  1.88it/s]\n",
            "100%|██████████| 9/9 [00:04<00:00,  1.88it/s]\n",
            "100%|██████████| 9/9 [00:04<00:00,  1.88it/s]\n",
            "100%|██████████| 19/19 [00:10<00:00,  1.89it/s]\n",
            "100%|██████████| 19/19 [00:10<00:00,  1.90it/s]\n",
            "100%|██████████| 19/19 [00:09<00:00,  1.90it/s]\n",
            "100%|██████████| 38/38 [00:20<00:00,  1.88it/s]\n",
            "100%|██████████| 58/58 [00:30<00:00,  1.90it/s]\n",
            "100%|██████████| 155/155 [00:18<00:00,  8.49it/s]\n"
          ]
        },
        {
          "output_type": "stream",
          "name": "stdout",
          "text": [
            "tf.Tensor(0.6148842, shape=(), dtype=float32)\n",
            "Epoch 85\n"
          ]
        },
        {
          "output_type": "stream",
          "name": "stderr",
          "text": [
            "100%|██████████| 9/9 [00:04<00:00,  1.89it/s]\n",
            "100%|██████████| 9/9 [00:04<00:00,  1.89it/s]\n",
            "100%|██████████| 9/9 [00:04<00:00,  1.89it/s]\n",
            "100%|██████████| 9/9 [00:04<00:00,  1.89it/s]\n",
            "100%|██████████| 19/19 [00:10<00:00,  1.89it/s]\n",
            "100%|██████████| 19/19 [00:10<00:00,  1.90it/s]\n",
            "100%|██████████| 19/19 [00:10<00:00,  1.90it/s]\n",
            "100%|██████████| 38/38 [00:20<00:00,  1.90it/s]\n",
            "100%|██████████| 58/58 [00:30<00:00,  1.90it/s]\n",
            "100%|██████████| 155/155 [00:18<00:00,  8.48it/s]\n"
          ]
        },
        {
          "output_type": "stream",
          "name": "stdout",
          "text": [
            "tf.Tensor(0.60614246, shape=(), dtype=float32)\n",
            "Epoch 86\n"
          ]
        },
        {
          "output_type": "stream",
          "name": "stderr",
          "text": [
            "100%|██████████| 9/9 [00:04<00:00,  1.89it/s]\n",
            "100%|██████████| 9/9 [00:04<00:00,  1.89it/s]\n",
            "100%|██████████| 9/9 [00:04<00:00,  1.88it/s]\n",
            "100%|██████████| 9/9 [00:04<00:00,  1.89it/s]\n",
            "100%|██████████| 19/19 [00:10<00:00,  1.89it/s]\n",
            "100%|██████████| 19/19 [00:10<00:00,  1.90it/s]\n",
            "100%|██████████| 19/19 [00:10<00:00,  1.90it/s]\n",
            "100%|██████████| 38/38 [00:20<00:00,  1.90it/s]\n",
            "100%|██████████| 58/58 [00:30<00:00,  1.90it/s]\n",
            "100%|██████████| 155/155 [00:18<00:00,  8.49it/s]\n"
          ]
        },
        {
          "output_type": "stream",
          "name": "stdout",
          "text": [
            "tf.Tensor(0.61299473, shape=(), dtype=float32)\n",
            "Epoch 87\n"
          ]
        },
        {
          "output_type": "stream",
          "name": "stderr",
          "text": [
            "100%|██████████| 9/9 [00:04<00:00,  1.89it/s]\n",
            "100%|██████████| 9/9 [00:04<00:00,  1.88it/s]\n",
            "100%|██████████| 9/9 [00:04<00:00,  1.89it/s]\n",
            "100%|██████████| 9/9 [00:04<00:00,  1.88it/s]\n",
            "100%|██████████| 19/19 [00:10<00:00,  1.87it/s]\n",
            "100%|██████████| 19/19 [00:10<00:00,  1.89it/s]\n",
            "100%|██████████| 19/19 [00:10<00:00,  1.89it/s]\n",
            "100%|██████████| 38/38 [00:20<00:00,  1.90it/s]\n",
            "100%|██████████| 58/58 [00:30<00:00,  1.90it/s]\n",
            "100%|██████████| 155/155 [00:18<00:00,  8.47it/s]\n"
          ]
        },
        {
          "output_type": "stream",
          "name": "stdout",
          "text": [
            "tf.Tensor(0.6129142, shape=(), dtype=float32)\n",
            "Epoch 88\n"
          ]
        },
        {
          "output_type": "stream",
          "name": "stderr",
          "text": [
            "100%|██████████| 9/9 [00:04<00:00,  1.89it/s]\n",
            "100%|██████████| 9/9 [00:04<00:00,  1.89it/s]\n",
            "100%|██████████| 9/9 [00:04<00:00,  1.89it/s]\n",
            "100%|██████████| 9/9 [00:04<00:00,  1.89it/s]\n",
            "100%|██████████| 19/19 [00:10<00:00,  1.89it/s]\n",
            "100%|██████████| 19/19 [00:10<00:00,  1.90it/s]\n",
            "100%|██████████| 19/19 [00:10<00:00,  1.90it/s]\n",
            "100%|██████████| 38/38 [00:20<00:00,  1.90it/s]\n",
            "100%|██████████| 58/58 [00:30<00:00,  1.90it/s]\n",
            "100%|██████████| 155/155 [00:18<00:00,  8.50it/s]\n"
          ]
        },
        {
          "output_type": "stream",
          "name": "stdout",
          "text": [
            "tf.Tensor(0.6161408, shape=(), dtype=float32)\n",
            "Epoch 89\n"
          ]
        },
        {
          "output_type": "stream",
          "name": "stderr",
          "text": [
            "100%|██████████| 9/9 [00:04<00:00,  1.89it/s]\n",
            "100%|██████████| 9/9 [00:04<00:00,  1.89it/s]\n",
            "100%|██████████| 9/9 [00:04<00:00,  1.89it/s]\n",
            "100%|██████████| 9/9 [00:04<00:00,  1.89it/s]\n",
            "100%|██████████| 19/19 [00:10<00:00,  1.89it/s]\n",
            "100%|██████████| 19/19 [00:09<00:00,  1.90it/s]\n",
            "100%|██████████| 19/19 [00:09<00:00,  1.90it/s]\n",
            "100%|██████████| 38/38 [00:20<00:00,  1.90it/s]\n",
            "100%|██████████| 58/58 [00:30<00:00,  1.90it/s]\n",
            "100%|██████████| 155/155 [00:18<00:00,  8.49it/s]\n"
          ]
        },
        {
          "output_type": "stream",
          "name": "stdout",
          "text": [
            "tf.Tensor(0.60998315, shape=(), dtype=float32)\n",
            "Epoch 90\n"
          ]
        },
        {
          "output_type": "stream",
          "name": "stderr",
          "text": [
            "100%|██████████| 9/9 [00:04<00:00,  1.88it/s]\n",
            "100%|██████████| 9/9 [00:04<00:00,  1.89it/s]\n",
            "100%|██████████| 9/9 [00:04<00:00,  1.89it/s]\n",
            "100%|██████████| 9/9 [00:04<00:00,  1.89it/s]\n",
            "100%|██████████| 19/19 [00:10<00:00,  1.89it/s]\n",
            "100%|██████████| 19/19 [00:10<00:00,  1.90it/s]\n",
            "100%|██████████| 19/19 [00:10<00:00,  1.90it/s]\n",
            "100%|██████████| 38/38 [00:20<00:00,  1.90it/s]\n",
            "100%|██████████| 58/58 [00:30<00:00,  1.89it/s]\n",
            "100%|██████████| 155/155 [00:18<00:00,  8.44it/s]\n"
          ]
        },
        {
          "output_type": "stream",
          "name": "stdout",
          "text": [
            "tf.Tensor(0.60603845, shape=(), dtype=float32)\n",
            "Epoch 91\n"
          ]
        },
        {
          "output_type": "stream",
          "name": "stderr",
          "text": [
            "100%|██████████| 9/9 [00:04<00:00,  1.88it/s]\n",
            "100%|██████████| 9/9 [00:04<00:00,  1.89it/s]\n",
            "100%|██████████| 9/9 [00:04<00:00,  1.88it/s]\n",
            "100%|██████████| 9/9 [00:04<00:00,  1.89it/s]\n",
            "100%|██████████| 19/19 [00:10<00:00,  1.89it/s]\n",
            "100%|██████████| 19/19 [00:10<00:00,  1.89it/s]\n",
            "100%|██████████| 19/19 [00:10<00:00,  1.90it/s]\n",
            "100%|██████████| 38/38 [00:20<00:00,  1.90it/s]\n",
            "100%|██████████| 58/58 [00:30<00:00,  1.89it/s]\n",
            "100%|██████████| 155/155 [00:18<00:00,  8.35it/s]\n"
          ]
        },
        {
          "output_type": "stream",
          "name": "stdout",
          "text": [
            "tf.Tensor(0.61181074, shape=(), dtype=float32)\n",
            "Epoch 92\n"
          ]
        },
        {
          "output_type": "stream",
          "name": "stderr",
          "text": [
            "100%|██████████| 9/9 [00:04<00:00,  1.88it/s]\n",
            "100%|██████████| 9/9 [00:04<00:00,  1.88it/s]\n",
            "100%|██████████| 9/9 [00:04<00:00,  1.88it/s]\n",
            "100%|██████████| 9/9 [00:04<00:00,  1.89it/s]\n",
            "100%|██████████| 19/19 [00:10<00:00,  1.88it/s]\n",
            "100%|██████████| 19/19 [00:10<00:00,  1.90it/s]\n",
            "100%|██████████| 19/19 [00:10<00:00,  1.90it/s]\n",
            "100%|██████████| 38/38 [00:20<00:00,  1.90it/s]\n",
            "100%|██████████| 58/58 [00:30<00:00,  1.89it/s]\n",
            "100%|██████████| 155/155 [00:18<00:00,  8.40it/s]\n"
          ]
        },
        {
          "output_type": "stream",
          "name": "stdout",
          "text": [
            "tf.Tensor(0.6021558, shape=(), dtype=float32)\n",
            "Epoch 93\n"
          ]
        },
        {
          "output_type": "stream",
          "name": "stderr",
          "text": [
            "100%|██████████| 9/9 [00:04<00:00,  1.88it/s]\n",
            "100%|██████████| 9/9 [00:04<00:00,  1.88it/s]\n",
            "100%|██████████| 9/9 [00:04<00:00,  1.88it/s]\n",
            "100%|██████████| 9/9 [00:04<00:00,  1.88it/s]\n",
            "100%|██████████| 19/19 [00:10<00:00,  1.89it/s]\n",
            "100%|██████████| 19/19 [00:10<00:00,  1.89it/s]\n",
            "100%|██████████| 19/19 [00:10<00:00,  1.90it/s]\n",
            "100%|██████████| 38/38 [00:20<00:00,  1.90it/s]\n",
            "100%|██████████| 58/58 [00:30<00:00,  1.90it/s]\n",
            "100%|██████████| 155/155 [00:18<00:00,  8.44it/s]\n"
          ]
        },
        {
          "output_type": "stream",
          "name": "stdout",
          "text": [
            "tf.Tensor(0.6110811, shape=(), dtype=float32)\n",
            "Epoch 94\n"
          ]
        },
        {
          "output_type": "stream",
          "name": "stderr",
          "text": [
            "100%|██████████| 9/9 [00:04<00:00,  1.89it/s]\n",
            "100%|██████████| 9/9 [00:04<00:00,  1.89it/s]\n",
            "100%|██████████| 9/9 [00:04<00:00,  1.88it/s]\n",
            "100%|██████████| 9/9 [00:04<00:00,  1.88it/s]\n",
            "100%|██████████| 19/19 [00:10<00:00,  1.89it/s]\n",
            "100%|██████████| 19/19 [00:10<00:00,  1.89it/s]\n",
            "100%|██████████| 19/19 [00:10<00:00,  1.90it/s]\n",
            "100%|██████████| 38/38 [00:20<00:00,  1.90it/s]\n",
            "100%|██████████| 58/58 [00:30<00:00,  1.90it/s]\n",
            "100%|██████████| 155/155 [00:18<00:00,  8.40it/s]\n"
          ]
        },
        {
          "output_type": "stream",
          "name": "stdout",
          "text": [
            "tf.Tensor(0.60978544, shape=(), dtype=float32)\n",
            "Epoch 95\n"
          ]
        },
        {
          "output_type": "stream",
          "name": "stderr",
          "text": [
            "100%|██████████| 9/9 [00:04<00:00,  1.89it/s]\n",
            "100%|██████████| 9/9 [00:04<00:00,  1.89it/s]\n",
            "100%|██████████| 9/9 [00:04<00:00,  1.90it/s]\n",
            "100%|██████████| 9/9 [00:04<00:00,  1.90it/s]\n",
            "100%|██████████| 19/19 [00:10<00:00,  1.90it/s]\n",
            "100%|██████████| 19/19 [00:10<00:00,  1.90it/s]\n",
            "100%|██████████| 19/19 [00:09<00:00,  1.90it/s]\n",
            "100%|██████████| 38/38 [00:20<00:00,  1.90it/s]\n",
            "100%|██████████| 58/58 [00:30<00:00,  1.89it/s]\n",
            "100%|██████████| 155/155 [00:18<00:00,  8.44it/s]\n"
          ]
        },
        {
          "output_type": "stream",
          "name": "stdout",
          "text": [
            "tf.Tensor(0.60719794, shape=(), dtype=float32)\n",
            "Epoch 96\n"
          ]
        },
        {
          "output_type": "stream",
          "name": "stderr",
          "text": [
            "100%|██████████| 9/9 [00:04<00:00,  1.90it/s]\n",
            "100%|██████████| 9/9 [00:04<00:00,  1.91it/s]\n",
            "100%|██████████| 9/9 [00:04<00:00,  1.91it/s]\n",
            "100%|██████████| 9/9 [00:04<00:00,  1.90it/s]\n",
            "100%|██████████| 19/19 [00:10<00:00,  1.90it/s]\n",
            "100%|██████████| 19/19 [00:09<00:00,  1.90it/s]\n",
            "100%|██████████| 19/19 [00:10<00:00,  1.90it/s]\n",
            "100%|██████████| 38/38 [00:20<00:00,  1.90it/s]\n",
            "100%|██████████| 58/58 [00:30<00:00,  1.90it/s]\n",
            "100%|██████████| 155/155 [00:18<00:00,  8.34it/s]\n"
          ]
        },
        {
          "output_type": "stream",
          "name": "stdout",
          "text": [
            "tf.Tensor(0.6127915, shape=(), dtype=float32)\n",
            "Epoch 97\n"
          ]
        },
        {
          "output_type": "stream",
          "name": "stderr",
          "text": [
            "100%|██████████| 9/9 [00:04<00:00,  1.90it/s]\n",
            "100%|██████████| 9/9 [00:04<00:00,  1.90it/s]\n",
            "100%|██████████| 9/9 [00:04<00:00,  1.91it/s]\n",
            "100%|██████████| 9/9 [00:04<00:00,  1.90it/s]\n",
            "100%|██████████| 19/19 [00:09<00:00,  1.90it/s]\n",
            "100%|██████████| 19/19 [00:10<00:00,  1.90it/s]\n",
            "100%|██████████| 19/19 [00:10<00:00,  1.90it/s]\n",
            "100%|██████████| 38/38 [00:19<00:00,  1.90it/s]\n",
            "100%|██████████| 58/58 [00:30<00:00,  1.90it/s]\n",
            "100%|██████████| 155/155 [00:18<00:00,  8.47it/s]\n"
          ]
        },
        {
          "output_type": "stream",
          "name": "stdout",
          "text": [
            "tf.Tensor(0.60612, shape=(), dtype=float32)\n",
            "Epoch 98\n"
          ]
        },
        {
          "output_type": "stream",
          "name": "stderr",
          "text": [
            "100%|██████████| 9/9 [00:04<00:00,  1.90it/s]\n",
            "100%|██████████| 9/9 [00:04<00:00,  1.91it/s]\n",
            "100%|██████████| 9/9 [00:04<00:00,  1.91it/s]\n",
            "100%|██████████| 9/9 [00:04<00:00,  1.91it/s]\n",
            "100%|██████████| 19/19 [00:09<00:00,  1.90it/s]\n",
            "100%|██████████| 19/19 [00:09<00:00,  1.90it/s]\n",
            "100%|██████████| 19/19 [00:09<00:00,  1.91it/s]\n",
            "100%|██████████| 38/38 [00:19<00:00,  1.90it/s]\n",
            "100%|██████████| 58/58 [00:30<00:00,  1.90it/s]\n",
            "100%|██████████| 155/155 [00:18<00:00,  8.38it/s]\n"
          ]
        },
        {
          "output_type": "stream",
          "name": "stdout",
          "text": [
            "tf.Tensor(0.61067784, shape=(), dtype=float32)\n",
            "Epoch 99\n"
          ]
        },
        {
          "output_type": "stream",
          "name": "stderr",
          "text": [
            "100%|██████████| 9/9 [00:04<00:00,  1.91it/s]\n",
            "100%|██████████| 9/9 [00:04<00:00,  1.92it/s]\n",
            "100%|██████████| 9/9 [00:04<00:00,  1.92it/s]\n",
            "100%|██████████| 9/9 [00:04<00:00,  1.92it/s]\n",
            "100%|██████████| 19/19 [00:09<00:00,  1.91it/s]\n",
            "100%|██████████| 19/19 [00:09<00:00,  1.91it/s]\n",
            "100%|██████████| 19/19 [00:09<00:00,  1.90it/s]\n",
            "100%|██████████| 38/38 [00:19<00:00,  1.91it/s]\n",
            "100%|██████████| 58/58 [00:30<00:00,  1.90it/s]\n",
            "100%|██████████| 155/155 [00:18<00:00,  8.43it/s]\n"
          ]
        },
        {
          "output_type": "stream",
          "name": "stdout",
          "text": [
            "tf.Tensor(0.61081684, shape=(), dtype=float32)\n",
            "Epoch 100\n"
          ]
        },
        {
          "output_type": "stream",
          "name": "stderr",
          "text": [
            "100%|██████████| 9/9 [00:04<00:00,  1.91it/s]\n",
            "100%|██████████| 9/9 [00:04<00:00,  1.91it/s]\n",
            "100%|██████████| 9/9 [00:04<00:00,  1.91it/s]\n",
            "100%|██████████| 9/9 [00:04<00:00,  1.82it/s]\n",
            "100%|██████████| 19/19 [00:09<00:00,  1.90it/s]\n",
            "100%|██████████| 19/19 [00:09<00:00,  1.91it/s]\n",
            "100%|██████████| 19/19 [00:09<00:00,  1.91it/s]\n",
            "100%|██████████| 38/38 [00:20<00:00,  1.90it/s]\n",
            "100%|██████████| 58/58 [00:30<00:00,  1.90it/s]\n",
            "100%|██████████| 155/155 [00:18<00:00,  8.39it/s]\n"
          ]
        },
        {
          "output_type": "stream",
          "name": "stdout",
          "text": [
            "tf.Tensor(0.6046318, shape=(), dtype=float32)\n",
            "Epoch 101\n"
          ]
        },
        {
          "output_type": "stream",
          "name": "stderr",
          "text": [
            "100%|██████████| 9/9 [00:04<00:00,  1.92it/s]\n",
            "100%|██████████| 9/9 [00:04<00:00,  1.91it/s]\n",
            "100%|██████████| 9/9 [00:04<00:00,  1.92it/s]\n",
            "100%|██████████| 9/9 [00:04<00:00,  1.91it/s]\n",
            "100%|██████████| 19/19 [00:09<00:00,  1.90it/s]\n",
            "100%|██████████| 19/19 [00:09<00:00,  1.91it/s]\n",
            "100%|██████████| 19/19 [00:09<00:00,  1.90it/s]\n",
            "100%|██████████| 38/38 [00:19<00:00,  1.90it/s]\n",
            "100%|██████████| 58/58 [00:30<00:00,  1.90it/s]\n",
            "100%|██████████| 155/155 [00:18<00:00,  8.46it/s]\n"
          ]
        },
        {
          "output_type": "stream",
          "name": "stdout",
          "text": [
            "tf.Tensor(0.6109317, shape=(), dtype=float32)\n",
            "Epoch 102\n"
          ]
        },
        {
          "output_type": "stream",
          "name": "stderr",
          "text": [
            "100%|██████████| 9/9 [00:04<00:00,  1.91it/s]\n",
            "100%|██████████| 9/9 [00:04<00:00,  1.91it/s]\n",
            "100%|██████████| 9/9 [00:04<00:00,  1.92it/s]\n",
            "100%|██████████| 9/9 [00:04<00:00,  1.91it/s]\n",
            "100%|██████████| 19/19 [00:09<00:00,  1.91it/s]\n",
            "100%|██████████| 19/19 [00:09<00:00,  1.91it/s]\n",
            "100%|██████████| 19/19 [00:09<00:00,  1.91it/s]\n",
            "100%|██████████| 38/38 [00:19<00:00,  1.91it/s]\n",
            "100%|██████████| 58/58 [00:30<00:00,  1.90it/s]\n",
            "100%|██████████| 155/155 [00:18<00:00,  8.46it/s]\n"
          ]
        },
        {
          "output_type": "stream",
          "name": "stdout",
          "text": [
            "tf.Tensor(0.60974336, shape=(), dtype=float32)\n",
            "Epoch 103\n"
          ]
        },
        {
          "output_type": "stream",
          "name": "stderr",
          "text": [
            "100%|██████████| 9/9 [00:04<00:00,  1.91it/s]\n",
            "100%|██████████| 9/9 [00:04<00:00,  1.92it/s]\n",
            "100%|██████████| 9/9 [00:04<00:00,  1.92it/s]\n",
            "100%|██████████| 9/9 [00:04<00:00,  1.90it/s]\n",
            "100%|██████████| 19/19 [00:09<00:00,  1.90it/s]\n",
            "100%|██████████| 19/19 [00:09<00:00,  1.91it/s]\n",
            "100%|██████████| 19/19 [00:09<00:00,  1.91it/s]\n",
            "100%|██████████| 38/38 [00:19<00:00,  1.91it/s]\n",
            "100%|██████████| 58/58 [00:30<00:00,  1.91it/s]\n",
            "100%|██████████| 155/155 [00:18<00:00,  8.44it/s]\n"
          ]
        },
        {
          "output_type": "stream",
          "name": "stdout",
          "text": [
            "tf.Tensor(0.6113052, shape=(), dtype=float32)\n",
            "Epoch 104\n"
          ]
        },
        {
          "output_type": "stream",
          "name": "stderr",
          "text": [
            "100%|██████████| 9/9 [00:04<00:00,  1.91it/s]\n",
            "100%|██████████| 9/9 [00:04<00:00,  1.91it/s]\n",
            "100%|██████████| 9/9 [00:04<00:00,  1.91it/s]\n",
            "100%|██████████| 9/9 [00:04<00:00,  1.91it/s]\n",
            "100%|██████████| 19/19 [00:09<00:00,  1.91it/s]\n",
            "100%|██████████| 19/19 [00:09<00:00,  1.90it/s]\n",
            "100%|██████████| 19/19 [00:09<00:00,  1.91it/s]\n",
            "100%|██████████| 38/38 [00:19<00:00,  1.90it/s]\n",
            "100%|██████████| 58/58 [00:30<00:00,  1.90it/s]\n",
            "100%|██████████| 155/155 [00:18<00:00,  8.41it/s]\n"
          ]
        },
        {
          "output_type": "stream",
          "name": "stdout",
          "text": [
            "tf.Tensor(0.6074489, shape=(), dtype=float32)\n",
            "Epoch 105\n"
          ]
        },
        {
          "output_type": "stream",
          "name": "stderr",
          "text": [
            "100%|██████████| 9/9 [00:04<00:00,  1.91it/s]\n",
            "100%|██████████| 9/9 [00:04<00:00,  1.92it/s]\n",
            "100%|██████████| 9/9 [00:04<00:00,  1.92it/s]\n",
            "100%|██████████| 9/9 [00:04<00:00,  1.92it/s]\n",
            "100%|██████████| 19/19 [00:09<00:00,  1.91it/s]\n",
            "100%|██████████| 19/19 [00:09<00:00,  1.91it/s]\n",
            "100%|██████████| 19/19 [00:09<00:00,  1.91it/s]\n",
            "100%|██████████| 38/38 [00:19<00:00,  1.90it/s]\n",
            "100%|██████████| 58/58 [00:30<00:00,  1.90it/s]\n",
            "100%|██████████| 155/155 [00:18<00:00,  8.40it/s]\n"
          ]
        },
        {
          "output_type": "stream",
          "name": "stdout",
          "text": [
            "tf.Tensor(0.61022836, shape=(), dtype=float32)\n",
            "Epoch 106\n"
          ]
        },
        {
          "output_type": "stream",
          "name": "stderr",
          "text": [
            "100%|██████████| 9/9 [00:04<00:00,  1.92it/s]\n",
            "100%|██████████| 9/9 [00:04<00:00,  1.92it/s]\n",
            "100%|██████████| 9/9 [00:04<00:00,  1.92it/s]\n",
            "100%|██████████| 9/9 [00:04<00:00,  1.92it/s]\n",
            "100%|██████████| 19/19 [00:09<00:00,  1.91it/s]\n",
            "100%|██████████| 19/19 [00:09<00:00,  1.90it/s]\n",
            "100%|██████████| 19/19 [00:09<00:00,  1.90it/s]\n",
            "100%|██████████| 38/38 [00:19<00:00,  1.90it/s]\n",
            "100%|██████████| 58/58 [00:30<00:00,  1.91it/s]\n",
            "100%|██████████| 155/155 [00:18<00:00,  8.42it/s]\n"
          ]
        },
        {
          "output_type": "stream",
          "name": "stdout",
          "text": [
            "tf.Tensor(0.61201364, shape=(), dtype=float32)\n",
            "Epoch 107\n"
          ]
        },
        {
          "output_type": "stream",
          "name": "stderr",
          "text": [
            "100%|██████████| 9/9 [00:04<00:00,  1.92it/s]\n",
            "100%|██████████| 9/9 [00:04<00:00,  1.92it/s]\n",
            "100%|██████████| 9/9 [00:04<00:00,  1.91it/s]\n",
            "100%|██████████| 9/9 [00:04<00:00,  1.91it/s]\n",
            "100%|██████████| 19/19 [00:09<00:00,  1.91it/s]\n",
            "100%|██████████| 19/19 [00:09<00:00,  1.91it/s]\n",
            "100%|██████████| 19/19 [00:09<00:00,  1.91it/s]\n",
            "100%|██████████| 38/38 [00:19<00:00,  1.90it/s]\n",
            "100%|██████████| 58/58 [00:30<00:00,  1.90it/s]\n",
            "100%|██████████| 155/155 [00:18<00:00,  8.46it/s]\n"
          ]
        },
        {
          "output_type": "stream",
          "name": "stdout",
          "text": [
            "tf.Tensor(0.60742354, shape=(), dtype=float32)\n",
            "Epoch 108\n"
          ]
        },
        {
          "output_type": "stream",
          "name": "stderr",
          "text": [
            "100%|██████████| 9/9 [00:04<00:00,  1.92it/s]\n",
            "100%|██████████| 9/9 [00:04<00:00,  1.92it/s]\n",
            "100%|██████████| 9/9 [00:04<00:00,  1.92it/s]\n",
            "100%|██████████| 9/9 [00:04<00:00,  1.92it/s]\n",
            "100%|██████████| 19/19 [00:09<00:00,  1.91it/s]\n",
            "100%|██████████| 19/19 [00:09<00:00,  1.91it/s]\n",
            "100%|██████████| 19/19 [00:09<00:00,  1.91it/s]\n",
            "100%|██████████| 38/38 [00:19<00:00,  1.91it/s]\n",
            "100%|██████████| 58/58 [00:30<00:00,  1.90it/s]\n",
            "100%|██████████| 155/155 [00:18<00:00,  8.45it/s]\n"
          ]
        },
        {
          "output_type": "stream",
          "name": "stdout",
          "text": [
            "tf.Tensor(0.608135, shape=(), dtype=float32)\n",
            "Epoch 109\n"
          ]
        },
        {
          "output_type": "stream",
          "name": "stderr",
          "text": [
            "100%|██████████| 9/9 [00:04<00:00,  1.91it/s]\n",
            "100%|██████████| 9/9 [00:04<00:00,  1.92it/s]\n",
            "100%|██████████| 9/9 [00:04<00:00,  1.91it/s]\n",
            "100%|██████████| 9/9 [00:04<00:00,  1.91it/s]\n",
            "100%|██████████| 19/19 [00:09<00:00,  1.90it/s]\n",
            "100%|██████████| 19/19 [00:09<00:00,  1.90it/s]\n",
            "100%|██████████| 19/19 [00:09<00:00,  1.91it/s]\n",
            "100%|██████████| 38/38 [00:19<00:00,  1.91it/s]\n",
            "100%|██████████| 58/58 [00:30<00:00,  1.90it/s]\n",
            "100%|██████████| 155/155 [00:18<00:00,  8.48it/s]\n"
          ]
        },
        {
          "output_type": "stream",
          "name": "stdout",
          "text": [
            "tf.Tensor(0.60782295, shape=(), dtype=float32)\n",
            "Epoch 110\n"
          ]
        },
        {
          "output_type": "stream",
          "name": "stderr",
          "text": [
            "100%|██████████| 9/9 [00:04<00:00,  1.91it/s]\n",
            "100%|██████████| 9/9 [00:04<00:00,  1.92it/s]\n",
            "100%|██████████| 9/9 [00:04<00:00,  1.92it/s]\n",
            "100%|██████████| 9/9 [00:04<00:00,  1.92it/s]\n",
            "100%|██████████| 19/19 [00:09<00:00,  1.91it/s]\n",
            "100%|██████████| 19/19 [00:09<00:00,  1.90it/s]\n",
            "100%|██████████| 19/19 [00:09<00:00,  1.90it/s]\n",
            "100%|██████████| 38/38 [00:19<00:00,  1.90it/s]\n",
            "100%|██████████| 58/58 [00:30<00:00,  1.90it/s]\n",
            "100%|██████████| 155/155 [00:18<00:00,  8.38it/s]\n"
          ]
        },
        {
          "output_type": "stream",
          "name": "stdout",
          "text": [
            "tf.Tensor(0.61507815, shape=(), dtype=float32)\n",
            "Epoch 111\n"
          ]
        },
        {
          "output_type": "stream",
          "name": "stderr",
          "text": [
            "100%|██████████| 9/9 [00:04<00:00,  1.91it/s]\n",
            "100%|██████████| 9/9 [00:04<00:00,  1.91it/s]\n",
            "100%|██████████| 9/9 [00:04<00:00,  1.92it/s]\n",
            "100%|██████████| 9/9 [00:04<00:00,  1.91it/s]\n",
            "100%|██████████| 19/19 [00:09<00:00,  1.90it/s]\n",
            "100%|██████████| 19/19 [00:09<00:00,  1.91it/s]\n",
            "100%|██████████| 19/19 [00:09<00:00,  1.90it/s]\n",
            "100%|██████████| 38/38 [00:19<00:00,  1.91it/s]\n",
            "100%|██████████| 58/58 [00:30<00:00,  1.90it/s]\n",
            "100%|██████████| 155/155 [00:18<00:00,  8.48it/s]\n"
          ]
        },
        {
          "output_type": "stream",
          "name": "stdout",
          "text": [
            "tf.Tensor(0.61437535, shape=(), dtype=float32)\n",
            "Epoch 112\n"
          ]
        },
        {
          "output_type": "stream",
          "name": "stderr",
          "text": [
            "100%|██████████| 9/9 [00:04<00:00,  1.92it/s]\n",
            "100%|██████████| 9/9 [00:04<00:00,  1.91it/s]\n",
            "100%|██████████| 9/9 [00:04<00:00,  1.93it/s]\n",
            "100%|██████████| 9/9 [00:04<00:00,  1.92it/s]\n",
            "100%|██████████| 19/19 [00:09<00:00,  1.92it/s]\n",
            "100%|██████████| 19/19 [00:09<00:00,  1.92it/s]\n",
            "100%|██████████| 19/19 [00:09<00:00,  1.91it/s]\n",
            "100%|██████████| 38/38 [00:19<00:00,  1.90it/s]\n",
            "100%|██████████| 58/58 [00:30<00:00,  1.90it/s]\n",
            "100%|██████████| 155/155 [00:18<00:00,  8.45it/s]\n"
          ]
        },
        {
          "output_type": "stream",
          "name": "stdout",
          "text": [
            "tf.Tensor(0.6133256, shape=(), dtype=float32)\n",
            "Epoch 113\n"
          ]
        },
        {
          "output_type": "stream",
          "name": "stderr",
          "text": [
            "100%|██████████| 9/9 [00:04<00:00,  1.91it/s]\n",
            "100%|██████████| 9/9 [00:04<00:00,  1.91it/s]\n",
            "100%|██████████| 9/9 [00:04<00:00,  1.91it/s]\n",
            "100%|██████████| 9/9 [00:04<00:00,  1.91it/s]\n",
            "100%|██████████| 19/19 [00:09<00:00,  1.90it/s]\n",
            "100%|██████████| 19/19 [00:10<00:00,  1.90it/s]\n",
            "100%|██████████| 19/19 [00:09<00:00,  1.90it/s]\n",
            "100%|██████████| 38/38 [00:19<00:00,  1.90it/s]\n",
            "100%|██████████| 58/58 [00:30<00:00,  1.90it/s]\n",
            "100%|██████████| 155/155 [00:18<00:00,  8.44it/s]\n"
          ]
        },
        {
          "output_type": "stream",
          "name": "stdout",
          "text": [
            "tf.Tensor(0.6125817, shape=(), dtype=float32)\n",
            "Epoch 114\n"
          ]
        },
        {
          "output_type": "stream",
          "name": "stderr",
          "text": [
            "100%|██████████| 9/9 [00:04<00:00,  1.92it/s]\n",
            "100%|██████████| 9/9 [00:04<00:00,  1.92it/s]\n",
            "100%|██████████| 9/9 [00:04<00:00,  1.92it/s]\n",
            "100%|██████████| 9/9 [00:04<00:00,  1.91it/s]\n",
            "100%|██████████| 19/19 [00:09<00:00,  1.91it/s]\n",
            "100%|██████████| 19/19 [00:09<00:00,  1.91it/s]\n",
            "100%|██████████| 19/19 [00:09<00:00,  1.90it/s]\n",
            "100%|██████████| 38/38 [00:19<00:00,  1.91it/s]\n",
            "100%|██████████| 58/58 [00:30<00:00,  1.90it/s]\n",
            "100%|██████████| 155/155 [00:18<00:00,  8.43it/s]\n"
          ]
        },
        {
          "output_type": "stream",
          "name": "stdout",
          "text": [
            "tf.Tensor(0.6103351, shape=(), dtype=float32)\n",
            "Epoch 115\n"
          ]
        },
        {
          "output_type": "stream",
          "name": "stderr",
          "text": [
            "100%|██████████| 9/9 [00:04<00:00,  1.91it/s]\n",
            "100%|██████████| 9/9 [00:04<00:00,  1.92it/s]\n",
            "100%|██████████| 9/9 [00:04<00:00,  1.92it/s]\n",
            "100%|██████████| 9/9 [00:04<00:00,  1.92it/s]\n",
            "100%|██████████| 19/19 [00:09<00:00,  1.91it/s]\n",
            "100%|██████████| 19/19 [00:09<00:00,  1.92it/s]\n",
            "100%|██████████| 19/19 [00:09<00:00,  1.91it/s]\n",
            "100%|██████████| 38/38 [00:19<00:00,  1.91it/s]\n",
            "100%|██████████| 58/58 [00:30<00:00,  1.90it/s]\n",
            "100%|██████████| 155/155 [00:18<00:00,  8.44it/s]\n"
          ]
        },
        {
          "output_type": "stream",
          "name": "stdout",
          "text": [
            "tf.Tensor(0.6167204, shape=(), dtype=float32)\n",
            "Epoch 116\n"
          ]
        },
        {
          "output_type": "stream",
          "name": "stderr",
          "text": [
            "100%|██████████| 9/9 [00:04<00:00,  1.92it/s]\n",
            "100%|██████████| 9/9 [00:04<00:00,  1.91it/s]\n",
            "100%|██████████| 9/9 [00:04<00:00,  1.92it/s]\n",
            "100%|██████████| 9/9 [00:04<00:00,  1.91it/s]\n",
            "100%|██████████| 19/19 [00:09<00:00,  1.91it/s]\n",
            "100%|██████████| 19/19 [00:09<00:00,  1.91it/s]\n",
            "100%|██████████| 19/19 [00:10<00:00,  1.90it/s]\n",
            "100%|██████████| 38/38 [00:19<00:00,  1.90it/s]\n",
            "100%|██████████| 58/58 [00:30<00:00,  1.90it/s]\n",
            "100%|██████████| 155/155 [00:18<00:00,  8.44it/s]\n"
          ]
        },
        {
          "output_type": "stream",
          "name": "stdout",
          "text": [
            "tf.Tensor(0.6092807, shape=(), dtype=float32)\n",
            "Epoch 117\n"
          ]
        },
        {
          "output_type": "stream",
          "name": "stderr",
          "text": [
            "100%|██████████| 9/9 [00:04<00:00,  1.91it/s]\n",
            "100%|██████████| 9/9 [00:04<00:00,  1.92it/s]\n",
            "100%|██████████| 9/9 [00:04<00:00,  1.92it/s]\n",
            "100%|██████████| 9/9 [00:04<00:00,  1.91it/s]\n",
            "100%|██████████| 19/19 [00:09<00:00,  1.91it/s]\n",
            "100%|██████████| 19/19 [00:09<00:00,  1.91it/s]\n",
            "100%|██████████| 19/19 [00:09<00:00,  1.91it/s]\n",
            "100%|██████████| 38/38 [00:19<00:00,  1.90it/s]\n",
            "100%|██████████| 58/58 [00:30<00:00,  1.90it/s]\n",
            "100%|██████████| 155/155 [00:18<00:00,  8.42it/s]\n"
          ]
        },
        {
          "output_type": "stream",
          "name": "stdout",
          "text": [
            "tf.Tensor(0.61096585, shape=(), dtype=float32)\n",
            "Epoch 118\n"
          ]
        },
        {
          "output_type": "stream",
          "name": "stderr",
          "text": [
            "100%|██████████| 9/9 [00:04<00:00,  1.91it/s]\n",
            "100%|██████████| 9/9 [00:04<00:00,  1.92it/s]\n",
            "100%|██████████| 9/9 [00:04<00:00,  1.92it/s]\n",
            "100%|██████████| 9/9 [00:04<00:00,  1.92it/s]\n",
            "100%|██████████| 19/19 [00:09<00:00,  1.90it/s]\n",
            "100%|██████████| 19/19 [00:09<00:00,  1.91it/s]\n",
            "100%|██████████| 19/19 [00:09<00:00,  1.90it/s]\n",
            "100%|██████████| 38/38 [00:19<00:00,  1.90it/s]\n",
            "100%|██████████| 58/58 [00:30<00:00,  1.90it/s]\n",
            "100%|██████████| 155/155 [00:18<00:00,  8.44it/s]\n"
          ]
        },
        {
          "output_type": "stream",
          "name": "stdout",
          "text": [
            "tf.Tensor(0.61053497, shape=(), dtype=float32)\n",
            "Epoch 119\n"
          ]
        },
        {
          "output_type": "stream",
          "name": "stderr",
          "text": [
            "100%|██████████| 9/9 [00:04<00:00,  1.92it/s]\n",
            "100%|██████████| 9/9 [00:04<00:00,  1.91it/s]\n",
            "100%|██████████| 9/9 [00:04<00:00,  1.91it/s]\n",
            "100%|██████████| 9/9 [00:04<00:00,  1.92it/s]\n",
            "100%|██████████| 19/19 [00:09<00:00,  1.91it/s]\n",
            "100%|██████████| 19/19 [00:09<00:00,  1.91it/s]\n",
            "100%|██████████| 19/19 [00:09<00:00,  1.91it/s]\n",
            "100%|██████████| 38/38 [00:19<00:00,  1.90it/s]\n",
            "100%|██████████| 58/58 [00:30<00:00,  1.90it/s]\n",
            "100%|██████████| 155/155 [00:18<00:00,  8.48it/s]\n"
          ]
        },
        {
          "output_type": "stream",
          "name": "stdout",
          "text": [
            "tf.Tensor(0.60811174, shape=(), dtype=float32)\n",
            "Epoch 120\n"
          ]
        },
        {
          "output_type": "stream",
          "name": "stderr",
          "text": [
            "100%|██████████| 9/9 [00:04<00:00,  1.92it/s]\n",
            "100%|██████████| 9/9 [00:04<00:00,  1.92it/s]\n",
            "100%|██████████| 9/9 [00:04<00:00,  1.92it/s]\n",
            "100%|██████████| 9/9 [00:04<00:00,  1.91it/s]\n",
            "100%|██████████| 19/19 [00:09<00:00,  1.91it/s]\n",
            "100%|██████████| 19/19 [00:09<00:00,  1.91it/s]\n",
            "100%|██████████| 19/19 [00:09<00:00,  1.91it/s]\n",
            "100%|██████████| 38/38 [00:19<00:00,  1.90it/s]\n",
            "100%|██████████| 58/58 [00:30<00:00,  1.90it/s]\n",
            "100%|██████████| 155/155 [00:18<00:00,  8.41it/s]\n"
          ]
        },
        {
          "output_type": "stream",
          "name": "stdout",
          "text": [
            "tf.Tensor(0.6120872, shape=(), dtype=float32)\n",
            "Epoch 121\n"
          ]
        },
        {
          "output_type": "stream",
          "name": "stderr",
          "text": [
            "100%|██████████| 9/9 [00:04<00:00,  1.92it/s]\n",
            "100%|██████████| 9/9 [00:04<00:00,  1.91it/s]\n",
            "100%|██████████| 9/9 [00:04<00:00,  1.92it/s]\n",
            "100%|██████████| 9/9 [00:04<00:00,  1.92it/s]\n",
            "100%|██████████| 19/19 [00:09<00:00,  1.91it/s]\n",
            "100%|██████████| 19/19 [00:09<00:00,  1.91it/s]\n",
            "100%|██████████| 19/19 [00:09<00:00,  1.91it/s]\n",
            "100%|██████████| 38/38 [00:19<00:00,  1.91it/s]\n",
            "100%|██████████| 58/58 [00:30<00:00,  1.90it/s]\n",
            "100%|██████████| 155/155 [00:18<00:00,  8.49it/s]\n"
          ]
        },
        {
          "output_type": "stream",
          "name": "stdout",
          "text": [
            "tf.Tensor(0.6110938, shape=(), dtype=float32)\n",
            "Epoch 122\n"
          ]
        },
        {
          "output_type": "stream",
          "name": "stderr",
          "text": [
            "100%|██████████| 9/9 [00:04<00:00,  1.92it/s]\n",
            "100%|██████████| 9/9 [00:04<00:00,  1.92it/s]\n",
            "100%|██████████| 9/9 [00:04<00:00,  1.92it/s]\n",
            "100%|██████████| 9/9 [00:04<00:00,  1.92it/s]\n",
            "100%|██████████| 19/19 [00:09<00:00,  1.91it/s]\n",
            "100%|██████████| 19/19 [00:09<00:00,  1.90it/s]\n",
            "100%|██████████| 19/19 [00:10<00:00,  1.90it/s]\n",
            "100%|██████████| 38/38 [00:20<00:00,  1.90it/s]\n",
            "100%|██████████| 58/58 [00:30<00:00,  1.91it/s]\n",
            "100%|██████████| 155/155 [00:18<00:00,  8.46it/s]\n"
          ]
        },
        {
          "output_type": "stream",
          "name": "stdout",
          "text": [
            "tf.Tensor(0.6146745, shape=(), dtype=float32)\n",
            "Epoch 123\n"
          ]
        },
        {
          "output_type": "stream",
          "name": "stderr",
          "text": [
            "100%|██████████| 9/9 [00:04<00:00,  1.91it/s]\n",
            "100%|██████████| 9/9 [00:04<00:00,  1.91it/s]\n",
            "100%|██████████| 9/9 [00:04<00:00,  1.91it/s]\n",
            "100%|██████████| 9/9 [00:04<00:00,  1.92it/s]\n",
            "100%|██████████| 19/19 [00:09<00:00,  1.91it/s]\n",
            "100%|██████████| 19/19 [00:09<00:00,  1.91it/s]\n",
            "100%|██████████| 19/19 [00:09<00:00,  1.91it/s]\n",
            "100%|██████████| 38/38 [00:19<00:00,  1.90it/s]\n",
            "100%|██████████| 58/58 [00:30<00:00,  1.91it/s]\n",
            "100%|██████████| 155/155 [00:18<00:00,  8.48it/s]\n"
          ]
        },
        {
          "output_type": "stream",
          "name": "stdout",
          "text": [
            "tf.Tensor(0.6117231, shape=(), dtype=float32)\n",
            "Epoch 124\n"
          ]
        },
        {
          "output_type": "stream",
          "name": "stderr",
          "text": [
            "100%|██████████| 9/9 [00:04<00:00,  1.92it/s]\n",
            "100%|██████████| 9/9 [00:04<00:00,  1.93it/s]\n",
            "100%|██████████| 9/9 [00:04<00:00,  1.92it/s]\n",
            "100%|██████████| 9/9 [00:04<00:00,  1.92it/s]\n",
            "100%|██████████| 19/19 [00:09<00:00,  1.91it/s]\n",
            "100%|██████████| 19/19 [00:09<00:00,  1.92it/s]\n",
            "100%|██████████| 19/19 [00:09<00:00,  1.91it/s]\n",
            "100%|██████████| 38/38 [00:19<00:00,  1.91it/s]\n",
            "100%|██████████| 58/58 [00:30<00:00,  1.91it/s]\n",
            "100%|██████████| 155/155 [00:18<00:00,  8.46it/s]\n"
          ]
        },
        {
          "output_type": "stream",
          "name": "stdout",
          "text": [
            "tf.Tensor(0.6125896, shape=(), dtype=float32)\n",
            "Epoch 125\n"
          ]
        },
        {
          "output_type": "stream",
          "name": "stderr",
          "text": [
            "100%|██████████| 9/9 [00:04<00:00,  1.91it/s]\n",
            "100%|██████████| 9/9 [00:04<00:00,  1.92it/s]\n",
            "100%|██████████| 9/9 [00:04<00:00,  1.91it/s]\n",
            "100%|██████████| 9/9 [00:04<00:00,  1.91it/s]\n",
            "100%|██████████| 19/19 [00:09<00:00,  1.91it/s]\n",
            "100%|██████████| 19/19 [00:09<00:00,  1.91it/s]\n",
            "100%|██████████| 19/19 [00:09<00:00,  1.91it/s]\n",
            "100%|██████████| 38/38 [00:20<00:00,  1.90it/s]\n",
            "100%|██████████| 58/58 [00:30<00:00,  1.90it/s]\n",
            "100%|██████████| 155/155 [00:18<00:00,  8.38it/s]\n"
          ]
        },
        {
          "output_type": "stream",
          "name": "stdout",
          "text": [
            "tf.Tensor(0.61684245, shape=(), dtype=float32)\n",
            "Epoch 126\n"
          ]
        },
        {
          "output_type": "stream",
          "name": "stderr",
          "text": [
            "100%|██████████| 9/9 [00:04<00:00,  1.91it/s]\n",
            "100%|██████████| 9/9 [00:04<00:00,  1.91it/s]\n",
            "100%|██████████| 9/9 [00:04<00:00,  1.91it/s]\n",
            "100%|██████████| 9/9 [00:04<00:00,  1.91it/s]\n",
            "100%|██████████| 19/19 [00:09<00:00,  1.90it/s]\n",
            "100%|██████████| 19/19 [00:09<00:00,  1.90it/s]\n",
            "100%|██████████| 19/19 [00:09<00:00,  1.91it/s]\n",
            "100%|██████████| 38/38 [00:19<00:00,  1.90it/s]\n",
            "100%|██████████| 58/58 [00:30<00:00,  1.90it/s]\n",
            "100%|██████████| 155/155 [00:18<00:00,  8.46it/s]\n"
          ]
        },
        {
          "output_type": "stream",
          "name": "stdout",
          "text": [
            "tf.Tensor(0.61434287, shape=(), dtype=float32)\n",
            "Epoch 127\n"
          ]
        },
        {
          "output_type": "stream",
          "name": "stderr",
          "text": [
            "100%|██████████| 9/9 [00:04<00:00,  1.91it/s]\n",
            "100%|██████████| 9/9 [00:04<00:00,  1.92it/s]\n",
            "100%|██████████| 9/9 [00:04<00:00,  1.91it/s]\n",
            "100%|██████████| 9/9 [00:04<00:00,  1.91it/s]\n",
            "100%|██████████| 19/19 [00:09<00:00,  1.91it/s]\n",
            "100%|██████████| 19/19 [00:09<00:00,  1.90it/s]\n",
            "100%|██████████| 19/19 [00:10<00:00,  1.90it/s]\n",
            "100%|██████████| 38/38 [00:19<00:00,  1.90it/s]\n",
            "100%|██████████| 58/58 [00:30<00:00,  1.90it/s]\n",
            "100%|██████████| 155/155 [00:18<00:00,  8.46it/s]\n"
          ]
        },
        {
          "output_type": "stream",
          "name": "stdout",
          "text": [
            "tf.Tensor(0.6100297, shape=(), dtype=float32)\n",
            "Epoch 128\n"
          ]
        },
        {
          "output_type": "stream",
          "name": "stderr",
          "text": [
            "100%|██████████| 9/9 [00:04<00:00,  1.92it/s]\n",
            "100%|██████████| 9/9 [00:04<00:00,  1.91it/s]\n",
            "100%|██████████| 9/9 [00:04<00:00,  1.92it/s]\n",
            "100%|██████████| 9/9 [00:04<00:00,  1.91it/s]\n",
            "100%|██████████| 19/19 [00:09<00:00,  1.91it/s]\n",
            "100%|██████████| 19/19 [00:09<00:00,  1.90it/s]\n",
            "100%|██████████| 19/19 [00:09<00:00,  1.90it/s]\n",
            "100%|██████████| 38/38 [00:19<00:00,  1.90it/s]\n",
            "100%|██████████| 58/58 [00:30<00:00,  1.90it/s]\n",
            "100%|██████████| 155/155 [00:18<00:00,  8.43it/s]\n"
          ]
        },
        {
          "output_type": "stream",
          "name": "stdout",
          "text": [
            "tf.Tensor(0.61473197, shape=(), dtype=float32)\n",
            "Epoch 129\n"
          ]
        },
        {
          "output_type": "stream",
          "name": "stderr",
          "text": [
            "100%|██████████| 9/9 [00:04<00:00,  1.92it/s]\n",
            "100%|██████████| 9/9 [00:04<00:00,  1.92it/s]\n",
            "100%|██████████| 9/9 [00:04<00:00,  1.92it/s]\n",
            "100%|██████████| 9/9 [00:04<00:00,  1.92it/s]\n",
            "100%|██████████| 19/19 [00:09<00:00,  1.91it/s]\n",
            "100%|██████████| 19/19 [00:09<00:00,  1.91it/s]\n",
            "100%|██████████| 19/19 [00:09<00:00,  1.91it/s]\n",
            "100%|██████████| 38/38 [00:19<00:00,  1.90it/s]\n",
            "100%|██████████| 58/58 [00:30<00:00,  1.90it/s]\n",
            "100%|██████████| 155/155 [00:18<00:00,  8.43it/s]\n"
          ]
        },
        {
          "output_type": "stream",
          "name": "stdout",
          "text": [
            "tf.Tensor(0.61494195, shape=(), dtype=float32)\n",
            "Epoch 130\n"
          ]
        },
        {
          "output_type": "stream",
          "name": "stderr",
          "text": [
            "100%|██████████| 9/9 [00:04<00:00,  1.91it/s]\n",
            "100%|██████████| 9/9 [00:04<00:00,  1.91it/s]\n",
            "100%|██████████| 9/9 [00:04<00:00,  1.92it/s]\n",
            "100%|██████████| 9/9 [00:04<00:00,  1.91it/s]\n",
            "100%|██████████| 19/19 [00:09<00:00,  1.91it/s]\n",
            "100%|██████████| 19/19 [00:09<00:00,  1.91it/s]\n",
            "100%|██████████| 19/19 [00:09<00:00,  1.91it/s]\n",
            "100%|██████████| 38/38 [00:19<00:00,  1.91it/s]\n",
            "100%|██████████| 58/58 [00:30<00:00,  1.90it/s]\n",
            "100%|██████████| 155/155 [00:18<00:00,  8.42it/s]\n"
          ]
        },
        {
          "output_type": "stream",
          "name": "stdout",
          "text": [
            "tf.Tensor(0.6101212, shape=(), dtype=float32)\n",
            "Epoch 131\n"
          ]
        },
        {
          "output_type": "stream",
          "name": "stderr",
          "text": [
            "100%|██████████| 9/9 [00:04<00:00,  1.91it/s]\n",
            "100%|██████████| 9/9 [00:04<00:00,  1.91it/s]\n",
            "100%|██████████| 9/9 [00:04<00:00,  1.91it/s]\n",
            "100%|██████████| 9/9 [00:04<00:00,  1.91it/s]\n",
            "100%|██████████| 19/19 [00:09<00:00,  1.90it/s]\n",
            "100%|██████████| 19/19 [00:09<00:00,  1.90it/s]\n",
            "100%|██████████| 19/19 [00:09<00:00,  1.91it/s]\n",
            "100%|██████████| 38/38 [00:19<00:00,  1.90it/s]\n",
            "100%|██████████| 58/58 [00:30<00:00,  1.90it/s]\n",
            "100%|██████████| 155/155 [00:18<00:00,  8.47it/s]\n"
          ]
        },
        {
          "output_type": "stream",
          "name": "stdout",
          "text": [
            "tf.Tensor(0.60968584, shape=(), dtype=float32)\n",
            "Epoch 132\n"
          ]
        },
        {
          "output_type": "stream",
          "name": "stderr",
          "text": [
            "100%|██████████| 9/9 [00:04<00:00,  1.91it/s]\n",
            "100%|██████████| 9/9 [00:04<00:00,  1.91it/s]\n",
            "100%|██████████| 9/9 [00:04<00:00,  1.90it/s]\n",
            "100%|██████████| 9/9 [00:04<00:00,  1.91it/s]\n",
            "100%|██████████| 19/19 [00:10<00:00,  1.90it/s]\n",
            "100%|██████████| 19/19 [00:10<00:00,  1.90it/s]\n",
            "100%|██████████| 19/19 [00:09<00:00,  1.90it/s]\n",
            "100%|██████████| 38/38 [00:20<00:00,  1.90it/s]\n",
            "100%|██████████| 58/58 [00:30<00:00,  1.90it/s]\n",
            "100%|██████████| 155/155 [00:18<00:00,  8.53it/s]\n"
          ]
        },
        {
          "output_type": "stream",
          "name": "stdout",
          "text": [
            "tf.Tensor(0.61143017, shape=(), dtype=float32)\n",
            "Epoch 133\n"
          ]
        },
        {
          "output_type": "stream",
          "name": "stderr",
          "text": [
            "100%|██████████| 9/9 [00:04<00:00,  1.91it/s]\n",
            "100%|██████████| 9/9 [00:04<00:00,  1.91it/s]\n",
            "100%|██████████| 9/9 [00:04<00:00,  1.91it/s]\n",
            "100%|██████████| 9/9 [00:04<00:00,  1.91it/s]\n",
            "100%|██████████| 19/19 [00:10<00:00,  1.90it/s]\n",
            "100%|██████████| 19/19 [00:09<00:00,  1.90it/s]\n",
            "100%|██████████| 19/19 [00:09<00:00,  1.90it/s]\n",
            "100%|██████████| 38/38 [00:19<00:00,  1.90it/s]\n",
            "100%|██████████| 58/58 [00:30<00:00,  1.90it/s]\n",
            "100%|██████████| 155/155 [00:18<00:00,  8.48it/s]\n"
          ]
        },
        {
          "output_type": "stream",
          "name": "stdout",
          "text": [
            "tf.Tensor(0.6129833, shape=(), dtype=float32)\n",
            "Epoch 134\n"
          ]
        },
        {
          "output_type": "stream",
          "name": "stderr",
          "text": [
            "100%|██████████| 9/9 [00:04<00:00,  1.91it/s]\n",
            "100%|██████████| 9/9 [00:04<00:00,  1.91it/s]\n",
            "100%|██████████| 9/9 [00:04<00:00,  1.91it/s]\n",
            "100%|██████████| 9/9 [00:04<00:00,  1.91it/s]\n",
            "100%|██████████| 19/19 [00:10<00:00,  1.90it/s]\n",
            "100%|██████████| 19/19 [00:09<00:00,  1.90it/s]\n",
            "100%|██████████| 19/19 [00:09<00:00,  1.90it/s]\n",
            "100%|██████████| 38/38 [00:20<00:00,  1.90it/s]\n",
            "100%|██████████| 58/58 [00:30<00:00,  1.90it/s]\n",
            "100%|██████████| 155/155 [00:18<00:00,  8.47it/s]\n"
          ]
        },
        {
          "output_type": "stream",
          "name": "stdout",
          "text": [
            "tf.Tensor(0.61289066, shape=(), dtype=float32)\n",
            "Epoch 135\n"
          ]
        },
        {
          "output_type": "stream",
          "name": "stderr",
          "text": [
            "100%|██████████| 9/9 [00:04<00:00,  1.91it/s]\n",
            "100%|██████████| 9/9 [00:04<00:00,  1.91it/s]\n",
            "100%|██████████| 9/9 [00:04<00:00,  1.91it/s]\n",
            "100%|██████████| 9/9 [00:04<00:00,  1.91it/s]\n",
            "100%|██████████| 19/19 [00:09<00:00,  1.90it/s]\n",
            "100%|██████████| 19/19 [00:09<00:00,  1.90it/s]\n",
            "100%|██████████| 19/19 [00:09<00:00,  1.90it/s]\n",
            "100%|██████████| 38/38 [00:19<00:00,  1.90it/s]\n",
            "100%|██████████| 58/58 [00:30<00:00,  1.90it/s]\n",
            "100%|██████████| 155/155 [00:18<00:00,  8.38it/s]\n"
          ]
        },
        {
          "output_type": "stream",
          "name": "stdout",
          "text": [
            "tf.Tensor(0.6182263, shape=(), dtype=float32)\n",
            "Epoch 136\n"
          ]
        },
        {
          "output_type": "stream",
          "name": "stderr",
          "text": [
            "100%|██████████| 9/9 [00:04<00:00,  1.91it/s]\n",
            "100%|██████████| 9/9 [00:04<00:00,  1.90it/s]\n",
            "100%|██████████| 9/9 [00:04<00:00,  1.90it/s]\n",
            "100%|██████████| 9/9 [00:04<00:00,  1.91it/s]\n",
            "100%|██████████| 19/19 [00:09<00:00,  1.90it/s]\n",
            "100%|██████████| 19/19 [00:10<00:00,  1.90it/s]\n",
            "100%|██████████| 19/19 [00:09<00:00,  1.90it/s]\n",
            "100%|██████████| 38/38 [00:20<00:00,  1.90it/s]\n",
            "100%|██████████| 58/58 [00:30<00:00,  1.90it/s]\n",
            "100%|██████████| 155/155 [00:18<00:00,  8.46it/s]\n"
          ]
        },
        {
          "output_type": "stream",
          "name": "stdout",
          "text": [
            "tf.Tensor(0.6155734, shape=(), dtype=float32)\n",
            "Epoch 137\n"
          ]
        },
        {
          "output_type": "stream",
          "name": "stderr",
          "text": [
            "100%|██████████| 9/9 [00:04<00:00,  1.91it/s]\n",
            "100%|██████████| 9/9 [00:04<00:00,  1.90it/s]\n",
            "100%|██████████| 9/9 [00:04<00:00,  1.91it/s]\n",
            "100%|██████████| 9/9 [00:04<00:00,  1.90it/s]\n",
            "100%|██████████| 19/19 [00:10<00:00,  1.90it/s]\n",
            "100%|██████████| 19/19 [00:09<00:00,  1.90it/s]\n",
            "100%|██████████| 19/19 [00:09<00:00,  1.90it/s]\n",
            "100%|██████████| 38/38 [00:20<00:00,  1.90it/s]\n",
            "100%|██████████| 58/58 [00:30<00:00,  1.90it/s]\n",
            "100%|██████████| 155/155 [00:18<00:00,  8.47it/s]\n"
          ]
        },
        {
          "output_type": "stream",
          "name": "stdout",
          "text": [
            "tf.Tensor(0.6113145, shape=(), dtype=float32)\n",
            "Epoch 138\n"
          ]
        },
        {
          "output_type": "stream",
          "name": "stderr",
          "text": [
            "100%|██████████| 9/9 [00:04<00:00,  1.91it/s]\n",
            "100%|██████████| 9/9 [00:04<00:00,  1.91it/s]\n",
            "100%|██████████| 9/9 [00:04<00:00,  1.92it/s]\n",
            "100%|██████████| 9/9 [00:04<00:00,  1.92it/s]\n",
            "100%|██████████| 19/19 [00:09<00:00,  1.91it/s]\n",
            "100%|██████████| 19/19 [00:09<00:00,  1.91it/s]\n",
            "100%|██████████| 19/19 [00:10<00:00,  1.90it/s]\n",
            "100%|██████████| 38/38 [00:20<00:00,  1.90it/s]\n",
            "100%|██████████| 58/58 [00:30<00:00,  1.90it/s]\n",
            "100%|██████████| 155/155 [00:18<00:00,  8.42it/s]\n"
          ]
        },
        {
          "output_type": "stream",
          "name": "stdout",
          "text": [
            "tf.Tensor(0.6172296, shape=(), dtype=float32)\n",
            "Epoch 139\n"
          ]
        },
        {
          "output_type": "stream",
          "name": "stderr",
          "text": [
            "100%|██████████| 9/9 [00:04<00:00,  1.92it/s]\n",
            "100%|██████████| 9/9 [00:04<00:00,  1.91it/s]\n",
            "100%|██████████| 9/9 [00:04<00:00,  1.92it/s]\n",
            "100%|██████████| 9/9 [00:04<00:00,  1.92it/s]\n",
            "100%|██████████| 19/19 [00:09<00:00,  1.90it/s]\n",
            "100%|██████████| 19/19 [00:09<00:00,  1.91it/s]\n",
            "100%|██████████| 19/19 [00:09<00:00,  1.90it/s]\n",
            "100%|██████████| 38/38 [00:19<00:00,  1.91it/s]\n",
            "100%|██████████| 58/58 [00:30<00:00,  1.90it/s]\n",
            "100%|██████████| 155/155 [00:18<00:00,  8.44it/s]\n"
          ]
        },
        {
          "output_type": "stream",
          "name": "stdout",
          "text": [
            "tf.Tensor(0.61643606, shape=(), dtype=float32)\n",
            "Epoch 140\n"
          ]
        },
        {
          "output_type": "stream",
          "name": "stderr",
          "text": [
            "100%|██████████| 9/9 [00:04<00:00,  1.91it/s]\n",
            "100%|██████████| 9/9 [00:04<00:00,  1.91it/s]\n",
            "100%|██████████| 9/9 [00:04<00:00,  1.90it/s]\n",
            "100%|██████████| 9/9 [00:04<00:00,  1.91it/s]\n",
            "100%|██████████| 19/19 [00:10<00:00,  1.90it/s]\n",
            "100%|██████████| 19/19 [00:10<00:00,  1.90it/s]\n",
            "100%|██████████| 19/19 [00:10<00:00,  1.90it/s]\n",
            "100%|██████████| 38/38 [00:20<00:00,  1.90it/s]\n",
            "100%|██████████| 58/58 [00:30<00:00,  1.90it/s]\n",
            "100%|██████████| 155/155 [00:18<00:00,  8.32it/s]\n"
          ]
        },
        {
          "output_type": "stream",
          "name": "stdout",
          "text": [
            "tf.Tensor(0.6165953, shape=(), dtype=float32)\n",
            "Epoch 141\n"
          ]
        },
        {
          "output_type": "stream",
          "name": "stderr",
          "text": [
            "100%|██████████| 9/9 [00:04<00:00,  1.90it/s]\n",
            "100%|██████████| 9/9 [00:04<00:00,  1.89it/s]\n",
            "100%|██████████| 9/9 [00:04<00:00,  1.91it/s]\n",
            "100%|██████████| 9/9 [00:04<00:00,  1.90it/s]\n",
            "100%|██████████| 19/19 [00:10<00:00,  1.90it/s]\n",
            "100%|██████████| 19/19 [00:10<00:00,  1.90it/s]\n",
            "100%|██████████| 19/19 [00:10<00:00,  1.90it/s]\n",
            "100%|██████████| 38/38 [00:20<00:00,  1.90it/s]\n",
            "100%|██████████| 58/58 [00:30<00:00,  1.90it/s]\n",
            "100%|██████████| 155/155 [00:18<00:00,  8.37it/s]\n"
          ]
        },
        {
          "output_type": "stream",
          "name": "stdout",
          "text": [
            "tf.Tensor(0.6118239, shape=(), dtype=float32)\n",
            "Epoch 142\n"
          ]
        },
        {
          "output_type": "stream",
          "name": "stderr",
          "text": [
            "100%|██████████| 9/9 [00:04<00:00,  1.91it/s]\n",
            "100%|██████████| 9/9 [00:04<00:00,  1.90it/s]\n",
            "100%|██████████| 9/9 [00:04<00:00,  1.90it/s]\n",
            "100%|██████████| 9/9 [00:04<00:00,  1.90it/s]\n",
            "100%|██████████| 19/19 [00:10<00:00,  1.90it/s]\n",
            "100%|██████████| 19/19 [00:10<00:00,  1.90it/s]\n",
            "100%|██████████| 19/19 [00:10<00:00,  1.90it/s]\n",
            "100%|██████████| 38/38 [00:19<00:00,  1.90it/s]\n",
            "100%|██████████| 58/58 [00:30<00:00,  1.90it/s]\n",
            "100%|██████████| 155/155 [00:18<00:00,  8.41it/s]\n"
          ]
        },
        {
          "output_type": "stream",
          "name": "stdout",
          "text": [
            "tf.Tensor(0.6109698, shape=(), dtype=float32)\n",
            "Epoch 143\n"
          ]
        },
        {
          "output_type": "stream",
          "name": "stderr",
          "text": [
            "100%|██████████| 9/9 [00:04<00:00,  1.91it/s]\n",
            "100%|██████████| 9/9 [00:04<00:00,  1.90it/s]\n",
            "100%|██████████| 9/9 [00:04<00:00,  1.90it/s]\n",
            "100%|██████████| 9/9 [00:04<00:00,  1.90it/s]\n",
            "100%|██████████| 19/19 [00:10<00:00,  1.90it/s]\n",
            "100%|██████████| 19/19 [00:10<00:00,  1.90it/s]\n",
            "100%|██████████| 19/19 [00:10<00:00,  1.90it/s]\n",
            "100%|██████████| 38/38 [00:20<00:00,  1.90it/s]\n",
            "100%|██████████| 58/58 [00:30<00:00,  1.90it/s]\n",
            "100%|██████████| 155/155 [00:18<00:00,  8.39it/s]\n"
          ]
        },
        {
          "output_type": "stream",
          "name": "stdout",
          "text": [
            "tf.Tensor(0.613545, shape=(), dtype=float32)\n",
            "Epoch 144\n"
          ]
        },
        {
          "output_type": "stream",
          "name": "stderr",
          "text": [
            "100%|██████████| 9/9 [00:04<00:00,  1.90it/s]\n",
            "100%|██████████| 9/9 [00:04<00:00,  1.90it/s]\n",
            "100%|██████████| 9/9 [00:04<00:00,  1.91it/s]\n",
            "100%|██████████| 9/9 [00:04<00:00,  1.90it/s]\n",
            "100%|██████████| 19/19 [00:10<00:00,  1.90it/s]\n",
            "100%|██████████| 19/19 [00:10<00:00,  1.89it/s]\n",
            "100%|██████████| 19/19 [00:10<00:00,  1.90it/s]\n",
            "100%|██████████| 38/38 [00:20<00:00,  1.90it/s]\n",
            "100%|██████████| 58/58 [00:30<00:00,  1.90it/s]\n",
            "100%|██████████| 155/155 [00:18<00:00,  8.39it/s]\n"
          ]
        },
        {
          "output_type": "stream",
          "name": "stdout",
          "text": [
            "tf.Tensor(0.61629075, shape=(), dtype=float32)\n",
            "Epoch 145\n"
          ]
        },
        {
          "output_type": "stream",
          "name": "stderr",
          "text": [
            "100%|██████████| 9/9 [00:04<00:00,  1.90it/s]\n",
            "100%|██████████| 9/9 [00:04<00:00,  1.90it/s]\n",
            "100%|██████████| 9/9 [00:04<00:00,  1.91it/s]\n",
            "100%|██████████| 9/9 [00:04<00:00,  1.90it/s]\n",
            "100%|██████████| 19/19 [00:10<00:00,  1.90it/s]\n",
            "100%|██████████| 19/19 [00:10<00:00,  1.90it/s]\n",
            "100%|██████████| 19/19 [00:10<00:00,  1.90it/s]\n",
            "100%|██████████| 38/38 [00:20<00:00,  1.90it/s]\n",
            "100%|██████████| 58/58 [00:30<00:00,  1.90it/s]\n",
            "100%|██████████| 155/155 [00:18<00:00,  8.40it/s]\n"
          ]
        },
        {
          "output_type": "stream",
          "name": "stdout",
          "text": [
            "tf.Tensor(0.6140348, shape=(), dtype=float32)\n",
            "Epoch 146\n"
          ]
        },
        {
          "output_type": "stream",
          "name": "stderr",
          "text": [
            "100%|██████████| 9/9 [00:04<00:00,  1.90it/s]\n",
            "100%|██████████| 9/9 [00:04<00:00,  1.91it/s]\n",
            "100%|██████████| 9/9 [00:04<00:00,  1.91it/s]\n",
            "100%|██████████| 9/9 [00:04<00:00,  1.90it/s]\n",
            "100%|██████████| 19/19 [00:10<00:00,  1.90it/s]\n",
            "100%|██████████| 19/19 [00:10<00:00,  1.90it/s]\n",
            "100%|██████████| 19/19 [00:10<00:00,  1.90it/s]\n",
            "100%|██████████| 38/38 [00:20<00:00,  1.90it/s]\n",
            "100%|██████████| 58/58 [00:30<00:00,  1.89it/s]\n",
            "100%|██████████| 155/155 [00:18<00:00,  8.42it/s]\n"
          ]
        },
        {
          "output_type": "stream",
          "name": "stdout",
          "text": [
            "tf.Tensor(0.60989505, shape=(), dtype=float32)\n",
            "Epoch 147\n"
          ]
        },
        {
          "output_type": "stream",
          "name": "stderr",
          "text": [
            "100%|██████████| 9/9 [00:04<00:00,  1.88it/s]\n",
            "100%|██████████| 9/9 [00:04<00:00,  1.88it/s]\n",
            "100%|██████████| 9/9 [00:04<00:00,  1.89it/s]\n",
            "100%|██████████| 9/9 [00:04<00:00,  1.88it/s]\n",
            "100%|██████████| 19/19 [00:10<00:00,  1.89it/s]\n",
            "100%|██████████| 19/19 [00:10<00:00,  1.89it/s]\n",
            "100%|██████████| 19/19 [00:10<00:00,  1.90it/s]\n",
            "100%|██████████| 38/38 [00:20<00:00,  1.89it/s]\n",
            "100%|██████████| 58/58 [00:30<00:00,  1.89it/s]\n",
            "100%|██████████| 155/155 [00:18<00:00,  8.40it/s]\n"
          ]
        },
        {
          "output_type": "stream",
          "name": "stdout",
          "text": [
            "tf.Tensor(0.61824787, shape=(), dtype=float32)\n",
            "Epoch 148\n"
          ]
        },
        {
          "output_type": "stream",
          "name": "stderr",
          "text": [
            "100%|██████████| 9/9 [00:04<00:00,  1.88it/s]\n",
            "100%|██████████| 9/9 [00:04<00:00,  1.87it/s]\n",
            "100%|██████████| 9/9 [00:04<00:00,  1.87it/s]\n",
            "100%|██████████| 9/9 [00:04<00:00,  1.87it/s]\n",
            "100%|██████████| 19/19 [00:10<00:00,  1.87it/s]\n",
            "100%|██████████| 19/19 [00:10<00:00,  1.88it/s]\n",
            "100%|██████████| 19/19 [00:10<00:00,  1.89it/s]\n",
            "100%|██████████| 38/38 [00:20<00:00,  1.89it/s]\n",
            "100%|██████████| 58/58 [00:30<00:00,  1.89it/s]\n",
            "100%|██████████| 155/155 [00:18<00:00,  8.27it/s]\n"
          ]
        },
        {
          "output_type": "stream",
          "name": "stdout",
          "text": [
            "tf.Tensor(0.61994725, shape=(), dtype=float32)\n",
            "Epoch 149\n"
          ]
        },
        {
          "output_type": "stream",
          "name": "stderr",
          "text": [
            "100%|██████████| 9/9 [00:04<00:00,  1.86it/s]\n",
            "100%|██████████| 9/9 [00:04<00:00,  1.86it/s]\n",
            "100%|██████████| 9/9 [00:04<00:00,  1.87it/s]\n",
            "100%|██████████| 9/9 [00:04<00:00,  1.87it/s]\n",
            "100%|██████████| 19/19 [00:10<00:00,  1.88it/s]\n",
            "100%|██████████| 19/19 [00:10<00:00,  1.88it/s]\n",
            "100%|██████████| 19/19 [00:10<00:00,  1.89it/s]\n",
            "100%|██████████| 38/38 [00:20<00:00,  1.90it/s]\n",
            "100%|██████████| 58/58 [00:30<00:00,  1.89it/s]\n",
            "100%|██████████| 155/155 [00:18<00:00,  8.36it/s]\n"
          ]
        },
        {
          "output_type": "stream",
          "name": "stdout",
          "text": [
            "tf.Tensor(0.6172888, shape=(), dtype=float32)\n",
            "Epoch 150\n"
          ]
        },
        {
          "output_type": "stream",
          "name": "stderr",
          "text": [
            "100%|██████████| 9/9 [00:04<00:00,  1.87it/s]\n",
            "100%|██████████| 9/9 [00:04<00:00,  1.87it/s]\n",
            "100%|██████████| 9/9 [00:04<00:00,  1.88it/s]\n",
            "100%|██████████| 9/9 [00:04<00:00,  1.88it/s]\n",
            "100%|██████████| 19/19 [00:10<00:00,  1.88it/s]\n",
            "100%|██████████| 19/19 [00:10<00:00,  1.89it/s]\n",
            "100%|██████████| 19/19 [00:10<00:00,  1.89it/s]\n",
            "100%|██████████| 38/38 [00:20<00:00,  1.89it/s]\n",
            "100%|██████████| 58/58 [00:30<00:00,  1.89it/s]\n",
            "100%|██████████| 155/155 [00:18<00:00,  8.43it/s]\n"
          ]
        },
        {
          "output_type": "stream",
          "name": "stdout",
          "text": [
            "tf.Tensor(0.6184866, shape=(), dtype=float32)\n",
            "Epoch 151\n"
          ]
        },
        {
          "output_type": "stream",
          "name": "stderr",
          "text": [
            "100%|██████████| 9/9 [00:04<00:00,  1.87it/s]\n",
            "100%|██████████| 9/9 [00:04<00:00,  1.87it/s]\n",
            "100%|██████████| 9/9 [00:04<00:00,  1.87it/s]\n",
            "100%|██████████| 9/9 [00:04<00:00,  1.88it/s]\n",
            "100%|██████████| 19/19 [00:10<00:00,  1.88it/s]\n",
            "100%|██████████| 19/19 [00:10<00:00,  1.89it/s]\n",
            "100%|██████████| 19/19 [00:10<00:00,  1.89it/s]\n",
            "100%|██████████| 38/38 [00:20<00:00,  1.90it/s]\n",
            "100%|██████████| 58/58 [00:30<00:00,  1.89it/s]\n",
            "100%|██████████| 155/155 [00:18<00:00,  8.41it/s]\n"
          ]
        },
        {
          "output_type": "stream",
          "name": "stdout",
          "text": [
            "tf.Tensor(0.6143156, shape=(), dtype=float32)\n",
            "Epoch 152\n"
          ]
        },
        {
          "output_type": "stream",
          "name": "stderr",
          "text": [
            "100%|██████████| 9/9 [00:04<00:00,  1.90it/s]\n",
            "100%|██████████| 9/9 [00:04<00:00,  1.90it/s]\n",
            "100%|██████████| 9/9 [00:04<00:00,  1.90it/s]\n",
            "100%|██████████| 9/9 [00:04<00:00,  1.90it/s]\n",
            "100%|██████████| 19/19 [00:10<00:00,  1.89it/s]\n",
            "100%|██████████| 19/19 [00:10<00:00,  1.90it/s]\n",
            "100%|██████████| 19/19 [00:10<00:00,  1.89it/s]\n",
            "100%|██████████| 38/38 [00:20<00:00,  1.89it/s]\n",
            "100%|██████████| 58/58 [00:30<00:00,  1.89it/s]\n",
            "100%|██████████| 155/155 [00:18<00:00,  8.45it/s]\n"
          ]
        },
        {
          "output_type": "stream",
          "name": "stdout",
          "text": [
            "tf.Tensor(0.6163225, shape=(), dtype=float32)\n",
            "Epoch 153\n"
          ]
        },
        {
          "output_type": "stream",
          "name": "stderr",
          "text": [
            "100%|██████████| 9/9 [00:04<00:00,  1.90it/s]\n",
            "100%|██████████| 9/9 [00:04<00:00,  1.90it/s]\n",
            "100%|██████████| 9/9 [00:04<00:00,  1.90it/s]\n",
            "100%|██████████| 9/9 [00:04<00:00,  1.91it/s]\n",
            "100%|██████████| 19/19 [00:10<00:00,  1.90it/s]\n",
            "100%|██████████| 19/19 [00:10<00:00,  1.90it/s]\n",
            "100%|██████████| 19/19 [00:09<00:00,  1.90it/s]\n",
            "100%|██████████| 38/38 [00:20<00:00,  1.90it/s]\n",
            "100%|██████████| 58/58 [00:30<00:00,  1.90it/s]\n",
            "100%|██████████| 155/155 [00:18<00:00,  8.42it/s]\n"
          ]
        },
        {
          "output_type": "stream",
          "name": "stdout",
          "text": [
            "tf.Tensor(0.6136355, shape=(), dtype=float32)\n",
            "Epoch 154\n"
          ]
        },
        {
          "output_type": "stream",
          "name": "stderr",
          "text": [
            "100%|██████████| 9/9 [00:04<00:00,  1.91it/s]\n",
            "100%|██████████| 9/9 [00:04<00:00,  1.91it/s]\n",
            "100%|██████████| 9/9 [00:04<00:00,  1.91it/s]\n",
            "100%|██████████| 9/9 [00:04<00:00,  1.91it/s]\n",
            "100%|██████████| 19/19 [00:10<00:00,  1.90it/s]\n",
            "100%|██████████| 19/19 [00:09<00:00,  1.90it/s]\n",
            "100%|██████████| 19/19 [00:09<00:00,  1.90it/s]\n",
            "100%|██████████| 38/38 [00:20<00:00,  1.90it/s]\n",
            "100%|██████████| 58/58 [00:30<00:00,  1.90it/s]\n",
            "100%|██████████| 155/155 [00:18<00:00,  8.40it/s]\n"
          ]
        },
        {
          "output_type": "stream",
          "name": "stdout",
          "text": [
            "tf.Tensor(0.615465, shape=(), dtype=float32)\n",
            "Epoch 155\n"
          ]
        },
        {
          "output_type": "stream",
          "name": "stderr",
          "text": [
            "100%|██████████| 9/9 [00:04<00:00,  1.91it/s]\n",
            "100%|██████████| 9/9 [00:04<00:00,  1.90it/s]\n",
            "100%|██████████| 9/9 [00:04<00:00,  1.90it/s]\n",
            "100%|██████████| 9/9 [00:04<00:00,  1.90it/s]\n",
            "100%|██████████| 19/19 [00:10<00:00,  1.89it/s]\n",
            "100%|██████████| 19/19 [00:10<00:00,  1.90it/s]\n",
            "100%|██████████| 19/19 [00:10<00:00,  1.90it/s]\n",
            "100%|██████████| 38/38 [00:20<00:00,  1.90it/s]\n",
            "100%|██████████| 58/58 [00:30<00:00,  1.90it/s]\n",
            "100%|██████████| 155/155 [00:18<00:00,  8.43it/s]\n"
          ]
        },
        {
          "output_type": "stream",
          "name": "stdout",
          "text": [
            "tf.Tensor(0.6193556, shape=(), dtype=float32)\n",
            "Epoch 156\n"
          ]
        },
        {
          "output_type": "stream",
          "name": "stderr",
          "text": [
            "100%|██████████| 9/9 [00:04<00:00,  1.91it/s]\n",
            "100%|██████████| 9/9 [00:04<00:00,  1.91it/s]\n",
            "100%|██████████| 9/9 [00:04<00:00,  1.90it/s]\n",
            "100%|██████████| 9/9 [00:04<00:00,  1.90it/s]\n",
            "100%|██████████| 19/19 [00:10<00:00,  1.90it/s]\n",
            "100%|██████████| 19/19 [00:10<00:00,  1.90it/s]\n",
            "100%|██████████| 19/19 [00:10<00:00,  1.90it/s]\n",
            "100%|██████████| 38/38 [00:20<00:00,  1.90it/s]\n",
            "100%|██████████| 58/58 [00:30<00:00,  1.90it/s]\n",
            "100%|██████████| 155/155 [00:18<00:00,  8.39it/s]\n"
          ]
        },
        {
          "output_type": "stream",
          "name": "stdout",
          "text": [
            "tf.Tensor(0.61286813, shape=(), dtype=float32)\n",
            "Epoch 157\n"
          ]
        },
        {
          "output_type": "stream",
          "name": "stderr",
          "text": [
            "100%|██████████| 9/9 [00:04<00:00,  1.91it/s]\n",
            "100%|██████████| 9/9 [00:04<00:00,  1.90it/s]\n",
            "100%|██████████| 9/9 [00:04<00:00,  1.90it/s]\n",
            "100%|██████████| 9/9 [00:04<00:00,  1.90it/s]\n",
            "100%|██████████| 19/19 [00:10<00:00,  1.90it/s]\n",
            "100%|██████████| 19/19 [00:10<00:00,  1.90it/s]\n",
            "100%|██████████| 19/19 [00:10<00:00,  1.90it/s]\n",
            "100%|██████████| 38/38 [00:20<00:00,  1.90it/s]\n",
            "100%|██████████| 58/58 [00:30<00:00,  1.90it/s]\n",
            "100%|██████████| 155/155 [00:18<00:00,  8.40it/s]\n"
          ]
        },
        {
          "output_type": "stream",
          "name": "stdout",
          "text": [
            "tf.Tensor(0.61333674, shape=(), dtype=float32)\n",
            "Epoch 158\n"
          ]
        },
        {
          "output_type": "stream",
          "name": "stderr",
          "text": [
            "100%|██████████| 9/9 [00:04<00:00,  1.91it/s]\n",
            "100%|██████████| 9/9 [00:04<00:00,  1.91it/s]\n",
            "100%|██████████| 9/9 [00:04<00:00,  1.90it/s]\n",
            "100%|██████████| 9/9 [00:04<00:00,  1.90it/s]\n",
            "100%|██████████| 19/19 [00:10<00:00,  1.90it/s]\n",
            "100%|██████████| 19/19 [00:09<00:00,  1.90it/s]\n",
            "100%|██████████| 19/19 [00:10<00:00,  1.90it/s]\n",
            "100%|██████████| 38/38 [00:20<00:00,  1.90it/s]\n",
            "100%|██████████| 58/58 [00:30<00:00,  1.90it/s]\n",
            "100%|██████████| 155/155 [00:18<00:00,  8.36it/s]\n"
          ]
        },
        {
          "output_type": "stream",
          "name": "stdout",
          "text": [
            "tf.Tensor(0.6175954, shape=(), dtype=float32)\n",
            "Epoch 159\n"
          ]
        },
        {
          "output_type": "stream",
          "name": "stderr",
          "text": [
            "100%|██████████| 9/9 [00:04<00:00,  1.90it/s]\n",
            "100%|██████████| 9/9 [00:04<00:00,  1.91it/s]\n",
            "100%|██████████| 9/9 [00:04<00:00,  1.91it/s]\n",
            "100%|██████████| 9/9 [00:04<00:00,  1.90it/s]\n",
            "100%|██████████| 19/19 [00:09<00:00,  1.90it/s]\n",
            "100%|██████████| 19/19 [00:09<00:00,  1.90it/s]\n",
            "100%|██████████| 19/19 [00:09<00:00,  1.90it/s]\n",
            "100%|██████████| 38/38 [00:20<00:00,  1.90it/s]\n",
            "100%|██████████| 58/58 [00:30<00:00,  1.90it/s]\n",
            "100%|██████████| 155/155 [00:18<00:00,  8.44it/s]\n"
          ]
        },
        {
          "output_type": "stream",
          "name": "stdout",
          "text": [
            "tf.Tensor(0.6173498, shape=(), dtype=float32)\n",
            "Epoch 160\n"
          ]
        },
        {
          "output_type": "stream",
          "name": "stderr",
          "text": [
            "100%|██████████| 9/9 [00:04<00:00,  1.91it/s]\n",
            "100%|██████████| 9/9 [00:04<00:00,  1.90it/s]\n",
            "100%|██████████| 9/9 [00:04<00:00,  1.91it/s]\n",
            "100%|██████████| 9/9 [00:04<00:00,  1.91it/s]\n",
            "100%|██████████| 19/19 [00:10<00:00,  1.90it/s]\n",
            "100%|██████████| 19/19 [00:09<00:00,  1.90it/s]\n",
            "100%|██████████| 19/19 [00:10<00:00,  1.90it/s]\n",
            "100%|██████████| 38/38 [00:20<00:00,  1.90it/s]\n",
            "100%|██████████| 58/58 [00:30<00:00,  1.90it/s]\n",
            "100%|██████████| 155/155 [00:18<00:00,  8.45it/s]\n"
          ]
        },
        {
          "output_type": "stream",
          "name": "stdout",
          "text": [
            "tf.Tensor(0.61688405, shape=(), dtype=float32)\n",
            "Epoch 161\n"
          ]
        },
        {
          "output_type": "stream",
          "name": "stderr",
          "text": [
            "100%|██████████| 9/9 [00:04<00:00,  1.91it/s]\n",
            "100%|██████████| 9/9 [00:04<00:00,  1.92it/s]\n",
            "100%|██████████| 9/9 [00:04<00:00,  1.91it/s]\n",
            "100%|██████████| 9/9 [00:04<00:00,  1.90it/s]\n",
            "100%|██████████| 19/19 [00:09<00:00,  1.90it/s]\n",
            "100%|██████████| 19/19 [00:09<00:00,  1.90it/s]\n",
            "100%|██████████| 19/19 [00:09<00:00,  1.90it/s]\n",
            "100%|██████████| 38/38 [00:20<00:00,  1.90it/s]\n",
            "100%|██████████| 58/58 [00:30<00:00,  1.90it/s]\n",
            "100%|██████████| 155/155 [00:18<00:00,  8.46it/s]\n"
          ]
        },
        {
          "output_type": "stream",
          "name": "stdout",
          "text": [
            "tf.Tensor(0.6163572, shape=(), dtype=float32)\n",
            "Epoch 162\n"
          ]
        },
        {
          "output_type": "stream",
          "name": "stderr",
          "text": [
            "100%|██████████| 9/9 [00:04<00:00,  1.91it/s]\n",
            "100%|██████████| 9/9 [00:04<00:00,  1.91it/s]\n",
            "100%|██████████| 9/9 [00:04<00:00,  1.92it/s]\n",
            "100%|██████████| 9/9 [00:04<00:00,  1.91it/s]\n",
            "100%|██████████| 19/19 [00:09<00:00,  1.90it/s]\n",
            "100%|██████████| 19/19 [00:09<00:00,  1.90it/s]\n",
            "100%|██████████| 19/19 [00:10<00:00,  1.90it/s]\n",
            "100%|██████████| 38/38 [00:20<00:00,  1.90it/s]\n",
            "100%|██████████| 58/58 [00:30<00:00,  1.90it/s]\n",
            "100%|██████████| 155/155 [00:18<00:00,  8.41it/s]\n"
          ]
        },
        {
          "output_type": "stream",
          "name": "stdout",
          "text": [
            "tf.Tensor(0.6174754, shape=(), dtype=float32)\n",
            "Epoch 163\n"
          ]
        },
        {
          "output_type": "stream",
          "name": "stderr",
          "text": [
            "100%|██████████| 9/9 [00:04<00:00,  1.90it/s]\n",
            "100%|██████████| 9/9 [00:04<00:00,  1.91it/s]\n",
            "100%|██████████| 9/9 [00:04<00:00,  1.90it/s]\n",
            "100%|██████████| 9/9 [00:04<00:00,  1.90it/s]\n",
            "100%|██████████| 19/19 [00:10<00:00,  1.90it/s]\n",
            "100%|██████████| 19/19 [00:10<00:00,  1.90it/s]\n",
            "100%|██████████| 19/19 [00:09<00:00,  1.90it/s]\n",
            "100%|██████████| 38/38 [00:19<00:00,  1.90it/s]\n",
            "100%|██████████| 58/58 [00:30<00:00,  1.90it/s]\n",
            "100%|██████████| 155/155 [00:18<00:00,  8.43it/s]\n"
          ]
        },
        {
          "output_type": "stream",
          "name": "stdout",
          "text": [
            "tf.Tensor(0.6181517, shape=(), dtype=float32)\n",
            "Epoch 164\n"
          ]
        },
        {
          "output_type": "stream",
          "name": "stderr",
          "text": [
            "100%|██████████| 9/9 [00:04<00:00,  1.91it/s]\n",
            "100%|██████████| 9/9 [00:04<00:00,  1.91it/s]\n",
            "100%|██████████| 9/9 [00:04<00:00,  1.90it/s]\n",
            "100%|██████████| 9/9 [00:04<00:00,  1.91it/s]\n",
            "100%|██████████| 19/19 [00:10<00:00,  1.90it/s]\n",
            "100%|██████████| 19/19 [00:09<00:00,  1.91it/s]\n",
            "100%|██████████| 19/19 [00:10<00:00,  1.90it/s]\n",
            "100%|██████████| 38/38 [00:19<00:00,  1.90it/s]\n",
            "100%|██████████| 58/58 [00:30<00:00,  1.90it/s]\n",
            "100%|██████████| 155/155 [00:18<00:00,  8.44it/s]\n"
          ]
        },
        {
          "output_type": "stream",
          "name": "stdout",
          "text": [
            "tf.Tensor(0.61548746, shape=(), dtype=float32)\n",
            "Epoch 165\n"
          ]
        },
        {
          "output_type": "stream",
          "name": "stderr",
          "text": [
            "100%|██████████| 9/9 [00:04<00:00,  1.92it/s]\n",
            "100%|██████████| 9/9 [00:04<00:00,  1.90it/s]\n",
            "100%|██████████| 9/9 [00:04<00:00,  1.91it/s]\n",
            "100%|██████████| 9/9 [00:04<00:00,  1.90it/s]\n",
            "100%|██████████| 19/19 [00:09<00:00,  1.90it/s]\n",
            "100%|██████████| 19/19 [00:09<00:00,  1.90it/s]\n",
            "100%|██████████| 19/19 [00:10<00:00,  1.90it/s]\n",
            "100%|██████████| 38/38 [00:20<00:00,  1.90it/s]\n",
            "100%|██████████| 58/58 [00:30<00:00,  1.90it/s]\n",
            "100%|██████████| 155/155 [00:18<00:00,  8.44it/s]\n"
          ]
        },
        {
          "output_type": "stream",
          "name": "stdout",
          "text": [
            "tf.Tensor(0.6146746, shape=(), dtype=float32)\n",
            "Epoch 166\n"
          ]
        },
        {
          "output_type": "stream",
          "name": "stderr",
          "text": [
            "100%|██████████| 9/9 [00:04<00:00,  1.91it/s]\n",
            "100%|██████████| 9/9 [00:04<00:00,  1.90it/s]\n",
            "100%|██████████| 9/9 [00:04<00:00,  1.91it/s]\n",
            "100%|██████████| 9/9 [00:04<00:00,  1.90it/s]\n",
            "100%|██████████| 19/19 [00:10<00:00,  1.90it/s]\n",
            "100%|██████████| 19/19 [00:09<00:00,  1.90it/s]\n",
            "100%|██████████| 19/19 [00:09<00:00,  1.90it/s]\n",
            "100%|██████████| 38/38 [00:20<00:00,  1.89it/s]\n",
            "100%|██████████| 58/58 [00:30<00:00,  1.90it/s]\n",
            "100%|██████████| 155/155 [00:18<00:00,  8.46it/s]\n"
          ]
        },
        {
          "output_type": "stream",
          "name": "stdout",
          "text": [
            "tf.Tensor(0.6156533, shape=(), dtype=float32)\n",
            "Epoch 167\n"
          ]
        },
        {
          "output_type": "stream",
          "name": "stderr",
          "text": [
            "100%|██████████| 9/9 [00:04<00:00,  1.91it/s]\n",
            "100%|██████████| 9/9 [00:04<00:00,  1.90it/s]\n",
            "100%|██████████| 9/9 [00:04<00:00,  1.91it/s]\n",
            "100%|██████████| 9/9 [00:04<00:00,  1.91it/s]\n",
            "100%|██████████| 19/19 [00:10<00:00,  1.90it/s]\n",
            "100%|██████████| 19/19 [00:09<00:00,  1.90it/s]\n",
            "100%|██████████| 19/19 [00:09<00:00,  1.90it/s]\n",
            "100%|██████████| 38/38 [00:20<00:00,  1.90it/s]\n",
            "100%|██████████| 58/58 [00:30<00:00,  1.90it/s]\n",
            "100%|██████████| 155/155 [00:18<00:00,  8.44it/s]\n"
          ]
        },
        {
          "output_type": "stream",
          "name": "stdout",
          "text": [
            "tf.Tensor(0.6197634, shape=(), dtype=float32)\n",
            "Epoch 168\n"
          ]
        },
        {
          "output_type": "stream",
          "name": "stderr",
          "text": [
            "100%|██████████| 9/9 [00:04<00:00,  1.91it/s]\n",
            "100%|██████████| 9/9 [00:04<00:00,  1.91it/s]\n",
            "100%|██████████| 9/9 [00:04<00:00,  1.90it/s]\n",
            "100%|██████████| 9/9 [00:04<00:00,  1.91it/s]\n",
            "100%|██████████| 19/19 [00:10<00:00,  1.89it/s]\n",
            "100%|██████████| 19/19 [00:10<00:00,  1.90it/s]\n",
            "100%|██████████| 19/19 [00:09<00:00,  1.90it/s]\n",
            "100%|██████████| 38/38 [00:19<00:00,  1.90it/s]\n",
            "100%|██████████| 58/58 [00:30<00:00,  1.90it/s]\n",
            "100%|██████████| 155/155 [00:18<00:00,  8.39it/s]\n"
          ]
        },
        {
          "output_type": "stream",
          "name": "stdout",
          "text": [
            "tf.Tensor(0.61970806, shape=(), dtype=float32)\n",
            "Epoch 169\n"
          ]
        },
        {
          "output_type": "stream",
          "name": "stderr",
          "text": [
            "100%|██████████| 9/9 [00:04<00:00,  1.91it/s]\n",
            "100%|██████████| 9/9 [00:04<00:00,  1.91it/s]\n",
            "100%|██████████| 9/9 [00:04<00:00,  1.90it/s]\n",
            "100%|██████████| 9/9 [00:04<00:00,  1.90it/s]\n",
            "100%|██████████| 19/19 [00:10<00:00,  1.90it/s]\n",
            "100%|██████████| 19/19 [00:09<00:00,  1.90it/s]\n",
            "100%|██████████| 19/19 [00:10<00:00,  1.90it/s]\n",
            "100%|██████████| 38/38 [00:20<00:00,  1.90it/s]\n",
            "100%|██████████| 58/58 [00:30<00:00,  1.90it/s]\n",
            "100%|██████████| 155/155 [00:18<00:00,  8.43it/s]\n"
          ]
        },
        {
          "output_type": "stream",
          "name": "stdout",
          "text": [
            "tf.Tensor(0.61447644, shape=(), dtype=float32)\n",
            "Epoch 170\n"
          ]
        },
        {
          "output_type": "stream",
          "name": "stderr",
          "text": [
            "100%|██████████| 9/9 [00:04<00:00,  1.91it/s]\n",
            "100%|██████████| 9/9 [00:04<00:00,  1.90it/s]\n",
            "100%|██████████| 9/9 [00:04<00:00,  1.90it/s]\n",
            "100%|██████████| 9/9 [00:04<00:00,  1.91it/s]\n",
            "100%|██████████| 19/19 [00:10<00:00,  1.90it/s]\n",
            "100%|██████████| 19/19 [00:10<00:00,  1.90it/s]\n",
            "100%|██████████| 19/19 [00:10<00:00,  1.90it/s]\n",
            "100%|██████████| 38/38 [00:20<00:00,  1.89it/s]\n",
            "100%|██████████| 58/58 [00:30<00:00,  1.88it/s]\n",
            "100%|██████████| 155/155 [00:18<00:00,  8.42it/s]\n"
          ]
        },
        {
          "output_type": "stream",
          "name": "stdout",
          "text": [
            "tf.Tensor(0.61743766, shape=(), dtype=float32)\n",
            "Epoch 171\n"
          ]
        },
        {
          "output_type": "stream",
          "name": "stderr",
          "text": [
            "100%|██████████| 9/9 [00:04<00:00,  1.89it/s]\n",
            "100%|██████████| 9/9 [00:04<00:00,  1.88it/s]\n",
            "100%|██████████| 9/9 [00:04<00:00,  1.88it/s]\n",
            "100%|██████████| 9/9 [00:04<00:00,  1.88it/s]\n",
            "100%|██████████| 19/19 [00:10<00:00,  1.88it/s]\n",
            "100%|██████████| 19/19 [00:10<00:00,  1.90it/s]\n",
            "100%|██████████| 19/19 [00:10<00:00,  1.90it/s]\n",
            "100%|██████████| 38/38 [00:20<00:00,  1.90it/s]\n",
            "100%|██████████| 58/58 [00:30<00:00,  1.90it/s]\n",
            "100%|██████████| 155/155 [00:18<00:00,  8.43it/s]\n"
          ]
        },
        {
          "output_type": "stream",
          "name": "stdout",
          "text": [
            "tf.Tensor(0.612616, shape=(), dtype=float32)\n",
            "Epoch 172\n"
          ]
        },
        {
          "output_type": "stream",
          "name": "stderr",
          "text": [
            "100%|██████████| 9/9 [00:04<00:00,  1.88it/s]\n",
            "100%|██████████| 9/9 [00:04<00:00,  1.88it/s]\n",
            "100%|██████████| 9/9 [00:04<00:00,  1.88it/s]\n",
            "100%|██████████| 9/9 [00:04<00:00,  1.88it/s]\n",
            "100%|██████████| 19/19 [00:10<00:00,  1.85it/s]\n",
            "100%|██████████| 19/19 [00:10<00:00,  1.90it/s]\n",
            "100%|██████████| 19/19 [00:10<00:00,  1.90it/s]\n",
            "100%|██████████| 38/38 [00:20<00:00,  1.89it/s]\n",
            "100%|██████████| 58/58 [00:30<00:00,  1.89it/s]\n",
            "100%|██████████| 155/155 [00:18<00:00,  8.45it/s]\n"
          ]
        },
        {
          "output_type": "stream",
          "name": "stdout",
          "text": [
            "tf.Tensor(0.61786985, shape=(), dtype=float32)\n",
            "Epoch 173\n"
          ]
        },
        {
          "output_type": "stream",
          "name": "stderr",
          "text": [
            "100%|██████████| 9/9 [00:04<00:00,  1.88it/s]\n",
            "100%|██████████| 9/9 [00:04<00:00,  1.89it/s]\n",
            "100%|██████████| 9/9 [00:04<00:00,  1.88it/s]\n",
            "100%|██████████| 9/9 [00:04<00:00,  1.87it/s]\n",
            "100%|██████████| 19/19 [00:10<00:00,  1.88it/s]\n",
            "100%|██████████| 19/19 [00:10<00:00,  1.89it/s]\n",
            "100%|██████████| 19/19 [00:10<00:00,  1.90it/s]\n",
            "100%|██████████| 38/38 [00:20<00:00,  1.90it/s]\n",
            "100%|██████████| 58/58 [00:30<00:00,  1.89it/s]\n",
            "100%|██████████| 155/155 [00:18<00:00,  8.43it/s]\n"
          ]
        },
        {
          "output_type": "stream",
          "name": "stdout",
          "text": [
            "tf.Tensor(0.61602795, shape=(), dtype=float32)\n",
            "Epoch 174\n"
          ]
        },
        {
          "output_type": "stream",
          "name": "stderr",
          "text": [
            "100%|██████████| 9/9 [00:04<00:00,  1.88it/s]\n",
            "100%|██████████| 9/9 [00:04<00:00,  1.88it/s]\n",
            "100%|██████████| 9/9 [00:04<00:00,  1.88it/s]\n",
            "100%|██████████| 9/9 [00:04<00:00,  1.88it/s]\n",
            "100%|██████████| 19/19 [00:10<00:00,  1.88it/s]\n",
            "100%|██████████| 19/19 [00:10<00:00,  1.89it/s]\n",
            "100%|██████████| 19/19 [00:10<00:00,  1.89it/s]\n",
            "100%|██████████| 38/38 [00:20<00:00,  1.90it/s]\n",
            "100%|██████████| 58/58 [00:30<00:00,  1.89it/s]\n",
            "100%|██████████| 155/155 [00:18<00:00,  8.45it/s]\n"
          ]
        },
        {
          "output_type": "stream",
          "name": "stdout",
          "text": [
            "tf.Tensor(0.6171301, shape=(), dtype=float32)\n",
            "Epoch 175\n"
          ]
        },
        {
          "output_type": "stream",
          "name": "stderr",
          "text": [
            "100%|██████████| 9/9 [00:04<00:00,  1.89it/s]\n",
            "100%|██████████| 9/9 [00:04<00:00,  1.88it/s]\n",
            "100%|██████████| 9/9 [00:04<00:00,  1.88it/s]\n",
            "100%|██████████| 9/9 [00:04<00:00,  1.86it/s]\n",
            "100%|██████████| 19/19 [00:10<00:00,  1.88it/s]\n",
            "100%|██████████| 19/19 [00:10<00:00,  1.89it/s]\n",
            "100%|██████████| 19/19 [00:10<00:00,  1.89it/s]\n",
            "100%|██████████| 38/38 [00:20<00:00,  1.90it/s]\n",
            "100%|██████████| 58/58 [00:30<00:00,  1.89it/s]\n",
            "100%|██████████| 155/155 [00:18<00:00,  8.44it/s]\n"
          ]
        },
        {
          "output_type": "stream",
          "name": "stdout",
          "text": [
            "tf.Tensor(0.6184288, shape=(), dtype=float32)\n",
            "Epoch 176\n"
          ]
        },
        {
          "output_type": "stream",
          "name": "stderr",
          "text": [
            "100%|██████████| 9/9 [00:04<00:00,  1.89it/s]\n",
            "100%|██████████| 9/9 [00:04<00:00,  1.88it/s]\n",
            "100%|██████████| 9/9 [00:04<00:00,  1.89it/s]\n",
            "100%|██████████| 9/9 [00:04<00:00,  1.88it/s]\n",
            "100%|██████████| 19/19 [00:10<00:00,  1.88it/s]\n",
            "100%|██████████| 19/19 [00:10<00:00,  1.90it/s]\n",
            "100%|██████████| 19/19 [00:10<00:00,  1.90it/s]\n",
            "100%|██████████| 38/38 [00:20<00:00,  1.90it/s]\n",
            "100%|██████████| 58/58 [00:30<00:00,  1.89it/s]\n",
            "100%|██████████| 155/155 [00:18<00:00,  8.40it/s]\n"
          ]
        },
        {
          "output_type": "stream",
          "name": "stdout",
          "text": [
            "tf.Tensor(0.6180734, shape=(), dtype=float32)\n",
            "Epoch 177\n"
          ]
        },
        {
          "output_type": "stream",
          "name": "stderr",
          "text": [
            "100%|██████████| 9/9 [00:04<00:00,  1.88it/s]\n",
            "100%|██████████| 9/9 [00:04<00:00,  1.88it/s]\n",
            "100%|██████████| 9/9 [00:04<00:00,  1.87it/s]\n",
            "100%|██████████| 9/9 [00:04<00:00,  1.88it/s]\n",
            "100%|██████████| 19/19 [00:10<00:00,  1.89it/s]\n",
            "100%|██████████| 19/19 [00:10<00:00,  1.89it/s]\n",
            "100%|██████████| 19/19 [00:10<00:00,  1.90it/s]\n",
            "100%|██████████| 38/38 [00:19<00:00,  1.90it/s]\n",
            "100%|██████████| 58/58 [00:30<00:00,  1.89it/s]\n",
            "100%|██████████| 155/155 [00:18<00:00,  8.48it/s]\n"
          ]
        },
        {
          "output_type": "stream",
          "name": "stdout",
          "text": [
            "tf.Tensor(0.6127613, shape=(), dtype=float32)\n",
            "Epoch 178\n"
          ]
        },
        {
          "output_type": "stream",
          "name": "stderr",
          "text": [
            "100%|██████████| 9/9 [00:04<00:00,  1.88it/s]\n",
            "100%|██████████| 9/9 [00:04<00:00,  1.88it/s]\n",
            "100%|██████████| 9/9 [00:04<00:00,  1.88it/s]\n",
            "100%|██████████| 9/9 [00:04<00:00,  1.89it/s]\n",
            "100%|██████████| 19/19 [00:10<00:00,  1.89it/s]\n",
            "100%|██████████| 19/19 [00:10<00:00,  1.89it/s]\n",
            "100%|██████████| 19/19 [00:10<00:00,  1.90it/s]\n",
            "100%|██████████| 38/38 [00:20<00:00,  1.89it/s]\n",
            "100%|██████████| 58/58 [00:30<00:00,  1.89it/s]\n",
            "100%|██████████| 155/155 [00:18<00:00,  8.43it/s]\n"
          ]
        },
        {
          "output_type": "stream",
          "name": "stdout",
          "text": [
            "tf.Tensor(0.61643153, shape=(), dtype=float32)\n",
            "Epoch 179\n"
          ]
        },
        {
          "output_type": "stream",
          "name": "stderr",
          "text": [
            "100%|██████████| 9/9 [00:04<00:00,  1.88it/s]\n",
            "100%|██████████| 9/9 [00:04<00:00,  1.87it/s]\n",
            "100%|██████████| 9/9 [00:04<00:00,  1.88it/s]\n",
            "100%|██████████| 9/9 [00:04<00:00,  1.88it/s]\n",
            "100%|██████████| 19/19 [00:10<00:00,  1.88it/s]\n",
            "100%|██████████| 19/19 [00:10<00:00,  1.89it/s]\n",
            "100%|██████████| 19/19 [00:10<00:00,  1.90it/s]\n",
            "100%|██████████| 38/38 [00:20<00:00,  1.90it/s]\n",
            "100%|██████████| 58/58 [00:30<00:00,  1.89it/s]\n",
            "100%|██████████| 155/155 [00:18<00:00,  8.42it/s]\n"
          ]
        },
        {
          "output_type": "stream",
          "name": "stdout",
          "text": [
            "tf.Tensor(0.6165664, shape=(), dtype=float32)\n",
            "Epoch 180\n"
          ]
        },
        {
          "output_type": "stream",
          "name": "stderr",
          "text": [
            "100%|██████████| 9/9 [00:04<00:00,  1.88it/s]\n",
            "100%|██████████| 9/9 [00:04<00:00,  1.88it/s]\n",
            "100%|██████████| 9/9 [00:04<00:00,  1.88it/s]\n",
            "100%|██████████| 9/9 [00:04<00:00,  1.89it/s]\n",
            "100%|██████████| 19/19 [00:10<00:00,  1.89it/s]\n",
            "100%|██████████| 19/19 [00:10<00:00,  1.90it/s]\n",
            "100%|██████████| 19/19 [00:10<00:00,  1.89it/s]\n",
            "100%|██████████| 38/38 [00:20<00:00,  1.90it/s]\n",
            "100%|██████████| 58/58 [00:30<00:00,  1.90it/s]\n",
            "100%|██████████| 155/155 [00:18<00:00,  8.47it/s]\n"
          ]
        },
        {
          "output_type": "stream",
          "name": "stdout",
          "text": [
            "tf.Tensor(0.6159419, shape=(), dtype=float32)\n",
            "Epoch 181\n"
          ]
        },
        {
          "output_type": "stream",
          "name": "stderr",
          "text": [
            "100%|██████████| 9/9 [00:04<00:00,  1.88it/s]\n",
            "100%|██████████| 9/9 [00:04<00:00,  1.87it/s]\n",
            "100%|██████████| 9/9 [00:04<00:00,  1.87it/s]\n",
            "100%|██████████| 9/9 [00:04<00:00,  1.88it/s]\n",
            "100%|██████████| 19/19 [00:10<00:00,  1.88it/s]\n",
            "100%|██████████| 19/19 [00:10<00:00,  1.89it/s]\n",
            "100%|██████████| 19/19 [00:10<00:00,  1.90it/s]\n",
            "100%|██████████| 38/38 [00:20<00:00,  1.90it/s]\n",
            "100%|██████████| 58/58 [00:30<00:00,  1.89it/s]\n",
            "100%|██████████| 155/155 [00:18<00:00,  8.30it/s]\n"
          ]
        },
        {
          "output_type": "stream",
          "name": "stdout",
          "text": [
            "tf.Tensor(0.6127919, shape=(), dtype=float32)\n",
            "Epoch 182\n"
          ]
        },
        {
          "output_type": "stream",
          "name": "stderr",
          "text": [
            "100%|██████████| 9/9 [00:04<00:00,  1.89it/s]\n",
            "100%|██████████| 9/9 [00:04<00:00,  1.88it/s]\n",
            "100%|██████████| 9/9 [00:04<00:00,  1.88it/s]\n",
            "100%|██████████| 9/9 [00:04<00:00,  1.88it/s]\n",
            "100%|██████████| 19/19 [00:10<00:00,  1.88it/s]\n",
            "100%|██████████| 19/19 [00:10<00:00,  1.88it/s]\n",
            "100%|██████████| 19/19 [00:10<00:00,  1.88it/s]\n",
            "100%|██████████| 38/38 [00:20<00:00,  1.89it/s]\n",
            "100%|██████████| 58/58 [00:30<00:00,  1.89it/s]\n",
            "100%|██████████| 155/155 [00:18<00:00,  8.32it/s]\n"
          ]
        },
        {
          "output_type": "stream",
          "name": "stdout",
          "text": [
            "tf.Tensor(0.6146644, shape=(), dtype=float32)\n",
            "Epoch 183\n"
          ]
        },
        {
          "output_type": "stream",
          "name": "stderr",
          "text": [
            "100%|██████████| 9/9 [00:04<00:00,  1.88it/s]\n",
            "100%|██████████| 9/9 [00:04<00:00,  1.87it/s]\n",
            "100%|██████████| 9/9 [00:04<00:00,  1.88it/s]\n",
            "100%|██████████| 9/9 [00:04<00:00,  1.88it/s]\n",
            "100%|██████████| 19/19 [00:10<00:00,  1.88it/s]\n",
            "100%|██████████| 19/19 [00:10<00:00,  1.89it/s]\n",
            "100%|██████████| 19/19 [00:10<00:00,  1.89it/s]\n",
            "100%|██████████| 38/38 [00:20<00:00,  1.89it/s]\n",
            "100%|██████████| 58/58 [00:30<00:00,  1.89it/s]\n",
            "100%|██████████| 155/155 [00:18<00:00,  8.46it/s]\n"
          ]
        },
        {
          "output_type": "stream",
          "name": "stdout",
          "text": [
            "tf.Tensor(0.61363924, shape=(), dtype=float32)\n",
            "Epoch 184\n"
          ]
        },
        {
          "output_type": "stream",
          "name": "stderr",
          "text": [
            "100%|██████████| 9/9 [00:04<00:00,  1.89it/s]\n",
            "100%|██████████| 9/9 [00:04<00:00,  1.88it/s]\n",
            "100%|██████████| 9/9 [00:04<00:00,  1.88it/s]\n",
            "100%|██████████| 9/9 [00:04<00:00,  1.88it/s]\n",
            "100%|██████████| 19/19 [00:10<00:00,  1.88it/s]\n",
            "100%|██████████| 19/19 [00:10<00:00,  1.89it/s]\n",
            "100%|██████████| 19/19 [00:10<00:00,  1.90it/s]\n",
            "100%|██████████| 38/38 [00:20<00:00,  1.88it/s]\n",
            "100%|██████████| 58/58 [00:30<00:00,  1.89it/s]\n",
            "100%|██████████| 155/155 [00:18<00:00,  8.55it/s]\n"
          ]
        },
        {
          "output_type": "stream",
          "name": "stdout",
          "text": [
            "tf.Tensor(0.61674523, shape=(), dtype=float32)\n",
            "Epoch 185\n"
          ]
        },
        {
          "output_type": "stream",
          "name": "stderr",
          "text": [
            "100%|██████████| 9/9 [00:04<00:00,  1.88it/s]\n",
            "100%|██████████| 9/9 [00:04<00:00,  1.88it/s]\n",
            "100%|██████████| 9/9 [00:04<00:00,  1.88it/s]\n",
            "100%|██████████| 9/9 [00:04<00:00,  1.88it/s]\n",
            "100%|██████████| 19/19 [00:10<00:00,  1.89it/s]\n",
            "100%|██████████| 19/19 [00:10<00:00,  1.89it/s]\n",
            "100%|██████████| 19/19 [00:10<00:00,  1.90it/s]\n",
            "100%|██████████| 38/38 [00:20<00:00,  1.89it/s]\n",
            "100%|██████████| 58/58 [00:30<00:00,  1.89it/s]\n",
            "100%|██████████| 155/155 [00:18<00:00,  8.39it/s]\n"
          ]
        },
        {
          "output_type": "stream",
          "name": "stdout",
          "text": [
            "tf.Tensor(0.6195439, shape=(), dtype=float32)\n",
            "Epoch 186\n"
          ]
        },
        {
          "output_type": "stream",
          "name": "stderr",
          "text": [
            "100%|██████████| 9/9 [00:04<00:00,  1.87it/s]\n",
            "100%|██████████| 9/9 [00:04<00:00,  1.87it/s]\n",
            "100%|██████████| 9/9 [00:04<00:00,  1.86it/s]\n",
            "100%|██████████| 9/9 [00:04<00:00,  1.86it/s]\n",
            "100%|██████████| 19/19 [00:10<00:00,  1.88it/s]\n",
            "100%|██████████| 19/19 [00:10<00:00,  1.89it/s]\n",
            "100%|██████████| 19/19 [00:10<00:00,  1.89it/s]\n",
            "100%|██████████| 38/38 [00:20<00:00,  1.89it/s]\n",
            "100%|██████████| 58/58 [00:30<00:00,  1.88it/s]\n",
            "100%|██████████| 155/155 [00:18<00:00,  8.32it/s]\n"
          ]
        },
        {
          "output_type": "stream",
          "name": "stdout",
          "text": [
            "tf.Tensor(0.61358947, shape=(), dtype=float32)\n",
            "Epoch 187\n"
          ]
        },
        {
          "output_type": "stream",
          "name": "stderr",
          "text": [
            "100%|██████████| 9/9 [00:04<00:00,  1.88it/s]\n",
            "100%|██████████| 9/9 [00:04<00:00,  1.87it/s]\n",
            "100%|██████████| 9/9 [00:04<00:00,  1.87it/s]\n",
            "100%|██████████| 9/9 [00:04<00:00,  1.88it/s]\n",
            "100%|██████████| 19/19 [00:10<00:00,  1.88it/s]\n",
            "100%|██████████| 19/19 [00:10<00:00,  1.88it/s]\n",
            "100%|██████████| 19/19 [00:10<00:00,  1.88it/s]\n",
            "100%|██████████| 38/38 [00:20<00:00,  1.88it/s]\n",
            "100%|██████████| 58/58 [00:31<00:00,  1.86it/s]\n",
            "100%|██████████| 155/155 [00:18<00:00,  8.19it/s]\n"
          ]
        },
        {
          "output_type": "stream",
          "name": "stdout",
          "text": [
            "tf.Tensor(0.6150004, shape=(), dtype=float32)\n",
            "Epoch 188\n"
          ]
        },
        {
          "output_type": "stream",
          "name": "stderr",
          "text": [
            "100%|██████████| 9/9 [00:04<00:00,  1.87it/s]\n",
            "100%|██████████| 9/9 [00:04<00:00,  1.87it/s]\n",
            "100%|██████████| 9/9 [00:04<00:00,  1.87it/s]\n",
            "100%|██████████| 9/9 [00:04<00:00,  1.87it/s]\n",
            "100%|██████████| 19/19 [00:10<00:00,  1.87it/s]\n",
            "100%|██████████| 19/19 [00:10<00:00,  1.88it/s]\n",
            "100%|██████████| 19/19 [00:10<00:00,  1.89it/s]\n",
            "100%|██████████| 38/38 [00:20<00:00,  1.89it/s]\n",
            "100%|██████████| 58/58 [00:30<00:00,  1.88it/s]\n",
            "100%|██████████| 155/155 [00:18<00:00,  8.23it/s]\n"
          ]
        },
        {
          "output_type": "stream",
          "name": "stdout",
          "text": [
            "tf.Tensor(0.6135113, shape=(), dtype=float32)\n",
            "Epoch 189\n"
          ]
        },
        {
          "output_type": "stream",
          "name": "stderr",
          "text": [
            "100%|██████████| 9/9 [00:04<00:00,  1.87it/s]\n",
            "100%|██████████| 9/9 [00:04<00:00,  1.87it/s]\n",
            "100%|██████████| 9/9 [00:04<00:00,  1.87it/s]\n",
            "100%|██████████| 9/9 [00:04<00:00,  1.87it/s]\n",
            "100%|██████████| 19/19 [00:10<00:00,  1.87it/s]\n",
            "100%|██████████| 19/19 [00:10<00:00,  1.88it/s]\n",
            "100%|██████████| 19/19 [00:10<00:00,  1.89it/s]\n",
            "100%|██████████| 38/38 [00:20<00:00,  1.89it/s]\n",
            "100%|██████████| 58/58 [00:30<00:00,  1.88it/s]\n",
            "100%|██████████| 155/155 [00:18<00:00,  8.29it/s]\n"
          ]
        },
        {
          "output_type": "stream",
          "name": "stdout",
          "text": [
            "tf.Tensor(0.61390513, shape=(), dtype=float32)\n",
            "Epoch 190\n"
          ]
        },
        {
          "output_type": "stream",
          "name": "stderr",
          "text": [
            "100%|██████████| 9/9 [00:04<00:00,  1.90it/s]\n",
            "100%|██████████| 9/9 [00:04<00:00,  1.89it/s]\n",
            "100%|██████████| 9/9 [00:04<00:00,  1.89it/s]\n",
            "100%|██████████| 9/9 [00:04<00:00,  1.89it/s]\n",
            "100%|██████████| 19/19 [00:10<00:00,  1.88it/s]\n",
            "100%|██████████| 19/19 [00:10<00:00,  1.89it/s]\n",
            "100%|██████████| 19/19 [00:10<00:00,  1.89it/s]\n",
            "100%|██████████| 38/38 [00:20<00:00,  1.88it/s]\n",
            "100%|██████████| 58/58 [00:30<00:00,  1.88it/s]\n",
            "100%|██████████| 155/155 [00:18<00:00,  8.27it/s]\n"
          ]
        },
        {
          "output_type": "stream",
          "name": "stdout",
          "text": [
            "tf.Tensor(0.61718863, shape=(), dtype=float32)\n",
            "Epoch 191\n"
          ]
        },
        {
          "output_type": "stream",
          "name": "stderr",
          "text": [
            "100%|██████████| 9/9 [00:04<00:00,  1.89it/s]\n",
            "100%|██████████| 9/9 [00:04<00:00,  1.89it/s]\n",
            "100%|██████████| 9/9 [00:04<00:00,  1.89it/s]\n",
            "100%|██████████| 9/9 [00:04<00:00,  1.89it/s]\n",
            "100%|██████████| 19/19 [00:10<00:00,  1.89it/s]\n",
            "100%|██████████| 19/19 [00:10<00:00,  1.89it/s]\n",
            "100%|██████████| 19/19 [00:10<00:00,  1.88it/s]\n",
            "100%|██████████| 38/38 [00:20<00:00,  1.89it/s]\n",
            "100%|██████████| 58/58 [00:30<00:00,  1.89it/s]\n",
            "100%|██████████| 155/155 [00:18<00:00,  8.26it/s]\n"
          ]
        },
        {
          "output_type": "stream",
          "name": "stdout",
          "text": [
            "tf.Tensor(0.6156884, shape=(), dtype=float32)\n",
            "Epoch 192\n"
          ]
        },
        {
          "output_type": "stream",
          "name": "stderr",
          "text": [
            "100%|██████████| 9/9 [00:04<00:00,  1.90it/s]\n",
            "100%|██████████| 9/9 [00:04<00:00,  1.89it/s]\n",
            "100%|██████████| 9/9 [00:04<00:00,  1.89it/s]\n",
            "100%|██████████| 9/9 [00:04<00:00,  1.89it/s]\n",
            "100%|██████████| 19/19 [00:10<00:00,  1.89it/s]\n",
            "100%|██████████| 19/19 [00:10<00:00,  1.89it/s]\n",
            "100%|██████████| 19/19 [00:10<00:00,  1.89it/s]\n",
            "100%|██████████| 38/38 [00:20<00:00,  1.89it/s]\n",
            "100%|██████████| 58/58 [00:30<00:00,  1.89it/s]\n",
            "100%|██████████| 155/155 [00:18<00:00,  8.25it/s]\n"
          ]
        },
        {
          "output_type": "stream",
          "name": "stdout",
          "text": [
            "tf.Tensor(0.61607814, shape=(), dtype=float32)\n",
            "Epoch 193\n"
          ]
        },
        {
          "output_type": "stream",
          "name": "stderr",
          "text": [
            "100%|██████████| 9/9 [00:04<00:00,  1.90it/s]\n",
            "100%|██████████| 9/9 [00:04<00:00,  1.90it/s]\n",
            "100%|██████████| 9/9 [00:04<00:00,  1.90it/s]\n",
            "100%|██████████| 9/9 [00:04<00:00,  1.89it/s]\n",
            "100%|██████████| 19/19 [00:10<00:00,  1.89it/s]\n",
            "100%|██████████| 19/19 [00:10<00:00,  1.89it/s]\n",
            "100%|██████████| 19/19 [00:10<00:00,  1.88it/s]\n",
            "100%|██████████| 38/38 [00:20<00:00,  1.88it/s]\n",
            "100%|██████████| 58/58 [00:30<00:00,  1.88it/s]\n",
            "100%|██████████| 155/155 [00:18<00:00,  8.30it/s]\n"
          ]
        },
        {
          "output_type": "stream",
          "name": "stdout",
          "text": [
            "tf.Tensor(0.6130679, shape=(), dtype=float32)\n",
            "Epoch 194\n"
          ]
        },
        {
          "output_type": "stream",
          "name": "stderr",
          "text": [
            "100%|██████████| 9/9 [00:04<00:00,  1.90it/s]\n",
            "100%|██████████| 9/9 [00:04<00:00,  1.89it/s]\n",
            "100%|██████████| 9/9 [00:04<00:00,  1.89it/s]\n",
            "100%|██████████| 9/9 [00:04<00:00,  1.89it/s]\n",
            "100%|██████████| 19/19 [00:10<00:00,  1.89it/s]\n",
            "100%|██████████| 19/19 [00:10<00:00,  1.89it/s]\n",
            "100%|██████████| 19/19 [00:10<00:00,  1.89it/s]\n",
            "100%|██████████| 38/38 [00:20<00:00,  1.89it/s]\n",
            "100%|██████████| 58/58 [00:30<00:00,  1.89it/s]\n",
            "100%|██████████| 155/155 [00:18<00:00,  8.26it/s]\n"
          ]
        },
        {
          "output_type": "stream",
          "name": "stdout",
          "text": [
            "tf.Tensor(0.6148959, shape=(), dtype=float32)\n",
            "Epoch 195\n"
          ]
        },
        {
          "output_type": "stream",
          "name": "stderr",
          "text": [
            "100%|██████████| 9/9 [00:04<00:00,  1.89it/s]\n",
            "100%|██████████| 9/9 [00:04<00:00,  1.89it/s]\n",
            "100%|██████████| 9/9 [00:04<00:00,  1.90it/s]\n",
            "100%|██████████| 9/9 [00:04<00:00,  1.90it/s]\n",
            "100%|██████████| 19/19 [00:10<00:00,  1.89it/s]\n",
            "100%|██████████| 19/19 [00:10<00:00,  1.88it/s]\n",
            "100%|██████████| 19/19 [00:10<00:00,  1.88it/s]\n",
            "100%|██████████| 38/38 [00:20<00:00,  1.89it/s]\n",
            "100%|██████████| 58/58 [00:30<00:00,  1.88it/s]\n",
            "100%|██████████| 155/155 [00:18<00:00,  8.40it/s]\n"
          ]
        },
        {
          "output_type": "stream",
          "name": "stdout",
          "text": [
            "tf.Tensor(0.6107557, shape=(), dtype=float32)\n",
            "Epoch 196\n"
          ]
        },
        {
          "output_type": "stream",
          "name": "stderr",
          "text": [
            "100%|██████████| 9/9 [00:04<00:00,  1.89it/s]\n",
            "100%|██████████| 9/9 [00:04<00:00,  1.89it/s]\n",
            "100%|██████████| 9/9 [00:04<00:00,  1.88it/s]\n",
            "100%|██████████| 9/9 [00:04<00:00,  1.87it/s]\n",
            "100%|██████████| 19/19 [00:10<00:00,  1.88it/s]\n",
            "100%|██████████| 19/19 [00:10<00:00,  1.88it/s]\n",
            "100%|██████████| 19/19 [00:10<00:00,  1.89it/s]\n",
            "100%|██████████| 38/38 [00:20<00:00,  1.89it/s]\n",
            "100%|██████████| 58/58 [00:30<00:00,  1.89it/s]\n",
            "100%|██████████| 155/155 [00:18<00:00,  8.35it/s]\n"
          ]
        },
        {
          "output_type": "stream",
          "name": "stdout",
          "text": [
            "tf.Tensor(0.61264586, shape=(), dtype=float32)\n",
            "Epoch 197\n"
          ]
        },
        {
          "output_type": "stream",
          "name": "stderr",
          "text": [
            "100%|██████████| 9/9 [00:04<00:00,  1.88it/s]\n",
            "100%|██████████| 9/9 [00:04<00:00,  1.87it/s]\n",
            "100%|██████████| 9/9 [00:04<00:00,  1.88it/s]\n",
            "100%|██████████| 9/9 [00:04<00:00,  1.88it/s]\n",
            "100%|██████████| 19/19 [00:10<00:00,  1.88it/s]\n",
            "100%|██████████| 19/19 [00:10<00:00,  1.89it/s]\n",
            "100%|██████████| 19/19 [00:10<00:00,  1.89it/s]\n",
            "100%|██████████| 38/38 [00:20<00:00,  1.89it/s]\n",
            "100%|██████████| 58/58 [00:30<00:00,  1.88it/s]\n",
            "100%|██████████| 155/155 [00:18<00:00,  8.31it/s]\n"
          ]
        },
        {
          "output_type": "stream",
          "name": "stdout",
          "text": [
            "tf.Tensor(0.6158914, shape=(), dtype=float32)\n",
            "Epoch 198\n"
          ]
        },
        {
          "output_type": "stream",
          "name": "stderr",
          "text": [
            "100%|██████████| 9/9 [00:04<00:00,  1.88it/s]\n",
            "100%|██████████| 9/9 [00:04<00:00,  1.87it/s]\n",
            "100%|██████████| 9/9 [00:04<00:00,  1.88it/s]\n",
            "100%|██████████| 9/9 [00:04<00:00,  1.87it/s]\n",
            "100%|██████████| 19/19 [00:10<00:00,  1.88it/s]\n",
            "100%|██████████| 19/19 [00:10<00:00,  1.88it/s]\n",
            "100%|██████████| 19/19 [00:10<00:00,  1.89it/s]\n",
            "100%|██████████| 38/38 [00:20<00:00,  1.89it/s]\n",
            "100%|██████████| 58/58 [00:30<00:00,  1.89it/s]\n",
            "100%|██████████| 155/155 [00:18<00:00,  8.41it/s]\n"
          ]
        },
        {
          "output_type": "stream",
          "name": "stdout",
          "text": [
            "tf.Tensor(0.61366004, shape=(), dtype=float32)\n",
            "Epoch 199\n"
          ]
        },
        {
          "output_type": "stream",
          "name": "stderr",
          "text": [
            "100%|██████████| 9/9 [00:04<00:00,  1.89it/s]\n",
            "100%|██████████| 9/9 [00:04<00:00,  1.88it/s]\n",
            "100%|██████████| 9/9 [00:04<00:00,  1.88it/s]\n",
            "100%|██████████| 9/9 [00:04<00:00,  1.87it/s]\n",
            "100%|██████████| 19/19 [00:10<00:00,  1.88it/s]\n",
            "100%|██████████| 19/19 [00:10<00:00,  1.89it/s]\n",
            "100%|██████████| 19/19 [00:10<00:00,  1.90it/s]\n",
            "100%|██████████| 38/38 [00:20<00:00,  1.89it/s]\n",
            "100%|██████████| 58/58 [00:30<00:00,  1.88it/s]\n",
            "100%|██████████| 155/155 [00:18<00:00,  8.39it/s]\n"
          ]
        },
        {
          "output_type": "stream",
          "name": "stdout",
          "text": [
            "tf.Tensor(0.61330944, shape=(), dtype=float32)\n",
            "Epoch 200\n"
          ]
        },
        {
          "output_type": "stream",
          "name": "stderr",
          "text": [
            "100%|██████████| 9/9 [00:04<00:00,  1.87it/s]\n",
            "100%|██████████| 9/9 [00:04<00:00,  1.87it/s]\n",
            "100%|██████████| 9/9 [00:04<00:00,  1.87it/s]\n",
            "100%|██████████| 9/9 [00:04<00:00,  1.88it/s]\n",
            "100%|██████████| 19/19 [00:10<00:00,  1.87it/s]\n",
            "100%|██████████| 19/19 [00:10<00:00,  1.87it/s]\n",
            "100%|██████████| 19/19 [00:10<00:00,  1.88it/s]\n",
            "100%|██████████| 38/38 [00:20<00:00,  1.88it/s]\n",
            "100%|██████████| 58/58 [00:30<00:00,  1.87it/s]\n",
            "100%|██████████| 155/155 [00:18<00:00,  8.26it/s]\n"
          ]
        },
        {
          "output_type": "stream",
          "name": "stdout",
          "text": [
            "tf.Tensor(0.61191326, shape=(), dtype=float32)\n",
            "Epoch 201\n"
          ]
        },
        {
          "output_type": "stream",
          "name": "stderr",
          "text": [
            "100%|██████████| 9/9 [00:04<00:00,  1.88it/s]\n",
            "100%|██████████| 9/9 [00:04<00:00,  1.87it/s]\n",
            "100%|██████████| 9/9 [00:04<00:00,  1.87it/s]\n",
            "100%|██████████| 9/9 [00:04<00:00,  1.88it/s]\n",
            "100%|██████████| 19/19 [00:10<00:00,  1.87it/s]\n",
            "100%|██████████| 19/19 [00:10<00:00,  1.88it/s]\n",
            "100%|██████████| 19/19 [00:10<00:00,  1.89it/s]\n",
            "100%|██████████| 38/38 [00:20<00:00,  1.89it/s]\n",
            "100%|██████████| 58/58 [00:30<00:00,  1.88it/s]\n",
            "100%|██████████| 155/155 [00:18<00:00,  8.45it/s]\n"
          ]
        },
        {
          "output_type": "stream",
          "name": "stdout",
          "text": [
            "tf.Tensor(0.6138459, shape=(), dtype=float32)\n",
            "Epoch 202\n"
          ]
        },
        {
          "output_type": "stream",
          "name": "stderr",
          "text": [
            "100%|██████████| 9/9 [00:04<00:00,  1.89it/s]\n",
            "100%|██████████| 9/9 [00:04<00:00,  1.89it/s]\n",
            "100%|██████████| 9/9 [00:04<00:00,  1.88it/s]\n",
            "100%|██████████| 9/9 [00:04<00:00,  1.88it/s]\n",
            "100%|██████████| 19/19 [00:10<00:00,  1.88it/s]\n",
            "100%|██████████| 19/19 [00:10<00:00,  1.89it/s]\n",
            "100%|██████████| 19/19 [00:10<00:00,  1.89it/s]\n",
            "100%|██████████| 38/38 [00:20<00:00,  1.89it/s]\n",
            "100%|██████████| 58/58 [00:30<00:00,  1.88it/s]\n",
            "100%|██████████| 155/155 [00:18<00:00,  8.30it/s]\n"
          ]
        },
        {
          "output_type": "stream",
          "name": "stdout",
          "text": [
            "tf.Tensor(0.61136484, shape=(), dtype=float32)\n",
            "Epoch 203\n"
          ]
        },
        {
          "output_type": "stream",
          "name": "stderr",
          "text": [
            "100%|██████████| 9/9 [00:04<00:00,  1.88it/s]\n",
            "100%|██████████| 9/9 [00:04<00:00,  1.88it/s]\n",
            "100%|██████████| 9/9 [00:04<00:00,  1.88it/s]\n",
            "100%|██████████| 9/9 [00:04<00:00,  1.88it/s]\n",
            "100%|██████████| 19/19 [00:10<00:00,  1.88it/s]\n",
            "100%|██████████| 19/19 [00:10<00:00,  1.89it/s]\n",
            "100%|██████████| 19/19 [00:10<00:00,  1.89it/s]\n",
            "100%|██████████| 38/38 [00:20<00:00,  1.89it/s]\n",
            "100%|██████████| 58/58 [00:30<00:00,  1.88it/s]\n",
            "100%|██████████| 155/155 [00:18<00:00,  8.31it/s]\n"
          ]
        },
        {
          "output_type": "stream",
          "name": "stdout",
          "text": [
            "tf.Tensor(0.61135685, shape=(), dtype=float32)\n",
            "Epoch 204\n"
          ]
        },
        {
          "output_type": "stream",
          "name": "stderr",
          "text": [
            "100%|██████████| 9/9 [00:04<00:00,  1.87it/s]\n",
            "100%|██████████| 9/9 [00:04<00:00,  1.87it/s]\n",
            "100%|██████████| 9/9 [00:04<00:00,  1.87it/s]\n",
            "100%|██████████| 9/9 [00:04<00:00,  1.88it/s]\n",
            "100%|██████████| 19/19 [00:10<00:00,  1.88it/s]\n",
            "100%|██████████| 19/19 [00:10<00:00,  1.88it/s]\n",
            "100%|██████████| 19/19 [00:10<00:00,  1.89it/s]\n",
            "100%|██████████| 38/38 [00:20<00:00,  1.90it/s]\n",
            "100%|██████████| 58/58 [00:30<00:00,  1.89it/s]\n",
            "100%|██████████| 155/155 [00:18<00:00,  8.41it/s]\n"
          ]
        },
        {
          "output_type": "stream",
          "name": "stdout",
          "text": [
            "tf.Tensor(0.6099832, shape=(), dtype=float32)\n",
            "Epoch 205\n"
          ]
        },
        {
          "output_type": "stream",
          "name": "stderr",
          "text": [
            "100%|██████████| 9/9 [00:04<00:00,  1.87it/s]\n",
            "100%|██████████| 9/9 [00:04<00:00,  1.87it/s]\n",
            "100%|██████████| 9/9 [00:04<00:00,  1.88it/s]\n",
            "100%|██████████| 9/9 [00:04<00:00,  1.88it/s]\n",
            "100%|██████████| 19/19 [00:10<00:00,  1.88it/s]\n",
            "100%|██████████| 19/19 [00:10<00:00,  1.89it/s]\n",
            "100%|██████████| 19/19 [00:10<00:00,  1.89it/s]\n",
            "100%|██████████| 38/38 [00:20<00:00,  1.89it/s]\n",
            "100%|██████████| 58/58 [00:30<00:00,  1.89it/s]\n",
            "100%|██████████| 155/155 [00:18<00:00,  8.41it/s]\n"
          ]
        },
        {
          "output_type": "stream",
          "name": "stdout",
          "text": [
            "tf.Tensor(0.61781245, shape=(), dtype=float32)\n",
            "Epoch 206\n"
          ]
        },
        {
          "output_type": "stream",
          "name": "stderr",
          "text": [
            "100%|██████████| 9/9 [00:04<00:00,  1.87it/s]\n",
            "100%|██████████| 9/9 [00:04<00:00,  1.88it/s]\n",
            "100%|██████████| 9/9 [00:04<00:00,  1.88it/s]\n",
            "100%|██████████| 9/9 [00:04<00:00,  1.88it/s]\n",
            "100%|██████████| 19/19 [00:10<00:00,  1.88it/s]\n",
            "100%|██████████| 19/19 [00:10<00:00,  1.89it/s]\n",
            "100%|██████████| 19/19 [00:10<00:00,  1.90it/s]\n",
            "100%|██████████| 38/38 [00:20<00:00,  1.90it/s]\n",
            "100%|██████████| 58/58 [00:30<00:00,  1.89it/s]\n",
            "100%|██████████| 155/155 [00:18<00:00,  8.44it/s]\n"
          ]
        },
        {
          "output_type": "stream",
          "name": "stdout",
          "text": [
            "tf.Tensor(0.61288357, shape=(), dtype=float32)\n",
            "Epoch 207\n"
          ]
        },
        {
          "output_type": "stream",
          "name": "stderr",
          "text": [
            "100%|██████████| 9/9 [00:04<00:00,  1.89it/s]\n",
            "100%|██████████| 9/9 [00:04<00:00,  1.88it/s]\n",
            "100%|██████████| 9/9 [00:04<00:00,  1.87it/s]\n",
            "100%|██████████| 9/9 [00:04<00:00,  1.88it/s]\n",
            "100%|██████████| 19/19 [00:10<00:00,  1.88it/s]\n",
            "100%|██████████| 19/19 [00:10<00:00,  1.89it/s]\n",
            "100%|██████████| 19/19 [00:10<00:00,  1.89it/s]\n",
            "100%|██████████| 38/38 [00:20<00:00,  1.89it/s]\n",
            "100%|██████████| 58/58 [00:30<00:00,  1.88it/s]\n",
            "100%|██████████| 155/155 [00:18<00:00,  8.39it/s]\n"
          ]
        },
        {
          "output_type": "stream",
          "name": "stdout",
          "text": [
            "tf.Tensor(0.61569256, shape=(), dtype=float32)\n",
            "Epoch 208\n"
          ]
        },
        {
          "output_type": "stream",
          "name": "stderr",
          "text": [
            "100%|██████████| 9/9 [00:04<00:00,  1.88it/s]\n",
            "100%|██████████| 9/9 [00:04<00:00,  1.88it/s]\n",
            "100%|██████████| 9/9 [00:04<00:00,  1.88it/s]\n",
            "100%|██████████| 9/9 [00:04<00:00,  1.88it/s]\n",
            "100%|██████████| 19/19 [00:10<00:00,  1.88it/s]\n",
            "100%|██████████| 19/19 [00:10<00:00,  1.89it/s]\n",
            "100%|██████████| 19/19 [00:10<00:00,  1.90it/s]\n",
            "100%|██████████| 38/38 [00:20<00:00,  1.89it/s]\n",
            "100%|██████████| 58/58 [00:30<00:00,  1.89it/s]\n",
            "100%|██████████| 155/155 [00:18<00:00,  8.47it/s]\n"
          ]
        },
        {
          "output_type": "stream",
          "name": "stdout",
          "text": [
            "tf.Tensor(0.6167848, shape=(), dtype=float32)\n",
            "Epoch 209\n"
          ]
        },
        {
          "output_type": "stream",
          "name": "stderr",
          "text": [
            "100%|██████████| 9/9 [00:04<00:00,  1.88it/s]\n",
            "100%|██████████| 9/9 [00:04<00:00,  1.88it/s]\n",
            "100%|██████████| 9/9 [00:04<00:00,  1.88it/s]\n",
            "100%|██████████| 9/9 [00:04<00:00,  1.88it/s]\n",
            "100%|██████████| 19/19 [00:10<00:00,  1.89it/s]\n",
            "100%|██████████| 19/19 [00:10<00:00,  1.89it/s]\n",
            "100%|██████████| 19/19 [00:10<00:00,  1.89it/s]\n",
            "100%|██████████| 38/38 [00:20<00:00,  1.89it/s]\n",
            "100%|██████████| 58/58 [00:30<00:00,  1.89it/s]\n",
            "100%|██████████| 155/155 [00:18<00:00,  8.44it/s]\n"
          ]
        },
        {
          "output_type": "stream",
          "name": "stdout",
          "text": [
            "tf.Tensor(0.6110747, shape=(), dtype=float32)\n",
            "Epoch 210\n"
          ]
        },
        {
          "output_type": "stream",
          "name": "stderr",
          "text": [
            "100%|██████████| 9/9 [00:04<00:00,  1.88it/s]\n",
            "100%|██████████| 9/9 [00:04<00:00,  1.88it/s]\n",
            "100%|██████████| 9/9 [00:04<00:00,  1.88it/s]\n",
            "100%|██████████| 9/9 [00:04<00:00,  1.89it/s]\n",
            "100%|██████████| 19/19 [00:10<00:00,  1.88it/s]\n",
            "100%|██████████| 19/19 [00:10<00:00,  1.89it/s]\n",
            "100%|██████████| 19/19 [00:10<00:00,  1.90it/s]\n",
            "100%|██████████| 38/38 [00:20<00:00,  1.90it/s]\n",
            "100%|██████████| 58/58 [00:30<00:00,  1.89it/s]\n",
            "100%|██████████| 155/155 [00:18<00:00,  8.46it/s]\n"
          ]
        },
        {
          "output_type": "stream",
          "name": "stdout",
          "text": [
            "tf.Tensor(0.6107161, shape=(), dtype=float32)\n",
            "Epoch 211\n"
          ]
        },
        {
          "output_type": "stream",
          "name": "stderr",
          "text": [
            "100%|██████████| 9/9 [00:04<00:00,  1.88it/s]\n",
            "100%|██████████| 9/9 [00:04<00:00,  1.88it/s]\n",
            "100%|██████████| 9/9 [00:04<00:00,  1.88it/s]\n",
            "100%|██████████| 9/9 [00:04<00:00,  1.88it/s]\n",
            "100%|██████████| 19/19 [00:10<00:00,  1.88it/s]\n",
            "100%|██████████| 19/19 [00:10<00:00,  1.89it/s]\n",
            "100%|██████████| 19/19 [00:10<00:00,  1.89it/s]\n",
            "100%|██████████| 38/38 [00:20<00:00,  1.90it/s]\n",
            "100%|██████████| 58/58 [00:30<00:00,  1.89it/s]\n",
            "100%|██████████| 155/155 [00:18<00:00,  8.43it/s]\n"
          ]
        },
        {
          "output_type": "stream",
          "name": "stdout",
          "text": [
            "tf.Tensor(0.6137637, shape=(), dtype=float32)\n",
            "Epoch 212\n"
          ]
        },
        {
          "output_type": "stream",
          "name": "stderr",
          "text": [
            "100%|██████████| 9/9 [00:04<00:00,  1.88it/s]\n",
            "100%|██████████| 9/9 [00:04<00:00,  1.88it/s]\n",
            "100%|██████████| 9/9 [00:04<00:00,  1.87it/s]\n",
            "100%|██████████| 9/9 [00:04<00:00,  1.88it/s]\n",
            "100%|██████████| 19/19 [00:10<00:00,  1.88it/s]\n",
            "100%|██████████| 19/19 [00:10<00:00,  1.89it/s]\n",
            "100%|██████████| 19/19 [00:10<00:00,  1.89it/s]\n",
            "100%|██████████| 38/38 [00:20<00:00,  1.89it/s]\n",
            "100%|██████████| 58/58 [00:30<00:00,  1.89it/s]\n",
            "100%|██████████| 155/155 [00:18<00:00,  8.44it/s]\n"
          ]
        },
        {
          "output_type": "stream",
          "name": "stdout",
          "text": [
            "tf.Tensor(0.6140871, shape=(), dtype=float32)\n",
            "Epoch 213\n"
          ]
        },
        {
          "output_type": "stream",
          "name": "stderr",
          "text": [
            "100%|██████████| 9/9 [00:04<00:00,  1.88it/s]\n",
            "100%|██████████| 9/9 [00:04<00:00,  1.87it/s]\n",
            "100%|██████████| 9/9 [00:04<00:00,  1.87it/s]\n",
            "100%|██████████| 9/9 [00:04<00:00,  1.88it/s]\n",
            "100%|██████████| 19/19 [00:10<00:00,  1.88it/s]\n",
            "100%|██████████| 19/19 [00:10<00:00,  1.89it/s]\n",
            "100%|██████████| 19/19 [00:10<00:00,  1.90it/s]\n",
            "100%|██████████| 38/38 [00:20<00:00,  1.89it/s]\n",
            "100%|██████████| 58/58 [00:30<00:00,  1.89it/s]\n",
            "100%|██████████| 155/155 [00:18<00:00,  8.42it/s]\n"
          ]
        },
        {
          "output_type": "stream",
          "name": "stdout",
          "text": [
            "tf.Tensor(0.61230606, shape=(), dtype=float32)\n",
            "Epoch 214\n"
          ]
        },
        {
          "output_type": "stream",
          "name": "stderr",
          "text": [
            "100%|██████████| 9/9 [00:04<00:00,  1.88it/s]\n",
            "100%|██████████| 9/9 [00:04<00:00,  1.88it/s]\n",
            "100%|██████████| 9/9 [00:04<00:00,  1.88it/s]\n",
            "100%|██████████| 9/9 [00:04<00:00,  1.88it/s]\n",
            "100%|██████████| 19/19 [00:10<00:00,  1.89it/s]\n",
            "100%|██████████| 19/19 [00:10<00:00,  1.89it/s]\n",
            "100%|██████████| 19/19 [00:10<00:00,  1.89it/s]\n",
            "100%|██████████| 38/38 [00:20<00:00,  1.90it/s]\n",
            "100%|██████████| 58/58 [00:30<00:00,  1.89it/s]\n",
            "100%|██████████| 155/155 [00:18<00:00,  8.39it/s]\n"
          ]
        },
        {
          "output_type": "stream",
          "name": "stdout",
          "text": [
            "tf.Tensor(0.6091858, shape=(), dtype=float32)\n",
            "Epoch 215\n"
          ]
        },
        {
          "output_type": "stream",
          "name": "stderr",
          "text": [
            "100%|██████████| 9/9 [00:04<00:00,  1.87it/s]\n",
            "100%|██████████| 9/9 [00:04<00:00,  1.87it/s]\n",
            "100%|██████████| 9/9 [00:04<00:00,  1.87it/s]\n",
            "100%|██████████| 9/9 [00:04<00:00,  1.88it/s]\n",
            "100%|██████████| 19/19 [00:10<00:00,  1.88it/s]\n",
            "100%|██████████| 19/19 [00:10<00:00,  1.89it/s]\n",
            "100%|██████████| 19/19 [00:10<00:00,  1.89it/s]\n",
            "100%|██████████| 38/38 [00:20<00:00,  1.89it/s]\n",
            "100%|██████████| 58/58 [00:30<00:00,  1.88it/s]\n",
            "100%|██████████| 155/155 [00:18<00:00,  8.44it/s]\n"
          ]
        },
        {
          "output_type": "stream",
          "name": "stdout",
          "text": [
            "tf.Tensor(0.6128902, shape=(), dtype=float32)\n",
            "Epoch 216\n"
          ]
        },
        {
          "output_type": "stream",
          "name": "stderr",
          "text": [
            "100%|██████████| 9/9 [00:04<00:00,  1.88it/s]\n",
            "100%|██████████| 9/9 [00:04<00:00,  1.88it/s]\n",
            "100%|██████████| 9/9 [00:04<00:00,  1.87it/s]\n",
            "100%|██████████| 9/9 [00:04<00:00,  1.87it/s]\n",
            "100%|██████████| 19/19 [00:10<00:00,  1.88it/s]\n",
            "100%|██████████| 19/19 [00:10<00:00,  1.89it/s]\n",
            "100%|██████████| 19/19 [00:10<00:00,  1.89it/s]\n",
            "100%|██████████| 38/38 [00:20<00:00,  1.89it/s]\n",
            "100%|██████████| 58/58 [00:30<00:00,  1.89it/s]\n",
            "100%|██████████| 155/155 [00:18<00:00,  8.41it/s]\n"
          ]
        },
        {
          "output_type": "stream",
          "name": "stdout",
          "text": [
            "tf.Tensor(0.6099639, shape=(), dtype=float32)\n",
            "Epoch 217\n"
          ]
        },
        {
          "output_type": "stream",
          "name": "stderr",
          "text": [
            "100%|██████████| 9/9 [00:04<00:00,  1.88it/s]\n",
            "100%|██████████| 9/9 [00:04<00:00,  1.88it/s]\n",
            "100%|██████████| 9/9 [00:04<00:00,  1.87it/s]\n",
            "100%|██████████| 9/9 [00:04<00:00,  1.88it/s]\n",
            "100%|██████████| 19/19 [00:10<00:00,  1.88it/s]\n",
            "100%|██████████| 19/19 [00:10<00:00,  1.89it/s]\n",
            "100%|██████████| 19/19 [00:10<00:00,  1.89it/s]\n",
            "100%|██████████| 38/38 [00:20<00:00,  1.89it/s]\n",
            "100%|██████████| 58/58 [00:30<00:00,  1.89it/s]\n",
            "100%|██████████| 155/155 [00:18<00:00,  8.46it/s]\n"
          ]
        },
        {
          "output_type": "stream",
          "name": "stdout",
          "text": [
            "tf.Tensor(0.6153827, shape=(), dtype=float32)\n",
            "Epoch 218\n"
          ]
        },
        {
          "output_type": "stream",
          "name": "stderr",
          "text": [
            "100%|██████████| 9/9 [00:04<00:00,  1.89it/s]\n",
            "100%|██████████| 9/9 [00:04<00:00,  1.89it/s]\n",
            "100%|██████████| 9/9 [00:04<00:00,  1.88it/s]\n",
            "100%|██████████| 9/9 [00:04<00:00,  1.88it/s]\n",
            "100%|██████████| 19/19 [00:10<00:00,  1.88it/s]\n",
            "100%|██████████| 19/19 [00:10<00:00,  1.89it/s]\n",
            "100%|██████████| 19/19 [00:10<00:00,  1.90it/s]\n",
            "100%|██████████| 38/38 [00:20<00:00,  1.90it/s]\n",
            "100%|██████████| 58/58 [00:30<00:00,  1.89it/s]\n",
            "100%|██████████| 155/155 [00:18<00:00,  8.19it/s]\n"
          ]
        },
        {
          "output_type": "stream",
          "name": "stdout",
          "text": [
            "tf.Tensor(0.618387, shape=(), dtype=float32)\n",
            "Epoch 219\n"
          ]
        },
        {
          "output_type": "stream",
          "name": "stderr",
          "text": [
            "100%|██████████| 9/9 [00:04<00:00,  1.88it/s]\n",
            "100%|██████████| 9/9 [00:04<00:00,  1.86it/s]\n",
            "100%|██████████| 9/9 [00:04<00:00,  1.87it/s]\n",
            "100%|██████████| 9/9 [00:04<00:00,  1.88it/s]\n",
            "100%|██████████| 19/19 [00:10<00:00,  1.88it/s]\n",
            "100%|██████████| 19/19 [00:10<00:00,  1.89it/s]\n",
            "100%|██████████| 19/19 [00:10<00:00,  1.90it/s]\n",
            "100%|██████████| 38/38 [00:20<00:00,  1.90it/s]\n",
            "100%|██████████| 58/58 [00:30<00:00,  1.89it/s]\n",
            "100%|██████████| 155/155 [00:18<00:00,  8.49it/s]\n"
          ]
        },
        {
          "output_type": "stream",
          "name": "stdout",
          "text": [
            "tf.Tensor(0.6147136, shape=(), dtype=float32)\n",
            "Epoch 220\n"
          ]
        },
        {
          "output_type": "stream",
          "name": "stderr",
          "text": [
            "100%|██████████| 9/9 [00:04<00:00,  1.88it/s]\n",
            "100%|██████████| 9/9 [00:04<00:00,  1.88it/s]\n",
            "100%|██████████| 9/9 [00:04<00:00,  1.87it/s]\n",
            "100%|██████████| 9/9 [00:04<00:00,  1.88it/s]\n",
            "100%|██████████| 19/19 [00:10<00:00,  1.89it/s]\n",
            "100%|██████████| 19/19 [00:10<00:00,  1.89it/s]\n",
            "100%|██████████| 19/19 [00:10<00:00,  1.90it/s]\n",
            "100%|██████████| 38/38 [00:20<00:00,  1.90it/s]\n",
            "100%|██████████| 58/58 [00:30<00:00,  1.89it/s]\n",
            "100%|██████████| 155/155 [00:18<00:00,  8.49it/s]\n"
          ]
        },
        {
          "output_type": "stream",
          "name": "stdout",
          "text": [
            "tf.Tensor(0.6160028, shape=(), dtype=float32)\n",
            "Epoch 221\n"
          ]
        },
        {
          "output_type": "stream",
          "name": "stderr",
          "text": [
            "100%|██████████| 9/9 [00:04<00:00,  1.89it/s]\n",
            "100%|██████████| 9/9 [00:04<00:00,  1.88it/s]\n",
            "100%|██████████| 9/9 [00:04<00:00,  1.88it/s]\n",
            "100%|██████████| 9/9 [00:04<00:00,  1.88it/s]\n",
            "100%|██████████| 19/19 [00:10<00:00,  1.89it/s]\n",
            "100%|██████████| 19/19 [00:10<00:00,  1.90it/s]\n",
            "100%|██████████| 19/19 [00:10<00:00,  1.90it/s]\n",
            "100%|██████████| 38/38 [00:20<00:00,  1.89it/s]\n",
            "100%|██████████| 58/58 [00:30<00:00,  1.89it/s]\n",
            "100%|██████████| 155/155 [00:18<00:00,  8.46it/s]\n"
          ]
        },
        {
          "output_type": "stream",
          "name": "stdout",
          "text": [
            "tf.Tensor(0.61339086, shape=(), dtype=float32)\n",
            "Epoch 222\n"
          ]
        },
        {
          "output_type": "stream",
          "name": "stderr",
          "text": [
            "100%|██████████| 9/9 [00:04<00:00,  1.88it/s]\n",
            "100%|██████████| 9/9 [00:04<00:00,  1.87it/s]\n",
            "100%|██████████| 9/9 [00:04<00:00,  1.88it/s]\n",
            "100%|██████████| 9/9 [00:04<00:00,  1.88it/s]\n",
            "100%|██████████| 19/19 [00:10<00:00,  1.89it/s]\n",
            "100%|██████████| 19/19 [00:10<00:00,  1.89it/s]\n",
            "100%|██████████| 19/19 [00:10<00:00,  1.89it/s]\n",
            "100%|██████████| 38/38 [00:20<00:00,  1.90it/s]\n",
            "100%|██████████| 58/58 [00:30<00:00,  1.89it/s]\n",
            "100%|██████████| 155/155 [00:18<00:00,  8.49it/s]\n"
          ]
        },
        {
          "output_type": "stream",
          "name": "stdout",
          "text": [
            "tf.Tensor(0.6166718, shape=(), dtype=float32)\n",
            "Epoch 223\n"
          ]
        },
        {
          "output_type": "stream",
          "name": "stderr",
          "text": [
            "100%|██████████| 9/9 [00:04<00:00,  1.89it/s]\n",
            "100%|██████████| 9/9 [00:04<00:00,  1.88it/s]\n",
            "100%|██████████| 9/9 [00:04<00:00,  1.88it/s]\n",
            "100%|██████████| 9/9 [00:04<00:00,  1.89it/s]\n",
            "100%|██████████| 19/19 [00:10<00:00,  1.89it/s]\n",
            "100%|██████████| 19/19 [00:10<00:00,  1.89it/s]\n",
            "100%|██████████| 19/19 [00:10<00:00,  1.90it/s]\n",
            "100%|██████████| 38/38 [00:20<00:00,  1.90it/s]\n",
            "100%|██████████| 58/58 [00:30<00:00,  1.89it/s]\n",
            "100%|██████████| 155/155 [00:18<00:00,  8.44it/s]\n"
          ]
        },
        {
          "output_type": "stream",
          "name": "stdout",
          "text": [
            "tf.Tensor(0.6176064, shape=(), dtype=float32)\n",
            "Epoch 224\n"
          ]
        },
        {
          "output_type": "stream",
          "name": "stderr",
          "text": [
            "100%|██████████| 9/9 [00:04<00:00,  1.88it/s]\n",
            "100%|██████████| 9/9 [00:04<00:00,  1.88it/s]\n",
            "100%|██████████| 9/9 [00:04<00:00,  1.89it/s]\n",
            "100%|██████████| 9/9 [00:04<00:00,  1.88it/s]\n",
            "100%|██████████| 19/19 [00:10<00:00,  1.89it/s]\n",
            "100%|██████████| 19/19 [00:10<00:00,  1.89it/s]\n",
            "100%|██████████| 19/19 [00:10<00:00,  1.90it/s]\n",
            "100%|██████████| 38/38 [00:20<00:00,  1.90it/s]\n",
            "100%|██████████| 58/58 [00:30<00:00,  1.89it/s]\n",
            "100%|██████████| 155/155 [00:18<00:00,  8.40it/s]\n"
          ]
        },
        {
          "output_type": "stream",
          "name": "stdout",
          "text": [
            "tf.Tensor(0.61437577, shape=(), dtype=float32)\n",
            "Epoch 225\n"
          ]
        },
        {
          "output_type": "stream",
          "name": "stderr",
          "text": [
            "100%|██████████| 9/9 [00:04<00:00,  1.89it/s]\n",
            "100%|██████████| 9/9 [00:04<00:00,  1.88it/s]\n",
            "100%|██████████| 9/9 [00:04<00:00,  1.88it/s]\n",
            "100%|██████████| 9/9 [00:04<00:00,  1.89it/s]\n",
            "100%|██████████| 19/19 [00:10<00:00,  1.89it/s]\n",
            "100%|██████████| 19/19 [00:10<00:00,  1.89it/s]\n",
            "100%|██████████| 19/19 [00:10<00:00,  1.90it/s]\n",
            "100%|██████████| 38/38 [00:20<00:00,  1.90it/s]\n",
            "100%|██████████| 58/58 [00:30<00:00,  1.90it/s]\n",
            "100%|██████████| 155/155 [00:18<00:00,  8.44it/s]\n"
          ]
        },
        {
          "output_type": "stream",
          "name": "stdout",
          "text": [
            "tf.Tensor(0.6165969, shape=(), dtype=float32)\n",
            "Epoch 226\n"
          ]
        },
        {
          "output_type": "stream",
          "name": "stderr",
          "text": [
            "100%|██████████| 9/9 [00:04<00:00,  1.88it/s]\n",
            "100%|██████████| 9/9 [00:04<00:00,  1.88it/s]\n",
            "100%|██████████| 9/9 [00:04<00:00,  1.89it/s]\n",
            "100%|██████████| 9/9 [00:04<00:00,  1.89it/s]\n",
            "100%|██████████| 19/19 [00:10<00:00,  1.89it/s]\n",
            "100%|██████████| 19/19 [00:10<00:00,  1.90it/s]\n",
            "100%|██████████| 19/19 [00:10<00:00,  1.90it/s]\n",
            "100%|██████████| 38/38 [00:20<00:00,  1.90it/s]\n",
            "100%|██████████| 58/58 [00:30<00:00,  1.89it/s]\n",
            "100%|██████████| 155/155 [00:18<00:00,  8.47it/s]\n"
          ]
        },
        {
          "output_type": "stream",
          "name": "stdout",
          "text": [
            "tf.Tensor(0.6163311, shape=(), dtype=float32)\n",
            "Epoch 227\n"
          ]
        },
        {
          "output_type": "stream",
          "name": "stderr",
          "text": [
            "100%|██████████| 9/9 [00:04<00:00,  1.89it/s]\n",
            "100%|██████████| 9/9 [00:04<00:00,  1.89it/s]\n",
            "100%|██████████| 9/9 [00:04<00:00,  1.88it/s]\n",
            "100%|██████████| 9/9 [00:04<00:00,  1.88it/s]\n",
            "100%|██████████| 19/19 [00:10<00:00,  1.89it/s]\n",
            "100%|██████████| 19/19 [00:10<00:00,  1.89it/s]\n",
            "100%|██████████| 19/19 [00:10<00:00,  1.90it/s]\n",
            "100%|██████████| 38/38 [00:20<00:00,  1.90it/s]\n",
            "100%|██████████| 58/58 [00:30<00:00,  1.89it/s]\n",
            "100%|██████████| 155/155 [00:18<00:00,  8.47it/s]\n"
          ]
        },
        {
          "output_type": "stream",
          "name": "stdout",
          "text": [
            "tf.Tensor(0.6135865, shape=(), dtype=float32)\n",
            "Epoch 228\n"
          ]
        },
        {
          "output_type": "stream",
          "name": "stderr",
          "text": [
            "100%|██████████| 9/9 [00:04<00:00,  1.89it/s]\n",
            "100%|██████████| 9/9 [00:04<00:00,  1.88it/s]\n",
            "100%|██████████| 9/9 [00:04<00:00,  1.89it/s]\n",
            "100%|██████████| 9/9 [00:04<00:00,  1.89it/s]\n",
            "100%|██████████| 19/19 [00:10<00:00,  1.88it/s]\n",
            "100%|██████████| 19/19 [00:10<00:00,  1.90it/s]\n",
            "100%|██████████| 19/19 [00:10<00:00,  1.90it/s]\n",
            "100%|██████████| 38/38 [00:20<00:00,  1.90it/s]\n",
            "100%|██████████| 58/58 [00:30<00:00,  1.89it/s]\n",
            "100%|██████████| 155/155 [00:18<00:00,  8.49it/s]\n"
          ]
        },
        {
          "output_type": "stream",
          "name": "stdout",
          "text": [
            "tf.Tensor(0.6114807, shape=(), dtype=float32)\n",
            "Epoch 229\n"
          ]
        },
        {
          "output_type": "stream",
          "name": "stderr",
          "text": [
            "100%|██████████| 9/9 [00:04<00:00,  1.88it/s]\n",
            "100%|██████████| 9/9 [00:04<00:00,  1.88it/s]\n",
            "100%|██████████| 9/9 [00:04<00:00,  1.88it/s]\n",
            "100%|██████████| 9/9 [00:04<00:00,  1.88it/s]\n",
            "100%|██████████| 19/19 [00:10<00:00,  1.88it/s]\n",
            "100%|██████████| 19/19 [00:10<00:00,  1.90it/s]\n",
            "100%|██████████| 19/19 [00:10<00:00,  1.90it/s]\n",
            "100%|██████████| 38/38 [00:20<00:00,  1.89it/s]\n",
            "100%|██████████| 58/58 [00:30<00:00,  1.90it/s]\n",
            "100%|██████████| 155/155 [00:18<00:00,  8.48it/s]\n"
          ]
        },
        {
          "output_type": "stream",
          "name": "stdout",
          "text": [
            "tf.Tensor(0.61741114, shape=(), dtype=float32)\n",
            "Epoch 230\n"
          ]
        },
        {
          "output_type": "stream",
          "name": "stderr",
          "text": [
            "100%|██████████| 9/9 [00:04<00:00,  1.88it/s]\n",
            "100%|██████████| 9/9 [00:04<00:00,  1.88it/s]\n",
            "100%|██████████| 9/9 [00:04<00:00,  1.88it/s]\n",
            "100%|██████████| 9/9 [00:04<00:00,  1.88it/s]\n",
            "100%|██████████| 19/19 [00:10<00:00,  1.89it/s]\n",
            "100%|██████████| 19/19 [00:10<00:00,  1.90it/s]\n",
            "100%|██████████| 19/19 [00:10<00:00,  1.90it/s]\n",
            "100%|██████████| 38/38 [00:20<00:00,  1.90it/s]\n",
            "100%|██████████| 58/58 [00:30<00:00,  1.89it/s]\n",
            "100%|██████████| 155/155 [00:18<00:00,  8.44it/s]\n"
          ]
        },
        {
          "output_type": "stream",
          "name": "stdout",
          "text": [
            "tf.Tensor(0.6156161, shape=(), dtype=float32)\n",
            "Epoch 231\n"
          ]
        },
        {
          "output_type": "stream",
          "name": "stderr",
          "text": [
            "100%|██████████| 9/9 [00:04<00:00,  1.89it/s]\n",
            "100%|██████████| 9/9 [00:04<00:00,  1.89it/s]\n",
            "100%|██████████| 9/9 [00:04<00:00,  1.88it/s]\n",
            "100%|██████████| 9/9 [00:04<00:00,  1.88it/s]\n",
            "100%|██████████| 19/19 [00:10<00:00,  1.89it/s]\n",
            "100%|██████████| 19/19 [00:10<00:00,  1.90it/s]\n",
            "100%|██████████| 19/19 [00:10<00:00,  1.90it/s]\n",
            "100%|██████████| 38/38 [00:20<00:00,  1.90it/s]\n",
            "100%|██████████| 58/58 [00:30<00:00,  1.89it/s]\n",
            "100%|██████████| 155/155 [00:18<00:00,  8.46it/s]\n"
          ]
        },
        {
          "output_type": "stream",
          "name": "stdout",
          "text": [
            "tf.Tensor(0.6202096, shape=(), dtype=float32)\n",
            "Epoch 232\n"
          ]
        },
        {
          "output_type": "stream",
          "name": "stderr",
          "text": [
            "100%|██████████| 9/9 [00:04<00:00,  1.89it/s]\n",
            "100%|██████████| 9/9 [00:04<00:00,  1.88it/s]\n",
            "100%|██████████| 9/9 [00:04<00:00,  1.88it/s]\n",
            "100%|██████████| 9/9 [00:04<00:00,  1.88it/s]\n",
            "100%|██████████| 19/19 [00:10<00:00,  1.88it/s]\n",
            "100%|██████████| 19/19 [00:10<00:00,  1.89it/s]\n",
            "100%|██████████| 19/19 [00:10<00:00,  1.89it/s]\n",
            "100%|██████████| 38/38 [00:20<00:00,  1.89it/s]\n",
            "100%|██████████| 58/58 [00:30<00:00,  1.89it/s]\n",
            "100%|██████████| 155/155 [00:18<00:00,  8.46it/s]\n"
          ]
        },
        {
          "output_type": "stream",
          "name": "stdout",
          "text": [
            "tf.Tensor(0.615352, shape=(), dtype=float32)\n",
            "Epoch 233\n"
          ]
        },
        {
          "output_type": "stream",
          "name": "stderr",
          "text": [
            "100%|██████████| 9/9 [00:04<00:00,  1.88it/s]\n",
            "100%|██████████| 9/9 [00:04<00:00,  1.88it/s]\n",
            "100%|██████████| 9/9 [00:04<00:00,  1.88it/s]\n",
            "100%|██████████| 9/9 [00:04<00:00,  1.88it/s]\n",
            "100%|██████████| 19/19 [00:10<00:00,  1.88it/s]\n",
            "100%|██████████| 19/19 [00:10<00:00,  1.89it/s]\n",
            "100%|██████████| 19/19 [00:10<00:00,  1.89it/s]\n",
            "100%|██████████| 38/38 [00:20<00:00,  1.90it/s]\n",
            "100%|██████████| 58/58 [00:30<00:00,  1.89it/s]\n",
            "100%|██████████| 155/155 [00:18<00:00,  8.48it/s]\n"
          ]
        },
        {
          "output_type": "stream",
          "name": "stdout",
          "text": [
            "tf.Tensor(0.6105106, shape=(), dtype=float32)\n",
            "Epoch 234\n"
          ]
        },
        {
          "output_type": "stream",
          "name": "stderr",
          "text": [
            "100%|██████████| 9/9 [00:04<00:00,  1.89it/s]\n",
            "100%|██████████| 9/9 [00:04<00:00,  1.89it/s]\n",
            "100%|██████████| 9/9 [00:04<00:00,  1.88it/s]\n",
            "100%|██████████| 9/9 [00:04<00:00,  1.88it/s]\n",
            "100%|██████████| 19/19 [00:10<00:00,  1.88it/s]\n",
            "100%|██████████| 19/19 [00:10<00:00,  1.89it/s]\n",
            "100%|██████████| 19/19 [00:10<00:00,  1.89it/s]\n",
            "100%|██████████| 38/38 [00:20<00:00,  1.90it/s]\n",
            "100%|██████████| 58/58 [00:30<00:00,  1.89it/s]\n",
            "100%|██████████| 155/155 [00:18<00:00,  8.48it/s]\n"
          ]
        },
        {
          "output_type": "stream",
          "name": "stdout",
          "text": [
            "tf.Tensor(0.6160668, shape=(), dtype=float32)\n",
            "Epoch 235\n"
          ]
        },
        {
          "output_type": "stream",
          "name": "stderr",
          "text": [
            "100%|██████████| 9/9 [00:04<00:00,  1.87it/s]\n",
            "100%|██████████| 9/9 [00:04<00:00,  1.88it/s]\n",
            "100%|██████████| 9/9 [00:04<00:00,  1.88it/s]\n",
            "100%|██████████| 9/9 [00:04<00:00,  1.88it/s]\n",
            "100%|██████████| 19/19 [00:10<00:00,  1.89it/s]\n",
            "100%|██████████| 19/19 [00:10<00:00,  1.89it/s]\n",
            "100%|██████████| 19/19 [00:10<00:00,  1.90it/s]\n",
            "100%|██████████| 38/38 [00:20<00:00,  1.89it/s]\n",
            "100%|██████████| 58/58 [00:30<00:00,  1.89it/s]\n",
            "100%|██████████| 155/155 [00:18<00:00,  8.48it/s]\n"
          ]
        },
        {
          "output_type": "stream",
          "name": "stdout",
          "text": [
            "tf.Tensor(0.6159599, shape=(), dtype=float32)\n",
            "Epoch 236\n"
          ]
        },
        {
          "output_type": "stream",
          "name": "stderr",
          "text": [
            "100%|██████████| 9/9 [00:04<00:00,  1.89it/s]\n",
            "100%|██████████| 9/9 [00:04<00:00,  1.87it/s]\n",
            "100%|██████████| 9/9 [00:04<00:00,  1.88it/s]\n",
            "100%|██████████| 9/9 [00:04<00:00,  1.88it/s]\n",
            "100%|██████████| 19/19 [00:10<00:00,  1.89it/s]\n",
            "100%|██████████| 19/19 [00:10<00:00,  1.89it/s]\n",
            "100%|██████████| 19/19 [00:10<00:00,  1.89it/s]\n",
            "100%|██████████| 38/38 [00:20<00:00,  1.89it/s]\n",
            "100%|██████████| 58/58 [00:30<00:00,  1.89it/s]\n",
            "100%|██████████| 155/155 [00:18<00:00,  8.48it/s]\n"
          ]
        },
        {
          "output_type": "stream",
          "name": "stdout",
          "text": [
            "tf.Tensor(0.61446655, shape=(), dtype=float32)\n",
            "Epoch 237\n"
          ]
        },
        {
          "output_type": "stream",
          "name": "stderr",
          "text": [
            "100%|██████████| 9/9 [00:04<00:00,  1.89it/s]\n",
            "100%|██████████| 9/9 [00:04<00:00,  1.88it/s]\n",
            "100%|██████████| 9/9 [00:04<00:00,  1.88it/s]\n",
            "100%|██████████| 9/9 [00:04<00:00,  1.88it/s]\n",
            "100%|██████████| 19/19 [00:10<00:00,  1.89it/s]\n",
            "100%|██████████| 19/19 [00:10<00:00,  1.90it/s]\n",
            "100%|██████████| 19/19 [00:10<00:00,  1.90it/s]\n",
            "100%|██████████| 38/38 [00:20<00:00,  1.89it/s]\n",
            "100%|██████████| 58/58 [00:30<00:00,  1.89it/s]\n",
            "100%|██████████| 155/155 [00:18<00:00,  8.51it/s]\n"
          ]
        },
        {
          "output_type": "stream",
          "name": "stdout",
          "text": [
            "tf.Tensor(0.61758137, shape=(), dtype=float32)\n",
            "Epoch 238\n"
          ]
        },
        {
          "output_type": "stream",
          "name": "stderr",
          "text": [
            "100%|██████████| 9/9 [00:04<00:00,  1.88it/s]\n",
            "100%|██████████| 9/9 [00:04<00:00,  1.89it/s]\n",
            "100%|██████████| 9/9 [00:04<00:00,  1.88it/s]\n",
            "100%|██████████| 9/9 [00:04<00:00,  1.88it/s]\n",
            "100%|██████████| 19/19 [00:10<00:00,  1.88it/s]\n",
            "100%|██████████| 19/19 [00:10<00:00,  1.89it/s]\n",
            "100%|██████████| 19/19 [00:10<00:00,  1.90it/s]\n",
            "100%|██████████| 38/38 [00:20<00:00,  1.90it/s]\n",
            "100%|██████████| 58/58 [00:30<00:00,  1.89it/s]\n",
            "100%|██████████| 155/155 [00:18<00:00,  8.53it/s]\n"
          ]
        },
        {
          "output_type": "stream",
          "name": "stdout",
          "text": [
            "tf.Tensor(0.6098983, shape=(), dtype=float32)\n",
            "Epoch 239\n"
          ]
        },
        {
          "output_type": "stream",
          "name": "stderr",
          "text": [
            "100%|██████████| 9/9 [00:04<00:00,  1.89it/s]\n",
            "100%|██████████| 9/9 [00:04<00:00,  1.89it/s]\n",
            "100%|██████████| 9/9 [00:04<00:00,  1.88it/s]\n",
            "100%|██████████| 9/9 [00:04<00:00,  1.89it/s]\n",
            "100%|██████████| 19/19 [00:10<00:00,  1.89it/s]\n",
            "100%|██████████| 19/19 [00:10<00:00,  1.90it/s]\n",
            "100%|██████████| 19/19 [00:09<00:00,  1.90it/s]\n",
            "100%|██████████| 38/38 [00:20<00:00,  1.89it/s]\n",
            "100%|██████████| 58/58 [00:30<00:00,  1.90it/s]\n",
            "100%|██████████| 155/155 [00:18<00:00,  8.39it/s]\n"
          ]
        },
        {
          "output_type": "stream",
          "name": "stdout",
          "text": [
            "tf.Tensor(0.6158063, shape=(), dtype=float32)\n",
            "Epoch 240\n"
          ]
        },
        {
          "output_type": "stream",
          "name": "stderr",
          "text": [
            "100%|██████████| 9/9 [00:04<00:00,  1.89it/s]\n",
            "100%|██████████| 9/9 [00:04<00:00,  1.88it/s]\n",
            "100%|██████████| 9/9 [00:04<00:00,  1.88it/s]\n",
            "100%|██████████| 9/9 [00:04<00:00,  1.88it/s]\n",
            "100%|██████████| 19/19 [00:10<00:00,  1.88it/s]\n",
            "100%|██████████| 19/19 [00:10<00:00,  1.89it/s]\n",
            "100%|██████████| 19/19 [00:10<00:00,  1.86it/s]\n",
            "100%|██████████| 38/38 [00:20<00:00,  1.90it/s]\n",
            "100%|██████████| 58/58 [00:30<00:00,  1.89it/s]\n",
            "100%|██████████| 155/155 [00:18<00:00,  8.52it/s]\n"
          ]
        },
        {
          "output_type": "stream",
          "name": "stdout",
          "text": [
            "tf.Tensor(0.61534953, shape=(), dtype=float32)\n",
            "Epoch 241\n"
          ]
        },
        {
          "output_type": "stream",
          "name": "stderr",
          "text": [
            "100%|██████████| 9/9 [00:04<00:00,  1.89it/s]\n",
            "100%|██████████| 9/9 [00:04<00:00,  1.87it/s]\n",
            "100%|██████████| 9/9 [00:04<00:00,  1.88it/s]\n",
            "100%|██████████| 9/9 [00:04<00:00,  1.88it/s]\n",
            "100%|██████████| 19/19 [00:10<00:00,  1.89it/s]\n",
            "100%|██████████| 19/19 [00:10<00:00,  1.90it/s]\n",
            "100%|██████████| 19/19 [00:10<00:00,  1.90it/s]\n",
            "100%|██████████| 38/38 [00:20<00:00,  1.90it/s]\n",
            "100%|██████████| 58/58 [00:30<00:00,  1.90it/s]\n",
            "100%|██████████| 155/155 [00:18<00:00,  8.53it/s]\n"
          ]
        },
        {
          "output_type": "stream",
          "name": "stdout",
          "text": [
            "tf.Tensor(0.6147522, shape=(), dtype=float32)\n",
            "Epoch 242\n"
          ]
        },
        {
          "output_type": "stream",
          "name": "stderr",
          "text": [
            "100%|██████████| 9/9 [00:04<00:00,  1.89it/s]\n",
            "100%|██████████| 9/9 [00:04<00:00,  1.88it/s]\n",
            "100%|██████████| 9/9 [00:04<00:00,  1.88it/s]\n",
            "100%|██████████| 9/9 [00:04<00:00,  1.88it/s]\n",
            "100%|██████████| 19/19 [00:10<00:00,  1.88it/s]\n",
            "100%|██████████| 19/19 [00:10<00:00,  1.89it/s]\n",
            "100%|██████████| 19/19 [00:10<00:00,  1.90it/s]\n",
            "100%|██████████| 38/38 [00:20<00:00,  1.89it/s]\n",
            "100%|██████████| 58/58 [00:30<00:00,  1.89it/s]\n",
            "100%|██████████| 155/155 [00:18<00:00,  8.48it/s]\n"
          ]
        },
        {
          "output_type": "stream",
          "name": "stdout",
          "text": [
            "tf.Tensor(0.61284786, shape=(), dtype=float32)\n",
            "Epoch 243\n"
          ]
        },
        {
          "output_type": "stream",
          "name": "stderr",
          "text": [
            "100%|██████████| 9/9 [00:04<00:00,  1.89it/s]\n",
            "100%|██████████| 9/9 [00:04<00:00,  1.88it/s]\n",
            "100%|██████████| 9/9 [00:04<00:00,  1.88it/s]\n",
            "100%|██████████| 9/9 [00:04<00:00,  1.89it/s]\n",
            "100%|██████████| 19/19 [00:10<00:00,  1.89it/s]\n",
            "100%|██████████| 19/19 [00:10<00:00,  1.90it/s]\n",
            "100%|██████████| 19/19 [00:10<00:00,  1.90it/s]\n",
            "100%|██████████| 38/38 [00:20<00:00,  1.90it/s]\n",
            "100%|██████████| 58/58 [00:30<00:00,  1.89it/s]\n",
            "100%|██████████| 155/155 [00:18<00:00,  8.50it/s]\n"
          ]
        },
        {
          "output_type": "stream",
          "name": "stdout",
          "text": [
            "tf.Tensor(0.61571014, shape=(), dtype=float32)\n",
            "Epoch 244\n"
          ]
        },
        {
          "output_type": "stream",
          "name": "stderr",
          "text": [
            "100%|██████████| 9/9 [00:04<00:00,  1.88it/s]\n",
            "100%|██████████| 9/9 [00:04<00:00,  1.88it/s]\n",
            "100%|██████████| 9/9 [00:04<00:00,  1.88it/s]\n",
            "100%|██████████| 9/9 [00:04<00:00,  1.88it/s]\n",
            "100%|██████████| 19/19 [00:10<00:00,  1.88it/s]\n",
            "100%|██████████| 19/19 [00:10<00:00,  1.89it/s]\n",
            "100%|██████████| 19/19 [00:10<00:00,  1.89it/s]\n",
            "100%|██████████| 38/38 [00:20<00:00,  1.90it/s]\n",
            "100%|██████████| 58/58 [00:30<00:00,  1.89it/s]\n",
            "100%|██████████| 155/155 [00:18<00:00,  8.44it/s]\n"
          ]
        },
        {
          "output_type": "stream",
          "name": "stdout",
          "text": [
            "tf.Tensor(0.6165629, shape=(), dtype=float32)\n",
            "Epoch 245\n"
          ]
        },
        {
          "output_type": "stream",
          "name": "stderr",
          "text": [
            "100%|██████████| 9/9 [00:04<00:00,  1.89it/s]\n",
            "100%|██████████| 9/9 [00:04<00:00,  1.88it/s]\n",
            "100%|██████████| 9/9 [00:04<00:00,  1.88it/s]\n",
            "100%|██████████| 9/9 [00:04<00:00,  1.88it/s]\n",
            "100%|██████████| 19/19 [00:10<00:00,  1.89it/s]\n",
            "100%|██████████| 19/19 [00:10<00:00,  1.89it/s]\n",
            "100%|██████████| 19/19 [00:10<00:00,  1.90it/s]\n",
            "100%|██████████| 38/38 [00:20<00:00,  1.90it/s]\n",
            "100%|██████████| 58/58 [00:30<00:00,  1.89it/s]\n",
            "100%|██████████| 155/155 [00:18<00:00,  8.41it/s]\n"
          ]
        },
        {
          "output_type": "stream",
          "name": "stdout",
          "text": [
            "tf.Tensor(0.6151336, shape=(), dtype=float32)\n",
            "Epoch 246\n"
          ]
        },
        {
          "output_type": "stream",
          "name": "stderr",
          "text": [
            "100%|██████████| 9/9 [00:04<00:00,  1.88it/s]\n",
            "100%|██████████| 9/9 [00:04<00:00,  1.89it/s]\n",
            "100%|██████████| 9/9 [00:04<00:00,  1.89it/s]\n",
            "100%|██████████| 9/9 [00:04<00:00,  1.89it/s]\n",
            "100%|██████████| 19/19 [00:10<00:00,  1.89it/s]\n",
            "100%|██████████| 19/19 [00:10<00:00,  1.90it/s]\n",
            "100%|██████████| 19/19 [00:10<00:00,  1.90it/s]\n",
            "100%|██████████| 38/38 [00:20<00:00,  1.90it/s]\n",
            "100%|██████████| 58/58 [00:30<00:00,  1.89it/s]\n",
            "100%|██████████| 155/155 [00:18<00:00,  8.48it/s]\n"
          ]
        },
        {
          "output_type": "stream",
          "name": "stdout",
          "text": [
            "tf.Tensor(0.61474365, shape=(), dtype=float32)\n",
            "Epoch 247\n"
          ]
        },
        {
          "output_type": "stream",
          "name": "stderr",
          "text": [
            "100%|██████████| 9/9 [00:04<00:00,  1.89it/s]\n",
            "100%|██████████| 9/9 [00:04<00:00,  1.88it/s]\n",
            "100%|██████████| 9/9 [00:04<00:00,  1.88it/s]\n",
            "100%|██████████| 9/9 [00:04<00:00,  1.87it/s]\n",
            "100%|██████████| 19/19 [00:10<00:00,  1.89it/s]\n",
            "100%|██████████| 19/19 [00:10<00:00,  1.89it/s]\n",
            "100%|██████████| 19/19 [00:10<00:00,  1.90it/s]\n",
            "100%|██████████| 38/38 [00:20<00:00,  1.89it/s]\n",
            "100%|██████████| 58/58 [00:30<00:00,  1.89it/s]\n",
            "100%|██████████| 155/155 [00:18<00:00,  8.46it/s]\n"
          ]
        },
        {
          "output_type": "stream",
          "name": "stdout",
          "text": [
            "tf.Tensor(0.6183543, shape=(), dtype=float32)\n",
            "Epoch 248\n"
          ]
        },
        {
          "output_type": "stream",
          "name": "stderr",
          "text": [
            "100%|██████████| 9/9 [00:04<00:00,  1.89it/s]\n",
            "100%|██████████| 9/9 [00:04<00:00,  1.88it/s]\n",
            "100%|██████████| 9/9 [00:04<00:00,  1.88it/s]\n",
            "100%|██████████| 9/9 [00:04<00:00,  1.88it/s]\n",
            "100%|██████████| 19/19 [00:10<00:00,  1.89it/s]\n",
            "100%|██████████| 19/19 [00:10<00:00,  1.89it/s]\n",
            "100%|██████████| 19/19 [00:10<00:00,  1.89it/s]\n",
            "100%|██████████| 38/38 [00:20<00:00,  1.90it/s]\n",
            "100%|██████████| 58/58 [00:30<00:00,  1.89it/s]\n",
            "100%|██████████| 155/155 [00:18<00:00,  8.56it/s]\n"
          ]
        },
        {
          "output_type": "stream",
          "name": "stdout",
          "text": [
            "tf.Tensor(0.6169787, shape=(), dtype=float32)\n",
            "Epoch 249\n"
          ]
        },
        {
          "output_type": "stream",
          "name": "stderr",
          "text": [
            "100%|██████████| 9/9 [00:04<00:00,  1.88it/s]\n",
            "100%|██████████| 9/9 [00:04<00:00,  1.88it/s]\n",
            "100%|██████████| 9/9 [00:04<00:00,  1.88it/s]\n",
            "100%|██████████| 9/9 [00:04<00:00,  1.88it/s]\n",
            "100%|██████████| 19/19 [00:10<00:00,  1.88it/s]\n",
            "100%|██████████| 19/19 [00:10<00:00,  1.89it/s]\n",
            "100%|██████████| 19/19 [00:10<00:00,  1.89it/s]\n",
            "100%|██████████| 38/38 [00:20<00:00,  1.89it/s]\n",
            "100%|██████████| 58/58 [00:30<00:00,  1.89it/s]\n",
            "100%|██████████| 155/155 [00:18<00:00,  8.44it/s]\n"
          ]
        },
        {
          "output_type": "stream",
          "name": "stdout",
          "text": [
            "tf.Tensor(0.61680794, shape=(), dtype=float32)\n",
            "Epoch 250\n"
          ]
        },
        {
          "output_type": "stream",
          "name": "stderr",
          "text": [
            "100%|██████████| 9/9 [00:04<00:00,  1.89it/s]\n",
            "100%|██████████| 9/9 [00:04<00:00,  1.88it/s]\n",
            "100%|██████████| 9/9 [00:04<00:00,  1.88it/s]\n",
            "100%|██████████| 9/9 [00:04<00:00,  1.88it/s]\n",
            "100%|██████████| 19/19 [00:10<00:00,  1.89it/s]\n",
            "100%|██████████| 19/19 [00:10<00:00,  1.89it/s]\n",
            "100%|██████████| 19/19 [00:10<00:00,  1.86it/s]\n",
            "100%|██████████| 38/38 [00:20<00:00,  1.90it/s]\n",
            "100%|██████████| 58/58 [00:30<00:00,  1.89it/s]\n",
            "100%|██████████| 155/155 [00:18<00:00,  8.44it/s]\n"
          ]
        },
        {
          "output_type": "stream",
          "name": "stdout",
          "text": [
            "tf.Tensor(0.61701953, shape=(), dtype=float32)\n",
            "Epoch 251\n"
          ]
        },
        {
          "output_type": "stream",
          "name": "stderr",
          "text": [
            "100%|██████████| 9/9 [00:04<00:00,  1.89it/s]\n",
            "100%|██████████| 9/9 [00:04<00:00,  1.88it/s]\n",
            "100%|██████████| 9/9 [00:04<00:00,  1.88it/s]\n",
            "100%|██████████| 9/9 [00:04<00:00,  1.88it/s]\n",
            "100%|██████████| 19/19 [00:10<00:00,  1.88it/s]\n",
            "100%|██████████| 19/19 [00:10<00:00,  1.89it/s]\n",
            "100%|██████████| 19/19 [00:10<00:00,  1.90it/s]\n",
            "100%|██████████| 38/38 [00:20<00:00,  1.90it/s]\n",
            "100%|██████████| 58/58 [00:30<00:00,  1.89it/s]\n",
            "100%|██████████| 155/155 [00:18<00:00,  8.45it/s]\n"
          ]
        },
        {
          "output_type": "stream",
          "name": "stdout",
          "text": [
            "tf.Tensor(0.6188033, shape=(), dtype=float32)\n",
            "Epoch 252\n"
          ]
        },
        {
          "output_type": "stream",
          "name": "stderr",
          "text": [
            "100%|██████████| 9/9 [00:04<00:00,  1.89it/s]\n",
            "100%|██████████| 9/9 [00:04<00:00,  1.88it/s]\n",
            "100%|██████████| 9/9 [00:04<00:00,  1.88it/s]\n",
            "100%|██████████| 9/9 [00:04<00:00,  1.88it/s]\n",
            "100%|██████████| 19/19 [00:10<00:00,  1.89it/s]\n",
            "100%|██████████| 19/19 [00:10<00:00,  1.89it/s]\n",
            "100%|██████████| 19/19 [00:10<00:00,  1.89it/s]\n",
            "100%|██████████| 38/38 [00:20<00:00,  1.89it/s]\n",
            "100%|██████████| 58/58 [00:30<00:00,  1.89it/s]\n",
            "100%|██████████| 155/155 [00:18<00:00,  8.51it/s]\n"
          ]
        },
        {
          "output_type": "stream",
          "name": "stdout",
          "text": [
            "tf.Tensor(0.61521757, shape=(), dtype=float32)\n",
            "Epoch 253\n"
          ]
        },
        {
          "output_type": "stream",
          "name": "stderr",
          "text": [
            "100%|██████████| 9/9 [00:04<00:00,  1.89it/s]\n",
            "100%|██████████| 9/9 [00:04<00:00,  1.88it/s]\n",
            "100%|██████████| 9/9 [00:04<00:00,  1.87it/s]\n",
            "100%|██████████| 9/9 [00:04<00:00,  1.88it/s]\n",
            "100%|██████████| 19/19 [00:10<00:00,  1.88it/s]\n",
            "100%|██████████| 19/19 [00:10<00:00,  1.89it/s]\n",
            "100%|██████████| 19/19 [00:10<00:00,  1.89it/s]\n",
            "100%|██████████| 38/38 [00:20<00:00,  1.90it/s]\n",
            "100%|██████████| 58/58 [00:30<00:00,  1.89it/s]\n",
            "100%|██████████| 155/155 [00:18<00:00,  8.50it/s]\n"
          ]
        },
        {
          "output_type": "stream",
          "name": "stdout",
          "text": [
            "tf.Tensor(0.6182774, shape=(), dtype=float32)\n",
            "Epoch 254\n"
          ]
        },
        {
          "output_type": "stream",
          "name": "stderr",
          "text": [
            "100%|██████████| 9/9 [00:04<00:00,  1.89it/s]\n",
            "100%|██████████| 9/9 [00:04<00:00,  1.88it/s]\n",
            "100%|██████████| 9/9 [00:04<00:00,  1.88it/s]\n",
            "100%|██████████| 9/9 [00:04<00:00,  1.88it/s]\n",
            "100%|██████████| 19/19 [00:10<00:00,  1.88it/s]\n",
            "100%|██████████| 19/19 [00:10<00:00,  1.89it/s]\n",
            "100%|██████████| 19/19 [00:10<00:00,  1.89it/s]\n",
            "100%|██████████| 38/38 [00:20<00:00,  1.90it/s]\n",
            "100%|██████████| 58/58 [00:30<00:00,  1.89it/s]\n",
            "100%|██████████| 155/155 [00:18<00:00,  8.43it/s]\n"
          ]
        },
        {
          "output_type": "stream",
          "name": "stdout",
          "text": [
            "tf.Tensor(0.6194359, shape=(), dtype=float32)\n",
            "Epoch 255\n"
          ]
        },
        {
          "output_type": "stream",
          "name": "stderr",
          "text": [
            "100%|██████████| 9/9 [00:04<00:00,  1.88it/s]\n",
            "100%|██████████| 9/9 [00:04<00:00,  1.88it/s]\n",
            "100%|██████████| 9/9 [00:04<00:00,  1.88it/s]\n",
            "100%|██████████| 9/9 [00:04<00:00,  1.89it/s]\n",
            "100%|██████████| 19/19 [00:10<00:00,  1.88it/s]\n",
            "100%|██████████| 19/19 [00:10<00:00,  1.89it/s]\n",
            "100%|██████████| 19/19 [00:10<00:00,  1.90it/s]\n",
            "100%|██████████| 38/38 [00:20<00:00,  1.90it/s]\n",
            "100%|██████████| 58/58 [00:30<00:00,  1.89it/s]\n",
            "100%|██████████| 155/155 [00:18<00:00,  8.48it/s]\n"
          ]
        },
        {
          "output_type": "stream",
          "name": "stdout",
          "text": [
            "tf.Tensor(0.6144118, shape=(), dtype=float32)\n",
            "Epoch 256\n"
          ]
        },
        {
          "output_type": "stream",
          "name": "stderr",
          "text": [
            "100%|██████████| 9/9 [00:04<00:00,  1.89it/s]\n",
            "100%|██████████| 9/9 [00:04<00:00,  1.89it/s]\n",
            "100%|██████████| 9/9 [00:04<00:00,  1.89it/s]\n",
            "100%|██████████| 9/9 [00:04<00:00,  1.88it/s]\n",
            "100%|██████████| 19/19 [00:10<00:00,  1.90it/s]\n",
            "100%|██████████| 19/19 [00:10<00:00,  1.90it/s]\n",
            "100%|██████████| 19/19 [00:10<00:00,  1.90it/s]\n",
            "100%|██████████| 38/38 [00:20<00:00,  1.90it/s]\n",
            "100%|██████████| 58/58 [00:30<00:00,  1.90it/s]\n",
            "100%|██████████| 155/155 [00:18<00:00,  8.41it/s]\n"
          ]
        },
        {
          "output_type": "stream",
          "name": "stdout",
          "text": [
            "tf.Tensor(0.6148838, shape=(), dtype=float32)\n",
            "Epoch 257\n"
          ]
        },
        {
          "output_type": "stream",
          "name": "stderr",
          "text": [
            "100%|██████████| 9/9 [00:04<00:00,  1.88it/s]\n",
            "100%|██████████| 9/9 [00:04<00:00,  1.89it/s]\n",
            "100%|██████████| 9/9 [00:04<00:00,  1.88it/s]\n",
            "100%|██████████| 9/9 [00:04<00:00,  1.89it/s]\n",
            "100%|██████████| 19/19 [00:10<00:00,  1.89it/s]\n",
            "100%|██████████| 19/19 [00:10<00:00,  1.88it/s]\n",
            "100%|██████████| 19/19 [00:10<00:00,  1.89it/s]\n",
            "100%|██████████| 38/38 [00:20<00:00,  1.90it/s]\n",
            "100%|██████████| 58/58 [00:30<00:00,  1.89it/s]\n",
            "100%|██████████| 155/155 [00:18<00:00,  8.50it/s]\n"
          ]
        },
        {
          "output_type": "stream",
          "name": "stdout",
          "text": [
            "tf.Tensor(0.6117599, shape=(), dtype=float32)\n",
            "Epoch 258\n"
          ]
        },
        {
          "output_type": "stream",
          "name": "stderr",
          "text": [
            "100%|██████████| 9/9 [00:04<00:00,  1.89it/s]\n",
            "100%|██████████| 9/9 [00:04<00:00,  1.89it/s]\n",
            "100%|██████████| 9/9 [00:04<00:00,  1.89it/s]\n",
            "100%|██████████| 9/9 [00:04<00:00,  1.88it/s]\n",
            "100%|██████████| 19/19 [00:10<00:00,  1.88it/s]\n",
            "100%|██████████| 19/19 [00:10<00:00,  1.89it/s]\n",
            "100%|██████████| 19/19 [00:10<00:00,  1.90it/s]\n",
            "100%|██████████| 38/38 [00:20<00:00,  1.89it/s]\n",
            "100%|██████████| 58/58 [00:30<00:00,  1.89it/s]\n",
            "100%|██████████| 155/155 [00:18<00:00,  8.51it/s]\n"
          ]
        },
        {
          "output_type": "stream",
          "name": "stdout",
          "text": [
            "tf.Tensor(0.61388296, shape=(), dtype=float32)\n",
            "Epoch 259\n"
          ]
        },
        {
          "output_type": "stream",
          "name": "stderr",
          "text": [
            "100%|██████████| 9/9 [00:04<00:00,  1.89it/s]\n",
            "100%|██████████| 9/9 [00:04<00:00,  1.88it/s]\n",
            "100%|██████████| 9/9 [00:04<00:00,  1.89it/s]\n",
            "100%|██████████| 9/9 [00:04<00:00,  1.88it/s]\n",
            "100%|██████████| 19/19 [00:10<00:00,  1.89it/s]\n",
            "100%|██████████| 19/19 [00:10<00:00,  1.89it/s]\n",
            "100%|██████████| 19/19 [00:10<00:00,  1.90it/s]\n",
            "100%|██████████| 38/38 [00:20<00:00,  1.90it/s]\n",
            "100%|██████████| 58/58 [00:30<00:00,  1.89it/s]\n",
            "100%|██████████| 155/155 [00:18<00:00,  8.46it/s]\n"
          ]
        },
        {
          "output_type": "stream",
          "name": "stdout",
          "text": [
            "tf.Tensor(0.6143049, shape=(), dtype=float32)\n",
            "Epoch 260\n"
          ]
        },
        {
          "output_type": "stream",
          "name": "stderr",
          "text": [
            "100%|██████████| 9/9 [00:04<00:00,  1.88it/s]\n",
            "100%|██████████| 9/9 [00:04<00:00,  1.89it/s]\n",
            "100%|██████████| 9/9 [00:04<00:00,  1.88it/s]\n",
            "100%|██████████| 9/9 [00:04<00:00,  1.88it/s]\n",
            "100%|██████████| 19/19 [00:10<00:00,  1.88it/s]\n",
            "100%|██████████| 19/19 [00:10<00:00,  1.89it/s]\n",
            "100%|██████████| 19/19 [00:10<00:00,  1.90it/s]\n",
            "100%|██████████| 38/38 [00:20<00:00,  1.90it/s]\n",
            "100%|██████████| 58/58 [00:30<00:00,  1.90it/s]\n",
            "100%|██████████| 155/155 [00:18<00:00,  8.54it/s]\n"
          ]
        },
        {
          "output_type": "stream",
          "name": "stdout",
          "text": [
            "tf.Tensor(0.6185681, shape=(), dtype=float32)\n",
            "Epoch 261\n"
          ]
        },
        {
          "output_type": "stream",
          "name": "stderr",
          "text": [
            "100%|██████████| 9/9 [00:04<00:00,  1.88it/s]\n",
            "100%|██████████| 9/9 [00:04<00:00,  1.88it/s]\n",
            "100%|██████████| 9/9 [00:04<00:00,  1.88it/s]\n",
            "100%|██████████| 9/9 [00:04<00:00,  1.88it/s]\n",
            "100%|██████████| 19/19 [00:10<00:00,  1.89it/s]\n",
            "100%|██████████| 19/19 [00:10<00:00,  1.89it/s]\n",
            "100%|██████████| 19/19 [00:10<00:00,  1.90it/s]\n",
            "100%|██████████| 38/38 [00:20<00:00,  1.90it/s]\n",
            "100%|██████████| 58/58 [00:30<00:00,  1.90it/s]\n",
            "100%|██████████| 155/155 [00:18<00:00,  8.47it/s]\n"
          ]
        },
        {
          "output_type": "stream",
          "name": "stdout",
          "text": [
            "tf.Tensor(0.6146993, shape=(), dtype=float32)\n",
            "Epoch 262\n"
          ]
        },
        {
          "output_type": "stream",
          "name": "stderr",
          "text": [
            "100%|██████████| 9/9 [00:04<00:00,  1.89it/s]\n",
            "100%|██████████| 9/9 [00:04<00:00,  1.88it/s]\n",
            "100%|██████████| 9/9 [00:04<00:00,  1.88it/s]\n",
            "100%|██████████| 9/9 [00:04<00:00,  1.88it/s]\n",
            "100%|██████████| 19/19 [00:10<00:00,  1.88it/s]\n",
            "100%|██████████| 19/19 [00:10<00:00,  1.89it/s]\n",
            "100%|██████████| 19/19 [00:10<00:00,  1.90it/s]\n",
            "100%|██████████| 38/38 [00:20<00:00,  1.90it/s]\n",
            "100%|██████████| 58/58 [00:30<00:00,  1.89it/s]\n",
            "100%|██████████| 155/155 [00:18<00:00,  8.50it/s]\n"
          ]
        },
        {
          "output_type": "stream",
          "name": "stdout",
          "text": [
            "tf.Tensor(0.61568207, shape=(), dtype=float32)\n",
            "Epoch 263\n"
          ]
        },
        {
          "output_type": "stream",
          "name": "stderr",
          "text": [
            "100%|██████████| 9/9 [00:04<00:00,  1.88it/s]\n",
            "100%|██████████| 9/9 [00:04<00:00,  1.87it/s]\n",
            "100%|██████████| 9/9 [00:04<00:00,  1.88it/s]\n",
            "100%|██████████| 9/9 [00:04<00:00,  1.88it/s]\n",
            "100%|██████████| 19/19 [00:10<00:00,  1.88it/s]\n",
            "100%|██████████| 19/19 [00:10<00:00,  1.89it/s]\n",
            "100%|██████████| 19/19 [00:10<00:00,  1.89it/s]\n",
            "100%|██████████| 38/38 [00:20<00:00,  1.89it/s]\n",
            "100%|██████████| 58/58 [00:30<00:00,  1.89it/s]\n",
            "100%|██████████| 155/155 [00:18<00:00,  8.49it/s]\n"
          ]
        },
        {
          "output_type": "stream",
          "name": "stdout",
          "text": [
            "tf.Tensor(0.6144425, shape=(), dtype=float32)\n",
            "Epoch 264\n"
          ]
        },
        {
          "output_type": "stream",
          "name": "stderr",
          "text": [
            "100%|██████████| 9/9 [00:04<00:00,  1.88it/s]\n",
            "100%|██████████| 9/9 [00:04<00:00,  1.88it/s]\n",
            "100%|██████████| 9/9 [00:04<00:00,  1.88it/s]\n",
            "100%|██████████| 9/9 [00:04<00:00,  1.89it/s]\n",
            "100%|██████████| 19/19 [00:10<00:00,  1.89it/s]\n",
            "100%|██████████| 19/19 [00:10<00:00,  1.90it/s]\n",
            "100%|██████████| 19/19 [00:10<00:00,  1.90it/s]\n",
            "100%|██████████| 38/38 [00:20<00:00,  1.90it/s]\n",
            "100%|██████████| 58/58 [00:30<00:00,  1.89it/s]\n",
            "100%|██████████| 155/155 [00:18<00:00,  8.52it/s]\n"
          ]
        },
        {
          "output_type": "stream",
          "name": "stdout",
          "text": [
            "tf.Tensor(0.6150469, shape=(), dtype=float32)\n",
            "Epoch 265\n"
          ]
        },
        {
          "output_type": "stream",
          "name": "stderr",
          "text": [
            "100%|██████████| 9/9 [00:04<00:00,  1.89it/s]\n",
            "100%|██████████| 9/9 [00:04<00:00,  1.89it/s]\n",
            "100%|██████████| 9/9 [00:04<00:00,  1.88it/s]\n",
            "100%|██████████| 9/9 [00:04<00:00,  1.88it/s]\n",
            "100%|██████████| 19/19 [00:10<00:00,  1.89it/s]\n",
            "100%|██████████| 19/19 [00:10<00:00,  1.90it/s]\n",
            "100%|██████████| 19/19 [00:10<00:00,  1.89it/s]\n",
            "100%|██████████| 38/38 [00:20<00:00,  1.90it/s]\n",
            "100%|██████████| 58/58 [00:30<00:00,  1.89it/s]\n",
            "100%|██████████| 155/155 [00:18<00:00,  8.50it/s]\n"
          ]
        },
        {
          "output_type": "stream",
          "name": "stdout",
          "text": [
            "tf.Tensor(0.61648643, shape=(), dtype=float32)\n",
            "Epoch 266\n"
          ]
        },
        {
          "output_type": "stream",
          "name": "stderr",
          "text": [
            "100%|██████████| 9/9 [00:04<00:00,  1.89it/s]\n",
            "100%|██████████| 9/9 [00:04<00:00,  1.88it/s]\n",
            "100%|██████████| 9/9 [00:04<00:00,  1.88it/s]\n",
            "100%|██████████| 9/9 [00:04<00:00,  1.89it/s]\n",
            "100%|██████████| 19/19 [00:10<00:00,  1.89it/s]\n",
            "100%|██████████| 19/19 [00:10<00:00,  1.89it/s]\n",
            "100%|██████████| 19/19 [00:10<00:00,  1.90it/s]\n",
            "100%|██████████| 38/38 [00:20<00:00,  1.90it/s]\n",
            "100%|██████████| 58/58 [00:30<00:00,  1.89it/s]\n",
            "100%|██████████| 155/155 [00:18<00:00,  8.51it/s]\n"
          ]
        },
        {
          "output_type": "stream",
          "name": "stdout",
          "text": [
            "tf.Tensor(0.6172291, shape=(), dtype=float32)\n",
            "Epoch 267\n"
          ]
        },
        {
          "output_type": "stream",
          "name": "stderr",
          "text": [
            "100%|██████████| 9/9 [00:04<00:00,  1.89it/s]\n",
            "100%|██████████| 9/9 [00:04<00:00,  1.88it/s]\n",
            "100%|██████████| 9/9 [00:04<00:00,  1.88it/s]\n",
            "100%|██████████| 9/9 [00:04<00:00,  1.88it/s]\n",
            "100%|██████████| 19/19 [00:10<00:00,  1.89it/s]\n",
            "100%|██████████| 19/19 [00:10<00:00,  1.89it/s]\n",
            "100%|██████████| 19/19 [00:10<00:00,  1.90it/s]\n",
            "100%|██████████| 38/38 [00:20<00:00,  1.90it/s]\n",
            "100%|██████████| 58/58 [00:30<00:00,  1.89it/s]\n",
            "100%|██████████| 155/155 [00:18<00:00,  8.42it/s]\n"
          ]
        },
        {
          "output_type": "stream",
          "name": "stdout",
          "text": [
            "tf.Tensor(0.6166842, shape=(), dtype=float32)\n",
            "Epoch 268\n"
          ]
        },
        {
          "output_type": "stream",
          "name": "stderr",
          "text": [
            "100%|██████████| 9/9 [00:04<00:00,  1.89it/s]\n",
            "100%|██████████| 9/9 [00:04<00:00,  1.89it/s]\n",
            "100%|██████████| 9/9 [00:04<00:00,  1.88it/s]\n",
            "100%|██████████| 9/9 [00:04<00:00,  1.89it/s]\n",
            "100%|██████████| 19/19 [00:10<00:00,  1.89it/s]\n",
            "100%|██████████| 19/19 [00:10<00:00,  1.89it/s]\n",
            "100%|██████████| 19/19 [00:10<00:00,  1.90it/s]\n",
            "100%|██████████| 38/38 [00:20<00:00,  1.90it/s]\n",
            "100%|██████████| 58/58 [00:30<00:00,  1.89it/s]\n",
            "100%|██████████| 155/155 [00:18<00:00,  8.46it/s]\n"
          ]
        },
        {
          "output_type": "stream",
          "name": "stdout",
          "text": [
            "tf.Tensor(0.6172689, shape=(), dtype=float32)\n",
            "Epoch 269\n"
          ]
        },
        {
          "output_type": "stream",
          "name": "stderr",
          "text": [
            "100%|██████████| 9/9 [00:04<00:00,  1.89it/s]\n",
            "100%|██████████| 9/9 [00:04<00:00,  1.88it/s]\n",
            "100%|██████████| 9/9 [00:04<00:00,  1.88it/s]\n",
            "100%|██████████| 9/9 [00:04<00:00,  1.89it/s]\n",
            "100%|██████████| 19/19 [00:10<00:00,  1.89it/s]\n",
            "100%|██████████| 19/19 [00:10<00:00,  1.90it/s]\n",
            "100%|██████████| 19/19 [00:10<00:00,  1.90it/s]\n",
            "100%|██████████| 38/38 [00:20<00:00,  1.90it/s]\n",
            "100%|██████████| 58/58 [00:30<00:00,  1.89it/s]\n",
            "100%|██████████| 155/155 [00:18<00:00,  8.51it/s]\n"
          ]
        },
        {
          "output_type": "stream",
          "name": "stdout",
          "text": [
            "tf.Tensor(0.61916405, shape=(), dtype=float32)\n",
            "Epoch 270\n"
          ]
        },
        {
          "output_type": "stream",
          "name": "stderr",
          "text": [
            "100%|██████████| 9/9 [00:04<00:00,  1.89it/s]\n",
            "100%|██████████| 9/9 [00:04<00:00,  1.88it/s]\n",
            "100%|██████████| 9/9 [00:04<00:00,  1.88it/s]\n",
            "100%|██████████| 9/9 [00:04<00:00,  1.88it/s]\n",
            "100%|██████████| 19/19 [00:10<00:00,  1.89it/s]\n",
            "100%|██████████| 19/19 [00:10<00:00,  1.90it/s]\n",
            "100%|██████████| 19/19 [00:10<00:00,  1.90it/s]\n",
            "100%|██████████| 38/38 [00:20<00:00,  1.90it/s]\n",
            "100%|██████████| 58/58 [00:30<00:00,  1.89it/s]\n",
            "100%|██████████| 155/155 [00:18<00:00,  8.53it/s]\n"
          ]
        },
        {
          "output_type": "stream",
          "name": "stdout",
          "text": [
            "tf.Tensor(0.6140564, shape=(), dtype=float32)\n",
            "Epoch 271\n"
          ]
        },
        {
          "output_type": "stream",
          "name": "stderr",
          "text": [
            "100%|██████████| 9/9 [00:04<00:00,  1.89it/s]\n",
            "100%|██████████| 9/9 [00:04<00:00,  1.89it/s]\n",
            "100%|██████████| 9/9 [00:04<00:00,  1.88it/s]\n",
            "100%|██████████| 9/9 [00:04<00:00,  1.88it/s]\n",
            "100%|██████████| 19/19 [00:10<00:00,  1.88it/s]\n",
            "100%|██████████| 19/19 [00:10<00:00,  1.90it/s]\n",
            "100%|██████████| 19/19 [00:10<00:00,  1.89it/s]\n",
            "100%|██████████| 38/38 [00:20<00:00,  1.90it/s]\n",
            "100%|██████████| 58/58 [00:30<00:00,  1.89it/s]\n",
            "100%|██████████| 155/155 [00:18<00:00,  8.49it/s]\n"
          ]
        },
        {
          "output_type": "stream",
          "name": "stdout",
          "text": [
            "tf.Tensor(0.61587125, shape=(), dtype=float32)\n",
            "Epoch 272\n"
          ]
        },
        {
          "output_type": "stream",
          "name": "stderr",
          "text": [
            "100%|██████████| 9/9 [00:04<00:00,  1.88it/s]\n",
            "100%|██████████| 9/9 [00:04<00:00,  1.88it/s]\n",
            "100%|██████████| 9/9 [00:04<00:00,  1.88it/s]\n",
            "100%|██████████| 9/9 [00:04<00:00,  1.88it/s]\n",
            "100%|██████████| 19/19 [00:10<00:00,  1.88it/s]\n",
            "100%|██████████| 19/19 [00:10<00:00,  1.89it/s]\n",
            "100%|██████████| 19/19 [00:10<00:00,  1.89it/s]\n",
            "100%|██████████| 38/38 [00:20<00:00,  1.89it/s]\n",
            "100%|██████████| 58/58 [00:30<00:00,  1.89it/s]\n",
            "100%|██████████| 155/155 [00:18<00:00,  8.50it/s]\n"
          ]
        },
        {
          "output_type": "stream",
          "name": "stdout",
          "text": [
            "tf.Tensor(0.6158152, shape=(), dtype=float32)\n",
            "Epoch 273\n"
          ]
        },
        {
          "output_type": "stream",
          "name": "stderr",
          "text": [
            "100%|██████████| 9/9 [00:04<00:00,  1.88it/s]\n",
            "100%|██████████| 9/9 [00:04<00:00,  1.88it/s]\n",
            "100%|██████████| 9/9 [00:04<00:00,  1.88it/s]\n",
            "100%|██████████| 9/9 [00:04<00:00,  1.89it/s]\n",
            "100%|██████████| 19/19 [00:10<00:00,  1.89it/s]\n",
            "100%|██████████| 19/19 [00:10<00:00,  1.89it/s]\n",
            "100%|██████████| 19/19 [00:10<00:00,  1.90it/s]\n",
            "100%|██████████| 38/38 [00:20<00:00,  1.90it/s]\n",
            "100%|██████████| 58/58 [00:30<00:00,  1.89it/s]\n",
            "100%|██████████| 155/155 [00:18<00:00,  8.47it/s]\n"
          ]
        },
        {
          "output_type": "stream",
          "name": "stdout",
          "text": [
            "tf.Tensor(0.6155654, shape=(), dtype=float32)\n",
            "Epoch 274\n"
          ]
        },
        {
          "output_type": "stream",
          "name": "stderr",
          "text": [
            "100%|██████████| 9/9 [00:04<00:00,  1.90it/s]\n",
            "100%|██████████| 9/9 [00:04<00:00,  1.89it/s]\n",
            "100%|██████████| 9/9 [00:04<00:00,  1.89it/s]\n",
            "100%|██████████| 9/9 [00:04<00:00,  1.88it/s]\n",
            "100%|██████████| 19/19 [00:10<00:00,  1.90it/s]\n",
            "100%|██████████| 19/19 [00:10<00:00,  1.89it/s]\n",
            "100%|██████████| 19/19 [00:10<00:00,  1.90it/s]\n",
            "100%|██████████| 38/38 [00:20<00:00,  1.90it/s]\n",
            "100%|██████████| 58/58 [00:30<00:00,  1.89it/s]\n",
            "100%|██████████| 155/155 [00:18<00:00,  8.51it/s]\n"
          ]
        },
        {
          "output_type": "stream",
          "name": "stdout",
          "text": [
            "tf.Tensor(0.6182803, shape=(), dtype=float32)\n",
            "Epoch 275\n"
          ]
        },
        {
          "output_type": "stream",
          "name": "stderr",
          "text": [
            "100%|██████████| 9/9 [00:04<00:00,  1.88it/s]\n",
            "100%|██████████| 9/9 [00:04<00:00,  1.88it/s]\n",
            "100%|██████████| 9/9 [00:04<00:00,  1.88it/s]\n",
            "100%|██████████| 9/9 [00:04<00:00,  1.88it/s]\n",
            "100%|██████████| 19/19 [00:10<00:00,  1.89it/s]\n",
            "100%|██████████| 19/19 [00:10<00:00,  1.90it/s]\n",
            "100%|██████████| 19/19 [00:10<00:00,  1.90it/s]\n",
            "100%|██████████| 38/38 [00:20<00:00,  1.90it/s]\n",
            "100%|██████████| 58/58 [00:30<00:00,  1.89it/s]\n",
            "100%|██████████| 155/155 [00:18<00:00,  8.49it/s]\n"
          ]
        },
        {
          "output_type": "stream",
          "name": "stdout",
          "text": [
            "tf.Tensor(0.61845255, shape=(), dtype=float32)\n",
            "Epoch 276\n"
          ]
        },
        {
          "output_type": "stream",
          "name": "stderr",
          "text": [
            "100%|██████████| 9/9 [00:04<00:00,  1.89it/s]\n",
            "100%|██████████| 9/9 [00:04<00:00,  1.87it/s]\n",
            "100%|██████████| 9/9 [00:04<00:00,  1.89it/s]\n",
            "100%|██████████| 9/9 [00:04<00:00,  1.89it/s]\n",
            "100%|██████████| 19/19 [00:10<00:00,  1.88it/s]\n",
            "100%|██████████| 19/19 [00:10<00:00,  1.89it/s]\n",
            "100%|██████████| 19/19 [00:10<00:00,  1.89it/s]\n",
            "100%|██████████| 38/38 [00:20<00:00,  1.90it/s]\n",
            "100%|██████████| 58/58 [00:30<00:00,  1.89it/s]\n",
            "100%|██████████| 155/155 [00:18<00:00,  8.50it/s]\n"
          ]
        },
        {
          "output_type": "stream",
          "name": "stdout",
          "text": [
            "tf.Tensor(0.61448383, shape=(), dtype=float32)\n",
            "Epoch 277\n"
          ]
        },
        {
          "output_type": "stream",
          "name": "stderr",
          "text": [
            "100%|██████████| 9/9 [00:04<00:00,  1.89it/s]\n",
            "100%|██████████| 9/9 [00:04<00:00,  1.88it/s]\n",
            "100%|██████████| 9/9 [00:04<00:00,  1.88it/s]\n",
            "100%|██████████| 9/9 [00:04<00:00,  1.88it/s]\n",
            "100%|██████████| 19/19 [00:10<00:00,  1.89it/s]\n",
            "100%|██████████| 19/19 [00:10<00:00,  1.89it/s]\n",
            "100%|██████████| 19/19 [00:09<00:00,  1.90it/s]\n",
            "100%|██████████| 38/38 [00:20<00:00,  1.90it/s]\n",
            "100%|██████████| 58/58 [00:30<00:00,  1.90it/s]\n",
            "100%|██████████| 155/155 [00:18<00:00,  8.47it/s]\n"
          ]
        },
        {
          "output_type": "stream",
          "name": "stdout",
          "text": [
            "tf.Tensor(0.6172619, shape=(), dtype=float32)\n",
            "Epoch 278\n"
          ]
        },
        {
          "output_type": "stream",
          "name": "stderr",
          "text": [
            "100%|██████████| 9/9 [00:04<00:00,  1.89it/s]\n",
            "100%|██████████| 9/9 [00:04<00:00,  1.88it/s]\n",
            "100%|██████████| 9/9 [00:04<00:00,  1.89it/s]\n",
            "100%|██████████| 9/9 [00:04<00:00,  1.89it/s]\n",
            "100%|██████████| 19/19 [00:10<00:00,  1.89it/s]\n",
            "100%|██████████| 19/19 [00:10<00:00,  1.90it/s]\n",
            "100%|██████████| 19/19 [00:10<00:00,  1.90it/s]\n",
            "100%|██████████| 38/38 [00:20<00:00,  1.90it/s]\n",
            "100%|██████████| 58/58 [00:30<00:00,  1.89it/s]\n",
            "100%|██████████| 155/155 [00:18<00:00,  8.47it/s]\n"
          ]
        },
        {
          "output_type": "stream",
          "name": "stdout",
          "text": [
            "tf.Tensor(0.61481094, shape=(), dtype=float32)\n",
            "Epoch 279\n"
          ]
        },
        {
          "output_type": "stream",
          "name": "stderr",
          "text": [
            "100%|██████████| 9/9 [00:04<00:00,  1.89it/s]\n",
            "100%|██████████| 9/9 [00:04<00:00,  1.88it/s]\n",
            "100%|██████████| 9/9 [00:04<00:00,  1.88it/s]\n",
            "100%|██████████| 9/9 [00:04<00:00,  1.89it/s]\n",
            "100%|██████████| 19/19 [00:10<00:00,  1.88it/s]\n",
            "100%|██████████| 19/19 [00:10<00:00,  1.89it/s]\n",
            "100%|██████████| 19/19 [00:10<00:00,  1.90it/s]\n",
            "100%|██████████| 38/38 [00:20<00:00,  1.90it/s]\n",
            "100%|██████████| 58/58 [00:30<00:00,  1.89it/s]\n",
            "100%|██████████| 155/155 [00:18<00:00,  8.42it/s]\n"
          ]
        },
        {
          "output_type": "stream",
          "name": "stdout",
          "text": [
            "tf.Tensor(0.6124263, shape=(), dtype=float32)\n",
            "Epoch 280\n"
          ]
        },
        {
          "output_type": "stream",
          "name": "stderr",
          "text": [
            "100%|██████████| 9/9 [00:04<00:00,  1.89it/s]\n",
            "100%|██████████| 9/9 [00:04<00:00,  1.88it/s]\n",
            "100%|██████████| 9/9 [00:04<00:00,  1.89it/s]\n",
            "100%|██████████| 9/9 [00:04<00:00,  1.89it/s]\n",
            "100%|██████████| 19/19 [00:10<00:00,  1.88it/s]\n",
            "100%|██████████| 19/19 [00:10<00:00,  1.89it/s]\n",
            "100%|██████████| 19/19 [00:10<00:00,  1.90it/s]\n",
            "100%|██████████| 38/38 [00:20<00:00,  1.90it/s]\n",
            "100%|██████████| 58/58 [00:30<00:00,  1.89it/s]\n",
            "100%|██████████| 155/155 [00:18<00:00,  8.47it/s]\n"
          ]
        },
        {
          "output_type": "stream",
          "name": "stdout",
          "text": [
            "tf.Tensor(0.6181311, shape=(), dtype=float32)\n",
            "Epoch 281\n"
          ]
        },
        {
          "output_type": "stream",
          "name": "stderr",
          "text": [
            "100%|██████████| 9/9 [00:04<00:00,  1.89it/s]\n",
            "100%|██████████| 9/9 [00:04<00:00,  1.88it/s]\n",
            "100%|██████████| 9/9 [00:04<00:00,  1.88it/s]\n",
            "100%|██████████| 9/9 [00:04<00:00,  1.88it/s]\n",
            "100%|██████████| 19/19 [00:10<00:00,  1.88it/s]\n",
            "100%|██████████| 19/19 [00:10<00:00,  1.89it/s]\n",
            "100%|██████████| 19/19 [00:10<00:00,  1.90it/s]\n",
            "100%|██████████| 38/38 [00:20<00:00,  1.90it/s]\n",
            "100%|██████████| 58/58 [00:30<00:00,  1.89it/s]\n",
            "100%|██████████| 155/155 [00:18<00:00,  8.44it/s]\n"
          ]
        },
        {
          "output_type": "stream",
          "name": "stdout",
          "text": [
            "tf.Tensor(0.61737484, shape=(), dtype=float32)\n",
            "Epoch 282\n"
          ]
        },
        {
          "output_type": "stream",
          "name": "stderr",
          "text": [
            "100%|██████████| 9/9 [00:04<00:00,  1.88it/s]\n",
            "100%|██████████| 9/9 [00:04<00:00,  1.88it/s]\n",
            "100%|██████████| 9/9 [00:04<00:00,  1.87it/s]\n",
            "100%|██████████| 9/9 [00:04<00:00,  1.87it/s]\n",
            "100%|██████████| 19/19 [00:10<00:00,  1.88it/s]\n",
            "100%|██████████| 19/19 [00:10<00:00,  1.89it/s]\n",
            "100%|██████████| 19/19 [00:10<00:00,  1.89it/s]\n",
            "100%|██████████| 38/38 [00:20<00:00,  1.90it/s]\n",
            "100%|██████████| 58/58 [00:30<00:00,  1.89it/s]\n",
            "100%|██████████| 155/155 [00:18<00:00,  8.44it/s]\n"
          ]
        },
        {
          "output_type": "stream",
          "name": "stdout",
          "text": [
            "tf.Tensor(0.6133323, shape=(), dtype=float32)\n",
            "Epoch 283\n"
          ]
        },
        {
          "output_type": "stream",
          "name": "stderr",
          "text": [
            "100%|██████████| 9/9 [00:04<00:00,  1.88it/s]\n",
            "100%|██████████| 9/9 [00:04<00:00,  1.87it/s]\n",
            "100%|██████████| 9/9 [00:04<00:00,  1.88it/s]\n",
            "100%|██████████| 9/9 [00:04<00:00,  1.88it/s]\n",
            "100%|██████████| 19/19 [00:10<00:00,  1.88it/s]\n",
            "100%|██████████| 19/19 [00:10<00:00,  1.89it/s]\n",
            "100%|██████████| 19/19 [00:10<00:00,  1.89it/s]\n",
            "100%|██████████| 38/38 [00:20<00:00,  1.89it/s]\n",
            "100%|██████████| 58/58 [00:30<00:00,  1.89it/s]\n",
            "100%|██████████| 155/155 [00:18<00:00,  8.41it/s]\n"
          ]
        },
        {
          "output_type": "stream",
          "name": "stdout",
          "text": [
            "tf.Tensor(0.616444, shape=(), dtype=float32)\n",
            "Epoch 284\n"
          ]
        },
        {
          "output_type": "stream",
          "name": "stderr",
          "text": [
            "100%|██████████| 9/9 [00:04<00:00,  1.88it/s]\n",
            "100%|██████████| 9/9 [00:04<00:00,  1.88it/s]\n",
            "100%|██████████| 9/9 [00:04<00:00,  1.87it/s]\n",
            "100%|██████████| 9/9 [00:04<00:00,  1.88it/s]\n",
            "100%|██████████| 19/19 [00:10<00:00,  1.88it/s]\n",
            "100%|██████████| 19/19 [00:10<00:00,  1.89it/s]\n",
            "100%|██████████| 19/19 [00:09<00:00,  1.90it/s]\n",
            "100%|██████████| 38/38 [00:20<00:00,  1.89it/s]\n",
            "100%|██████████| 58/58 [00:30<00:00,  1.89it/s]\n",
            "100%|██████████| 155/155 [00:18<00:00,  8.44it/s]\n"
          ]
        },
        {
          "output_type": "stream",
          "name": "stdout",
          "text": [
            "tf.Tensor(0.6157923, shape=(), dtype=float32)\n",
            "Epoch 285\n"
          ]
        },
        {
          "output_type": "stream",
          "name": "stderr",
          "text": [
            "100%|██████████| 9/9 [00:04<00:00,  1.88it/s]\n",
            "100%|██████████| 9/9 [00:04<00:00,  1.88it/s]\n",
            "100%|██████████| 9/9 [00:04<00:00,  1.88it/s]\n",
            "100%|██████████| 9/9 [00:04<00:00,  1.88it/s]\n",
            "100%|██████████| 19/19 [00:10<00:00,  1.88it/s]\n",
            "100%|██████████| 19/19 [00:10<00:00,  1.89it/s]\n",
            "100%|██████████| 19/19 [00:10<00:00,  1.89it/s]\n",
            "100%|██████████| 38/38 [00:20<00:00,  1.90it/s]\n",
            "100%|██████████| 58/58 [00:30<00:00,  1.89it/s]\n",
            "100%|██████████| 155/155 [00:18<00:00,  8.42it/s]\n"
          ]
        },
        {
          "output_type": "stream",
          "name": "stdout",
          "text": [
            "tf.Tensor(0.6139147, shape=(), dtype=float32)\n",
            "Epoch 286\n"
          ]
        },
        {
          "output_type": "stream",
          "name": "stderr",
          "text": [
            "100%|██████████| 9/9 [00:04<00:00,  1.88it/s]\n",
            "100%|██████████| 9/9 [00:04<00:00,  1.88it/s]\n",
            "100%|██████████| 9/9 [00:04<00:00,  1.88it/s]\n",
            "100%|██████████| 9/9 [00:04<00:00,  1.87it/s]\n",
            "100%|██████████| 19/19 [00:10<00:00,  1.88it/s]\n",
            "100%|██████████| 19/19 [00:10<00:00,  1.89it/s]\n",
            "100%|██████████| 19/19 [00:10<00:00,  1.90it/s]\n",
            "100%|██████████| 38/38 [00:20<00:00,  1.90it/s]\n",
            "100%|██████████| 58/58 [00:30<00:00,  1.89it/s]\n",
            "100%|██████████| 155/155 [00:18<00:00,  8.44it/s]\n"
          ]
        },
        {
          "output_type": "stream",
          "name": "stdout",
          "text": [
            "tf.Tensor(0.612983, shape=(), dtype=float32)\n",
            "Epoch 287\n"
          ]
        },
        {
          "output_type": "stream",
          "name": "stderr",
          "text": [
            "100%|██████████| 9/9 [00:04<00:00,  1.88it/s]\n",
            "100%|██████████| 9/9 [00:04<00:00,  1.88it/s]\n",
            "100%|██████████| 9/9 [00:04<00:00,  1.88it/s]\n",
            "100%|██████████| 9/9 [00:04<00:00,  1.87it/s]\n",
            "100%|██████████| 19/19 [00:10<00:00,  1.89it/s]\n",
            "100%|██████████| 19/19 [00:10<00:00,  1.89it/s]\n",
            "100%|██████████| 19/19 [00:10<00:00,  1.89it/s]\n",
            "100%|██████████| 38/38 [00:20<00:00,  1.90it/s]\n",
            "100%|██████████| 58/58 [00:30<00:00,  1.89it/s]\n",
            "100%|██████████| 155/155 [00:18<00:00,  8.48it/s]\n"
          ]
        },
        {
          "output_type": "stream",
          "name": "stdout",
          "text": [
            "tf.Tensor(0.6125606, shape=(), dtype=float32)\n",
            "Epoch 288\n"
          ]
        },
        {
          "output_type": "stream",
          "name": "stderr",
          "text": [
            "100%|██████████| 9/9 [00:04<00:00,  1.89it/s]\n",
            "100%|██████████| 9/9 [00:04<00:00,  1.88it/s]\n",
            "100%|██████████| 9/9 [00:04<00:00,  1.88it/s]\n",
            "100%|██████████| 9/9 [00:04<00:00,  1.89it/s]\n",
            "100%|██████████| 19/19 [00:10<00:00,  1.89it/s]\n",
            "100%|██████████| 19/19 [00:10<00:00,  1.89it/s]\n",
            "100%|██████████| 19/19 [00:10<00:00,  1.90it/s]\n",
            "100%|██████████| 38/38 [00:20<00:00,  1.90it/s]\n",
            "100%|██████████| 58/58 [00:30<00:00,  1.88it/s]\n",
            "100%|██████████| 155/155 [00:18<00:00,  8.48it/s]\n"
          ]
        },
        {
          "output_type": "stream",
          "name": "stdout",
          "text": [
            "tf.Tensor(0.6157035, shape=(), dtype=float32)\n",
            "Epoch 289\n"
          ]
        },
        {
          "output_type": "stream",
          "name": "stderr",
          "text": [
            "100%|██████████| 9/9 [00:04<00:00,  1.88it/s]\n",
            "100%|██████████| 9/9 [00:04<00:00,  1.88it/s]\n",
            "100%|██████████| 9/9 [00:04<00:00,  1.88it/s]\n",
            "100%|██████████| 9/9 [00:04<00:00,  1.88it/s]\n",
            "100%|██████████| 19/19 [00:10<00:00,  1.88it/s]\n",
            "100%|██████████| 19/19 [00:10<00:00,  1.89it/s]\n",
            "100%|██████████| 19/19 [00:10<00:00,  1.90it/s]\n",
            "100%|██████████| 38/38 [00:20<00:00,  1.88it/s]\n",
            "100%|██████████| 58/58 [00:30<00:00,  1.89it/s]\n",
            "100%|██████████| 155/155 [00:18<00:00,  8.46it/s]\n"
          ]
        },
        {
          "output_type": "stream",
          "name": "stdout",
          "text": [
            "tf.Tensor(0.61450875, shape=(), dtype=float32)\n",
            "Epoch 290\n"
          ]
        },
        {
          "output_type": "stream",
          "name": "stderr",
          "text": [
            "100%|██████████| 9/9 [00:04<00:00,  1.89it/s]\n",
            "100%|██████████| 9/9 [00:04<00:00,  1.88it/s]\n",
            "100%|██████████| 9/9 [00:04<00:00,  1.88it/s]\n",
            "100%|██████████| 9/9 [00:04<00:00,  1.88it/s]\n",
            "100%|██████████| 19/19 [00:10<00:00,  1.89it/s]\n",
            "100%|██████████| 19/19 [00:10<00:00,  1.89it/s]\n",
            "100%|██████████| 19/19 [00:10<00:00,  1.90it/s]\n",
            "100%|██████████| 38/38 [00:20<00:00,  1.90it/s]\n",
            "100%|██████████| 58/58 [00:30<00:00,  1.89it/s]\n",
            "100%|██████████| 155/155 [00:18<00:00,  8.48it/s]\n"
          ]
        },
        {
          "output_type": "stream",
          "name": "stdout",
          "text": [
            "tf.Tensor(0.61589277, shape=(), dtype=float32)\n",
            "Epoch 291\n"
          ]
        },
        {
          "output_type": "stream",
          "name": "stderr",
          "text": [
            "100%|██████████| 9/9 [00:04<00:00,  1.88it/s]\n",
            "100%|██████████| 9/9 [00:04<00:00,  1.88it/s]\n",
            "100%|██████████| 9/9 [00:04<00:00,  1.88it/s]\n",
            "100%|██████████| 9/9 [00:04<00:00,  1.88it/s]\n",
            "100%|██████████| 19/19 [00:10<00:00,  1.88it/s]\n",
            "100%|██████████| 19/19 [00:10<00:00,  1.89it/s]\n",
            "100%|██████████| 19/19 [00:10<00:00,  1.90it/s]\n",
            "100%|██████████| 38/38 [00:20<00:00,  1.90it/s]\n",
            "100%|██████████| 58/58 [00:30<00:00,  1.89it/s]\n",
            "100%|██████████| 155/155 [00:18<00:00,  8.47it/s]\n"
          ]
        },
        {
          "output_type": "stream",
          "name": "stdout",
          "text": [
            "tf.Tensor(0.61575913, shape=(), dtype=float32)\n",
            "Epoch 292\n"
          ]
        },
        {
          "output_type": "stream",
          "name": "stderr",
          "text": [
            "100%|██████████| 9/9 [00:04<00:00,  1.89it/s]\n",
            "100%|██████████| 9/9 [00:04<00:00,  1.88it/s]\n",
            "100%|██████████| 9/9 [00:04<00:00,  1.88it/s]\n",
            "100%|██████████| 9/9 [00:04<00:00,  1.89it/s]\n",
            "100%|██████████| 19/19 [00:10<00:00,  1.88it/s]\n",
            "100%|██████████| 19/19 [00:10<00:00,  1.90it/s]\n",
            "100%|██████████| 19/19 [00:10<00:00,  1.90it/s]\n",
            "100%|██████████| 38/38 [00:20<00:00,  1.89it/s]\n",
            "100%|██████████| 58/58 [00:30<00:00,  1.89it/s]\n",
            "100%|██████████| 155/155 [00:18<00:00,  8.45it/s]\n"
          ]
        },
        {
          "output_type": "stream",
          "name": "stdout",
          "text": [
            "tf.Tensor(0.61927116, shape=(), dtype=float32)\n",
            "Epoch 293\n"
          ]
        },
        {
          "output_type": "stream",
          "name": "stderr",
          "text": [
            "100%|██████████| 9/9 [00:04<00:00,  1.88it/s]\n",
            "100%|██████████| 9/9 [00:04<00:00,  1.87it/s]\n",
            "100%|██████████| 9/9 [00:04<00:00,  1.87it/s]\n",
            "100%|██████████| 9/9 [00:04<00:00,  1.88it/s]\n",
            "100%|██████████| 19/19 [00:10<00:00,  1.88it/s]\n",
            "100%|██████████| 19/19 [00:10<00:00,  1.89it/s]\n",
            "100%|██████████| 19/19 [00:10<00:00,  1.90it/s]\n",
            "100%|██████████| 38/38 [00:20<00:00,  1.89it/s]\n",
            "100%|██████████| 58/58 [00:30<00:00,  1.89it/s]\n",
            "100%|██████████| 155/155 [00:18<00:00,  8.44it/s]\n"
          ]
        },
        {
          "output_type": "stream",
          "name": "stdout",
          "text": [
            "tf.Tensor(0.61786145, shape=(), dtype=float32)\n",
            "Epoch 294\n"
          ]
        },
        {
          "output_type": "stream",
          "name": "stderr",
          "text": [
            "100%|██████████| 9/9 [00:04<00:00,  1.89it/s]\n",
            "100%|██████████| 9/9 [00:04<00:00,  1.88it/s]\n",
            "100%|██████████| 9/9 [00:04<00:00,  1.88it/s]\n",
            "100%|██████████| 9/9 [00:04<00:00,  1.88it/s]\n",
            "100%|██████████| 19/19 [00:10<00:00,  1.88it/s]\n",
            "100%|██████████| 19/19 [00:10<00:00,  1.89it/s]\n",
            "100%|██████████| 19/19 [00:10<00:00,  1.89it/s]\n",
            "100%|██████████| 38/38 [00:20<00:00,  1.89it/s]\n",
            "100%|██████████| 58/58 [00:30<00:00,  1.89it/s]\n",
            "100%|██████████| 155/155 [00:18<00:00,  8.45it/s]\n"
          ]
        },
        {
          "output_type": "stream",
          "name": "stdout",
          "text": [
            "tf.Tensor(0.6131289, shape=(), dtype=float32)\n",
            "Epoch 295\n"
          ]
        },
        {
          "output_type": "stream",
          "name": "stderr",
          "text": [
            "100%|██████████| 9/9 [00:04<00:00,  1.89it/s]\n",
            "100%|██████████| 9/9 [00:04<00:00,  1.88it/s]\n",
            "100%|██████████| 9/9 [00:04<00:00,  1.88it/s]\n",
            "100%|██████████| 9/9 [00:04<00:00,  1.87it/s]\n",
            "100%|██████████| 19/19 [00:10<00:00,  1.89it/s]\n",
            "100%|██████████| 19/19 [00:10<00:00,  1.90it/s]\n",
            "100%|██████████| 19/19 [00:10<00:00,  1.89it/s]\n",
            "100%|██████████| 38/38 [00:20<00:00,  1.90it/s]\n",
            "100%|██████████| 58/58 [00:30<00:00,  1.89it/s]\n",
            "100%|██████████| 155/155 [00:18<00:00,  8.47it/s]\n"
          ]
        },
        {
          "output_type": "stream",
          "name": "stdout",
          "text": [
            "tf.Tensor(0.60964596, shape=(), dtype=float32)\n",
            "Epoch 296\n"
          ]
        },
        {
          "output_type": "stream",
          "name": "stderr",
          "text": [
            "100%|██████████| 9/9 [00:04<00:00,  1.89it/s]\n",
            "100%|██████████| 9/9 [00:04<00:00,  1.88it/s]\n",
            "100%|██████████| 9/9 [00:04<00:00,  1.89it/s]\n",
            "100%|██████████| 9/9 [00:04<00:00,  1.88it/s]\n",
            "100%|██████████| 19/19 [00:10<00:00,  1.89it/s]\n",
            "100%|██████████| 19/19 [00:10<00:00,  1.90it/s]\n",
            "100%|██████████| 19/19 [00:10<00:00,  1.90it/s]\n",
            "100%|██████████| 38/38 [00:20<00:00,  1.90it/s]\n",
            "100%|██████████| 58/58 [00:30<00:00,  1.90it/s]\n",
            "100%|██████████| 155/155 [00:18<00:00,  8.46it/s]\n"
          ]
        },
        {
          "output_type": "stream",
          "name": "stdout",
          "text": [
            "tf.Tensor(0.6120505, shape=(), dtype=float32)\n",
            "Epoch 297\n"
          ]
        },
        {
          "output_type": "stream",
          "name": "stderr",
          "text": [
            "100%|██████████| 9/9 [00:04<00:00,  1.89it/s]\n",
            "100%|██████████| 9/9 [00:04<00:00,  1.88it/s]\n",
            "100%|██████████| 9/9 [00:04<00:00,  1.88it/s]\n",
            "100%|██████████| 9/9 [00:04<00:00,  1.88it/s]\n",
            "100%|██████████| 19/19 [00:10<00:00,  1.89it/s]\n",
            "100%|██████████| 19/19 [00:10<00:00,  1.89it/s]\n",
            "100%|██████████| 19/19 [00:09<00:00,  1.90it/s]\n",
            "100%|██████████| 38/38 [00:20<00:00,  1.90it/s]\n",
            "100%|██████████| 58/58 [00:30<00:00,  1.89it/s]\n",
            "100%|██████████| 155/155 [00:18<00:00,  8.47it/s]\n"
          ]
        },
        {
          "output_type": "stream",
          "name": "stdout",
          "text": [
            "tf.Tensor(0.61563474, shape=(), dtype=float32)\n",
            "Epoch 298\n"
          ]
        },
        {
          "output_type": "stream",
          "name": "stderr",
          "text": [
            "100%|██████████| 9/9 [00:04<00:00,  1.89it/s]\n",
            "100%|██████████| 9/9 [00:04<00:00,  1.88it/s]\n",
            "100%|██████████| 9/9 [00:04<00:00,  1.88it/s]\n",
            "100%|██████████| 9/9 [00:04<00:00,  1.89it/s]\n",
            "100%|██████████| 19/19 [00:10<00:00,  1.88it/s]\n",
            "100%|██████████| 19/19 [00:10<00:00,  1.89it/s]\n",
            "100%|██████████| 19/19 [00:10<00:00,  1.90it/s]\n",
            "100%|██████████| 38/38 [00:20<00:00,  1.90it/s]\n",
            "100%|██████████| 58/58 [00:30<00:00,  1.89it/s]\n",
            "100%|██████████| 155/155 [00:18<00:00,  8.46it/s]\n"
          ]
        },
        {
          "output_type": "stream",
          "name": "stdout",
          "text": [
            "tf.Tensor(0.61933297, shape=(), dtype=float32)\n",
            "Epoch 299\n"
          ]
        },
        {
          "output_type": "stream",
          "name": "stderr",
          "text": [
            "100%|██████████| 9/9 [00:04<00:00,  1.89it/s]\n",
            "100%|██████████| 9/9 [00:04<00:00,  1.88it/s]\n",
            "100%|██████████| 9/9 [00:04<00:00,  1.88it/s]\n",
            "100%|██████████| 9/9 [00:04<00:00,  1.88it/s]\n",
            "100%|██████████| 19/19 [00:10<00:00,  1.89it/s]\n",
            "100%|██████████| 19/19 [00:10<00:00,  1.90it/s]\n",
            "100%|██████████| 19/19 [00:10<00:00,  1.90it/s]\n",
            "100%|██████████| 38/38 [00:20<00:00,  1.90it/s]\n",
            "100%|██████████| 58/58 [00:30<00:00,  1.89it/s]\n",
            "100%|██████████| 155/155 [00:18<00:00,  8.50it/s]\n"
          ]
        },
        {
          "output_type": "stream",
          "name": "stdout",
          "text": [
            "tf.Tensor(0.6147516, shape=(), dtype=float32)\n",
            "Epoch 300\n"
          ]
        },
        {
          "output_type": "stream",
          "name": "stderr",
          "text": [
            "100%|██████████| 9/9 [00:04<00:00,  1.89it/s]\n",
            "100%|██████████| 9/9 [00:04<00:00,  1.88it/s]\n",
            "100%|██████████| 9/9 [00:04<00:00,  1.89it/s]\n",
            "100%|██████████| 9/9 [00:04<00:00,  1.89it/s]\n",
            "100%|██████████| 19/19 [00:10<00:00,  1.89it/s]\n",
            "100%|██████████| 19/19 [00:10<00:00,  1.90it/s]\n",
            "100%|██████████| 19/19 [00:10<00:00,  1.90it/s]\n",
            "100%|██████████| 38/38 [00:20<00:00,  1.90it/s]\n",
            "100%|██████████| 58/58 [00:30<00:00,  1.89it/s]\n",
            "100%|██████████| 155/155 [00:18<00:00,  8.50it/s]\n"
          ]
        },
        {
          "output_type": "stream",
          "name": "stdout",
          "text": [
            "tf.Tensor(0.61181694, shape=(), dtype=float32)\n"
          ]
        }
      ]
    },
    {
      "cell_type": "markdown",
      "source": [
        "EBR"
      ],
      "metadata": {
        "id": "_Pmzyq7ppSok"
      }
    },
    {
      "cell_type": "code",
      "source": [
        "weights = [(institutions_t[i+1]-institutions_t[i])/80 for i in range(9)]\n",
        "weight_list=[0 for i in range(9)]\n",
        "model1 = model(input_shape = (240,240,4))\n",
        "model1.compile(optimizer=tf.keras.optimizers.Adam(learning_rate=0.001), loss=dice_log)\n",
        "\n",
        "replay_factor = 0.3\n",
        "EPOCHS = 34\n",
        "BATCH_SIZE=64\n",
        "scores_ebr_03_e1 = []\n",
        "import gc\n",
        "from tqdm import tqdm\n",
        "with tf.device(\"GPU:0\"):\n",
        "  for epoch in range(EPOCHS):\n",
        "    print(\"Epoch \"+str(epoch+1))\n",
        "    for ins in range(9):\n",
        "      length = len(X_train[155*institutions_t[ins]:155*institutions_t[ins+1]])\n",
        "      for iteration in tqdm(range(length//BATCH_SIZE)):\n",
        "        batch_indices = [random.randrange(0,length) for i in range(BATCH_SIZE)]\n",
        "        model1.train_on_batch((X_train[155*institutions_t[ins]:155*institutions_t[ins+1]][batch_indices])/maximum,(y_train[155*institutions_t[ins]:155*institutions_t[ins+1]][batch_indices])/4)\n",
        "      weight_list[ins]=model1.get_weights()\n",
        "      if epoch >0:\n",
        "        weights = [9-ins+i for i in range(0,ins)]+[0,]+[-ins+i for i in range(ins+1,9)]\n",
        "        weights_sum = sum(weights)\n",
        "        weights = [weights[i]*replay_factor for i in range(9)]\n",
        "        weights[ins]=(1-replay_factor)*weights_sum\n",
        "        model_weights = fl_average_givenweights(weight_list,weights)\n",
        "        model1.set_weights(model_weights)\n",
        "        #weight_list[ins]=model_weights\n",
        "      result = np.empty((3100,240,240,1),dtype='float32')\n",
        "      gc.collect()\n",
        "      for i in tqdm(range(100)):\n",
        "        result[i*31:(i+1)*31]=model1.predict(X_valid[i*31:(i+1)*31]/maximum)\n",
        "        #gc.collect()\n",
        "      dice_score = dice_coef(y_valid/4,result)\n",
        "      scores_ebr_03_e1.append(dice_score)\n",
        "      print(dice_score)\n",
        "      gc.collect()\n",
        "np.save(\"drive/MyDrive/BraTS/scores_ebr_03_e1\",np.array(scores_ebr_03_e1))"
      ],
      "metadata": {
        "id": "ITwCEDQvpSHR",
        "colab": {
          "base_uri": "https://localhost:8080/"
        },
        "outputId": "749619a8-9399-4e3f-a74f-cbe673308946"
      },
      "execution_count": null,
      "outputs": [
        {
          "output_type": "stream",
          "name": "stdout",
          "text": [
            "(None, 256, 256, 4)\n",
            "(None, 240, 240, 1)\n",
            "Epoch 1\n"
          ]
        },
        {
          "output_type": "stream",
          "name": "stderr",
          "text": [
            "100%|██████████| 9/9 [00:16<00:00,  1.86s/it]\n",
            "100%|██████████| 100/100 [00:14<00:00,  7.08it/s]\n"
          ]
        },
        {
          "output_type": "stream",
          "name": "stdout",
          "text": [
            "tf.Tensor(0.011915241, shape=(), dtype=float32)\n"
          ]
        },
        {
          "output_type": "stream",
          "name": "stderr",
          "text": [
            "100%|██████████| 9/9 [00:02<00:00,  3.02it/s]\n",
            "100%|██████████| 100/100 [00:13<00:00,  7.67it/s]\n"
          ]
        },
        {
          "output_type": "stream",
          "name": "stdout",
          "text": [
            "tf.Tensor(0.017454542, shape=(), dtype=float32)\n"
          ]
        },
        {
          "output_type": "stream",
          "name": "stderr",
          "text": [
            "100%|██████████| 9/9 [00:02<00:00,  3.04it/s]\n",
            "100%|██████████| 100/100 [00:13<00:00,  7.32it/s]\n"
          ]
        },
        {
          "output_type": "stream",
          "name": "stdout",
          "text": [
            "tf.Tensor(0.017362865, shape=(), dtype=float32)\n"
          ]
        },
        {
          "output_type": "stream",
          "name": "stderr",
          "text": [
            "100%|██████████| 9/9 [00:03<00:00,  2.93it/s]\n",
            "100%|██████████| 100/100 [00:13<00:00,  7.46it/s]\n"
          ]
        },
        {
          "output_type": "stream",
          "name": "stdout",
          "text": [
            "tf.Tensor(0.017115436, shape=(), dtype=float32)\n"
          ]
        },
        {
          "output_type": "stream",
          "name": "stderr",
          "text": [
            "100%|██████████| 19/19 [00:06<00:00,  2.92it/s]\n",
            "100%|██████████| 100/100 [00:13<00:00,  7.26it/s]\n"
          ]
        },
        {
          "output_type": "stream",
          "name": "stdout",
          "text": [
            "tf.Tensor(0.020261226, shape=(), dtype=float32)\n"
          ]
        },
        {
          "output_type": "stream",
          "name": "stderr",
          "text": [
            "100%|██████████| 19/19 [00:06<00:00,  2.97it/s]\n",
            "100%|██████████| 100/100 [00:13<00:00,  7.52it/s]\n"
          ]
        },
        {
          "output_type": "stream",
          "name": "stdout",
          "text": [
            "tf.Tensor(0.015154017, shape=(), dtype=float32)\n"
          ]
        },
        {
          "output_type": "stream",
          "name": "stderr",
          "text": [
            "100%|██████████| 19/19 [00:06<00:00,  2.99it/s]\n",
            "100%|██████████| 100/100 [00:13<00:00,  7.32it/s]\n"
          ]
        },
        {
          "output_type": "stream",
          "name": "stdout",
          "text": [
            "tf.Tensor(0.01280013, shape=(), dtype=float32)\n"
          ]
        },
        {
          "output_type": "stream",
          "name": "stderr",
          "text": [
            "100%|██████████| 38/38 [00:12<00:00,  3.02it/s]\n",
            "100%|██████████| 100/100 [00:13<00:00,  7.46it/s]\n"
          ]
        },
        {
          "output_type": "stream",
          "name": "stdout",
          "text": [
            "tf.Tensor(0.006614788, shape=(), dtype=float32)\n"
          ]
        },
        {
          "output_type": "stream",
          "name": "stderr",
          "text": [
            "100%|██████████| 58/58 [00:19<00:00,  2.99it/s]\n",
            "100%|██████████| 100/100 [00:13<00:00,  7.41it/s]\n"
          ]
        },
        {
          "output_type": "stream",
          "name": "stdout",
          "text": [
            "tf.Tensor(0.071493454, shape=(), dtype=float32)\n",
            "Epoch 2\n"
          ]
        },
        {
          "output_type": "stream",
          "name": "stderr",
          "text": [
            "100%|██████████| 9/9 [00:03<00:00,  2.96it/s]\n",
            "100%|██████████| 100/100 [00:13<00:00,  7.58it/s]\n"
          ]
        },
        {
          "output_type": "stream",
          "name": "stdout",
          "text": [
            "tf.Tensor(0.09562129, shape=(), dtype=float32)\n"
          ]
        },
        {
          "output_type": "stream",
          "name": "stderr",
          "text": [
            "100%|██████████| 9/9 [00:03<00:00,  2.99it/s]\n",
            "100%|██████████| 100/100 [00:13<00:00,  7.57it/s]\n"
          ]
        },
        {
          "output_type": "stream",
          "name": "stdout",
          "text": [
            "tf.Tensor(0.035207238, shape=(), dtype=float32)\n"
          ]
        },
        {
          "output_type": "stream",
          "name": "stderr",
          "text": [
            "100%|██████████| 9/9 [00:02<00:00,  3.03it/s]\n",
            "100%|██████████| 100/100 [00:13<00:00,  7.34it/s]\n"
          ]
        },
        {
          "output_type": "stream",
          "name": "stdout",
          "text": [
            "tf.Tensor(0.033077713, shape=(), dtype=float32)\n"
          ]
        },
        {
          "output_type": "stream",
          "name": "stderr",
          "text": [
            "100%|██████████| 9/9 [00:03<00:00,  2.99it/s]\n",
            "100%|██████████| 100/100 [00:13<00:00,  7.65it/s]\n"
          ]
        },
        {
          "output_type": "stream",
          "name": "stdout",
          "text": [
            "tf.Tensor(0.086350866, shape=(), dtype=float32)\n"
          ]
        },
        {
          "output_type": "stream",
          "name": "stderr",
          "text": [
            "100%|██████████| 19/19 [00:06<00:00,  3.03it/s]\n",
            "100%|██████████| 100/100 [00:13<00:00,  7.66it/s]\n"
          ]
        },
        {
          "output_type": "stream",
          "name": "stdout",
          "text": [
            "tf.Tensor(0.048078988, shape=(), dtype=float32)\n"
          ]
        },
        {
          "output_type": "stream",
          "name": "stderr",
          "text": [
            "100%|██████████| 19/19 [00:06<00:00,  3.04it/s]\n",
            "100%|██████████| 100/100 [00:13<00:00,  7.51it/s]\n"
          ]
        },
        {
          "output_type": "stream",
          "name": "stdout",
          "text": [
            "tf.Tensor(0.062817514, shape=(), dtype=float32)\n"
          ]
        },
        {
          "output_type": "stream",
          "name": "stderr",
          "text": [
            "100%|██████████| 19/19 [00:06<00:00,  3.01it/s]\n",
            "100%|██████████| 100/100 [00:13<00:00,  7.54it/s]\n"
          ]
        },
        {
          "output_type": "stream",
          "name": "stdout",
          "text": [
            "tf.Tensor(0.024020059, shape=(), dtype=float32)\n"
          ]
        },
        {
          "output_type": "stream",
          "name": "stderr",
          "text": [
            "100%|██████████| 38/38 [00:12<00:00,  3.05it/s]\n",
            "100%|██████████| 100/100 [00:13<00:00,  7.64it/s]\n"
          ]
        },
        {
          "output_type": "stream",
          "name": "stdout",
          "text": [
            "tf.Tensor(0.09040472, shape=(), dtype=float32)\n"
          ]
        },
        {
          "output_type": "stream",
          "name": "stderr",
          "text": [
            "100%|██████████| 58/58 [00:19<00:00,  3.03it/s]\n",
            "100%|██████████| 100/100 [00:13<00:00,  7.50it/s]\n"
          ]
        },
        {
          "output_type": "stream",
          "name": "stdout",
          "text": [
            "tf.Tensor(0.070412, shape=(), dtype=float32)\n",
            "Epoch 3\n"
          ]
        },
        {
          "output_type": "stream",
          "name": "stderr",
          "text": [
            "100%|██████████| 9/9 [00:02<00:00,  3.05it/s]\n",
            "100%|██████████| 100/100 [00:13<00:00,  7.67it/s]\n"
          ]
        },
        {
          "output_type": "stream",
          "name": "stdout",
          "text": [
            "tf.Tensor(0.15107192, shape=(), dtype=float32)\n"
          ]
        },
        {
          "output_type": "stream",
          "name": "stderr",
          "text": [
            "100%|██████████| 9/9 [00:02<00:00,  3.05it/s]\n",
            "100%|██████████| 100/100 [00:13<00:00,  7.65it/s]\n"
          ]
        },
        {
          "output_type": "stream",
          "name": "stdout",
          "text": [
            "tf.Tensor(0.0998256, shape=(), dtype=float32)\n"
          ]
        },
        {
          "output_type": "stream",
          "name": "stderr",
          "text": [
            "100%|██████████| 9/9 [00:02<00:00,  3.04it/s]\n",
            "100%|██████████| 100/100 [00:12<00:00,  7.69it/s]\n"
          ]
        },
        {
          "output_type": "stream",
          "name": "stdout",
          "text": [
            "tf.Tensor(0.07323535, shape=(), dtype=float32)\n"
          ]
        },
        {
          "output_type": "stream",
          "name": "stderr",
          "text": [
            "100%|██████████| 9/9 [00:02<00:00,  3.04it/s]\n",
            "100%|██████████| 100/100 [00:13<00:00,  7.65it/s]\n"
          ]
        },
        {
          "output_type": "stream",
          "name": "stdout",
          "text": [
            "tf.Tensor(0.09862514, shape=(), dtype=float32)\n"
          ]
        },
        {
          "output_type": "stream",
          "name": "stderr",
          "text": [
            "100%|██████████| 19/19 [00:06<00:00,  3.05it/s]\n",
            "100%|██████████| 100/100 [00:12<00:00,  7.72it/s]\n"
          ]
        },
        {
          "output_type": "stream",
          "name": "stdout",
          "text": [
            "tf.Tensor(0.05962583, shape=(), dtype=float32)\n"
          ]
        },
        {
          "output_type": "stream",
          "name": "stderr",
          "text": [
            "100%|██████████| 19/19 [00:06<00:00,  3.05it/s]\n",
            "100%|██████████| 100/100 [00:12<00:00,  7.70it/s]\n"
          ]
        },
        {
          "output_type": "stream",
          "name": "stdout",
          "text": [
            "tf.Tensor(0.056034654, shape=(), dtype=float32)\n"
          ]
        },
        {
          "output_type": "stream",
          "name": "stderr",
          "text": [
            "100%|██████████| 19/19 [00:06<00:00,  3.03it/s]\n",
            "100%|██████████| 100/100 [00:13<00:00,  7.61it/s]\n"
          ]
        },
        {
          "output_type": "stream",
          "name": "stdout",
          "text": [
            "tf.Tensor(0.0892588, shape=(), dtype=float32)\n"
          ]
        },
        {
          "output_type": "stream",
          "name": "stderr",
          "text": [
            "100%|██████████| 38/38 [00:12<00:00,  3.05it/s]\n",
            "100%|██████████| 100/100 [00:12<00:00,  7.71it/s]\n"
          ]
        },
        {
          "output_type": "stream",
          "name": "stdout",
          "text": [
            "tf.Tensor(0.10802978, shape=(), dtype=float32)\n"
          ]
        },
        {
          "output_type": "stream",
          "name": "stderr",
          "text": [
            "100%|██████████| 58/58 [00:19<00:00,  3.05it/s]\n",
            "100%|██████████| 100/100 [00:13<00:00,  7.56it/s]\n"
          ]
        },
        {
          "output_type": "stream",
          "name": "stdout",
          "text": [
            "tf.Tensor(0.20599858, shape=(), dtype=float32)\n",
            "Epoch 4\n"
          ]
        },
        {
          "output_type": "stream",
          "name": "stderr",
          "text": [
            "100%|██████████| 9/9 [00:03<00:00,  2.99it/s]\n",
            "100%|██████████| 100/100 [00:13<00:00,  7.57it/s]\n"
          ]
        },
        {
          "output_type": "stream",
          "name": "stdout",
          "text": [
            "tf.Tensor(0.32347757, shape=(), dtype=float32)\n"
          ]
        },
        {
          "output_type": "stream",
          "name": "stderr",
          "text": [
            "100%|██████████| 9/9 [00:02<00:00,  3.03it/s]\n",
            "100%|██████████| 100/100 [00:12<00:00,  7.72it/s]\n"
          ]
        },
        {
          "output_type": "stream",
          "name": "stdout",
          "text": [
            "tf.Tensor(0.18996619, shape=(), dtype=float32)\n"
          ]
        },
        {
          "output_type": "stream",
          "name": "stderr",
          "text": [
            "100%|██████████| 9/9 [00:02<00:00,  3.04it/s]\n",
            "100%|██████████| 100/100 [00:12<00:00,  7.73it/s]\n"
          ]
        },
        {
          "output_type": "stream",
          "name": "stdout",
          "text": [
            "tf.Tensor(0.13402559, shape=(), dtype=float32)\n"
          ]
        },
        {
          "output_type": "stream",
          "name": "stderr",
          "text": [
            "100%|██████████| 9/9 [00:02<00:00,  3.06it/s]\n",
            "100%|██████████| 100/100 [00:13<00:00,  7.65it/s]\n"
          ]
        },
        {
          "output_type": "stream",
          "name": "stdout",
          "text": [
            "tf.Tensor(0.15840653, shape=(), dtype=float32)\n"
          ]
        },
        {
          "output_type": "stream",
          "name": "stderr",
          "text": [
            "100%|██████████| 19/19 [00:06<00:00,  3.03it/s]\n",
            "100%|██████████| 100/100 [00:12<00:00,  7.76it/s]\n"
          ]
        },
        {
          "output_type": "stream",
          "name": "stdout",
          "text": [
            "tf.Tensor(0.24792904, shape=(), dtype=float32)\n"
          ]
        },
        {
          "output_type": "stream",
          "name": "stderr",
          "text": [
            "100%|██████████| 19/19 [00:06<00:00,  3.06it/s]\n",
            "100%|██████████| 100/100 [00:12<00:00,  7.73it/s]\n"
          ]
        },
        {
          "output_type": "stream",
          "name": "stdout",
          "text": [
            "tf.Tensor(0.24033388, shape=(), dtype=float32)\n"
          ]
        },
        {
          "output_type": "stream",
          "name": "stderr",
          "text": [
            "100%|██████████| 19/19 [00:06<00:00,  3.06it/s]\n",
            "100%|██████████| 100/100 [00:13<00:00,  7.65it/s]\n"
          ]
        },
        {
          "output_type": "stream",
          "name": "stdout",
          "text": [
            "tf.Tensor(0.3105326, shape=(), dtype=float32)\n"
          ]
        },
        {
          "output_type": "stream",
          "name": "stderr",
          "text": [
            "100%|██████████| 38/38 [00:12<00:00,  2.99it/s]\n",
            "100%|██████████| 100/100 [00:13<00:00,  7.68it/s]\n"
          ]
        },
        {
          "output_type": "stream",
          "name": "stdout",
          "text": [
            "tf.Tensor(0.30889782, shape=(), dtype=float32)\n"
          ]
        },
        {
          "output_type": "stream",
          "name": "stderr",
          "text": [
            "100%|██████████| 58/58 [00:19<00:00,  3.05it/s]\n",
            "100%|██████████| 100/100 [00:13<00:00,  7.50it/s]\n"
          ]
        },
        {
          "output_type": "stream",
          "name": "stdout",
          "text": [
            "tf.Tensor(0.42215937, shape=(), dtype=float32)\n",
            "Epoch 5\n"
          ]
        },
        {
          "output_type": "stream",
          "name": "stderr",
          "text": [
            "100%|██████████| 9/9 [00:03<00:00,  3.00it/s]\n",
            "100%|██████████| 100/100 [00:13<00:00,  7.64it/s]\n"
          ]
        },
        {
          "output_type": "stream",
          "name": "stdout",
          "text": [
            "tf.Tensor(0.3789292, shape=(), dtype=float32)\n"
          ]
        },
        {
          "output_type": "stream",
          "name": "stderr",
          "text": [
            "100%|██████████| 9/9 [00:02<00:00,  3.06it/s]\n",
            "100%|██████████| 100/100 [00:12<00:00,  7.73it/s]\n"
          ]
        },
        {
          "output_type": "stream",
          "name": "stdout",
          "text": [
            "tf.Tensor(0.28395447, shape=(), dtype=float32)\n"
          ]
        },
        {
          "output_type": "stream",
          "name": "stderr",
          "text": [
            "100%|██████████| 9/9 [00:02<00:00,  3.05it/s]\n",
            "100%|██████████| 100/100 [00:12<00:00,  7.69it/s]\n"
          ]
        },
        {
          "output_type": "stream",
          "name": "stdout",
          "text": [
            "tf.Tensor(0.35394168, shape=(), dtype=float32)\n"
          ]
        },
        {
          "output_type": "stream",
          "name": "stderr",
          "text": [
            "100%|██████████| 9/9 [00:02<00:00,  3.06it/s]\n",
            "100%|██████████| 100/100 [00:13<00:00,  7.67it/s]\n"
          ]
        },
        {
          "output_type": "stream",
          "name": "stdout",
          "text": [
            "tf.Tensor(0.4442901, shape=(), dtype=float32)\n"
          ]
        },
        {
          "output_type": "stream",
          "name": "stderr",
          "text": [
            "100%|██████████| 19/19 [00:06<00:00,  3.05it/s]\n",
            "100%|██████████| 100/100 [00:12<00:00,  7.70it/s]\n"
          ]
        },
        {
          "output_type": "stream",
          "name": "stdout",
          "text": [
            "tf.Tensor(0.43265843, shape=(), dtype=float32)\n"
          ]
        },
        {
          "output_type": "stream",
          "name": "stderr",
          "text": [
            "100%|██████████| 19/19 [00:06<00:00,  3.03it/s]\n",
            "100%|██████████| 100/100 [00:12<00:00,  7.77it/s]\n"
          ]
        },
        {
          "output_type": "stream",
          "name": "stdout",
          "text": [
            "tf.Tensor(0.45094556, shape=(), dtype=float32)\n"
          ]
        },
        {
          "output_type": "stream",
          "name": "stderr",
          "text": [
            "100%|██████████| 19/19 [00:06<00:00,  3.07it/s]\n",
            "100%|██████████| 100/100 [00:13<00:00,  7.57it/s]\n"
          ]
        },
        {
          "output_type": "stream",
          "name": "stdout",
          "text": [
            "tf.Tensor(0.45766547, shape=(), dtype=float32)\n"
          ]
        },
        {
          "output_type": "stream",
          "name": "stderr",
          "text": [
            "100%|██████████| 38/38 [00:12<00:00,  3.00it/s]\n",
            "100%|██████████| 100/100 [00:12<00:00,  7.71it/s]\n"
          ]
        },
        {
          "output_type": "stream",
          "name": "stdout",
          "text": [
            "tf.Tensor(0.388647, shape=(), dtype=float32)\n"
          ]
        },
        {
          "output_type": "stream",
          "name": "stderr",
          "text": [
            "100%|██████████| 58/58 [00:18<00:00,  3.07it/s]\n",
            "100%|██████████| 100/100 [00:13<00:00,  7.63it/s]\n"
          ]
        },
        {
          "output_type": "stream",
          "name": "stdout",
          "text": [
            "tf.Tensor(0.45835033, shape=(), dtype=float32)\n",
            "Epoch 6\n"
          ]
        },
        {
          "output_type": "stream",
          "name": "stderr",
          "text": [
            "100%|██████████| 9/9 [00:02<00:00,  3.00it/s]\n",
            "100%|██████████| 100/100 [00:13<00:00,  7.68it/s]\n"
          ]
        },
        {
          "output_type": "stream",
          "name": "stdout",
          "text": [
            "tf.Tensor(0.49388677, shape=(), dtype=float32)\n"
          ]
        },
        {
          "output_type": "stream",
          "name": "stderr",
          "text": [
            "100%|██████████| 9/9 [00:02<00:00,  3.05it/s]\n",
            "100%|██████████| 100/100 [00:13<00:00,  7.66it/s]\n"
          ]
        },
        {
          "output_type": "stream",
          "name": "stdout",
          "text": [
            "tf.Tensor(0.4462772, shape=(), dtype=float32)\n"
          ]
        },
        {
          "output_type": "stream",
          "name": "stderr",
          "text": [
            "100%|██████████| 9/9 [00:02<00:00,  3.01it/s]\n",
            "100%|██████████| 100/100 [00:12<00:00,  7.72it/s]\n"
          ]
        },
        {
          "output_type": "stream",
          "name": "stdout",
          "text": [
            "tf.Tensor(0.44603202, shape=(), dtype=float32)\n"
          ]
        },
        {
          "output_type": "stream",
          "name": "stderr",
          "text": [
            "100%|██████████| 9/9 [00:02<00:00,  3.06it/s]\n",
            "100%|██████████| 100/100 [00:13<00:00,  7.68it/s]\n"
          ]
        },
        {
          "output_type": "stream",
          "name": "stdout",
          "text": [
            "tf.Tensor(0.51644355, shape=(), dtype=float32)\n"
          ]
        },
        {
          "output_type": "stream",
          "name": "stderr",
          "text": [
            "100%|██████████| 19/19 [00:06<00:00,  3.05it/s]\n",
            "100%|██████████| 100/100 [00:13<00:00,  7.67it/s]\n"
          ]
        },
        {
          "output_type": "stream",
          "name": "stdout",
          "text": [
            "tf.Tensor(0.44945157, shape=(), dtype=float32)\n"
          ]
        },
        {
          "output_type": "stream",
          "name": "stderr",
          "text": [
            "100%|██████████| 19/19 [00:06<00:00,  3.07it/s]\n",
            "100%|██████████| 100/100 [00:12<00:00,  7.72it/s]\n"
          ]
        },
        {
          "output_type": "stream",
          "name": "stdout",
          "text": [
            "tf.Tensor(0.48733327, shape=(), dtype=float32)\n"
          ]
        },
        {
          "output_type": "stream",
          "name": "stderr",
          "text": [
            "100%|██████████| 19/19 [00:06<00:00,  3.05it/s]\n",
            "100%|██████████| 100/100 [00:13<00:00,  7.67it/s]\n"
          ]
        },
        {
          "output_type": "stream",
          "name": "stdout",
          "text": [
            "tf.Tensor(0.50483596, shape=(), dtype=float32)\n"
          ]
        },
        {
          "output_type": "stream",
          "name": "stderr",
          "text": [
            "100%|██████████| 38/38 [00:12<00:00,  3.05it/s]\n",
            "100%|██████████| 100/100 [00:13<00:00,  7.60it/s]\n"
          ]
        },
        {
          "output_type": "stream",
          "name": "stdout",
          "text": [
            "tf.Tensor(0.49770606, shape=(), dtype=float32)\n"
          ]
        },
        {
          "output_type": "stream",
          "name": "stderr",
          "text": [
            "100%|██████████| 58/58 [00:19<00:00,  3.03it/s]\n",
            "100%|██████████| 100/100 [00:12<00:00,  7.76it/s]\n"
          ]
        },
        {
          "output_type": "stream",
          "name": "stdout",
          "text": [
            "tf.Tensor(0.52571213, shape=(), dtype=float32)\n",
            "Epoch 7\n"
          ]
        },
        {
          "output_type": "stream",
          "name": "stderr",
          "text": [
            "100%|██████████| 9/9 [00:02<00:00,  3.07it/s]\n",
            "100%|██████████| 100/100 [00:13<00:00,  7.63it/s]\n"
          ]
        },
        {
          "output_type": "stream",
          "name": "stdout",
          "text": [
            "tf.Tensor(0.54028887, shape=(), dtype=float32)\n"
          ]
        },
        {
          "output_type": "stream",
          "name": "stderr",
          "text": [
            "100%|██████████| 9/9 [00:02<00:00,  3.05it/s]\n",
            "100%|██████████| 100/100 [00:12<00:00,  7.72it/s]\n"
          ]
        },
        {
          "output_type": "stream",
          "name": "stdout",
          "text": [
            "tf.Tensor(0.4871421, shape=(), dtype=float32)\n"
          ]
        },
        {
          "output_type": "stream",
          "name": "stderr",
          "text": [
            "100%|██████████| 9/9 [00:02<00:00,  3.05it/s]\n",
            "100%|██████████| 100/100 [00:12<00:00,  7.78it/s]\n"
          ]
        },
        {
          "output_type": "stream",
          "name": "stdout",
          "text": [
            "tf.Tensor(0.50364155, shape=(), dtype=float32)\n"
          ]
        },
        {
          "output_type": "stream",
          "name": "stderr",
          "text": [
            "100%|██████████| 9/9 [00:02<00:00,  3.07it/s]\n",
            "100%|██████████| 100/100 [00:13<00:00,  7.69it/s]\n"
          ]
        },
        {
          "output_type": "stream",
          "name": "stdout",
          "text": [
            "tf.Tensor(0.562739, shape=(), dtype=float32)\n"
          ]
        },
        {
          "output_type": "stream",
          "name": "stderr",
          "text": [
            "100%|██████████| 19/19 [00:06<00:00,  3.03it/s]\n",
            "100%|██████████| 100/100 [00:13<00:00,  7.64it/s]\n"
          ]
        },
        {
          "output_type": "stream",
          "name": "stdout",
          "text": [
            "tf.Tensor(0.4868167, shape=(), dtype=float32)\n"
          ]
        },
        {
          "output_type": "stream",
          "name": "stderr",
          "text": [
            "100%|██████████| 19/19 [00:06<00:00,  3.05it/s]\n",
            "100%|██████████| 100/100 [00:12<00:00,  7.72it/s]\n"
          ]
        },
        {
          "output_type": "stream",
          "name": "stdout",
          "text": [
            "tf.Tensor(0.5374726, shape=(), dtype=float32)\n"
          ]
        },
        {
          "output_type": "stream",
          "name": "stderr",
          "text": [
            "100%|██████████| 19/19 [00:06<00:00,  3.06it/s]\n",
            "100%|██████████| 100/100 [00:12<00:00,  7.78it/s]\n"
          ]
        },
        {
          "output_type": "stream",
          "name": "stdout",
          "text": [
            "tf.Tensor(0.57504314, shape=(), dtype=float32)\n"
          ]
        },
        {
          "output_type": "stream",
          "name": "stderr",
          "text": [
            "100%|██████████| 38/38 [00:12<00:00,  3.04it/s]\n",
            "100%|██████████| 100/100 [00:13<00:00,  7.55it/s]\n"
          ]
        },
        {
          "output_type": "stream",
          "name": "stdout",
          "text": [
            "tf.Tensor(0.5445422, shape=(), dtype=float32)\n"
          ]
        },
        {
          "output_type": "stream",
          "name": "stderr",
          "text": [
            "100%|██████████| 58/58 [00:19<00:00,  3.04it/s]\n",
            "100%|██████████| 100/100 [00:12<00:00,  7.74it/s]\n"
          ]
        },
        {
          "output_type": "stream",
          "name": "stdout",
          "text": [
            "tf.Tensor(0.5183812, shape=(), dtype=float32)\n",
            "Epoch 8\n"
          ]
        },
        {
          "output_type": "stream",
          "name": "stderr",
          "text": [
            "100%|██████████| 9/9 [00:02<00:00,  3.07it/s]\n",
            "100%|██████████| 100/100 [00:13<00:00,  7.63it/s]\n"
          ]
        },
        {
          "output_type": "stream",
          "name": "stdout",
          "text": [
            "tf.Tensor(0.5261892, shape=(), dtype=float32)\n"
          ]
        },
        {
          "output_type": "stream",
          "name": "stderr",
          "text": [
            "100%|██████████| 9/9 [00:02<00:00,  3.06it/s]\n",
            "100%|██████████| 100/100 [00:13<00:00,  7.68it/s]\n"
          ]
        },
        {
          "output_type": "stream",
          "name": "stdout",
          "text": [
            "tf.Tensor(0.4823204, shape=(), dtype=float32)\n"
          ]
        },
        {
          "output_type": "stream",
          "name": "stderr",
          "text": [
            "100%|██████████| 9/9 [00:02<00:00,  3.06it/s]\n",
            "100%|██████████| 100/100 [00:12<00:00,  7.74it/s]\n"
          ]
        },
        {
          "output_type": "stream",
          "name": "stdout",
          "text": [
            "tf.Tensor(0.46676406, shape=(), dtype=float32)\n"
          ]
        },
        {
          "output_type": "stream",
          "name": "stderr",
          "text": [
            "100%|██████████| 9/9 [00:02<00:00,  3.05it/s]\n",
            "100%|██████████| 100/100 [00:12<00:00,  7.75it/s]\n"
          ]
        },
        {
          "output_type": "stream",
          "name": "stdout",
          "text": [
            "tf.Tensor(0.5473507, shape=(), dtype=float32)\n"
          ]
        },
        {
          "output_type": "stream",
          "name": "stderr",
          "text": [
            "100%|██████████| 19/19 [00:06<00:00,  3.06it/s]\n",
            "100%|██████████| 100/100 [00:13<00:00,  7.67it/s]\n"
          ]
        },
        {
          "output_type": "stream",
          "name": "stdout",
          "text": [
            "tf.Tensor(0.54554427, shape=(), dtype=float32)\n"
          ]
        },
        {
          "output_type": "stream",
          "name": "stderr",
          "text": [
            "100%|██████████| 19/19 [00:06<00:00,  3.06it/s]\n",
            "100%|██████████| 100/100 [00:12<00:00,  7.72it/s]\n"
          ]
        },
        {
          "output_type": "stream",
          "name": "stdout",
          "text": [
            "tf.Tensor(0.5837548, shape=(), dtype=float32)\n"
          ]
        },
        {
          "output_type": "stream",
          "name": "stderr",
          "text": [
            "100%|██████████| 19/19 [00:06<00:00,  3.01it/s]\n",
            "100%|██████████| 100/100 [00:12<00:00,  7.75it/s]\n"
          ]
        },
        {
          "output_type": "stream",
          "name": "stdout",
          "text": [
            "tf.Tensor(0.59377015, shape=(), dtype=float32)\n"
          ]
        },
        {
          "output_type": "stream",
          "name": "stderr",
          "text": [
            "100%|██████████| 38/38 [00:12<00:00,  3.06it/s]\n",
            "100%|██████████| 100/100 [00:13<00:00,  7.64it/s]\n"
          ]
        },
        {
          "output_type": "stream",
          "name": "stdout",
          "text": [
            "tf.Tensor(0.5744857, shape=(), dtype=float32)\n"
          ]
        },
        {
          "output_type": "stream",
          "name": "stderr",
          "text": [
            "100%|██████████| 58/58 [00:18<00:00,  3.06it/s]\n",
            "100%|██████████| 100/100 [00:13<00:00,  7.67it/s]\n"
          ]
        },
        {
          "output_type": "stream",
          "name": "stdout",
          "text": [
            "tf.Tensor(0.5696926, shape=(), dtype=float32)\n",
            "Epoch 9\n"
          ]
        },
        {
          "output_type": "stream",
          "name": "stderr",
          "text": [
            "100%|██████████| 9/9 [00:02<00:00,  3.06it/s]\n",
            "100%|██████████| 100/100 [00:12<00:00,  7.76it/s]\n"
          ]
        },
        {
          "output_type": "stream",
          "name": "stdout",
          "text": [
            "tf.Tensor(0.56719255, shape=(), dtype=float32)\n"
          ]
        },
        {
          "output_type": "stream",
          "name": "stderr",
          "text": [
            "100%|██████████| 9/9 [00:02<00:00,  3.06it/s]\n",
            "100%|██████████| 100/100 [00:13<00:00,  7.60it/s]\n"
          ]
        },
        {
          "output_type": "stream",
          "name": "stdout",
          "text": [
            "tf.Tensor(0.5629265, shape=(), dtype=float32)\n"
          ]
        },
        {
          "output_type": "stream",
          "name": "stderr",
          "text": [
            "100%|██████████| 9/9 [00:02<00:00,  3.05it/s]\n",
            "100%|██████████| 100/100 [00:13<00:00,  7.69it/s]\n"
          ]
        },
        {
          "output_type": "stream",
          "name": "stdout",
          "text": [
            "tf.Tensor(0.5497671, shape=(), dtype=float32)\n"
          ]
        },
        {
          "output_type": "stream",
          "name": "stderr",
          "text": [
            "100%|██████████| 9/9 [00:02<00:00,  3.06it/s]\n",
            "100%|██████████| 100/100 [00:13<00:00,  7.18it/s]\n"
          ]
        },
        {
          "output_type": "stream",
          "name": "stdout",
          "text": [
            "tf.Tensor(0.5919657, shape=(), dtype=float32)\n"
          ]
        },
        {
          "output_type": "stream",
          "name": "stderr",
          "text": [
            "100%|██████████| 19/19 [00:06<00:00,  3.03it/s]\n",
            "100%|██████████| 100/100 [00:13<00:00,  7.20it/s]\n"
          ]
        },
        {
          "output_type": "stream",
          "name": "stdout",
          "text": [
            "tf.Tensor(0.55962044, shape=(), dtype=float32)\n"
          ]
        },
        {
          "output_type": "stream",
          "name": "stderr",
          "text": [
            "100%|██████████| 19/19 [00:06<00:00,  2.92it/s]\n",
            "100%|██████████| 100/100 [00:13<00:00,  7.22it/s]\n"
          ]
        },
        {
          "output_type": "stream",
          "name": "stdout",
          "text": [
            "tf.Tensor(0.57962817, shape=(), dtype=float32)\n"
          ]
        },
        {
          "output_type": "stream",
          "name": "stderr",
          "text": [
            "100%|██████████| 19/19 [00:06<00:00,  2.97it/s]\n",
            "100%|██████████| 100/100 [00:13<00:00,  7.49it/s]\n"
          ]
        },
        {
          "output_type": "stream",
          "name": "stdout",
          "text": [
            "tf.Tensor(0.5947548, shape=(), dtype=float32)\n"
          ]
        },
        {
          "output_type": "stream",
          "name": "stderr",
          "text": [
            "100%|██████████| 38/38 [00:12<00:00,  3.05it/s]\n",
            "100%|██████████| 100/100 [00:13<00:00,  7.52it/s]\n"
          ]
        },
        {
          "output_type": "stream",
          "name": "stdout",
          "text": [
            "tf.Tensor(0.5871205, shape=(), dtype=float32)\n"
          ]
        },
        {
          "output_type": "stream",
          "name": "stderr",
          "text": [
            "100%|██████████| 58/58 [00:19<00:00,  2.97it/s]\n",
            "100%|██████████| 100/100 [00:13<00:00,  7.68it/s]\n"
          ]
        },
        {
          "output_type": "stream",
          "name": "stdout",
          "text": [
            "tf.Tensor(0.57212913, shape=(), dtype=float32)\n",
            "Epoch 10\n"
          ]
        },
        {
          "output_type": "stream",
          "name": "stderr",
          "text": [
            "100%|██████████| 9/9 [00:02<00:00,  3.07it/s]\n",
            "100%|██████████| 100/100 [00:13<00:00,  7.67it/s]\n"
          ]
        },
        {
          "output_type": "stream",
          "name": "stdout",
          "text": [
            "tf.Tensor(0.5858155, shape=(), dtype=float32)\n"
          ]
        },
        {
          "output_type": "stream",
          "name": "stderr",
          "text": [
            "100%|██████████| 9/9 [00:02<00:00,  3.00it/s]\n",
            "100%|██████████| 100/100 [00:13<00:00,  7.38it/s]\n"
          ]
        },
        {
          "output_type": "stream",
          "name": "stdout",
          "text": [
            "tf.Tensor(0.5712033, shape=(), dtype=float32)\n"
          ]
        },
        {
          "output_type": "stream",
          "name": "stderr",
          "text": [
            "100%|██████████| 9/9 [00:02<00:00,  3.00it/s]\n",
            "100%|██████████| 100/100 [00:13<00:00,  7.44it/s]\n"
          ]
        },
        {
          "output_type": "stream",
          "name": "stdout",
          "text": [
            "tf.Tensor(0.5508015, shape=(), dtype=float32)\n"
          ]
        },
        {
          "output_type": "stream",
          "name": "stderr",
          "text": [
            "100%|██████████| 9/9 [00:03<00:00,  3.00it/s]\n",
            "100%|██████████| 100/100 [00:13<00:00,  7.66it/s]\n"
          ]
        },
        {
          "output_type": "stream",
          "name": "stdout",
          "text": [
            "tf.Tensor(0.59905237, shape=(), dtype=float32)\n"
          ]
        },
        {
          "output_type": "stream",
          "name": "stderr",
          "text": [
            "100%|██████████| 19/19 [00:06<00:00,  3.06it/s]\n",
            "100%|██████████| 100/100 [00:13<00:00,  7.62it/s]\n"
          ]
        },
        {
          "output_type": "stream",
          "name": "stdout",
          "text": [
            "tf.Tensor(0.6031592, shape=(), dtype=float32)\n"
          ]
        },
        {
          "output_type": "stream",
          "name": "stderr",
          "text": [
            "100%|██████████| 19/19 [00:06<00:00,  3.06it/s]\n",
            "100%|██████████| 100/100 [00:13<00:00,  7.63it/s]\n"
          ]
        },
        {
          "output_type": "stream",
          "name": "stdout",
          "text": [
            "tf.Tensor(0.60537595, shape=(), dtype=float32)\n"
          ]
        },
        {
          "output_type": "stream",
          "name": "stderr",
          "text": [
            "100%|██████████| 19/19 [00:06<00:00,  3.06it/s]\n",
            "100%|██████████| 100/100 [00:12<00:00,  7.72it/s]\n"
          ]
        },
        {
          "output_type": "stream",
          "name": "stdout",
          "text": [
            "tf.Tensor(0.613269, shape=(), dtype=float32)\n"
          ]
        },
        {
          "output_type": "stream",
          "name": "stderr",
          "text": [
            "100%|██████████| 38/38 [00:12<00:00,  3.07it/s]\n",
            "100%|██████████| 100/100 [00:13<00:00,  7.65it/s]\n"
          ]
        },
        {
          "output_type": "stream",
          "name": "stdout",
          "text": [
            "tf.Tensor(0.61288613, shape=(), dtype=float32)\n"
          ]
        },
        {
          "output_type": "stream",
          "name": "stderr",
          "text": [
            "100%|██████████| 58/58 [00:19<00:00,  3.04it/s]\n",
            "100%|██████████| 100/100 [00:13<00:00,  7.52it/s]\n"
          ]
        },
        {
          "output_type": "stream",
          "name": "stdout",
          "text": [
            "tf.Tensor(0.587007, shape=(), dtype=float32)\n",
            "Epoch 11\n"
          ]
        },
        {
          "output_type": "stream",
          "name": "stderr",
          "text": [
            "100%|██████████| 9/9 [00:02<00:00,  3.07it/s]\n",
            "100%|██████████| 100/100 [00:13<00:00,  7.49it/s]\n"
          ]
        },
        {
          "output_type": "stream",
          "name": "stdout",
          "text": [
            "tf.Tensor(0.5924207, shape=(), dtype=float32)\n"
          ]
        },
        {
          "output_type": "stream",
          "name": "stderr",
          "text": [
            "100%|██████████| 9/9 [00:02<00:00,  3.06it/s]\n",
            "100%|██████████| 100/100 [00:13<00:00,  7.64it/s]\n"
          ]
        },
        {
          "output_type": "stream",
          "name": "stdout",
          "text": [
            "tf.Tensor(0.5588334, shape=(), dtype=float32)\n"
          ]
        },
        {
          "output_type": "stream",
          "name": "stderr",
          "text": [
            "100%|██████████| 9/9 [00:02<00:00,  3.05it/s]\n",
            "100%|██████████| 100/100 [00:13<00:00,  7.58it/s]\n"
          ]
        },
        {
          "output_type": "stream",
          "name": "stdout",
          "text": [
            "tf.Tensor(0.57209146, shape=(), dtype=float32)\n"
          ]
        },
        {
          "output_type": "stream",
          "name": "stderr",
          "text": [
            "100%|██████████| 9/9 [00:02<00:00,  3.05it/s]\n",
            "100%|██████████| 100/100 [00:13<00:00,  7.57it/s]\n"
          ]
        },
        {
          "output_type": "stream",
          "name": "stdout",
          "text": [
            "tf.Tensor(0.6087295, shape=(), dtype=float32)\n"
          ]
        },
        {
          "output_type": "stream",
          "name": "stderr",
          "text": [
            "100%|██████████| 19/19 [00:06<00:00,  3.05it/s]\n",
            "100%|██████████| 100/100 [00:12<00:00,  7.71it/s]\n"
          ]
        },
        {
          "output_type": "stream",
          "name": "stdout",
          "text": [
            "tf.Tensor(0.59183204, shape=(), dtype=float32)\n"
          ]
        },
        {
          "output_type": "stream",
          "name": "stderr",
          "text": [
            "100%|██████████| 19/19 [00:06<00:00,  3.04it/s]\n",
            "100%|██████████| 100/100 [00:13<00:00,  7.58it/s]\n"
          ]
        },
        {
          "output_type": "stream",
          "name": "stdout",
          "text": [
            "tf.Tensor(0.59797704, shape=(), dtype=float32)\n"
          ]
        },
        {
          "output_type": "stream",
          "name": "stderr",
          "text": [
            "100%|██████████| 19/19 [00:06<00:00,  3.03it/s]\n",
            "100%|██████████| 100/100 [00:13<00:00,  7.67it/s]\n"
          ]
        },
        {
          "output_type": "stream",
          "name": "stdout",
          "text": [
            "tf.Tensor(0.61060524, shape=(), dtype=float32)\n"
          ]
        },
        {
          "output_type": "stream",
          "name": "stderr",
          "text": [
            "100%|██████████| 38/38 [00:12<00:00,  3.06it/s]\n",
            "100%|██████████| 100/100 [00:13<00:00,  7.64it/s]\n"
          ]
        },
        {
          "output_type": "stream",
          "name": "stdout",
          "text": [
            "tf.Tensor(0.61960685, shape=(), dtype=float32)\n"
          ]
        },
        {
          "output_type": "stream",
          "name": "stderr",
          "text": [
            "100%|██████████| 58/58 [00:19<00:00,  3.02it/s]\n",
            "100%|██████████| 100/100 [00:13<00:00,  7.63it/s]\n"
          ]
        },
        {
          "output_type": "stream",
          "name": "stdout",
          "text": [
            "tf.Tensor(0.5935336, shape=(), dtype=float32)\n",
            "Epoch 12\n"
          ]
        },
        {
          "output_type": "stream",
          "name": "stderr",
          "text": [
            "100%|██████████| 9/9 [00:02<00:00,  3.07it/s]\n",
            "100%|██████████| 100/100 [00:12<00:00,  7.71it/s]\n"
          ]
        },
        {
          "output_type": "stream",
          "name": "stdout",
          "text": [
            "tf.Tensor(0.5925548, shape=(), dtype=float32)\n"
          ]
        },
        {
          "output_type": "stream",
          "name": "stderr",
          "text": [
            "100%|██████████| 9/9 [00:02<00:00,  3.05it/s]\n",
            "100%|██████████| 100/100 [00:12<00:00,  7.74it/s]\n"
          ]
        },
        {
          "output_type": "stream",
          "name": "stdout",
          "text": [
            "tf.Tensor(0.57441986, shape=(), dtype=float32)\n"
          ]
        },
        {
          "output_type": "stream",
          "name": "stderr",
          "text": [
            "100%|██████████| 9/9 [00:02<00:00,  3.03it/s]\n",
            "100%|██████████| 100/100 [00:13<00:00,  7.67it/s]\n"
          ]
        },
        {
          "output_type": "stream",
          "name": "stdout",
          "text": [
            "tf.Tensor(0.59346044, shape=(), dtype=float32)\n"
          ]
        },
        {
          "output_type": "stream",
          "name": "stderr",
          "text": [
            "100%|██████████| 9/9 [00:02<00:00,  3.04it/s]\n",
            "100%|██████████| 100/100 [00:13<00:00,  7.64it/s]\n"
          ]
        },
        {
          "output_type": "stream",
          "name": "stdout",
          "text": [
            "tf.Tensor(0.61269116, shape=(), dtype=float32)\n"
          ]
        },
        {
          "output_type": "stream",
          "name": "stderr",
          "text": [
            "100%|██████████| 19/19 [00:06<00:00,  3.05it/s]\n",
            "100%|██████████| 100/100 [00:12<00:00,  7.70it/s]\n"
          ]
        },
        {
          "output_type": "stream",
          "name": "stdout",
          "text": [
            "tf.Tensor(0.5963273, shape=(), dtype=float32)\n"
          ]
        },
        {
          "output_type": "stream",
          "name": "stderr",
          "text": [
            "100%|██████████| 19/19 [00:06<00:00,  3.05it/s]\n",
            "100%|██████████| 100/100 [00:12<00:00,  7.69it/s]\n"
          ]
        },
        {
          "output_type": "stream",
          "name": "stdout",
          "text": [
            "tf.Tensor(0.5939042, shape=(), dtype=float32)\n"
          ]
        },
        {
          "output_type": "stream",
          "name": "stderr",
          "text": [
            "100%|██████████| 19/19 [00:06<00:00,  3.05it/s]\n",
            "100%|██████████| 100/100 [00:13<00:00,  7.48it/s]\n"
          ]
        },
        {
          "output_type": "stream",
          "name": "stdout",
          "text": [
            "tf.Tensor(0.61423403, shape=(), dtype=float32)\n"
          ]
        },
        {
          "output_type": "stream",
          "name": "stderr",
          "text": [
            "100%|██████████| 38/38 [00:12<00:00,  3.05it/s]\n",
            "100%|██████████| 100/100 [00:13<00:00,  7.63it/s]\n"
          ]
        },
        {
          "output_type": "stream",
          "name": "stdout",
          "text": [
            "tf.Tensor(0.61258405, shape=(), dtype=float32)\n"
          ]
        },
        {
          "output_type": "stream",
          "name": "stderr",
          "text": [
            "100%|██████████| 58/58 [00:18<00:00,  3.06it/s]\n",
            "100%|██████████| 100/100 [00:13<00:00,  7.52it/s]\n"
          ]
        },
        {
          "output_type": "stream",
          "name": "stdout",
          "text": [
            "tf.Tensor(0.5853867, shape=(), dtype=float32)\n",
            "Epoch 13\n"
          ]
        },
        {
          "output_type": "stream",
          "name": "stderr",
          "text": [
            "100%|██████████| 9/9 [00:02<00:00,  3.05it/s]\n",
            "100%|██████████| 100/100 [00:13<00:00,  7.62it/s]\n"
          ]
        },
        {
          "output_type": "stream",
          "name": "stdout",
          "text": [
            "tf.Tensor(0.58972204, shape=(), dtype=float32)\n"
          ]
        },
        {
          "output_type": "stream",
          "name": "stderr",
          "text": [
            "100%|██████████| 9/9 [00:02<00:00,  3.06it/s]\n",
            "100%|██████████| 100/100 [00:13<00:00,  7.42it/s]\n"
          ]
        },
        {
          "output_type": "stream",
          "name": "stdout",
          "text": [
            "tf.Tensor(0.5765659, shape=(), dtype=float32)\n"
          ]
        },
        {
          "output_type": "stream",
          "name": "stderr",
          "text": [
            "100%|██████████| 9/9 [00:03<00:00,  2.93it/s]\n",
            "100%|██████████| 100/100 [00:13<00:00,  7.65it/s]\n"
          ]
        },
        {
          "output_type": "stream",
          "name": "stdout",
          "text": [
            "tf.Tensor(0.59073484, shape=(), dtype=float32)\n"
          ]
        },
        {
          "output_type": "stream",
          "name": "stderr",
          "text": [
            "100%|██████████| 9/9 [00:02<00:00,  3.07it/s]\n",
            "100%|██████████| 100/100 [00:13<00:00,  7.34it/s]\n"
          ]
        },
        {
          "output_type": "stream",
          "name": "stdout",
          "text": [
            "tf.Tensor(0.6067997, shape=(), dtype=float32)\n"
          ]
        },
        {
          "output_type": "stream",
          "name": "stderr",
          "text": [
            "100%|██████████| 19/19 [00:06<00:00,  3.05it/s]\n",
            "100%|██████████| 100/100 [00:12<00:00,  7.75it/s]\n"
          ]
        },
        {
          "output_type": "stream",
          "name": "stdout",
          "text": [
            "tf.Tensor(0.61124605, shape=(), dtype=float32)\n"
          ]
        },
        {
          "output_type": "stream",
          "name": "stderr",
          "text": [
            "100%|██████████| 19/19 [00:06<00:00,  3.06it/s]\n",
            "100%|██████████| 100/100 [00:13<00:00,  7.22it/s]\n"
          ]
        },
        {
          "output_type": "stream",
          "name": "stdout",
          "text": [
            "tf.Tensor(0.5935708, shape=(), dtype=float32)\n"
          ]
        },
        {
          "output_type": "stream",
          "name": "stderr",
          "text": [
            "100%|██████████| 19/19 [00:06<00:00,  3.07it/s]\n",
            "100%|██████████| 100/100 [00:13<00:00,  7.55it/s]\n"
          ]
        },
        {
          "output_type": "stream",
          "name": "stdout",
          "text": [
            "tf.Tensor(0.5961079, shape=(), dtype=float32)\n"
          ]
        },
        {
          "output_type": "stream",
          "name": "stderr",
          "text": [
            "100%|██████████| 38/38 [00:12<00:00,  3.05it/s]\n",
            "100%|██████████| 100/100 [00:13<00:00,  7.37it/s]\n"
          ]
        },
        {
          "output_type": "stream",
          "name": "stdout",
          "text": [
            "tf.Tensor(0.61182255, shape=(), dtype=float32)\n"
          ]
        },
        {
          "output_type": "stream",
          "name": "stderr",
          "text": [
            "100%|██████████| 58/58 [00:19<00:00,  2.93it/s]\n",
            "100%|██████████| 100/100 [00:13<00:00,  7.61it/s]\n"
          ]
        },
        {
          "output_type": "stream",
          "name": "stdout",
          "text": [
            "tf.Tensor(0.5869577, shape=(), dtype=float32)\n",
            "Epoch 14\n"
          ]
        },
        {
          "output_type": "stream",
          "name": "stderr",
          "text": [
            "100%|██████████| 9/9 [00:02<00:00,  3.05it/s]\n",
            "100%|██████████| 100/100 [00:13<00:00,  7.49it/s]\n"
          ]
        },
        {
          "output_type": "stream",
          "name": "stdout",
          "text": [
            "tf.Tensor(0.5949048, shape=(), dtype=float32)\n"
          ]
        },
        {
          "output_type": "stream",
          "name": "stderr",
          "text": [
            "100%|██████████| 9/9 [00:02<00:00,  3.06it/s]\n",
            "100%|██████████| 100/100 [00:13<00:00,  7.65it/s]\n"
          ]
        },
        {
          "output_type": "stream",
          "name": "stdout",
          "text": [
            "tf.Tensor(0.5833808, shape=(), dtype=float32)\n"
          ]
        },
        {
          "output_type": "stream",
          "name": "stderr",
          "text": [
            "100%|██████████| 9/9 [00:02<00:00,  3.03it/s]\n",
            "100%|██████████| 100/100 [00:13<00:00,  7.49it/s]\n"
          ]
        },
        {
          "output_type": "stream",
          "name": "stdout",
          "text": [
            "tf.Tensor(0.58708346, shape=(), dtype=float32)\n"
          ]
        },
        {
          "output_type": "stream",
          "name": "stderr",
          "text": [
            "100%|██████████| 9/9 [00:02<00:00,  3.00it/s]\n",
            "100%|██████████| 100/100 [00:13<00:00,  7.58it/s]\n"
          ]
        },
        {
          "output_type": "stream",
          "name": "stdout",
          "text": [
            "tf.Tensor(0.60501254, shape=(), dtype=float32)\n"
          ]
        },
        {
          "output_type": "stream",
          "name": "stderr",
          "text": [
            "100%|██████████| 19/19 [00:06<00:00,  3.05it/s]\n",
            "100%|██████████| 100/100 [00:13<00:00,  7.53it/s]\n"
          ]
        },
        {
          "output_type": "stream",
          "name": "stdout",
          "text": [
            "tf.Tensor(0.59983474, shape=(), dtype=float32)\n"
          ]
        },
        {
          "output_type": "stream",
          "name": "stderr",
          "text": [
            "100%|██████████| 19/19 [00:06<00:00,  3.06it/s]\n",
            "100%|██████████| 100/100 [00:13<00:00,  7.61it/s]\n"
          ]
        },
        {
          "output_type": "stream",
          "name": "stdout",
          "text": [
            "tf.Tensor(0.6091985, shape=(), dtype=float32)\n"
          ]
        },
        {
          "output_type": "stream",
          "name": "stderr",
          "text": [
            "100%|██████████| 19/19 [00:06<00:00,  3.04it/s]\n",
            "100%|██████████| 100/100 [00:13<00:00,  7.59it/s]\n"
          ]
        },
        {
          "output_type": "stream",
          "name": "stdout",
          "text": [
            "tf.Tensor(0.60762477, shape=(), dtype=float32)\n"
          ]
        },
        {
          "output_type": "stream",
          "name": "stderr",
          "text": [
            "100%|██████████| 38/38 [00:12<00:00,  3.05it/s]\n",
            "100%|██████████| 100/100 [00:13<00:00,  7.64it/s]\n"
          ]
        },
        {
          "output_type": "stream",
          "name": "stdout",
          "text": [
            "tf.Tensor(0.61200243, shape=(), dtype=float32)\n"
          ]
        },
        {
          "output_type": "stream",
          "name": "stderr",
          "text": [
            "100%|██████████| 58/58 [00:18<00:00,  3.05it/s]\n",
            "100%|██████████| 100/100 [00:13<00:00,  7.66it/s]\n"
          ]
        },
        {
          "output_type": "stream",
          "name": "stdout",
          "text": [
            "tf.Tensor(0.58729064, shape=(), dtype=float32)\n",
            "Epoch 15\n"
          ]
        },
        {
          "output_type": "stream",
          "name": "stderr",
          "text": [
            "100%|██████████| 9/9 [00:02<00:00,  3.06it/s]\n",
            "100%|██████████| 100/100 [00:13<00:00,  7.37it/s]\n"
          ]
        },
        {
          "output_type": "stream",
          "name": "stdout",
          "text": [
            "tf.Tensor(0.57074416, shape=(), dtype=float32)\n"
          ]
        },
        {
          "output_type": "stream",
          "name": "stderr",
          "text": [
            "100%|██████████| 9/9 [00:02<00:00,  3.04it/s]\n",
            "100%|██████████| 100/100 [00:12<00:00,  7.75it/s]\n"
          ]
        },
        {
          "output_type": "stream",
          "name": "stdout",
          "text": [
            "tf.Tensor(0.5438953, shape=(), dtype=float32)\n"
          ]
        },
        {
          "output_type": "stream",
          "name": "stderr",
          "text": [
            "100%|██████████| 9/9 [00:02<00:00,  3.05it/s]\n",
            "100%|██████████| 100/100 [00:13<00:00,  7.49it/s]\n"
          ]
        },
        {
          "output_type": "stream",
          "name": "stdout",
          "text": [
            "tf.Tensor(0.59813803, shape=(), dtype=float32)\n"
          ]
        },
        {
          "output_type": "stream",
          "name": "stderr",
          "text": [
            "100%|██████████| 9/9 [00:03<00:00,  2.93it/s]\n",
            "100%|██████████| 100/100 [00:13<00:00,  7.47it/s]\n"
          ]
        },
        {
          "output_type": "stream",
          "name": "stdout",
          "text": [
            "tf.Tensor(0.6027341, shape=(), dtype=float32)\n"
          ]
        },
        {
          "output_type": "stream",
          "name": "stderr",
          "text": [
            "100%|██████████| 19/19 [00:06<00:00,  3.05it/s]\n",
            "100%|██████████| 100/100 [00:13<00:00,  7.51it/s]\n"
          ]
        },
        {
          "output_type": "stream",
          "name": "stdout",
          "text": [
            "tf.Tensor(0.6020427, shape=(), dtype=float32)\n"
          ]
        },
        {
          "output_type": "stream",
          "name": "stderr",
          "text": [
            "100%|██████████| 19/19 [00:06<00:00,  3.07it/s]\n",
            "100%|██████████| 100/100 [00:13<00:00,  7.61it/s]\n"
          ]
        },
        {
          "output_type": "stream",
          "name": "stdout",
          "text": [
            "tf.Tensor(0.61208093, shape=(), dtype=float32)\n"
          ]
        },
        {
          "output_type": "stream",
          "name": "stderr",
          "text": [
            "100%|██████████| 19/19 [00:06<00:00,  3.06it/s]\n",
            "100%|██████████| 100/100 [00:13<00:00,  7.36it/s]\n"
          ]
        },
        {
          "output_type": "stream",
          "name": "stdout",
          "text": [
            "tf.Tensor(0.6120784, shape=(), dtype=float32)\n"
          ]
        },
        {
          "output_type": "stream",
          "name": "stderr",
          "text": [
            "100%|██████████| 38/38 [00:12<00:00,  3.04it/s]\n",
            "100%|██████████| 100/100 [00:13<00:00,  7.60it/s]\n"
          ]
        },
        {
          "output_type": "stream",
          "name": "stdout",
          "text": [
            "tf.Tensor(0.62648153, shape=(), dtype=float32)\n"
          ]
        },
        {
          "output_type": "stream",
          "name": "stderr",
          "text": [
            "100%|██████████| 58/58 [00:18<00:00,  3.06it/s]\n",
            "100%|██████████| 100/100 [00:13<00:00,  7.58it/s]\n"
          ]
        },
        {
          "output_type": "stream",
          "name": "stdout",
          "text": [
            "tf.Tensor(0.6088436, shape=(), dtype=float32)\n",
            "Epoch 16\n"
          ]
        },
        {
          "output_type": "stream",
          "name": "stderr",
          "text": [
            "100%|██████████| 9/9 [00:03<00:00,  2.99it/s]\n",
            "100%|██████████| 100/100 [00:13<00:00,  7.58it/s]\n"
          ]
        },
        {
          "output_type": "stream",
          "name": "stdout",
          "text": [
            "tf.Tensor(0.610529, shape=(), dtype=float32)\n"
          ]
        },
        {
          "output_type": "stream",
          "name": "stderr",
          "text": [
            "100%|██████████| 9/9 [00:02<00:00,  3.07it/s]\n",
            "100%|██████████| 100/100 [00:13<00:00,  7.52it/s]\n"
          ]
        },
        {
          "output_type": "stream",
          "name": "stdout",
          "text": [
            "tf.Tensor(0.5638885, shape=(), dtype=float32)\n"
          ]
        },
        {
          "output_type": "stream",
          "name": "stderr",
          "text": [
            "100%|██████████| 9/9 [00:02<00:00,  3.05it/s]\n",
            "100%|██████████| 100/100 [00:13<00:00,  7.66it/s]\n"
          ]
        },
        {
          "output_type": "stream",
          "name": "stdout",
          "text": [
            "tf.Tensor(0.5879848, shape=(), dtype=float32)\n"
          ]
        },
        {
          "output_type": "stream",
          "name": "stderr",
          "text": [
            "100%|██████████| 9/9 [00:02<00:00,  3.07it/s]\n",
            "100%|██████████| 100/100 [00:13<00:00,  7.52it/s]\n"
          ]
        },
        {
          "output_type": "stream",
          "name": "stdout",
          "text": [
            "tf.Tensor(0.61755776, shape=(), dtype=float32)\n"
          ]
        },
        {
          "output_type": "stream",
          "name": "stderr",
          "text": [
            "100%|██████████| 19/19 [00:06<00:00,  3.06it/s]\n",
            "100%|██████████| 100/100 [00:13<00:00,  7.16it/s]\n"
          ]
        },
        {
          "output_type": "stream",
          "name": "stdout",
          "text": [
            "tf.Tensor(0.61445343, shape=(), dtype=float32)\n"
          ]
        },
        {
          "output_type": "stream",
          "name": "stderr",
          "text": [
            "100%|██████████| 19/19 [00:06<00:00,  3.07it/s]\n",
            "100%|██████████| 100/100 [00:13<00:00,  7.58it/s]\n"
          ]
        },
        {
          "output_type": "stream",
          "name": "stdout",
          "text": [
            "tf.Tensor(0.6106178, shape=(), dtype=float32)\n"
          ]
        },
        {
          "output_type": "stream",
          "name": "stderr",
          "text": [
            "100%|██████████| 19/19 [00:06<00:00,  3.06it/s]\n",
            "100%|██████████| 100/100 [00:13<00:00,  7.35it/s]\n"
          ]
        },
        {
          "output_type": "stream",
          "name": "stdout",
          "text": [
            "tf.Tensor(0.6087289, shape=(), dtype=float32)\n"
          ]
        },
        {
          "output_type": "stream",
          "name": "stderr",
          "text": [
            "100%|██████████| 38/38 [00:12<00:00,  3.05it/s]\n",
            "100%|██████████| 100/100 [00:13<00:00,  7.59it/s]\n"
          ]
        },
        {
          "output_type": "stream",
          "name": "stdout",
          "text": [
            "tf.Tensor(0.6249052, shape=(), dtype=float32)\n"
          ]
        },
        {
          "output_type": "stream",
          "name": "stderr",
          "text": [
            "100%|██████████| 58/58 [00:18<00:00,  3.07it/s]\n",
            "100%|██████████| 100/100 [00:13<00:00,  7.68it/s]\n"
          ]
        },
        {
          "output_type": "stream",
          "name": "stdout",
          "text": [
            "tf.Tensor(0.5989068, shape=(), dtype=float32)\n",
            "Epoch 17\n"
          ]
        },
        {
          "output_type": "stream",
          "name": "stderr",
          "text": [
            "100%|██████████| 9/9 [00:02<00:00,  3.00it/s]\n",
            "100%|██████████| 100/100 [00:13<00:00,  7.61it/s]\n"
          ]
        },
        {
          "output_type": "stream",
          "name": "stdout",
          "text": [
            "tf.Tensor(0.6091679, shape=(), dtype=float32)\n"
          ]
        },
        {
          "output_type": "stream",
          "name": "stderr",
          "text": [
            "100%|██████████| 9/9 [00:02<00:00,  3.06it/s]\n",
            "100%|██████████| 100/100 [00:13<00:00,  7.65it/s]\n"
          ]
        },
        {
          "output_type": "stream",
          "name": "stdout",
          "text": [
            "tf.Tensor(0.5868164, shape=(), dtype=float32)\n"
          ]
        },
        {
          "output_type": "stream",
          "name": "stderr",
          "text": [
            "100%|██████████| 9/9 [00:02<00:00,  3.04it/s]\n",
            "100%|██████████| 100/100 [00:13<00:00,  7.62it/s]\n"
          ]
        },
        {
          "output_type": "stream",
          "name": "stdout",
          "text": [
            "tf.Tensor(0.5975474, shape=(), dtype=float32)\n"
          ]
        },
        {
          "output_type": "stream",
          "name": "stderr",
          "text": [
            "100%|██████████| 9/9 [00:02<00:00,  3.06it/s]\n",
            "100%|██████████| 100/100 [00:14<00:00,  7.14it/s]\n"
          ]
        },
        {
          "output_type": "stream",
          "name": "stdout",
          "text": [
            "tf.Tensor(0.58990556, shape=(), dtype=float32)\n"
          ]
        },
        {
          "output_type": "stream",
          "name": "stderr",
          "text": [
            "100%|██████████| 19/19 [00:06<00:00,  2.92it/s]\n",
            "100%|██████████| 100/100 [00:13<00:00,  7.45it/s]\n"
          ]
        },
        {
          "output_type": "stream",
          "name": "stdout",
          "text": [
            "tf.Tensor(0.5991922, shape=(), dtype=float32)\n"
          ]
        },
        {
          "output_type": "stream",
          "name": "stderr",
          "text": [
            "100%|██████████| 19/19 [00:06<00:00,  3.00it/s]\n",
            "100%|██████████| 100/100 [00:14<00:00,  6.99it/s]\n"
          ]
        },
        {
          "output_type": "stream",
          "name": "stdout",
          "text": [
            "tf.Tensor(0.6067683, shape=(), dtype=float32)\n"
          ]
        },
        {
          "output_type": "stream",
          "name": "stderr",
          "text": [
            "100%|██████████| 19/19 [00:06<00:00,  2.93it/s]\n",
            "100%|██████████| 100/100 [00:13<00:00,  7.48it/s]\n"
          ]
        },
        {
          "output_type": "stream",
          "name": "stdout",
          "text": [
            "tf.Tensor(0.6041312, shape=(), dtype=float32)\n"
          ]
        },
        {
          "output_type": "stream",
          "name": "stderr",
          "text": [
            "100%|██████████| 38/38 [00:12<00:00,  2.99it/s]\n",
            "100%|██████████| 100/100 [00:13<00:00,  7.46it/s]\n"
          ]
        },
        {
          "output_type": "stream",
          "name": "stdout",
          "text": [
            "tf.Tensor(0.6028933, shape=(), dtype=float32)\n"
          ]
        },
        {
          "output_type": "stream",
          "name": "stderr",
          "text": [
            "100%|██████████| 58/58 [00:19<00:00,  2.92it/s]\n",
            "100%|██████████| 100/100 [00:13<00:00,  7.48it/s]\n"
          ]
        },
        {
          "output_type": "stream",
          "name": "stdout",
          "text": [
            "tf.Tensor(0.5705008, shape=(), dtype=float32)\n",
            "Epoch 18\n"
          ]
        },
        {
          "output_type": "stream",
          "name": "stderr",
          "text": [
            "100%|██████████| 9/9 [00:02<00:00,  3.00it/s]\n",
            "100%|██████████| 100/100 [00:13<00:00,  7.45it/s]\n"
          ]
        },
        {
          "output_type": "stream",
          "name": "stdout",
          "text": [
            "tf.Tensor(0.604895, shape=(), dtype=float32)\n"
          ]
        },
        {
          "output_type": "stream",
          "name": "stderr",
          "text": [
            "100%|██████████| 9/9 [00:03<00:00,  2.92it/s]\n",
            "100%|██████████| 100/100 [00:13<00:00,  7.58it/s]\n"
          ]
        },
        {
          "output_type": "stream",
          "name": "stdout",
          "text": [
            "tf.Tensor(0.5931518, shape=(), dtype=float32)\n"
          ]
        },
        {
          "output_type": "stream",
          "name": "stderr",
          "text": [
            "100%|██████████| 9/9 [00:03<00:00,  3.00it/s]\n",
            "100%|██████████| 100/100 [00:13<00:00,  7.50it/s]\n"
          ]
        },
        {
          "output_type": "stream",
          "name": "stdout",
          "text": [
            "tf.Tensor(0.6015316, shape=(), dtype=float32)\n"
          ]
        },
        {
          "output_type": "stream",
          "name": "stderr",
          "text": [
            "100%|██████████| 9/9 [00:02<00:00,  3.05it/s]\n",
            "100%|██████████| 100/100 [00:13<00:00,  7.51it/s]\n"
          ]
        },
        {
          "output_type": "stream",
          "name": "stdout",
          "text": [
            "tf.Tensor(0.62284935, shape=(), dtype=float32)\n"
          ]
        },
        {
          "output_type": "stream",
          "name": "stderr",
          "text": [
            "100%|██████████| 19/19 [00:06<00:00,  2.91it/s]\n",
            "100%|██████████| 100/100 [00:13<00:00,  7.58it/s]\n"
          ]
        },
        {
          "output_type": "stream",
          "name": "stdout",
          "text": [
            "tf.Tensor(0.61131954, shape=(), dtype=float32)\n"
          ]
        },
        {
          "output_type": "stream",
          "name": "stderr",
          "text": [
            "100%|██████████| 19/19 [00:06<00:00,  3.00it/s]\n",
            "100%|██████████| 100/100 [00:13<00:00,  7.37it/s]\n"
          ]
        },
        {
          "output_type": "stream",
          "name": "stdout",
          "text": [
            "tf.Tensor(0.611368, shape=(), dtype=float32)\n"
          ]
        },
        {
          "output_type": "stream",
          "name": "stderr",
          "text": [
            "100%|██████████| 19/19 [00:06<00:00,  2.79it/s]\n",
            "100%|██████████| 100/100 [00:13<00:00,  7.61it/s]\n"
          ]
        },
        {
          "output_type": "stream",
          "name": "stdout",
          "text": [
            "tf.Tensor(0.622807, shape=(), dtype=float32)\n"
          ]
        },
        {
          "output_type": "stream",
          "name": "stderr",
          "text": [
            "100%|██████████| 38/38 [00:12<00:00,  3.00it/s]\n",
            "100%|██████████| 100/100 [00:13<00:00,  7.40it/s]\n"
          ]
        },
        {
          "output_type": "stream",
          "name": "stdout",
          "text": [
            "tf.Tensor(0.62985104, shape=(), dtype=float32)\n"
          ]
        },
        {
          "output_type": "stream",
          "name": "stderr",
          "text": [
            "100%|██████████| 58/58 [00:19<00:00,  3.03it/s]\n",
            "100%|██████████| 100/100 [00:13<00:00,  7.47it/s]\n"
          ]
        },
        {
          "output_type": "stream",
          "name": "stdout",
          "text": [
            "tf.Tensor(0.6105374, shape=(), dtype=float32)\n",
            "Epoch 19\n"
          ]
        },
        {
          "output_type": "stream",
          "name": "stderr",
          "text": [
            "100%|██████████| 9/9 [00:02<00:00,  3.04it/s]\n",
            "100%|██████████| 100/100 [00:13<00:00,  7.43it/s]\n"
          ]
        },
        {
          "output_type": "stream",
          "name": "stdout",
          "text": [
            "tf.Tensor(0.6170502, shape=(), dtype=float32)\n"
          ]
        },
        {
          "output_type": "stream",
          "name": "stderr",
          "text": [
            "100%|██████████| 9/9 [00:03<00:00,  2.88it/s]\n",
            "100%|██████████| 100/100 [00:13<00:00,  7.65it/s]\n"
          ]
        },
        {
          "output_type": "stream",
          "name": "stdout",
          "text": [
            "tf.Tensor(0.6049037, shape=(), dtype=float32)\n"
          ]
        },
        {
          "output_type": "stream",
          "name": "stderr",
          "text": [
            "100%|██████████| 9/9 [00:02<00:00,  3.06it/s]\n",
            "100%|██████████| 100/100 [00:14<00:00,  7.12it/s]\n"
          ]
        },
        {
          "output_type": "stream",
          "name": "stdout",
          "text": [
            "tf.Tensor(0.61037385, shape=(), dtype=float32)\n"
          ]
        },
        {
          "output_type": "stream",
          "name": "stderr",
          "text": [
            "100%|██████████| 9/9 [00:03<00:00,  2.79it/s]\n",
            "100%|██████████| 100/100 [00:13<00:00,  7.67it/s]\n"
          ]
        },
        {
          "output_type": "stream",
          "name": "stdout",
          "text": [
            "tf.Tensor(0.619776, shape=(), dtype=float32)\n"
          ]
        },
        {
          "output_type": "stream",
          "name": "stderr",
          "text": [
            "100%|██████████| 19/19 [00:06<00:00,  3.05it/s]\n",
            "100%|██████████| 100/100 [00:14<00:00,  7.07it/s]\n"
          ]
        },
        {
          "output_type": "stream",
          "name": "stdout",
          "text": [
            "tf.Tensor(0.62119985, shape=(), dtype=float32)\n"
          ]
        },
        {
          "output_type": "stream",
          "name": "stderr",
          "text": [
            "100%|██████████| 19/19 [00:06<00:00,  2.91it/s]\n",
            "100%|██████████| 100/100 [00:13<00:00,  7.59it/s]\n"
          ]
        },
        {
          "output_type": "stream",
          "name": "stdout",
          "text": [
            "tf.Tensor(0.6040948, shape=(), dtype=float32)\n"
          ]
        },
        {
          "output_type": "stream",
          "name": "stderr",
          "text": [
            "100%|██████████| 19/19 [00:06<00:00,  3.05it/s]\n",
            "100%|██████████| 100/100 [00:13<00:00,  7.41it/s]\n"
          ]
        },
        {
          "output_type": "stream",
          "name": "stdout",
          "text": [
            "tf.Tensor(0.6112197, shape=(), dtype=float32)\n"
          ]
        },
        {
          "output_type": "stream",
          "name": "stderr",
          "text": [
            "100%|██████████| 38/38 [00:13<00:00,  2.79it/s]\n",
            "100%|██████████| 100/100 [00:13<00:00,  7.55it/s]\n"
          ]
        },
        {
          "output_type": "stream",
          "name": "stdout",
          "text": [
            "tf.Tensor(0.6227095, shape=(), dtype=float32)\n"
          ]
        },
        {
          "output_type": "stream",
          "name": "stderr",
          "text": [
            "100%|██████████| 58/58 [00:18<00:00,  3.06it/s]\n",
            "100%|██████████| 100/100 [00:13<00:00,  7.23it/s]\n"
          ]
        },
        {
          "output_type": "stream",
          "name": "stdout",
          "text": [
            "tf.Tensor(0.60153574, shape=(), dtype=float32)\n",
            "Epoch 20\n"
          ]
        },
        {
          "output_type": "stream",
          "name": "stderr",
          "text": [
            "100%|██████████| 9/9 [00:03<00:00,  2.79it/s]\n",
            "100%|██████████| 100/100 [00:13<00:00,  7.68it/s]\n"
          ]
        },
        {
          "output_type": "stream",
          "name": "stdout",
          "text": [
            "tf.Tensor(0.61090344, shape=(), dtype=float32)\n"
          ]
        },
        {
          "output_type": "stream",
          "name": "stderr",
          "text": [
            "100%|██████████| 9/9 [00:02<00:00,  3.04it/s]\n",
            "100%|██████████| 100/100 [00:14<00:00,  7.09it/s]\n"
          ]
        },
        {
          "output_type": "stream",
          "name": "stdout",
          "text": [
            "tf.Tensor(0.5891993, shape=(), dtype=float32)\n"
          ]
        },
        {
          "output_type": "stream",
          "name": "stderr",
          "text": [
            "100%|██████████| 9/9 [00:03<00:00,  2.68it/s]\n",
            "100%|██████████| 100/100 [00:13<00:00,  7.65it/s]\n"
          ]
        },
        {
          "output_type": "stream",
          "name": "stdout",
          "text": [
            "tf.Tensor(0.60242605, shape=(), dtype=float32)\n"
          ]
        },
        {
          "output_type": "stream",
          "name": "stderr",
          "text": [
            "100%|██████████| 9/9 [00:02<00:00,  3.06it/s]\n",
            "100%|██████████| 100/100 [00:13<00:00,  7.57it/s]\n"
          ]
        },
        {
          "output_type": "stream",
          "name": "stdout",
          "text": [
            "tf.Tensor(0.61482185, shape=(), dtype=float32)\n"
          ]
        },
        {
          "output_type": "stream",
          "name": "stderr",
          "text": [
            "100%|██████████| 19/19 [00:06<00:00,  3.05it/s]\n",
            "100%|██████████| 100/100 [00:13<00:00,  7.53it/s]\n"
          ]
        },
        {
          "output_type": "stream",
          "name": "stdout",
          "text": [
            "tf.Tensor(0.6127785, shape=(), dtype=float32)\n"
          ]
        },
        {
          "output_type": "stream",
          "name": "stderr",
          "text": [
            "100%|██████████| 19/19 [00:06<00:00,  3.05it/s]\n",
            "100%|██████████| 100/100 [00:13<00:00,  7.60it/s]\n"
          ]
        },
        {
          "output_type": "stream",
          "name": "stdout",
          "text": [
            "tf.Tensor(0.6176392, shape=(), dtype=float32)\n"
          ]
        },
        {
          "output_type": "stream",
          "name": "stderr",
          "text": [
            "100%|██████████| 19/19 [00:06<00:00,  2.95it/s]\n",
            "100%|██████████| 100/100 [00:12<00:00,  7.71it/s]\n"
          ]
        },
        {
          "output_type": "stream",
          "name": "stdout",
          "text": [
            "tf.Tensor(0.6163812, shape=(), dtype=float32)\n"
          ]
        },
        {
          "output_type": "stream",
          "name": "stderr",
          "text": [
            "100%|██████████| 38/38 [00:12<00:00,  3.05it/s]\n",
            "100%|██████████| 100/100 [00:13<00:00,  7.47it/s]\n"
          ]
        },
        {
          "output_type": "stream",
          "name": "stdout",
          "text": [
            "tf.Tensor(0.623491, shape=(), dtype=float32)\n"
          ]
        },
        {
          "output_type": "stream",
          "name": "stderr",
          "text": [
            "100%|██████████| 58/58 [00:19<00:00,  3.02it/s]\n",
            "100%|██████████| 100/100 [00:13<00:00,  7.56it/s]\n"
          ]
        },
        {
          "output_type": "stream",
          "name": "stdout",
          "text": [
            "tf.Tensor(0.60785425, shape=(), dtype=float32)\n",
            "Epoch 21\n"
          ]
        },
        {
          "output_type": "stream",
          "name": "stderr",
          "text": [
            "100%|██████████| 9/9 [00:03<00:00,  3.00it/s]\n",
            "100%|██████████| 100/100 [00:13<00:00,  7.54it/s]\n"
          ]
        },
        {
          "output_type": "stream",
          "name": "stdout",
          "text": [
            "tf.Tensor(0.62251866, shape=(), dtype=float32)\n"
          ]
        },
        {
          "output_type": "stream",
          "name": "stderr",
          "text": [
            "100%|██████████| 9/9 [00:03<00:00,  2.67it/s]\n",
            "100%|██████████| 100/100 [00:13<00:00,  7.43it/s]\n"
          ]
        },
        {
          "output_type": "stream",
          "name": "stdout",
          "text": [
            "tf.Tensor(0.59100115, shape=(), dtype=float32)\n"
          ]
        },
        {
          "output_type": "stream",
          "name": "stderr",
          "text": [
            "100%|██████████| 9/9 [00:03<00:00,  2.99it/s]\n",
            "100%|██████████| 100/100 [00:13<00:00,  7.58it/s]\n"
          ]
        },
        {
          "output_type": "stream",
          "name": "stdout",
          "text": [
            "tf.Tensor(0.5898383, shape=(), dtype=float32)\n"
          ]
        },
        {
          "output_type": "stream",
          "name": "stderr",
          "text": [
            "100%|██████████| 9/9 [00:02<00:00,  3.04it/s]\n",
            "100%|██████████| 100/100 [00:12<00:00,  7.69it/s]\n"
          ]
        },
        {
          "output_type": "stream",
          "name": "stdout",
          "text": [
            "tf.Tensor(0.6097817, shape=(), dtype=float32)\n"
          ]
        },
        {
          "output_type": "stream",
          "name": "stderr",
          "text": [
            "100%|██████████| 19/19 [00:06<00:00,  3.06it/s]\n",
            "100%|██████████| 100/100 [00:13<00:00,  7.57it/s]\n"
          ]
        },
        {
          "output_type": "stream",
          "name": "stdout",
          "text": [
            "tf.Tensor(0.60549295, shape=(), dtype=float32)\n"
          ]
        },
        {
          "output_type": "stream",
          "name": "stderr",
          "text": [
            "100%|██████████| 19/19 [00:06<00:00,  3.00it/s]\n",
            "100%|██████████| 100/100 [00:12<00:00,  7.72it/s]\n"
          ]
        },
        {
          "output_type": "stream",
          "name": "stdout",
          "text": [
            "tf.Tensor(0.61946255, shape=(), dtype=float32)\n"
          ]
        },
        {
          "output_type": "stream",
          "name": "stderr",
          "text": [
            "100%|██████████| 19/19 [00:06<00:00,  3.06it/s]\n",
            "100%|██████████| 100/100 [00:13<00:00,  7.69it/s]\n"
          ]
        },
        {
          "output_type": "stream",
          "name": "stdout",
          "text": [
            "tf.Tensor(0.6083338, shape=(), dtype=float32)\n"
          ]
        },
        {
          "output_type": "stream",
          "name": "stderr",
          "text": [
            "100%|██████████| 38/38 [00:12<00:00,  3.04it/s]\n",
            "100%|██████████| 100/100 [00:13<00:00,  7.64it/s]\n"
          ]
        },
        {
          "output_type": "stream",
          "name": "stdout",
          "text": [
            "tf.Tensor(0.6142783, shape=(), dtype=float32)\n"
          ]
        },
        {
          "output_type": "stream",
          "name": "stderr",
          "text": [
            "100%|██████████| 58/58 [00:18<00:00,  3.06it/s]\n",
            "100%|██████████| 100/100 [00:13<00:00,  7.64it/s]\n"
          ]
        },
        {
          "output_type": "stream",
          "name": "stdout",
          "text": [
            "tf.Tensor(0.60189307, shape=(), dtype=float32)\n",
            "Epoch 22\n"
          ]
        },
        {
          "output_type": "stream",
          "name": "stderr",
          "text": [
            "100%|██████████| 9/9 [00:02<00:00,  3.07it/s]\n",
            "100%|██████████| 100/100 [00:13<00:00,  7.68it/s]\n"
          ]
        },
        {
          "output_type": "stream",
          "name": "stdout",
          "text": [
            "tf.Tensor(0.6097188, shape=(), dtype=float32)\n"
          ]
        },
        {
          "output_type": "stream",
          "name": "stderr",
          "text": [
            "100%|██████████| 9/9 [00:02<00:00,  3.02it/s]\n",
            "100%|██████████| 100/100 [00:13<00:00,  7.44it/s]\n"
          ]
        },
        {
          "output_type": "stream",
          "name": "stdout",
          "text": [
            "tf.Tensor(0.5900141, shape=(), dtype=float32)\n"
          ]
        },
        {
          "output_type": "stream",
          "name": "stderr",
          "text": [
            "100%|██████████| 9/9 [00:02<00:00,  3.03it/s]\n",
            "100%|██████████| 100/100 [00:13<00:00,  7.62it/s]\n"
          ]
        },
        {
          "output_type": "stream",
          "name": "stdout",
          "text": [
            "tf.Tensor(0.5988377, shape=(), dtype=float32)\n"
          ]
        },
        {
          "output_type": "stream",
          "name": "stderr",
          "text": [
            "100%|██████████| 9/9 [00:02<00:00,  3.05it/s]\n",
            "100%|██████████| 100/100 [00:13<00:00,  7.58it/s]\n"
          ]
        },
        {
          "output_type": "stream",
          "name": "stdout",
          "text": [
            "tf.Tensor(0.6214882, shape=(), dtype=float32)\n"
          ]
        },
        {
          "output_type": "stream",
          "name": "stderr",
          "text": [
            "100%|██████████| 19/19 [00:06<00:00,  3.05it/s]\n",
            "100%|██████████| 100/100 [00:13<00:00,  7.52it/s]\n"
          ]
        },
        {
          "output_type": "stream",
          "name": "stdout",
          "text": [
            "tf.Tensor(0.60890543, shape=(), dtype=float32)\n"
          ]
        },
        {
          "output_type": "stream",
          "name": "stderr",
          "text": [
            "100%|██████████| 19/19 [00:06<00:00,  3.05it/s]\n",
            "100%|██████████| 100/100 [00:13<00:00,  7.48it/s]\n"
          ]
        },
        {
          "output_type": "stream",
          "name": "stdout",
          "text": [
            "tf.Tensor(0.61145204, shape=(), dtype=float32)\n"
          ]
        },
        {
          "output_type": "stream",
          "name": "stderr",
          "text": [
            "100%|██████████| 19/19 [00:06<00:00,  3.05it/s]\n",
            "100%|██████████| 100/100 [00:13<00:00,  7.69it/s]\n"
          ]
        },
        {
          "output_type": "stream",
          "name": "stdout",
          "text": [
            "tf.Tensor(0.61187816, shape=(), dtype=float32)\n"
          ]
        },
        {
          "output_type": "stream",
          "name": "stderr",
          "text": [
            "100%|██████████| 38/38 [00:12<00:00,  3.04it/s]\n",
            "100%|██████████| 100/100 [00:13<00:00,  7.42it/s]\n"
          ]
        },
        {
          "output_type": "stream",
          "name": "stdout",
          "text": [
            "tf.Tensor(0.62586033, shape=(), dtype=float32)\n"
          ]
        },
        {
          "output_type": "stream",
          "name": "stderr",
          "text": [
            "100%|██████████| 58/58 [00:19<00:00,  3.04it/s]\n",
            "100%|██████████| 100/100 [00:13<00:00,  7.58it/s]\n"
          ]
        },
        {
          "output_type": "stream",
          "name": "stdout",
          "text": [
            "tf.Tensor(0.6063214, shape=(), dtype=float32)\n",
            "Epoch 23\n"
          ]
        },
        {
          "output_type": "stream",
          "name": "stderr",
          "text": [
            "100%|██████████| 9/9 [00:02<00:00,  3.05it/s]\n",
            "100%|██████████| 100/100 [00:13<00:00,  7.66it/s]\n"
          ]
        },
        {
          "output_type": "stream",
          "name": "stdout",
          "text": [
            "tf.Tensor(0.61460036, shape=(), dtype=float32)\n"
          ]
        },
        {
          "output_type": "stream",
          "name": "stderr",
          "text": [
            "100%|██████████| 9/9 [00:02<00:00,  3.04it/s]\n",
            "100%|██████████| 100/100 [00:13<00:00,  7.50it/s]\n"
          ]
        },
        {
          "output_type": "stream",
          "name": "stdout",
          "text": [
            "tf.Tensor(0.60411733, shape=(), dtype=float32)\n"
          ]
        },
        {
          "output_type": "stream",
          "name": "stderr",
          "text": [
            "100%|██████████| 9/9 [00:02<00:00,  3.03it/s]\n",
            "100%|██████████| 100/100 [00:13<00:00,  7.43it/s]\n"
          ]
        },
        {
          "output_type": "stream",
          "name": "stdout",
          "text": [
            "tf.Tensor(0.6143162, shape=(), dtype=float32)\n"
          ]
        },
        {
          "output_type": "stream",
          "name": "stderr",
          "text": [
            "100%|██████████| 9/9 [00:02<00:00,  3.01it/s]\n",
            "100%|██████████| 100/100 [00:13<00:00,  7.25it/s]\n"
          ]
        },
        {
          "output_type": "stream",
          "name": "stdout",
          "text": [
            "tf.Tensor(0.6278637, shape=(), dtype=float32)\n"
          ]
        },
        {
          "output_type": "stream",
          "name": "stderr",
          "text": [
            "100%|██████████| 19/19 [00:06<00:00,  3.05it/s]\n",
            "100%|██████████| 100/100 [00:13<00:00,  7.47it/s]\n"
          ]
        },
        {
          "output_type": "stream",
          "name": "stdout",
          "text": [
            "tf.Tensor(0.62317264, shape=(), dtype=float32)\n"
          ]
        },
        {
          "output_type": "stream",
          "name": "stderr",
          "text": [
            "100%|██████████| 19/19 [00:06<00:00,  3.05it/s]\n",
            "100%|██████████| 100/100 [00:13<00:00,  7.41it/s]\n"
          ]
        },
        {
          "output_type": "stream",
          "name": "stdout",
          "text": [
            "tf.Tensor(0.6084319, shape=(), dtype=float32)\n"
          ]
        },
        {
          "output_type": "stream",
          "name": "stderr",
          "text": [
            "100%|██████████| 19/19 [00:06<00:00,  3.05it/s]\n",
            "100%|██████████| 100/100 [00:13<00:00,  7.38it/s]\n"
          ]
        },
        {
          "output_type": "stream",
          "name": "stdout",
          "text": [
            "tf.Tensor(0.61179835, shape=(), dtype=float32)\n"
          ]
        },
        {
          "output_type": "stream",
          "name": "stderr",
          "text": [
            "100%|██████████| 38/38 [00:12<00:00,  2.98it/s]\n",
            "100%|██████████| 100/100 [00:13<00:00,  7.59it/s]\n"
          ]
        },
        {
          "output_type": "stream",
          "name": "stdout",
          "text": [
            "tf.Tensor(0.63269717, shape=(), dtype=float32)\n"
          ]
        },
        {
          "output_type": "stream",
          "name": "stderr",
          "text": [
            "100%|██████████| 58/58 [00:19<00:00,  3.04it/s]\n",
            "100%|██████████| 100/100 [00:13<00:00,  7.47it/s]\n"
          ]
        },
        {
          "output_type": "stream",
          "name": "stdout",
          "text": [
            "tf.Tensor(0.6185527, shape=(), dtype=float32)\n",
            "Epoch 24\n"
          ]
        },
        {
          "output_type": "stream",
          "name": "stderr",
          "text": [
            "100%|██████████| 9/9 [00:03<00:00,  2.93it/s]\n",
            "100%|██████████| 100/100 [00:13<00:00,  7.65it/s]\n"
          ]
        },
        {
          "output_type": "stream",
          "name": "stdout",
          "text": [
            "tf.Tensor(0.6201833, shape=(), dtype=float32)\n"
          ]
        },
        {
          "output_type": "stream",
          "name": "stderr",
          "text": [
            "100%|██████████| 9/9 [00:02<00:00,  3.06it/s]\n",
            "100%|██████████| 100/100 [00:13<00:00,  7.55it/s]\n"
          ]
        },
        {
          "output_type": "stream",
          "name": "stdout",
          "text": [
            "tf.Tensor(0.60907906, shape=(), dtype=float32)\n"
          ]
        },
        {
          "output_type": "stream",
          "name": "stderr",
          "text": [
            "100%|██████████| 9/9 [00:02<00:00,  3.02it/s]\n",
            "100%|██████████| 100/100 [00:13<00:00,  7.55it/s]\n"
          ]
        },
        {
          "output_type": "stream",
          "name": "stdout",
          "text": [
            "tf.Tensor(0.6118138, shape=(), dtype=float32)\n"
          ]
        },
        {
          "output_type": "stream",
          "name": "stderr",
          "text": [
            "100%|██████████| 9/9 [00:02<00:00,  3.04it/s]\n",
            "100%|██████████| 100/100 [00:13<00:00,  7.43it/s]\n"
          ]
        },
        {
          "output_type": "stream",
          "name": "stdout",
          "text": [
            "tf.Tensor(0.60856646, shape=(), dtype=float32)\n"
          ]
        },
        {
          "output_type": "stream",
          "name": "stderr",
          "text": [
            "100%|██████████| 19/19 [00:06<00:00,  3.00it/s]\n",
            "100%|██████████| 100/100 [00:13<00:00,  7.67it/s]\n"
          ]
        },
        {
          "output_type": "stream",
          "name": "stdout",
          "text": [
            "tf.Tensor(0.615711, shape=(), dtype=float32)\n"
          ]
        },
        {
          "output_type": "stream",
          "name": "stderr",
          "text": [
            "100%|██████████| 19/19 [00:06<00:00,  3.06it/s]\n",
            "100%|██████████| 100/100 [00:13<00:00,  7.46it/s]\n"
          ]
        },
        {
          "output_type": "stream",
          "name": "stdout",
          "text": [
            "tf.Tensor(0.61791974, shape=(), dtype=float32)\n"
          ]
        },
        {
          "output_type": "stream",
          "name": "stderr",
          "text": [
            "100%|██████████| 19/19 [00:06<00:00,  3.03it/s]\n",
            "100%|██████████| 100/100 [00:13<00:00,  7.58it/s]\n"
          ]
        },
        {
          "output_type": "stream",
          "name": "stdout",
          "text": [
            "tf.Tensor(0.62050086, shape=(), dtype=float32)\n"
          ]
        },
        {
          "output_type": "stream",
          "name": "stderr",
          "text": [
            "100%|██████████| 38/38 [00:12<00:00,  3.06it/s]\n",
            "100%|██████████| 100/100 [00:13<00:00,  7.49it/s]\n"
          ]
        },
        {
          "output_type": "stream",
          "name": "stdout",
          "text": [
            "tf.Tensor(0.6290728, shape=(), dtype=float32)\n"
          ]
        },
        {
          "output_type": "stream",
          "name": "stderr",
          "text": [
            "100%|██████████| 58/58 [00:19<00:00,  2.90it/s]\n",
            "100%|██████████| 100/100 [00:13<00:00,  7.64it/s]\n"
          ]
        },
        {
          "output_type": "stream",
          "name": "stdout",
          "text": [
            "tf.Tensor(0.61251056, shape=(), dtype=float32)\n",
            "Epoch 25\n"
          ]
        },
        {
          "output_type": "stream",
          "name": "stderr",
          "text": [
            "100%|██████████| 9/9 [00:02<00:00,  3.06it/s]\n",
            "100%|██████████| 100/100 [00:13<00:00,  7.35it/s]\n"
          ]
        },
        {
          "output_type": "stream",
          "name": "stdout",
          "text": [
            "tf.Tensor(0.6147024, shape=(), dtype=float32)\n"
          ]
        },
        {
          "output_type": "stream",
          "name": "stderr",
          "text": [
            "100%|██████████| 9/9 [00:03<00:00,  2.93it/s]\n",
            "100%|██████████| 100/100 [00:13<00:00,  7.65it/s]\n"
          ]
        },
        {
          "output_type": "stream",
          "name": "stdout",
          "text": [
            "tf.Tensor(0.5768996, shape=(), dtype=float32)\n"
          ]
        },
        {
          "output_type": "stream",
          "name": "stderr",
          "text": [
            "100%|██████████| 9/9 [00:02<00:00,  3.05it/s]\n",
            "100%|██████████| 100/100 [00:14<00:00,  7.08it/s]\n"
          ]
        },
        {
          "output_type": "stream",
          "name": "stdout",
          "text": [
            "tf.Tensor(0.6148712, shape=(), dtype=float32)\n"
          ]
        },
        {
          "output_type": "stream",
          "name": "stderr",
          "text": [
            "100%|██████████| 9/9 [00:03<00:00,  2.65it/s]\n",
            "100%|██████████| 100/100 [00:13<00:00,  7.64it/s]\n"
          ]
        },
        {
          "output_type": "stream",
          "name": "stdout",
          "text": [
            "tf.Tensor(0.6240757, shape=(), dtype=float32)\n"
          ]
        },
        {
          "output_type": "stream",
          "name": "stderr",
          "text": [
            "100%|██████████| 19/19 [00:06<00:00,  3.05it/s]\n",
            "100%|██████████| 100/100 [00:14<00:00,  6.85it/s]\n"
          ]
        },
        {
          "output_type": "stream",
          "name": "stdout",
          "text": [
            "tf.Tensor(0.6258393, shape=(), dtype=float32)\n"
          ]
        },
        {
          "output_type": "stream",
          "name": "stderr",
          "text": [
            "100%|██████████| 19/19 [00:06<00:00,  2.78it/s]\n",
            "100%|██████████| 100/100 [00:13<00:00,  7.33it/s]\n"
          ]
        },
        {
          "output_type": "stream",
          "name": "stdout",
          "text": [
            "tf.Tensor(0.6159366, shape=(), dtype=float32)\n"
          ]
        },
        {
          "output_type": "stream",
          "name": "stderr",
          "text": [
            "100%|██████████| 19/19 [00:06<00:00,  2.99it/s]\n",
            "100%|██████████| 100/100 [00:13<00:00,  7.38it/s]\n"
          ]
        },
        {
          "output_type": "stream",
          "name": "stdout",
          "text": [
            "tf.Tensor(0.6106826, shape=(), dtype=float32)\n"
          ]
        },
        {
          "output_type": "stream",
          "name": "stderr",
          "text": [
            "100%|██████████| 38/38 [00:13<00:00,  2.78it/s]\n",
            "100%|██████████| 100/100 [00:13<00:00,  7.38it/s]\n"
          ]
        },
        {
          "output_type": "stream",
          "name": "stdout",
          "text": [
            "tf.Tensor(0.6231686, shape=(), dtype=float32)\n"
          ]
        },
        {
          "output_type": "stream",
          "name": "stderr",
          "text": [
            "100%|██████████| 58/58 [00:19<00:00,  2.98it/s]\n",
            "100%|██████████| 100/100 [00:13<00:00,  7.32it/s]\n"
          ]
        },
        {
          "output_type": "stream",
          "name": "stdout",
          "text": [
            "tf.Tensor(0.6196472, shape=(), dtype=float32)\n",
            "Epoch 26\n"
          ]
        },
        {
          "output_type": "stream",
          "name": "stderr",
          "text": [
            "100%|██████████| 9/9 [00:03<00:00,  2.67it/s]\n",
            "100%|██████████| 100/100 [00:13<00:00,  7.37it/s]\n"
          ]
        },
        {
          "output_type": "stream",
          "name": "stdout",
          "text": [
            "tf.Tensor(0.61152864, shape=(), dtype=float32)\n"
          ]
        },
        {
          "output_type": "stream",
          "name": "stderr",
          "text": [
            "100%|██████████| 9/9 [00:03<00:00,  2.99it/s]\n",
            "100%|██████████| 100/100 [00:13<00:00,  7.18it/s]\n"
          ]
        },
        {
          "output_type": "stream",
          "name": "stdout",
          "text": [
            "tf.Tensor(0.59891015, shape=(), dtype=float32)\n"
          ]
        },
        {
          "output_type": "stream",
          "name": "stderr",
          "text": [
            "100%|██████████| 9/9 [00:03<00:00,  2.66it/s]\n",
            "100%|██████████| 100/100 [00:13<00:00,  7.30it/s]\n"
          ]
        },
        {
          "output_type": "stream",
          "name": "stdout",
          "text": [
            "tf.Tensor(0.6133313, shape=(), dtype=float32)\n"
          ]
        },
        {
          "output_type": "stream",
          "name": "stderr",
          "text": [
            "100%|██████████| 9/9 [00:03<00:00,  2.98it/s]\n",
            "100%|██████████| 100/100 [00:14<00:00,  6.82it/s]\n"
          ]
        },
        {
          "output_type": "stream",
          "name": "stdout",
          "text": [
            "tf.Tensor(0.6207911, shape=(), dtype=float32)\n"
          ]
        },
        {
          "output_type": "stream",
          "name": "stderr",
          "text": [
            "100%|██████████| 19/19 [00:07<00:00,  2.66it/s]\n",
            "100%|██████████| 100/100 [00:13<00:00,  7.36it/s]\n"
          ]
        },
        {
          "output_type": "stream",
          "name": "stdout",
          "text": [
            "tf.Tensor(0.6190398, shape=(), dtype=float32)\n"
          ]
        },
        {
          "output_type": "stream",
          "name": "stderr",
          "text": [
            "100%|██████████| 19/19 [00:06<00:00,  2.97it/s]\n",
            "100%|██████████| 100/100 [00:14<00:00,  6.89it/s]\n"
          ]
        },
        {
          "output_type": "stream",
          "name": "stdout",
          "text": [
            "tf.Tensor(0.6204882, shape=(), dtype=float32)\n"
          ]
        },
        {
          "output_type": "stream",
          "name": "stderr",
          "text": [
            "100%|██████████| 19/19 [00:06<00:00,  2.78it/s]\n",
            "100%|██████████| 100/100 [00:13<00:00,  7.33it/s]\n"
          ]
        },
        {
          "output_type": "stream",
          "name": "stdout",
          "text": [
            "tf.Tensor(0.61009496, shape=(), dtype=float32)\n"
          ]
        },
        {
          "output_type": "stream",
          "name": "stderr",
          "text": [
            "100%|██████████| 38/38 [00:12<00:00,  2.98it/s]\n",
            "100%|██████████| 100/100 [00:13<00:00,  7.28it/s]\n"
          ]
        },
        {
          "output_type": "stream",
          "name": "stdout",
          "text": [
            "tf.Tensor(0.62830234, shape=(), dtype=float32)\n"
          ]
        },
        {
          "output_type": "stream",
          "name": "stderr",
          "text": [
            "100%|██████████| 58/58 [00:20<00:00,  2.77it/s]\n",
            "100%|██████████| 100/100 [00:13<00:00,  7.57it/s]\n"
          ]
        },
        {
          "output_type": "stream",
          "name": "stdout",
          "text": [
            "tf.Tensor(0.5992777, shape=(), dtype=float32)\n",
            "Epoch 27\n"
          ]
        },
        {
          "output_type": "stream",
          "name": "stderr",
          "text": [
            "100%|██████████| 9/9 [00:02<00:00,  3.04it/s]\n",
            "100%|██████████| 100/100 [00:13<00:00,  7.24it/s]\n"
          ]
        },
        {
          "output_type": "stream",
          "name": "stdout",
          "text": [
            "tf.Tensor(0.60621184, shape=(), dtype=float32)\n"
          ]
        },
        {
          "output_type": "stream",
          "name": "stderr",
          "text": [
            "100%|██████████| 9/9 [00:03<00:00,  2.66it/s]\n",
            "100%|██████████| 100/100 [00:13<00:00,  7.36it/s]\n"
          ]
        },
        {
          "output_type": "stream",
          "name": "stdout",
          "text": [
            "tf.Tensor(0.60249066, shape=(), dtype=float32)\n"
          ]
        },
        {
          "output_type": "stream",
          "name": "stderr",
          "text": [
            "100%|██████████| 9/9 [00:02<00:00,  3.05it/s]\n",
            "100%|██████████| 100/100 [00:13<00:00,  7.28it/s]\n"
          ]
        },
        {
          "output_type": "stream",
          "name": "stdout",
          "text": [
            "tf.Tensor(0.60192233, shape=(), dtype=float32)\n"
          ]
        },
        {
          "output_type": "stream",
          "name": "stderr",
          "text": [
            "100%|██████████| 9/9 [00:03<00:00,  2.68it/s]\n",
            "100%|██████████| 100/100 [00:13<00:00,  7.46it/s]\n"
          ]
        },
        {
          "output_type": "stream",
          "name": "stdout",
          "text": [
            "tf.Tensor(0.6213189, shape=(), dtype=float32)\n"
          ]
        },
        {
          "output_type": "stream",
          "name": "stderr",
          "text": [
            "100%|██████████| 19/19 [00:06<00:00,  2.99it/s]\n",
            "100%|██████████| 100/100 [00:14<00:00,  7.10it/s]\n"
          ]
        },
        {
          "output_type": "stream",
          "name": "stdout",
          "text": [
            "tf.Tensor(0.6280157, shape=(), dtype=float32)\n"
          ]
        },
        {
          "output_type": "stream",
          "name": "stderr",
          "text": [
            "100%|██████████| 19/19 [00:07<00:00,  2.67it/s]\n",
            "100%|██████████| 100/100 [00:13<00:00,  7.38it/s]\n"
          ]
        },
        {
          "output_type": "stream",
          "name": "stdout",
          "text": [
            "tf.Tensor(0.62386227, shape=(), dtype=float32)\n"
          ]
        },
        {
          "output_type": "stream",
          "name": "stderr",
          "text": [
            "100%|██████████| 19/19 [00:06<00:00,  2.98it/s]\n",
            "100%|██████████| 100/100 [00:14<00:00,  7.11it/s]\n"
          ]
        },
        {
          "output_type": "stream",
          "name": "stdout",
          "text": [
            "tf.Tensor(0.61805856, shape=(), dtype=float32)\n"
          ]
        },
        {
          "output_type": "stream",
          "name": "stderr",
          "text": [
            "100%|██████████| 38/38 [00:13<00:00,  2.78it/s]\n",
            "100%|██████████| 100/100 [00:13<00:00,  7.51it/s]\n"
          ]
        },
        {
          "output_type": "stream",
          "name": "stdout",
          "text": [
            "tf.Tensor(0.63318825, shape=(), dtype=float32)\n"
          ]
        },
        {
          "output_type": "stream",
          "name": "stderr",
          "text": [
            "100%|██████████| 58/58 [00:19<00:00,  2.98it/s]\n",
            "100%|██████████| 100/100 [00:14<00:00,  6.87it/s]\n"
          ]
        },
        {
          "output_type": "stream",
          "name": "stdout",
          "text": [
            "tf.Tensor(0.60705954, shape=(), dtype=float32)\n",
            "Epoch 28\n"
          ]
        },
        {
          "output_type": "stream",
          "name": "stderr",
          "text": [
            "100%|██████████| 9/9 [00:03<00:00,  2.78it/s]\n",
            "100%|██████████| 100/100 [00:13<00:00,  7.52it/s]\n"
          ]
        },
        {
          "output_type": "stream",
          "name": "stdout",
          "text": [
            "tf.Tensor(0.6115936, shape=(), dtype=float32)\n"
          ]
        },
        {
          "output_type": "stream",
          "name": "stderr",
          "text": [
            "100%|██████████| 9/9 [00:02<00:00,  3.05it/s]\n",
            "100%|██████████| 100/100 [00:13<00:00,  7.48it/s]\n"
          ]
        },
        {
          "output_type": "stream",
          "name": "stdout",
          "text": [
            "tf.Tensor(0.6041713, shape=(), dtype=float32)\n"
          ]
        },
        {
          "output_type": "stream",
          "name": "stderr",
          "text": [
            "100%|██████████| 9/9 [00:02<00:00,  3.03it/s]\n",
            "100%|██████████| 100/100 [00:13<00:00,  7.42it/s]\n"
          ]
        },
        {
          "output_type": "stream",
          "name": "stdout",
          "text": [
            "tf.Tensor(0.60413283, shape=(), dtype=float32)\n"
          ]
        },
        {
          "output_type": "stream",
          "name": "stderr",
          "text": [
            "100%|██████████| 9/9 [00:02<00:00,  3.04it/s]\n",
            "100%|██████████| 100/100 [00:13<00:00,  7.53it/s]\n"
          ]
        },
        {
          "output_type": "stream",
          "name": "stdout",
          "text": [
            "tf.Tensor(0.61960554, shape=(), dtype=float32)\n"
          ]
        },
        {
          "output_type": "stream",
          "name": "stderr",
          "text": [
            "100%|██████████| 19/19 [00:06<00:00,  2.91it/s]\n",
            "100%|██████████| 100/100 [00:13<00:00,  7.56it/s]\n"
          ]
        },
        {
          "output_type": "stream",
          "name": "stdout",
          "text": [
            "tf.Tensor(0.6229451, shape=(), dtype=float32)\n"
          ]
        },
        {
          "output_type": "stream",
          "name": "stderr",
          "text": [
            "100%|██████████| 19/19 [00:06<00:00,  3.05it/s]\n",
            "100%|██████████| 100/100 [00:13<00:00,  7.57it/s]\n"
          ]
        },
        {
          "output_type": "stream",
          "name": "stdout",
          "text": [
            "tf.Tensor(0.6217621, shape=(), dtype=float32)\n"
          ]
        },
        {
          "output_type": "stream",
          "name": "stderr",
          "text": [
            "100%|██████████| 19/19 [00:06<00:00,  3.03it/s]\n",
            "100%|██████████| 100/100 [00:13<00:00,  7.56it/s]\n"
          ]
        },
        {
          "output_type": "stream",
          "name": "stdout",
          "text": [
            "tf.Tensor(0.62642723, shape=(), dtype=float32)\n"
          ]
        },
        {
          "output_type": "stream",
          "name": "stderr",
          "text": [
            "100%|██████████| 38/38 [00:12<00:00,  3.02it/s]\n",
            "100%|██████████| 100/100 [00:13<00:00,  7.56it/s]\n"
          ]
        },
        {
          "output_type": "stream",
          "name": "stdout",
          "text": [
            "tf.Tensor(0.6142083, shape=(), dtype=float32)\n"
          ]
        },
        {
          "output_type": "stream",
          "name": "stderr",
          "text": [
            "100%|██████████| 58/58 [00:19<00:00,  3.01it/s]\n",
            "100%|██████████| 100/100 [00:13<00:00,  7.65it/s]\n"
          ]
        },
        {
          "output_type": "stream",
          "name": "stdout",
          "text": [
            "tf.Tensor(0.6098257, shape=(), dtype=float32)\n",
            "Epoch 29\n"
          ]
        },
        {
          "output_type": "stream",
          "name": "stderr",
          "text": [
            "100%|██████████| 9/9 [00:02<00:00,  3.05it/s]\n",
            "100%|██████████| 100/100 [00:13<00:00,  7.63it/s]\n"
          ]
        },
        {
          "output_type": "stream",
          "name": "stdout",
          "text": [
            "tf.Tensor(0.6154375, shape=(), dtype=float32)\n"
          ]
        },
        {
          "output_type": "stream",
          "name": "stderr",
          "text": [
            "100%|██████████| 9/9 [00:02<00:00,  3.04it/s]\n",
            "100%|██████████| 100/100 [00:13<00:00,  7.60it/s]\n"
          ]
        },
        {
          "output_type": "stream",
          "name": "stdout",
          "text": [
            "tf.Tensor(0.60059744, shape=(), dtype=float32)\n"
          ]
        },
        {
          "output_type": "stream",
          "name": "stderr",
          "text": [
            "100%|██████████| 9/9 [00:02<00:00,  3.03it/s]\n",
            "100%|██████████| 100/100 [00:13<00:00,  7.63it/s]\n"
          ]
        },
        {
          "output_type": "stream",
          "name": "stdout",
          "text": [
            "tf.Tensor(0.61573046, shape=(), dtype=float32)\n"
          ]
        },
        {
          "output_type": "stream",
          "name": "stderr",
          "text": [
            "100%|██████████| 9/9 [00:02<00:00,  3.04it/s]\n",
            "100%|██████████| 100/100 [00:13<00:00,  7.60it/s]\n"
          ]
        },
        {
          "output_type": "stream",
          "name": "stdout",
          "text": [
            "tf.Tensor(0.62672275, shape=(), dtype=float32)\n"
          ]
        },
        {
          "output_type": "stream",
          "name": "stderr",
          "text": [
            "100%|██████████| 19/19 [00:06<00:00,  3.03it/s]\n",
            "100%|██████████| 100/100 [00:13<00:00,  7.66it/s]\n"
          ]
        },
        {
          "output_type": "stream",
          "name": "stdout",
          "text": [
            "tf.Tensor(0.6152293, shape=(), dtype=float32)\n"
          ]
        },
        {
          "output_type": "stream",
          "name": "stderr",
          "text": [
            "100%|██████████| 19/19 [00:06<00:00,  3.04it/s]\n",
            "100%|██████████| 100/100 [00:13<00:00,  7.57it/s]\n"
          ]
        },
        {
          "output_type": "stream",
          "name": "stdout",
          "text": [
            "tf.Tensor(0.6104951, shape=(), dtype=float32)\n"
          ]
        },
        {
          "output_type": "stream",
          "name": "stderr",
          "text": [
            "100%|██████████| 19/19 [00:06<00:00,  3.04it/s]\n",
            "100%|██████████| 100/100 [00:13<00:00,  7.55it/s]\n"
          ]
        },
        {
          "output_type": "stream",
          "name": "stdout",
          "text": [
            "tf.Tensor(0.61425185, shape=(), dtype=float32)\n"
          ]
        },
        {
          "output_type": "stream",
          "name": "stderr",
          "text": [
            "100%|██████████| 38/38 [00:12<00:00,  3.05it/s]\n",
            "100%|██████████| 100/100 [00:13<00:00,  7.59it/s]\n"
          ]
        },
        {
          "output_type": "stream",
          "name": "stdout",
          "text": [
            "tf.Tensor(0.62052536, shape=(), dtype=float32)\n"
          ]
        },
        {
          "output_type": "stream",
          "name": "stderr",
          "text": [
            "100%|██████████| 58/58 [00:19<00:00,  3.03it/s]\n",
            "100%|██████████| 100/100 [00:13<00:00,  7.26it/s]\n"
          ]
        },
        {
          "output_type": "stream",
          "name": "stdout",
          "text": [
            "tf.Tensor(0.60870475, shape=(), dtype=float32)\n",
            "Epoch 30\n"
          ]
        },
        {
          "output_type": "stream",
          "name": "stderr",
          "text": [
            "100%|██████████| 9/9 [00:02<00:00,  3.05it/s]\n",
            "100%|██████████| 100/100 [00:13<00:00,  7.52it/s]\n"
          ]
        },
        {
          "output_type": "stream",
          "name": "stdout",
          "text": [
            "tf.Tensor(0.6111781, shape=(), dtype=float32)\n"
          ]
        },
        {
          "output_type": "stream",
          "name": "stderr",
          "text": [
            "100%|██████████| 9/9 [00:02<00:00,  3.04it/s]\n",
            "100%|██████████| 100/100 [00:13<00:00,  7.21it/s]\n"
          ]
        },
        {
          "output_type": "stream",
          "name": "stdout",
          "text": [
            "tf.Tensor(0.59578496, shape=(), dtype=float32)\n"
          ]
        },
        {
          "output_type": "stream",
          "name": "stderr",
          "text": [
            "100%|██████████| 9/9 [00:02<00:00,  3.05it/s]\n",
            "100%|██████████| 100/100 [00:13<00:00,  7.39it/s]\n"
          ]
        },
        {
          "output_type": "stream",
          "name": "stdout",
          "text": [
            "tf.Tensor(0.60750306, shape=(), dtype=float32)\n"
          ]
        },
        {
          "output_type": "stream",
          "name": "stderr",
          "text": [
            "100%|██████████| 9/9 [00:02<00:00,  3.04it/s]\n",
            "100%|██████████| 100/100 [00:13<00:00,  7.67it/s]\n"
          ]
        },
        {
          "output_type": "stream",
          "name": "stdout",
          "text": [
            "tf.Tensor(0.62018955, shape=(), dtype=float32)\n"
          ]
        },
        {
          "output_type": "stream",
          "name": "stderr",
          "text": [
            "100%|██████████| 19/19 [00:06<00:00,  3.04it/s]\n",
            "100%|██████████| 100/100 [00:13<00:00,  7.65it/s]\n"
          ]
        },
        {
          "output_type": "stream",
          "name": "stdout",
          "text": [
            "tf.Tensor(0.61676645, shape=(), dtype=float32)\n"
          ]
        },
        {
          "output_type": "stream",
          "name": "stderr",
          "text": [
            "100%|██████████| 19/19 [00:06<00:00,  3.04it/s]\n",
            "100%|██████████| 100/100 [00:13<00:00,  7.58it/s]\n"
          ]
        },
        {
          "output_type": "stream",
          "name": "stdout",
          "text": [
            "tf.Tensor(0.625794, shape=(), dtype=float32)\n"
          ]
        },
        {
          "output_type": "stream",
          "name": "stderr",
          "text": [
            "100%|██████████| 19/19 [00:06<00:00,  3.04it/s]\n",
            "100%|██████████| 100/100 [00:13<00:00,  7.65it/s]\n"
          ]
        },
        {
          "output_type": "stream",
          "name": "stdout",
          "text": [
            "tf.Tensor(0.6249064, shape=(), dtype=float32)\n"
          ]
        },
        {
          "output_type": "stream",
          "name": "stderr",
          "text": [
            "100%|██████████| 38/38 [00:12<00:00,  3.04it/s]\n",
            "100%|██████████| 100/100 [00:13<00:00,  7.52it/s]\n"
          ]
        },
        {
          "output_type": "stream",
          "name": "stdout",
          "text": [
            "tf.Tensor(0.6273235, shape=(), dtype=float32)\n"
          ]
        },
        {
          "output_type": "stream",
          "name": "stderr",
          "text": [
            "100%|██████████| 58/58 [00:19<00:00,  3.04it/s]\n",
            "100%|██████████| 100/100 [00:13<00:00,  7.62it/s]\n"
          ]
        },
        {
          "output_type": "stream",
          "name": "stdout",
          "text": [
            "tf.Tensor(0.61144835, shape=(), dtype=float32)\n",
            "Epoch 31\n"
          ]
        },
        {
          "output_type": "stream",
          "name": "stderr",
          "text": [
            "100%|██████████| 9/9 [00:02<00:00,  3.05it/s]\n",
            "100%|██████████| 100/100 [00:13<00:00,  7.54it/s]\n"
          ]
        },
        {
          "output_type": "stream",
          "name": "stdout",
          "text": [
            "tf.Tensor(0.6083483, shape=(), dtype=float32)\n"
          ]
        },
        {
          "output_type": "stream",
          "name": "stderr",
          "text": [
            "100%|██████████| 9/9 [00:02<00:00,  3.05it/s]\n",
            "100%|██████████| 100/100 [00:13<00:00,  7.52it/s]\n"
          ]
        },
        {
          "output_type": "stream",
          "name": "stdout",
          "text": [
            "tf.Tensor(0.59002876, shape=(), dtype=float32)\n"
          ]
        },
        {
          "output_type": "stream",
          "name": "stderr",
          "text": [
            "100%|██████████| 9/9 [00:02<00:00,  3.04it/s]\n",
            "100%|██████████| 100/100 [00:13<00:00,  7.67it/s]\n"
          ]
        },
        {
          "output_type": "stream",
          "name": "stdout",
          "text": [
            "tf.Tensor(0.58258873, shape=(), dtype=float32)\n"
          ]
        },
        {
          "output_type": "stream",
          "name": "stderr",
          "text": [
            "100%|██████████| 9/9 [00:02<00:00,  3.06it/s]\n",
            "100%|██████████| 100/100 [00:13<00:00,  7.56it/s]\n"
          ]
        },
        {
          "output_type": "stream",
          "name": "stdout",
          "text": [
            "tf.Tensor(0.61663216, shape=(), dtype=float32)\n"
          ]
        },
        {
          "output_type": "stream",
          "name": "stderr",
          "text": [
            "100%|██████████| 19/19 [00:06<00:00,  3.06it/s]\n",
            "100%|██████████| 100/100 [00:13<00:00,  7.47it/s]\n"
          ]
        },
        {
          "output_type": "stream",
          "name": "stdout",
          "text": [
            "tf.Tensor(0.61934775, shape=(), dtype=float32)\n"
          ]
        },
        {
          "output_type": "stream",
          "name": "stderr",
          "text": [
            "100%|██████████| 19/19 [00:06<00:00,  3.04it/s]\n",
            "100%|██████████| 100/100 [00:13<00:00,  7.46it/s]\n"
          ]
        },
        {
          "output_type": "stream",
          "name": "stdout",
          "text": [
            "tf.Tensor(0.61766267, shape=(), dtype=float32)\n"
          ]
        },
        {
          "output_type": "stream",
          "name": "stderr",
          "text": [
            "100%|██████████| 19/19 [00:06<00:00,  3.05it/s]\n",
            "100%|██████████| 100/100 [00:13<00:00,  7.52it/s]\n"
          ]
        },
        {
          "output_type": "stream",
          "name": "stdout",
          "text": [
            "tf.Tensor(0.6157492, shape=(), dtype=float32)\n"
          ]
        },
        {
          "output_type": "stream",
          "name": "stderr",
          "text": [
            "100%|██████████| 38/38 [00:12<00:00,  3.06it/s]\n",
            "100%|██████████| 100/100 [00:13<00:00,  7.55it/s]\n"
          ]
        },
        {
          "output_type": "stream",
          "name": "stdout",
          "text": [
            "tf.Tensor(0.62638617, shape=(), dtype=float32)\n"
          ]
        },
        {
          "output_type": "stream",
          "name": "stderr",
          "text": [
            "100%|██████████| 58/58 [00:18<00:00,  3.06it/s]\n",
            "100%|██████████| 100/100 [00:13<00:00,  7.54it/s]\n"
          ]
        },
        {
          "output_type": "stream",
          "name": "stdout",
          "text": [
            "tf.Tensor(0.61677176, shape=(), dtype=float32)\n",
            "Epoch 32\n"
          ]
        },
        {
          "output_type": "stream",
          "name": "stderr",
          "text": [
            "100%|██████████| 9/9 [00:03<00:00,  2.99it/s]\n",
            "100%|██████████| 100/100 [00:13<00:00,  7.61it/s]\n"
          ]
        },
        {
          "output_type": "stream",
          "name": "stdout",
          "text": [
            "tf.Tensor(0.61647105, shape=(), dtype=float32)\n"
          ]
        },
        {
          "output_type": "stream",
          "name": "stderr",
          "text": [
            "100%|██████████| 9/9 [00:02<00:00,  3.05it/s]\n",
            "100%|██████████| 100/100 [00:13<00:00,  7.63it/s]\n"
          ]
        },
        {
          "output_type": "stream",
          "name": "stdout",
          "text": [
            "tf.Tensor(0.60859877, shape=(), dtype=float32)\n"
          ]
        },
        {
          "output_type": "stream",
          "name": "stderr",
          "text": [
            "100%|██████████| 9/9 [00:02<00:00,  3.04it/s]\n",
            "100%|██████████| 100/100 [00:13<00:00,  7.57it/s]\n"
          ]
        },
        {
          "output_type": "stream",
          "name": "stdout",
          "text": [
            "tf.Tensor(0.6108935, shape=(), dtype=float32)\n"
          ]
        },
        {
          "output_type": "stream",
          "name": "stderr",
          "text": [
            "100%|██████████| 9/9 [00:02<00:00,  3.05it/s]\n",
            "100%|██████████| 100/100 [00:13<00:00,  7.57it/s]\n"
          ]
        },
        {
          "output_type": "stream",
          "name": "stdout",
          "text": [
            "tf.Tensor(0.6278226, shape=(), dtype=float32)\n"
          ]
        },
        {
          "output_type": "stream",
          "name": "stderr",
          "text": [
            "100%|██████████| 19/19 [00:06<00:00,  3.04it/s]\n",
            "100%|██████████| 100/100 [00:13<00:00,  7.55it/s]\n"
          ]
        },
        {
          "output_type": "stream",
          "name": "stdout",
          "text": [
            "tf.Tensor(0.621452, shape=(), dtype=float32)\n"
          ]
        },
        {
          "output_type": "stream",
          "name": "stderr",
          "text": [
            "100%|██████████| 19/19 [00:06<00:00,  3.07it/s]\n",
            "100%|██████████| 100/100 [00:13<00:00,  7.55it/s]\n"
          ]
        },
        {
          "output_type": "stream",
          "name": "stdout",
          "text": [
            "tf.Tensor(0.6227749, shape=(), dtype=float32)\n"
          ]
        },
        {
          "output_type": "stream",
          "name": "stderr",
          "text": [
            "100%|██████████| 19/19 [00:06<00:00,  3.04it/s]\n",
            "100%|██████████| 100/100 [00:13<00:00,  7.52it/s]\n"
          ]
        },
        {
          "output_type": "stream",
          "name": "stdout",
          "text": [
            "tf.Tensor(0.6245302, shape=(), dtype=float32)\n"
          ]
        },
        {
          "output_type": "stream",
          "name": "stderr",
          "text": [
            "100%|██████████| 38/38 [00:12<00:00,  3.06it/s]\n",
            "100%|██████████| 100/100 [00:13<00:00,  7.63it/s]\n"
          ]
        },
        {
          "output_type": "stream",
          "name": "stdout",
          "text": [
            "tf.Tensor(0.6252003, shape=(), dtype=float32)\n"
          ]
        },
        {
          "output_type": "stream",
          "name": "stderr",
          "text": [
            "100%|██████████| 58/58 [00:19<00:00,  3.04it/s]\n",
            "100%|██████████| 100/100 [00:13<00:00,  7.39it/s]\n"
          ]
        },
        {
          "output_type": "stream",
          "name": "stdout",
          "text": [
            "tf.Tensor(0.61393166, shape=(), dtype=float32)\n",
            "Epoch 33\n"
          ]
        },
        {
          "output_type": "stream",
          "name": "stderr",
          "text": [
            "100%|██████████| 9/9 [00:02<00:00,  3.04it/s]\n",
            "100%|██████████| 100/100 [00:13<00:00,  7.61it/s]\n"
          ]
        },
        {
          "output_type": "stream",
          "name": "stdout",
          "text": [
            "tf.Tensor(0.61626726, shape=(), dtype=float32)\n"
          ]
        },
        {
          "output_type": "stream",
          "name": "stderr",
          "text": [
            "100%|██████████| 9/9 [00:02<00:00,  3.05it/s]\n",
            "100%|██████████| 100/100 [00:13<00:00,  7.68it/s]\n"
          ]
        },
        {
          "output_type": "stream",
          "name": "stdout",
          "text": [
            "tf.Tensor(0.6131325, shape=(), dtype=float32)\n"
          ]
        },
        {
          "output_type": "stream",
          "name": "stderr",
          "text": [
            "100%|██████████| 9/9 [00:02<00:00,  3.05it/s]\n",
            "100%|██████████| 100/100 [00:13<00:00,  7.26it/s]\n"
          ]
        },
        {
          "output_type": "stream",
          "name": "stdout",
          "text": [
            "tf.Tensor(0.6147361, shape=(), dtype=float32)\n"
          ]
        },
        {
          "output_type": "stream",
          "name": "stderr",
          "text": [
            "100%|██████████| 9/9 [00:02<00:00,  3.05it/s]\n",
            "100%|██████████| 100/100 [00:13<00:00,  7.66it/s]\n"
          ]
        },
        {
          "output_type": "stream",
          "name": "stdout",
          "text": [
            "tf.Tensor(0.6270685, shape=(), dtype=float32)\n"
          ]
        },
        {
          "output_type": "stream",
          "name": "stderr",
          "text": [
            "100%|██████████| 19/19 [00:06<00:00,  3.04it/s]\n",
            "100%|██████████| 100/100 [00:13<00:00,  7.32it/s]\n"
          ]
        },
        {
          "output_type": "stream",
          "name": "stdout",
          "text": [
            "tf.Tensor(0.6302287, shape=(), dtype=float32)\n"
          ]
        },
        {
          "output_type": "stream",
          "name": "stderr",
          "text": [
            "100%|██████████| 19/19 [00:06<00:00,  3.05it/s]\n",
            "100%|██████████| 100/100 [00:13<00:00,  7.60it/s]\n"
          ]
        },
        {
          "output_type": "stream",
          "name": "stdout",
          "text": [
            "tf.Tensor(0.6310479, shape=(), dtype=float32)\n"
          ]
        },
        {
          "output_type": "stream",
          "name": "stderr",
          "text": [
            "100%|██████████| 19/19 [00:06<00:00,  3.04it/s]\n",
            "100%|██████████| 100/100 [00:13<00:00,  7.23it/s]\n"
          ]
        },
        {
          "output_type": "stream",
          "name": "stdout",
          "text": [
            "tf.Tensor(0.6235383, shape=(), dtype=float32)\n"
          ]
        },
        {
          "output_type": "stream",
          "name": "stderr",
          "text": [
            "100%|██████████| 38/38 [00:12<00:00,  3.05it/s]\n",
            "100%|██████████| 100/100 [00:13<00:00,  7.56it/s]\n"
          ]
        },
        {
          "output_type": "stream",
          "name": "stdout",
          "text": [
            "tf.Tensor(0.6274034, shape=(), dtype=float32)\n"
          ]
        },
        {
          "output_type": "stream",
          "name": "stderr",
          "text": [
            "100%|██████████| 58/58 [00:19<00:00,  3.05it/s]\n",
            "100%|██████████| 100/100 [00:13<00:00,  7.41it/s]\n"
          ]
        },
        {
          "output_type": "stream",
          "name": "stdout",
          "text": [
            "tf.Tensor(0.60678107, shape=(), dtype=float32)\n",
            "Epoch 34\n"
          ]
        },
        {
          "output_type": "stream",
          "name": "stderr",
          "text": [
            "100%|██████████| 9/9 [00:03<00:00,  2.92it/s]\n",
            "100%|██████████| 100/100 [00:13<00:00,  7.54it/s]\n"
          ]
        },
        {
          "output_type": "stream",
          "name": "stdout",
          "text": [
            "tf.Tensor(0.616287, shape=(), dtype=float32)\n"
          ]
        },
        {
          "output_type": "stream",
          "name": "stderr",
          "text": [
            "100%|██████████| 9/9 [00:02<00:00,  3.04it/s]\n",
            "100%|██████████| 100/100 [00:13<00:00,  7.52it/s]\n"
          ]
        },
        {
          "output_type": "stream",
          "name": "stdout",
          "text": [
            "tf.Tensor(0.6033285, shape=(), dtype=float32)\n"
          ]
        },
        {
          "output_type": "stream",
          "name": "stderr",
          "text": [
            "100%|██████████| 9/9 [00:03<00:00,  2.91it/s]\n",
            "100%|██████████| 100/100 [00:13<00:00,  7.48it/s]\n"
          ]
        },
        {
          "output_type": "stream",
          "name": "stdout",
          "text": [
            "tf.Tensor(0.6123114, shape=(), dtype=float32)\n"
          ]
        },
        {
          "output_type": "stream",
          "name": "stderr",
          "text": [
            "100%|██████████| 9/9 [00:02<00:00,  3.05it/s]\n",
            "100%|██████████| 100/100 [00:13<00:00,  7.20it/s]\n"
          ]
        },
        {
          "output_type": "stream",
          "name": "stdout",
          "text": [
            "tf.Tensor(0.6168671, shape=(), dtype=float32)\n"
          ]
        },
        {
          "output_type": "stream",
          "name": "stderr",
          "text": [
            "100%|██████████| 19/19 [00:06<00:00,  3.05it/s]\n",
            "100%|██████████| 100/100 [00:13<00:00,  7.61it/s]\n"
          ]
        },
        {
          "output_type": "stream",
          "name": "stdout",
          "text": [
            "tf.Tensor(0.61744153, shape=(), dtype=float32)\n"
          ]
        },
        {
          "output_type": "stream",
          "name": "stderr",
          "text": [
            "100%|██████████| 19/19 [00:06<00:00,  3.05it/s]\n",
            "100%|██████████| 100/100 [00:13<00:00,  7.39it/s]\n"
          ]
        },
        {
          "output_type": "stream",
          "name": "stdout",
          "text": [
            "tf.Tensor(0.6150571, shape=(), dtype=float32)\n"
          ]
        },
        {
          "output_type": "stream",
          "name": "stderr",
          "text": [
            "100%|██████████| 19/19 [00:06<00:00,  2.92it/s]\n",
            "100%|██████████| 100/100 [00:13<00:00,  7.58it/s]\n"
          ]
        },
        {
          "output_type": "stream",
          "name": "stdout",
          "text": [
            "tf.Tensor(0.61626315, shape=(), dtype=float32)\n"
          ]
        },
        {
          "output_type": "stream",
          "name": "stderr",
          "text": [
            "100%|██████████| 38/38 [00:12<00:00,  3.06it/s]\n",
            "100%|██████████| 100/100 [00:13<00:00,  7.29it/s]\n"
          ]
        },
        {
          "output_type": "stream",
          "name": "stdout",
          "text": [
            "tf.Tensor(0.62622, shape=(), dtype=float32)\n"
          ]
        },
        {
          "output_type": "stream",
          "name": "stderr",
          "text": [
            "100%|██████████| 58/58 [00:19<00:00,  3.04it/s]\n",
            "100%|██████████| 100/100 [00:13<00:00,  7.52it/s]\n"
          ]
        },
        {
          "output_type": "stream",
          "name": "stdout",
          "text": [
            "tf.Tensor(0.61883116, shape=(), dtype=float32)\n"
          ]
        }
      ]
    },
    {
      "cell_type": "markdown",
      "source": [
        "EBR with Batch Weighting"
      ],
      "metadata": {
        "id": "SIqRjrD-1diD"
      }
    },
    {
      "cell_type": "code",
      "source": [
        "weights = [(institutions_t[i+1]-institutions_t[i])/80 for i in range(9)]\n",
        "weight_list=[0 for i in range(9)]\n",
        "model1 = model(input_shape = (240,240,4))\n",
        "model1.compile(optimizer=tf.keras.optimizers.Adam(learning_rate=0.001), loss=dice_log)\n",
        "\n",
        "replay_factor = 0.5\n",
        "EPOCHS = 34\n",
        "BATCH_SIZE=64\n",
        "scores_ebr_b_05_e1 = []\n",
        "gc.collect()\n",
        "import gc\n",
        "from tqdm import tqdm\n",
        "with tf.device(\"GPU:0\"):\n",
        "  for epoch in range(EPOCHS):\n",
        "    print(\"Epoch \"+str(epoch+1))\n",
        "    for ins in range(9):\n",
        "      length = len(X_train[155*institutions_t[ins]:155*institutions_t[ins+1]])\n",
        "      for iteration in tqdm(range(length//BATCH_SIZE)):\n",
        "        batch_indices = [random.randrange(0,length) for i in range(BATCH_SIZE)]\n",
        "        model1.train_on_batch((X_train[155*institutions_t[ins]:155*institutions_t[ins+1]][batch_indices])/maximum,(y_train[155*institutions_t[ins]:155*institutions_t[ins+1]][batch_indices])/4)\n",
        "      weight_list[ins]=model1.get_weights()\n",
        "      if epoch >0:\n",
        "        weights1 = [(9-ins+i)*weights[i] for i in range(0,ins)]+[0,]+[(-ins+i)*weights[i]  for i in range(ins+1,9)]\n",
        "        weights_sum = sum(weights1)\n",
        "        weights1 = [weights1[i]*replay_factor for i in range(9)]\n",
        "        weights1[ins]=(1-replay_factor)*weights_sum*weights[ins]\n",
        "        model_weights = fl_average_givenweights(weight_list,weights1)\n",
        "        model1.set_weights(model_weights)\n",
        "        #weight_list[ins]=model_weights\n",
        "      result = np.empty((3100,240,240,1),dtype='float32')\n",
        "      gc.collect()\n",
        "      for i in tqdm(range(20)):\n",
        "        result[i*155:(i+1)*155]=model1.predict(X_valid[i*155:(i+1)*155]/maximum)\n",
        "        gc.collect()\n",
        "      dice_score = dice_coef(y_valid/4,result)\n",
        "      scores_ebr_b_05_e1.append(dice_score)\n",
        "      print(dice_score)\n",
        "      gc.collect()\n",
        "np.save(\"drive/MyDrive/BraTS/scores_ebr_b_05_e1\",np.array(scores_ebr_b_05_e1))"
      ],
      "metadata": {
        "colab": {
          "base_uri": "https://localhost:8080/"
        },
        "id": "2SplfxT9Aiad",
        "outputId": "2726c77f-44e1-458e-c270-e5edc8c693be"
      },
      "execution_count": null,
      "outputs": [
        {
          "output_type": "stream",
          "name": "stdout",
          "text": [
            "(None, 256, 256, 4)\n",
            "(None, 240, 240, 1)\n",
            "Epoch 1\n"
          ]
        },
        {
          "output_type": "stream",
          "name": "stderr",
          "text": [
            "100%|██████████| 9/9 [00:06<00:00,  1.36it/s]\n",
            "100%|██████████| 20/20 [00:15<00:00,  1.30it/s]\n"
          ]
        },
        {
          "output_type": "stream",
          "name": "stdout",
          "text": [
            "tf.Tensor(0.011888243, shape=(), dtype=float32)\n"
          ]
        },
        {
          "output_type": "stream",
          "name": "stderr",
          "text": [
            "100%|██████████| 9/9 [00:04<00:00,  1.90it/s]\n",
            "100%|██████████| 20/20 [00:15<00:00,  1.32it/s]\n"
          ]
        },
        {
          "output_type": "stream",
          "name": "stdout",
          "text": [
            "tf.Tensor(0.01222059, shape=(), dtype=float32)\n"
          ]
        },
        {
          "output_type": "stream",
          "name": "stderr",
          "text": [
            "100%|██████████| 9/9 [00:04<00:00,  1.90it/s]\n",
            "100%|██████████| 20/20 [00:14<00:00,  1.33it/s]\n"
          ]
        },
        {
          "output_type": "stream",
          "name": "stdout",
          "text": [
            "tf.Tensor(0.012996465, shape=(), dtype=float32)\n"
          ]
        },
        {
          "output_type": "stream",
          "name": "stderr",
          "text": [
            "100%|██████████| 9/9 [00:04<00:00,  1.90it/s]\n",
            "100%|██████████| 20/20 [00:14<00:00,  1.33it/s]\n"
          ]
        },
        {
          "output_type": "stream",
          "name": "stdout",
          "text": [
            "tf.Tensor(0.010665971, shape=(), dtype=float32)\n"
          ]
        },
        {
          "output_type": "stream",
          "name": "stderr",
          "text": [
            "100%|██████████| 19/19 [00:10<00:00,  1.89it/s]\n",
            "100%|██████████| 20/20 [00:14<00:00,  1.33it/s]\n"
          ]
        },
        {
          "output_type": "stream",
          "name": "stdout",
          "text": [
            "tf.Tensor(0.0029363646, shape=(), dtype=float32)\n"
          ]
        },
        {
          "output_type": "stream",
          "name": "stderr",
          "text": [
            "100%|██████████| 19/19 [00:10<00:00,  1.89it/s]\n",
            "100%|██████████| 20/20 [00:15<00:00,  1.32it/s]\n"
          ]
        },
        {
          "output_type": "stream",
          "name": "stdout",
          "text": [
            "tf.Tensor(0.014278076, shape=(), dtype=float32)\n"
          ]
        },
        {
          "output_type": "stream",
          "name": "stderr",
          "text": [
            "100%|██████████| 19/19 [00:10<00:00,  1.89it/s]\n",
            "100%|██████████| 20/20 [00:15<00:00,  1.32it/s]\n"
          ]
        },
        {
          "output_type": "stream",
          "name": "stdout",
          "text": [
            "tf.Tensor(0.023927795, shape=(), dtype=float32)\n"
          ]
        },
        {
          "output_type": "stream",
          "name": "stderr",
          "text": [
            "100%|██████████| 38/38 [00:20<00:00,  1.89it/s]\n",
            "100%|██████████| 20/20 [00:15<00:00,  1.33it/s]\n"
          ]
        },
        {
          "output_type": "stream",
          "name": "stdout",
          "text": [
            "tf.Tensor(0.016813716, shape=(), dtype=float32)\n"
          ]
        },
        {
          "output_type": "stream",
          "name": "stderr",
          "text": [
            "100%|██████████| 58/58 [00:30<00:00,  1.89it/s]\n",
            "100%|██████████| 20/20 [00:15<00:00,  1.32it/s]\n"
          ]
        },
        {
          "output_type": "stream",
          "name": "stdout",
          "text": [
            "tf.Tensor(0.08497723, shape=(), dtype=float32)\n",
            "Epoch 2\n"
          ]
        },
        {
          "output_type": "stream",
          "name": "stderr",
          "text": [
            "100%|██████████| 9/9 [00:04<00:00,  1.90it/s]\n",
            "100%|██████████| 20/20 [00:15<00:00,  1.28it/s]\n"
          ]
        },
        {
          "output_type": "stream",
          "name": "stdout",
          "text": [
            "tf.Tensor(0.06715708, shape=(), dtype=float32)\n"
          ]
        },
        {
          "output_type": "stream",
          "name": "stderr",
          "text": [
            "100%|██████████| 9/9 [00:04<00:00,  1.89it/s]\n",
            "100%|██████████| 20/20 [00:15<00:00,  1.30it/s]\n"
          ]
        },
        {
          "output_type": "stream",
          "name": "stdout",
          "text": [
            "tf.Tensor(0.08061937, shape=(), dtype=float32)\n"
          ]
        },
        {
          "output_type": "stream",
          "name": "stderr",
          "text": [
            "100%|██████████| 9/9 [00:04<00:00,  1.88it/s]\n",
            "100%|██████████| 20/20 [00:15<00:00,  1.28it/s]\n"
          ]
        },
        {
          "output_type": "stream",
          "name": "stdout",
          "text": [
            "tf.Tensor(0.095039226, shape=(), dtype=float32)\n"
          ]
        },
        {
          "output_type": "stream",
          "name": "stderr",
          "text": [
            "100%|██████████| 9/9 [00:04<00:00,  1.90it/s]\n",
            "100%|██████████| 20/20 [00:15<00:00,  1.32it/s]\n"
          ]
        },
        {
          "output_type": "stream",
          "name": "stdout",
          "text": [
            "tf.Tensor(0.11522331, shape=(), dtype=float32)\n"
          ]
        },
        {
          "output_type": "stream",
          "name": "stderr",
          "text": [
            "100%|██████████| 19/19 [00:10<00:00,  1.89it/s]\n",
            "100%|██████████| 20/20 [00:15<00:00,  1.28it/s]\n"
          ]
        },
        {
          "output_type": "stream",
          "name": "stdout",
          "text": [
            "tf.Tensor(0.13242184, shape=(), dtype=float32)\n"
          ]
        },
        {
          "output_type": "stream",
          "name": "stderr",
          "text": [
            "100%|██████████| 19/19 [00:10<00:00,  1.90it/s]\n",
            "100%|██████████| 20/20 [00:15<00:00,  1.29it/s]\n"
          ]
        },
        {
          "output_type": "stream",
          "name": "stdout",
          "text": [
            "tf.Tensor(0.14438495, shape=(), dtype=float32)\n"
          ]
        },
        {
          "output_type": "stream",
          "name": "stderr",
          "text": [
            "100%|██████████| 19/19 [00:10<00:00,  1.89it/s]\n",
            "100%|██████████| 20/20 [00:15<00:00,  1.28it/s]\n"
          ]
        },
        {
          "output_type": "stream",
          "name": "stdout",
          "text": [
            "tf.Tensor(0.14155315, shape=(), dtype=float32)\n"
          ]
        },
        {
          "output_type": "stream",
          "name": "stderr",
          "text": [
            "100%|██████████| 38/38 [00:20<00:00,  1.87it/s]\n",
            "100%|██████████| 20/20 [00:15<00:00,  1.32it/s]\n"
          ]
        },
        {
          "output_type": "stream",
          "name": "stdout",
          "text": [
            "tf.Tensor(0.13829951, shape=(), dtype=float32)\n"
          ]
        },
        {
          "output_type": "stream",
          "name": "stderr",
          "text": [
            "100%|██████████| 58/58 [00:30<00:00,  1.90it/s]\n",
            "100%|██████████| 20/20 [00:15<00:00,  1.28it/s]\n"
          ]
        },
        {
          "output_type": "stream",
          "name": "stdout",
          "text": [
            "tf.Tensor(0.11646621, shape=(), dtype=float32)\n",
            "Epoch 3\n"
          ]
        },
        {
          "output_type": "stream",
          "name": "stderr",
          "text": [
            "100%|██████████| 9/9 [00:04<00:00,  1.90it/s]\n",
            "100%|██████████| 20/20 [00:15<00:00,  1.31it/s]\n"
          ]
        },
        {
          "output_type": "stream",
          "name": "stdout",
          "text": [
            "tf.Tensor(0.16297553, shape=(), dtype=float32)\n"
          ]
        },
        {
          "output_type": "stream",
          "name": "stderr",
          "text": [
            "100%|██████████| 9/9 [00:04<00:00,  1.88it/s]\n",
            "100%|██████████| 20/20 [00:15<00:00,  1.27it/s]\n"
          ]
        },
        {
          "output_type": "stream",
          "name": "stdout",
          "text": [
            "tf.Tensor(0.15068123, shape=(), dtype=float32)\n"
          ]
        },
        {
          "output_type": "stream",
          "name": "stderr",
          "text": [
            "100%|██████████| 9/9 [00:04<00:00,  1.89it/s]\n",
            "100%|██████████| 20/20 [00:15<00:00,  1.29it/s]\n"
          ]
        },
        {
          "output_type": "stream",
          "name": "stdout",
          "text": [
            "tf.Tensor(0.13855407, shape=(), dtype=float32)\n"
          ]
        },
        {
          "output_type": "stream",
          "name": "stderr",
          "text": [
            "100%|██████████| 9/9 [00:04<00:00,  1.89it/s]\n",
            "100%|██████████| 20/20 [00:15<00:00,  1.28it/s]\n"
          ]
        },
        {
          "output_type": "stream",
          "name": "stdout",
          "text": [
            "tf.Tensor(0.13644324, shape=(), dtype=float32)\n"
          ]
        },
        {
          "output_type": "stream",
          "name": "stderr",
          "text": [
            "100%|██████████| 19/19 [00:10<00:00,  1.89it/s]\n",
            "100%|██████████| 20/20 [00:15<00:00,  1.30it/s]\n"
          ]
        },
        {
          "output_type": "stream",
          "name": "stdout",
          "text": [
            "tf.Tensor(0.14824669, shape=(), dtype=float32)\n"
          ]
        },
        {
          "output_type": "stream",
          "name": "stderr",
          "text": [
            "100%|██████████| 19/19 [00:10<00:00,  1.88it/s]\n",
            "100%|██████████| 20/20 [00:15<00:00,  1.27it/s]\n"
          ]
        },
        {
          "output_type": "stream",
          "name": "stdout",
          "text": [
            "tf.Tensor(0.18672378, shape=(), dtype=float32)\n"
          ]
        },
        {
          "output_type": "stream",
          "name": "stderr",
          "text": [
            "100%|██████████| 19/19 [00:10<00:00,  1.89it/s]\n",
            "100%|██████████| 20/20 [00:15<00:00,  1.30it/s]\n"
          ]
        },
        {
          "output_type": "stream",
          "name": "stdout",
          "text": [
            "tf.Tensor(0.2039605, shape=(), dtype=float32)\n"
          ]
        },
        {
          "output_type": "stream",
          "name": "stderr",
          "text": [
            "100%|██████████| 38/38 [00:20<00:00,  1.90it/s]\n",
            "100%|██████████| 20/20 [00:15<00:00,  1.29it/s]\n"
          ]
        },
        {
          "output_type": "stream",
          "name": "stdout",
          "text": [
            "tf.Tensor(0.19344327, shape=(), dtype=float32)\n"
          ]
        },
        {
          "output_type": "stream",
          "name": "stderr",
          "text": [
            "100%|██████████| 58/58 [00:30<00:00,  1.90it/s]\n",
            "100%|██████████| 20/20 [00:15<00:00,  1.29it/s]\n"
          ]
        },
        {
          "output_type": "stream",
          "name": "stdout",
          "text": [
            "tf.Tensor(0.25585967, shape=(), dtype=float32)\n",
            "Epoch 4\n"
          ]
        },
        {
          "output_type": "stream",
          "name": "stderr",
          "text": [
            "100%|██████████| 9/9 [00:04<00:00,  1.89it/s]\n",
            "100%|██████████| 20/20 [00:15<00:00,  1.28it/s]\n"
          ]
        },
        {
          "output_type": "stream",
          "name": "stdout",
          "text": [
            "tf.Tensor(0.29574022, shape=(), dtype=float32)\n"
          ]
        },
        {
          "output_type": "stream",
          "name": "stderr",
          "text": [
            "100%|██████████| 9/9 [00:04<00:00,  1.89it/s]\n",
            "100%|██████████| 20/20 [00:15<00:00,  1.29it/s]\n"
          ]
        },
        {
          "output_type": "stream",
          "name": "stdout",
          "text": [
            "tf.Tensor(0.27728474, shape=(), dtype=float32)\n"
          ]
        },
        {
          "output_type": "stream",
          "name": "stderr",
          "text": [
            "100%|██████████| 9/9 [00:04<00:00,  1.89it/s]\n",
            "100%|██████████| 20/20 [00:15<00:00,  1.26it/s]\n"
          ]
        },
        {
          "output_type": "stream",
          "name": "stdout",
          "text": [
            "tf.Tensor(0.27104694, shape=(), dtype=float32)\n"
          ]
        },
        {
          "output_type": "stream",
          "name": "stderr",
          "text": [
            "100%|██████████| 9/9 [00:04<00:00,  1.89it/s]\n",
            "100%|██████████| 20/20 [00:15<00:00,  1.32it/s]\n"
          ]
        },
        {
          "output_type": "stream",
          "name": "stdout",
          "text": [
            "tf.Tensor(0.2820016, shape=(), dtype=float32)\n"
          ]
        },
        {
          "output_type": "stream",
          "name": "stderr",
          "text": [
            "100%|██████████| 19/19 [00:10<00:00,  1.89it/s]\n",
            "100%|██████████| 20/20 [00:15<00:00,  1.29it/s]\n"
          ]
        },
        {
          "output_type": "stream",
          "name": "stdout",
          "text": [
            "tf.Tensor(0.30415782, shape=(), dtype=float32)\n"
          ]
        },
        {
          "output_type": "stream",
          "name": "stderr",
          "text": [
            "100%|██████████| 19/19 [00:10<00:00,  1.89it/s]\n",
            "100%|██████████| 20/20 [00:15<00:00,  1.29it/s]\n"
          ]
        },
        {
          "output_type": "stream",
          "name": "stdout",
          "text": [
            "tf.Tensor(0.33660576, shape=(), dtype=float32)\n"
          ]
        },
        {
          "output_type": "stream",
          "name": "stderr",
          "text": [
            "100%|██████████| 19/19 [00:10<00:00,  1.89it/s]\n",
            "100%|██████████| 20/20 [00:15<00:00,  1.29it/s]\n"
          ]
        },
        {
          "output_type": "stream",
          "name": "stdout",
          "text": [
            "tf.Tensor(0.34471598, shape=(), dtype=float32)\n"
          ]
        },
        {
          "output_type": "stream",
          "name": "stderr",
          "text": [
            "100%|██████████| 38/38 [00:20<00:00,  1.90it/s]\n",
            "100%|██████████| 20/20 [00:15<00:00,  1.30it/s]\n"
          ]
        },
        {
          "output_type": "stream",
          "name": "stdout",
          "text": [
            "tf.Tensor(0.31184933, shape=(), dtype=float32)\n"
          ]
        },
        {
          "output_type": "stream",
          "name": "stderr",
          "text": [
            "100%|██████████| 58/58 [00:30<00:00,  1.90it/s]\n",
            "100%|██████████| 20/20 [00:15<00:00,  1.26it/s]\n"
          ]
        },
        {
          "output_type": "stream",
          "name": "stdout",
          "text": [
            "tf.Tensor(0.2833269, shape=(), dtype=float32)\n",
            "Epoch 5\n"
          ]
        },
        {
          "output_type": "stream",
          "name": "stderr",
          "text": [
            "100%|██████████| 9/9 [00:04<00:00,  1.89it/s]\n",
            "100%|██████████| 20/20 [00:15<00:00,  1.29it/s]\n"
          ]
        },
        {
          "output_type": "stream",
          "name": "stdout",
          "text": [
            "tf.Tensor(0.2884114, shape=(), dtype=float32)\n"
          ]
        },
        {
          "output_type": "stream",
          "name": "stderr",
          "text": [
            "100%|██████████| 9/9 [00:04<00:00,  1.87it/s]\n",
            "100%|██████████| 20/20 [00:15<00:00,  1.28it/s]\n"
          ]
        },
        {
          "output_type": "stream",
          "name": "stdout",
          "text": [
            "tf.Tensor(0.26947445, shape=(), dtype=float32)\n"
          ]
        },
        {
          "output_type": "stream",
          "name": "stderr",
          "text": [
            "100%|██████████| 9/9 [00:04<00:00,  1.89it/s]\n",
            "100%|██████████| 20/20 [00:15<00:00,  1.27it/s]\n"
          ]
        },
        {
          "output_type": "stream",
          "name": "stdout",
          "text": [
            "tf.Tensor(0.26105803, shape=(), dtype=float32)\n"
          ]
        },
        {
          "output_type": "stream",
          "name": "stderr",
          "text": [
            "100%|██████████| 9/9 [00:04<00:00,  1.88it/s]\n",
            "100%|██████████| 20/20 [00:15<00:00,  1.28it/s]\n"
          ]
        },
        {
          "output_type": "stream",
          "name": "stdout",
          "text": [
            "tf.Tensor(0.270249, shape=(), dtype=float32)\n"
          ]
        },
        {
          "output_type": "stream",
          "name": "stderr",
          "text": [
            "100%|██████████| 19/19 [00:10<00:00,  1.89it/s]\n",
            "100%|██████████| 20/20 [00:15<00:00,  1.29it/s]\n"
          ]
        },
        {
          "output_type": "stream",
          "name": "stdout",
          "text": [
            "tf.Tensor(0.28279677, shape=(), dtype=float32)\n"
          ]
        },
        {
          "output_type": "stream",
          "name": "stderr",
          "text": [
            "100%|██████████| 19/19 [00:10<00:00,  1.89it/s]\n",
            "100%|██████████| 20/20 [00:15<00:00,  1.26it/s]\n"
          ]
        },
        {
          "output_type": "stream",
          "name": "stdout",
          "text": [
            "tf.Tensor(0.29318082, shape=(), dtype=float32)\n"
          ]
        },
        {
          "output_type": "stream",
          "name": "stderr",
          "text": [
            "100%|██████████| 19/19 [00:10<00:00,  1.90it/s]\n",
            "100%|██████████| 20/20 [00:15<00:00,  1.29it/s]\n"
          ]
        },
        {
          "output_type": "stream",
          "name": "stdout",
          "text": [
            "tf.Tensor(0.30226398, shape=(), dtype=float32)\n"
          ]
        },
        {
          "output_type": "stream",
          "name": "stderr",
          "text": [
            "100%|██████████| 38/38 [00:20<00:00,  1.89it/s]\n",
            "100%|██████████| 20/20 [00:15<00:00,  1.29it/s]\n"
          ]
        },
        {
          "output_type": "stream",
          "name": "stdout",
          "text": [
            "tf.Tensor(0.31065857, shape=(), dtype=float32)\n"
          ]
        },
        {
          "output_type": "stream",
          "name": "stderr",
          "text": [
            "100%|██████████| 58/58 [00:30<00:00,  1.89it/s]\n",
            "100%|██████████| 20/20 [00:15<00:00,  1.29it/s]\n"
          ]
        },
        {
          "output_type": "stream",
          "name": "stdout",
          "text": [
            "tf.Tensor(0.3449182, shape=(), dtype=float32)\n",
            "Epoch 6\n"
          ]
        },
        {
          "output_type": "stream",
          "name": "stderr",
          "text": [
            "100%|██████████| 9/9 [00:04<00:00,  1.89it/s]\n",
            "100%|██████████| 20/20 [00:15<00:00,  1.28it/s]\n"
          ]
        },
        {
          "output_type": "stream",
          "name": "stdout",
          "text": [
            "tf.Tensor(0.37661922, shape=(), dtype=float32)\n"
          ]
        },
        {
          "output_type": "stream",
          "name": "stderr",
          "text": [
            "100%|██████████| 9/9 [00:04<00:00,  1.88it/s]\n",
            "100%|██████████| 20/20 [00:15<00:00,  1.29it/s]\n"
          ]
        },
        {
          "output_type": "stream",
          "name": "stdout",
          "text": [
            "tf.Tensor(0.36171275, shape=(), dtype=float32)\n"
          ]
        },
        {
          "output_type": "stream",
          "name": "stderr",
          "text": [
            "100%|██████████| 9/9 [00:04<00:00,  1.87it/s]\n",
            "100%|██████████| 20/20 [00:15<00:00,  1.28it/s]\n"
          ]
        },
        {
          "output_type": "stream",
          "name": "stdout",
          "text": [
            "tf.Tensor(0.3490144, shape=(), dtype=float32)\n"
          ]
        },
        {
          "output_type": "stream",
          "name": "stderr",
          "text": [
            "100%|██████████| 9/9 [00:04<00:00,  1.89it/s]\n",
            "100%|██████████| 20/20 [00:15<00:00,  1.29it/s]\n"
          ]
        },
        {
          "output_type": "stream",
          "name": "stdout",
          "text": [
            "tf.Tensor(0.35769057, shape=(), dtype=float32)\n"
          ]
        },
        {
          "output_type": "stream",
          "name": "stderr",
          "text": [
            "100%|██████████| 19/19 [00:10<00:00,  1.90it/s]\n",
            "100%|██████████| 20/20 [00:15<00:00,  1.28it/s]\n"
          ]
        },
        {
          "output_type": "stream",
          "name": "stdout",
          "text": [
            "tf.Tensor(0.37513062, shape=(), dtype=float32)\n"
          ]
        },
        {
          "output_type": "stream",
          "name": "stderr",
          "text": [
            "100%|██████████| 19/19 [00:10<00:00,  1.89it/s]\n",
            "100%|██████████| 20/20 [00:15<00:00,  1.28it/s]\n"
          ]
        },
        {
          "output_type": "stream",
          "name": "stdout",
          "text": [
            "tf.Tensor(0.38759705, shape=(), dtype=float32)\n"
          ]
        },
        {
          "output_type": "stream",
          "name": "stderr",
          "text": [
            "100%|██████████| 19/19 [00:10<00:00,  1.89it/s]\n",
            "100%|██████████| 20/20 [00:15<00:00,  1.29it/s]\n"
          ]
        },
        {
          "output_type": "stream",
          "name": "stdout",
          "text": [
            "tf.Tensor(0.38543093, shape=(), dtype=float32)\n"
          ]
        },
        {
          "output_type": "stream",
          "name": "stderr",
          "text": [
            "100%|██████████| 38/38 [00:20<00:00,  1.90it/s]\n",
            "100%|██████████| 20/20 [00:15<00:00,  1.29it/s]\n"
          ]
        },
        {
          "output_type": "stream",
          "name": "stdout",
          "text": [
            "tf.Tensor(0.38756913, shape=(), dtype=float32)\n"
          ]
        },
        {
          "output_type": "stream",
          "name": "stderr",
          "text": [
            "100%|██████████| 58/58 [00:30<00:00,  1.89it/s]\n",
            "100%|██████████| 20/20 [00:15<00:00,  1.28it/s]\n"
          ]
        },
        {
          "output_type": "stream",
          "name": "stdout",
          "text": [
            "tf.Tensor(0.40200168, shape=(), dtype=float32)\n",
            "Epoch 7\n"
          ]
        },
        {
          "output_type": "stream",
          "name": "stderr",
          "text": [
            "100%|██████████| 9/9 [00:04<00:00,  1.89it/s]\n",
            "100%|██████████| 20/20 [00:15<00:00,  1.29it/s]\n"
          ]
        },
        {
          "output_type": "stream",
          "name": "stdout",
          "text": [
            "tf.Tensor(0.41374975, shape=(), dtype=float32)\n"
          ]
        },
        {
          "output_type": "stream",
          "name": "stderr",
          "text": [
            "100%|██████████| 9/9 [00:04<00:00,  1.89it/s]\n",
            "100%|██████████| 20/20 [00:15<00:00,  1.29it/s]\n"
          ]
        },
        {
          "output_type": "stream",
          "name": "stdout",
          "text": [
            "tf.Tensor(0.40074122, shape=(), dtype=float32)\n"
          ]
        },
        {
          "output_type": "stream",
          "name": "stderr",
          "text": [
            "100%|██████████| 9/9 [00:04<00:00,  1.89it/s]\n",
            "100%|██████████| 20/20 [00:15<00:00,  1.28it/s]\n"
          ]
        },
        {
          "output_type": "stream",
          "name": "stdout",
          "text": [
            "tf.Tensor(0.39123785, shape=(), dtype=float32)\n"
          ]
        },
        {
          "output_type": "stream",
          "name": "stderr",
          "text": [
            "100%|██████████| 9/9 [00:04<00:00,  1.89it/s]\n",
            "100%|██████████| 20/20 [00:15<00:00,  1.28it/s]\n"
          ]
        },
        {
          "output_type": "stream",
          "name": "stdout",
          "text": [
            "tf.Tensor(0.395751, shape=(), dtype=float32)\n"
          ]
        },
        {
          "output_type": "stream",
          "name": "stderr",
          "text": [
            "100%|██████████| 19/19 [00:10<00:00,  1.89it/s]\n",
            "100%|██████████| 20/20 [00:15<00:00,  1.29it/s]\n"
          ]
        },
        {
          "output_type": "stream",
          "name": "stdout",
          "text": [
            "tf.Tensor(0.40656662, shape=(), dtype=float32)\n"
          ]
        },
        {
          "output_type": "stream",
          "name": "stderr",
          "text": [
            "100%|██████████| 19/19 [00:10<00:00,  1.89it/s]\n",
            "100%|██████████| 20/20 [00:15<00:00,  1.29it/s]\n"
          ]
        },
        {
          "output_type": "stream",
          "name": "stdout",
          "text": [
            "tf.Tensor(0.42229164, shape=(), dtype=float32)\n"
          ]
        },
        {
          "output_type": "stream",
          "name": "stderr",
          "text": [
            "100%|██████████| 19/19 [00:10<00:00,  1.90it/s]\n",
            "100%|██████████| 20/20 [00:15<00:00,  1.30it/s]\n"
          ]
        },
        {
          "output_type": "stream",
          "name": "stdout",
          "text": [
            "tf.Tensor(0.4337114, shape=(), dtype=float32)\n"
          ]
        },
        {
          "output_type": "stream",
          "name": "stderr",
          "text": [
            "100%|██████████| 38/38 [00:20<00:00,  1.89it/s]\n",
            "100%|██████████| 20/20 [00:15<00:00,  1.29it/s]\n"
          ]
        },
        {
          "output_type": "stream",
          "name": "stdout",
          "text": [
            "tf.Tensor(0.44512767, shape=(), dtype=float32)\n"
          ]
        },
        {
          "output_type": "stream",
          "name": "stderr",
          "text": [
            "100%|██████████| 58/58 [00:30<00:00,  1.90it/s]\n",
            "100%|██████████| 20/20 [00:15<00:00,  1.29it/s]\n"
          ]
        },
        {
          "output_type": "stream",
          "name": "stdout",
          "text": [
            "tf.Tensor(0.46985275, shape=(), dtype=float32)\n",
            "Epoch 8\n"
          ]
        },
        {
          "output_type": "stream",
          "name": "stderr",
          "text": [
            "100%|██████████| 9/9 [00:04<00:00,  1.87it/s]\n",
            "100%|██████████| 20/20 [00:15<00:00,  1.28it/s]\n"
          ]
        },
        {
          "output_type": "stream",
          "name": "stdout",
          "text": [
            "tf.Tensor(0.48707575, shape=(), dtype=float32)\n"
          ]
        },
        {
          "output_type": "stream",
          "name": "stderr",
          "text": [
            "100%|██████████| 9/9 [00:04<00:00,  1.89it/s]\n",
            "100%|██████████| 20/20 [00:15<00:00,  1.32it/s]\n"
          ]
        },
        {
          "output_type": "stream",
          "name": "stdout",
          "text": [
            "tf.Tensor(0.48373216, shape=(), dtype=float32)\n"
          ]
        },
        {
          "output_type": "stream",
          "name": "stderr",
          "text": [
            "100%|██████████| 9/9 [00:04<00:00,  1.88it/s]\n",
            "100%|██████████| 20/20 [00:15<00:00,  1.28it/s]\n"
          ]
        },
        {
          "output_type": "stream",
          "name": "stdout",
          "text": [
            "tf.Tensor(0.47896752, shape=(), dtype=float32)\n"
          ]
        },
        {
          "output_type": "stream",
          "name": "stderr",
          "text": [
            "100%|██████████| 9/9 [00:04<00:00,  1.89it/s]\n",
            "100%|██████████| 20/20 [00:15<00:00,  1.29it/s]\n"
          ]
        },
        {
          "output_type": "stream",
          "name": "stdout",
          "text": [
            "tf.Tensor(0.48177308, shape=(), dtype=float32)\n"
          ]
        },
        {
          "output_type": "stream",
          "name": "stderr",
          "text": [
            "100%|██████████| 19/19 [00:10<00:00,  1.89it/s]\n",
            "100%|██████████| 20/20 [00:15<00:00,  1.27it/s]\n"
          ]
        },
        {
          "output_type": "stream",
          "name": "stdout",
          "text": [
            "tf.Tensor(0.4917171, shape=(), dtype=float32)\n"
          ]
        },
        {
          "output_type": "stream",
          "name": "stderr",
          "text": [
            "100%|██████████| 19/19 [00:10<00:00,  1.90it/s]\n",
            "100%|██████████| 20/20 [00:15<00:00,  1.32it/s]\n"
          ]
        },
        {
          "output_type": "stream",
          "name": "stdout",
          "text": [
            "tf.Tensor(0.5068369, shape=(), dtype=float32)\n"
          ]
        },
        {
          "output_type": "stream",
          "name": "stderr",
          "text": [
            "100%|██████████| 19/19 [00:10<00:00,  1.90it/s]\n",
            "100%|██████████| 20/20 [00:15<00:00,  1.28it/s]\n"
          ]
        },
        {
          "output_type": "stream",
          "name": "stdout",
          "text": [
            "tf.Tensor(0.5185912, shape=(), dtype=float32)\n"
          ]
        },
        {
          "output_type": "stream",
          "name": "stderr",
          "text": [
            "100%|██████████| 38/38 [00:20<00:00,  1.90it/s]\n",
            "100%|██████████| 20/20 [00:15<00:00,  1.30it/s]\n"
          ]
        },
        {
          "output_type": "stream",
          "name": "stdout",
          "text": [
            "tf.Tensor(0.5211548, shape=(), dtype=float32)\n"
          ]
        },
        {
          "output_type": "stream",
          "name": "stderr",
          "text": [
            "100%|██████████| 58/58 [00:30<00:00,  1.89it/s]\n",
            "100%|██████████| 20/20 [00:15<00:00,  1.28it/s]\n"
          ]
        },
        {
          "output_type": "stream",
          "name": "stdout",
          "text": [
            "tf.Tensor(0.5129581, shape=(), dtype=float32)\n",
            "Epoch 9\n"
          ]
        },
        {
          "output_type": "stream",
          "name": "stderr",
          "text": [
            "100%|██████████| 9/9 [00:04<00:00,  1.91it/s]\n",
            "100%|██████████| 20/20 [00:15<00:00,  1.30it/s]\n"
          ]
        },
        {
          "output_type": "stream",
          "name": "stdout",
          "text": [
            "tf.Tensor(0.5227739, shape=(), dtype=float32)\n"
          ]
        },
        {
          "output_type": "stream",
          "name": "stderr",
          "text": [
            "100%|██████████| 9/9 [00:04<00:00,  1.89it/s]\n",
            "100%|██████████| 20/20 [00:15<00:00,  1.28it/s]\n"
          ]
        },
        {
          "output_type": "stream",
          "name": "stdout",
          "text": [
            "tf.Tensor(0.51780015, shape=(), dtype=float32)\n"
          ]
        },
        {
          "output_type": "stream",
          "name": "stderr",
          "text": [
            "100%|██████████| 9/9 [00:04<00:00,  1.89it/s]\n",
            "100%|██████████| 20/20 [00:15<00:00,  1.29it/s]\n"
          ]
        },
        {
          "output_type": "stream",
          "name": "stdout",
          "text": [
            "tf.Tensor(0.5129101, shape=(), dtype=float32)\n"
          ]
        },
        {
          "output_type": "stream",
          "name": "stderr",
          "text": [
            "100%|██████████| 9/9 [00:04<00:00,  1.90it/s]\n",
            "100%|██████████| 20/20 [00:15<00:00,  1.26it/s]\n"
          ]
        },
        {
          "output_type": "stream",
          "name": "stdout",
          "text": [
            "tf.Tensor(0.5200584, shape=(), dtype=float32)\n"
          ]
        },
        {
          "output_type": "stream",
          "name": "stderr",
          "text": [
            "100%|██████████| 19/19 [00:10<00:00,  1.89it/s]\n",
            "100%|██████████| 20/20 [00:15<00:00,  1.29it/s]\n"
          ]
        },
        {
          "output_type": "stream",
          "name": "stdout",
          "text": [
            "tf.Tensor(0.5355789, shape=(), dtype=float32)\n"
          ]
        },
        {
          "output_type": "stream",
          "name": "stderr",
          "text": [
            "100%|██████████| 19/19 [00:10<00:00,  1.89it/s]\n",
            "100%|██████████| 20/20 [00:15<00:00,  1.28it/s]\n"
          ]
        },
        {
          "output_type": "stream",
          "name": "stdout",
          "text": [
            "tf.Tensor(0.5590124, shape=(), dtype=float32)\n"
          ]
        },
        {
          "output_type": "stream",
          "name": "stderr",
          "text": [
            "100%|██████████| 19/19 [00:10<00:00,  1.89it/s]\n",
            "100%|██████████| 20/20 [00:15<00:00,  1.29it/s]\n"
          ]
        },
        {
          "output_type": "stream",
          "name": "stdout",
          "text": [
            "tf.Tensor(0.573348, shape=(), dtype=float32)\n"
          ]
        },
        {
          "output_type": "stream",
          "name": "stderr",
          "text": [
            "100%|██████████| 38/38 [00:20<00:00,  1.88it/s]\n",
            "100%|██████████| 20/20 [00:15<00:00,  1.29it/s]\n"
          ]
        },
        {
          "output_type": "stream",
          "name": "stdout",
          "text": [
            "tf.Tensor(0.57253087, shape=(), dtype=float32)\n"
          ]
        },
        {
          "output_type": "stream",
          "name": "stderr",
          "text": [
            "100%|██████████| 58/58 [00:30<00:00,  1.90it/s]\n",
            "100%|██████████| 20/20 [00:15<00:00,  1.29it/s]\n"
          ]
        },
        {
          "output_type": "stream",
          "name": "stdout",
          "text": [
            "tf.Tensor(0.5549724, shape=(), dtype=float32)\n",
            "Epoch 10\n"
          ]
        },
        {
          "output_type": "stream",
          "name": "stderr",
          "text": [
            "100%|██████████| 9/9 [00:04<00:00,  1.89it/s]\n",
            "100%|██████████| 20/20 [00:15<00:00,  1.27it/s]\n"
          ]
        },
        {
          "output_type": "stream",
          "name": "stdout",
          "text": [
            "tf.Tensor(0.5417101, shape=(), dtype=float32)\n"
          ]
        },
        {
          "output_type": "stream",
          "name": "stderr",
          "text": [
            "100%|██████████| 9/9 [00:04<00:00,  1.87it/s]\n",
            "100%|██████████| 20/20 [00:15<00:00,  1.30it/s]\n"
          ]
        },
        {
          "output_type": "stream",
          "name": "stdout",
          "text": [
            "tf.Tensor(0.53621626, shape=(), dtype=float32)\n"
          ]
        },
        {
          "output_type": "stream",
          "name": "stderr",
          "text": [
            "100%|██████████| 9/9 [00:04<00:00,  1.90it/s]\n",
            "100%|██████████| 20/20 [00:15<00:00,  1.28it/s]\n"
          ]
        },
        {
          "output_type": "stream",
          "name": "stdout",
          "text": [
            "tf.Tensor(0.5307227, shape=(), dtype=float32)\n"
          ]
        },
        {
          "output_type": "stream",
          "name": "stderr",
          "text": [
            "100%|██████████| 9/9 [00:04<00:00,  1.90it/s]\n",
            "100%|██████████| 20/20 [00:15<00:00,  1.30it/s]\n"
          ]
        },
        {
          "output_type": "stream",
          "name": "stdout",
          "text": [
            "tf.Tensor(0.5330086, shape=(), dtype=float32)\n"
          ]
        },
        {
          "output_type": "stream",
          "name": "stderr",
          "text": [
            "100%|██████████| 19/19 [00:10<00:00,  1.89it/s]\n",
            "100%|██████████| 20/20 [00:15<00:00,  1.27it/s]\n"
          ]
        },
        {
          "output_type": "stream",
          "name": "stdout",
          "text": [
            "tf.Tensor(0.5396117, shape=(), dtype=float32)\n"
          ]
        },
        {
          "output_type": "stream",
          "name": "stderr",
          "text": [
            "100%|██████████| 19/19 [00:10<00:00,  1.89it/s]\n",
            "100%|██████████| 20/20 [00:15<00:00,  1.30it/s]\n"
          ]
        },
        {
          "output_type": "stream",
          "name": "stdout",
          "text": [
            "tf.Tensor(0.54648566, shape=(), dtype=float32)\n"
          ]
        },
        {
          "output_type": "stream",
          "name": "stderr",
          "text": [
            "100%|██████████| 19/19 [00:10<00:00,  1.89it/s]\n",
            "100%|██████████| 20/20 [00:15<00:00,  1.29it/s]\n"
          ]
        },
        {
          "output_type": "stream",
          "name": "stdout",
          "text": [
            "tf.Tensor(0.55028504, shape=(), dtype=float32)\n"
          ]
        },
        {
          "output_type": "stream",
          "name": "stderr",
          "text": [
            "100%|██████████| 38/38 [00:20<00:00,  1.90it/s]\n",
            "100%|██████████| 20/20 [00:15<00:00,  1.29it/s]\n"
          ]
        },
        {
          "output_type": "stream",
          "name": "stdout",
          "text": [
            "tf.Tensor(0.55122113, shape=(), dtype=float32)\n"
          ]
        },
        {
          "output_type": "stream",
          "name": "stderr",
          "text": [
            "100%|██████████| 58/58 [00:30<00:00,  1.89it/s]\n",
            "100%|██████████| 20/20 [00:15<00:00,  1.28it/s]\n"
          ]
        },
        {
          "output_type": "stream",
          "name": "stdout",
          "text": [
            "tf.Tensor(0.5540085, shape=(), dtype=float32)\n",
            "Epoch 11\n"
          ]
        },
        {
          "output_type": "stream",
          "name": "stderr",
          "text": [
            "100%|██████████| 9/9 [00:04<00:00,  1.89it/s]\n",
            "100%|██████████| 20/20 [00:15<00:00,  1.30it/s]\n"
          ]
        },
        {
          "output_type": "stream",
          "name": "stdout",
          "text": [
            "tf.Tensor(0.5493808, shape=(), dtype=float32)\n"
          ]
        },
        {
          "output_type": "stream",
          "name": "stderr",
          "text": [
            "100%|██████████| 9/9 [00:04<00:00,  1.89it/s]\n",
            "100%|██████████| 20/20 [00:15<00:00,  1.28it/s]\n"
          ]
        },
        {
          "output_type": "stream",
          "name": "stdout",
          "text": [
            "tf.Tensor(0.54579574, shape=(), dtype=float32)\n"
          ]
        },
        {
          "output_type": "stream",
          "name": "stderr",
          "text": [
            "100%|██████████| 9/9 [00:04<00:00,  1.89it/s]\n",
            "100%|██████████| 20/20 [00:15<00:00,  1.30it/s]\n"
          ]
        },
        {
          "output_type": "stream",
          "name": "stdout",
          "text": [
            "tf.Tensor(0.54382867, shape=(), dtype=float32)\n"
          ]
        },
        {
          "output_type": "stream",
          "name": "stderr",
          "text": [
            "100%|██████████| 9/9 [00:04<00:00,  1.87it/s]\n",
            "100%|██████████| 20/20 [00:15<00:00,  1.29it/s]\n"
          ]
        },
        {
          "output_type": "stream",
          "name": "stdout",
          "text": [
            "tf.Tensor(0.547368, shape=(), dtype=float32)\n"
          ]
        },
        {
          "output_type": "stream",
          "name": "stderr",
          "text": [
            "100%|██████████| 19/19 [00:10<00:00,  1.89it/s]\n",
            "100%|██████████| 20/20 [00:15<00:00,  1.30it/s]\n"
          ]
        },
        {
          "output_type": "stream",
          "name": "stdout",
          "text": [
            "tf.Tensor(0.5548866, shape=(), dtype=float32)\n"
          ]
        },
        {
          "output_type": "stream",
          "name": "stderr",
          "text": [
            "100%|██████████| 19/19 [00:10<00:00,  1.89it/s]\n",
            "100%|██████████| 20/20 [00:15<00:00,  1.28it/s]\n"
          ]
        },
        {
          "output_type": "stream",
          "name": "stdout",
          "text": [
            "tf.Tensor(0.5633193, shape=(), dtype=float32)\n"
          ]
        },
        {
          "output_type": "stream",
          "name": "stderr",
          "text": [
            "100%|██████████| 19/19 [00:09<00:00,  1.90it/s]\n",
            "100%|██████████| 20/20 [00:15<00:00,  1.30it/s]\n"
          ]
        },
        {
          "output_type": "stream",
          "name": "stdout",
          "text": [
            "tf.Tensor(0.5710403, shape=(), dtype=float32)\n"
          ]
        },
        {
          "output_type": "stream",
          "name": "stderr",
          "text": [
            "100%|██████████| 38/38 [00:20<00:00,  1.89it/s]\n",
            "100%|██████████| 20/20 [00:15<00:00,  1.26it/s]\n"
          ]
        },
        {
          "output_type": "stream",
          "name": "stdout",
          "text": [
            "tf.Tensor(0.5749242, shape=(), dtype=float32)\n"
          ]
        },
        {
          "output_type": "stream",
          "name": "stderr",
          "text": [
            "100%|██████████| 58/58 [00:30<00:00,  1.90it/s]\n",
            "100%|██████████| 20/20 [00:15<00:00,  1.30it/s]\n"
          ]
        },
        {
          "output_type": "stream",
          "name": "stdout",
          "text": [
            "tf.Tensor(0.57644707, shape=(), dtype=float32)\n",
            "Epoch 12\n"
          ]
        },
        {
          "output_type": "stream",
          "name": "stderr",
          "text": [
            "100%|██████████| 9/9 [00:04<00:00,  1.86it/s]\n",
            "100%|██████████| 20/20 [00:15<00:00,  1.28it/s]\n"
          ]
        },
        {
          "output_type": "stream",
          "name": "stdout",
          "text": [
            "tf.Tensor(0.5744812, shape=(), dtype=float32)\n"
          ]
        },
        {
          "output_type": "stream",
          "name": "stderr",
          "text": [
            "100%|██████████| 9/9 [00:04<00:00,  1.88it/s]\n",
            "100%|██████████| 20/20 [00:15<00:00,  1.29it/s]\n"
          ]
        },
        {
          "output_type": "stream",
          "name": "stdout",
          "text": [
            "tf.Tensor(0.57274854, shape=(), dtype=float32)\n"
          ]
        },
        {
          "output_type": "stream",
          "name": "stderr",
          "text": [
            "100%|██████████| 9/9 [00:04<00:00,  1.87it/s]\n",
            "100%|██████████| 20/20 [00:15<00:00,  1.28it/s]\n"
          ]
        },
        {
          "output_type": "stream",
          "name": "stdout",
          "text": [
            "tf.Tensor(0.5718112, shape=(), dtype=float32)\n"
          ]
        },
        {
          "output_type": "stream",
          "name": "stderr",
          "text": [
            "100%|██████████| 9/9 [00:04<00:00,  1.89it/s]\n",
            "100%|██████████| 20/20 [00:15<00:00,  1.28it/s]\n"
          ]
        },
        {
          "output_type": "stream",
          "name": "stdout",
          "text": [
            "tf.Tensor(0.57385415, shape=(), dtype=float32)\n"
          ]
        },
        {
          "output_type": "stream",
          "name": "stderr",
          "text": [
            "100%|██████████| 19/19 [00:10<00:00,  1.89it/s]\n",
            "100%|██████████| 20/20 [00:15<00:00,  1.27it/s]\n"
          ]
        },
        {
          "output_type": "stream",
          "name": "stdout",
          "text": [
            "tf.Tensor(0.57851017, shape=(), dtype=float32)\n"
          ]
        },
        {
          "output_type": "stream",
          "name": "stderr",
          "text": [
            "100%|██████████| 19/19 [00:10<00:00,  1.89it/s]\n",
            "100%|██████████| 20/20 [00:15<00:00,  1.29it/s]\n"
          ]
        },
        {
          "output_type": "stream",
          "name": "stdout",
          "text": [
            "tf.Tensor(0.58529496, shape=(), dtype=float32)\n"
          ]
        },
        {
          "output_type": "stream",
          "name": "stderr",
          "text": [
            "100%|██████████| 19/19 [00:10<00:00,  1.88it/s]\n",
            "100%|██████████| 20/20 [00:15<00:00,  1.28it/s]\n"
          ]
        },
        {
          "output_type": "stream",
          "name": "stdout",
          "text": [
            "tf.Tensor(0.59291047, shape=(), dtype=float32)\n"
          ]
        },
        {
          "output_type": "stream",
          "name": "stderr",
          "text": [
            "100%|██████████| 38/38 [00:20<00:00,  1.89it/s]\n",
            "100%|██████████| 20/20 [00:15<00:00,  1.30it/s]\n"
          ]
        },
        {
          "output_type": "stream",
          "name": "stdout",
          "text": [
            "tf.Tensor(0.60013753, shape=(), dtype=float32)\n"
          ]
        },
        {
          "output_type": "stream",
          "name": "stderr",
          "text": [
            "100%|██████████| 58/58 [00:30<00:00,  1.90it/s]\n",
            "100%|██████████| 20/20 [00:15<00:00,  1.27it/s]\n"
          ]
        },
        {
          "output_type": "stream",
          "name": "stdout",
          "text": [
            "tf.Tensor(0.59675795, shape=(), dtype=float32)\n",
            "Epoch 13\n"
          ]
        },
        {
          "output_type": "stream",
          "name": "stderr",
          "text": [
            "100%|██████████| 9/9 [00:04<00:00,  1.88it/s]\n",
            "100%|██████████| 20/20 [00:15<00:00,  1.29it/s]\n"
          ]
        },
        {
          "output_type": "stream",
          "name": "stdout",
          "text": [
            "tf.Tensor(0.58822966, shape=(), dtype=float32)\n"
          ]
        },
        {
          "output_type": "stream",
          "name": "stderr",
          "text": [
            "100%|██████████| 9/9 [00:04<00:00,  1.89it/s]\n",
            "100%|██████████| 20/20 [00:15<00:00,  1.27it/s]\n"
          ]
        },
        {
          "output_type": "stream",
          "name": "stdout",
          "text": [
            "tf.Tensor(0.58584964, shape=(), dtype=float32)\n"
          ]
        },
        {
          "output_type": "stream",
          "name": "stderr",
          "text": [
            "100%|██████████| 9/9 [00:04<00:00,  1.88it/s]\n",
            "100%|██████████| 20/20 [00:15<00:00,  1.30it/s]\n"
          ]
        },
        {
          "output_type": "stream",
          "name": "stdout",
          "text": [
            "tf.Tensor(0.5837678, shape=(), dtype=float32)\n"
          ]
        },
        {
          "output_type": "stream",
          "name": "stderr",
          "text": [
            "100%|██████████| 9/9 [00:04<00:00,  1.89it/s]\n",
            "100%|██████████| 20/20 [00:15<00:00,  1.26it/s]\n"
          ]
        },
        {
          "output_type": "stream",
          "name": "stdout",
          "text": [
            "tf.Tensor(0.58264756, shape=(), dtype=float32)\n"
          ]
        },
        {
          "output_type": "stream",
          "name": "stderr",
          "text": [
            "100%|██████████| 19/19 [00:10<00:00,  1.89it/s]\n",
            "100%|██████████| 20/20 [00:15<00:00,  1.30it/s]\n"
          ]
        },
        {
          "output_type": "stream",
          "name": "stdout",
          "text": [
            "tf.Tensor(0.5838633, shape=(), dtype=float32)\n"
          ]
        },
        {
          "output_type": "stream",
          "name": "stderr",
          "text": [
            "100%|██████████| 19/19 [00:10<00:00,  1.88it/s]\n",
            "100%|██████████| 20/20 [00:15<00:00,  1.27it/s]\n"
          ]
        },
        {
          "output_type": "stream",
          "name": "stdout",
          "text": [
            "tf.Tensor(0.5889154, shape=(), dtype=float32)\n"
          ]
        },
        {
          "output_type": "stream",
          "name": "stderr",
          "text": [
            "100%|██████████| 19/19 [00:10<00:00,  1.89it/s]\n",
            "100%|██████████| 20/20 [00:15<00:00,  1.30it/s]\n"
          ]
        },
        {
          "output_type": "stream",
          "name": "stdout",
          "text": [
            "tf.Tensor(0.59308875, shape=(), dtype=float32)\n"
          ]
        },
        {
          "output_type": "stream",
          "name": "stderr",
          "text": [
            "100%|██████████| 38/38 [00:20<00:00,  1.89it/s]\n",
            "100%|██████████| 20/20 [00:15<00:00,  1.28it/s]\n"
          ]
        },
        {
          "output_type": "stream",
          "name": "stdout",
          "text": [
            "tf.Tensor(0.5997329, shape=(), dtype=float32)\n"
          ]
        },
        {
          "output_type": "stream",
          "name": "stderr",
          "text": [
            "100%|██████████| 58/58 [00:30<00:00,  1.89it/s]\n",
            "100%|██████████| 20/20 [00:15<00:00,  1.30it/s]\n"
          ]
        },
        {
          "output_type": "stream",
          "name": "stdout",
          "text": [
            "tf.Tensor(0.60726976, shape=(), dtype=float32)\n",
            "Epoch 14\n"
          ]
        },
        {
          "output_type": "stream",
          "name": "stderr",
          "text": [
            "100%|██████████| 9/9 [00:04<00:00,  1.88it/s]\n",
            "100%|██████████| 20/20 [00:15<00:00,  1.27it/s]\n"
          ]
        },
        {
          "output_type": "stream",
          "name": "stdout",
          "text": [
            "tf.Tensor(0.60532206, shape=(), dtype=float32)\n"
          ]
        },
        {
          "output_type": "stream",
          "name": "stderr",
          "text": [
            "100%|██████████| 9/9 [00:04<00:00,  1.88it/s]\n",
            "100%|██████████| 20/20 [00:15<00:00,  1.31it/s]\n"
          ]
        },
        {
          "output_type": "stream",
          "name": "stdout",
          "text": [
            "tf.Tensor(0.60131514, shape=(), dtype=float32)\n"
          ]
        },
        {
          "output_type": "stream",
          "name": "stderr",
          "text": [
            "100%|██████████| 9/9 [00:04<00:00,  1.87it/s]\n",
            "100%|██████████| 20/20 [00:15<00:00,  1.29it/s]\n"
          ]
        },
        {
          "output_type": "stream",
          "name": "stdout",
          "text": [
            "tf.Tensor(0.59700763, shape=(), dtype=float32)\n"
          ]
        },
        {
          "output_type": "stream",
          "name": "stderr",
          "text": [
            "100%|██████████| 9/9 [00:04<00:00,  1.87it/s]\n",
            "100%|██████████| 20/20 [00:15<00:00,  1.31it/s]\n"
          ]
        },
        {
          "output_type": "stream",
          "name": "stdout",
          "text": [
            "tf.Tensor(0.5957451, shape=(), dtype=float32)\n"
          ]
        },
        {
          "output_type": "stream",
          "name": "stderr",
          "text": [
            "100%|██████████| 19/19 [00:10<00:00,  1.88it/s]\n",
            "100%|██████████| 20/20 [00:15<00:00,  1.29it/s]\n"
          ]
        },
        {
          "output_type": "stream",
          "name": "stdout",
          "text": [
            "tf.Tensor(0.59575164, shape=(), dtype=float32)\n"
          ]
        },
        {
          "output_type": "stream",
          "name": "stderr",
          "text": [
            "100%|██████████| 19/19 [00:10<00:00,  1.90it/s]\n",
            "100%|██████████| 20/20 [00:15<00:00,  1.30it/s]\n"
          ]
        },
        {
          "output_type": "stream",
          "name": "stdout",
          "text": [
            "tf.Tensor(0.59546494, shape=(), dtype=float32)\n"
          ]
        },
        {
          "output_type": "stream",
          "name": "stderr",
          "text": [
            "100%|██████████| 19/19 [00:10<00:00,  1.88it/s]\n",
            "100%|██████████| 20/20 [00:15<00:00,  1.29it/s]\n"
          ]
        },
        {
          "output_type": "stream",
          "name": "stdout",
          "text": [
            "tf.Tensor(0.59448624, shape=(), dtype=float32)\n"
          ]
        },
        {
          "output_type": "stream",
          "name": "stderr",
          "text": [
            "100%|██████████| 38/38 [00:20<00:00,  1.89it/s]\n",
            "100%|██████████| 20/20 [00:15<00:00,  1.30it/s]\n"
          ]
        },
        {
          "output_type": "stream",
          "name": "stdout",
          "text": [
            "tf.Tensor(0.5957096, shape=(), dtype=float32)\n"
          ]
        },
        {
          "output_type": "stream",
          "name": "stderr",
          "text": [
            "100%|██████████| 58/58 [00:30<00:00,  1.90it/s]\n",
            "100%|██████████| 20/20 [00:15<00:00,  1.27it/s]\n"
          ]
        },
        {
          "output_type": "stream",
          "name": "stdout",
          "text": [
            "tf.Tensor(0.59619015, shape=(), dtype=float32)\n",
            "Epoch 15\n"
          ]
        },
        {
          "output_type": "stream",
          "name": "stderr",
          "text": [
            "100%|██████████| 9/9 [00:04<00:00,  1.90it/s]\n",
            "100%|██████████| 20/20 [00:15<00:00,  1.29it/s]\n"
          ]
        },
        {
          "output_type": "stream",
          "name": "stdout",
          "text": [
            "tf.Tensor(0.594108, shape=(), dtype=float32)\n"
          ]
        },
        {
          "output_type": "stream",
          "name": "stderr",
          "text": [
            "100%|██████████| 9/9 [00:04<00:00,  1.89it/s]\n",
            "100%|██████████| 20/20 [00:15<00:00,  1.29it/s]\n"
          ]
        },
        {
          "output_type": "stream",
          "name": "stdout",
          "text": [
            "tf.Tensor(0.5932306, shape=(), dtype=float32)\n"
          ]
        },
        {
          "output_type": "stream",
          "name": "stderr",
          "text": [
            "100%|██████████| 9/9 [00:04<00:00,  1.90it/s]\n",
            "100%|██████████| 20/20 [00:15<00:00,  1.31it/s]\n"
          ]
        },
        {
          "output_type": "stream",
          "name": "stdout",
          "text": [
            "tf.Tensor(0.5922106, shape=(), dtype=float32)\n"
          ]
        },
        {
          "output_type": "stream",
          "name": "stderr",
          "text": [
            "100%|██████████| 9/9 [00:04<00:00,  1.89it/s]\n",
            "100%|██████████| 20/20 [00:15<00:00,  1.27it/s]\n"
          ]
        },
        {
          "output_type": "stream",
          "name": "stdout",
          "text": [
            "tf.Tensor(0.59354717, shape=(), dtype=float32)\n"
          ]
        },
        {
          "output_type": "stream",
          "name": "stderr",
          "text": [
            "100%|██████████| 19/19 [00:10<00:00,  1.90it/s]\n",
            "100%|██████████| 20/20 [00:15<00:00,  1.30it/s]\n"
          ]
        },
        {
          "output_type": "stream",
          "name": "stdout",
          "text": [
            "tf.Tensor(0.5951896, shape=(), dtype=float32)\n"
          ]
        },
        {
          "output_type": "stream",
          "name": "stderr",
          "text": [
            "100%|██████████| 19/19 [00:10<00:00,  1.88it/s]\n",
            "100%|██████████| 20/20 [00:15<00:00,  1.26it/s]\n"
          ]
        },
        {
          "output_type": "stream",
          "name": "stdout",
          "text": [
            "tf.Tensor(0.59961855, shape=(), dtype=float32)\n"
          ]
        },
        {
          "output_type": "stream",
          "name": "stderr",
          "text": [
            "100%|██████████| 19/19 [00:10<00:00,  1.90it/s]\n",
            "100%|██████████| 20/20 [00:15<00:00,  1.28it/s]\n"
          ]
        },
        {
          "output_type": "stream",
          "name": "stdout",
          "text": [
            "tf.Tensor(0.6051695, shape=(), dtype=float32)\n"
          ]
        },
        {
          "output_type": "stream",
          "name": "stderr",
          "text": [
            "100%|██████████| 38/38 [00:20<00:00,  1.89it/s]\n",
            "100%|██████████| 20/20 [00:15<00:00,  1.29it/s]\n"
          ]
        },
        {
          "output_type": "stream",
          "name": "stdout",
          "text": [
            "tf.Tensor(0.605834, shape=(), dtype=float32)\n"
          ]
        },
        {
          "output_type": "stream",
          "name": "stderr",
          "text": [
            "100%|██████████| 58/58 [00:30<00:00,  1.90it/s]\n",
            "100%|██████████| 20/20 [00:15<00:00,  1.29it/s]\n"
          ]
        },
        {
          "output_type": "stream",
          "name": "stdout",
          "text": [
            "tf.Tensor(0.5902852, shape=(), dtype=float32)\n",
            "Epoch 16\n"
          ]
        },
        {
          "output_type": "stream",
          "name": "stderr",
          "text": [
            "100%|██████████| 9/9 [00:04<00:00,  1.87it/s]\n",
            "100%|██████████| 20/20 [00:15<00:00,  1.26it/s]\n"
          ]
        },
        {
          "output_type": "stream",
          "name": "stdout",
          "text": [
            "tf.Tensor(0.57289344, shape=(), dtype=float32)\n"
          ]
        },
        {
          "output_type": "stream",
          "name": "stderr",
          "text": [
            "100%|██████████| 9/9 [00:04<00:00,  1.88it/s]\n",
            "100%|██████████| 20/20 [00:15<00:00,  1.28it/s]\n"
          ]
        },
        {
          "output_type": "stream",
          "name": "stdout",
          "text": [
            "tf.Tensor(0.5664071, shape=(), dtype=float32)\n"
          ]
        },
        {
          "output_type": "stream",
          "name": "stderr",
          "text": [
            "100%|██████████| 9/9 [00:04<00:00,  1.87it/s]\n",
            "100%|██████████| 20/20 [00:15<00:00,  1.28it/s]\n"
          ]
        },
        {
          "output_type": "stream",
          "name": "stdout",
          "text": [
            "tf.Tensor(0.56177354, shape=(), dtype=float32)\n"
          ]
        },
        {
          "output_type": "stream",
          "name": "stderr",
          "text": [
            "100%|██████████| 9/9 [00:04<00:00,  1.90it/s]\n",
            "100%|██████████| 20/20 [00:15<00:00,  1.29it/s]\n"
          ]
        },
        {
          "output_type": "stream",
          "name": "stdout",
          "text": [
            "tf.Tensor(0.5616352, shape=(), dtype=float32)\n"
          ]
        },
        {
          "output_type": "stream",
          "name": "stderr",
          "text": [
            "100%|██████████| 19/19 [00:10<00:00,  1.89it/s]\n",
            "100%|██████████| 20/20 [00:15<00:00,  1.27it/s]\n"
          ]
        },
        {
          "output_type": "stream",
          "name": "stdout",
          "text": [
            "tf.Tensor(0.5637598, shape=(), dtype=float32)\n"
          ]
        },
        {
          "output_type": "stream",
          "name": "stderr",
          "text": [
            "100%|██████████| 19/19 [00:10<00:00,  1.88it/s]\n",
            "100%|██████████| 20/20 [00:15<00:00,  1.29it/s]\n"
          ]
        },
        {
          "output_type": "stream",
          "name": "stdout",
          "text": [
            "tf.Tensor(0.57266515, shape=(), dtype=float32)\n"
          ]
        },
        {
          "output_type": "stream",
          "name": "stderr",
          "text": [
            "100%|██████████| 19/19 [00:10<00:00,  1.89it/s]\n",
            "100%|██████████| 20/20 [00:15<00:00,  1.28it/s]\n"
          ]
        },
        {
          "output_type": "stream",
          "name": "stdout",
          "text": [
            "tf.Tensor(0.5854521, shape=(), dtype=float32)\n"
          ]
        },
        {
          "output_type": "stream",
          "name": "stderr",
          "text": [
            "100%|██████████| 38/38 [00:20<00:00,  1.90it/s]\n",
            "100%|██████████| 20/20 [00:15<00:00,  1.29it/s]\n"
          ]
        },
        {
          "output_type": "stream",
          "name": "stdout",
          "text": [
            "tf.Tensor(0.5975475, shape=(), dtype=float32)\n"
          ]
        },
        {
          "output_type": "stream",
          "name": "stderr",
          "text": [
            "100%|██████████| 58/58 [00:30<00:00,  1.89it/s]\n",
            "100%|██████████| 20/20 [00:15<00:00,  1.27it/s]\n"
          ]
        },
        {
          "output_type": "stream",
          "name": "stdout",
          "text": [
            "tf.Tensor(0.6050151, shape=(), dtype=float32)\n",
            "Epoch 17\n"
          ]
        },
        {
          "output_type": "stream",
          "name": "stderr",
          "text": [
            "100%|██████████| 9/9 [00:04<00:00,  1.89it/s]\n",
            "100%|██████████| 20/20 [00:15<00:00,  1.29it/s]\n"
          ]
        },
        {
          "output_type": "stream",
          "name": "stdout",
          "text": [
            "tf.Tensor(0.59959537, shape=(), dtype=float32)\n"
          ]
        },
        {
          "output_type": "stream",
          "name": "stderr",
          "text": [
            "100%|██████████| 9/9 [00:04<00:00,  1.89it/s]\n",
            "100%|██████████| 20/20 [00:15<00:00,  1.28it/s]\n"
          ]
        },
        {
          "output_type": "stream",
          "name": "stdout",
          "text": [
            "tf.Tensor(0.5989958, shape=(), dtype=float32)\n"
          ]
        },
        {
          "output_type": "stream",
          "name": "stderr",
          "text": [
            "100%|██████████| 9/9 [00:04<00:00,  1.89it/s]\n",
            "100%|██████████| 20/20 [00:15<00:00,  1.28it/s]\n"
          ]
        },
        {
          "output_type": "stream",
          "name": "stdout",
          "text": [
            "tf.Tensor(0.59705895, shape=(), dtype=float32)\n"
          ]
        },
        {
          "output_type": "stream",
          "name": "stderr",
          "text": [
            "100%|██████████| 9/9 [00:04<00:00,  1.89it/s]\n",
            "100%|██████████| 20/20 [00:15<00:00,  1.28it/s]\n"
          ]
        },
        {
          "output_type": "stream",
          "name": "stdout",
          "text": [
            "tf.Tensor(0.5965, shape=(), dtype=float32)\n"
          ]
        },
        {
          "output_type": "stream",
          "name": "stderr",
          "text": [
            "100%|██████████| 19/19 [00:10<00:00,  1.89it/s]\n",
            "100%|██████████| 20/20 [00:15<00:00,  1.29it/s]\n"
          ]
        },
        {
          "output_type": "stream",
          "name": "stdout",
          "text": [
            "tf.Tensor(0.59724766, shape=(), dtype=float32)\n"
          ]
        },
        {
          "output_type": "stream",
          "name": "stderr",
          "text": [
            "100%|██████████| 19/19 [00:10<00:00,  1.90it/s]\n",
            "100%|██████████| 20/20 [00:15<00:00,  1.26it/s]\n"
          ]
        },
        {
          "output_type": "stream",
          "name": "stdout",
          "text": [
            "tf.Tensor(0.5994047, shape=(), dtype=float32)\n"
          ]
        },
        {
          "output_type": "stream",
          "name": "stderr",
          "text": [
            "100%|██████████| 19/19 [00:10<00:00,  1.90it/s]\n",
            "100%|██████████| 20/20 [00:15<00:00,  1.29it/s]\n"
          ]
        },
        {
          "output_type": "stream",
          "name": "stdout",
          "text": [
            "tf.Tensor(0.60435694, shape=(), dtype=float32)\n"
          ]
        },
        {
          "output_type": "stream",
          "name": "stderr",
          "text": [
            "100%|██████████| 38/38 [00:20<00:00,  1.89it/s]\n",
            "100%|██████████| 20/20 [00:15<00:00,  1.28it/s]\n"
          ]
        },
        {
          "output_type": "stream",
          "name": "stdout",
          "text": [
            "tf.Tensor(0.60668826, shape=(), dtype=float32)\n"
          ]
        },
        {
          "output_type": "stream",
          "name": "stderr",
          "text": [
            "100%|██████████| 58/58 [00:30<00:00,  1.90it/s]\n",
            "100%|██████████| 20/20 [00:15<00:00,  1.29it/s]\n"
          ]
        },
        {
          "output_type": "stream",
          "name": "stdout",
          "text": [
            "tf.Tensor(0.60478526, shape=(), dtype=float32)\n",
            "Epoch 18\n"
          ]
        },
        {
          "output_type": "stream",
          "name": "stderr",
          "text": [
            "100%|██████████| 9/9 [00:04<00:00,  1.88it/s]\n",
            "100%|██████████| 20/20 [00:15<00:00,  1.27it/s]\n"
          ]
        },
        {
          "output_type": "stream",
          "name": "stdout",
          "text": [
            "tf.Tensor(0.60043645, shape=(), dtype=float32)\n"
          ]
        },
        {
          "output_type": "stream",
          "name": "stderr",
          "text": [
            "100%|██████████| 9/9 [00:04<00:00,  1.89it/s]\n",
            "100%|██████████| 20/20 [00:15<00:00,  1.28it/s]\n"
          ]
        },
        {
          "output_type": "stream",
          "name": "stdout",
          "text": [
            "tf.Tensor(0.59861326, shape=(), dtype=float32)\n"
          ]
        },
        {
          "output_type": "stream",
          "name": "stderr",
          "text": [
            "100%|██████████| 9/9 [00:04<00:00,  1.89it/s]\n",
            "100%|██████████| 20/20 [00:15<00:00,  1.28it/s]\n"
          ]
        },
        {
          "output_type": "stream",
          "name": "stdout",
          "text": [
            "tf.Tensor(0.5973253, shape=(), dtype=float32)\n"
          ]
        },
        {
          "output_type": "stream",
          "name": "stderr",
          "text": [
            "100%|██████████| 9/9 [00:04<00:00,  1.89it/s]\n",
            "100%|██████████| 20/20 [00:15<00:00,  1.29it/s]\n"
          ]
        },
        {
          "output_type": "stream",
          "name": "stdout",
          "text": [
            "tf.Tensor(0.59706044, shape=(), dtype=float32)\n"
          ]
        },
        {
          "output_type": "stream",
          "name": "stderr",
          "text": [
            "100%|██████████| 19/19 [00:10<00:00,  1.89it/s]\n",
            "100%|██████████| 20/20 [00:15<00:00,  1.27it/s]\n"
          ]
        },
        {
          "output_type": "stream",
          "name": "stdout",
          "text": [
            "tf.Tensor(0.59786004, shape=(), dtype=float32)\n"
          ]
        },
        {
          "output_type": "stream",
          "name": "stderr",
          "text": [
            "100%|██████████| 19/19 [00:10<00:00,  1.90it/s]\n",
            "100%|██████████| 20/20 [00:15<00:00,  1.28it/s]\n"
          ]
        },
        {
          "output_type": "stream",
          "name": "stdout",
          "text": [
            "tf.Tensor(0.6018963, shape=(), dtype=float32)\n"
          ]
        },
        {
          "output_type": "stream",
          "name": "stderr",
          "text": [
            "100%|██████████| 19/19 [00:10<00:00,  1.89it/s]\n",
            "100%|██████████| 20/20 [00:15<00:00,  1.26it/s]\n"
          ]
        },
        {
          "output_type": "stream",
          "name": "stdout",
          "text": [
            "tf.Tensor(0.6061327, shape=(), dtype=float32)\n"
          ]
        },
        {
          "output_type": "stream",
          "name": "stderr",
          "text": [
            "100%|██████████| 38/38 [00:20<00:00,  1.90it/s]\n",
            "100%|██████████| 20/20 [00:15<00:00,  1.29it/s]\n"
          ]
        },
        {
          "output_type": "stream",
          "name": "stdout",
          "text": [
            "tf.Tensor(0.61186856, shape=(), dtype=float32)\n"
          ]
        },
        {
          "output_type": "stream",
          "name": "stderr",
          "text": [
            "100%|██████████| 58/58 [00:30<00:00,  1.89it/s]\n",
            "100%|██████████| 20/20 [00:15<00:00,  1.28it/s]\n"
          ]
        },
        {
          "output_type": "stream",
          "name": "stdout",
          "text": [
            "tf.Tensor(0.60899025, shape=(), dtype=float32)\n",
            "Epoch 19\n"
          ]
        },
        {
          "output_type": "stream",
          "name": "stderr",
          "text": [
            "100%|██████████| 9/9 [00:04<00:00,  1.90it/s]\n",
            "100%|██████████| 20/20 [00:15<00:00,  1.29it/s]\n"
          ]
        },
        {
          "output_type": "stream",
          "name": "stdout",
          "text": [
            "tf.Tensor(0.5996426, shape=(), dtype=float32)\n"
          ]
        },
        {
          "output_type": "stream",
          "name": "stderr",
          "text": [
            "100%|██████████| 9/9 [00:04<00:00,  1.88it/s]\n",
            "100%|██████████| 20/20 [00:15<00:00,  1.27it/s]\n"
          ]
        },
        {
          "output_type": "stream",
          "name": "stdout",
          "text": [
            "tf.Tensor(0.5965995, shape=(), dtype=float32)\n"
          ]
        },
        {
          "output_type": "stream",
          "name": "stderr",
          "text": [
            "100%|██████████| 9/9 [00:04<00:00,  1.89it/s]\n",
            "100%|██████████| 20/20 [00:15<00:00,  1.28it/s]\n"
          ]
        },
        {
          "output_type": "stream",
          "name": "stdout",
          "text": [
            "tf.Tensor(0.59380823, shape=(), dtype=float32)\n"
          ]
        },
        {
          "output_type": "stream",
          "name": "stderr",
          "text": [
            "100%|██████████| 9/9 [00:04<00:00,  1.88it/s]\n",
            "100%|██████████| 20/20 [00:15<00:00,  1.28it/s]\n"
          ]
        },
        {
          "output_type": "stream",
          "name": "stdout",
          "text": [
            "tf.Tensor(0.59267646, shape=(), dtype=float32)\n"
          ]
        },
        {
          "output_type": "stream",
          "name": "stderr",
          "text": [
            "100%|██████████| 19/19 [00:10<00:00,  1.89it/s]\n",
            "100%|██████████| 20/20 [00:15<00:00,  1.28it/s]\n"
          ]
        },
        {
          "output_type": "stream",
          "name": "stdout",
          "text": [
            "tf.Tensor(0.59260476, shape=(), dtype=float32)\n"
          ]
        },
        {
          "output_type": "stream",
          "name": "stderr",
          "text": [
            "100%|██████████| 19/19 [00:10<00:00,  1.90it/s]\n",
            "100%|██████████| 20/20 [00:15<00:00,  1.28it/s]\n"
          ]
        },
        {
          "output_type": "stream",
          "name": "stdout",
          "text": [
            "tf.Tensor(0.5944092, shape=(), dtype=float32)\n"
          ]
        },
        {
          "output_type": "stream",
          "name": "stderr",
          "text": [
            "100%|██████████| 19/19 [00:10<00:00,  1.89it/s]\n",
            "100%|██████████| 20/20 [00:15<00:00,  1.29it/s]\n"
          ]
        },
        {
          "output_type": "stream",
          "name": "stdout",
          "text": [
            "tf.Tensor(0.59744436, shape=(), dtype=float32)\n"
          ]
        },
        {
          "output_type": "stream",
          "name": "stderr",
          "text": [
            "100%|██████████| 38/38 [00:20<00:00,  1.89it/s]\n",
            "100%|██████████| 20/20 [00:15<00:00,  1.29it/s]\n"
          ]
        },
        {
          "output_type": "stream",
          "name": "stdout",
          "text": [
            "tf.Tensor(0.6033562, shape=(), dtype=float32)\n"
          ]
        },
        {
          "output_type": "stream",
          "name": "stderr",
          "text": [
            "100%|██████████| 58/58 [00:30<00:00,  1.90it/s]\n",
            "100%|██████████| 20/20 [00:15<00:00,  1.29it/s]\n"
          ]
        },
        {
          "output_type": "stream",
          "name": "stdout",
          "text": [
            "tf.Tensor(0.60650855, shape=(), dtype=float32)\n",
            "Epoch 20\n"
          ]
        },
        {
          "output_type": "stream",
          "name": "stderr",
          "text": [
            "100%|██████████| 9/9 [00:04<00:00,  1.88it/s]\n",
            "100%|██████████| 20/20 [00:15<00:00,  1.28it/s]\n"
          ]
        },
        {
          "output_type": "stream",
          "name": "stdout",
          "text": [
            "tf.Tensor(0.601805, shape=(), dtype=float32)\n"
          ]
        },
        {
          "output_type": "stream",
          "name": "stderr",
          "text": [
            "100%|██████████| 9/9 [00:04<00:00,  1.89it/s]\n",
            "100%|██████████| 20/20 [00:15<00:00,  1.32it/s]\n"
          ]
        },
        {
          "output_type": "stream",
          "name": "stdout",
          "text": [
            "tf.Tensor(0.59933805, shape=(), dtype=float32)\n"
          ]
        },
        {
          "output_type": "stream",
          "name": "stderr",
          "text": [
            "100%|██████████| 9/9 [00:04<00:00,  1.89it/s]\n",
            "100%|██████████| 20/20 [00:15<00:00,  1.28it/s]\n"
          ]
        },
        {
          "output_type": "stream",
          "name": "stdout",
          "text": [
            "tf.Tensor(0.5970142, shape=(), dtype=float32)\n"
          ]
        },
        {
          "output_type": "stream",
          "name": "stderr",
          "text": [
            "100%|██████████| 9/9 [00:04<00:00,  1.90it/s]\n",
            "100%|██████████| 20/20 [00:15<00:00,  1.30it/s]\n"
          ]
        },
        {
          "output_type": "stream",
          "name": "stdout",
          "text": [
            "tf.Tensor(0.5974322, shape=(), dtype=float32)\n"
          ]
        },
        {
          "output_type": "stream",
          "name": "stderr",
          "text": [
            "100%|██████████| 19/19 [00:10<00:00,  1.89it/s]\n",
            "100%|██████████| 20/20 [00:15<00:00,  1.29it/s]\n"
          ]
        },
        {
          "output_type": "stream",
          "name": "stdout",
          "text": [
            "tf.Tensor(0.6005454, shape=(), dtype=float32)\n"
          ]
        },
        {
          "output_type": "stream",
          "name": "stderr",
          "text": [
            "100%|██████████| 19/19 [00:10<00:00,  1.90it/s]\n",
            "100%|██████████| 20/20 [00:15<00:00,  1.30it/s]\n"
          ]
        },
        {
          "output_type": "stream",
          "name": "stdout",
          "text": [
            "tf.Tensor(0.60510415, shape=(), dtype=float32)\n"
          ]
        },
        {
          "output_type": "stream",
          "name": "stderr",
          "text": [
            "100%|██████████| 19/19 [00:10<00:00,  1.90it/s]\n",
            "100%|██████████| 20/20 [00:15<00:00,  1.28it/s]\n"
          ]
        },
        {
          "output_type": "stream",
          "name": "stdout",
          "text": [
            "tf.Tensor(0.6072389, shape=(), dtype=float32)\n"
          ]
        },
        {
          "output_type": "stream",
          "name": "stderr",
          "text": [
            "100%|██████████| 38/38 [00:20<00:00,  1.90it/s]\n",
            "100%|██████████| 20/20 [00:15<00:00,  1.31it/s]\n"
          ]
        },
        {
          "output_type": "stream",
          "name": "stdout",
          "text": [
            "tf.Tensor(0.6107885, shape=(), dtype=float32)\n"
          ]
        },
        {
          "output_type": "stream",
          "name": "stderr",
          "text": [
            "100%|██████████| 58/58 [00:30<00:00,  1.89it/s]\n",
            "100%|██████████| 20/20 [00:15<00:00,  1.33it/s]\n"
          ]
        },
        {
          "output_type": "stream",
          "name": "stdout",
          "text": [
            "tf.Tensor(0.6135332, shape=(), dtype=float32)\n",
            "Epoch 21\n"
          ]
        },
        {
          "output_type": "stream",
          "name": "stderr",
          "text": [
            "100%|██████████| 9/9 [00:04<00:00,  1.91it/s]\n",
            "100%|██████████| 20/20 [00:14<00:00,  1.34it/s]\n"
          ]
        },
        {
          "output_type": "stream",
          "name": "stdout",
          "text": [
            "tf.Tensor(0.61021185, shape=(), dtype=float32)\n"
          ]
        },
        {
          "output_type": "stream",
          "name": "stderr",
          "text": [
            "100%|██████████| 9/9 [00:04<00:00,  1.90it/s]\n",
            "100%|██████████| 20/20 [00:15<00:00,  1.28it/s]\n"
          ]
        },
        {
          "output_type": "stream",
          "name": "stdout",
          "text": [
            "tf.Tensor(0.6068131, shape=(), dtype=float32)\n"
          ]
        },
        {
          "output_type": "stream",
          "name": "stderr",
          "text": [
            "100%|██████████| 9/9 [00:04<00:00,  1.89it/s]\n",
            "100%|██████████| 20/20 [00:15<00:00,  1.32it/s]\n"
          ]
        },
        {
          "output_type": "stream",
          "name": "stdout",
          "text": [
            "tf.Tensor(0.6043589, shape=(), dtype=float32)\n"
          ]
        },
        {
          "output_type": "stream",
          "name": "stderr",
          "text": [
            "100%|██████████| 9/9 [00:04<00:00,  1.89it/s]\n",
            "100%|██████████| 20/20 [00:15<00:00,  1.29it/s]\n"
          ]
        },
        {
          "output_type": "stream",
          "name": "stdout",
          "text": [
            "tf.Tensor(0.6042963, shape=(), dtype=float32)\n"
          ]
        },
        {
          "output_type": "stream",
          "name": "stderr",
          "text": [
            "100%|██████████| 19/19 [00:09<00:00,  1.90it/s]\n",
            "100%|██████████| 20/20 [00:15<00:00,  1.31it/s]\n"
          ]
        },
        {
          "output_type": "stream",
          "name": "stdout",
          "text": [
            "tf.Tensor(0.6045192, shape=(), dtype=float32)\n"
          ]
        },
        {
          "output_type": "stream",
          "name": "stderr",
          "text": [
            "100%|██████████| 19/19 [00:10<00:00,  1.90it/s]\n",
            "100%|██████████| 20/20 [00:15<00:00,  1.33it/s]\n"
          ]
        },
        {
          "output_type": "stream",
          "name": "stdout",
          "text": [
            "tf.Tensor(0.60657847, shape=(), dtype=float32)\n"
          ]
        },
        {
          "output_type": "stream",
          "name": "stderr",
          "text": [
            "100%|██████████| 19/19 [00:10<00:00,  1.90it/s]\n",
            "100%|██████████| 20/20 [00:15<00:00,  1.30it/s]\n"
          ]
        },
        {
          "output_type": "stream",
          "name": "stdout",
          "text": [
            "tf.Tensor(0.6071136, shape=(), dtype=float32)\n"
          ]
        },
        {
          "output_type": "stream",
          "name": "stderr",
          "text": [
            "100%|██████████| 38/38 [00:20<00:00,  1.89it/s]\n",
            "100%|██████████| 20/20 [00:15<00:00,  1.30it/s]\n"
          ]
        },
        {
          "output_type": "stream",
          "name": "stdout",
          "text": [
            "tf.Tensor(0.6083131, shape=(), dtype=float32)\n"
          ]
        },
        {
          "output_type": "stream",
          "name": "stderr",
          "text": [
            "100%|██████████| 58/58 [00:30<00:00,  1.90it/s]\n",
            "100%|██████████| 20/20 [00:15<00:00,  1.32it/s]\n"
          ]
        },
        {
          "output_type": "stream",
          "name": "stdout",
          "text": [
            "tf.Tensor(0.6098094, shape=(), dtype=float32)\n",
            "Epoch 22\n"
          ]
        },
        {
          "output_type": "stream",
          "name": "stderr",
          "text": [
            "100%|██████████| 9/9 [00:04<00:00,  1.90it/s]\n",
            "100%|██████████| 20/20 [00:15<00:00,  1.29it/s]\n"
          ]
        },
        {
          "output_type": "stream",
          "name": "stdout",
          "text": [
            "tf.Tensor(0.60411876, shape=(), dtype=float32)\n"
          ]
        },
        {
          "output_type": "stream",
          "name": "stderr",
          "text": [
            "100%|██████████| 9/9 [00:04<00:00,  1.88it/s]\n",
            "100%|██████████| 20/20 [00:15<00:00,  1.29it/s]\n"
          ]
        },
        {
          "output_type": "stream",
          "name": "stdout",
          "text": [
            "tf.Tensor(0.6021898, shape=(), dtype=float32)\n"
          ]
        },
        {
          "output_type": "stream",
          "name": "stderr",
          "text": [
            "100%|██████████| 9/9 [00:04<00:00,  1.89it/s]\n",
            "100%|██████████| 20/20 [00:15<00:00,  1.30it/s]\n"
          ]
        },
        {
          "output_type": "stream",
          "name": "stdout",
          "text": [
            "tf.Tensor(0.59956366, shape=(), dtype=float32)\n"
          ]
        },
        {
          "output_type": "stream",
          "name": "stderr",
          "text": [
            "100%|██████████| 9/9 [00:04<00:00,  1.89it/s]\n",
            "100%|██████████| 20/20 [00:15<00:00,  1.31it/s]\n"
          ]
        },
        {
          "output_type": "stream",
          "name": "stdout",
          "text": [
            "tf.Tensor(0.5981621, shape=(), dtype=float32)\n"
          ]
        },
        {
          "output_type": "stream",
          "name": "stderr",
          "text": [
            "100%|██████████| 19/19 [00:10<00:00,  1.90it/s]\n",
            "100%|██████████| 20/20 [00:15<00:00,  1.30it/s]\n"
          ]
        },
        {
          "output_type": "stream",
          "name": "stdout",
          "text": [
            "tf.Tensor(0.5983847, shape=(), dtype=float32)\n"
          ]
        },
        {
          "output_type": "stream",
          "name": "stderr",
          "text": [
            "100%|██████████| 19/19 [00:10<00:00,  1.90it/s]\n",
            "100%|██████████| 20/20 [00:15<00:00,  1.31it/s]\n"
          ]
        },
        {
          "output_type": "stream",
          "name": "stdout",
          "text": [
            "tf.Tensor(0.60140294, shape=(), dtype=float32)\n"
          ]
        },
        {
          "output_type": "stream",
          "name": "stderr",
          "text": [
            "100%|██████████| 19/19 [00:10<00:00,  1.89it/s]\n",
            "100%|██████████| 20/20 [00:15<00:00,  1.30it/s]\n"
          ]
        },
        {
          "output_type": "stream",
          "name": "stdout",
          "text": [
            "tf.Tensor(0.605793, shape=(), dtype=float32)\n"
          ]
        },
        {
          "output_type": "stream",
          "name": "stderr",
          "text": [
            "100%|██████████| 38/38 [00:20<00:00,  1.90it/s]\n",
            "100%|██████████| 20/20 [00:15<00:00,  1.30it/s]\n"
          ]
        },
        {
          "output_type": "stream",
          "name": "stdout",
          "text": [
            "tf.Tensor(0.6122897, shape=(), dtype=float32)\n"
          ]
        },
        {
          "output_type": "stream",
          "name": "stderr",
          "text": [
            "100%|██████████| 58/58 [00:30<00:00,  1.89it/s]\n",
            "100%|██████████| 20/20 [00:15<00:00,  1.29it/s]\n"
          ]
        },
        {
          "output_type": "stream",
          "name": "stdout",
          "text": [
            "tf.Tensor(0.6175194, shape=(), dtype=float32)\n",
            "Epoch 23\n"
          ]
        },
        {
          "output_type": "stream",
          "name": "stderr",
          "text": [
            "100%|██████████| 9/9 [00:04<00:00,  1.89it/s]\n",
            "100%|██████████| 20/20 [00:15<00:00,  1.30it/s]\n"
          ]
        },
        {
          "output_type": "stream",
          "name": "stdout",
          "text": [
            "tf.Tensor(0.61338854, shape=(), dtype=float32)\n"
          ]
        },
        {
          "output_type": "stream",
          "name": "stderr",
          "text": [
            "100%|██████████| 9/9 [00:04<00:00,  1.89it/s]\n",
            "100%|██████████| 20/20 [00:15<00:00,  1.28it/s]\n"
          ]
        },
        {
          "output_type": "stream",
          "name": "stdout",
          "text": [
            "tf.Tensor(0.61157155, shape=(), dtype=float32)\n"
          ]
        },
        {
          "output_type": "stream",
          "name": "stderr",
          "text": [
            "100%|██████████| 9/9 [00:04<00:00,  1.88it/s]\n",
            "100%|██████████| 20/20 [00:15<00:00,  1.29it/s]\n"
          ]
        },
        {
          "output_type": "stream",
          "name": "stdout",
          "text": [
            "tf.Tensor(0.61006105, shape=(), dtype=float32)\n"
          ]
        },
        {
          "output_type": "stream",
          "name": "stderr",
          "text": [
            "100%|██████████| 9/9 [00:04<00:00,  1.89it/s]\n",
            "100%|██████████| 20/20 [00:15<00:00,  1.29it/s]\n"
          ]
        },
        {
          "output_type": "stream",
          "name": "stdout",
          "text": [
            "tf.Tensor(0.60975504, shape=(), dtype=float32)\n"
          ]
        },
        {
          "output_type": "stream",
          "name": "stderr",
          "text": [
            "100%|██████████| 19/19 [00:10<00:00,  1.90it/s]\n",
            "100%|██████████| 20/20 [00:15<00:00,  1.30it/s]\n"
          ]
        },
        {
          "output_type": "stream",
          "name": "stdout",
          "text": [
            "tf.Tensor(0.60984457, shape=(), dtype=float32)\n"
          ]
        },
        {
          "output_type": "stream",
          "name": "stderr",
          "text": [
            "100%|██████████| 19/19 [00:10<00:00,  1.89it/s]\n",
            "100%|██████████| 20/20 [00:15<00:00,  1.27it/s]\n"
          ]
        },
        {
          "output_type": "stream",
          "name": "stdout",
          "text": [
            "tf.Tensor(0.6102283, shape=(), dtype=float32)\n"
          ]
        },
        {
          "output_type": "stream",
          "name": "stderr",
          "text": [
            "100%|██████████| 19/19 [00:10<00:00,  1.90it/s]\n",
            "100%|██████████| 20/20 [00:15<00:00,  1.28it/s]\n"
          ]
        },
        {
          "output_type": "stream",
          "name": "stdout",
          "text": [
            "tf.Tensor(0.60941756, shape=(), dtype=float32)\n"
          ]
        },
        {
          "output_type": "stream",
          "name": "stderr",
          "text": [
            "100%|██████████| 38/38 [00:20<00:00,  1.90it/s]\n",
            "100%|██████████| 20/20 [00:15<00:00,  1.28it/s]\n"
          ]
        },
        {
          "output_type": "stream",
          "name": "stdout",
          "text": [
            "tf.Tensor(0.61215806, shape=(), dtype=float32)\n"
          ]
        },
        {
          "output_type": "stream",
          "name": "stderr",
          "text": [
            "100%|██████████| 58/58 [00:30<00:00,  1.90it/s]\n",
            "100%|██████████| 20/20 [00:15<00:00,  1.30it/s]\n"
          ]
        },
        {
          "output_type": "stream",
          "name": "stdout",
          "text": [
            "tf.Tensor(0.61698323, shape=(), dtype=float32)\n",
            "Epoch 24\n"
          ]
        },
        {
          "output_type": "stream",
          "name": "stderr",
          "text": [
            "100%|██████████| 9/9 [00:04<00:00,  1.89it/s]\n",
            "100%|██████████| 20/20 [00:15<00:00,  1.27it/s]\n"
          ]
        },
        {
          "output_type": "stream",
          "name": "stdout",
          "text": [
            "tf.Tensor(0.61320025, shape=(), dtype=float32)\n"
          ]
        },
        {
          "output_type": "stream",
          "name": "stderr",
          "text": [
            "100%|██████████| 9/9 [00:04<00:00,  1.89it/s]\n",
            "100%|██████████| 20/20 [00:15<00:00,  1.30it/s]\n"
          ]
        },
        {
          "output_type": "stream",
          "name": "stdout",
          "text": [
            "tf.Tensor(0.6112592, shape=(), dtype=float32)\n"
          ]
        },
        {
          "output_type": "stream",
          "name": "stderr",
          "text": [
            "100%|██████████| 9/9 [00:04<00:00,  1.89it/s]\n",
            "100%|██████████| 20/20 [00:15<00:00,  1.29it/s]\n"
          ]
        },
        {
          "output_type": "stream",
          "name": "stdout",
          "text": [
            "tf.Tensor(0.6101675, shape=(), dtype=float32)\n"
          ]
        },
        {
          "output_type": "stream",
          "name": "stderr",
          "text": [
            "100%|██████████| 9/9 [00:04<00:00,  1.89it/s]\n",
            "100%|██████████| 20/20 [00:15<00:00,  1.29it/s]\n"
          ]
        },
        {
          "output_type": "stream",
          "name": "stdout",
          "text": [
            "tf.Tensor(0.61003023, shape=(), dtype=float32)\n"
          ]
        },
        {
          "output_type": "stream",
          "name": "stderr",
          "text": [
            "100%|██████████| 19/19 [00:10<00:00,  1.89it/s]\n",
            "100%|██████████| 20/20 [00:15<00:00,  1.27it/s]\n"
          ]
        },
        {
          "output_type": "stream",
          "name": "stdout",
          "text": [
            "tf.Tensor(0.6103846, shape=(), dtype=float32)\n"
          ]
        },
        {
          "output_type": "stream",
          "name": "stderr",
          "text": [
            "100%|██████████| 19/19 [00:10<00:00,  1.89it/s]\n",
            "100%|██████████| 20/20 [00:15<00:00,  1.30it/s]\n"
          ]
        },
        {
          "output_type": "stream",
          "name": "stdout",
          "text": [
            "tf.Tensor(0.61500573, shape=(), dtype=float32)\n"
          ]
        },
        {
          "output_type": "stream",
          "name": "stderr",
          "text": [
            "100%|██████████| 19/19 [00:10<00:00,  1.89it/s]\n",
            "100%|██████████| 20/20 [00:15<00:00,  1.29it/s]\n"
          ]
        },
        {
          "output_type": "stream",
          "name": "stdout",
          "text": [
            "tf.Tensor(0.6204431, shape=(), dtype=float32)\n"
          ]
        },
        {
          "output_type": "stream",
          "name": "stderr",
          "text": [
            "100%|██████████| 38/38 [00:20<00:00,  1.89it/s]\n",
            "100%|██████████| 20/20 [00:15<00:00,  1.30it/s]\n"
          ]
        },
        {
          "output_type": "stream",
          "name": "stdout",
          "text": [
            "tf.Tensor(0.6249447, shape=(), dtype=float32)\n"
          ]
        },
        {
          "output_type": "stream",
          "name": "stderr",
          "text": [
            "100%|██████████| 58/58 [00:30<00:00,  1.90it/s]\n",
            "100%|██████████| 20/20 [00:15<00:00,  1.27it/s]\n"
          ]
        },
        {
          "output_type": "stream",
          "name": "stdout",
          "text": [
            "tf.Tensor(0.6236866, shape=(), dtype=float32)\n",
            "Epoch 25\n"
          ]
        },
        {
          "output_type": "stream",
          "name": "stderr",
          "text": [
            "100%|██████████| 9/9 [00:04<00:00,  1.89it/s]\n",
            "100%|██████████| 20/20 [00:15<00:00,  1.30it/s]\n"
          ]
        },
        {
          "output_type": "stream",
          "name": "stdout",
          "text": [
            "tf.Tensor(0.61597806, shape=(), dtype=float32)\n"
          ]
        },
        {
          "output_type": "stream",
          "name": "stderr",
          "text": [
            "100%|██████████| 9/9 [00:04<00:00,  1.87it/s]\n",
            "100%|██████████| 20/20 [00:15<00:00,  1.28it/s]\n"
          ]
        },
        {
          "output_type": "stream",
          "name": "stdout",
          "text": [
            "tf.Tensor(0.6139599, shape=(), dtype=float32)\n"
          ]
        },
        {
          "output_type": "stream",
          "name": "stderr",
          "text": [
            "100%|██████████| 9/9 [00:04<00:00,  1.89it/s]\n",
            "100%|██████████| 20/20 [00:15<00:00,  1.28it/s]\n"
          ]
        },
        {
          "output_type": "stream",
          "name": "stdout",
          "text": [
            "tf.Tensor(0.6121675, shape=(), dtype=float32)\n"
          ]
        },
        {
          "output_type": "stream",
          "name": "stderr",
          "text": [
            "100%|██████████| 9/9 [00:04<00:00,  1.89it/s]\n",
            "100%|██████████| 20/20 [00:15<00:00,  1.29it/s]\n"
          ]
        },
        {
          "output_type": "stream",
          "name": "stdout",
          "text": [
            "tf.Tensor(0.61174774, shape=(), dtype=float32)\n"
          ]
        },
        {
          "output_type": "stream",
          "name": "stderr",
          "text": [
            "100%|██████████| 19/19 [00:10<00:00,  1.89it/s]\n",
            "100%|██████████| 20/20 [00:15<00:00,  1.30it/s]\n"
          ]
        },
        {
          "output_type": "stream",
          "name": "stdout",
          "text": [
            "tf.Tensor(0.6121637, shape=(), dtype=float32)\n"
          ]
        },
        {
          "output_type": "stream",
          "name": "stderr",
          "text": [
            "100%|██████████| 19/19 [00:10<00:00,  1.89it/s]\n",
            "100%|██████████| 20/20 [00:15<00:00,  1.27it/s]\n"
          ]
        },
        {
          "output_type": "stream",
          "name": "stdout",
          "text": [
            "tf.Tensor(0.61368495, shape=(), dtype=float32)\n"
          ]
        },
        {
          "output_type": "stream",
          "name": "stderr",
          "text": [
            "100%|██████████| 19/19 [00:10<00:00,  1.89it/s]\n",
            "100%|██████████| 20/20 [00:15<00:00,  1.30it/s]\n"
          ]
        },
        {
          "output_type": "stream",
          "name": "stdout",
          "text": [
            "tf.Tensor(0.61419165, shape=(), dtype=float32)\n"
          ]
        },
        {
          "output_type": "stream",
          "name": "stderr",
          "text": [
            "100%|██████████| 38/38 [00:20<00:00,  1.90it/s]\n",
            "100%|██████████| 20/20 [00:15<00:00,  1.29it/s]\n"
          ]
        },
        {
          "output_type": "stream",
          "name": "stdout",
          "text": [
            "tf.Tensor(0.61602485, shape=(), dtype=float32)\n"
          ]
        },
        {
          "output_type": "stream",
          "name": "stderr",
          "text": [
            "100%|██████████| 58/58 [00:30<00:00,  1.89it/s]\n",
            "100%|██████████| 20/20 [00:15<00:00,  1.31it/s]\n"
          ]
        },
        {
          "output_type": "stream",
          "name": "stdout",
          "text": [
            "tf.Tensor(0.61660206, shape=(), dtype=float32)\n",
            "Epoch 26\n"
          ]
        },
        {
          "output_type": "stream",
          "name": "stderr",
          "text": [
            "100%|██████████| 9/9 [00:04<00:00,  1.89it/s]\n",
            "100%|██████████| 20/20 [00:15<00:00,  1.29it/s]\n"
          ]
        },
        {
          "output_type": "stream",
          "name": "stdout",
          "text": [
            "tf.Tensor(0.61118144, shape=(), dtype=float32)\n"
          ]
        },
        {
          "output_type": "stream",
          "name": "stderr",
          "text": [
            "100%|██████████| 9/9 [00:04<00:00,  1.89it/s]\n",
            "100%|██████████| 20/20 [00:15<00:00,  1.30it/s]\n"
          ]
        },
        {
          "output_type": "stream",
          "name": "stdout",
          "text": [
            "tf.Tensor(0.6093332, shape=(), dtype=float32)\n"
          ]
        },
        {
          "output_type": "stream",
          "name": "stderr",
          "text": [
            "100%|██████████| 9/9 [00:04<00:00,  1.88it/s]\n",
            "100%|██████████| 20/20 [00:15<00:00,  1.28it/s]\n"
          ]
        },
        {
          "output_type": "stream",
          "name": "stdout",
          "text": [
            "tf.Tensor(0.60710746, shape=(), dtype=float32)\n"
          ]
        },
        {
          "output_type": "stream",
          "name": "stderr",
          "text": [
            "100%|██████████| 9/9 [00:04<00:00,  1.90it/s]\n",
            "100%|██████████| 20/20 [00:15<00:00,  1.30it/s]\n"
          ]
        },
        {
          "output_type": "stream",
          "name": "stdout",
          "text": [
            "tf.Tensor(0.60702187, shape=(), dtype=float32)\n"
          ]
        },
        {
          "output_type": "stream",
          "name": "stderr",
          "text": [
            "100%|██████████| 19/19 [00:10<00:00,  1.89it/s]\n",
            "100%|██████████| 20/20 [00:16<00:00,  1.25it/s]\n"
          ]
        },
        {
          "output_type": "stream",
          "name": "stdout",
          "text": [
            "tf.Tensor(0.6082024, shape=(), dtype=float32)\n"
          ]
        },
        {
          "output_type": "stream",
          "name": "stderr",
          "text": [
            "100%|██████████| 19/19 [00:10<00:00,  1.89it/s]\n",
            "100%|██████████| 20/20 [00:15<00:00,  1.30it/s]\n"
          ]
        },
        {
          "output_type": "stream",
          "name": "stdout",
          "text": [
            "tf.Tensor(0.6108971, shape=(), dtype=float32)\n"
          ]
        },
        {
          "output_type": "stream",
          "name": "stderr",
          "text": [
            "100%|██████████| 19/19 [00:10<00:00,  1.90it/s]\n",
            "100%|██████████| 20/20 [00:15<00:00,  1.28it/s]\n"
          ]
        },
        {
          "output_type": "stream",
          "name": "stdout",
          "text": [
            "tf.Tensor(0.6139328, shape=(), dtype=float32)\n"
          ]
        },
        {
          "output_type": "stream",
          "name": "stderr",
          "text": [
            "100%|██████████| 38/38 [00:20<00:00,  1.89it/s]\n",
            "100%|██████████| 20/20 [00:15<00:00,  1.28it/s]\n"
          ]
        },
        {
          "output_type": "stream",
          "name": "stdout",
          "text": [
            "tf.Tensor(0.617571, shape=(), dtype=float32)\n"
          ]
        },
        {
          "output_type": "stream",
          "name": "stderr",
          "text": [
            "100%|██████████| 58/58 [00:30<00:00,  1.90it/s]\n",
            "100%|██████████| 20/20 [00:15<00:00,  1.29it/s]\n"
          ]
        },
        {
          "output_type": "stream",
          "name": "stdout",
          "text": [
            "tf.Tensor(0.61238635, shape=(), dtype=float32)\n",
            "Epoch 27\n"
          ]
        },
        {
          "output_type": "stream",
          "name": "stderr",
          "text": [
            "100%|██████████| 9/9 [00:04<00:00,  1.90it/s]\n",
            "100%|██████████| 20/20 [00:15<00:00,  1.30it/s]\n"
          ]
        },
        {
          "output_type": "stream",
          "name": "stdout",
          "text": [
            "tf.Tensor(0.6038177, shape=(), dtype=float32)\n"
          ]
        },
        {
          "output_type": "stream",
          "name": "stderr",
          "text": [
            "100%|██████████| 9/9 [00:04<00:00,  1.89it/s]\n",
            "100%|██████████| 20/20 [00:15<00:00,  1.28it/s]\n"
          ]
        },
        {
          "output_type": "stream",
          "name": "stdout",
          "text": [
            "tf.Tensor(0.6013494, shape=(), dtype=float32)\n"
          ]
        },
        {
          "output_type": "stream",
          "name": "stderr",
          "text": [
            "100%|██████████| 9/9 [00:04<00:00,  1.88it/s]\n",
            "100%|██████████| 20/20 [00:15<00:00,  1.30it/s]\n"
          ]
        },
        {
          "output_type": "stream",
          "name": "stdout",
          "text": [
            "tf.Tensor(0.59907424, shape=(), dtype=float32)\n"
          ]
        },
        {
          "output_type": "stream",
          "name": "stderr",
          "text": [
            "100%|██████████| 9/9 [00:04<00:00,  1.90it/s]\n",
            "100%|██████████| 20/20 [00:15<00:00,  1.33it/s]\n"
          ]
        },
        {
          "output_type": "stream",
          "name": "stdout",
          "text": [
            "tf.Tensor(0.599159, shape=(), dtype=float32)\n"
          ]
        },
        {
          "output_type": "stream",
          "name": "stderr",
          "text": [
            "100%|██████████| 19/19 [00:10<00:00,  1.90it/s]\n",
            "100%|██████████| 20/20 [00:15<00:00,  1.32it/s]\n"
          ]
        },
        {
          "output_type": "stream",
          "name": "stdout",
          "text": [
            "tf.Tensor(0.6008038, shape=(), dtype=float32)\n"
          ]
        },
        {
          "output_type": "stream",
          "name": "stderr",
          "text": [
            "100%|██████████| 19/19 [00:10<00:00,  1.89it/s]\n",
            "100%|██████████| 20/20 [00:15<00:00,  1.28it/s]\n"
          ]
        },
        {
          "output_type": "stream",
          "name": "stdout",
          "text": [
            "tf.Tensor(0.60411555, shape=(), dtype=float32)\n"
          ]
        },
        {
          "output_type": "stream",
          "name": "stderr",
          "text": [
            "100%|██████████| 19/19 [00:10<00:00,  1.89it/s]\n",
            "100%|██████████| 20/20 [00:15<00:00,  1.31it/s]\n"
          ]
        },
        {
          "output_type": "stream",
          "name": "stdout",
          "text": [
            "tf.Tensor(0.60741895, shape=(), dtype=float32)\n"
          ]
        },
        {
          "output_type": "stream",
          "name": "stderr",
          "text": [
            "100%|██████████| 38/38 [00:20<00:00,  1.89it/s]\n",
            "100%|██████████| 20/20 [00:15<00:00,  1.29it/s]\n"
          ]
        },
        {
          "output_type": "stream",
          "name": "stdout",
          "text": [
            "tf.Tensor(0.6143768, shape=(), dtype=float32)\n"
          ]
        },
        {
          "output_type": "stream",
          "name": "stderr",
          "text": [
            "100%|██████████| 58/58 [00:30<00:00,  1.90it/s]\n",
            "100%|██████████| 20/20 [00:15<00:00,  1.31it/s]\n"
          ]
        },
        {
          "output_type": "stream",
          "name": "stdout",
          "text": [
            "tf.Tensor(0.6169127, shape=(), dtype=float32)\n",
            "Epoch 28\n"
          ]
        },
        {
          "output_type": "stream",
          "name": "stderr",
          "text": [
            "100%|██████████| 9/9 [00:04<00:00,  1.87it/s]\n",
            "100%|██████████| 20/20 [00:15<00:00,  1.28it/s]\n"
          ]
        },
        {
          "output_type": "stream",
          "name": "stdout",
          "text": [
            "tf.Tensor(0.6104059, shape=(), dtype=float32)\n"
          ]
        },
        {
          "output_type": "stream",
          "name": "stderr",
          "text": [
            "100%|██████████| 9/9 [00:04<00:00,  1.89it/s]\n",
            "100%|██████████| 20/20 [00:15<00:00,  1.31it/s]\n"
          ]
        },
        {
          "output_type": "stream",
          "name": "stdout",
          "text": [
            "tf.Tensor(0.609518, shape=(), dtype=float32)\n"
          ]
        },
        {
          "output_type": "stream",
          "name": "stderr",
          "text": [
            "100%|██████████| 9/9 [00:04<00:00,  1.89it/s]\n",
            "100%|██████████| 20/20 [00:15<00:00,  1.29it/s]\n"
          ]
        },
        {
          "output_type": "stream",
          "name": "stdout",
          "text": [
            "tf.Tensor(0.6081719, shape=(), dtype=float32)\n"
          ]
        },
        {
          "output_type": "stream",
          "name": "stderr",
          "text": [
            "100%|██████████| 9/9 [00:04<00:00,  1.88it/s]\n",
            "100%|██████████| 20/20 [00:15<00:00,  1.31it/s]\n"
          ]
        },
        {
          "output_type": "stream",
          "name": "stdout",
          "text": [
            "tf.Tensor(0.60730624, shape=(), dtype=float32)\n"
          ]
        },
        {
          "output_type": "stream",
          "name": "stderr",
          "text": [
            "100%|██████████| 19/19 [00:10<00:00,  1.88it/s]\n",
            "100%|██████████| 20/20 [00:15<00:00,  1.29it/s]\n"
          ]
        },
        {
          "output_type": "stream",
          "name": "stdout",
          "text": [
            "tf.Tensor(0.60755336, shape=(), dtype=float32)\n"
          ]
        },
        {
          "output_type": "stream",
          "name": "stderr",
          "text": [
            "100%|██████████| 19/19 [00:10<00:00,  1.89it/s]\n",
            "100%|██████████| 20/20 [00:15<00:00,  1.33it/s]\n"
          ]
        },
        {
          "output_type": "stream",
          "name": "stdout",
          "text": [
            "tf.Tensor(0.61156195, shape=(), dtype=float32)\n"
          ]
        },
        {
          "output_type": "stream",
          "name": "stderr",
          "text": [
            "100%|██████████| 19/19 [00:10<00:00,  1.90it/s]\n",
            "100%|██████████| 20/20 [00:15<00:00,  1.29it/s]\n"
          ]
        },
        {
          "output_type": "stream",
          "name": "stdout",
          "text": [
            "tf.Tensor(0.6153054, shape=(), dtype=float32)\n"
          ]
        },
        {
          "output_type": "stream",
          "name": "stderr",
          "text": [
            "100%|██████████| 38/38 [00:20<00:00,  1.89it/s]\n",
            "100%|██████████| 20/20 [00:15<00:00,  1.32it/s]\n"
          ]
        },
        {
          "output_type": "stream",
          "name": "stdout",
          "text": [
            "tf.Tensor(0.6177873, shape=(), dtype=float32)\n"
          ]
        },
        {
          "output_type": "stream",
          "name": "stderr",
          "text": [
            "100%|██████████| 58/58 [00:30<00:00,  1.89it/s]\n",
            "100%|██████████| 20/20 [00:15<00:00,  1.29it/s]\n"
          ]
        },
        {
          "output_type": "stream",
          "name": "stdout",
          "text": [
            "tf.Tensor(0.61882097, shape=(), dtype=float32)\n",
            "Epoch 29\n"
          ]
        },
        {
          "output_type": "stream",
          "name": "stderr",
          "text": [
            "100%|██████████| 9/9 [00:04<00:00,  1.89it/s]\n",
            "100%|██████████| 20/20 [00:15<00:00,  1.32it/s]\n"
          ]
        },
        {
          "output_type": "stream",
          "name": "stdout",
          "text": [
            "tf.Tensor(0.6142557, shape=(), dtype=float32)\n"
          ]
        },
        {
          "output_type": "stream",
          "name": "stderr",
          "text": [
            "100%|██████████| 9/9 [00:04<00:00,  1.89it/s]\n",
            "100%|██████████| 20/20 [00:15<00:00,  1.29it/s]\n"
          ]
        },
        {
          "output_type": "stream",
          "name": "stdout",
          "text": [
            "tf.Tensor(0.6119229, shape=(), dtype=float32)\n"
          ]
        },
        {
          "output_type": "stream",
          "name": "stderr",
          "text": [
            "100%|██████████| 9/9 [00:04<00:00,  1.90it/s]\n",
            "100%|██████████| 20/20 [00:15<00:00,  1.31it/s]\n"
          ]
        },
        {
          "output_type": "stream",
          "name": "stdout",
          "text": [
            "tf.Tensor(0.60982543, shape=(), dtype=float32)\n"
          ]
        },
        {
          "output_type": "stream",
          "name": "stderr",
          "text": [
            "100%|██████████| 9/9 [00:04<00:00,  1.88it/s]\n",
            "100%|██████████| 20/20 [00:15<00:00,  1.29it/s]\n"
          ]
        },
        {
          "output_type": "stream",
          "name": "stdout",
          "text": [
            "tf.Tensor(0.6090373, shape=(), dtype=float32)\n"
          ]
        },
        {
          "output_type": "stream",
          "name": "stderr",
          "text": [
            "100%|██████████| 19/19 [00:10<00:00,  1.89it/s]\n",
            "100%|██████████| 20/20 [00:15<00:00,  1.31it/s]\n"
          ]
        },
        {
          "output_type": "stream",
          "name": "stdout",
          "text": [
            "tf.Tensor(0.6087574, shape=(), dtype=float32)\n"
          ]
        },
        {
          "output_type": "stream",
          "name": "stderr",
          "text": [
            "100%|██████████| 19/19 [00:10<00:00,  1.89it/s]\n",
            "100%|██████████| 20/20 [00:15<00:00,  1.29it/s]\n"
          ]
        },
        {
          "output_type": "stream",
          "name": "stdout",
          "text": [
            "tf.Tensor(0.60930175, shape=(), dtype=float32)\n"
          ]
        },
        {
          "output_type": "stream",
          "name": "stderr",
          "text": [
            "100%|██████████| 19/19 [00:10<00:00,  1.89it/s]\n",
            "100%|██████████| 20/20 [00:15<00:00,  1.33it/s]\n"
          ]
        },
        {
          "output_type": "stream",
          "name": "stdout",
          "text": [
            "tf.Tensor(0.6101014, shape=(), dtype=float32)\n"
          ]
        },
        {
          "output_type": "stream",
          "name": "stderr",
          "text": [
            "100%|██████████| 38/38 [00:20<00:00,  1.89it/s]\n",
            "100%|██████████| 20/20 [00:15<00:00,  1.28it/s]\n"
          ]
        },
        {
          "output_type": "stream",
          "name": "stdout",
          "text": [
            "tf.Tensor(0.6134672, shape=(), dtype=float32)\n"
          ]
        },
        {
          "output_type": "stream",
          "name": "stderr",
          "text": [
            "100%|██████████| 58/58 [00:30<00:00,  1.90it/s]\n",
            "100%|██████████| 20/20 [00:15<00:00,  1.32it/s]\n"
          ]
        },
        {
          "output_type": "stream",
          "name": "stdout",
          "text": [
            "tf.Tensor(0.61543983, shape=(), dtype=float32)\n",
            "Epoch 30\n"
          ]
        },
        {
          "output_type": "stream",
          "name": "stderr",
          "text": [
            "100%|██████████| 9/9 [00:04<00:00,  1.89it/s]\n",
            "100%|██████████| 20/20 [00:15<00:00,  1.29it/s]\n"
          ]
        },
        {
          "output_type": "stream",
          "name": "stdout",
          "text": [
            "tf.Tensor(0.61127436, shape=(), dtype=float32)\n"
          ]
        },
        {
          "output_type": "stream",
          "name": "stderr",
          "text": [
            "100%|██████████| 9/9 [00:04<00:00,  1.89it/s]\n",
            "100%|██████████| 20/20 [00:15<00:00,  1.32it/s]\n"
          ]
        },
        {
          "output_type": "stream",
          "name": "stdout",
          "text": [
            "tf.Tensor(0.6088863, shape=(), dtype=float32)\n"
          ]
        },
        {
          "output_type": "stream",
          "name": "stderr",
          "text": [
            "100%|██████████| 9/9 [00:04<00:00,  1.89it/s]\n",
            "100%|██████████| 20/20 [00:15<00:00,  1.28it/s]\n"
          ]
        },
        {
          "output_type": "stream",
          "name": "stdout",
          "text": [
            "tf.Tensor(0.60604227, shape=(), dtype=float32)\n"
          ]
        },
        {
          "output_type": "stream",
          "name": "stderr",
          "text": [
            "100%|██████████| 9/9 [00:04<00:00,  1.90it/s]\n",
            "100%|██████████| 20/20 [00:15<00:00,  1.32it/s]\n"
          ]
        },
        {
          "output_type": "stream",
          "name": "stdout",
          "text": [
            "tf.Tensor(0.60460055, shape=(), dtype=float32)\n"
          ]
        },
        {
          "output_type": "stream",
          "name": "stderr",
          "text": [
            "100%|██████████| 19/19 [00:10<00:00,  1.89it/s]\n",
            "100%|██████████| 20/20 [00:15<00:00,  1.29it/s]\n"
          ]
        },
        {
          "output_type": "stream",
          "name": "stdout",
          "text": [
            "tf.Tensor(0.60451144, shape=(), dtype=float32)\n"
          ]
        },
        {
          "output_type": "stream",
          "name": "stderr",
          "text": [
            "100%|██████████| 19/19 [00:10<00:00,  1.89it/s]\n",
            "100%|██████████| 20/20 [00:15<00:00,  1.32it/s]\n"
          ]
        },
        {
          "output_type": "stream",
          "name": "stdout",
          "text": [
            "tf.Tensor(0.60793597, shape=(), dtype=float32)\n"
          ]
        },
        {
          "output_type": "stream",
          "name": "stderr",
          "text": [
            "100%|██████████| 19/19 [00:10<00:00,  1.89it/s]\n",
            "100%|██████████| 20/20 [00:15<00:00,  1.29it/s]\n"
          ]
        },
        {
          "output_type": "stream",
          "name": "stdout",
          "text": [
            "tf.Tensor(0.6115114, shape=(), dtype=float32)\n"
          ]
        },
        {
          "output_type": "stream",
          "name": "stderr",
          "text": [
            "100%|██████████| 38/38 [00:20<00:00,  1.89it/s]\n",
            "100%|██████████| 20/20 [00:15<00:00,  1.32it/s]\n"
          ]
        },
        {
          "output_type": "stream",
          "name": "stdout",
          "text": [
            "tf.Tensor(0.61407995, shape=(), dtype=float32)\n"
          ]
        },
        {
          "output_type": "stream",
          "name": "stderr",
          "text": [
            "100%|██████████| 58/58 [00:30<00:00,  1.89it/s]\n",
            "100%|██████████| 20/20 [00:15<00:00,  1.28it/s]\n"
          ]
        },
        {
          "output_type": "stream",
          "name": "stdout",
          "text": [
            "tf.Tensor(0.61489815, shape=(), dtype=float32)\n",
            "Epoch 31\n"
          ]
        },
        {
          "output_type": "stream",
          "name": "stderr",
          "text": [
            "100%|██████████| 9/9 [00:04<00:00,  1.89it/s]\n",
            "100%|██████████| 20/20 [00:15<00:00,  1.32it/s]\n"
          ]
        },
        {
          "output_type": "stream",
          "name": "stdout",
          "text": [
            "tf.Tensor(0.6103894, shape=(), dtype=float32)\n"
          ]
        },
        {
          "output_type": "stream",
          "name": "stderr",
          "text": [
            "100%|██████████| 9/9 [00:04<00:00,  1.88it/s]\n",
            "100%|██████████| 20/20 [00:15<00:00,  1.27it/s]\n"
          ]
        },
        {
          "output_type": "stream",
          "name": "stdout",
          "text": [
            "tf.Tensor(0.6090318, shape=(), dtype=float32)\n"
          ]
        },
        {
          "output_type": "stream",
          "name": "stderr",
          "text": [
            "100%|██████████| 9/9 [00:04<00:00,  1.88it/s]\n",
            "100%|██████████| 20/20 [00:15<00:00,  1.32it/s]\n"
          ]
        },
        {
          "output_type": "stream",
          "name": "stdout",
          "text": [
            "tf.Tensor(0.6078249, shape=(), dtype=float32)\n"
          ]
        },
        {
          "output_type": "stream",
          "name": "stderr",
          "text": [
            "100%|██████████| 9/9 [00:04<00:00,  1.88it/s]\n",
            "100%|██████████| 20/20 [00:15<00:00,  1.29it/s]\n"
          ]
        },
        {
          "output_type": "stream",
          "name": "stdout",
          "text": [
            "tf.Tensor(0.60835785, shape=(), dtype=float32)\n"
          ]
        },
        {
          "output_type": "stream",
          "name": "stderr",
          "text": [
            "100%|██████████| 19/19 [00:10<00:00,  1.88it/s]\n",
            "100%|██████████| 20/20 [00:15<00:00,  1.31it/s]\n"
          ]
        },
        {
          "output_type": "stream",
          "name": "stdout",
          "text": [
            "tf.Tensor(0.61060005, shape=(), dtype=float32)\n"
          ]
        },
        {
          "output_type": "stream",
          "name": "stderr",
          "text": [
            "100%|██████████| 19/19 [00:10<00:00,  1.90it/s]\n",
            "100%|██████████| 20/20 [00:15<00:00,  1.30it/s]\n"
          ]
        },
        {
          "output_type": "stream",
          "name": "stdout",
          "text": [
            "tf.Tensor(0.61369807, shape=(), dtype=float32)\n"
          ]
        },
        {
          "output_type": "stream",
          "name": "stderr",
          "text": [
            "100%|██████████| 19/19 [00:10<00:00,  1.89it/s]\n",
            "100%|██████████| 20/20 [00:15<00:00,  1.31it/s]\n"
          ]
        },
        {
          "output_type": "stream",
          "name": "stdout",
          "text": [
            "tf.Tensor(0.61442167, shape=(), dtype=float32)\n"
          ]
        },
        {
          "output_type": "stream",
          "name": "stderr",
          "text": [
            "100%|██████████| 38/38 [00:20<00:00,  1.89it/s]\n",
            "100%|██████████| 20/20 [00:15<00:00,  1.27it/s]\n"
          ]
        },
        {
          "output_type": "stream",
          "name": "stdout",
          "text": [
            "tf.Tensor(0.6140835, shape=(), dtype=float32)\n"
          ]
        },
        {
          "output_type": "stream",
          "name": "stderr",
          "text": [
            "100%|██████████| 58/58 [00:30<00:00,  1.89it/s]\n",
            "100%|██████████| 20/20 [00:15<00:00,  1.31it/s]\n"
          ]
        },
        {
          "output_type": "stream",
          "name": "stdout",
          "text": [
            "tf.Tensor(0.61390746, shape=(), dtype=float32)\n",
            "Epoch 32\n"
          ]
        },
        {
          "output_type": "stream",
          "name": "stderr",
          "text": [
            "100%|██████████| 9/9 [00:04<00:00,  1.90it/s]\n",
            "100%|██████████| 20/20 [00:15<00:00,  1.29it/s]\n"
          ]
        },
        {
          "output_type": "stream",
          "name": "stdout",
          "text": [
            "tf.Tensor(0.6118037, shape=(), dtype=float32)\n"
          ]
        },
        {
          "output_type": "stream",
          "name": "stderr",
          "text": [
            "100%|██████████| 9/9 [00:04<00:00,  1.88it/s]\n",
            "100%|██████████| 20/20 [00:15<00:00,  1.30it/s]\n"
          ]
        },
        {
          "output_type": "stream",
          "name": "stdout",
          "text": [
            "tf.Tensor(0.6118845, shape=(), dtype=float32)\n"
          ]
        },
        {
          "output_type": "stream",
          "name": "stderr",
          "text": [
            "100%|██████████| 9/9 [00:04<00:00,  1.86it/s]\n",
            "100%|██████████| 20/20 [00:15<00:00,  1.29it/s]\n"
          ]
        },
        {
          "output_type": "stream",
          "name": "stdout",
          "text": [
            "tf.Tensor(0.61081034, shape=(), dtype=float32)\n"
          ]
        },
        {
          "output_type": "stream",
          "name": "stderr",
          "text": [
            "100%|██████████| 9/9 [00:04<00:00,  1.88it/s]\n",
            "100%|██████████| 20/20 [00:15<00:00,  1.30it/s]\n"
          ]
        },
        {
          "output_type": "stream",
          "name": "stdout",
          "text": [
            "tf.Tensor(0.61039716, shape=(), dtype=float32)\n"
          ]
        },
        {
          "output_type": "stream",
          "name": "stderr",
          "text": [
            "100%|██████████| 19/19 [00:10<00:00,  1.88it/s]\n",
            "100%|██████████| 20/20 [00:15<00:00,  1.27it/s]\n"
          ]
        },
        {
          "output_type": "stream",
          "name": "stdout",
          "text": [
            "tf.Tensor(0.6103532, shape=(), dtype=float32)\n"
          ]
        },
        {
          "output_type": "stream",
          "name": "stderr",
          "text": [
            "100%|██████████| 19/19 [00:10<00:00,  1.88it/s]\n",
            "100%|██████████| 20/20 [00:15<00:00,  1.29it/s]\n"
          ]
        },
        {
          "output_type": "stream",
          "name": "stdout",
          "text": [
            "tf.Tensor(0.61214983, shape=(), dtype=float32)\n"
          ]
        },
        {
          "output_type": "stream",
          "name": "stderr",
          "text": [
            "100%|██████████| 19/19 [00:10<00:00,  1.89it/s]\n",
            "100%|██████████| 20/20 [00:15<00:00,  1.30it/s]\n"
          ]
        },
        {
          "output_type": "stream",
          "name": "stdout",
          "text": [
            "tf.Tensor(0.61307746, shape=(), dtype=float32)\n"
          ]
        },
        {
          "output_type": "stream",
          "name": "stderr",
          "text": [
            "100%|██████████| 38/38 [00:20<00:00,  1.89it/s]\n",
            "100%|██████████| 20/20 [00:15<00:00,  1.26it/s]\n"
          ]
        },
        {
          "output_type": "stream",
          "name": "stdout",
          "text": [
            "tf.Tensor(0.61285746, shape=(), dtype=float32)\n"
          ]
        },
        {
          "output_type": "stream",
          "name": "stderr",
          "text": [
            "100%|██████████| 58/58 [00:31<00:00,  1.85it/s]\n",
            "100%|██████████| 20/20 [00:15<00:00,  1.28it/s]\n"
          ]
        },
        {
          "output_type": "stream",
          "name": "stdout",
          "text": [
            "tf.Tensor(0.6112304, shape=(), dtype=float32)\n",
            "Epoch 33\n"
          ]
        },
        {
          "output_type": "stream",
          "name": "stderr",
          "text": [
            "100%|██████████| 9/9 [00:04<00:00,  1.85it/s]\n",
            "100%|██████████| 20/20 [00:15<00:00,  1.27it/s]\n"
          ]
        },
        {
          "output_type": "stream",
          "name": "stdout",
          "text": [
            "tf.Tensor(0.6053287, shape=(), dtype=float32)\n"
          ]
        },
        {
          "output_type": "stream",
          "name": "stderr",
          "text": [
            "100%|██████████| 9/9 [00:04<00:00,  1.87it/s]\n",
            "100%|██████████| 20/20 [00:15<00:00,  1.29it/s]\n"
          ]
        },
        {
          "output_type": "stream",
          "name": "stdout",
          "text": [
            "tf.Tensor(0.6033461, shape=(), dtype=float32)\n"
          ]
        },
        {
          "output_type": "stream",
          "name": "stderr",
          "text": [
            "100%|██████████| 9/9 [00:04<00:00,  1.86it/s]\n",
            "100%|██████████| 20/20 [00:15<00:00,  1.29it/s]\n"
          ]
        },
        {
          "output_type": "stream",
          "name": "stdout",
          "text": [
            "tf.Tensor(0.6018001, shape=(), dtype=float32)\n"
          ]
        },
        {
          "output_type": "stream",
          "name": "stderr",
          "text": [
            "100%|██████████| 9/9 [00:04<00:00,  1.88it/s]\n",
            "100%|██████████| 20/20 [00:15<00:00,  1.28it/s]\n"
          ]
        },
        {
          "output_type": "stream",
          "name": "stdout",
          "text": [
            "tf.Tensor(0.60180986, shape=(), dtype=float32)\n"
          ]
        },
        {
          "output_type": "stream",
          "name": "stderr",
          "text": [
            "100%|██████████| 19/19 [00:10<00:00,  1.89it/s]\n",
            "100%|██████████| 20/20 [00:15<00:00,  1.30it/s]\n"
          ]
        },
        {
          "output_type": "stream",
          "name": "stdout",
          "text": [
            "tf.Tensor(0.6042944, shape=(), dtype=float32)\n"
          ]
        },
        {
          "output_type": "stream",
          "name": "stderr",
          "text": [
            "100%|██████████| 19/19 [00:10<00:00,  1.89it/s]\n",
            "100%|██████████| 20/20 [00:15<00:00,  1.29it/s]\n"
          ]
        },
        {
          "output_type": "stream",
          "name": "stdout",
          "text": [
            "tf.Tensor(0.6088566, shape=(), dtype=float32)\n"
          ]
        },
        {
          "output_type": "stream",
          "name": "stderr",
          "text": [
            "100%|██████████| 19/19 [00:10<00:00,  1.88it/s]\n",
            "100%|██████████| 20/20 [00:15<00:00,  1.30it/s]\n"
          ]
        },
        {
          "output_type": "stream",
          "name": "stdout",
          "text": [
            "tf.Tensor(0.6101931, shape=(), dtype=float32)\n"
          ]
        },
        {
          "output_type": "stream",
          "name": "stderr",
          "text": [
            "100%|██████████| 38/38 [00:20<00:00,  1.89it/s]\n",
            "100%|██████████| 20/20 [00:15<00:00,  1.28it/s]\n"
          ]
        },
        {
          "output_type": "stream",
          "name": "stdout",
          "text": [
            "tf.Tensor(0.6125597, shape=(), dtype=float32)\n"
          ]
        },
        {
          "output_type": "stream",
          "name": "stderr",
          "text": [
            "100%|██████████| 58/58 [00:30<00:00,  1.89it/s]\n",
            "100%|██████████| 20/20 [00:15<00:00,  1.30it/s]\n"
          ]
        },
        {
          "output_type": "stream",
          "name": "stdout",
          "text": [
            "tf.Tensor(0.61250037, shape=(), dtype=float32)\n",
            "Epoch 34\n"
          ]
        },
        {
          "output_type": "stream",
          "name": "stderr",
          "text": [
            "100%|██████████| 9/9 [00:04<00:00,  1.87it/s]\n",
            "100%|██████████| 20/20 [00:15<00:00,  1.28it/s]\n"
          ]
        },
        {
          "output_type": "stream",
          "name": "stdout",
          "text": [
            "tf.Tensor(0.60657024, shape=(), dtype=float32)\n"
          ]
        },
        {
          "output_type": "stream",
          "name": "stderr",
          "text": [
            "100%|██████████| 9/9 [00:04<00:00,  1.87it/s]\n",
            "100%|██████████| 20/20 [00:15<00:00,  1.30it/s]\n"
          ]
        },
        {
          "output_type": "stream",
          "name": "stdout",
          "text": [
            "tf.Tensor(0.6040618, shape=(), dtype=float32)\n"
          ]
        },
        {
          "output_type": "stream",
          "name": "stderr",
          "text": [
            "100%|██████████| 9/9 [00:04<00:00,  1.89it/s]\n",
            "100%|██████████| 20/20 [00:15<00:00,  1.30it/s]\n"
          ]
        },
        {
          "output_type": "stream",
          "name": "stdout",
          "text": [
            "tf.Tensor(0.60218555, shape=(), dtype=float32)\n"
          ]
        },
        {
          "output_type": "stream",
          "name": "stderr",
          "text": [
            "100%|██████████| 9/9 [00:04<00:00,  1.88it/s]\n",
            "100%|██████████| 20/20 [00:15<00:00,  1.28it/s]\n"
          ]
        },
        {
          "output_type": "stream",
          "name": "stdout",
          "text": [
            "tf.Tensor(0.60261554, shape=(), dtype=float32)\n"
          ]
        },
        {
          "output_type": "stream",
          "name": "stderr",
          "text": [
            "100%|██████████| 19/19 [00:10<00:00,  1.89it/s]\n",
            "100%|██████████| 20/20 [00:15<00:00,  1.32it/s]\n"
          ]
        },
        {
          "output_type": "stream",
          "name": "stdout",
          "text": [
            "tf.Tensor(0.6054314, shape=(), dtype=float32)\n"
          ]
        },
        {
          "output_type": "stream",
          "name": "stderr",
          "text": [
            "100%|██████████| 19/19 [00:10<00:00,  1.88it/s]\n",
            "100%|██████████| 20/20 [00:15<00:00,  1.30it/s]\n"
          ]
        },
        {
          "output_type": "stream",
          "name": "stdout",
          "text": [
            "tf.Tensor(0.6139228, shape=(), dtype=float32)\n"
          ]
        },
        {
          "output_type": "stream",
          "name": "stderr",
          "text": [
            "100%|██████████| 19/19 [00:10<00:00,  1.89it/s]\n",
            "100%|██████████| 20/20 [00:15<00:00,  1.31it/s]\n"
          ]
        },
        {
          "output_type": "stream",
          "name": "stdout",
          "text": [
            "tf.Tensor(0.617882, shape=(), dtype=float32)\n"
          ]
        },
        {
          "output_type": "stream",
          "name": "stderr",
          "text": [
            "100%|██████████| 38/38 [00:20<00:00,  1.89it/s]\n",
            "100%|██████████| 20/20 [00:15<00:00,  1.30it/s]\n"
          ]
        },
        {
          "output_type": "stream",
          "name": "stdout",
          "text": [
            "tf.Tensor(0.61682045, shape=(), dtype=float32)\n"
          ]
        },
        {
          "output_type": "stream",
          "name": "stderr",
          "text": [
            "100%|██████████| 58/58 [00:30<00:00,  1.89it/s]\n",
            "100%|██████████| 20/20 [00:15<00:00,  1.29it/s]\n"
          ]
        },
        {
          "output_type": "stream",
          "name": "stdout",
          "text": [
            "tf.Tensor(0.61422634, shape=(), dtype=float32)\n"
          ]
        }
      ]
    },
    {
      "cell_type": "markdown",
      "source": [
        "Running Average"
      ],
      "metadata": {
        "id": "SifwnozP1odi"
      }
    },
    {
      "cell_type": "code",
      "source": [
        "weights = [(institutions_t[i+1]-institutions_t[i])/80 for i in range(9)]\n",
        "weight_list=[0 for i in range(9)]\n",
        "model1 = model(input_shape = (240,240,4))\n",
        "model1.compile(optimizer=tf.keras.optimizers.Adam(learning_rate=0.001), loss=dice_log)\n",
        "\n",
        "replay_factor = 0.5\n",
        "EPOCHS = 34\n",
        "BATCH_SIZE=64\n",
        "scores_ebr_2_e1 = []\n",
        "average_running = 0\n",
        "next_weights = 0\n",
        "import gc\n",
        "from tqdm import tqdm\n",
        "with tf.device(\"GPU:0\"):\n",
        "  for epoch in range(EPOCHS):\n",
        "    print(\"Epoch \"+str(epoch+1))\n",
        "    for ins in range(9):\n",
        "      length = len(X_train[155*institutions_t[ins]:155*institutions_t[ins+1]])\n",
        "      for iteration in tqdm(range(length//BATCH_SIZE)):\n",
        "        batch_indices = [random.randrange(0,length) for i in range(BATCH_SIZE)]\n",
        "        model1.train_on_batch((X_train[155*institutions_t[ins]:155*institutions_t[ins+1]][batch_indices])/maximum,(y_train[155*institutions_t[ins]:155*institutions_t[ins+1]][batch_indices])/4)\n",
        "\n",
        "      current_weights=model1.get_weights()\n",
        "      if epoch == 0 and ins == 0:\n",
        "        average_running=current_weights\n",
        "      next_weights =  fl_average_givenweights([current_weights,average_running],[1-replay_factor,replay_factor])\n",
        "      average_running = fl_average_givenweights([current_weights,average_running],[2,7])\n",
        "      model1.set_weights(next_weights)\n",
        "\n",
        "      result = np.empty((3100,240,240,1),dtype='float32')\n",
        "      gc.collect()\n",
        "      for i in tqdm(range(20)):\n",
        "        result[i*155:(i+1)*155]=model1.predict(X_valid[i*155:(i+1)*155]/maximum)\n",
        "        gc.collect()\n",
        "      dice_score = dice_coef(y_valid/4,result)\n",
        "      scores_ebr_2_e1.append(dice_score)\n",
        "      print(dice_score)\n",
        "      gc.collect()\n",
        "\n",
        "np.save(\"drive/MyDrive/BraTS/scores_ebr_2_e1\",np.array(scores_ebr_2_e1))"
      ],
      "metadata": {
        "id": "XZWrmjccFLrg"
      },
      "execution_count": null,
      "outputs": []
    }
  ]
}